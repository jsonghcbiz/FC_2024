{
 "cells": [
  {
   "cell_type": "markdown",
   "metadata": {},
   "source": [
    "### BallTree와 Haversine"
   ]
  },
  {
   "cell_type": "code",
   "execution_count": 1,
   "metadata": {},
   "outputs": [],
   "source": [
    "import pandas as pd\n",
    "import numpy as np\n",
    "from sklearn.neighbors import BallTree"
   ]
  },
  {
   "cell_type": "code",
   "execution_count": 2,
   "metadata": {},
   "outputs": [
    {
     "name": "stderr",
     "output_type": "stream",
     "text": [
      "/tmp/ipykernel_523538/1278040586.py:4: DtypeWarning: Columns (16,17,36) have mixed types. Specify dtype option on import or set low_memory=False.\n",
      "  dt = pd.read_csv(train_path)\n"
     ]
    }
   ],
   "source": [
    "# 필요한 데이터를 load 하겠습니다. 경로는 환경에 맞게 지정해주면 됩니다.\n",
    "train_path = '/data/ephemeral/home/train.csv'\n",
    "test_path  = '/data/ephemeral/home/test.csv'\n",
    "dt = pd.read_csv(train_path)\n",
    "dt_test = pd.read_csv(test_path)\n",
    "\n",
    "address_path = '/data/ephemeral/home/address_data.csv'\n",
    "dt_addr = pd.read_csv(address_path)\n",
    "\n",
    "bus_path = '/data/ephemeral/home/bus_feature.csv'\n",
    "subway_path = '/data/ephemeral/home/subway_feature.csv'\n",
    "dt_bus = pd.read_csv(bus_path)\n",
    "dt_subway = pd.read_csv(subway_path)"
   ]
  },
  {
   "cell_type": "code",
   "execution_count": 3,
   "metadata": {},
   "outputs": [],
   "source": [
    "# train/test 구분을 위한 칼럼을 하나 만들어 줍니다.\n",
    "dt['is_test'] = 0\n",
    "dt_test['is_test'] = 1\n",
    "concat = pd.concat([dt, dt_test])     # 하나의 데이터로 만들어줍니다."
   ]
  },
  {
   "cell_type": "code",
   "execution_count": 4,
   "metadata": {},
   "outputs": [
    {
     "data": {
      "text/html": [
       "<div>\n",
       "<style scoped>\n",
       "    .dataframe tbody tr th:only-of-type {\n",
       "        vertical-align: middle;\n",
       "    }\n",
       "\n",
       "    .dataframe tbody tr th {\n",
       "        vertical-align: top;\n",
       "    }\n",
       "\n",
       "    .dataframe thead th {\n",
       "        text-align: right;\n",
       "    }\n",
       "</style>\n",
       "<table border=\"1\" class=\"dataframe\">\n",
       "  <thead>\n",
       "    <tr style=\"text-align: right;\">\n",
       "      <th></th>\n",
       "      <th>좌표X</th>\n",
       "      <th>좌표Y</th>\n",
       "      <th>주소</th>\n",
       "    </tr>\n",
       "  </thead>\n",
       "  <tbody>\n",
       "    <tr>\n",
       "      <th>0</th>\n",
       "      <td>127.05721</td>\n",
       "      <td>37.476763</td>\n",
       "      <td>서울특별시 강남구 개포동 언주로 3</td>\n",
       "    </tr>\n",
       "    <tr>\n",
       "      <th>1</th>\n",
       "      <td>127.05721</td>\n",
       "      <td>37.476763</td>\n",
       "      <td>서울특별시 강남구 개포동 언주로 3</td>\n",
       "    </tr>\n",
       "  </tbody>\n",
       "</table>\n",
       "</div>"
      ],
      "text/plain": [
       "         좌표X        좌표Y                   주소\n",
       "0  127.05721  37.476763  서울특별시 강남구 개포동 언주로 3\n",
       "1  127.05721  37.476763  서울특별시 강남구 개포동 언주로 3"
      ]
     },
     "metadata": {},
     "output_type": "display_data"
    },
    {
     "data": {
      "text/html": [
       "<div>\n",
       "<style scoped>\n",
       "    .dataframe tbody tr th:only-of-type {\n",
       "        vertical-align: middle;\n",
       "    }\n",
       "\n",
       "    .dataframe tbody tr th {\n",
       "        vertical-align: top;\n",
       "    }\n",
       "\n",
       "    .dataframe thead th {\n",
       "        text-align: right;\n",
       "    }\n",
       "</style>\n",
       "<table border=\"1\" class=\"dataframe\">\n",
       "  <thead>\n",
       "    <tr style=\"text-align: right;\">\n",
       "      <th></th>\n",
       "      <th>좌표X</th>\n",
       "      <th>좌표Y</th>\n",
       "      <th>주소</th>\n",
       "    </tr>\n",
       "  </thead>\n",
       "  <tbody>\n",
       "    <tr>\n",
       "      <th>1128092</th>\n",
       "      <td>127.063356</td>\n",
       "      <td>37.501358</td>\n",
       "      <td>서울특별시 중랑구 신내동 신내역로1길 85</td>\n",
       "    </tr>\n",
       "    <tr>\n",
       "      <th>1128093</th>\n",
       "      <td>127.063356</td>\n",
       "      <td>37.501358</td>\n",
       "      <td>서울특별시 중랑구 신내동 신내역로1길 85</td>\n",
       "    </tr>\n",
       "  </tbody>\n",
       "</table>\n",
       "</div>"
      ],
      "text/plain": [
       "                좌표X        좌표Y                       주소\n",
       "1128092  127.063356  37.501358  서울특별시 중랑구 신내동 신내역로1길 85\n",
       "1128093  127.063356  37.501358  서울특별시 중랑구 신내동 신내역로1길 85"
      ]
     },
     "metadata": {},
     "output_type": "display_data"
    }
   ],
   "source": [
    "dt_addr_selected = dt_addr.drop(axis=1, columns=['시군구', '번지', '도로명'])\n",
    "display(dt_addr_selected.head(2))\n",
    "display(dt_addr_selected.tail(2))"
   ]
  },
  {
   "cell_type": "code",
   "execution_count": 5,
   "metadata": {},
   "outputs": [
    {
     "data": {
      "text/plain": [
       "Int64Index([   0,    1,    2,    3,    4,    5,    6,    7,    8,    9,\n",
       "            ...\n",
       "            9262, 9263, 9264, 9265, 9266, 9267, 9268, 9269, 9270, 9271],\n",
       "           dtype='int64', length=1128094)"
      ]
     },
     "metadata": {},
     "output_type": "display_data"
    },
    {
     "data": {
      "text/plain": [
       "RangeIndex(start=0, stop=1128094, step=1)"
      ]
     },
     "metadata": {},
     "output_type": "display_data"
    },
    {
     "data": {
      "text/plain": [
       "Int64Index([   0,    1,    2,    3,    4,    5,    6,    7,    8,    9,\n",
       "            ...\n",
       "            9262, 9263, 9264, 9265, 9266, 9267, 9268, 9269, 9270, 9271],\n",
       "           dtype='int64', length=1128094)"
      ]
     },
     "metadata": {},
     "output_type": "display_data"
    },
    {
     "data": {
      "text/plain": [
       "Int64Index([   0,    1,    2,    3,    4,    5,    6,    7,    8,    9,\n",
       "            ...\n",
       "            9262, 9263, 9264, 9265, 9266, 9267, 9268, 9269, 9270, 9271],\n",
       "           dtype='int64', length=1128094)"
      ]
     },
     "metadata": {},
     "output_type": "display_data"
    }
   ],
   "source": [
    "display(concat.index)\n",
    "display(dt_addr_selected.index)\n",
    "dt_addr_selected.index = concat.index\n",
    "display(concat.index)\n",
    "display(dt_addr_selected.index)"
   ]
  },
  {
   "cell_type": "code",
   "execution_count": 6,
   "metadata": {},
   "outputs": [
    {
     "data": {
      "text/html": [
       "<div>\n",
       "<style scoped>\n",
       "    .dataframe tbody tr th:only-of-type {\n",
       "        vertical-align: middle;\n",
       "    }\n",
       "\n",
       "    .dataframe tbody tr th {\n",
       "        vertical-align: top;\n",
       "    }\n",
       "\n",
       "    .dataframe thead th {\n",
       "        text-align: right;\n",
       "    }\n",
       "</style>\n",
       "<table border=\"1\" class=\"dataframe\">\n",
       "  <thead>\n",
       "    <tr style=\"text-align: right;\">\n",
       "      <th></th>\n",
       "      <th>시군구</th>\n",
       "      <th>번지</th>\n",
       "      <th>본번</th>\n",
       "      <th>도로명</th>\n",
       "      <th>좌표X</th>\n",
       "      <th>좌표Y</th>\n",
       "    </tr>\n",
       "  </thead>\n",
       "  <tbody>\n",
       "    <tr>\n",
       "      <th>975</th>\n",
       "      <td>서울특별시 강남구 개포동</td>\n",
       "      <td>189</td>\n",
       "      <td>189.0</td>\n",
       "      <td>삼성로 14</td>\n",
       "      <td>NaN</td>\n",
       "      <td>NaN</td>\n",
       "    </tr>\n",
       "  </tbody>\n",
       "</table>\n",
       "</div>"
      ],
      "text/plain": [
       "               시군구   번지     본번     도로명  좌표X  좌표Y\n",
       "975  서울특별시 강남구 개포동  189  189.0  삼성로 14  NaN  NaN"
      ]
     },
     "metadata": {},
     "output_type": "display_data"
    },
    {
     "data": {
      "text/html": [
       "<div>\n",
       "<style scoped>\n",
       "    .dataframe tbody tr th:only-of-type {\n",
       "        vertical-align: middle;\n",
       "    }\n",
       "\n",
       "    .dataframe tbody tr th {\n",
       "        vertical-align: top;\n",
       "    }\n",
       "\n",
       "    .dataframe thead th {\n",
       "        text-align: right;\n",
       "    }\n",
       "</style>\n",
       "<table border=\"1\" class=\"dataframe\">\n",
       "  <thead>\n",
       "    <tr style=\"text-align: right;\">\n",
       "      <th></th>\n",
       "      <th>좌표X</th>\n",
       "      <th>좌표Y</th>\n",
       "      <th>주소</th>\n",
       "    </tr>\n",
       "  </thead>\n",
       "  <tbody>\n",
       "    <tr>\n",
       "      <th>975</th>\n",
       "      <td>127.063356</td>\n",
       "      <td>37.501358</td>\n",
       "      <td>서울특별시 강남구 개포동 삼성로 14</td>\n",
       "    </tr>\n",
       "  </tbody>\n",
       "</table>\n",
       "</div>"
      ],
      "text/plain": [
       "            좌표X        좌표Y                    주소\n",
       "975  127.063356  37.501358  서울특별시 강남구 개포동 삼성로 14"
      ]
     },
     "metadata": {},
     "output_type": "display_data"
    }
   ],
   "source": [
    "#2개 데이터 프레임값 비교\n",
    "display(concat[['시군구','번지','본번','도로명','좌표X','좌표Y']][975:976])\n",
    "display(dt_addr_selected[975:976])\n",
    "\n",
    "# 컬럼의 비어있는 값을 dt_xy_selected 컬럼 '좌표X','좌표Y' 값으로 채우기\n",
    "concat['좌표X'] = concat['좌표X'].combine_first(dt_addr_selected['좌표X'])\n",
    "concat['좌표Y'] = concat['좌표Y'].combine_first(dt_addr_selected['좌표Y'])"
   ]
  },
  {
   "cell_type": "code",
   "execution_count": 7,
   "metadata": {},
   "outputs": [
    {
     "data": {
      "text/html": [
       "<div>\n",
       "<style scoped>\n",
       "    .dataframe tbody tr th:only-of-type {\n",
       "        vertical-align: middle;\n",
       "    }\n",
       "\n",
       "    .dataframe tbody tr th {\n",
       "        vertical-align: top;\n",
       "    }\n",
       "\n",
       "    .dataframe thead th {\n",
       "        text-align: right;\n",
       "    }\n",
       "</style>\n",
       "<table border=\"1\" class=\"dataframe\">\n",
       "  <thead>\n",
       "    <tr style=\"text-align: right;\">\n",
       "      <th></th>\n",
       "      <th>시군구</th>\n",
       "      <th>번지</th>\n",
       "      <th>본번</th>\n",
       "      <th>도로명</th>\n",
       "      <th>좌표X</th>\n",
       "      <th>좌표Y</th>\n",
       "    </tr>\n",
       "  </thead>\n",
       "  <tbody>\n",
       "    <tr>\n",
       "      <th>970</th>\n",
       "      <td>서울특별시 강남구 대치동</td>\n",
       "      <td>316</td>\n",
       "      <td>316.0</td>\n",
       "      <td>삼성로 212</td>\n",
       "      <td>127.065070</td>\n",
       "      <td>37.497741</td>\n",
       "    </tr>\n",
       "    <tr>\n",
       "      <th>971</th>\n",
       "      <td>서울특별시 강남구 대치동</td>\n",
       "      <td>316</td>\n",
       "      <td>316.0</td>\n",
       "      <td>삼성로 212</td>\n",
       "      <td>127.065070</td>\n",
       "      <td>37.497741</td>\n",
       "    </tr>\n",
       "    <tr>\n",
       "      <th>972</th>\n",
       "      <td>서울특별시 강남구 대치동</td>\n",
       "      <td>316</td>\n",
       "      <td>316.0</td>\n",
       "      <td>삼성로 212</td>\n",
       "      <td>127.065070</td>\n",
       "      <td>37.497741</td>\n",
       "    </tr>\n",
       "    <tr>\n",
       "      <th>973</th>\n",
       "      <td>서울특별시 강남구 대치동</td>\n",
       "      <td>316</td>\n",
       "      <td>316.0</td>\n",
       "      <td>삼성로 212</td>\n",
       "      <td>127.065070</td>\n",
       "      <td>37.497741</td>\n",
       "    </tr>\n",
       "    <tr>\n",
       "      <th>974</th>\n",
       "      <td>서울특별시 강남구 대치동</td>\n",
       "      <td>316</td>\n",
       "      <td>316.0</td>\n",
       "      <td>삼성로 212</td>\n",
       "      <td>127.065070</td>\n",
       "      <td>37.497741</td>\n",
       "    </tr>\n",
       "    <tr>\n",
       "      <th>975</th>\n",
       "      <td>서울특별시 강남구 개포동</td>\n",
       "      <td>189</td>\n",
       "      <td>189.0</td>\n",
       "      <td>삼성로 14</td>\n",
       "      <td>127.063356</td>\n",
       "      <td>37.501358</td>\n",
       "    </tr>\n",
       "  </tbody>\n",
       "</table>\n",
       "</div>"
      ],
      "text/plain": [
       "               시군구   번지     본번      도로명         좌표X        좌표Y\n",
       "970  서울특별시 강남구 대치동  316  316.0  삼성로 212  127.065070  37.497741\n",
       "971  서울특별시 강남구 대치동  316  316.0  삼성로 212  127.065070  37.497741\n",
       "972  서울특별시 강남구 대치동  316  316.0  삼성로 212  127.065070  37.497741\n",
       "973  서울특별시 강남구 대치동  316  316.0  삼성로 212  127.065070  37.497741\n",
       "974  서울특별시 강남구 대치동  316  316.0  삼성로 212  127.065070  37.497741\n",
       "975  서울특별시 강남구 개포동  189  189.0   삼성로 14  127.063356  37.501358"
      ]
     },
     "metadata": {},
     "output_type": "display_data"
    },
    {
     "data": {
      "text/html": [
       "<div>\n",
       "<style scoped>\n",
       "    .dataframe tbody tr th:only-of-type {\n",
       "        vertical-align: middle;\n",
       "    }\n",
       "\n",
       "    .dataframe tbody tr th {\n",
       "        vertical-align: top;\n",
       "    }\n",
       "\n",
       "    .dataframe thead th {\n",
       "        text-align: right;\n",
       "    }\n",
       "</style>\n",
       "<table border=\"1\" class=\"dataframe\">\n",
       "  <thead>\n",
       "    <tr style=\"text-align: right;\">\n",
       "      <th></th>\n",
       "      <th>좌표X</th>\n",
       "      <th>좌표Y</th>\n",
       "      <th>주소</th>\n",
       "    </tr>\n",
       "  </thead>\n",
       "  <tbody>\n",
       "    <tr>\n",
       "      <th>970</th>\n",
       "      <td>127.065070</td>\n",
       "      <td>37.497741</td>\n",
       "      <td>서울특별시 강남구 대치동 삼성로 212</td>\n",
       "    </tr>\n",
       "    <tr>\n",
       "      <th>971</th>\n",
       "      <td>127.065070</td>\n",
       "      <td>37.497741</td>\n",
       "      <td>서울특별시 강남구 대치동 삼성로 212</td>\n",
       "    </tr>\n",
       "    <tr>\n",
       "      <th>972</th>\n",
       "      <td>127.065070</td>\n",
       "      <td>37.497741</td>\n",
       "      <td>서울특별시 강남구 대치동 삼성로 212</td>\n",
       "    </tr>\n",
       "    <tr>\n",
       "      <th>973</th>\n",
       "      <td>127.065070</td>\n",
       "      <td>37.497741</td>\n",
       "      <td>서울특별시 강남구 대치동 삼성로 212</td>\n",
       "    </tr>\n",
       "    <tr>\n",
       "      <th>974</th>\n",
       "      <td>127.065070</td>\n",
       "      <td>37.497741</td>\n",
       "      <td>서울특별시 강남구 대치동 삼성로 212</td>\n",
       "    </tr>\n",
       "    <tr>\n",
       "      <th>975</th>\n",
       "      <td>127.063356</td>\n",
       "      <td>37.501358</td>\n",
       "      <td>서울특별시 강남구 개포동 삼성로 14</td>\n",
       "    </tr>\n",
       "  </tbody>\n",
       "</table>\n",
       "</div>"
      ],
      "text/plain": [
       "            좌표X        좌표Y                     주소\n",
       "970  127.065070  37.497741  서울특별시 강남구 대치동 삼성로 212\n",
       "971  127.065070  37.497741  서울특별시 강남구 대치동 삼성로 212\n",
       "972  127.065070  37.497741  서울특별시 강남구 대치동 삼성로 212\n",
       "973  127.065070  37.497741  서울특별시 강남구 대치동 삼성로 212\n",
       "974  127.065070  37.497741  서울특별시 강남구 대치동 삼성로 212\n",
       "975  127.063356  37.501358   서울특별시 강남구 개포동 삼성로 14"
      ]
     },
     "metadata": {},
     "output_type": "display_data"
    }
   ],
   "source": [
    "display(concat[['시군구','번지','본번','도로명','좌표X','좌표Y']][970:976])\n",
    "display(dt_addr_selected[970:976])"
   ]
  },
  {
   "cell_type": "code",
   "execution_count": 13,
   "metadata": {},
   "outputs": [],
   "source": [
    "# 지하철/버스 데이터프레임의 좌표 배열 생성\n",
    "sub_coords = np.radians(dt_subway[['위도', '경도']].values)\n",
    "bus_coords = np.radians(dt_bus[['Y좌표', 'X좌표']].values)\n",
    "\n",
    "# BallTree 생성 (Haversine 거리 사용)\n",
    "sub_tree = BallTree(sub_coords, metric='haversine')\n",
    "bus_tree = BallTree(bus_coords, metric='haversine')"
   ]
  },
  {
   "cell_type": "code",
   "execution_count": 14,
   "metadata": {},
   "outputs": [],
   "source": [
    "# 검색 반경 설정 (500m)\n",
    "radius = 500 / 6371000  # 지구의 평균 반지름으로 나눠서 라디안으로 변환\n",
    "\n",
    "# 메인 데이터프레임의 좌표 배열 생성\n",
    "main_coords = np.radians(concat[['좌표Y', '좌표X']].values)\n",
    "\n",
    "# 각 위치에 대해 반경 내의 점 검색\n",
    "sub_indices = sub_tree.query_radius(main_coords, r=radius)\n",
    "bus_indices = bus_tree.query_radius(main_coords, r=radius)"
   ]
  },
  {
   "cell_type": "code",
   "execution_count": 15,
   "metadata": {},
   "outputs": [],
   "source": [
    "# 주변에 서브 데이터프레임의 위치가 있는지 여부를 저장할 컬럼 생성\n",
    "concat['지하철여부'] = [len(ind) > 0 for ind in sub_indices]\n",
    "\n",
    "# 주변에 있는 서브 데이터프레임의 위치 개수 저장\n",
    "concat['버스정류장개수'] = [len(ind) for ind in bus_indices]"
   ]
  },
  {
   "cell_type": "code",
   "execution_count": 16,
   "metadata": {},
   "outputs": [
    {
     "name": "stdout",
     "output_type": "stream",
     "text": [
      "             시군구     번지     본번   부번    아파트명  전용면적(㎡)    계약년월  계약일  층  건축년도  \\\n",
      "0  서울특별시 강남구 개포동  658-1  658.0  1.0  개포6차우성    79.97  201712    8  3  1987   \n",
      "1  서울특별시 강남구 개포동  658-1  658.0  1.0  개포6차우성    79.97  201712   22  4  1987   \n",
      "2  서울특별시 강남구 개포동  658-1  658.0  1.0  개포6차우성    54.98  201712   28  5  1987   \n",
      "3  서울특별시 강남구 개포동  658-1  658.0  1.0  개포6차우성    79.97  201801    3  4  1987   \n",
      "4  서울특별시 강남구 개포동  658-1  658.0  1.0  개포6차우성    79.97  201801    8  2  1987   \n",
      "\n",
      "   ...                  단지승인일  사용허가여부 관리비 업로드        좌표X        좌표Y  \\\n",
      "0  ...  2022-11-17 13:00:29.0       Y       N  127.05721  37.476763   \n",
      "1  ...  2022-11-17 13:00:29.0       Y       N  127.05721  37.476763   \n",
      "2  ...  2022-11-17 13:00:29.0       Y       N  127.05721  37.476763   \n",
      "3  ...  2022-11-17 13:00:29.0       Y       N  127.05721  37.476763   \n",
      "4  ...  2022-11-17 13:00:29.0       Y       N  127.05721  37.476763   \n",
      "\n",
      "                   단지신청일    target is_test  지하철여부 버스정류장개수  \n",
      "0  2022-11-17 10:19:06.0  124000.0       0  False      13  \n",
      "1  2022-11-17 10:19:06.0  123500.0       0  False      13  \n",
      "2  2022-11-17 10:19:06.0   91500.0       0  False      13  \n",
      "3  2022-11-17 10:19:06.0  130000.0       0  False      13  \n",
      "4  2022-11-17 10:19:06.0  117000.0       0  False      13  \n",
      "\n",
      "[5 rows x 55 columns]\n"
     ]
    }
   ],
   "source": [
    "print(concat.head())"
   ]
  },
  {
   "cell_type": "code",
   "execution_count": 17,
   "metadata": {},
   "outputs": [],
   "source": [
    "concat[['도로명', '좌표Y', '좌표X', '지하철여부', '버스정류장개수']].to_csv('balltree_haversion.csv', index=False)"
   ]
  }
 ],
 "metadata": {
  "kernelspec": {
   "display_name": "base",
   "language": "python",
   "name": "python3"
  },
  "language_info": {
   "codemirror_mode": {
    "name": "ipython",
    "version": 3
   },
   "file_extension": ".py",
   "mimetype": "text/x-python",
   "name": "python",
   "nbconvert_exporter": "python",
   "pygments_lexer": "ipython3",
   "version": "3.10.13"
  }
 },
 "nbformat": 4,
 "nbformat_minor": 2
}
