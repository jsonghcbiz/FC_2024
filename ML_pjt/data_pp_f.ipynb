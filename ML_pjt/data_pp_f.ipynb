{
 "cells": [
  {
   "cell_type": "markdown",
   "metadata": {},
   "source": [
    "## 전체 기본 환경 설정"
   ]
  },
  {
   "cell_type": "code",
   "execution_count": 1,
   "metadata": {},
   "outputs": [
    {
     "name": "stdout",
     "output_type": "stream",
     "text": [
      "Requirement already satisfied: eli5==0.13.0 in /opt/conda/lib/python3.10/site-packages (0.13.0)\n",
      "Requirement already satisfied: attrs>17.1.0 in /opt/conda/lib/python3.10/site-packages (from eli5==0.13.0) (23.1.0)\n",
      "Requirement already satisfied: jinja2>=3.0.0 in /opt/conda/lib/python3.10/site-packages (from eli5==0.13.0) (3.1.2)\n",
      "Requirement already satisfied: numpy>=1.9.0 in /opt/conda/lib/python3.10/site-packages (from eli5==0.13.0) (1.23.5)\n",
      "Requirement already satisfied: scipy in /opt/conda/lib/python3.10/site-packages (from eli5==0.13.0) (1.11.3)\n",
      "Requirement already satisfied: six in /opt/conda/lib/python3.10/site-packages (from eli5==0.13.0) (1.16.0)\n",
      "Requirement already satisfied: scikit-learn>=0.20 in /opt/conda/lib/python3.10/site-packages (from eli5==0.13.0) (1.4.2)\n",
      "Requirement already satisfied: graphviz in /opt/conda/lib/python3.10/site-packages (from eli5==0.13.0) (0.20.1)\n",
      "Requirement already satisfied: tabulate>=0.7.7 in /opt/conda/lib/python3.10/site-packages (from eli5==0.13.0) (0.9.0)\n",
      "Requirement already satisfied: MarkupSafe>=2.0 in /opt/conda/lib/python3.10/site-packages (from jinja2>=3.0.0->eli5==0.13.0) (2.1.1)\n",
      "Requirement already satisfied: joblib>=1.2.0 in /opt/conda/lib/python3.10/site-packages (from scikit-learn>=0.20->eli5==0.13.0) (1.3.2)\n",
      "Requirement already satisfied: threadpoolctl>=2.0.0 in /opt/conda/lib/python3.10/site-packages (from scikit-learn>=0.20->eli5==0.13.0) (3.2.0)\n",
      "\u001b[33mWARNING: Running pip as the 'root' user can result in broken permissions and conflicting behaviour with the system package manager. It is recommended to use a virtual environment instead: https://pip.pypa.io/warnings/venv\u001b[0m\u001b[33m\n",
      "\u001b[0mNote: you may need to restart the kernel to use updated packages.\n",
      "Reading package lists... Done\n",
      "Building dependency tree       \n",
      "Reading state information... Done\n",
      "fonts-nanum is already the newest version (20180306-3).\n",
      "0 upgraded, 0 newly installed, 0 to remove and 54 not upgraded.\n"
     ]
    }
   ],
   "source": [
    "%pip install eli5==0.13.0\n",
    "\n",
    "# 한글 폰트 사용을 위한 라이브러리입니다.\n",
    "!apt-get install -y fonts-nanum"
   ]
  },
  {
   "cell_type": "code",
   "execution_count": 2,
   "metadata": {},
   "outputs": [
    {
     "ename": "ImportError",
     "evalue": "cannot import name 'if_delegate_has_method' from 'sklearn.utils.metaestimators' (/opt/conda/lib/python3.10/site-packages/sklearn/utils/metaestimators.py)",
     "output_type": "error",
     "traceback": [
      "\u001b[0;31m---------------------------------------------------------------------------\u001b[0m",
      "\u001b[0;31mImportError\u001b[0m                               Traceback (most recent call last)",
      "Cell \u001b[0;32mIn[2], line 29\u001b[0m\n\u001b[1;32m     25\u001b[0m \u001b[38;5;28;01mfrom\u001b[39;00m \u001b[38;5;21;01msklearn\u001b[39;00m \u001b[38;5;28;01mimport\u001b[39;00m metrics\n\u001b[1;32m     26\u001b[0m \u001b[38;5;28;01mfrom\u001b[39;00m \u001b[38;5;21;01msklearn\u001b[39;00m\u001b[38;5;21;01m.\u001b[39;00m\u001b[38;5;21;01mimpute\u001b[39;00m \u001b[38;5;28;01mimport\u001b[39;00m SimpleImputer\n\u001b[0;32m---> 29\u001b[0m \u001b[38;5;28;01mimport\u001b[39;00m \u001b[38;5;21;01meli5\u001b[39;00m\n\u001b[1;32m     30\u001b[0m \u001b[38;5;28;01mfrom\u001b[39;00m \u001b[38;5;21;01meli5\u001b[39;00m\u001b[38;5;21;01m.\u001b[39;00m\u001b[38;5;21;01msklearn\u001b[39;00m \u001b[38;5;28;01mimport\u001b[39;00m PermutationImportance\n",
      "File \u001b[0;32m/opt/conda/lib/python3.10/site-packages/eli5/__init__.py:13\u001b[0m\n\u001b[1;32m      6\u001b[0m \u001b[38;5;28;01mfrom\u001b[39;00m \u001b[38;5;21;01m.\u001b[39;00m\u001b[38;5;21;01mformatters\u001b[39;00m \u001b[38;5;28;01mimport\u001b[39;00m (\n\u001b[1;32m      7\u001b[0m     format_as_html,\n\u001b[1;32m      8\u001b[0m     format_html_styles,\n\u001b[1;32m      9\u001b[0m     format_as_text,\n\u001b[1;32m     10\u001b[0m     format_as_dict,\n\u001b[1;32m     11\u001b[0m )\n\u001b[1;32m     12\u001b[0m \u001b[38;5;28;01mfrom\u001b[39;00m \u001b[38;5;21;01m.\u001b[39;00m\u001b[38;5;21;01mexplain\u001b[39;00m \u001b[38;5;28;01mimport\u001b[39;00m explain_weights, explain_prediction\n\u001b[0;32m---> 13\u001b[0m \u001b[38;5;28;01mfrom\u001b[39;00m \u001b[38;5;21;01m.\u001b[39;00m\u001b[38;5;21;01msklearn\u001b[39;00m \u001b[38;5;28;01mimport\u001b[39;00m explain_weights_sklearn, explain_prediction_sklearn\n\u001b[1;32m     14\u001b[0m \u001b[38;5;28;01mfrom\u001b[39;00m \u001b[38;5;21;01m.\u001b[39;00m\u001b[38;5;21;01mtransform\u001b[39;00m \u001b[38;5;28;01mimport\u001b[39;00m transform_feature_names\n\u001b[1;32m     17\u001b[0m \u001b[38;5;28;01mtry\u001b[39;00m:\n",
      "File \u001b[0;32m/opt/conda/lib/python3.10/site-packages/eli5/sklearn/__init__.py:3\u001b[0m\n\u001b[1;32m      1\u001b[0m \u001b[38;5;66;03m# -*- coding: utf-8 -*-\u001b[39;00m\n\u001b[1;32m      2\u001b[0m \u001b[38;5;28;01mfrom\u001b[39;00m \u001b[38;5;21;01m__future__\u001b[39;00m \u001b[38;5;28;01mimport\u001b[39;00m absolute_import\n\u001b[0;32m----> 3\u001b[0m \u001b[38;5;28;01mfrom\u001b[39;00m \u001b[38;5;21;01m.\u001b[39;00m\u001b[38;5;21;01mexplain_weights\u001b[39;00m \u001b[38;5;28;01mimport\u001b[39;00m (\n\u001b[1;32m      4\u001b[0m     explain_weights_sklearn,\n\u001b[1;32m      5\u001b[0m     explain_linear_classifier_weights,\n\u001b[1;32m      6\u001b[0m     explain_linear_regressor_weights,\n\u001b[1;32m      7\u001b[0m     explain_rf_feature_importance,\n\u001b[1;32m      8\u001b[0m     explain_decision_tree,\n\u001b[1;32m      9\u001b[0m )\n\u001b[1;32m     10\u001b[0m \u001b[38;5;28;01mfrom\u001b[39;00m \u001b[38;5;21;01m.\u001b[39;00m\u001b[38;5;21;01mexplain_prediction\u001b[39;00m \u001b[38;5;28;01mimport\u001b[39;00m (\n\u001b[1;32m     11\u001b[0m     explain_prediction_sklearn,\n\u001b[1;32m     12\u001b[0m     explain_prediction_linear_classifier,\n\u001b[1;32m     13\u001b[0m     explain_prediction_linear_regressor,\n\u001b[1;32m     14\u001b[0m )\n\u001b[1;32m     15\u001b[0m \u001b[38;5;28;01mfrom\u001b[39;00m \u001b[38;5;21;01m.\u001b[39;00m\u001b[38;5;21;01munhashing\u001b[39;00m \u001b[38;5;28;01mimport\u001b[39;00m (\n\u001b[1;32m     16\u001b[0m     InvertableHashingVectorizer,\n\u001b[1;32m     17\u001b[0m     FeatureUnhasher,\n\u001b[1;32m     18\u001b[0m     invert_hashing_and_fit,\n\u001b[1;32m     19\u001b[0m )\n",
      "File \u001b[0;32m/opt/conda/lib/python3.10/site-packages/eli5/sklearn/explain_weights.py:78\u001b[0m\n\u001b[1;32m     73\u001b[0m \u001b[38;5;28;01mfrom\u001b[39;00m \u001b[38;5;21;01meli5\u001b[39;00m\u001b[38;5;21;01m.\u001b[39;00m\u001b[38;5;21;01mtransform\u001b[39;00m \u001b[38;5;28;01mimport\u001b[39;00m transform_feature_names\n\u001b[1;32m     74\u001b[0m \u001b[38;5;28;01mfrom\u001b[39;00m \u001b[38;5;21;01meli5\u001b[39;00m\u001b[38;5;21;01m.\u001b[39;00m\u001b[38;5;21;01m_feature_importances\u001b[39;00m \u001b[38;5;28;01mimport\u001b[39;00m (\n\u001b[1;32m     75\u001b[0m     get_feature_importances_filtered,\n\u001b[1;32m     76\u001b[0m     get_feature_importance_explanation,\n\u001b[1;32m     77\u001b[0m )\n\u001b[0;32m---> 78\u001b[0m \u001b[38;5;28;01mfrom\u001b[39;00m \u001b[38;5;21;01m.\u001b[39;00m\u001b[38;5;21;01mpermutation_importance\u001b[39;00m \u001b[38;5;28;01mimport\u001b[39;00m PermutationImportance\n\u001b[1;32m     81\u001b[0m LINEAR_CAVEATS \u001b[38;5;241m=\u001b[39m \u001b[38;5;124m\"\"\"\u001b[39m\n\u001b[1;32m     82\u001b[0m \u001b[38;5;124mCaveats:\u001b[39m\n\u001b[1;32m     83\u001b[0m \u001b[38;5;124m1. Be careful with features which are not\u001b[39m\n\u001b[0;32m   (...)\u001b[0m\n\u001b[1;32m     90\u001b[0m \u001b[38;5;124m   classification result for most examples.\u001b[39m\n\u001b[1;32m     91\u001b[0m \u001b[38;5;124m\"\"\"\u001b[39m\u001b[38;5;241m.\u001b[39mlstrip()\n\u001b[1;32m     93\u001b[0m HASHING_CAVEATS \u001b[38;5;241m=\u001b[39m \u001b[38;5;124m\"\"\"\u001b[39m\n\u001b[1;32m     94\u001b[0m \u001b[38;5;124mFeature names are restored from their hashes; this is not 100\u001b[39m\u001b[38;5;124m%\u001b[39m\u001b[38;5;124m precise\u001b[39m\n\u001b[1;32m     95\u001b[0m \u001b[38;5;124mbecause collisions are possible. For known collisions possible feature names\u001b[39m\n\u001b[0;32m   (...)\u001b[0m\n\u001b[1;32m     99\u001b[0m \u001b[38;5;124mthe result is positive.\u001b[39m\n\u001b[1;32m    100\u001b[0m \u001b[38;5;124m\"\"\"\u001b[39m\u001b[38;5;241m.\u001b[39mlstrip()\n",
      "File \u001b[0;32m/opt/conda/lib/python3.10/site-packages/eli5/sklearn/permutation_importance.py:7\u001b[0m\n\u001b[1;32m      5\u001b[0m \u001b[38;5;28;01mimport\u001b[39;00m \u001b[38;5;21;01mnumpy\u001b[39;00m \u001b[38;5;28;01mas\u001b[39;00m \u001b[38;5;21;01mnp\u001b[39;00m\n\u001b[1;32m      6\u001b[0m \u001b[38;5;28;01mfrom\u001b[39;00m \u001b[38;5;21;01msklearn\u001b[39;00m\u001b[38;5;21;01m.\u001b[39;00m\u001b[38;5;21;01mmodel_selection\u001b[39;00m \u001b[38;5;28;01mimport\u001b[39;00m check_cv\n\u001b[0;32m----> 7\u001b[0m \u001b[38;5;28;01mfrom\u001b[39;00m \u001b[38;5;21;01msklearn\u001b[39;00m\u001b[38;5;21;01m.\u001b[39;00m\u001b[38;5;21;01mutils\u001b[39;00m\u001b[38;5;21;01m.\u001b[39;00m\u001b[38;5;21;01mmetaestimators\u001b[39;00m \u001b[38;5;28;01mimport\u001b[39;00m if_delegate_has_method\n\u001b[1;32m      8\u001b[0m \u001b[38;5;28;01mfrom\u001b[39;00m \u001b[38;5;21;01msklearn\u001b[39;00m\u001b[38;5;21;01m.\u001b[39;00m\u001b[38;5;21;01mutils\u001b[39;00m \u001b[38;5;28;01mimport\u001b[39;00m check_array, check_random_state\n\u001b[1;32m      9\u001b[0m \u001b[38;5;28;01mfrom\u001b[39;00m \u001b[38;5;21;01msklearn\u001b[39;00m\u001b[38;5;21;01m.\u001b[39;00m\u001b[38;5;21;01mbase\u001b[39;00m \u001b[38;5;28;01mimport\u001b[39;00m (\n\u001b[1;32m     10\u001b[0m     BaseEstimator,\n\u001b[1;32m     11\u001b[0m     MetaEstimatorMixin,\n\u001b[1;32m     12\u001b[0m     clone,\n\u001b[1;32m     13\u001b[0m     is_classifier\n\u001b[1;32m     14\u001b[0m )\n",
      "\u001b[0;31mImportError\u001b[0m: cannot import name 'if_delegate_has_method' from 'sklearn.utils.metaestimators' (/opt/conda/lib/python3.10/site-packages/sklearn/utils/metaestimators.py)"
     ]
    }
   ],
   "source": [
    "# visualization\n",
    "import matplotlib.pyplot as plt\n",
    "import matplotlib.font_manager as fm\n",
    "fe = fm.FontEntry(\n",
    "    fname=r'/usr/share/fonts/truetype/nanum/NanumGothic.ttf', # ttf 파일이 저장되어 있는 경로\n",
    "    name='NanumBarunGothic')                        # 이 폰트의 원하는 이름 설정\n",
    "fm.fontManager.ttflist.insert(0, fe)              # Matplotlib에 폰트 추가\n",
    "plt.rcParams.update({'font.size': 10, 'font.family': 'NanumBarunGothic'}) # 폰트 설정\n",
    "plt.rc('font', family='NanumBarunGothic')\n",
    "import seaborn as sns\n",
    "\n",
    "# utils\n",
    "import pandas as pd\n",
    "import numpy as np\n",
    "from tqdm import tqdm\n",
    "import pickle\n",
    "import warnings;warnings.filterwarnings('ignore')\n",
    "from scipy import stats\n",
    "\n",
    "# Model\n",
    "from sklearn.preprocessing import LabelEncoder\n",
    "from sklearn.model_selection import train_test_split\n",
    "from sklearn.metrics import mean_squared_error\n",
    "from sklearn.ensemble import RandomForestRegressor\n",
    "from sklearn import metrics\n",
    "from sklearn.impute import SimpleImputer\n",
    "\n",
    "\n",
    "import eli5\n",
    "from eli5.sklearn import PermutationImportance"
   ]
  },
  {
   "cell_type": "markdown",
   "metadata": {},
   "source": [
    "## 데이터 불러오기"
   ]
  },
  {
   "cell_type": "code",
   "execution_count": 3,
   "metadata": {},
   "outputs": [],
   "source": [
    "train = pd.read_csv('/data/ephemeral/home/code/train.csv')\n",
    "test = pd.read_csv('/data/ephemeral/home/code/test.csv')\n",
    "subway = pd.read_csv('/data/ephemeral/home/code/subway_feature.csv')\n",
    "bus = pd.read_csv('/data/ephemeral/home/code/bus_feature.csv')\n",
    "GIS = pd.read_csv('/data/ephemeral/home/code/GIS_output.csv')"
   ]
  },
  {
   "cell_type": "code",
   "execution_count": 4,
   "metadata": {},
   "outputs": [
    {
     "name": "stdout",
     "output_type": "stream",
     "text": [
      "Train data shape :  (1118822, 52) \n",
      "Test data shape :  (9272, 51) \n",
      "Train_GIS data shape :  (695900, 30) \n",
      "Bus data shape :  (12584, 6) \n",
      "Subway data shape :  (768, 5)\n"
     ]
    }
   ],
   "source": [
    "# Train data와 Test data shape\n",
    "print('Train data shape : ', train.shape, \n",
    "      '\\nTest data shape : ', test.shape, \n",
    "      '\\nTrain_GIS data shape : ', GIS.shape,\n",
    "      '\\nBus data shape : ', bus.shape,\n",
    "      '\\nSubway data shape : ', subway.shape)"
   ]
  },
  {
   "cell_type": "code",
   "execution_count": 5,
   "metadata": {},
   "outputs": [
    {
     "data": {
      "text/html": [
       "<div>\n",
       "<style scoped>\n",
       "    .dataframe tbody tr th:only-of-type {\n",
       "        vertical-align: middle;\n",
       "    }\n",
       "\n",
       "    .dataframe tbody tr th {\n",
       "        vertical-align: top;\n",
       "    }\n",
       "\n",
       "    .dataframe thead th {\n",
       "        text-align: right;\n",
       "    }\n",
       "</style>\n",
       "<table border=\"1\" class=\"dataframe\">\n",
       "  <thead>\n",
       "    <tr style=\"text-align: right;\">\n",
       "      <th></th>\n",
       "      <th>시군구</th>\n",
       "      <th>번지</th>\n",
       "      <th>본번</th>\n",
       "      <th>부번</th>\n",
       "      <th>아파트명</th>\n",
       "      <th>전용면적(㎡)</th>\n",
       "      <th>계약년월</th>\n",
       "      <th>계약일</th>\n",
       "      <th>층</th>\n",
       "      <th>건축년도</th>\n",
       "      <th>...</th>\n",
       "      <th>건축면적</th>\n",
       "      <th>주차대수</th>\n",
       "      <th>기타/의무/임대/임의=1/2/3/4</th>\n",
       "      <th>단지승인일</th>\n",
       "      <th>사용허가여부</th>\n",
       "      <th>관리비 업로드</th>\n",
       "      <th>좌표X</th>\n",
       "      <th>좌표Y</th>\n",
       "      <th>단지신청일</th>\n",
       "      <th>target</th>\n",
       "    </tr>\n",
       "  </thead>\n",
       "  <tbody>\n",
       "    <tr>\n",
       "      <th>0</th>\n",
       "      <td>서울특별시 강남구 개포동</td>\n",
       "      <td>658-1</td>\n",
       "      <td>658.0</td>\n",
       "      <td>1.0</td>\n",
       "      <td>개포6차우성</td>\n",
       "      <td>79.97</td>\n",
       "      <td>201712</td>\n",
       "      <td>8</td>\n",
       "      <td>3</td>\n",
       "      <td>1987</td>\n",
       "      <td>...</td>\n",
       "      <td>4858.0</td>\n",
       "      <td>262.0</td>\n",
       "      <td>임의</td>\n",
       "      <td>2022-11-17 13:00:29.0</td>\n",
       "      <td>Y</td>\n",
       "      <td>N</td>\n",
       "      <td>127.05721</td>\n",
       "      <td>37.476763</td>\n",
       "      <td>2022-11-17 10:19:06.0</td>\n",
       "      <td>124000</td>\n",
       "    </tr>\n",
       "  </tbody>\n",
       "</table>\n",
       "<p>1 rows × 52 columns</p>\n",
       "</div>"
      ],
      "text/plain": [
       "             시군구     번지     본번   부번    아파트명  전용면적(㎡)    계약년월  계약일  층  건축년도  \\\n",
       "0  서울특별시 강남구 개포동  658-1  658.0  1.0  개포6차우성    79.97  201712    8  3  1987   \n",
       "\n",
       "   ...    건축면적   주차대수 기타/의무/임대/임의=1/2/3/4                  단지승인일 사용허가여부  \\\n",
       "0  ...  4858.0  262.0                  임의  2022-11-17 13:00:29.0      Y   \n",
       "\n",
       "  관리비 업로드        좌표X        좌표Y                  단지신청일  target  \n",
       "0       N  127.05721  37.476763  2022-11-17 10:19:06.0  124000  \n",
       "\n",
       "[1 rows x 52 columns]"
      ]
     },
     "metadata": {},
     "output_type": "display_data"
    },
    {
     "data": {
      "text/html": [
       "<div>\n",
       "<style scoped>\n",
       "    .dataframe tbody tr th:only-of-type {\n",
       "        vertical-align: middle;\n",
       "    }\n",
       "\n",
       "    .dataframe tbody tr th {\n",
       "        vertical-align: top;\n",
       "    }\n",
       "\n",
       "    .dataframe thead th {\n",
       "        text-align: right;\n",
       "    }\n",
       "</style>\n",
       "<table border=\"1\" class=\"dataframe\">\n",
       "  <thead>\n",
       "    <tr style=\"text-align: right;\">\n",
       "      <th></th>\n",
       "      <th>시군구</th>\n",
       "      <th>번지</th>\n",
       "      <th>본번</th>\n",
       "      <th>부번</th>\n",
       "      <th>아파트명</th>\n",
       "      <th>전용면적(㎡)</th>\n",
       "      <th>계약년월</th>\n",
       "      <th>계약일</th>\n",
       "      <th>층</th>\n",
       "      <th>건축년도</th>\n",
       "      <th>...</th>\n",
       "      <th>청소비관리형태</th>\n",
       "      <th>건축면적</th>\n",
       "      <th>주차대수</th>\n",
       "      <th>기타/의무/임대/임의=1/2/3/4</th>\n",
       "      <th>단지승인일</th>\n",
       "      <th>사용허가여부</th>\n",
       "      <th>관리비 업로드</th>\n",
       "      <th>좌표X</th>\n",
       "      <th>좌표Y</th>\n",
       "      <th>단지신청일</th>\n",
       "    </tr>\n",
       "  </thead>\n",
       "  <tbody>\n",
       "    <tr>\n",
       "      <th>0</th>\n",
       "      <td>서울특별시 강남구 개포동</td>\n",
       "      <td>658-1</td>\n",
       "      <td>658.0</td>\n",
       "      <td>1.0</td>\n",
       "      <td>개포6차우성</td>\n",
       "      <td>79.97</td>\n",
       "      <td>202307</td>\n",
       "      <td>26</td>\n",
       "      <td>5</td>\n",
       "      <td>1987</td>\n",
       "      <td>...</td>\n",
       "      <td>직영</td>\n",
       "      <td>4858.0</td>\n",
       "      <td>262.0</td>\n",
       "      <td>임의</td>\n",
       "      <td>2022-11-17 13:00:29.0</td>\n",
       "      <td>Y</td>\n",
       "      <td>N</td>\n",
       "      <td>127.05721</td>\n",
       "      <td>37.476763</td>\n",
       "      <td>2022-11-17 10:19:06.0</td>\n",
       "    </tr>\n",
       "  </tbody>\n",
       "</table>\n",
       "<p>1 rows × 51 columns</p>\n",
       "</div>"
      ],
      "text/plain": [
       "             시군구     번지     본번   부번    아파트명  전용면적(㎡)    계약년월  계약일  층  건축년도  \\\n",
       "0  서울특별시 강남구 개포동  658-1  658.0  1.0  개포6차우성    79.97  202307   26  5  1987   \n",
       "\n",
       "   ... 청소비관리형태    건축면적   주차대수 기타/의무/임대/임의=1/2/3/4                  단지승인일  \\\n",
       "0  ...      직영  4858.0  262.0                  임의  2022-11-17 13:00:29.0   \n",
       "\n",
       "  사용허가여부 관리비 업로드        좌표X        좌표Y                  단지신청일  \n",
       "0      Y       N  127.05721  37.476763  2022-11-17 10:19:06.0  \n",
       "\n",
       "[1 rows x 51 columns]"
      ]
     },
     "metadata": {},
     "output_type": "display_data"
    },
    {
     "data": {
      "text/html": [
       "<div>\n",
       "<style scoped>\n",
       "    .dataframe tbody tr th:only-of-type {\n",
       "        vertical-align: middle;\n",
       "    }\n",
       "\n",
       "    .dataframe tbody tr th {\n",
       "        vertical-align: top;\n",
       "    }\n",
       "\n",
       "    .dataframe thead th {\n",
       "        text-align: right;\n",
       "    }\n",
       "</style>\n",
       "<table border=\"1\" class=\"dataframe\">\n",
       "  <thead>\n",
       "    <tr style=\"text-align: right;\">\n",
       "      <th></th>\n",
       "      <th>원천도형ID</th>\n",
       "      <th>GIS건물통합식별번호</th>\n",
       "      <th>고유번호</th>\n",
       "      <th>법정동코드</th>\n",
       "      <th>법정동명</th>\n",
       "      <th>지번</th>\n",
       "      <th>특수지코드</th>\n",
       "      <th>특수지구분명</th>\n",
       "      <th>건축물용도코드</th>\n",
       "      <th>건축물용도명</th>\n",
       "      <th>...</th>\n",
       "      <th>위반건축물여부</th>\n",
       "      <th>참조체계연계키</th>\n",
       "      <th>데이터기준일자</th>\n",
       "      <th>원천시도시군구코드</th>\n",
       "      <th>건물명</th>\n",
       "      <th>건물동명</th>\n",
       "      <th>지상층_수</th>\n",
       "      <th>지하층_수</th>\n",
       "      <th>데이터생성변경일자</th>\n",
       "      <th>geometry</th>\n",
       "    </tr>\n",
       "  </thead>\n",
       "  <tbody>\n",
       "    <tr>\n",
       "      <th>0</th>\n",
       "      <td>32</td>\n",
       "      <td>1991201839054527769900000000</td>\n",
       "      <td>1111017500107040000</td>\n",
       "      <td>1111017500</td>\n",
       "      <td>서울특별시 종로구 숭인동</td>\n",
       "      <td>704</td>\n",
       "      <td>1</td>\n",
       "      <td>일반</td>\n",
       "      <td>01000</td>\n",
       "      <td>단독주택</td>\n",
       "      <td>...</td>\n",
       "      <td>N</td>\n",
       "      <td>B00100000000T30Z9</td>\n",
       "      <td>2024-11-01</td>\n",
       "      <td>11110</td>\n",
       "      <td>NaN</td>\n",
       "      <td>NaN</td>\n",
       "      <td>3.0</td>\n",
       "      <td>0.0</td>\n",
       "      <td>2017-05-30</td>\n",
       "      <td>POLYGON ((201913.63771092566 553085.3228524396...</td>\n",
       "    </tr>\n",
       "  </tbody>\n",
       "</table>\n",
       "<p>1 rows × 30 columns</p>\n",
       "</div>"
      ],
      "text/plain": [
       "   원천도형ID                   GIS건물통합식별번호                 고유번호       법정동코드  \\\n",
       "0      32  1991201839054527769900000000  1111017500107040000  1111017500   \n",
       "\n",
       "            법정동명   지번  특수지코드 특수지구분명 건축물용도코드 건축물용도명  ...  위반건축물여부  \\\n",
       "0  서울특별시 종로구 숭인동  704      1     일반   01000   단독주택  ...        N   \n",
       "\n",
       "             참조체계연계키     데이터기준일자 원천시도시군구코드  건물명  건물동명  지상층_수  지하층_수  \\\n",
       "0  B00100000000T30Z9  2024-11-01     11110  NaN   NaN    3.0    0.0   \n",
       "\n",
       "    데이터생성변경일자                                           geometry  \n",
       "0  2017-05-30  POLYGON ((201913.63771092566 553085.3228524396...  \n",
       "\n",
       "[1 rows x 30 columns]"
      ]
     },
     "metadata": {},
     "output_type": "display_data"
    },
    {
     "data": {
      "text/html": [
       "<div>\n",
       "<style scoped>\n",
       "    .dataframe tbody tr th:only-of-type {\n",
       "        vertical-align: middle;\n",
       "    }\n",
       "\n",
       "    .dataframe tbody tr th {\n",
       "        vertical-align: top;\n",
       "    }\n",
       "\n",
       "    .dataframe thead th {\n",
       "        text-align: right;\n",
       "    }\n",
       "</style>\n",
       "<table border=\"1\" class=\"dataframe\">\n",
       "  <thead>\n",
       "    <tr style=\"text-align: right;\">\n",
       "      <th></th>\n",
       "      <th>노드 ID</th>\n",
       "      <th>정류소번호</th>\n",
       "      <th>정류소명</th>\n",
       "      <th>X좌표</th>\n",
       "      <th>Y좌표</th>\n",
       "      <th>정류소 타입</th>\n",
       "    </tr>\n",
       "  </thead>\n",
       "  <tbody>\n",
       "    <tr>\n",
       "      <th>0</th>\n",
       "      <td>100000001</td>\n",
       "      <td>1001</td>\n",
       "      <td>종로2가사거리</td>\n",
       "      <td>126.987752</td>\n",
       "      <td>37.569808</td>\n",
       "      <td>중앙차로</td>\n",
       "    </tr>\n",
       "  </tbody>\n",
       "</table>\n",
       "</div>"
      ],
      "text/plain": [
       "       노드 ID  정류소번호     정류소명         X좌표        Y좌표 정류소 타입\n",
       "0  100000001   1001  종로2가사거리  126.987752  37.569808   중앙차로"
      ]
     },
     "metadata": {},
     "output_type": "display_data"
    },
    {
     "data": {
      "text/html": [
       "<div>\n",
       "<style scoped>\n",
       "    .dataframe tbody tr th:only-of-type {\n",
       "        vertical-align: middle;\n",
       "    }\n",
       "\n",
       "    .dataframe tbody tr th {\n",
       "        vertical-align: top;\n",
       "    }\n",
       "\n",
       "    .dataframe thead th {\n",
       "        text-align: right;\n",
       "    }\n",
       "</style>\n",
       "<table border=\"1\" class=\"dataframe\">\n",
       "  <thead>\n",
       "    <tr style=\"text-align: right;\">\n",
       "      <th></th>\n",
       "      <th>역사_ID</th>\n",
       "      <th>역사명</th>\n",
       "      <th>호선</th>\n",
       "      <th>위도</th>\n",
       "      <th>경도</th>\n",
       "    </tr>\n",
       "  </thead>\n",
       "  <tbody>\n",
       "    <tr>\n",
       "      <th>0</th>\n",
       "      <td>9996</td>\n",
       "      <td>미사</td>\n",
       "      <td>5호선</td>\n",
       "      <td>37.560927</td>\n",
       "      <td>127.193877</td>\n",
       "    </tr>\n",
       "  </tbody>\n",
       "</table>\n",
       "</div>"
      ],
      "text/plain": [
       "   역사_ID 역사명   호선         위도          경도\n",
       "0   9996  미사  5호선  37.560927  127.193877"
      ]
     },
     "metadata": {},
     "output_type": "display_data"
    }
   ],
   "source": [
    "# Train과 Test data를 살펴보겠습니다.\n",
    "display(train.head(1))\n",
    "display(test.head(1))      # 부동산 실거래가(=Target) column이 제외된 모습입니다.\n",
    "display(GIS.head(1))\n",
    "display(bus.head(1))\n",
    "display(subway.head(1))\n"
   ]
  },
  {
   "cell_type": "markdown",
   "metadata": {},
   "source": [
    "## Train/Test 구분 및 합치기"
   ]
  },
  {
   "cell_type": "code",
   "execution_count": 6,
   "metadata": {},
   "outputs": [],
   "source": [
    "# train/test 구분을 위한 칼럼을 하나 만들어 줍니다.\n",
    "train['is_test'] = 0\n",
    "test['is_test'] = 1"
   ]
  },
  {
   "cell_type": "code",
   "execution_count": 7,
   "metadata": {},
   "outputs": [],
   "source": [
    "dt_concat = pd.concat([train, test])     # 하나의 데이터로 만들어줍니다."
   ]
  },
  {
   "cell_type": "code",
   "execution_count": 8,
   "metadata": {},
   "outputs": [
    {
     "data": {
      "text/plain": [
       "0    1118822\n",
       "1       9272\n",
       "Name: is_test, dtype: int64"
      ]
     },
     "execution_count": 8,
     "metadata": {},
     "output_type": "execute_result"
    }
   ],
   "source": [
    "dt_concat['is_test'].value_counts()      # train과 test data가 하나로 합쳐진 것을 확인할 수 있습니다."
   ]
  },
  {
   "cell_type": "markdown",
   "metadata": {},
   "source": [
    "## Data 전처리"
   ]
  },
  {
   "cell_type": "markdown",
   "metadata": {},
   "source": [
    "1. [기본 환경 설정]\n",
    "2. [데이터 불러오기]\n",
    "3. [Train/Test 구분 및 합치기\n",
    "    - dt_concat\n",
    "\n",
    "4. [dt_concat 기본 전처리]\n",
    "    1. 컬럼이름 변경 또는 변수 분할\n",
    "        - 컬럼 이름 변경 \n",
    "        - 변수 분할\n",
    "            - 계약년월 split : 계약년, 계약월\n",
    "        - 시군구 split : 시, 구, 동\n",
    "    2. 각 벌럼펼 ' ', '-', 0 등 의미없는 값 결측치 처리\n",
    "    3. 결측치 비율 확인\n",
    "    4. 피쳐 드랍\n",
    "        - 1,000,000 이상 결측치 보유 피쳐 드랍  (dt_concat_select)\n",
    "        - 본번, 부번은 str으로 변환\n",
    "        - 중복 데이터 제거\n",
    "        - continuous/categorical 변수 구분\n",
    "        [드랍 피쳐 결정]\n",
    "        - '전화번호', '팩스번호', 'k-사용검사일-사용승인일', '수정일자', '고용보험관리번호', '청소비관리형태','단지승인일'\n",
    "    \n",
    "\n",
    "5. [파생변수 생성]\n",
    "    - '구': tier1,2,3\n",
    "    - '동': tier1,2,3,4\n",
    "    - 건축년도: new, mid, old, vold\n",
    "\n",
    "6. [상관관계 화인]\n",
    "\n",
    "7. [변수 보간]\n",
    "    1.  train data 처리\n",
    "        - train_dt2, test_dt2 생성 (is_test 컬럼 추가)\n",
    "        - continuous/categorical 변수 구분\n",
    "    2. 수치형 변수 보간\n",
    "        - 소수의 null값 보유 row 제거 : 아파트명, 번지\n",
    "        - 그룹화 선형회귀 모델 (데이터 : 그룹화 기준변수)\n",
    "            - 전체세대수 : 아파트명, 동\n",
    "            - 전체동수 : 아파트명, 동\n",
    "            - 주거전용면적 : 아파트명, 건축년도, 전용면적\n",
    "            - 연면적 : 아파트명, 건축년도, 전용면적\n",
    "            - 주차대수 : 전체세대수, 전용면적\n",
    "            - 전용면적<60, 전용면적60~85, 전용면적85~135 : 아파트명, 주거전용면적, 전용면적\n",
    "        - 주차대수 binning\n",
    "\n",
    "* 관리비부과면적, 좌표X, 좌표Y, 건축면적, 단지신청일 제거\n",
    "\n",
    "    3. 범주형 변수 보강\n",
    "        - 최빈값(mode)\n",
    "            - 세대타입, 관리방식, 경비비관리형태, 세대전기계약방법, 기타/의무/임대/임의, 사용허가여부, 관리비 업로드, \n",
    "        - 조건부 최빈값(conditional mode)\n",
    "            - 단지분류(전체동수, 주차대수)\n",
    "            - 복도유형(아파트명, 건축년도)\n",
    "            - 난방방식(아파트명, 건축년도, 전용면적)\n",
    "\n",
    "8. [Encoding]\n",
    "    - one-hot encoding: '사용허가여부', '시'\n",
    "        - label encoding: '단지분류', '세대타입', '복도유형', '난방방식', '경비비관리형태', '세대전기계약방식', '관리비 업로드', '기타/의무/임대/임의=1/2/3/4', '주차대수'\n",
    "        - frequency encoding: '아파트명','건설사', '구', '동', '계약년', '계약월'\n",
    "        - target encoding : \n",
    "\n",
    "\n",
    "9. [함수변환]\n",
    "    - 우선은 log 변환 적용\n",
    "    - 로그변환\n",
    "    - 제곱근변환"
   ]
  },
  {
   "cell_type": "markdown",
   "metadata": {},
   "source": [
    "### dt_concat 전처리"
   ]
  },
  {
   "cell_type": "markdown",
   "metadata": {},
   "source": [
    "#### 컬럼 이름 변경 또는 변수 분할"
   ]
  },
  {
   "cell_type": "code",
   "execution_count": 9,
   "metadata": {},
   "outputs": [],
   "source": [
    "# 컬럼 이름 변경\n",
    "dt_concat = dt_concat.rename(columns={'전용면적(㎡)':'전용면적',\n",
    "                                'k-단지분류(아파트,주상복합등등)':'단지분류', \n",
    "                                'k-전화번호':'전화번호', \n",
    "                                'k-팩스번호':'팩스번호',\n",
    "                                'k-세대타입(분양형태)':'세대타입',\n",
    "                                'k-관리방식':'관리방식',\n",
    "                                'k-복도유형':'복도유형', \n",
    "                                'k-난방방식':'난방방식',\n",
    "                                'k-전체동수':'전체동수', \n",
    "                                'k-전체세대수':'전체세대수',\n",
    "                                'k-건설사(시공사)':'건설사',\n",
    "                                'k-시행사':'시행사',\n",
    "                                'k-연면적':'연면적',\n",
    "                                'k-주거전용면적':'주거전용면적',\n",
    "                                'k-관리비부과면적':'관리비부과면적',\n",
    "                                'k-전용면적별세대현황(60㎡이하)':'전용면적<60',\n",
    "                                'k-전용면적별세대현황(60㎡~85㎡이하)':'전용면적60~85',\n",
    "                                'k-85㎡~135㎡이하':'전용면적85~135',\n",
    "                                'k-135㎡초과':'전용면적>135', \n",
    "                                'k-홈페이지':'홈페이지',\n",
    "                                'k-등록일자':'등록일자', \n",
    "                                'k-수정일자':'수정일자'})"
   ]
  },
  {
   "cell_type": "code",
   "execution_count": 10,
   "metadata": {},
   "outputs": [],
   "source": [
    "# 시군구, 년월 등 분할할 수 있는 변수들은 세부사항 고려를 용이하게 하기 위해 모두 분할해 주겠습니다.\n",
    "dt_concat['시'] = dt_concat['시군구'].map(lambda x : x.split()[0])\n",
    "dt_concat['구'] = dt_concat['시군구'].map(lambda x : x.split()[1])\n",
    "dt_concat['동'] = dt_concat['시군구'].map(lambda x : x.split()[2])\n",
    "del dt_concat['시군구']\n",
    "\n",
    "# 계약년월 split\n",
    "dt_concat['계약년'] = dt_concat['계약년월'].astype('str').map(lambda x : x[:4])\n",
    "dt_concat['계약월'] = dt_concat['계약년월'].astype('str').map(lambda x : x[4:])\n",
    "del dt_concat['계약년월']"
   ]
  },
  {
   "cell_type": "code",
   "execution_count": 11,
   "metadata": {},
   "outputs": [
    {
     "data": {
      "text/plain": [
       "Index(['번지', '본번', '부번', '아파트명', '전용면적', '계약일', '층', '건축년도', '도로명', '해제사유발생일',\n",
       "       '등기신청일자', '거래유형', '중개사소재지', '단지분류', '전화번호', '팩스번호', '단지소개기존clob',\n",
       "       '세대타입', '관리방식', '복도유형', '난방방식', '전체동수', '전체세대수', '건설사', '시행사',\n",
       "       'k-사용검사일-사용승인일', '연면적', '주거전용면적', '관리비부과면적', '전용면적<60', '전용면적60~85',\n",
       "       '전용면적85~135', '전용면적>135', '홈페이지', '등록일자', '수정일자', '고용보험관리번호', '경비비관리형태',\n",
       "       '세대전기계약방법', '청소비관리형태', '건축면적', '주차대수', '기타/의무/임대/임의=1/2/3/4', '단지승인일',\n",
       "       '사용허가여부', '관리비 업로드', '좌표X', '좌표Y', '단지신청일', 'target', 'is_test', '시',\n",
       "       '구', '동', '계약년', '계약월'],\n",
       "      dtype='object')"
      ]
     },
     "execution_count": 11,
     "metadata": {},
     "output_type": "execute_result"
    }
   ],
   "source": [
    "dt_concat.columns"
   ]
  },
  {
   "cell_type": "markdown",
   "metadata": {},
   "source": [
    "#### 컬럼 별 값 확인 후 수정 및 결측치 처리"
   ]
  },
  {
   "cell_type": "code",
   "execution_count": 12,
   "metadata": {},
   "outputs": [
    {
     "data": {
      "text/plain": [
       "0.0       54234\n",
       "1150.0     3068\n",
       "370.0      2893\n",
       "4975.0     2816\n",
       "750.0      2744\n",
       "          ...  \n",
       "543.0         5\n",
       "438.0         2\n",
       "614.0         2\n",
       "9.0           1\n",
       "1395.0        1\n",
       "Name: 전용면적<60, Length: 349, dtype: int64"
      ]
     },
     "metadata": {},
     "output_type": "display_data"
    }
   ],
   "source": [
    "display(dt_concat['전용면적<60'].value_counts())"
   ]
  },
  {
   "cell_type": "code",
   "execution_count": 13,
   "metadata": {},
   "outputs": [],
   "source": [
    "# 각 컬럼 별 값을 변경\n",
    "dt_concat['등기신청일자'] = dt_concat['등기신청일자'].replace(' ', np.nan)\n",
    "dt_concat['거래유형'] = dt_concat['거래유형'].replace('-', np.nan)\n",
    "dt_concat['중개사소재지'] = dt_concat['중개사소재지'].replace('-', np.nan)\n",
    "dt_concat['건축면적'] = dt_concat['건축면적'].replace(np.int64(0), np.nan)\n",
    "dt_concat['주차대수'] = dt_concat['주차대수'].replace(np.int64(0), np.nan)\n",
    "dt_concat['전용면적<60'] = dt_concat['전용면적<60'].replace(np.int64(0), np.nan)\n",
    "dt_concat['전용면적60~85'] = dt_concat['전용면적60~85'].replace(np.int64(0), np.nan)\n",
    "dt_concat['전용면적85~135'] = dt_concat['전용면적85~135'].replace(np.int64(0), np.nan)\n",
    "dt_concat['전용면적>135'] = dt_concat['전용면적>135'].replace(np.int64(0), np.nan)\n",
    "dt_concat.loc[dt_concat['층'] < 0, '층'] = 1\n",
    "dt_concat['단지분류'] = dt_concat['단지분류'].replace('도시형 생활주택(주상복합)', '주상복합')\n",
    "dt_concat['단지분류'] = dt_concat['단지분류'].replace('도시형 생활주택(아파트)', '아파트')"
   ]
  },
  {
   "cell_type": "code",
   "execution_count": 14,
   "metadata": {},
   "outputs": [
    {
     "data": {
      "image/png": "[encoded data removed]",
      "text/plain": [
       "<Figure size 1300x200 with 1 Axes>"
      ]
     },
     "metadata": {},
     "output_type": "display_data"
    }
   ],
   "source": [
    "# 변수별 결측치의 비율을 plot으로 그려보면 아래와 같습니다.\n",
    "fig = plt.figure(figsize=(13, 2))\n",
    "missing = dt_concat.isnull().sum() / dt_concat.shape[0]\n",
    "missing = missing[missing > 0]\n",
    "missing.sort_values(inplace=True)\n",
    "missing.plot.bar(color='orange')\n",
    "plt.title('변수별 결측치 비율')\n",
    "plt.show()"
   ]
  },
  {
   "cell_type": "markdown",
   "metadata": {},
   "source": [
    "#### 피쳐 드랍"
   ]
  },
  {
   "cell_type": "code",
   "execution_count": 15,
   "metadata": {},
   "outputs": [],
   "source": [
    "# display(dt_concat['거래유형'].value_counts())"
   ]
  },
  {
   "cell_type": "code",
   "execution_count": 18,
   "metadata": {},
   "outputs": [
    {
     "name": "stdout",
     "output_type": "stream",
     "text": [
      "\n",
      "t-statistic: -28.3381116894659\n",
      "p-value: 1.5942351178919688e-174\n"
     ]
    }
   ],
   "source": [
    "# direct = dt_concat[(dt_concat['is_test']==0) & (dt_concat['거래유형']=='직거래')]['target']\n",
    "# broker = dt_concat[(dt_concat['is_test']==0) & (dt_concat['거래유형']=='중개거래')]['target']\n",
    "\n",
    "# t_stat, p_value = stats.ttest_ind(direct, broker)\n",
    "# print(\"\\nt-statistic:\", t_stat)\n",
    "# print(\"p-value:\", p_value)"
   ]
  },
  {
   "cell_type": "code",
   "execution_count": 16,
   "metadata": {},
   "outputs": [
    {
     "name": "stdout",
     "output_type": "stream",
     "text": [
      "* 결측치가 100만개 이하인 변수들 : ['번지', '본번', '부번', '아파트명', '전용면적', '계약일', '층', '건축년도', '도로명', '단지분류', '전화번호', '팩스번호', '세대타입', '관리방식', '복도유형', '난방방식', '전체동수', '전체세대수', '건설사', '시행사', 'k-사용검사일-사용승인일', '연면적', '주거전용면적', '관리비부과면적', '전용면적<60', '전용면적60~85', '전용면적85~135', '수정일자', '고용보험관리번호', '경비비관리형태', '세대전기계약방법', '청소비관리형태', '건축면적', '주차대수', '기타/의무/임대/임의=1/2/3/4', '단지승인일', '사용허가여부', '관리비 업로드', '좌표X', '좌표Y', '단지신청일', 'target', 'is_test', '시', '구', '동', '계약년', '계약월']\n",
      "* 결측치가 100만개 이상인 변수들 : ['해제사유발생일', '등기신청일자', '거래유형', '중개사소재지', '단지소개기존clob', '전용면적>135', '홈페이지', '등록일자']\n"
     ]
    }
   ],
   "source": [
    "# Null값이 100만개 이상인 칼럼은 삭제해보도록 하겠습니다.\n",
    "print('* 결측치가 100만개 이하인 변수들 :', list(dt_concat.columns[dt_concat.isnull().sum() <= 1000000]))     # 남겨질 변수들은 아래와 같습니다.\n",
    "print('* 결측치가 100만개 이상인 변수들 :', list(dt_concat.columns[dt_concat.isnull().sum() >= 1000000]))"
   ]
  },
  {
   "cell_type": "code",
   "execution_count": 17,
   "metadata": {},
   "outputs": [],
   "source": [
    "# 위에서 결측치가 100만개 이하인 변수들만 골라 새로운 concat_select 객체로 저장해줍니다.\n",
    "selected = list(dt_concat.columns[dt_concat.isnull().sum() <= 1000000])\n",
    "dt_concat_select = dt_concat[selected]"
   ]
  },
  {
   "cell_type": "code",
   "execution_count": 18,
   "metadata": {},
   "outputs": [],
   "source": [
    "# 본번, 부번의 경우 float로 되어있지만 범주형 변수의 의미를 가지므로 object(string) 형태로 바꾸어주고 아래 작업을 진행하겠습니다.\n",
    "dt_concat_select['본번'] = dt_concat_select['본번'].astype('str')\n",
    "dt_concat_select['부번'] = dt_concat_select['부번'].astype('str')"
   ]
  },
  {
   "cell_type": "code",
   "execution_count": 21,
   "metadata": {},
   "outputs": [
    {
     "data": {
      "text/plain": [
       "False    1124844\n",
       "dtype: int64"
      ]
     },
     "execution_count": 21,
     "metadata": {},
     "output_type": "execute_result"
    }
   ],
   "source": [
    "# 피쳐 드랍하기 이전중복 데이터 확인 후 제거  \n",
    "pd.Series(dt_concat_select.duplicated()).value_counts()\n",
    "dt_concat_select[dt_concat_select.duplicated(keep=False)].sort_values(by=list(dt_concat_select.columns)).head(10)\n",
    "dt_concat_select = dt_concat_select.drop_duplicates(keep='first')\n",
    "pd.Series(dt_concat_select.duplicated()).value_counts()"
   ]
  },
  {
   "cell_type": "code",
   "execution_count": 22,
   "metadata": {},
   "outputs": [
    {
     "data": {
      "text/plain": [
       "(1124844, 48)"
      ]
     },
     "execution_count": 22,
     "metadata": {},
     "output_type": "execute_result"
    }
   ],
   "source": [
    "dt_concat_select.shape"
   ]
  },
  {
   "cell_type": "code",
   "execution_count": 26,
   "metadata": {},
   "outputs": [
    {
     "name": "stdout",
     "output_type": "stream",
     "text": [
      "연속형 변수: ['전용면적', '계약일', '층', '건축년도', '전체동수', '전체세대수', '연면적', '주거전용면적', '관리비부과면적', '전용면적<60', '전용면적60~85', '전용면적85~135', '건축면적', '주차대수', '좌표X', '좌표Y', 'target', 'is_test']\n",
      "범주형 변수: ['번지', '본번', '부번', '아파트명', '도로명', '단지분류', '전화번호', '팩스번호', '세대타입', '관리방식', '복도유형', '난방방식', '건설사', '시행사', 'k-사용검사일-사용승인일', '수정일자', '고용보험관리번호', '경비비관리형태', '세대전기계약방법', '청소비관리형태', '기타/의무/임대/임의=1/2/3/4', '단지승인일', '사용허가여부', '관리비 업로드', '단지신청일', '시', '구', '동', '계약년', '계약월']\n"
     ]
    }
   ],
   "source": [
    "# 연속형 변수와 범주형 변수를 위 info에 따라 분리해주겠습니다.\n",
    "continuous_columns = []\n",
    "categorical_columns = []\n",
    "\n",
    "for column in dt_concat_select.columns:\n",
    "    if pd.api.types.is_numeric_dtype(dt_concat_select[column]):\n",
    "        continuous_columns.append(column)\n",
    "    else:\n",
    "        categorical_columns.append(column)\n",
    "\n",
    "print(\"연속형 변수:\", continuous_columns)\n",
    "print(\"범주형 변수:\", categorical_columns)"
   ]
  },
  {
   "cell_type": "code",
   "execution_count": 27,
   "metadata": {},
   "outputs": [
    {
     "name": "stdout",
     "output_type": "stream",
     "text": [
      "18 30\n"
     ]
    }
   ],
   "source": [
    "print(len(continuous_columns), len(categorical_columns))"
   ]
  },
  {
   "cell_type": "code",
   "execution_count": 28,
   "metadata": {},
   "outputs": [],
   "source": [
    "# 드랍할 범주형 피쳐 정의\n",
    "except_catcol = ['전화번호', '팩스번호', 'k-사용검사일-사용승인일', '수정일자', '고용보험관리번호', '청소비관리형태','단지승인일']\n",
    "\n",
    "dt_concat_select = dt_concat_select.drop(columns=except_catcol)"
   ]
  },
  {
   "cell_type": "code",
   "execution_count": 29,
   "metadata": {},
   "outputs": [],
   "source": [
    "# 드랍할 연속형 피쳐 확인\n",
    "except_contcol = []\n",
    "\n",
    "dt_concat_select = dt_concat_select.drop(columns=except_contcol)"
   ]
  },
  {
   "cell_type": "markdown",
   "metadata": {},
   "source": [
    "#### 파생변수 생성"
   ]
  },
  {
   "cell_type": "code",
   "execution_count": 30,
   "metadata": {},
   "outputs": [],
   "source": [
    "# 구 티어 \n",
    "goo = list(dt_concat_select['구'].unique())\n",
    "\n",
    "tier1 = ['강남구', '서초구', '용산구', '송파구', '성동구']\n",
    "tier2 = ['마포구', '광진구', '동작구', '영등포구', '중구', '종로구', '강동구', '양천구', '서대문구']\n",
    "# tier3 = ['동대문구', '강서구', '광악구', '은평구']\n",
    "\n",
    "\n",
    "tier3 = [x for x in goo if x not in tier1 + tier2]\n",
    "\n",
    "assert len(goo) == len(tier1) + len(tier2) + len(tier3)       # 알맞게 분리되었는지 체크합니다."
   ]
  },
  {
   "cell_type": "code",
   "execution_count": 31,
   "metadata": {},
   "outputs": [],
   "source": [
    "# 강남의 여부를 체크합니다.\n",
    "goo_tier = []\n",
    "for x in dt_concat_select['구'].tolist() :\n",
    "  if x in tier1 :\n",
    "    goo_tier.append(1)  \n",
    "  elif x in tier2 :\n",
    "    goo_tier.append(2)\n",
    "  else :\n",
    "    goo_tier.append(3)\n",
    "\n",
    "# 파생변수를 하나 만릅니다.\n",
    "dt_concat_select['구 티어'] = goo_tier"
   ]
  },
  {
   "cell_type": "code",
   "execution_count": 32,
   "metadata": {},
   "outputs": [],
   "source": [
    "# 동 티어\n",
    "dong = list(dt_concat_select['동'].unique())\n",
    "\n",
    "# Define tiers\n",
    "t1 = ['반포동', '개포동', '압구정동', '대치동', '잠원동', '잠실동', '일원동', '수서동', '평동', '홍파동', '삼성동', '청담동', '도곡동', '교북동', '성수동1가', '한남동', '용강동']\n",
    "t2 = ['아현동', '신계동', '신천동', '역삼동', '보광동', '용산동5가', '북아현동', '만리동2가','용문동', '자곡동', '신원동', '이촌동', '성수동2가', '상수동', '서빙고동', '옥수동', '금호동4가', '고덕동', '금호동2가', '세곡동', '장지동', '현석동', '내곡동']\n",
    "t3 = ['상왕십리동', '우면동', '염리동', '흑석동', '서초동', '한강로3가', '논현동', '여의도동', '방배동', '대흥동', '광장동', '상일동', '공덕동', '한강로1가', '방이동', '영등포동7가', '토정동', '중림동', '금호동1가', '원효로4가', '행당동', '신공덕동', '하왕십리동', '원효로1가', '동작동', '송파동', '만리동1가', '이태원동', '목동']\n",
    "\n",
    "\n",
    "# Convert back to list if needed\n",
    "t4 = [x for x in dong if x not in t1 + t2 + t3]\n",
    "\n",
    "# # Check if all 'dong' are categorized\n",
    "assert len(dong) == len(t1) + len(t2) + len(t3) + len(t4), \"Mismatch in tier categorization\""
   ]
  },
  {
   "cell_type": "code",
   "execution_count": 33,
   "metadata": {},
   "outputs": [],
   "source": [
    "dong_tier = []\n",
    "for x in dt_concat_select['동'].tolist() :\n",
    "    if x in t1 :\n",
    "        dong_tier.append(1)\n",
    "    elif x in t2 :\n",
    "        dong_tier.append(2)\n",
    "    else :\n",
    "        dong_tier.append(3)\n",
    "dt_concat_select['동 티어'] = dong_tier"
   ]
  },
  {
   "cell_type": "code",
   "execution_count": 34,
   "metadata": {},
   "outputs": [
    {
     "data": {
      "text/plain": [
       "count    1.124844e+06\n",
       "mean     1.998783e+03\n",
       "std      9.352761e+00\n",
       "min      1.961000e+03\n",
       "25%      1.992000e+03\n",
       "50%      2.000000e+03\n",
       "75%      2.005000e+03\n",
       "100%     2.023000e+03\n",
       "max      2.023000e+03\n",
       "Name: 건축년도, dtype: float64"
      ]
     },
     "execution_count": 34,
     "metadata": {},
     "output_type": "execute_result"
    }
   ],
   "source": [
    "# 건축년도 tier\n",
    "dt_concat_select['건축년도'].describe(percentiles=[0.25, 0.5, 0.75, 1])\n"
   ]
  },
  {
   "cell_type": "code",
   "execution_count": 38,
   "metadata": {},
   "outputs": [],
   "source": [
    "# 건축년도 tier\n",
    "bldg_age = list(dt_concat_select['건축년도'].unique())\n",
    "\n",
    "new = list(range(1961, 1992))\n",
    "mid = list(range(1993, 2000))\n",
    "old = list(range(2001, 2005))\n",
    "vold = list(range(2006, 2023))"
   ]
  },
  {
   "cell_type": "code",
   "execution_count": 39,
   "metadata": {},
   "outputs": [],
   "source": [
    "bldg_tier = []\n",
    "for x in dt_concat_select['건축년도'].tolist() :\n",
    "    if x in new :\n",
    "        bldg_tier.append(1)\n",
    "    elif x in mid :\n",
    "        bldg_tier.append(2)\n",
    "    elif x in old :\n",
    "        bldg_tier.append(3)\n",
    "    else :\n",
    "        bldg_tier.append(4)\n",
    "dt_concat_select['건축년도 티어'] = bldg_tier"
   ]
  },
  {
   "cell_type": "code",
   "execution_count": 40,
   "metadata": {},
   "outputs": [
    {
     "data": {
      "text/plain": [
       "Index(['번지', '본번', '부번', '아파트명', '전용면적', '계약일', '층', '건축년도', '도로명', '단지분류',\n",
       "       '세대타입', '관리방식', '복도유형', '난방방식', '전체동수', '전체세대수', '건설사', '시행사', '연면적',\n",
       "       '주거전용면적', '관리비부과면적', '전용면적<60', '전용면적60~85', '전용면적85~135', '경비비관리형태',\n",
       "       '세대전기계약방법', '건축면적', '주차대수', '기타/의무/임대/임의=1/2/3/4', '사용허가여부', '관리비 업로드',\n",
       "       '좌표X', '좌표Y', '단지신청일', 'target', 'is_test', '시', '구', '동', '계약년', '계약월',\n",
       "       '구 티어', '동 티어', '건축년도 티어'],\n",
       "      dtype='object')"
      ]
     },
     "execution_count": 40,
     "metadata": {},
     "output_type": "execute_result"
    }
   ],
   "source": [
    "dt_concat_select.columns"
   ]
  },
  {
   "cell_type": "markdown",
   "metadata": {},
   "source": [
    "#### 상관관계 확인\n",
    "- 전용면적, 관리비부과면적, 주거전용면적, 연면적, 주차대수와 높은 상관관계를 보임\n",
    "\n",
    "- 건축년도와 전용면적은 반비례 관계를 보임"
   ]
  },
  {
   "cell_type": "code",
   "execution_count": 41,
   "metadata": {},
   "outputs": [
    {
     "data": {
      "image/png": "[encoded data removed]",
      "text/plain": [
       "<Figure size 1500x1200 with 2 Axes>"
      ]
     },
     "metadata": {},
     "output_type": "display_data"
    }
   ],
   "source": [
    "# 연속형 변수들의 상관관계 Heatmap\n",
    "plt.figure(figsize=(15, 12))\n",
    "sns.heatmap(dt_concat_select[continuous_columns].corr(), \n",
    "            annot=True,              # 상관계수 표시\n",
    "            cmap='coolwarm',         # 색\n",
    "            center=0,                # 상관계수 표시 중심값 0\n",
    "            fmt='.2f',              # 소수점 2자리 표시\n",
    "            square=True,            # 정사각형 형태\n",
    "            linewidths=0.5,         # 그리드 선 두께\n",
    "            cbar_kws={\"shrink\": .5} # 색상 바 크기 조절\n",
    "           )\n",
    "plt.title('Correlation Matrix of Numeric Variables', pad=20)\n",
    "plt.tight_layout()\n",
    "plt.show()\n"
   ]
  },
  {
   "cell_type": "markdown",
   "metadata": {},
   "source": [
    "### 변수 보간"
   ]
  },
  {
   "cell_type": "markdown",
   "metadata": {},
   "source": [
    "#### train data 전처리"
   ]
  },
  {
   "cell_type": "code",
   "execution_count": 42,
   "metadata": {},
   "outputs": [],
   "source": [
    "# train/test 데이터 분리\n",
    "train_dt2 = dt_concat_select.query('is_test==0')\n",
    "test_dt2 = dt_concat_select.query('is_test==1')"
   ]
  },
  {
   "cell_type": "code",
   "execution_count": 43,
   "metadata": {},
   "outputs": [],
   "source": [
    "# 건축면적과 관리비부과면적 제거\n",
    "# train_dt2 = train_dt2.drop(columns=['건축면적', '관리비부과면적', '좌표X', '좌표Y'])"
   ]
  },
  {
   "cell_type": "code",
   "execution_count": 44,
   "metadata": {},
   "outputs": [
    {
     "name": "stdout",
     "output_type": "stream",
     "text": [
      "연속형 변수: ['전용면적', '계약일', '층', '건축년도', '전체동수', '전체세대수', '연면적', '주거전용면적', '관리비부과면적', '전용면적<60', '전용면적60~85', '전용면적85~135', '건축면적', '주차대수', '좌표X', '좌표Y', 'target', 'is_test', '구 티어', '동 티어', '건축년도 티어']\n",
      "범주형 변수: ['번지', '본번', '부번', '아파트명', '도로명', '단지분류', '세대타입', '관리방식', '복도유형', '난방방식', '건설사', '시행사', '경비비관리형태', '세대전기계약방법', '기타/의무/임대/임의=1/2/3/4', '사용허가여부', '관리비 업로드', '단지신청일', '시', '구', '동', '계약년', '계약월']\n"
     ]
    }
   ],
   "source": [
    "# 위에서 피쳐 드랍을 했으니 다시 범주형, 연속형 변수 분리\n",
    "continuous_columns = []\n",
    "categorical_columns = []\n",
    "\n",
    "for column in train_dt2.columns:\n",
    "    if pd.api.types.is_numeric_dtype(train_dt2[column]):\n",
    "        continuous_columns.append(column)\n",
    "    else:\n",
    "        categorical_columns.append(column)\n",
    "\n",
    "print(\"연속형 변수:\", continuous_columns)\n",
    "print(\"범주형 변수:\", categorical_columns)"
   ]
  },
  {
   "cell_type": "code",
   "execution_count": 45,
   "metadata": {},
   "outputs": [
    {
     "data": {
      "text/plain": [
       "번지                        223\n",
       "본번                          0\n",
       "부번                          0\n",
       "아파트명                     2114\n",
       "도로명                         0\n",
       "단지분류                   868374\n",
       "세대타입                   867247\n",
       "관리방식                   867247\n",
       "복도유형                   867571\n",
       "난방방식                   867247\n",
       "건설사                    868738\n",
       "시행사                    868934\n",
       "경비비관리형태                868663\n",
       "세대전기계약방법               876398\n",
       "기타/의무/임대/임의=1/2/3/4    867247\n",
       "사용허가여부                 867247\n",
       "관리비 업로드                867247\n",
       "단지신청일                  867309\n",
       "시                           0\n",
       "구                           0\n",
       "동                           0\n",
       "계약년                         0\n",
       "계약월                         0\n",
       "dtype: int64"
      ]
     },
     "execution_count": 45,
     "metadata": {},
     "output_type": "execute_result"
    }
   ],
   "source": [
    "train_dt2[categorical_columns].isnull().sum()"
   ]
  },
  {
   "cell_type": "code",
   "execution_count": 46,
   "metadata": {},
   "outputs": [
    {
     "data": {
      "text/plain": [
       "전용면적               0\n",
       "계약일                0\n",
       "층                  0\n",
       "건축년도               0\n",
       "전체동수          868312\n",
       "전체세대수         867247\n",
       "연면적           867247\n",
       "주거전용면적        867292\n",
       "관리비부과면적       867247\n",
       "전용면적<60       920941\n",
       "전용면적60~85     910135\n",
       "전용면적85~135    966479\n",
       "건축면적          984494\n",
       "주차대수          885278\n",
       "좌표X           867354\n",
       "좌표Y           867354\n",
       "target             0\n",
       "is_test            0\n",
       "구 티어               0\n",
       "동 티어               0\n",
       "건축년도 티어            0\n",
       "dtype: int64"
      ]
     },
     "execution_count": 46,
     "metadata": {},
     "output_type": "execute_result"
    }
   ],
   "source": [
    "train_dt2[continuous_columns].isnull().sum()\n",
    "\n"
   ]
  },
  {
   "cell_type": "markdown",
   "metadata": {},
   "source": [
    "#### 수치형 변수 보간"
   ]
  },
  {
   "cell_type": "code",
   "execution_count": 117,
   "metadata": {},
   "outputs": [],
   "source": [
    "# train_dt2.drop(columns=[''], inplace=True)\n",
    "train_dt2 = train_dt2.dropna(subset=['아파트명', '번지'])"
   ]
  },
  {
   "cell_type": "code",
   "execution_count": 48,
   "metadata": {},
   "outputs": [],
   "source": [
    "# 전체세대수와 전체동수 (기준: 아파트명, 동)\n",
    "def regression_imputation(df = train_dt2):\n",
    "    # 결측치가 없는 데이터로 모델 학습\n",
    "    df_train = df.dropna(subset=['전체동수'])\n",
    "    \n",
    "    # 범주형 변수 인코딩\n",
    "    df_encoded = df.copy()\n",
    "    df_encoded['아파트명_encoded'] = LabelEncoder().fit_transform(df['아파트명'])\n",
    "    df_encoded['동_encoded'] = LabelEncoder().fit_transform(df['동'])\n",
    "    \n",
    "    # 모델 학습\n",
    "    model = RandomForestRegressor(n_estimators=100, random_state=42)\n",
    "    X_train = df_encoded.loc[df_train.index, ['아파트명_encoded', '동_encoded']]\n",
    "    y_train = df_train['전체동수']\n",
    "    model.fit(X_train, y_train)\n",
    "    \n",
    "    # 결측치 예측\n",
    "    mask = df['전체동수'].isna()\n",
    "    X_missing = df_encoded.loc[mask, ['아파트명_encoded', '동_encoded']]\n",
    "    df.loc[mask, '전체동수'] = model.predict(X_missing)\n",
    "    \n",
    "    return df\n",
    "\n",
    "# 적용\n",
    "df_reg = regression_imputation(df = train_dt2)"
   ]
  },
  {
   "cell_type": "code",
   "execution_count": 49,
   "metadata": {},
   "outputs": [],
   "source": [
    "# 전체세대수와 전체동수 (기준: 아파트명, 동)\n",
    "def regression_imputation(df = train_dt2):\n",
    "    # 결측치가 없는 데이터로 모델 학습\n",
    "    df_train = df.dropna(subset=['전체세대수'])\n",
    "    \n",
    "    # 범주형 변수 인코딩\n",
    "    df_encoded = df.copy()\n",
    "    df_encoded['아파트명_encoded'] = LabelEncoder().fit_transform(df['아파트명'])\n",
    "    df_encoded['동_encoded'] = LabelEncoder().fit_transform(df['동'])\n",
    "    \n",
    "    # 모델 학습\n",
    "    model = RandomForestRegressor(n_estimators=100, random_state=42)\n",
    "    X_train = df_encoded.loc[df_train.index, ['아파트명_encoded', '동_encoded']]\n",
    "    y_train = df_train['전체세대수']\n",
    "    model.fit(X_train, y_train)\n",
    "    \n",
    "    # 결측치 예측\n",
    "    mask = df['전체세대수'].isna()\n",
    "    X_missing = df_encoded.loc[mask, ['아파트명_encoded', '동_encoded']]\n",
    "    df.loc[mask, '전체세대수'] = model.predict(X_missing)\n",
    "    \n",
    "    return df\n",
    "\n",
    "# 적용\n",
    "df_reg = regression_imputation(df = train_dt2)"
   ]
  },
  {
   "cell_type": "code",
   "execution_count": 50,
   "metadata": {},
   "outputs": [],
   "source": [
    "# 주거전용면적과 연면적 (기준: 아파트명, 건축년도, 전용면적)\n",
    "def regression_imputation(df = train_dt2):\n",
    "    # 결측치가 없는 데이터로 모델 학습\n",
    "    df_train = df.dropna(subset=['연면적'])\n",
    "    \n",
    "    # 범주형 변수 인코딩\n",
    "    df_encoded = df.copy()\n",
    "    df_encoded['아파트명_encoded'] = LabelEncoder().fit_transform(df['아파트명'])\n",
    "    df_encoded['전용면적_encoded'] = LabelEncoder().fit_transform(df['전용면적'])\n",
    "    df_encoded['건축년도_encoded'] = LabelEncoder().fit_transform(df['건축년도'])\n",
    "    \n",
    "    # 모델 학습\n",
    "    model = RandomForestRegressor(n_estimators=100, random_state=42)\n",
    "    X_train = df_encoded.loc[df_train.index, ['아파트명_encoded', '건축년도_encoded', '전용면적_encoded']]\n",
    "    y_train = df_train['연면적']\n",
    "    model.fit(X_train, y_train)\n",
    "    \n",
    "    # 결측치 예측\n",
    "    mask = df['연면적'].isna()\n",
    "    X_missing = df_encoded.loc[mask, ['아파트명_encoded', '건축년도_encoded', '전용면적_encoded']]\n",
    "    df.loc[mask, '연면적'] = model.predict(X_missing)\n",
    "    \n",
    "    return df\n",
    "\n",
    "# 적용\n",
    "df_reg = regression_imputation(df = train_dt2)"
   ]
  },
  {
   "cell_type": "code",
   "execution_count": 51,
   "metadata": {},
   "outputs": [],
   "source": [
    "# 주거전용면적과 연면적 (기준: 아파트명, 건축년도, 전용면적)\n",
    "def regression_imputation(df = train_dt2):\n",
    "    # 결측치가 없는 데이터로 모델 학습\n",
    "    df_train = df.dropna(subset=['주거전용면적'])\n",
    "    \n",
    "    # 범주형 변수 인코딩\n",
    "    df_encoded = df.copy()\n",
    "    df_encoded['아파트명_encoded'] = LabelEncoder().fit_transform(df['아파트명'])\n",
    "    df_encoded['전용면적_encoded'] = LabelEncoder().fit_transform(df['전용면적'])\n",
    "    df_encoded['건축년도_encoded'] = LabelEncoder().fit_transform(df['건축년도'])\n",
    "    \n",
    "    # 모델 학습\n",
    "    model = RandomForestRegressor(n_estimators=100, random_state=42)\n",
    "    X_train = df_encoded.loc[df_train.index, ['아파트명_encoded', '건축년도_encoded', '전용면적_encoded']]\n",
    "    y_train = df_train['주거전용면적']\n",
    "    model.fit(X_train, y_train)\n",
    "    \n",
    "    # 결측치 예측\n",
    "    mask = df['주거전용면적'].isna()\n",
    "    X_missing = df_encoded.loc[mask, ['아파트명_encoded', '건축년도_encoded', '전용면적_encoded']]\n",
    "    df.loc[mask, '주거전용면적'] = model.predict(X_missing)\n",
    "    \n",
    "    return df\n",
    "\n",
    "# 적용\n",
    "df_reg = regression_imputation(df = train_dt2)"
   ]
  },
  {
   "cell_type": "code",
   "execution_count": 52,
   "metadata": {},
   "outputs": [],
   "source": [
    "# 주차대수 (기준: 전체세대수 전용면적)\n",
    "def regression_imputation(df = train_dt2):\n",
    "    # 결측치가 없는 데이터로 모델 학습\n",
    "    df_train = df.dropna(subset=['주차대수'])\n",
    "    \n",
    "    # 범주형 변수 인코딩\n",
    "    df_encoded = df.copy()\n",
    "    df_encoded['전체세대수_encoded'] = LabelEncoder().fit_transform(df['전체세대수'])\n",
    "    df_encoded['전용면적_encoded'] = LabelEncoder().fit_transform(df['전용면적'])\n",
    "    \n",
    "    # 모델 학습\n",
    "    model = RandomForestRegressor(n_estimators=100, random_state=42)\n",
    "    X_train = df_encoded.loc[df_train.index, ['전체세대수_encoded', '전용면적_encoded']]\n",
    "    y_train = df_train['주차대수']\n",
    "    model.fit(X_train, y_train)\n",
    "    \n",
    "    # 결측치 예측\n",
    "    mask = df['주차대수'].isna()\n",
    "    X_missing = df_encoded.loc[mask, ['전체세대수_encoded', '전용면적_encoded']]\n",
    "    df.loc[mask, '주차대수'] = model.predict(X_missing)\n",
    "    \n",
    "    return df\n",
    "\n",
    "# 적용\n",
    "df_reg = regression_imputation(df = train_dt2)"
   ]
  },
  {
   "cell_type": "code",
   "execution_count": 53,
   "metadata": {},
   "outputs": [],
   "source": [
    "# 전용면적<60, 전용면적60~85, 전용면적85~135 (기준: 아파트명, 주거전용면적, 전용면적)\n",
    "def regression_imputation(df = train_dt2):\n",
    "    # 결측치가 없는 데이터로 모델 학습\n",
    "    df_train = df.dropna(subset=['전용면적<60'])\n",
    "    \n",
    "    # 범주형 변수 인코딩\n",
    "    df_encoded = df.copy()\n",
    "    df_encoded['아파트명_encoded'] = LabelEncoder().fit_transform(df['아파트명'])\n",
    "    df_encoded['주거전용면적_encoded'] = LabelEncoder().fit_transform(df['주거전용면적'])\n",
    "    df_encoded['전용면적_encoded'] = LabelEncoder().fit_transform(df['전용면적'])\n",
    "    \n",
    "    # 모델 학습\n",
    "    model = RandomForestRegressor(n_estimators=100, random_state=42)\n",
    "    X_train = df_encoded.loc[df_train.index, ['아파트명_encoded', '주거전용면적_encoded', '전용면적_encoded']]\n",
    "    y_train = df_train['전용면적<60']\n",
    "    model.fit(X_train, y_train)\n",
    "    \n",
    "\n",
    "    \n",
    "    # 결측치 예측\n",
    "    mask = df['전용면적<60'].isna()\n",
    "    X_missing = df_encoded.loc[mask, ['아파트명_encoded', '주거전용면적_encoded', '전용면적_encoded']]\n",
    "    df.loc[mask, '전용면적<60'] = model.predict(X_missing)\n",
    "    \n",
    "    return df\n",
    "\n",
    "# 적용\n",
    "df_reg = regression_imputation(df = train_dt2)"
   ]
  },
  {
   "cell_type": "code",
   "execution_count": 54,
   "metadata": {},
   "outputs": [],
   "source": [
    "# 전용면적<60, 전용면적60~85, 전용면적85~135 (기준: 아파트명, 주거전용면적, 전용면적)\n",
    "def regression_imputation(df = train_dt2):\n",
    "    # 결측치가 없는 데이터로 모델 학습\n",
    "    df_train = df.dropna(subset=['전용면적60~85'])\n",
    "    \n",
    "    # 범주형 변수 인코딩\n",
    "    df_encoded = df.copy()\n",
    "    df_encoded['아파트명_encoded'] = LabelEncoder().fit_transform(df['아파트명'])\n",
    "    df_encoded['주거전용면적_encoded'] = LabelEncoder().fit_transform(df['주거전용면적'])\n",
    "    df_encoded['전용면적_encoded'] = LabelEncoder().fit_transform(df['전용면적'])\n",
    "    \n",
    "    # 모델 학습\n",
    "    model = RandomForestRegressor(n_estimators=100, random_state=42)\n",
    "    X_train = df_encoded.loc[df_train.index, ['아파트명_encoded', '주거전용면적_encoded', '전용면적_encoded']]\n",
    "    y_train = df_train['전용면적60~85']\n",
    "    model.fit(X_train, y_train)\n",
    "    \n",
    "\n",
    "    \n",
    "    # 결측치 예측\n",
    "    mask = df['전용면적60~85'].isna()\n",
    "    X_missing = df_encoded.loc[mask, ['아파트명_encoded', '주거전용면적_encoded', '전용면적_encoded']]\n",
    "    df.loc[mask, '전용면적60~85'] = model.predict(X_missing)\n",
    "    \n",
    "    return df\n",
    "\n",
    "# 적용\n",
    "df_reg = regression_imputation(df = train_dt2)"
   ]
  },
  {
   "cell_type": "code",
   "execution_count": 55,
   "metadata": {},
   "outputs": [],
   "source": [
    "# 전용면적<60, 전용면적60~85, 전용면적85~135 (기준: 아파트명, 주거전용면적, 전용면적)\n",
    "def regression_imputation(df = train_dt2):\n",
    "    # 결측치가 없는 데이터로 모델 학습\n",
    "    df_train = df.dropna(subset=['전용면적85~135'])\n",
    "    \n",
    "    # 범주형 변수 인코딩\n",
    "    df_encoded = df.copy()\n",
    "    df_encoded['아파트명_encoded'] = LabelEncoder().fit_transform(df['아파트명'])\n",
    "    df_encoded['주거전용면적_encoded'] = LabelEncoder().fit_transform(df['주거전용면적'])\n",
    "    df_encoded['전용면적_encoded'] = LabelEncoder().fit_transform(df['전용면적'])\n",
    "    \n",
    "    # 모델 학습\n",
    "    model = RandomForestRegressor(n_estimators=100, random_state=42)\n",
    "    X_train = df_encoded.loc[df_train.index, ['아파트명_encoded', '주거전용면적_encoded', '전용면적_encoded']]\n",
    "    y_train = df_train['전용면적85~135']\n",
    "    model.fit(X_train, y_train)\n",
    "    \n",
    "\n",
    "    \n",
    "    # 결측치 예측\n",
    "    mask = df['전용면적85~135'].isna()\n",
    "    X_missing = df_encoded.loc[mask, ['아파트명_encoded', '주거전용면적_encoded', '전용면적_encoded']]\n",
    "    df.loc[mask, '전용면적85~135'] = model.predict(X_missing)\n",
    "    \n",
    "    return df\n",
    "\n",
    "# 적용\n",
    "df_reg = regression_imputation(df = train_dt2)"
   ]
  },
  {
   "cell_type": "code",
   "execution_count": 56,
   "metadata": {},
   "outputs": [],
   "source": [
    "# Encoding 방법에 따라 피쳐 분리 정의\n",
    "log_col = ['']\n",
    "minmax_col = ['']\n",
    "std_col = ['']\n",
    "robust_col = ['']\n",
    "bin_col = ['주차대수']"
   ]
  },
  {
   "cell_type": "code",
   "execution_count": 155,
   "metadata": {},
   "outputs": [
    {
     "data": {
      "text/plain": [
       "0"
      ]
     },
     "execution_count": 155,
     "metadata": {},
     "output_type": "execute_result"
    }
   ],
   "source": [
    "train_dt2['주차대수'].value_counts()\n",
    "train_dt2['주차대수'].isnull().sum()"
   ]
  },
  {
   "cell_type": "code",
   "execution_count": 59,
   "metadata": {},
   "outputs": [
    {
     "ename": "TypeError",
     "evalue": "'<' not supported between instances of 'int' and 'str'",
     "output_type": "error",
     "traceback": [
      "\u001b[0;31m---------------------------------------------------------------------------\u001b[0m",
      "\u001b[0;31mTypeError\u001b[0m                                 Traceback (most recent call last)",
      "Cell \u001b[0;32mIn[59], line 9\u001b[0m\n\u001b[1;32m      6\u001b[0m labels \u001b[38;5;241m=\u001b[39m [\u001b[38;5;124m\"\u001b[39m\u001b[38;5;124mCarLess\u001b[39m\u001b[38;5;124m\"\u001b[39m, \u001b[38;5;124m\"\u001b[39m\u001b[38;5;124mCarM\u001b[39m\u001b[38;5;124m\"\u001b[39m, \u001b[38;5;124m\"\u001b[39m\u001b[38;5;124mCarH\u001b[39m\u001b[38;5;124m\"\u001b[39m, \u001b[38;5;124m\"\u001b[39m\u001b[38;5;124mCarVH\u001b[39m\u001b[38;5;124m\"\u001b[39m]\n\u001b[1;32m      8\u001b[0m \u001b[38;5;66;03m# Binning을 수행합니다.\u001b[39;00m\n\u001b[0;32m----> 9\u001b[0m train_dt2[\u001b[38;5;124m'\u001b[39m\u001b[38;5;124m주차대수\u001b[39m\u001b[38;5;124m'\u001b[39m] \u001b[38;5;241m=\u001b[39m \u001b[43mpd\u001b[49m\u001b[38;5;241;43m.\u001b[39;49m\u001b[43mcut\u001b[49m\u001b[43m(\u001b[49m\u001b[43mtrain_dt2\u001b[49m\u001b[43m[\u001b[49m\u001b[38;5;124;43m'\u001b[39;49m\u001b[38;5;124;43m주차대수\u001b[39;49m\u001b[38;5;124;43m'\u001b[39;49m\u001b[43m]\u001b[49m\u001b[43m,\u001b[49m\u001b[43m \u001b[49m\u001b[43mbins\u001b[49m\u001b[38;5;241;43m=\u001b[39;49m\u001b[43mbins\u001b[49m\u001b[43m,\u001b[49m\u001b[43m \u001b[49m\u001b[43mlabels\u001b[49m\u001b[38;5;241;43m=\u001b[39;49m\u001b[43mlabels\u001b[49m\u001b[43m)\u001b[49m\n\u001b[1;32m     11\u001b[0m display(train_dt2)\n",
      "File \u001b[0;32m/opt/conda/lib/python3.10/site-packages/pandas/core/reshape/tile.py:293\u001b[0m, in \u001b[0;36mcut\u001b[0;34m(x, bins, right, labels, retbins, precision, include_lowest, duplicates, ordered)\u001b[0m\n\u001b[1;32m    290\u001b[0m     \u001b[38;5;28;01mif\u001b[39;00m (np\u001b[38;5;241m.\u001b[39mdiff(bins\u001b[38;5;241m.\u001b[39mastype(\u001b[38;5;124m\"\u001b[39m\u001b[38;5;124mfloat64\u001b[39m\u001b[38;5;124m\"\u001b[39m)) \u001b[38;5;241m<\u001b[39m \u001b[38;5;241m0\u001b[39m)\u001b[38;5;241m.\u001b[39many():\n\u001b[1;32m    291\u001b[0m         \u001b[38;5;28;01mraise\u001b[39;00m \u001b[38;5;167;01mValueError\u001b[39;00m(\u001b[38;5;124m\"\u001b[39m\u001b[38;5;124mbins must increase monotonically.\u001b[39m\u001b[38;5;124m\"\u001b[39m)\n\u001b[0;32m--> 293\u001b[0m fac, bins \u001b[38;5;241m=\u001b[39m \u001b[43m_bins_to_cuts\u001b[49m\u001b[43m(\u001b[49m\n\u001b[1;32m    294\u001b[0m \u001b[43m    \u001b[49m\u001b[43mx\u001b[49m\u001b[43m,\u001b[49m\n\u001b[1;32m    295\u001b[0m \u001b[43m    \u001b[49m\u001b[43mbins\u001b[49m\u001b[43m,\u001b[49m\n\u001b[1;32m    296\u001b[0m \u001b[43m    \u001b[49m\u001b[43mright\u001b[49m\u001b[38;5;241;43m=\u001b[39;49m\u001b[43mright\u001b[49m\u001b[43m,\u001b[49m\n\u001b[1;32m    297\u001b[0m \u001b[43m    \u001b[49m\u001b[43mlabels\u001b[49m\u001b[38;5;241;43m=\u001b[39;49m\u001b[43mlabels\u001b[49m\u001b[43m,\u001b[49m\n\u001b[1;32m    298\u001b[0m \u001b[43m    \u001b[49m\u001b[43mprecision\u001b[49m\u001b[38;5;241;43m=\u001b[39;49m\u001b[43mprecision\u001b[49m\u001b[43m,\u001b[49m\n\u001b[1;32m    299\u001b[0m \u001b[43m    \u001b[49m\u001b[43minclude_lowest\u001b[49m\u001b[38;5;241;43m=\u001b[39;49m\u001b[43minclude_lowest\u001b[49m\u001b[43m,\u001b[49m\n\u001b[1;32m    300\u001b[0m \u001b[43m    \u001b[49m\u001b[43mdtype\u001b[49m\u001b[38;5;241;43m=\u001b[39;49m\u001b[43mdtype\u001b[49m\u001b[43m,\u001b[49m\n\u001b[1;32m    301\u001b[0m \u001b[43m    \u001b[49m\u001b[43mduplicates\u001b[49m\u001b[38;5;241;43m=\u001b[39;49m\u001b[43mduplicates\u001b[49m\u001b[43m,\u001b[49m\n\u001b[1;32m    302\u001b[0m \u001b[43m    \u001b[49m\u001b[43mordered\u001b[49m\u001b[38;5;241;43m=\u001b[39;49m\u001b[43mordered\u001b[49m\u001b[43m,\u001b[49m\n\u001b[1;32m    303\u001b[0m \u001b[43m\u001b[49m\u001b[43m)\u001b[49m\n\u001b[1;32m    305\u001b[0m \u001b[38;5;28;01mreturn\u001b[39;00m _postprocess_for_cut(fac, bins, retbins, dtype, original)\n",
      "File \u001b[0;32m/opt/conda/lib/python3.10/site-packages/pandas/core/reshape/tile.py:428\u001b[0m, in \u001b[0;36m_bins_to_cuts\u001b[0;34m(x, bins, right, labels, precision, include_lowest, dtype, duplicates, ordered)\u001b[0m\n\u001b[1;32m    425\u001b[0m         bins \u001b[38;5;241m=\u001b[39m unique_bins\n\u001b[1;32m    427\u001b[0m side: Literal[\u001b[38;5;124m\"\u001b[39m\u001b[38;5;124mleft\u001b[39m\u001b[38;5;124m\"\u001b[39m, \u001b[38;5;124m\"\u001b[39m\u001b[38;5;124mright\u001b[39m\u001b[38;5;124m\"\u001b[39m] \u001b[38;5;241m=\u001b[39m \u001b[38;5;124m\"\u001b[39m\u001b[38;5;124mleft\u001b[39m\u001b[38;5;124m\"\u001b[39m \u001b[38;5;28;01mif\u001b[39;00m right \u001b[38;5;28;01melse\u001b[39;00m \u001b[38;5;124m\"\u001b[39m\u001b[38;5;124mright\u001b[39m\u001b[38;5;124m\"\u001b[39m\n\u001b[0;32m--> 428\u001b[0m ids \u001b[38;5;241m=\u001b[39m ensure_platform_int(\u001b[43mbins\u001b[49m\u001b[38;5;241;43m.\u001b[39;49m\u001b[43msearchsorted\u001b[49m\u001b[43m(\u001b[49m\u001b[43mx\u001b[49m\u001b[43m,\u001b[49m\u001b[43m \u001b[49m\u001b[43mside\u001b[49m\u001b[38;5;241;43m=\u001b[39;49m\u001b[43mside\u001b[49m\u001b[43m)\u001b[49m)\n\u001b[1;32m    430\u001b[0m \u001b[38;5;28;01mif\u001b[39;00m include_lowest:\n\u001b[1;32m    431\u001b[0m     ids[np\u001b[38;5;241m.\u001b[39masarray(x) \u001b[38;5;241m==\u001b[39m bins[\u001b[38;5;241m0\u001b[39m]] \u001b[38;5;241m=\u001b[39m \u001b[38;5;241m1\u001b[39m\n",
      "\u001b[0;31mTypeError\u001b[0m: '<' not supported between instances of 'int' and 'str'"
     ]
    }
   ],
   "source": [
    "# Binning\n",
    "train_dt2['주차대수'].describe(percentiles=[0.25, 0.5, 0.75, 1])\n",
    "bins = [0, 80, 740, 1350, 12100]\n",
    "\n",
    "# 구간마다 레이블을 정해줍니다.\n",
    "labels = [\"CarLess\", \"CarM\", \"CarH\", \"CarVH\"]\n",
    "\n",
    "# Binning을 수행합니다.\n",
    "train_dt2['주차대수'] = pd.cut(train_dt2['주차대수'], bins=bins, labels=labels)\n",
    "\n",
    "display(train_dt2)"
   ]
  },
  {
   "cell_type": "code",
   "execution_count": 60,
   "metadata": {},
   "outputs": [
    {
     "name": "stdout",
     "output_type": "stream",
     "text": [
      "연속형 변수: ['전용면적', '계약일', '층', '건축년도', '전체동수', '전체세대수', '연면적', '주거전용면적', '관리비부과면적', '전용면적<60', '전용면적60~85', '전용면적85~135', '건축면적', '좌표X', '좌표Y', 'target', 'is_test', '구 티어', '동 티어', '건축년도 티어']\n",
      "범주형 변수: ['번지', '본번', '부번', '아파트명', '도로명', '단지분류', '세대타입', '관리방식', '복도유형', '난방방식', '건설사', '시행사', '경비비관리형태', '세대전기계약방법', '주차대수', '기타/의무/임대/임의=1/2/3/4', '사용허가여부', '관리비 업로드', '단지신청일', '시', '구', '동', '계약년', '계약월']\n"
     ]
    },
    {
     "data": {
      "text/plain": [
       "번지                          0\n",
       "본번                          0\n",
       "부번                          0\n",
       "아파트명                        0\n",
       "도로명                         0\n",
       "단지분류                   866185\n",
       "세대타입                   865058\n",
       "관리방식                   865058\n",
       "복도유형                   865382\n",
       "난방방식                   865058\n",
       "건설사                    866549\n",
       "시행사                    866745\n",
       "경비비관리형태                866474\n",
       "세대전기계약방법               874209\n",
       "주차대수                        0\n",
       "기타/의무/임대/임의=1/2/3/4    865058\n",
       "사용허가여부                 865058\n",
       "관리비 업로드                865058\n",
       "단지신청일                  865120\n",
       "시                           0\n",
       "구                           0\n",
       "동                           0\n",
       "계약년                         0\n",
       "계약월                         0\n",
       "dtype: int64"
      ]
     },
     "execution_count": 60,
     "metadata": {},
     "output_type": "execute_result"
    }
   ],
   "source": [
    "#  다시 범주형, 연속형 변수 분리\n",
    "continuous_columns = []\n",
    "categorical_columns = []\n",
    "\n",
    "for column in train_dt2.columns:\n",
    "    if pd.api.types.is_numeric_dtype(train_dt2[column]):\n",
    "        continuous_columns.append(column)\n",
    "    else:\n",
    "        categorical_columns.append(column)\n",
    "\n",
    "print(\"연속형 변수:\", continuous_columns)\n",
    "print(\"범주형 변수:\", categorical_columns)\n",
    "\n",
    "train_dt2[continuous_columns].isnull().sum()\n",
    "train_dt2[categorical_columns].isnull().sum()"
   ]
  },
  {
   "cell_type": "markdown",
   "metadata": {},
   "source": [
    "#### 범주형 변수 보간"
   ]
  },
  {
   "cell_type": "code",
   "execution_count": 64,
   "metadata": {},
   "outputs": [
    {
     "name": "stdout",
     "output_type": "stream",
     "text": [
      "연속형 변수: ['전용면적', '계약일', '층', '건축년도', '전체동수', '전체세대수', '연면적', '주거전용면적', '전용면적<60', '전용면적60~85', '전용면적85~135', 'target', 'is_test', '구 티어', '동 티어', '건축년도 티어']\n",
      "범주형 변수: ['번지', '본번', '부번', '아파트명', '도로명', '단지분류', '세대타입', '관리방식', '복도유형', '난방방식', '건설사', '시행사', '경비비관리형태', '세대전기계약방법', '주차대수', '기타/의무/임대/임의=1/2/3/4', '사용허가여부', '관리비 업로드', '시', '구', '동', '계약년', '계약월']\n"
     ]
    }
   ],
   "source": [
    "# 위에서 피쳐 드랍을 했으니 다시 범주형, 연속형 변수 분리\n",
    "continuous_columns = []\n",
    "categorical_columns = []\n",
    "\n",
    "for column in train_dt2.columns:\n",
    "    if pd.api.types.is_numeric_dtype(train_dt2[column]):\n",
    "        continuous_columns.append(column)\n",
    "    else:\n",
    "        categorical_columns.append(column)\n",
    "\n",
    "print(\"연속형 변수:\", continuous_columns)\n",
    "print(\"범주형 변수:\", categorical_columns)"
   ]
  },
  {
   "cell_type": "code",
   "execution_count": 62,
   "metadata": {},
   "outputs": [],
   "source": [
    "train_dt2.drop(columns=['관리비부과면적', '좌표X', '좌표Y', '건축면적', '단지신청일'], inplace=True)\n",
    "\n"
   ]
  },
  {
   "cell_type": "code",
   "execution_count": 80,
   "metadata": {},
   "outputs": [
    {
     "data": {
      "text/plain": [
       "번지                     0\n",
       "본번                     0\n",
       "부번                     0\n",
       "아파트명                   0\n",
       "도로명                    0\n",
       "단지분류                   0\n",
       "세대타입                   0\n",
       "관리방식                   0\n",
       "복도유형                   0\n",
       "난방방식                   0\n",
       "건설사                    0\n",
       "시행사                    0\n",
       "경비비관리형태                0\n",
       "세대전기계약방법               0\n",
       "주차대수                   0\n",
       "기타/의무/임대/임의=1/2/3/4    0\n",
       "사용허가여부                 0\n",
       "관리비 업로드                0\n",
       "시                      0\n",
       "구                      0\n",
       "동                      0\n",
       "계약년                    0\n",
       "계약월                    0\n",
       "dtype: int64"
      ]
     },
     "execution_count": 80,
     "metadata": {},
     "output_type": "execute_result"
    }
   ],
   "source": [
    "train_dt2[continuous_columns].isnull().sum()\n",
    "train_dt2[categorical_columns].isnull().sum()"
   ]
  },
  {
   "cell_type": "code",
   "execution_count": 66,
   "metadata": {},
   "outputs": [
    {
     "name": "stdout",
     "output_type": "stream",
     "text": [
      "세대타입 컬럼의 최빈값: 분양\n",
      "관리방식 컬럼의 최빈값: 위탁관리\n",
      "경비비관리형태 컬럼의 최빈값: 위탁\n",
      "세대전기계약방법 컬럼의 최빈값: 종합계약\n",
      "기타/의무/임대/임의=1/2/3/4 컬럼의 최빈값: 의무\n",
      "사용허가여부 컬럼의 최빈값: Y\n",
      "관리비 업로드 컬럼의 최빈값: N\n"
     ]
    }
   ],
   "source": [
    "# # 관리방식, 경비비관리형태, 세대전기계약방법, 기타/의무/임대/임의, 사용허가여부, 관리비 업로드\n",
    "def mode_imputation(categorical_cols, df=train_dt2):\n",
    "    df_imputed = df.copy()\n",
    "    \n",
    "    for col in categorical_cols:\n",
    "        # 최빈값 계산 (여러 개인 경우 첫 번째 값 사용)\n",
    "        mode_val = df[col].mode()[0]\n",
    "        df_imputed[col] = df[col].fillna(mode_val)\n",
    "        \n",
    "        print(f\"{col} 컬럼의 최빈값: {mode_val}\")\n",
    "        \n",
    "    return df_imputed\n",
    "\n",
    "# 적용\n",
    "categorical_cols = ['세대타입', '관리방식', '경비비관리형태', '세대전기계약방법', '기타/의무/임대/임의=1/2/3/4', '사용허가여부', '관리비 업로드']\n",
    "train_dt2 = mode_imputation(df=train_dt2, categorical_cols=categorical_cols)"
   ]
  },
  {
   "cell_type": "code",
   "execution_count": 68,
   "metadata": {},
   "outputs": [
    {
     "name": "stdout",
     "output_type": "stream",
     "text": [
      "처리 시작...\n"
     ]
    },
    {
     "name": "stderr",
     "output_type": "stream",
     "text": [
      "전체 진행률:   0%|          | 0/1 [00:00<?, ?it/s]"
     ]
    },
    {
     "name": "stdout",
     "output_type": "stream",
     "text": [
      "\n",
      "단지분류 처리 중...\n",
      "처리할 결측치 수: 866185\n"
     ]
    },
    {
     "name": "stderr",
     "output_type": "stream",
     "text": [
      "전체 진행률: 100%|██████████| 1/1 [00:06<00:00,  6.12s/it]"
     ]
    },
    {
     "name": "stdout",
     "output_type": "stream",
     "text": [
      "처리 완료: 866185개 결측치 대체\n",
      "\n",
      "단지분류 결측치 수: 0\n"
     ]
    },
    {
     "name": "stderr",
     "output_type": "stream",
     "text": [
      "\n"
     ]
    }
   ],
   "source": [
    "    # 조건부 최빈값 \n",
    "    # 단지분류(전체동수, 주차대수) 복도유형(아파트명, 건축년도) 난방방식(아파트명, 건축년도, 전용면적), 건설사/시행사 : 세대수, 연면적, 단지분류\n",
    "def conditional_mode_imputation_fast(target_col, condition_cols, df=train_dt2):\n",
    "    df_imputed = df.copy()\n",
    "    missing_mask = df[target_col].isna()\n",
    "    \n",
    "    if not missing_mask.any():\n",
    "        print(f\"{target_col}의 결측치가 없습니다.\")\n",
    "        return df_imputed\n",
    "    \n",
    "    print(f\"처리할 결측치 수: {missing_mask.sum()}\")\n",
    "    \n",
    "    # 1. 조건 컬럼들을 결합하여 하나의 키로 만듦\n",
    "    df_imputed['temp_key'] = df_imputed[condition_cols].astype(str).agg('_'.join, axis=1)\n",
    "    \n",
    "    # 2. 각 조건 조합별 최빈값을 한 번에 계산\n",
    "    mode_dict = df_imputed[~missing_mask].groupby('temp_key')[target_col].agg(\n",
    "        lambda x: x.mode()[0] if not x.mode().empty else None\n",
    "    ).to_dict()\n",
    "    \n",
    "    # 3. 전체 최빈값 계산\n",
    "    overall_mode = df_imputed[target_col].mode()[0]\n",
    "    \n",
    "    # 4. 결측치가 있는 행들의 키에 대해 한 번에 값을 채움\n",
    "    missing_keys = df_imputed.loc[missing_mask, 'temp_key']\n",
    "    df_imputed.loc[missing_mask, target_col] = missing_keys.map(\n",
    "        lambda x: mode_dict.get(x, overall_mode)\n",
    "    )\n",
    "    \n",
    "    # 5. 임시 키 컬럼 제거\n",
    "    df_imputed.drop('temp_key', axis=1, inplace=True)\n",
    "    \n",
    "    print(f\"처리 완료: {missing_mask.sum()}개 결측치 대체\")\n",
    "    return df_imputed\n",
    "\n",
    "# 실행\n",
    "print(\"처리 시작...\")\n",
    "for col in tqdm(['단지분류'], desc=\"전체 진행률\"):\n",
    "    print(f\"\\n{col} 처리 중...\")\n",
    "    train_dt2 = conditional_mode_imputation_fast(\n",
    "        target_col=col,\n",
    "        condition_cols=['전체세대수', '주차대수'],\n",
    "        df=train_dt2\n",
    "    )\n",
    "    print(f\"\\n{col} 결측치 수: {train_dt2[col].isna().sum()}\")"
   ]
  },
  {
   "cell_type": "code",
   "execution_count": 74,
   "metadata": {},
   "outputs": [
    {
     "name": "stdout",
     "output_type": "stream",
     "text": [
      "처리 시작...\n"
     ]
    },
    {
     "name": "stderr",
     "output_type": "stream",
     "text": [
      "전체 진행률:   0%|          | 0/1 [00:00<?, ?it/s]"
     ]
    },
    {
     "name": "stdout",
     "output_type": "stream",
     "text": [
      "\n",
      "복도유형 처리 중...\n",
      "처리할 결측치 수: 865382\n"
     ]
    },
    {
     "name": "stderr",
     "output_type": "stream",
     "text": [
      "전체 진행률: 100%|██████████| 1/1 [00:06<00:00,  6.13s/it]"
     ]
    },
    {
     "name": "stdout",
     "output_type": "stream",
     "text": [
      "처리 완료: 865382개 결측치 대체\n",
      "\n",
      "복도유형 결측치 수: 0\n"
     ]
    },
    {
     "name": "stderr",
     "output_type": "stream",
     "text": [
      "\n"
     ]
    }
   ],
   "source": [
    "# 조건부 최빈값 \n",
    "# 단지분류(전체동수, 주차대수) 복도유형(아파트명, 건축년도) 난방방식(아파트명, 건축년도, 전용면적), 건설사/시행사 : 세대수, 연면적, 단지분류\n",
    "def conditional_mode_imputation_fast(target_col, condition_cols, df=train_dt2):\n",
    "    df_imputed = df.copy()\n",
    "    missing_mask = df[target_col].isna()\n",
    "    \n",
    "    if not missing_mask.any():\n",
    "        print(f\"{target_col}의 결측치가 없습니다.\")\n",
    "        return df_imputed\n",
    "    \n",
    "    print(f\"처리할 결측치 수: {missing_mask.sum()}\")\n",
    "    \n",
    "    # 1. 조건 컬럼들을 결합하여 하나의 키로 만듦\n",
    "    df_imputed['temp_key'] = df_imputed[condition_cols].astype(str).agg('_'.join, axis=1)\n",
    "    \n",
    "    # 2. 각 조건 조합별 최빈값을 한 번에 계산\n",
    "    mode_dict = df_imputed[~missing_mask].groupby('temp_key')[target_col].agg(\n",
    "        lambda x: x.mode()[0] if not x.mode().empty else None\n",
    "    ).to_dict()\n",
    "    \n",
    "    # 3. 전체 최빈값 계산\n",
    "    overall_mode = df_imputed[target_col].mode()[0]\n",
    "    \n",
    "    # 4. 결측치가 있는 행들의 키에 대해 한 번에 값을 채움\n",
    "    missing_keys = df_imputed.loc[missing_mask, 'temp_key']\n",
    "    df_imputed.loc[missing_mask, target_col] = missing_keys.map(\n",
    "        lambda x: mode_dict.get(x, overall_mode)\n",
    "    )\n",
    "    \n",
    "    # 5. 임시 키 컬럼 제거\n",
    "    df_imputed.drop('temp_key', axis=1, inplace=True)\n",
    "    \n",
    "    print(f\"처리 완료: {missing_mask.sum()}개 결측치 대체\")\n",
    "    return df_imputed\n",
    "\n",
    "# 실행\n",
    "print(\"처리 시작...\")\n",
    "for col in tqdm(['복도유형'], desc=\"전체 진행률\"):\n",
    "    print(f\"\\n{col} 처리 중...\")\n",
    "    train_dt2 = conditional_mode_imputation_fast(\n",
    "        target_col=col,\n",
    "        condition_cols=['아파트명', '건축년도'],\n",
    "        df=train_dt2\n",
    "    )\n",
    "    print(f\"\\n{col} 결측치 수: {train_dt2[col].isna().sum()}\")"
   ]
  },
  {
   "cell_type": "code",
   "execution_count": 76,
   "metadata": {},
   "outputs": [
    {
     "name": "stdout",
     "output_type": "stream",
     "text": [
      "처리 시작...\n"
     ]
    },
    {
     "name": "stderr",
     "output_type": "stream",
     "text": [
      "전체 진행률:   0%|          | 0/1 [00:00<?, ?it/s]"
     ]
    },
    {
     "name": "stdout",
     "output_type": "stream",
     "text": [
      "\n",
      "난방방식 처리 중...\n",
      "난방방식의 결측치가 없습니다.\n"
     ]
    },
    {
     "name": "stderr",
     "output_type": "stream",
     "text": [
      "전체 진행률: 100%|██████████| 1/1 [00:00<00:00,  4.75it/s]"
     ]
    },
    {
     "name": "stdout",
     "output_type": "stream",
     "text": [
      "\n",
      "난방방식 결측치 수: 0\n"
     ]
    },
    {
     "name": "stderr",
     "output_type": "stream",
     "text": [
      "\n"
     ]
    }
   ],
   "source": [
    "# 조건부 최빈값 \n",
    "# 단지분류(전체동수, 주차대수) 복도유형(아파트명, 건축년도) 난방방식(아파트명, 건축년도, 전용면적), 건설사/시행사 : 세대수, 연면적, 단지분류\n",
    "def conditional_mode_imputation_fast(target_col, condition_cols, df=train_dt2):\n",
    "    df_imputed = df.copy()\n",
    "    missing_mask = df[target_col].isna()\n",
    "    \n",
    "    if not missing_mask.any():\n",
    "        print(f\"{target_col}의 결측치가 없습니다.\")\n",
    "        return df_imputed\n",
    "    \n",
    "    print(f\"처리할 결측치 수: {missing_mask.sum()}\")\n",
    "    \n",
    "    # 1. 조건 컬럼들을 결합하여 하나의 키로 만듦\n",
    "    df_imputed['temp_key'] = df_imputed[condition_cols].astype(str).agg('_'.join, axis=1)\n",
    "    \n",
    "    # 2. 각 조건 조합별 최빈값을 한 번에 계산\n",
    "    mode_dict = df_imputed[~missing_mask].groupby('temp_key')[target_col].agg(\n",
    "        lambda x: x.mode()[0] if not x.mode().empty else None\n",
    "    ).to_dict()\n",
    "    \n",
    "    # 3. 전체 최빈값 계산\n",
    "    overall_mode = df_imputed[target_col].mode()[0]\n",
    "    \n",
    "    # 4. 결측치가 있는 행들의 키에 대해 한 번에 값을 채움\n",
    "    missing_keys = df_imputed.loc[missing_mask, 'temp_key']\n",
    "    df_imputed.loc[missing_mask, target_col] = missing_keys.map(\n",
    "        lambda x: mode_dict.get(x, overall_mode)\n",
    "    )\n",
    "    \n",
    "    # 5. 임시 키 컬럼 제거\n",
    "    df_imputed.drop('temp_key', axis=1, inplace=True)\n",
    "    \n",
    "    print(f\"처리 완료: {missing_mask.sum()}개 결측치 대체\")\n",
    "    return df_imputed\n",
    "\n",
    "# 실행\n",
    "print(\"처리 시작...\")\n",
    "for col in tqdm(['난방방식'], desc=\"전체 진행률\"):\n",
    "    print(f\"\\n{col} 처리 중...\")\n",
    "    train_dt2 = conditional_mode_imputation_fast(\n",
    "        target_col=col,\n",
    "        condition_cols=['아파트명', '건축년도', '전용면적'],\n",
    "        df=train_dt2\n",
    "    )\n",
    "    print(f\"\\n{col} 결측치 수: {train_dt2[col].isna().sum()}\")"
   ]
  },
  {
   "cell_type": "code",
   "execution_count": 77,
   "metadata": {},
   "outputs": [
    {
     "name": "stdout",
     "output_type": "stream",
     "text": [
      "처리 시작...\n"
     ]
    },
    {
     "name": "stderr",
     "output_type": "stream",
     "text": [
      "전체 진행률:   0%|          | 0/1 [00:00<?, ?it/s]"
     ]
    },
    {
     "name": "stdout",
     "output_type": "stream",
     "text": [
      "\n",
      "건설사 처리 중...\n",
      "처리할 결측치 수: 866549\n"
     ]
    },
    {
     "name": "stderr",
     "output_type": "stream",
     "text": [
      "전체 진행률: 100%|██████████| 1/1 [00:06<00:00,  6.68s/it]"
     ]
    },
    {
     "name": "stdout",
     "output_type": "stream",
     "text": [
      "처리 완료: 866549개 결측치 대체\n",
      "\n",
      "건설사 결측치 수: 0\n"
     ]
    },
    {
     "name": "stderr",
     "output_type": "stream",
     "text": [
      "\n"
     ]
    }
   ],
   "source": [
    "# 조건부 최빈값 \n",
    "# 단지분류(전체동수, 주차대수) 복도유형(아파트명, 건축년도) 난방방식(아파트명, 건축년도, 전용면적), 건설사/시행사 : 세대수, 연면적, 단지분류\n",
    "def conditional_mode_imputation_fast(target_col, condition_cols, df=train_dt2):\n",
    "    df_imputed = df.copy()\n",
    "    missing_mask = df[target_col].isna()\n",
    "    \n",
    "    if not missing_mask.any():\n",
    "        print(f\"{target_col}의 결측치가 없습니다.\")\n",
    "        return df_imputed\n",
    "    \n",
    "    print(f\"처리할 결측치 수: {missing_mask.sum()}\")\n",
    "    \n",
    "    # 1. 조건 컬럼들을 결합하여 하나의 키로 만듦\n",
    "    df_imputed['temp_key'] = df_imputed[condition_cols].astype(str).agg('_'.join, axis=1)\n",
    "    \n",
    "    # 2. 각 조건 조합별 최빈값을 한 번에 계산\n",
    "    mode_dict = df_imputed[~missing_mask].groupby('temp_key')[target_col].agg(\n",
    "        lambda x: x.mode()[0] if not x.mode().empty else None\n",
    "    ).to_dict()\n",
    "    \n",
    "    # 3. 전체 최빈값 계산\n",
    "    overall_mode = df_imputed[target_col].mode()[0]\n",
    "    \n",
    "    # 4. 결측치가 있는 행들의 키에 대해 한 번에 값을 채움\n",
    "    missing_keys = df_imputed.loc[missing_mask, 'temp_key']\n",
    "    df_imputed.loc[missing_mask, target_col] = missing_keys.map(\n",
    "        lambda x: mode_dict.get(x, overall_mode)\n",
    "    )\n",
    "    \n",
    "    # 5. 임시 키 컬럼 제거\n",
    "    df_imputed.drop('temp_key', axis=1, inplace=True)\n",
    "    \n",
    "    print(f\"처리 완료: {missing_mask.sum()}개 결측치 대체\")\n",
    "    return df_imputed\n",
    "\n",
    "# 실행\n",
    "print(\"처리 시작...\")\n",
    "for col in tqdm(['건설사'], desc=\"전체 진행률\"):\n",
    "    print(f\"\\n{col} 처리 중...\")\n",
    "    train_dt2 = conditional_mode_imputation_fast(\n",
    "        target_col=col,\n",
    "        condition_cols=['전체세대수', '연면적', '단지분류'],\n",
    "        df=train_dt2\n",
    "    )\n",
    "    print(f\"\\n{col} 결측치 수: {train_dt2[col].isna().sum()}\")"
   ]
  },
  {
   "cell_type": "code",
   "execution_count": 78,
   "metadata": {},
   "outputs": [
    {
     "name": "stdout",
     "output_type": "stream",
     "text": [
      "처리 시작...\n"
     ]
    },
    {
     "name": "stderr",
     "output_type": "stream",
     "text": [
      "전체 진행률:   0%|          | 0/1 [00:00<?, ?it/s]"
     ]
    },
    {
     "name": "stdout",
     "output_type": "stream",
     "text": [
      "\n",
      "시행사 처리 중...\n",
      "처리할 결측치 수: 866745\n"
     ]
    },
    {
     "name": "stderr",
     "output_type": "stream",
     "text": [
      "전체 진행률: 100%|██████████| 1/1 [00:06<00:00,  6.66s/it]"
     ]
    },
    {
     "name": "stdout",
     "output_type": "stream",
     "text": [
      "처리 완료: 866745개 결측치 대체\n",
      "\n",
      "시행사 결측치 수: 0\n"
     ]
    },
    {
     "name": "stderr",
     "output_type": "stream",
     "text": [
      "\n"
     ]
    }
   ],
   "source": [
    "# 조건부 최빈값 \n",
    "# 단지분류(전체동수, 주차대수) 복도유형(아파트명, 건축년도) 난방방식(아파트명, 건축년도, 전용면적), 건설사/시행사 : 세대수, 연면적, 단지분류\n",
    "def conditional_mode_imputation_fast(target_col, condition_cols, df=train_dt2):\n",
    "    df_imputed = df.copy()\n",
    "    missing_mask = df[target_col].isna()\n",
    "    \n",
    "    if not missing_mask.any():\n",
    "        print(f\"{target_col}의 결측치가 없습니다.\")\n",
    "        return df_imputed\n",
    "    \n",
    "    print(f\"처리할 결측치 수: {missing_mask.sum()}\")\n",
    "    \n",
    "    # 1. 조건 컬럼들을 결합하여 하나의 키로 만듦\n",
    "    df_imputed['temp_key'] = df_imputed[condition_cols].astype(str).agg('_'.join, axis=1)\n",
    "    \n",
    "    # 2. 각 조건 조합별 최빈값을 한 번에 계산\n",
    "    mode_dict = df_imputed[~missing_mask].groupby('temp_key')[target_col].agg(\n",
    "        lambda x: x.mode()[0] if not x.mode().empty else None\n",
    "    ).to_dict()\n",
    "    \n",
    "    # 3. 전체 최빈값 계산\n",
    "    overall_mode = df_imputed[target_col].mode()[0]\n",
    "    \n",
    "    # 4. 결측치가 있는 행들의 키에 대해 한 번에 값을 채움\n",
    "    missing_keys = df_imputed.loc[missing_mask, 'temp_key']\n",
    "    df_imputed.loc[missing_mask, target_col] = missing_keys.map(\n",
    "        lambda x: mode_dict.get(x, overall_mode)\n",
    "    )\n",
    "    \n",
    "    # 5. 임시 키 컬럼 제거\n",
    "    df_imputed.drop('temp_key', axis=1, inplace=True)\n",
    "    \n",
    "    print(f\"처리 완료: {missing_mask.sum()}개 결측치 대체\")\n",
    "    return df_imputed\n",
    "\n",
    "# 실행\n",
    "print(\"처리 시작...\")\n",
    "for col in tqdm(['시행사'], desc=\"전체 진행률\"):\n",
    "    print(f\"\\n{col} 처리 중...\")\n",
    "    train_dt2 = conditional_mode_imputation_fast(\n",
    "        target_col=col,\n",
    "        condition_cols=['전체세대수', '연면적', '단지분류'],\n",
    "        df=train_dt2\n",
    "    )\n",
    "    print(f\"\\n{col} 결측치 수: {train_dt2[col].isna().sum()}\")"
   ]
  },
  {
   "cell_type": "code",
   "execution_count": 79,
   "metadata": {},
   "outputs": [
    {
     "data": {
      "text/plain": [
       "번지                     0\n",
       "본번                     0\n",
       "부번                     0\n",
       "아파트명                   0\n",
       "전용면적                   0\n",
       "계약일                    0\n",
       "층                      0\n",
       "건축년도                   0\n",
       "도로명                    0\n",
       "단지분류                   0\n",
       "세대타입                   0\n",
       "관리방식                   0\n",
       "복도유형                   0\n",
       "난방방식                   0\n",
       "전체동수                   0\n",
       "전체세대수                  0\n",
       "건설사                    0\n",
       "시행사                    0\n",
       "연면적                    0\n",
       "주거전용면적                 0\n",
       "전용면적<60                0\n",
       "전용면적60~85              0\n",
       "전용면적85~135             0\n",
       "경비비관리형태                0\n",
       "세대전기계약방법               0\n",
       "주차대수                   0\n",
       "기타/의무/임대/임의=1/2/3/4    0\n",
       "사용허가여부                 0\n",
       "관리비 업로드                0\n",
       "target                 0\n",
       "is_test                0\n",
       "시                      0\n",
       "구                      0\n",
       "동                      0\n",
       "계약년                    0\n",
       "계약월                    0\n",
       "구 티어                   0\n",
       "동 티어                   0\n",
       "건축년도 티어                0\n",
       "dtype: int64"
      ]
     },
     "execution_count": 79,
     "metadata": {},
     "output_type": "execute_result"
    }
   ],
   "source": [
    "train_dt2.isnull().sum()"
   ]
  },
  {
   "cell_type": "code",
   "execution_count": 106,
   "metadata": {},
   "outputs": [
    {
     "data": {
      "text/html": [
       "<div>\n",
       "<style scoped>\n",
       "    .dataframe tbody tr th:only-of-type {\n",
       "        vertical-align: middle;\n",
       "    }\n",
       "\n",
       "    .dataframe tbody tr th {\n",
       "        vertical-align: top;\n",
       "    }\n",
       "\n",
       "    .dataframe thead th {\n",
       "        text-align: right;\n",
       "    }\n",
       "</style>\n",
       "<table border=\"1\" class=\"dataframe\">\n",
       "  <thead>\n",
       "    <tr style=\"text-align: right;\">\n",
       "      <th></th>\n",
       "      <th>전용면적</th>\n",
       "      <th>계약일</th>\n",
       "      <th>층</th>\n",
       "      <th>건축년도</th>\n",
       "      <th>전체동수</th>\n",
       "      <th>전체세대수</th>\n",
       "      <th>연면적</th>\n",
       "      <th>주거전용면적</th>\n",
       "      <th>전용면적&lt;60</th>\n",
       "      <th>전용면적60~85</th>\n",
       "      <th>전용면적85~135</th>\n",
       "      <th>target</th>\n",
       "      <th>is_test</th>\n",
       "      <th>구 티어</th>\n",
       "      <th>동 티어</th>\n",
       "      <th>건축년도 티어</th>\n",
       "    </tr>\n",
       "  </thead>\n",
       "  <tbody>\n",
       "    <tr>\n",
       "      <th>count</th>\n",
       "      <td>1.113399e+06</td>\n",
       "      <td>1.113399e+06</td>\n",
       "      <td>1.113399e+06</td>\n",
       "      <td>1.113399e+06</td>\n",
       "      <td>1.113399e+06</td>\n",
       "      <td>1.113399e+06</td>\n",
       "      <td>1.113399e+06</td>\n",
       "      <td>1.113399e+06</td>\n",
       "      <td>1.113399e+06</td>\n",
       "      <td>1.113399e+06</td>\n",
       "      <td>1.113399e+06</td>\n",
       "      <td>1.113399e+06</td>\n",
       "      <td>1113399.0</td>\n",
       "      <td>1.113399e+06</td>\n",
       "      <td>1.113399e+06</td>\n",
       "      <td>1.113399e+06</td>\n",
       "    </tr>\n",
       "    <tr>\n",
       "      <th>mean</th>\n",
       "      <td>7.722581e+01</td>\n",
       "      <td>1.580761e+01</td>\n",
       "      <td>8.881450e+00</td>\n",
       "      <td>1.998747e+03</td>\n",
       "      <td>8.606882e+00</td>\n",
       "      <td>7.132555e+02</td>\n",
       "      <td>9.795114e+04</td>\n",
       "      <td>5.763709e+04</td>\n",
       "      <td>3.936142e+02</td>\n",
       "      <td>3.233408e+02</td>\n",
       "      <td>1.566720e+02</td>\n",
       "      <td>5.792354e+04</td>\n",
       "      <td>0.0</td>\n",
       "      <td>2.254209e+00</td>\n",
       "      <td>2.772659e+00</td>\n",
       "      <td>2.666140e+00</td>\n",
       "    </tr>\n",
       "    <tr>\n",
       "      <th>std</th>\n",
       "      <td>2.933244e+01</td>\n",
       "      <td>8.721005e+00</td>\n",
       "      <td>5.980544e+00</td>\n",
       "      <td>9.328752e+00</td>\n",
       "      <td>1.150960e+01</td>\n",
       "      <td>8.283381e+02</td>\n",
       "      <td>1.295621e+05</td>\n",
       "      <td>6.886118e+04</td>\n",
       "      <td>5.295789e+02</td>\n",
       "      <td>4.409275e+02</td>\n",
       "      <td>1.791828e+02</td>\n",
       "      <td>4.622250e+04</td>\n",
       "      <td>0.0</td>\n",
       "      <td>8.044587e-01</td>\n",
       "      <td>5.937152e-01</td>\n",
       "      <td>1.168414e+00</td>\n",
       "    </tr>\n",
       "    <tr>\n",
       "      <th>min</th>\n",
       "      <td>1.002000e+01</td>\n",
       "      <td>1.000000e+00</td>\n",
       "      <td>1.000000e+00</td>\n",
       "      <td>1.961000e+03</td>\n",
       "      <td>1.000000e+00</td>\n",
       "      <td>5.900000e+01</td>\n",
       "      <td>0.000000e+00</td>\n",
       "      <td>2.338000e+03</td>\n",
       "      <td>1.000000e+00</td>\n",
       "      <td>1.000000e+00</td>\n",
       "      <td>1.000000e+00</td>\n",
       "      <td>3.500000e+02</td>\n",
       "      <td>0.0</td>\n",
       "      <td>1.000000e+00</td>\n",
       "      <td>1.000000e+00</td>\n",
       "      <td>1.000000e+00</td>\n",
       "    </tr>\n",
       "    <tr>\n",
       "      <th>25%</th>\n",
       "      <td>5.967000e+01</td>\n",
       "      <td>8.000000e+00</td>\n",
       "      <td>4.000000e+00</td>\n",
       "      <td>1.992000e+03</td>\n",
       "      <td>3.000000e+00</td>\n",
       "      <td>2.670300e+02</td>\n",
       "      <td>3.556746e+04</td>\n",
       "      <td>2.159890e+04</td>\n",
       "      <td>1.243700e+02</td>\n",
       "      <td>1.205500e+02</td>\n",
       "      <td>4.805000e+01</td>\n",
       "      <td>3.050000e+04</td>\n",
       "      <td>0.0</td>\n",
       "      <td>2.000000e+00</td>\n",
       "      <td>3.000000e+00</td>\n",
       "      <td>2.000000e+00</td>\n",
       "    </tr>\n",
       "    <tr>\n",
       "      <th>50%</th>\n",
       "      <td>8.198530e+01</td>\n",
       "      <td>1.600000e+01</td>\n",
       "      <td>8.000000e+00</td>\n",
       "      <td>2.000000e+03</td>\n",
       "      <td>5.390000e+00</td>\n",
       "      <td>4.490000e+02</td>\n",
       "      <td>6.067661e+04</td>\n",
       "      <td>3.645726e+04</td>\n",
       "      <td>2.200000e+02</td>\n",
       "      <td>2.028800e+02</td>\n",
       "      <td>9.452000e+01</td>\n",
       "      <td>4.475000e+04</td>\n",
       "      <td>0.0</td>\n",
       "      <td>2.000000e+00</td>\n",
       "      <td>3.000000e+00</td>\n",
       "      <td>3.000000e+00</td>\n",
       "    </tr>\n",
       "    <tr>\n",
       "      <th>75%</th>\n",
       "      <td>8.496000e+01</td>\n",
       "      <td>2.300000e+01</td>\n",
       "      <td>1.200000e+01</td>\n",
       "      <td>2.005000e+03</td>\n",
       "      <td>1.000000e+01</td>\n",
       "      <td>8.000000e+02</td>\n",
       "      <td>1.107011e+05</td>\n",
       "      <td>6.728900e+04</td>\n",
       "      <td>4.493100e+02</td>\n",
       "      <td>3.622800e+02</td>\n",
       "      <td>1.825200e+02</td>\n",
       "      <td>6.950000e+04</td>\n",
       "      <td>0.0</td>\n",
       "      <td>3.000000e+00</td>\n",
       "      <td>3.000000e+00</td>\n",
       "      <td>4.000000e+00</td>\n",
       "    </tr>\n",
       "    <tr>\n",
       "      <th>max</th>\n",
       "      <td>4.243200e+02</td>\n",
       "      <td>3.100000e+01</td>\n",
       "      <td>6.900000e+01</td>\n",
       "      <td>2.023000e+03</td>\n",
       "      <td>1.240000e+02</td>\n",
       "      <td>9.510000e+03</td>\n",
       "      <td>9.591851e+06</td>\n",
       "      <td>7.347810e+05</td>\n",
       "      <td>4.975000e+03</td>\n",
       "      <td>5.132000e+03</td>\n",
       "      <td>1.500000e+03</td>\n",
       "      <td>1.450000e+06</td>\n",
       "      <td>0.0</td>\n",
       "      <td>3.000000e+00</td>\n",
       "      <td>3.000000e+00</td>\n",
       "      <td>4.000000e+00</td>\n",
       "    </tr>\n",
       "  </tbody>\n",
       "</table>\n",
       "</div>"
      ],
      "text/plain": [
       "               전용면적           계약일             층          건축년도          전체동수  \\\n",
       "count  1.113399e+06  1.113399e+06  1.113399e+06  1.113399e+06  1.113399e+06   \n",
       "mean   7.722581e+01  1.580761e+01  8.881450e+00  1.998747e+03  8.606882e+00   \n",
       "std    2.933244e+01  8.721005e+00  5.980544e+00  9.328752e+00  1.150960e+01   \n",
       "min    1.002000e+01  1.000000e+00  1.000000e+00  1.961000e+03  1.000000e+00   \n",
       "25%    5.967000e+01  8.000000e+00  4.000000e+00  1.992000e+03  3.000000e+00   \n",
       "50%    8.198530e+01  1.600000e+01  8.000000e+00  2.000000e+03  5.390000e+00   \n",
       "75%    8.496000e+01  2.300000e+01  1.200000e+01  2.005000e+03  1.000000e+01   \n",
       "max    4.243200e+02  3.100000e+01  6.900000e+01  2.023000e+03  1.240000e+02   \n",
       "\n",
       "              전체세대수           연면적        주거전용면적       전용면적<60     전용면적60~85  \\\n",
       "count  1.113399e+06  1.113399e+06  1.113399e+06  1.113399e+06  1.113399e+06   \n",
       "mean   7.132555e+02  9.795114e+04  5.763709e+04  3.936142e+02  3.233408e+02   \n",
       "std    8.283381e+02  1.295621e+05  6.886118e+04  5.295789e+02  4.409275e+02   \n",
       "min    5.900000e+01  0.000000e+00  2.338000e+03  1.000000e+00  1.000000e+00   \n",
       "25%    2.670300e+02  3.556746e+04  2.159890e+04  1.243700e+02  1.205500e+02   \n",
       "50%    4.490000e+02  6.067661e+04  3.645726e+04  2.200000e+02  2.028800e+02   \n",
       "75%    8.000000e+02  1.107011e+05  6.728900e+04  4.493100e+02  3.622800e+02   \n",
       "max    9.510000e+03  9.591851e+06  7.347810e+05  4.975000e+03  5.132000e+03   \n",
       "\n",
       "         전용면적85~135        target    is_test          구 티어          동 티어  \\\n",
       "count  1.113399e+06  1.113399e+06  1113399.0  1.113399e+06  1.113399e+06   \n",
       "mean   1.566720e+02  5.792354e+04        0.0  2.254209e+00  2.772659e+00   \n",
       "std    1.791828e+02  4.622250e+04        0.0  8.044587e-01  5.937152e-01   \n",
       "min    1.000000e+00  3.500000e+02        0.0  1.000000e+00  1.000000e+00   \n",
       "25%    4.805000e+01  3.050000e+04        0.0  2.000000e+00  3.000000e+00   \n",
       "50%    9.452000e+01  4.475000e+04        0.0  2.000000e+00  3.000000e+00   \n",
       "75%    1.825200e+02  6.950000e+04        0.0  3.000000e+00  3.000000e+00   \n",
       "max    1.500000e+03  1.450000e+06        0.0  3.000000e+00  3.000000e+00   \n",
       "\n",
       "            건축년도 티어  \n",
       "count  1.113399e+06  \n",
       "mean   2.666140e+00  \n",
       "std    1.168414e+00  \n",
       "min    1.000000e+00  \n",
       "25%    2.000000e+00  \n",
       "50%    3.000000e+00  \n",
       "75%    4.000000e+00  \n",
       "max    4.000000e+00  "
      ]
     },
     "execution_count": 106,
     "metadata": {},
     "output_type": "execute_result"
    }
   ],
   "source": [
    "train_dt2[continuous_columns].describe()"
   ]
  },
  {
   "cell_type": "markdown",
   "metadata": {},
   "source": [
    "#### 함수변환"
   ]
  },
  {
   "cell_type": "code",
   "execution_count": 109,
   "metadata": {},
   "outputs": [
    {
     "name": "stdout",
     "output_type": "stream",
     "text": [
      "\n",
      "로그 변환된 컬럼의 통계량:\n",
      "         주거전용면적_log       연면적_log\n",
      "count  1.113399e+06  1.113399e+06\n",
      "mean   1.057099e+01  1.107180e+01\n",
      "std    8.450666e-01  9.317903e-01\n",
      "min    7.757479e+00  0.000000e+00\n",
      "25%    9.980444e+00  1.047921e+01\n",
      "50%    1.050392e+01  1.101333e+01\n",
      "75%    1.111677e+01  1.161460e+01\n",
      "max    1.350733e+01  1.607642e+01\n"
     ]
    }
   ],
   "source": [
    "# Log Transformation\n",
    "Log_col = ['주거전용면적', '연면적']\n",
    "for col in Log_col:\n",
    "    train_dt2[f'{col}_log'] = np.log1p(train_dt2[col])\n",
    "\n",
    "print(\"\\n로그 변환된 컬럼의 통계량:\")\n",
    "print(train_dt2[[f'{col}_log' for col in Log_col]].describe())\n",
    "\n"
   ]
  },
  {
   "cell_type": "code",
   "execution_count": 113,
   "metadata": {},
   "outputs": [
    {
     "data": {
      "image/png": "[encoded data removed]",
      "text/plain": [
       "<Figure size 1500x500 with 2 Axes>"
      ]
     },
     "metadata": {},
     "output_type": "display_data"
    }
   ],
   "source": [
    "# 1. 히스토그램과 커널밀도 플롯을 함께 보여주는 방법\n",
    "import seaborn as sns\n",
    "import matplotlib.pyplot as plt\n",
    "\n",
    "# 그래프 크기 설정\n",
    "plt.figure(figsize=(15, 5))\n",
    "\n",
    "# 로그 변환된 컬럼들에 대해 subplot 생성\n",
    "for idx, col in enumerate(Log_col, 1):\n",
    "    plt.subplot(1, 2, idx)\n",
    "    \n",
    "    # histplot으로 히스토그램과 커널밀도를 함께 표시\n",
    "    sns.histplot(data=train_dt2, x=f'{col}_log', kde=True)\n",
    "    \n",
    "    plt.title(f'{col} (로그 변환 후)')\n",
    "    plt.xlabel('Value (log scale)')\n",
    "    plt.ylabel('Count')\n",
    "\n",
    "plt.tight_layout()\n",
    "plt.show()"
   ]
  },
  {
   "cell_type": "code",
   "execution_count": 107,
   "metadata": {},
   "outputs": [
    {
     "ename": "ValueError",
     "evalue": "Expected a 2-dimensional container but got <class 'pandas.core.series.Series'> instead. Pass a DataFrame containing a single row (i.e. single sample) or a single column (i.e. single feature) instead.",
     "output_type": "error",
     "traceback": [
      "\u001b[0;31m---------------------------------------------------------------------------\u001b[0m",
      "\u001b[0;31mValueError\u001b[0m                                Traceback (most recent call last)",
      "Cell \u001b[0;32mIn[107], line 7\u001b[0m\n\u001b[1;32m      5\u001b[0m \u001b[38;5;28;01mfor\u001b[39;00m col \u001b[38;5;129;01min\u001b[39;00m Robust_col:\n\u001b[1;32m      6\u001b[0m     scaler \u001b[38;5;241m=\u001b[39m RobustScaler()\n\u001b[0;32m----> 7\u001b[0m     train_dt2[\u001b[38;5;124mf\u001b[39m\u001b[38;5;124m'\u001b[39m\u001b[38;5;124mRobust_\u001b[39m\u001b[38;5;132;01m{\u001b[39;00mcol\u001b[38;5;132;01m}\u001b[39;00m\u001b[38;5;124m'\u001b[39m] \u001b[38;5;241m=\u001b[39m \u001b[43mscaler\u001b[49m\u001b[38;5;241;43m.\u001b[39;49m\u001b[43mfit_transform\u001b[49m\u001b[43m(\u001b[49m\u001b[43mtrain_dt2\u001b[49m\u001b[43m[\u001b[49m\u001b[43mcol\u001b[49m\u001b[43m]\u001b[49m\u001b[43m)\u001b[49m\n\u001b[1;32m      9\u001b[0m display(train_dt2\u001b[38;5;241m.\u001b[39mdescribe())  \n\u001b[1;32m     11\u001b[0m \u001b[38;5;66;03m# scatter plot 확인\u001b[39;00m\n",
      "File \u001b[0;32m/opt/conda/lib/python3.10/site-packages/sklearn/utils/_set_output.py:295\u001b[0m, in \u001b[0;36m_wrap_method_output.<locals>.wrapped\u001b[0;34m(self, X, *args, **kwargs)\u001b[0m\n\u001b[1;32m    293\u001b[0m \u001b[38;5;129m@wraps\u001b[39m(f)\n\u001b[1;32m    294\u001b[0m \u001b[38;5;28;01mdef\u001b[39;00m \u001b[38;5;21mwrapped\u001b[39m(\u001b[38;5;28mself\u001b[39m, X, \u001b[38;5;241m*\u001b[39margs, \u001b[38;5;241m*\u001b[39m\u001b[38;5;241m*\u001b[39mkwargs):\n\u001b[0;32m--> 295\u001b[0m     data_to_wrap \u001b[38;5;241m=\u001b[39m \u001b[43mf\u001b[49m\u001b[43m(\u001b[49m\u001b[38;5;28;43mself\u001b[39;49m\u001b[43m,\u001b[49m\u001b[43m \u001b[49m\u001b[43mX\u001b[49m\u001b[43m,\u001b[49m\u001b[43m \u001b[49m\u001b[38;5;241;43m*\u001b[39;49m\u001b[43margs\u001b[49m\u001b[43m,\u001b[49m\u001b[43m \u001b[49m\u001b[38;5;241;43m*\u001b[39;49m\u001b[38;5;241;43m*\u001b[39;49m\u001b[43mkwargs\u001b[49m\u001b[43m)\u001b[49m\n\u001b[1;32m    296\u001b[0m     \u001b[38;5;28;01mif\u001b[39;00m \u001b[38;5;28misinstance\u001b[39m(data_to_wrap, \u001b[38;5;28mtuple\u001b[39m):\n\u001b[1;32m    297\u001b[0m         \u001b[38;5;66;03m# only wrap the first output for cross decomposition\u001b[39;00m\n\u001b[1;32m    298\u001b[0m         return_tuple \u001b[38;5;241m=\u001b[39m (\n\u001b[1;32m    299\u001b[0m             _wrap_data_with_container(method, data_to_wrap[\u001b[38;5;241m0\u001b[39m], X, \u001b[38;5;28mself\u001b[39m),\n\u001b[1;32m    300\u001b[0m             \u001b[38;5;241m*\u001b[39mdata_to_wrap[\u001b[38;5;241m1\u001b[39m:],\n\u001b[1;32m    301\u001b[0m         )\n",
      "File \u001b[0;32m/opt/conda/lib/python3.10/site-packages/sklearn/base.py:1098\u001b[0m, in \u001b[0;36mTransformerMixin.fit_transform\u001b[0;34m(self, X, y, **fit_params)\u001b[0m\n\u001b[1;32m   1083\u001b[0m         warnings\u001b[38;5;241m.\u001b[39mwarn(\n\u001b[1;32m   1084\u001b[0m             (\n\u001b[1;32m   1085\u001b[0m                 \u001b[38;5;124mf\u001b[39m\u001b[38;5;124m\"\u001b[39m\u001b[38;5;124mThis object (\u001b[39m\u001b[38;5;132;01m{\u001b[39;00m\u001b[38;5;28mself\u001b[39m\u001b[38;5;241m.\u001b[39m\u001b[38;5;18m__class__\u001b[39m\u001b[38;5;241m.\u001b[39m\u001b[38;5;18m__name__\u001b[39m\u001b[38;5;132;01m}\u001b[39;00m\u001b[38;5;124m) has a `transform`\u001b[39m\u001b[38;5;124m\"\u001b[39m\n\u001b[0;32m   (...)\u001b[0m\n\u001b[1;32m   1093\u001b[0m             \u001b[38;5;167;01mUserWarning\u001b[39;00m,\n\u001b[1;32m   1094\u001b[0m         )\n\u001b[1;32m   1096\u001b[0m \u001b[38;5;28;01mif\u001b[39;00m y \u001b[38;5;129;01mis\u001b[39;00m \u001b[38;5;28;01mNone\u001b[39;00m:\n\u001b[1;32m   1097\u001b[0m     \u001b[38;5;66;03m# fit method of arity 1 (unsupervised transformation)\u001b[39;00m\n\u001b[0;32m-> 1098\u001b[0m     \u001b[38;5;28;01mreturn\u001b[39;00m \u001b[38;5;28;43mself\u001b[39;49m\u001b[38;5;241;43m.\u001b[39;49m\u001b[43mfit\u001b[49m\u001b[43m(\u001b[49m\u001b[43mX\u001b[49m\u001b[43m,\u001b[49m\u001b[43m \u001b[49m\u001b[38;5;241;43m*\u001b[39;49m\u001b[38;5;241;43m*\u001b[39;49m\u001b[43mfit_params\u001b[49m\u001b[43m)\u001b[49m\u001b[38;5;241m.\u001b[39mtransform(X)\n\u001b[1;32m   1099\u001b[0m \u001b[38;5;28;01melse\u001b[39;00m:\n\u001b[1;32m   1100\u001b[0m     \u001b[38;5;66;03m# fit method of arity 2 (supervised transformation)\u001b[39;00m\n\u001b[1;32m   1101\u001b[0m     \u001b[38;5;28;01mreturn\u001b[39;00m \u001b[38;5;28mself\u001b[39m\u001b[38;5;241m.\u001b[39mfit(X, y, \u001b[38;5;241m*\u001b[39m\u001b[38;5;241m*\u001b[39mfit_params)\u001b[38;5;241m.\u001b[39mtransform(X)\n",
      "File \u001b[0;32m/opt/conda/lib/python3.10/site-packages/sklearn/base.py:1474\u001b[0m, in \u001b[0;36m_fit_context.<locals>.decorator.<locals>.wrapper\u001b[0;34m(estimator, *args, **kwargs)\u001b[0m\n\u001b[1;32m   1467\u001b[0m     estimator\u001b[38;5;241m.\u001b[39m_validate_params()\n\u001b[1;32m   1469\u001b[0m \u001b[38;5;28;01mwith\u001b[39;00m config_context(\n\u001b[1;32m   1470\u001b[0m     skip_parameter_validation\u001b[38;5;241m=\u001b[39m(\n\u001b[1;32m   1471\u001b[0m         prefer_skip_nested_validation \u001b[38;5;129;01mor\u001b[39;00m global_skip_validation\n\u001b[1;32m   1472\u001b[0m     )\n\u001b[1;32m   1473\u001b[0m ):\n\u001b[0;32m-> 1474\u001b[0m     \u001b[38;5;28;01mreturn\u001b[39;00m \u001b[43mfit_method\u001b[49m\u001b[43m(\u001b[49m\u001b[43mestimator\u001b[49m\u001b[43m,\u001b[49m\u001b[43m \u001b[49m\u001b[38;5;241;43m*\u001b[39;49m\u001b[43margs\u001b[49m\u001b[43m,\u001b[49m\u001b[43m \u001b[49m\u001b[38;5;241;43m*\u001b[39;49m\u001b[38;5;241;43m*\u001b[39;49m\u001b[43mkwargs\u001b[49m\u001b[43m)\u001b[49m\n",
      "File \u001b[0;32m/opt/conda/lib/python3.10/site-packages/sklearn/preprocessing/_data.py:1591\u001b[0m, in \u001b[0;36mRobustScaler.fit\u001b[0;34m(self, X, y)\u001b[0m\n\u001b[1;32m   1573\u001b[0m \u001b[38;5;250m\u001b[39m\u001b[38;5;124;03m\"\"\"Compute the median and quantiles to be used for scaling.\u001b[39;00m\n\u001b[1;32m   1574\u001b[0m \n\u001b[1;32m   1575\u001b[0m \u001b[38;5;124;03mParameters\u001b[39;00m\n\u001b[0;32m   (...)\u001b[0m\n\u001b[1;32m   1587\u001b[0m \u001b[38;5;124;03m    Fitted scaler.\u001b[39;00m\n\u001b[1;32m   1588\u001b[0m \u001b[38;5;124;03m\"\"\"\u001b[39;00m\n\u001b[1;32m   1589\u001b[0m \u001b[38;5;66;03m# at fit, convert sparse matrices to csc for optimized computation of\u001b[39;00m\n\u001b[1;32m   1590\u001b[0m \u001b[38;5;66;03m# the quantiles\u001b[39;00m\n\u001b[0;32m-> 1591\u001b[0m X \u001b[38;5;241m=\u001b[39m \u001b[38;5;28;43mself\u001b[39;49m\u001b[38;5;241;43m.\u001b[39;49m\u001b[43m_validate_data\u001b[49m\u001b[43m(\u001b[49m\n\u001b[1;32m   1592\u001b[0m \u001b[43m    \u001b[49m\u001b[43mX\u001b[49m\u001b[43m,\u001b[49m\n\u001b[1;32m   1593\u001b[0m \u001b[43m    \u001b[49m\u001b[43maccept_sparse\u001b[49m\u001b[38;5;241;43m=\u001b[39;49m\u001b[38;5;124;43m\"\u001b[39;49m\u001b[38;5;124;43mcsc\u001b[39;49m\u001b[38;5;124;43m\"\u001b[39;49m\u001b[43m,\u001b[49m\n\u001b[1;32m   1594\u001b[0m \u001b[43m    \u001b[49m\u001b[43mdtype\u001b[49m\u001b[38;5;241;43m=\u001b[39;49m\u001b[43mFLOAT_DTYPES\u001b[49m\u001b[43m,\u001b[49m\n\u001b[1;32m   1595\u001b[0m \u001b[43m    \u001b[49m\u001b[43mforce_all_finite\u001b[49m\u001b[38;5;241;43m=\u001b[39;49m\u001b[38;5;124;43m\"\u001b[39;49m\u001b[38;5;124;43mallow-nan\u001b[39;49m\u001b[38;5;124;43m\"\u001b[39;49m\u001b[43m,\u001b[49m\n\u001b[1;32m   1596\u001b[0m \u001b[43m\u001b[49m\u001b[43m)\u001b[49m\n\u001b[1;32m   1598\u001b[0m q_min, q_max \u001b[38;5;241m=\u001b[39m \u001b[38;5;28mself\u001b[39m\u001b[38;5;241m.\u001b[39mquantile_range\n\u001b[1;32m   1599\u001b[0m \u001b[38;5;28;01mif\u001b[39;00m \u001b[38;5;129;01mnot\u001b[39;00m \u001b[38;5;241m0\u001b[39m \u001b[38;5;241m<\u001b[39m\u001b[38;5;241m=\u001b[39m q_min \u001b[38;5;241m<\u001b[39m\u001b[38;5;241m=\u001b[39m q_max \u001b[38;5;241m<\u001b[39m\u001b[38;5;241m=\u001b[39m \u001b[38;5;241m100\u001b[39m:\n",
      "File \u001b[0;32m/opt/conda/lib/python3.10/site-packages/sklearn/base.py:633\u001b[0m, in \u001b[0;36mBaseEstimator._validate_data\u001b[0;34m(self, X, y, reset, validate_separately, cast_to_ndarray, **check_params)\u001b[0m\n\u001b[1;32m    631\u001b[0m         out \u001b[38;5;241m=\u001b[39m X, y\n\u001b[1;32m    632\u001b[0m \u001b[38;5;28;01melif\u001b[39;00m \u001b[38;5;129;01mnot\u001b[39;00m no_val_X \u001b[38;5;129;01mand\u001b[39;00m no_val_y:\n\u001b[0;32m--> 633\u001b[0m     out \u001b[38;5;241m=\u001b[39m \u001b[43mcheck_array\u001b[49m\u001b[43m(\u001b[49m\u001b[43mX\u001b[49m\u001b[43m,\u001b[49m\u001b[43m \u001b[49m\u001b[43minput_name\u001b[49m\u001b[38;5;241;43m=\u001b[39;49m\u001b[38;5;124;43m\"\u001b[39;49m\u001b[38;5;124;43mX\u001b[39;49m\u001b[38;5;124;43m\"\u001b[39;49m\u001b[43m,\u001b[49m\u001b[43m \u001b[49m\u001b[38;5;241;43m*\u001b[39;49m\u001b[38;5;241;43m*\u001b[39;49m\u001b[43mcheck_params\u001b[49m\u001b[43m)\u001b[49m\n\u001b[1;32m    634\u001b[0m \u001b[38;5;28;01melif\u001b[39;00m no_val_X \u001b[38;5;129;01mand\u001b[39;00m \u001b[38;5;129;01mnot\u001b[39;00m no_val_y:\n\u001b[1;32m    635\u001b[0m     out \u001b[38;5;241m=\u001b[39m _check_y(y, \u001b[38;5;241m*\u001b[39m\u001b[38;5;241m*\u001b[39mcheck_params)\n",
      "File \u001b[0;32m/opt/conda/lib/python3.10/site-packages/sklearn/utils/validation.py:1035\u001b[0m, in \u001b[0;36mcheck_array\u001b[0;34m(array, accept_sparse, accept_large_sparse, dtype, order, copy, force_all_finite, ensure_2d, allow_nd, ensure_min_samples, ensure_min_features, estimator, input_name)\u001b[0m\n\u001b[1;32m   1028\u001b[0m         \u001b[38;5;28;01melse\u001b[39;00m:\n\u001b[1;32m   1029\u001b[0m             msg \u001b[38;5;241m=\u001b[39m (\n\u001b[1;32m   1030\u001b[0m                 \u001b[38;5;124mf\u001b[39m\u001b[38;5;124m\"\u001b[39m\u001b[38;5;124mExpected 2D array, got 1D array instead:\u001b[39m\u001b[38;5;130;01m\\n\u001b[39;00m\u001b[38;5;124marray=\u001b[39m\u001b[38;5;132;01m{\u001b[39;00marray\u001b[38;5;132;01m}\u001b[39;00m\u001b[38;5;124m.\u001b[39m\u001b[38;5;130;01m\\n\u001b[39;00m\u001b[38;5;124m\"\u001b[39m\n\u001b[1;32m   1031\u001b[0m                 \u001b[38;5;124m\"\u001b[39m\u001b[38;5;124mReshape your data either using array.reshape(-1, 1) if \u001b[39m\u001b[38;5;124m\"\u001b[39m\n\u001b[1;32m   1032\u001b[0m                 \u001b[38;5;124m\"\u001b[39m\u001b[38;5;124myour data has a single feature or array.reshape(1, -1) \u001b[39m\u001b[38;5;124m\"\u001b[39m\n\u001b[1;32m   1033\u001b[0m                 \u001b[38;5;124m\"\u001b[39m\u001b[38;5;124mif it contains a single sample.\u001b[39m\u001b[38;5;124m\"\u001b[39m\n\u001b[1;32m   1034\u001b[0m             )\n\u001b[0;32m-> 1035\u001b[0m         \u001b[38;5;28;01mraise\u001b[39;00m \u001b[38;5;167;01mValueError\u001b[39;00m(msg)\n\u001b[1;32m   1037\u001b[0m \u001b[38;5;28;01mif\u001b[39;00m dtype_numeric \u001b[38;5;129;01mand\u001b[39;00m \u001b[38;5;28mhasattr\u001b[39m(array\u001b[38;5;241m.\u001b[39mdtype, \u001b[38;5;124m\"\u001b[39m\u001b[38;5;124mkind\u001b[39m\u001b[38;5;124m\"\u001b[39m) \u001b[38;5;129;01mand\u001b[39;00m array\u001b[38;5;241m.\u001b[39mdtype\u001b[38;5;241m.\u001b[39mkind \u001b[38;5;129;01min\u001b[39;00m \u001b[38;5;124m\"\u001b[39m\u001b[38;5;124mUSV\u001b[39m\u001b[38;5;124m\"\u001b[39m:\n\u001b[1;32m   1038\u001b[0m     \u001b[38;5;28;01mraise\u001b[39;00m \u001b[38;5;167;01mValueError\u001b[39;00m(\n\u001b[1;32m   1039\u001b[0m         \u001b[38;5;124m\"\u001b[39m\u001b[38;5;124mdtype=\u001b[39m\u001b[38;5;124m'\u001b[39m\u001b[38;5;124mnumeric\u001b[39m\u001b[38;5;124m'\u001b[39m\u001b[38;5;124m is not compatible with arrays of bytes/strings.\u001b[39m\u001b[38;5;124m\"\u001b[39m\n\u001b[1;32m   1040\u001b[0m         \u001b[38;5;124m\"\u001b[39m\u001b[38;5;124mConvert your data to numeric values explicitly instead.\u001b[39m\u001b[38;5;124m\"\u001b[39m\n\u001b[1;32m   1041\u001b[0m     )\n",
      "\u001b[0;31mValueError\u001b[0m: Expected a 2-dimensional container but got <class 'pandas.core.series.Series'> instead. Pass a DataFrame containing a single row (i.e. single sample) or a single column (i.e. single feature) instead."
     ]
    }
   ],
   "source": [
    "# from sklearn.preprocessing import RobustScaler\n",
    "# # Robust Scaling\n",
    "# Robust_col = ['주거전용면적', '연면적']\n",
    "\n",
    "# for col in Robust_col:\n",
    "#     scaler = RobustScaler()\n",
    "#     train_dt2[f'{col}_robust'] = scaler.fit_transform(train_dt2[col])\n",
    "\n",
    "# print(train_dt2[[f'{col}_robust' for col in Robust_col]].describe())\n",
    "\n",
    "# # # scatter plot 확인\n",
    "# # sns.scatterplot(data=train_dt2, x=, y='', color='', marker='', s=80)\n",
    "# # plt.show()"
   ]
  },
  {
   "cell_type": "code",
   "execution_count": null,
   "metadata": {},
   "outputs": [],
   "source": [
    "# # Standard Scaling\n",
    "# Std_col = ['', '']\n",
    "\n",
    "# for col in Std_col:\n",
    "#     scaler = StandardScaler()\n",
    "#     preprocessed_data[f'Std_{col}'] = scaler.fit_transform(preprocessed_data[col])\n",
    "# # \n",
    "# display(preprocessed_data.describe())\n",
    "\n",
    "# # scatter plot 확인\n",
    "# sns.scatterplot(data=preprocessed_data, x='', y='', color='', marker='', s=80)\n",
    "# plt.show()"
   ]
  },
  {
   "cell_type": "markdown",
   "metadata": {},
   "source": [
    "\n",
    "#### Encoding"
   ]
  },
  {
   "cell_type": "code",
   "execution_count": 85,
   "metadata": {},
   "outputs": [
    {
     "data": {
      "text/html": [
       "<div>\n",
       "<style scoped>\n",
       "    .dataframe tbody tr th:only-of-type {\n",
       "        vertical-align: middle;\n",
       "    }\n",
       "\n",
       "    .dataframe tbody tr th {\n",
       "        vertical-align: top;\n",
       "    }\n",
       "\n",
       "    .dataframe thead th {\n",
       "        text-align: right;\n",
       "    }\n",
       "</style>\n",
       "<table border=\"1\" class=\"dataframe\">\n",
       "  <thead>\n",
       "    <tr style=\"text-align: right;\">\n",
       "      <th></th>\n",
       "      <th>전용면적</th>\n",
       "      <th>계약일</th>\n",
       "      <th>층</th>\n",
       "      <th>건축년도</th>\n",
       "      <th>전체동수</th>\n",
       "      <th>전체세대수</th>\n",
       "      <th>연면적</th>\n",
       "      <th>주거전용면적</th>\n",
       "      <th>전용면적&lt;60</th>\n",
       "      <th>전용면적60~85</th>\n",
       "      <th>전용면적85~135</th>\n",
       "      <th>target</th>\n",
       "      <th>is_test</th>\n",
       "      <th>구 티어</th>\n",
       "      <th>동 티어</th>\n",
       "      <th>건축년도 티어</th>\n",
       "    </tr>\n",
       "  </thead>\n",
       "  <tbody>\n",
       "    <tr>\n",
       "      <th>0</th>\n",
       "      <td>79.97</td>\n",
       "      <td>8</td>\n",
       "      <td>3</td>\n",
       "      <td>1987</td>\n",
       "      <td>8.0</td>\n",
       "      <td>270.0</td>\n",
       "      <td>22637.0</td>\n",
       "      <td>20204.0</td>\n",
       "      <td>20.0</td>\n",
       "      <td>250.0</td>\n",
       "      <td>52.00</td>\n",
       "      <td>124000.0</td>\n",
       "      <td>0</td>\n",
       "      <td>1</td>\n",
       "      <td>1</td>\n",
       "      <td>1</td>\n",
       "    </tr>\n",
       "    <tr>\n",
       "      <th>1</th>\n",
       "      <td>79.97</td>\n",
       "      <td>22</td>\n",
       "      <td>4</td>\n",
       "      <td>1987</td>\n",
       "      <td>8.0</td>\n",
       "      <td>270.0</td>\n",
       "      <td>22637.0</td>\n",
       "      <td>20204.0</td>\n",
       "      <td>20.0</td>\n",
       "      <td>250.0</td>\n",
       "      <td>52.00</td>\n",
       "      <td>123500.0</td>\n",
       "      <td>0</td>\n",
       "      <td>1</td>\n",
       "      <td>1</td>\n",
       "      <td>1</td>\n",
       "    </tr>\n",
       "    <tr>\n",
       "      <th>2</th>\n",
       "      <td>54.98</td>\n",
       "      <td>28</td>\n",
       "      <td>5</td>\n",
       "      <td>1987</td>\n",
       "      <td>8.0</td>\n",
       "      <td>270.0</td>\n",
       "      <td>22637.0</td>\n",
       "      <td>20204.0</td>\n",
       "      <td>20.0</td>\n",
       "      <td>250.0</td>\n",
       "      <td>64.48</td>\n",
       "      <td>91500.0</td>\n",
       "      <td>0</td>\n",
       "      <td>1</td>\n",
       "      <td>1</td>\n",
       "      <td>1</td>\n",
       "    </tr>\n",
       "    <tr>\n",
       "      <th>3</th>\n",
       "      <td>79.97</td>\n",
       "      <td>3</td>\n",
       "      <td>4</td>\n",
       "      <td>1987</td>\n",
       "      <td>8.0</td>\n",
       "      <td>270.0</td>\n",
       "      <td>22637.0</td>\n",
       "      <td>20204.0</td>\n",
       "      <td>20.0</td>\n",
       "      <td>250.0</td>\n",
       "      <td>52.00</td>\n",
       "      <td>130000.0</td>\n",
       "      <td>0</td>\n",
       "      <td>1</td>\n",
       "      <td>1</td>\n",
       "      <td>1</td>\n",
       "    </tr>\n",
       "    <tr>\n",
       "      <th>4</th>\n",
       "      <td>79.97</td>\n",
       "      <td>8</td>\n",
       "      <td>2</td>\n",
       "      <td>1987</td>\n",
       "      <td>8.0</td>\n",
       "      <td>270.0</td>\n",
       "      <td>22637.0</td>\n",
       "      <td>20204.0</td>\n",
       "      <td>20.0</td>\n",
       "      <td>250.0</td>\n",
       "      <td>52.00</td>\n",
       "      <td>117000.0</td>\n",
       "      <td>0</td>\n",
       "      <td>1</td>\n",
       "      <td>1</td>\n",
       "      <td>1</td>\n",
       "    </tr>\n",
       "  </tbody>\n",
       "</table>\n",
       "</div>"
      ],
      "text/plain": [
       "    전용면적  계약일  층  건축년도  전체동수  전체세대수      연면적   주거전용면적  전용면적<60  전용면적60~85  \\\n",
       "0  79.97    8  3  1987   8.0  270.0  22637.0  20204.0     20.0      250.0   \n",
       "1  79.97   22  4  1987   8.0  270.0  22637.0  20204.0     20.0      250.0   \n",
       "2  54.98   28  5  1987   8.0  270.0  22637.0  20204.0     20.0      250.0   \n",
       "3  79.97    3  4  1987   8.0  270.0  22637.0  20204.0     20.0      250.0   \n",
       "4  79.97    8  2  1987   8.0  270.0  22637.0  20204.0     20.0      250.0   \n",
       "\n",
       "   전용면적85~135    target  is_test  구 티어  동 티어  건축년도 티어  \n",
       "0       52.00  124000.0        0     1     1        1  \n",
       "1       52.00  123500.0        0     1     1        1  \n",
       "2       64.48   91500.0        0     1     1        1  \n",
       "3       52.00  130000.0        0     1     1        1  \n",
       "4       52.00  117000.0        0     1     1        1  "
      ]
     },
     "execution_count": 85,
     "metadata": {},
     "output_type": "execute_result"
    }
   ],
   "source": [
    "train_dt2[continuous_columns].head()"
   ]
  },
  {
   "cell_type": "code",
   "execution_count": 86,
   "metadata": {},
   "outputs": [
    {
     "data": {
      "text/html": [
       "<div>\n",
       "<style scoped>\n",
       "    .dataframe tbody tr th:only-of-type {\n",
       "        vertical-align: middle;\n",
       "    }\n",
       "\n",
       "    .dataframe tbody tr th {\n",
       "        vertical-align: top;\n",
       "    }\n",
       "\n",
       "    .dataframe thead th {\n",
       "        text-align: right;\n",
       "    }\n",
       "</style>\n",
       "<table border=\"1\" class=\"dataframe\">\n",
       "  <thead>\n",
       "    <tr style=\"text-align: right;\">\n",
       "      <th></th>\n",
       "      <th>번지</th>\n",
       "      <th>본번</th>\n",
       "      <th>부번</th>\n",
       "      <th>아파트명</th>\n",
       "      <th>도로명</th>\n",
       "      <th>단지분류</th>\n",
       "      <th>세대타입</th>\n",
       "      <th>관리방식</th>\n",
       "      <th>복도유형</th>\n",
       "      <th>난방방식</th>\n",
       "      <th>...</th>\n",
       "      <th>세대전기계약방법</th>\n",
       "      <th>주차대수</th>\n",
       "      <th>기타/의무/임대/임의=1/2/3/4</th>\n",
       "      <th>사용허가여부</th>\n",
       "      <th>관리비 업로드</th>\n",
       "      <th>시</th>\n",
       "      <th>구</th>\n",
       "      <th>동</th>\n",
       "      <th>계약년</th>\n",
       "      <th>계약월</th>\n",
       "    </tr>\n",
       "  </thead>\n",
       "  <tbody>\n",
       "    <tr>\n",
       "      <th>0</th>\n",
       "      <td>658-1</td>\n",
       "      <td>658.0</td>\n",
       "      <td>1.0</td>\n",
       "      <td>개포6차우성</td>\n",
       "      <td>언주로 3</td>\n",
       "      <td>아파트</td>\n",
       "      <td>분양</td>\n",
       "      <td>자치관리</td>\n",
       "      <td>계단식</td>\n",
       "      <td>개별난방</td>\n",
       "      <td>...</td>\n",
       "      <td>단일계약</td>\n",
       "      <td>CarM</td>\n",
       "      <td>임의</td>\n",
       "      <td>Y</td>\n",
       "      <td>N</td>\n",
       "      <td>서울특별시</td>\n",
       "      <td>강남구</td>\n",
       "      <td>개포동</td>\n",
       "      <td>2017</td>\n",
       "      <td>12</td>\n",
       "    </tr>\n",
       "    <tr>\n",
       "      <th>1</th>\n",
       "      <td>658-1</td>\n",
       "      <td>658.0</td>\n",
       "      <td>1.0</td>\n",
       "      <td>개포6차우성</td>\n",
       "      <td>언주로 3</td>\n",
       "      <td>아파트</td>\n",
       "      <td>분양</td>\n",
       "      <td>자치관리</td>\n",
       "      <td>계단식</td>\n",
       "      <td>개별난방</td>\n",
       "      <td>...</td>\n",
       "      <td>단일계약</td>\n",
       "      <td>CarM</td>\n",
       "      <td>임의</td>\n",
       "      <td>Y</td>\n",
       "      <td>N</td>\n",
       "      <td>서울특별시</td>\n",
       "      <td>강남구</td>\n",
       "      <td>개포동</td>\n",
       "      <td>2017</td>\n",
       "      <td>12</td>\n",
       "    </tr>\n",
       "    <tr>\n",
       "      <th>2</th>\n",
       "      <td>658-1</td>\n",
       "      <td>658.0</td>\n",
       "      <td>1.0</td>\n",
       "      <td>개포6차우성</td>\n",
       "      <td>언주로 3</td>\n",
       "      <td>아파트</td>\n",
       "      <td>분양</td>\n",
       "      <td>자치관리</td>\n",
       "      <td>계단식</td>\n",
       "      <td>개별난방</td>\n",
       "      <td>...</td>\n",
       "      <td>단일계약</td>\n",
       "      <td>CarM</td>\n",
       "      <td>임의</td>\n",
       "      <td>Y</td>\n",
       "      <td>N</td>\n",
       "      <td>서울특별시</td>\n",
       "      <td>강남구</td>\n",
       "      <td>개포동</td>\n",
       "      <td>2017</td>\n",
       "      <td>12</td>\n",
       "    </tr>\n",
       "    <tr>\n",
       "      <th>3</th>\n",
       "      <td>658-1</td>\n",
       "      <td>658.0</td>\n",
       "      <td>1.0</td>\n",
       "      <td>개포6차우성</td>\n",
       "      <td>언주로 3</td>\n",
       "      <td>아파트</td>\n",
       "      <td>분양</td>\n",
       "      <td>자치관리</td>\n",
       "      <td>계단식</td>\n",
       "      <td>개별난방</td>\n",
       "      <td>...</td>\n",
       "      <td>단일계약</td>\n",
       "      <td>CarM</td>\n",
       "      <td>임의</td>\n",
       "      <td>Y</td>\n",
       "      <td>N</td>\n",
       "      <td>서울특별시</td>\n",
       "      <td>강남구</td>\n",
       "      <td>개포동</td>\n",
       "      <td>2018</td>\n",
       "      <td>01</td>\n",
       "    </tr>\n",
       "    <tr>\n",
       "      <th>4</th>\n",
       "      <td>658-1</td>\n",
       "      <td>658.0</td>\n",
       "      <td>1.0</td>\n",
       "      <td>개포6차우성</td>\n",
       "      <td>언주로 3</td>\n",
       "      <td>아파트</td>\n",
       "      <td>분양</td>\n",
       "      <td>자치관리</td>\n",
       "      <td>계단식</td>\n",
       "      <td>개별난방</td>\n",
       "      <td>...</td>\n",
       "      <td>단일계약</td>\n",
       "      <td>CarM</td>\n",
       "      <td>임의</td>\n",
       "      <td>Y</td>\n",
       "      <td>N</td>\n",
       "      <td>서울특별시</td>\n",
       "      <td>강남구</td>\n",
       "      <td>개포동</td>\n",
       "      <td>2018</td>\n",
       "      <td>01</td>\n",
       "    </tr>\n",
       "  </tbody>\n",
       "</table>\n",
       "<p>5 rows × 23 columns</p>\n",
       "</div>"
      ],
      "text/plain": [
       "      번지     본번   부번    아파트명    도로명 단지분류 세대타입  관리방식 복도유형  난방방식  ... 세대전기계약방법  \\\n",
       "0  658-1  658.0  1.0  개포6차우성  언주로 3  아파트   분양  자치관리  계단식  개별난방  ...     단일계약   \n",
       "1  658-1  658.0  1.0  개포6차우성  언주로 3  아파트   분양  자치관리  계단식  개별난방  ...     단일계약   \n",
       "2  658-1  658.0  1.0  개포6차우성  언주로 3  아파트   분양  자치관리  계단식  개별난방  ...     단일계약   \n",
       "3  658-1  658.0  1.0  개포6차우성  언주로 3  아파트   분양  자치관리  계단식  개별난방  ...     단일계약   \n",
       "4  658-1  658.0  1.0  개포6차우성  언주로 3  아파트   분양  자치관리  계단식  개별난방  ...     단일계약   \n",
       "\n",
       "   주차대수 기타/의무/임대/임의=1/2/3/4 사용허가여부 관리비 업로드      시    구    동   계약년 계약월  \n",
       "0  CarM                  임의      Y       N  서울특별시  강남구  개포동  2017  12  \n",
       "1  CarM                  임의      Y       N  서울특별시  강남구  개포동  2017  12  \n",
       "2  CarM                  임의      Y       N  서울특별시  강남구  개포동  2017  12  \n",
       "3  CarM                  임의      Y       N  서울특별시  강남구  개포동  2018  01  \n",
       "4  CarM                  임의      Y       N  서울특별시  강남구  개포동  2018  01  \n",
       "\n",
       "[5 rows x 23 columns]"
      ]
     },
     "execution_count": 86,
     "metadata": {},
     "output_type": "execute_result"
    }
   ],
   "source": [
    "train_dt2[categorical_columns].head()"
   ]
  },
  {
   "cell_type": "code",
   "execution_count": 84,
   "metadata": {},
   "outputs": [
    {
     "data": {
      "text/html": [
       "<div>\n",
       "<style scoped>\n",
       "    .dataframe tbody tr th:only-of-type {\n",
       "        vertical-align: middle;\n",
       "    }\n",
       "\n",
       "    .dataframe tbody tr th {\n",
       "        vertical-align: top;\n",
       "    }\n",
       "\n",
       "    .dataframe thead th {\n",
       "        text-align: right;\n",
       "    }\n",
       "</style>\n",
       "<table border=\"1\" class=\"dataframe\">\n",
       "  <thead>\n",
       "    <tr style=\"text-align: right;\">\n",
       "      <th></th>\n",
       "      <th>전용면적</th>\n",
       "      <th>계약일</th>\n",
       "      <th>층</th>\n",
       "      <th>건축년도</th>\n",
       "      <th>전체동수</th>\n",
       "      <th>전체세대수</th>\n",
       "      <th>연면적</th>\n",
       "      <th>주거전용면적</th>\n",
       "      <th>전용면적&lt;60</th>\n",
       "      <th>전용면적60~85</th>\n",
       "      <th>전용면적85~135</th>\n",
       "      <th>target</th>\n",
       "      <th>is_test</th>\n",
       "      <th>구 티어</th>\n",
       "      <th>동 티어</th>\n",
       "      <th>건축년도 티어</th>\n",
       "    </tr>\n",
       "  </thead>\n",
       "  <tbody>\n",
       "    <tr>\n",
       "      <th>count</th>\n",
       "      <td>1.113399e+06</td>\n",
       "      <td>1.113399e+06</td>\n",
       "      <td>1.113399e+06</td>\n",
       "      <td>1.113399e+06</td>\n",
       "      <td>1.113399e+06</td>\n",
       "      <td>1.113399e+06</td>\n",
       "      <td>1.113399e+06</td>\n",
       "      <td>1.113399e+06</td>\n",
       "      <td>1.113399e+06</td>\n",
       "      <td>1.113399e+06</td>\n",
       "      <td>1.113399e+06</td>\n",
       "      <td>1.113399e+06</td>\n",
       "      <td>1113399.0</td>\n",
       "      <td>1.113399e+06</td>\n",
       "      <td>1.113399e+06</td>\n",
       "      <td>1.113399e+06</td>\n",
       "    </tr>\n",
       "    <tr>\n",
       "      <th>mean</th>\n",
       "      <td>7.722581e+01</td>\n",
       "      <td>1.580761e+01</td>\n",
       "      <td>8.881450e+00</td>\n",
       "      <td>1.998747e+03</td>\n",
       "      <td>8.606882e+00</td>\n",
       "      <td>7.132555e+02</td>\n",
       "      <td>9.795114e+04</td>\n",
       "      <td>5.763709e+04</td>\n",
       "      <td>3.936142e+02</td>\n",
       "      <td>3.233408e+02</td>\n",
       "      <td>1.566720e+02</td>\n",
       "      <td>5.792354e+04</td>\n",
       "      <td>0.0</td>\n",
       "      <td>2.254209e+00</td>\n",
       "      <td>2.772659e+00</td>\n",
       "      <td>2.666140e+00</td>\n",
       "    </tr>\n",
       "    <tr>\n",
       "      <th>std</th>\n",
       "      <td>2.933244e+01</td>\n",
       "      <td>8.721005e+00</td>\n",
       "      <td>5.980544e+00</td>\n",
       "      <td>9.328752e+00</td>\n",
       "      <td>1.150960e+01</td>\n",
       "      <td>8.283381e+02</td>\n",
       "      <td>1.295621e+05</td>\n",
       "      <td>6.886118e+04</td>\n",
       "      <td>5.295789e+02</td>\n",
       "      <td>4.409275e+02</td>\n",
       "      <td>1.791828e+02</td>\n",
       "      <td>4.622250e+04</td>\n",
       "      <td>0.0</td>\n",
       "      <td>8.044587e-01</td>\n",
       "      <td>5.937152e-01</td>\n",
       "      <td>1.168414e+00</td>\n",
       "    </tr>\n",
       "    <tr>\n",
       "      <th>min</th>\n",
       "      <td>1.002000e+01</td>\n",
       "      <td>1.000000e+00</td>\n",
       "      <td>1.000000e+00</td>\n",
       "      <td>1.961000e+03</td>\n",
       "      <td>1.000000e+00</td>\n",
       "      <td>5.900000e+01</td>\n",
       "      <td>0.000000e+00</td>\n",
       "      <td>2.338000e+03</td>\n",
       "      <td>1.000000e+00</td>\n",
       "      <td>1.000000e+00</td>\n",
       "      <td>1.000000e+00</td>\n",
       "      <td>3.500000e+02</td>\n",
       "      <td>0.0</td>\n",
       "      <td>1.000000e+00</td>\n",
       "      <td>1.000000e+00</td>\n",
       "      <td>1.000000e+00</td>\n",
       "    </tr>\n",
       "    <tr>\n",
       "      <th>25%</th>\n",
       "      <td>5.967000e+01</td>\n",
       "      <td>8.000000e+00</td>\n",
       "      <td>4.000000e+00</td>\n",
       "      <td>1.992000e+03</td>\n",
       "      <td>3.000000e+00</td>\n",
       "      <td>2.670300e+02</td>\n",
       "      <td>3.556746e+04</td>\n",
       "      <td>2.159890e+04</td>\n",
       "      <td>1.243700e+02</td>\n",
       "      <td>1.205500e+02</td>\n",
       "      <td>4.805000e+01</td>\n",
       "      <td>3.050000e+04</td>\n",
       "      <td>0.0</td>\n",
       "      <td>2.000000e+00</td>\n",
       "      <td>3.000000e+00</td>\n",
       "      <td>2.000000e+00</td>\n",
       "    </tr>\n",
       "    <tr>\n",
       "      <th>50%</th>\n",
       "      <td>8.198530e+01</td>\n",
       "      <td>1.600000e+01</td>\n",
       "      <td>8.000000e+00</td>\n",
       "      <td>2.000000e+03</td>\n",
       "      <td>5.390000e+00</td>\n",
       "      <td>4.490000e+02</td>\n",
       "      <td>6.067661e+04</td>\n",
       "      <td>3.645726e+04</td>\n",
       "      <td>2.200000e+02</td>\n",
       "      <td>2.028800e+02</td>\n",
       "      <td>9.452000e+01</td>\n",
       "      <td>4.475000e+04</td>\n",
       "      <td>0.0</td>\n",
       "      <td>2.000000e+00</td>\n",
       "      <td>3.000000e+00</td>\n",
       "      <td>3.000000e+00</td>\n",
       "    </tr>\n",
       "    <tr>\n",
       "      <th>75%</th>\n",
       "      <td>8.496000e+01</td>\n",
       "      <td>2.300000e+01</td>\n",
       "      <td>1.200000e+01</td>\n",
       "      <td>2.005000e+03</td>\n",
       "      <td>1.000000e+01</td>\n",
       "      <td>8.000000e+02</td>\n",
       "      <td>1.107011e+05</td>\n",
       "      <td>6.728900e+04</td>\n",
       "      <td>4.493100e+02</td>\n",
       "      <td>3.622800e+02</td>\n",
       "      <td>1.825200e+02</td>\n",
       "      <td>6.950000e+04</td>\n",
       "      <td>0.0</td>\n",
       "      <td>3.000000e+00</td>\n",
       "      <td>3.000000e+00</td>\n",
       "      <td>4.000000e+00</td>\n",
       "    </tr>\n",
       "    <tr>\n",
       "      <th>max</th>\n",
       "      <td>4.243200e+02</td>\n",
       "      <td>3.100000e+01</td>\n",
       "      <td>6.900000e+01</td>\n",
       "      <td>2.023000e+03</td>\n",
       "      <td>1.240000e+02</td>\n",
       "      <td>9.510000e+03</td>\n",
       "      <td>9.591851e+06</td>\n",
       "      <td>7.347810e+05</td>\n",
       "      <td>4.975000e+03</td>\n",
       "      <td>5.132000e+03</td>\n",
       "      <td>1.500000e+03</td>\n",
       "      <td>1.450000e+06</td>\n",
       "      <td>0.0</td>\n",
       "      <td>3.000000e+00</td>\n",
       "      <td>3.000000e+00</td>\n",
       "      <td>4.000000e+00</td>\n",
       "    </tr>\n",
       "  </tbody>\n",
       "</table>\n",
       "</div>"
      ],
      "text/plain": [
       "               전용면적           계약일             층          건축년도          전체동수  \\\n",
       "count  1.113399e+06  1.113399e+06  1.113399e+06  1.113399e+06  1.113399e+06   \n",
       "mean   7.722581e+01  1.580761e+01  8.881450e+00  1.998747e+03  8.606882e+00   \n",
       "std    2.933244e+01  8.721005e+00  5.980544e+00  9.328752e+00  1.150960e+01   \n",
       "min    1.002000e+01  1.000000e+00  1.000000e+00  1.961000e+03  1.000000e+00   \n",
       "25%    5.967000e+01  8.000000e+00  4.000000e+00  1.992000e+03  3.000000e+00   \n",
       "50%    8.198530e+01  1.600000e+01  8.000000e+00  2.000000e+03  5.390000e+00   \n",
       "75%    8.496000e+01  2.300000e+01  1.200000e+01  2.005000e+03  1.000000e+01   \n",
       "max    4.243200e+02  3.100000e+01  6.900000e+01  2.023000e+03  1.240000e+02   \n",
       "\n",
       "              전체세대수           연면적        주거전용면적       전용면적<60     전용면적60~85  \\\n",
       "count  1.113399e+06  1.113399e+06  1.113399e+06  1.113399e+06  1.113399e+06   \n",
       "mean   7.132555e+02  9.795114e+04  5.763709e+04  3.936142e+02  3.233408e+02   \n",
       "std    8.283381e+02  1.295621e+05  6.886118e+04  5.295789e+02  4.409275e+02   \n",
       "min    5.900000e+01  0.000000e+00  2.338000e+03  1.000000e+00  1.000000e+00   \n",
       "25%    2.670300e+02  3.556746e+04  2.159890e+04  1.243700e+02  1.205500e+02   \n",
       "50%    4.490000e+02  6.067661e+04  3.645726e+04  2.200000e+02  2.028800e+02   \n",
       "75%    8.000000e+02  1.107011e+05  6.728900e+04  4.493100e+02  3.622800e+02   \n",
       "max    9.510000e+03  9.591851e+06  7.347810e+05  4.975000e+03  5.132000e+03   \n",
       "\n",
       "         전용면적85~135        target    is_test          구 티어          동 티어  \\\n",
       "count  1.113399e+06  1.113399e+06  1113399.0  1.113399e+06  1.113399e+06   \n",
       "mean   1.566720e+02  5.792354e+04        0.0  2.254209e+00  2.772659e+00   \n",
       "std    1.791828e+02  4.622250e+04        0.0  8.044587e-01  5.937152e-01   \n",
       "min    1.000000e+00  3.500000e+02        0.0  1.000000e+00  1.000000e+00   \n",
       "25%    4.805000e+01  3.050000e+04        0.0  2.000000e+00  3.000000e+00   \n",
       "50%    9.452000e+01  4.475000e+04        0.0  2.000000e+00  3.000000e+00   \n",
       "75%    1.825200e+02  6.950000e+04        0.0  3.000000e+00  3.000000e+00   \n",
       "max    1.500000e+03  1.450000e+06        0.0  3.000000e+00  3.000000e+00   \n",
       "\n",
       "            건축년도 티어  \n",
       "count  1.113399e+06  \n",
       "mean   2.666140e+00  \n",
       "std    1.168414e+00  \n",
       "min    1.000000e+00  \n",
       "25%    2.000000e+00  \n",
       "50%    3.000000e+00  \n",
       "75%    4.000000e+00  \n",
       "max    4.000000e+00  "
      ]
     },
     "execution_count": 84,
     "metadata": {},
     "output_type": "execute_result"
    }
   ],
   "source": [
    "train_dt2[continuous_columns].describe()\n"
   ]
  },
  {
   "cell_type": "code",
   "execution_count": 87,
   "metadata": {},
   "outputs": [
    {
     "data": {
      "text/plain": [
       "번지                     0\n",
       "본번                     0\n",
       "부번                     0\n",
       "아파트명                   0\n",
       "도로명                    0\n",
       "단지분류                   0\n",
       "세대타입                   0\n",
       "관리방식                   0\n",
       "복도유형                   0\n",
       "난방방식                   0\n",
       "건설사                    0\n",
       "시행사                    0\n",
       "경비비관리형태                0\n",
       "세대전기계약방법               0\n",
       "주차대수                   0\n",
       "기타/의무/임대/임의=1/2/3/4    0\n",
       "사용허가여부                 0\n",
       "관리비 업로드                0\n",
       "시                      0\n",
       "구                      0\n",
       "동                      0\n",
       "계약년                    0\n",
       "계약월                    0\n",
       "dtype: int64"
      ]
     },
     "execution_count": 87,
     "metadata": {},
     "output_type": "execute_result"
    }
   ],
   "source": [
    "train_dt2[categorical_columns].isnull().sum()"
   ]
  },
  {
   "cell_type": "code",
   "execution_count": 88,
   "metadata": {},
   "outputs": [],
   "source": [
    "# Encoding 방법에 따라 피쳐 분리 정의\n",
    "ohe_col = ['사용허가여부', '시']\n",
    "le_col = ['단지분류', '세대타입', '복도유형', '난방방식', '경비비관리형태', '세대전기계약방식', '관리비 업로드', '기타/의무/임대/임의=1/2/3/4', '주차대수']\n",
    "freq_col = ['아파트명','건설사', '구', '동', '계약년', '계약월']\n",
    "te_col = []"
   ]
  },
  {
   "cell_type": "code",
   "execution_count": 93,
   "metadata": {},
   "outputs": [
    {
     "data": {
      "text/plain": [
       "'사용허가여부 고유 범주 수 : 1'"
      ]
     },
     "metadata": {},
     "output_type": "display_data"
    },
    {
     "data": {
      "text/plain": [
       "'사용허가여부 원-핫 인코딩의 차원 수 : (1113399, 1)'"
      ]
     },
     "metadata": {},
     "output_type": "display_data"
    },
    {
     "data": {
      "text/plain": [
       "'시 고유 범주 수 : 2'"
      ]
     },
     "metadata": {},
     "output_type": "display_data"
    },
    {
     "data": {
      "text/plain": [
       "'시 원-핫 인코딩의 차원 수 : (1118805, 2)'"
      ]
     },
     "metadata": {},
     "output_type": "display_data"
    }
   ],
   "source": [
    "from sklearn.preprocessing import OneHotEncoder\n",
    "OHE_col = ['사용허가여부', '시']\n",
    "for col in OHE_col:\n",
    "    encoder = OneHotEncoder()\n",
    "    onehot = encoder.fit_transform(train_dt2[[col]])\n",
    "    # 배열형태로 전환\n",
    "    onehot_array = onehot.toarray()\n",
    "    feature_names = [f\"{col}_{name.split('_')[-1]}_ohe\" for name in encoder.get_feature_names_out()] \n",
    "    display(f\"{col} 고유 범주 수 : {len(train_dt2[col].unique())}\")\n",
    "    display(f\"{col} 원-핫 인코딩의 차원 수 : {onehot_array.shape}\")\n",
    "\n",
    "    train_dt2 = pd.concat([train_dt2, pd.DataFrame(onehot_array, columns=feature_names)], axis=1)\n"
   ]
  },
  {
   "cell_type": "code",
   "execution_count": 101,
   "metadata": {},
   "outputs": [
    {
     "name": "stderr",
     "output_type": "stream",
     "text": [
      "100%|██████████| 7/7 [00:04<00:00,  1.74it/s]\n"
     ]
    }
   ],
   "source": [
    "label_encoders = {}\n",
    "le_col = ['단지분류', '세대타입', '복도유형', '난방방식', '경비비관리형태', '관리비 업로드', '주차대수']\n",
    "\n",
    "for col in tqdm(le_col):\n",
    "    LBE = LabelEncoder()\n",
    "\n",
    "    # Label-Encoding을 fit\n",
    "    LBE.fit(train_dt2[col].astype(str))\n",
    "\n",
    "    # 새로운 컬럼명으로 레이블 인코딩 결과 저장\n",
    "    new_col_name = f\"{col}_le\"\n",
    "    train_dt2[new_col_name] = LBE.transform(train_dt2[col].astype(str))\n",
    "    \n",
    "    # 레이블 인코더 저장\n",
    "    label_encoders[col] = LBE\n",
    "\n",
    "    # 새로운 클래스 추가 처리\n",
    "    enc_values = train_dt2[col].astype(str)\n",
    "    for label in np.unique(enc_values):\n",
    "        if label not in LBE.classes_:  # unseen label 데이터인 경우\n",
    "            LBE.classes_ = np.append(LBE.classes_, label)\n",
    "\n",
    "    # train_dt2 = pd.concat([train_dt2, pd.DataFrame(onehot_array, columns=new_col_name)], axis=1)\n"
   ]
  },
  {
   "cell_type": "code",
   "execution_count": 102,
   "metadata": {},
   "outputs": [
    {
     "name": "stderr",
     "output_type": "stream",
     "text": [
      "100%|██████████| 6/6 [00:00<00:00,  9.60it/s]\n"
     ]
    }
   ],
   "source": [
    "# Frequency Encoding\n",
    "fe_col = ['아파트명', '건설사', '구', '동', '계약년', '계약월']\n",
    "frequency_encoders = {}\n",
    "\n",
    "for col in tqdm(fe_col):\n",
    "    # 빈도수 계산 및 저장\n",
    "    freq = train_dt2[col].value_counts()\n",
    "    frequency_encoders[col] = freq\n",
    "    \n",
    "    # 새로운 컬럼명으로 빈도 인코딩 결과 저장\n",
    "    train_dt2[f'{col}_fe'] = train_dt2[col].map(freq)\n",
    "# display(f\"{col}의 인코딩 값: {train_dt2[train_dt2['아파트명'] == '**']['FE_아파트명'][0]}\")\n"
   ]
  },
  {
   "cell_type": "code",
   "execution_count": 114,
   "metadata": {},
   "outputs": [
    {
     "data": {
      "text/html": [
       "<div>\n",
       "<style scoped>\n",
       "    .dataframe tbody tr th:only-of-type {\n",
       "        vertical-align: middle;\n",
       "    }\n",
       "\n",
       "    .dataframe tbody tr th {\n",
       "        vertical-align: top;\n",
       "    }\n",
       "\n",
       "    .dataframe thead th {\n",
       "        text-align: right;\n",
       "    }\n",
       "</style>\n",
       "<table border=\"1\" class=\"dataframe\">\n",
       "  <thead>\n",
       "    <tr style=\"text-align: right;\">\n",
       "      <th></th>\n",
       "      <th>번지</th>\n",
       "      <th>본번</th>\n",
       "      <th>부번</th>\n",
       "      <th>아파트명</th>\n",
       "      <th>전용면적</th>\n",
       "      <th>계약일</th>\n",
       "      <th>층</th>\n",
       "      <th>건축년도</th>\n",
       "      <th>도로명</th>\n",
       "      <th>단지분류</th>\n",
       "      <th>...</th>\n",
       "      <th>관리비 업로드_le</th>\n",
       "      <th>주차대수_le</th>\n",
       "      <th>아파트명_fe</th>\n",
       "      <th>건설사_fe</th>\n",
       "      <th>구_fe</th>\n",
       "      <th>동_fe</th>\n",
       "      <th>계약년_fe</th>\n",
       "      <th>계약월_fe</th>\n",
       "      <th>주거전용면적_log</th>\n",
       "      <th>연면적_log</th>\n",
       "    </tr>\n",
       "  </thead>\n",
       "  <tbody>\n",
       "    <tr>\n",
       "      <th>0</th>\n",
       "      <td>658-1</td>\n",
       "      <td>658.0</td>\n",
       "      <td>1.0</td>\n",
       "      <td>개포6차우성</td>\n",
       "      <td>79.97</td>\n",
       "      <td>8.0</td>\n",
       "      <td>3.0</td>\n",
       "      <td>1987.0</td>\n",
       "      <td>언주로 3</td>\n",
       "      <td>아파트</td>\n",
       "      <td>...</td>\n",
       "      <td>0</td>\n",
       "      <td>2</td>\n",
       "      <td>99.0</td>\n",
       "      <td>3630.0</td>\n",
       "      <td>68796.0</td>\n",
       "      <td>12175.0</td>\n",
       "      <td>104631.0</td>\n",
       "      <td>75243.0</td>\n",
       "      <td>9.913685</td>\n",
       "      <td>10.027385</td>\n",
       "    </tr>\n",
       "    <tr>\n",
       "      <th>1</th>\n",
       "      <td>658-1</td>\n",
       "      <td>658.0</td>\n",
       "      <td>1.0</td>\n",
       "      <td>개포6차우성</td>\n",
       "      <td>79.97</td>\n",
       "      <td>22.0</td>\n",
       "      <td>4.0</td>\n",
       "      <td>1987.0</td>\n",
       "      <td>언주로 3</td>\n",
       "      <td>아파트</td>\n",
       "      <td>...</td>\n",
       "      <td>0</td>\n",
       "      <td>2</td>\n",
       "      <td>99.0</td>\n",
       "      <td>3630.0</td>\n",
       "      <td>68796.0</td>\n",
       "      <td>12175.0</td>\n",
       "      <td>104631.0</td>\n",
       "      <td>75243.0</td>\n",
       "      <td>9.913685</td>\n",
       "      <td>10.027385</td>\n",
       "    </tr>\n",
       "    <tr>\n",
       "      <th>2</th>\n",
       "      <td>658-1</td>\n",
       "      <td>658.0</td>\n",
       "      <td>1.0</td>\n",
       "      <td>개포6차우성</td>\n",
       "      <td>54.98</td>\n",
       "      <td>28.0</td>\n",
       "      <td>5.0</td>\n",
       "      <td>1987.0</td>\n",
       "      <td>언주로 3</td>\n",
       "      <td>아파트</td>\n",
       "      <td>...</td>\n",
       "      <td>0</td>\n",
       "      <td>2</td>\n",
       "      <td>99.0</td>\n",
       "      <td>3630.0</td>\n",
       "      <td>68796.0</td>\n",
       "      <td>12175.0</td>\n",
       "      <td>104631.0</td>\n",
       "      <td>75243.0</td>\n",
       "      <td>9.913685</td>\n",
       "      <td>10.027385</td>\n",
       "    </tr>\n",
       "    <tr>\n",
       "      <th>3</th>\n",
       "      <td>658-1</td>\n",
       "      <td>658.0</td>\n",
       "      <td>1.0</td>\n",
       "      <td>개포6차우성</td>\n",
       "      <td>79.97</td>\n",
       "      <td>3.0</td>\n",
       "      <td>4.0</td>\n",
       "      <td>1987.0</td>\n",
       "      <td>언주로 3</td>\n",
       "      <td>아파트</td>\n",
       "      <td>...</td>\n",
       "      <td>0</td>\n",
       "      <td>2</td>\n",
       "      <td>99.0</td>\n",
       "      <td>3630.0</td>\n",
       "      <td>68796.0</td>\n",
       "      <td>12175.0</td>\n",
       "      <td>81273.0</td>\n",
       "      <td>86670.0</td>\n",
       "      <td>9.913685</td>\n",
       "      <td>10.027385</td>\n",
       "    </tr>\n",
       "    <tr>\n",
       "      <th>4</th>\n",
       "      <td>658-1</td>\n",
       "      <td>658.0</td>\n",
       "      <td>1.0</td>\n",
       "      <td>개포6차우성</td>\n",
       "      <td>79.97</td>\n",
       "      <td>8.0</td>\n",
       "      <td>2.0</td>\n",
       "      <td>1987.0</td>\n",
       "      <td>언주로 3</td>\n",
       "      <td>아파트</td>\n",
       "      <td>...</td>\n",
       "      <td>0</td>\n",
       "      <td>2</td>\n",
       "      <td>99.0</td>\n",
       "      <td>3630.0</td>\n",
       "      <td>68796.0</td>\n",
       "      <td>12175.0</td>\n",
       "      <td>81273.0</td>\n",
       "      <td>86670.0</td>\n",
       "      <td>9.913685</td>\n",
       "      <td>10.027385</td>\n",
       "    </tr>\n",
       "  </tbody>\n",
       "</table>\n",
       "<p>5 rows × 57 columns</p>\n",
       "</div>"
      ],
      "text/plain": [
       "      번지     본번   부번    아파트명   전용면적   계약일    층    건축년도    도로명 단지분류  ...  \\\n",
       "0  658-1  658.0  1.0  개포6차우성  79.97   8.0  3.0  1987.0  언주로 3  아파트  ...   \n",
       "1  658-1  658.0  1.0  개포6차우성  79.97  22.0  4.0  1987.0  언주로 3  아파트  ...   \n",
       "2  658-1  658.0  1.0  개포6차우성  54.98  28.0  5.0  1987.0  언주로 3  아파트  ...   \n",
       "3  658-1  658.0  1.0  개포6차우성  79.97   3.0  4.0  1987.0  언주로 3  아파트  ...   \n",
       "4  658-1  658.0  1.0  개포6차우성  79.97   8.0  2.0  1987.0  언주로 3  아파트  ...   \n",
       "\n",
       "  관리비 업로드_le 주차대수_le 아파트명_fe  건설사_fe     구_fe     동_fe    계약년_fe   계약월_fe  \\\n",
       "0          0       2    99.0  3630.0  68796.0  12175.0  104631.0  75243.0   \n",
       "1          0       2    99.0  3630.0  68796.0  12175.0  104631.0  75243.0   \n",
       "2          0       2    99.0  3630.0  68796.0  12175.0  104631.0  75243.0   \n",
       "3          0       2    99.0  3630.0  68796.0  12175.0   81273.0  86670.0   \n",
       "4          0       2    99.0  3630.0  68796.0  12175.0   81273.0  86670.0   \n",
       "\n",
       "   주거전용면적_log    연면적_log  \n",
       "0    9.913685  10.027385  \n",
       "1    9.913685  10.027385  \n",
       "2    9.913685  10.027385  \n",
       "3    9.913685  10.027385  \n",
       "4    9.913685  10.027385  \n",
       "\n",
       "[5 rows x 57 columns]"
      ]
     },
     "metadata": {},
     "output_type": "display_data"
    },
    {
     "name": "stdout",
     "output_type": "stream",
     "text": [
      "<class 'pandas.core.frame.DataFrame'>\n",
      "Int64Index: 1118822 entries, 0 to 1115641\n",
      "Data columns (total 57 columns):\n",
      " #   Column               Non-Null Count    Dtype   \n",
      "---  ------               --------------    -----   \n",
      " 0   번지                   1113399 non-null  object  \n",
      " 1   본번                   1113399 non-null  object  \n",
      " 2   부번                   1113399 non-null  object  \n",
      " 3   아파트명                 1113399 non-null  object  \n",
      " 4   전용면적                 1113399 non-null  float64 \n",
      " 5   계약일                  1113399 non-null  float64 \n",
      " 6   층                    1113399 non-null  float64 \n",
      " 7   건축년도                 1113399 non-null  float64 \n",
      " 8   도로명                  1113399 non-null  object  \n",
      " 9   단지분류                 1113399 non-null  object  \n",
      " 10  세대타입                 1113399 non-null  object  \n",
      " 11  관리방식                 1113399 non-null  object  \n",
      " 12  복도유형                 1113399 non-null  object  \n",
      " 13  난방방식                 1113399 non-null  object  \n",
      " 14  전체동수                 1113399 non-null  float64 \n",
      " 15  전체세대수                1113399 non-null  float64 \n",
      " 16  건설사                  1113399 non-null  object  \n",
      " 17  시행사                  1113399 non-null  object  \n",
      " 18  연면적                  1113399 non-null  float64 \n",
      " 19  주거전용면적               1113399 non-null  float64 \n",
      " 20  전용면적<60              1113399 non-null  float64 \n",
      " 21  전용면적60~85            1113399 non-null  float64 \n",
      " 22  전용면적85~135           1113399 non-null  float64 \n",
      " 23  경비비관리형태              1113399 non-null  object  \n",
      " 24  세대전기계약방법             1113399 non-null  object  \n",
      " 25  주차대수                 1113399 non-null  category\n",
      " 26  기타/의무/임대/임의=1/2/3/4  1113399 non-null  object  \n",
      " 27  사용허가여부               1113399 non-null  object  \n",
      " 28  관리비 업로드              1113399 non-null  object  \n",
      " 29  target               1113399 non-null  float64 \n",
      " 30  is_test              1113399 non-null  float64 \n",
      " 31  시                    1113399 non-null  object  \n",
      " 32  구                    1113399 non-null  object  \n",
      " 33  동                    1113399 non-null  object  \n",
      " 34  계약년                  1113399 non-null  object  \n",
      " 35  계약월                  1113399 non-null  object  \n",
      " 36  구 티어                 1113399 non-null  float64 \n",
      " 37  동 티어                 1113399 non-null  float64 \n",
      " 38  건축년도 티어              1113399 non-null  float64 \n",
      " 39  사용허가여부_Y_ohe         1113399 non-null  float64 \n",
      " 40  시_서울특별시_ohe          1118805 non-null  float64 \n",
      " 41  시_nan_ohe            1118805 non-null  float64 \n",
      " 42  단지분류_le              1118822 non-null  int64   \n",
      " 43  세대타입_le              1118822 non-null  int64   \n",
      " 44  복도유형_le              1118822 non-null  int64   \n",
      " 45  난방방식_le              1118822 non-null  int64   \n",
      " 46  경비비관리형태_le           1118822 non-null  int64   \n",
      " 47  관리비 업로드_le           1118822 non-null  int64   \n",
      " 48  주차대수_le              1118822 non-null  int64   \n",
      " 49  아파트명_fe              1113399 non-null  float64 \n",
      " 50  건설사_fe               1113399 non-null  float64 \n",
      " 51  구_fe                 1113399 non-null  float64 \n",
      " 52  동_fe                 1113399 non-null  float64 \n",
      " 53  계약년_fe               1113399 non-null  float64 \n",
      " 54  계약월_fe               1113399 non-null  float64 \n",
      " 55  주거전용면적_log           1113399 non-null  float64 \n",
      " 56  연면적_log              1113399 non-null  float64 \n",
      "dtypes: category(1), float64(27), int64(7), object(22)\n",
      "memory usage: 487.6+ MB\n"
     ]
    },
    {
     "data": {
      "text/plain": [
       "None"
      ]
     },
     "metadata": {},
     "output_type": "display_data"
    }
   ],
   "source": [
    "display(train_dt2.head())\n",
    "display(train_dt2.info())\n"
   ]
  },
  {
   "cell_type": "markdown",
   "metadata": {},
   "source": [
    "#### 데이터 저장"
   ]
  },
  {
   "cell_type": "code",
   "execution_count": 116,
   "metadata": {},
   "outputs": [],
   "source": [
    "train_dt2.to_csv('/data/ephemeral/home/code/train_pp.csv', index=False)\n",
    "test_dt2.to_csv('/data/ephemeral/home/code/test_pp.csv', index=False)"
   ]
  }
 ],
 "metadata": {
  "kernelspec": {
   "display_name": "base",
   "language": "python",
   "name": "python3"
  },
  "language_info": {
   "codemirror_mode": {
    "name": "ipython",
    "version": 3
   },
   "file_extension": ".py",
   "mimetype": "text/x-python",
   "name": "python",
   "nbconvert_exporter": "python",
   "pygments_lexer": "ipython3",
   "version": "3.10.13"
  }
 },
 "nbformat": 4,
 "nbformat_minor": 2
}
