{
 "cells": [
  {
   "cell_type": "markdown",
   "metadata": {
    "id": "6n-Ps2nkVsBb"
   },
   "source": [
    "# **💁🏻🗨️💁🏻‍♂️대화 요약 SOLAR API code**\n",
    "> **Dialogue Summarization** 경진대회에 오신 여러분 환영합니다! 🎉    \n",
    "> 본 자료에서는 Solar Chat API를 이용하여 대화 요약 대회를 풀어봅니다.     "
   ]
  },
  {
   "cell_type": "markdown",
   "metadata": {
    "id": "kNq_LylZa1ug"
   },
   "source": [
    "## ⚙️ 데이터 및 환경설정"
   ]
  },
  {
   "cell_type": "markdown",
   "metadata": {
    "id": "MjCiuI_V4glr"
   },
   "source": [
    "### 1) 필요한 라이브러리 설치"
   ]
  },
  {
   "cell_type": "markdown",
   "metadata": {
    "id": "VYqDF_-r2ToB"
   },
   "source": [
    "- 필요한 라이브러리를 설치한 후 불러옵니다."
   ]
  },
  {
   "cell_type": "code",
   "execution_count": null,
   "metadata": {},
   "outputs": [],
   "source": [
    "# !pip install openai"
   ]
  },
  {
   "cell_type": "code",
   "execution_count": 2,
   "metadata": {
    "id": "zbZ7SU9P2TYN"
   },
   "outputs": [],
   "source": [
    "import pandas as pd\n",
    "import os\n",
    "import time\n",
    "from tqdm import tqdm\n",
    "from rouge import Rouge # 모델의 성능을 평가하기 위한 라이브러리입니다.\n",
    "from openai import OpenAI # openai==1.2.0\n",
    "from dotenv import load_dotenv\n"
   ]
  },
  {
   "cell_type": "markdown",
   "metadata": {},
   "source": [
    "### 2) Solar Chat API Client 생성하기\n",
    "- 앞으로 Solar Chat API를 사용하기 위해 Client를 생성합니다."
   ]
  },
  {
   "cell_type": "code",
   "execution_count": 3,
   "metadata": {},
   "outputs": [],
   "source": [
    "ENV_PATH = '/data/ephemeral/home/NLP_JES/llm/.env'\n",
    "load_dotenv(ENV_PATH)\n",
    "UPSTAGE_API_KEY = os.getenv(\"UPSTAGE_API_KEY\") # upstage.ai에서 발급받은 API KEY를 입력해주세요.\n",
    "\n",
    "client = OpenAI(\n",
    "    api_key=UPSTAGE_API_KEY,\n",
    "    base_url=\"https://api.upstage.ai/v1/solar\"\n",
    ")"
   ]
  },
  {
   "cell_type": "markdown",
   "metadata": {
    "id": "-Qq46k6_CNQn"
   },
   "source": [
    "### 3) Solar Chat API 사용해보기 (선택)\n",
    "- 예시 코드를 통해 Solar Chat API를 사용해보세요."
   ]
  },
  {
   "cell_type": "code",
   "execution_count": 69,
   "metadata": {
    "colab": {
     "base_uri": "https://localhost:8080/",
     "height": 197,
     "referenced_widgets": [
      "e920dbc173c045d1a32143349f1dff8e",
      "58c794fb7ce543a39fdf66d757f6eeab",
      "8a6464a355f7464c989033965d418a8a",
      "3645438ace1f4596a8dbc157b48c1521",
      "58001a60eacc44d5b38a68648adccde4",
      "6f5fde5b0ac840a18bd5cc380e564ff6",
      "45187decb58b4ad39ad532259c6277e5",
      "2307c6dcbe0141acb5e61baae19cade7",
      "4747b668e2fa4ab58a449446f80030f5",
      "14f6c91d6c634379b498586c51e606e0",
      "08d05bc20a96432badd459e1ffaf868e",
      "5dfcf310ca9e4e2794076098a5d69cea",
      "3c284a826f6843f6aa47eacad478ac30",
      "6caedd60c6b747469c82930be1f95d6d",
      "64f2218f899d446393cfea44f206f0a6",
      "d068f541df3f438dbd5138863e64b2f2",
      "affff1d8a89e4c14955d1b2aa39ff1ab",
      "13651c09564a4337b8274c1cb436faa5",
      "3bcd6b6b956347b29e1efa20a1d00542",
      "2fd3d7bbcd6948d8904d33001f95ea03",
      "d22fbc2c5dbf422399e496c9b500025a",
      "775d8bbeceac4e2da4f21ab6235c89ed",
      "de1a3f7701c243839fe03b930a9b9e30",
      "ebc22683058a4f229c5588e52fc93536",
      "52095cc7087243ac916055e569fd22f3",
      "a15af9e8158f4903b9189f3d322a5ef3",
      "21d2e54b5a0a4f79973a512105da43eb",
      "083ea69907bb48d4a8fff919bac51aad",
      "2a190bda0b72407e9a953cd2104dd3b2",
      "c18f0e3bc35e44d9915c3f84cd282a26",
      "3a04e871b74b45d7bf02fd33bb103577",
      "ac00d6c2cf974b33a628acb3f1471316",
      "285007b45236478ca147c6df752c8da4"
     ]
    },
    "id": "gZOE9TInCQHJ",
    "outputId": "8ce58487-6199-408c-cb37-49af1e218bc2"
   },
   "outputs": [
    {
     "name": "stdout",
     "output_type": "stream",
     "text": [
      "Hello! How can I assist you today?"
     ]
    }
   ],
   "source": [
    "stream = client.chat.completions.create(\n",
    "    model=\"solar-1-mini-chat\",\n",
    "    messages=[\n",
    "      {\n",
    "        \"role\": \"system\",\n",
    "        \"content\": \"You are a helpful assistant.\"\n",
    "      },\n",
    "      {\n",
    "        \"role\": \"user\",\n",
    "        \"content\": \"Hello!\"\n",
    "      }\n",
    "    ],\n",
    "    stream=True,\n",
    ")\n",
    " \n",
    "for chunk in stream:\n",
    "    if chunk.choices[0].delta.content is not None:\n",
    "        print(chunk.choices[0].delta.content, end=\"\")\n",
    " \n",
    "# Use with stream=False\n",
    "# print(stream.choices[0].message.content)"
   ]
  },
  {
   "cell_type": "markdown",
   "metadata": {
    "id": "S2zt0b-8ogCL"
   },
   "source": [
    "### 4) 데이터 불러오기\n",
    "- 실험에서 쓰일 데이터를 load합니다."
   ]
  },
  {
   "cell_type": "code",
   "execution_count": 4,
   "metadata": {
    "colab": {
     "base_uri": "https://localhost:8080/",
     "height": 293
    },
    "id": "QFHIE2G04y-K",
    "outputId": "19312d21-f5bf-495f-c626-cc17b82024a4"
   },
   "outputs": [
    {
     "data": {
      "text/html": [
       "<div>\n",
       "<style scoped>\n",
       "    .dataframe tbody tr th:only-of-type {\n",
       "        vertical-align: middle;\n",
       "    }\n",
       "\n",
       "    .dataframe tbody tr th {\n",
       "        vertical-align: top;\n",
       "    }\n",
       "\n",
       "    .dataframe thead th {\n",
       "        text-align: right;\n",
       "    }\n",
       "</style>\n",
       "<table border=\"1\" class=\"dataframe\">\n",
       "  <thead>\n",
       "    <tr style=\"text-align: right;\">\n",
       "      <th></th>\n",
       "      <th>fname</th>\n",
       "      <th>dialogue</th>\n",
       "      <th>summary</th>\n",
       "      <th>topic</th>\n",
       "    </tr>\n",
       "  </thead>\n",
       "  <tbody>\n",
       "    <tr>\n",
       "      <th>12452</th>\n",
       "      <td>train_12455</td>\n",
       "      <td>#Person1#: 실례합니다. 맨체스터 출신의 그린 씨이신가요?\\n#Person2...</td>\n",
       "      <td>탄 링은 흰머리와 수염으로 쉽게 인식되는 그린 씨를 만나 호텔로 데려갈 예정입니다....</td>\n",
       "      <td>누군가를 태우다</td>\n",
       "    </tr>\n",
       "    <tr>\n",
       "      <th>12453</th>\n",
       "      <td>train_12456</td>\n",
       "      <td>#Person1#: 이윙 씨가 우리가 컨퍼런스 센터에 오후 4시에 도착해야 한다고 ...</td>\n",
       "      <td>#Person1#과 #Person2#는 이윙 씨가 늦지 않도록 요청했기 때문에 컨퍼...</td>\n",
       "      <td>컨퍼런스 센터</td>\n",
       "    </tr>\n",
       "    <tr>\n",
       "      <th>12454</th>\n",
       "      <td>train_12457</td>\n",
       "      <td>#Person1#: 오늘 어떻게 도와드릴까요?\\n#Person2#: 차를 빌리고 싶...</td>\n",
       "      <td>#Person2#는 #Person1#의 도움으로 5일 동안 소형 차를 빌립니다.</td>\n",
       "      <td>차 렌트</td>\n",
       "    </tr>\n",
       "    <tr>\n",
       "      <th>12455</th>\n",
       "      <td>train_12458</td>\n",
       "      <td>#Person1#: 오늘 좀 행복해 보이지 않아. 무슨 일 있어?\\n#Person2...</td>\n",
       "      <td>#Person2#의 엄마가 일자리를 잃었다. #Person2#는 엄마가 우울해하지 ...</td>\n",
       "      <td>실직</td>\n",
       "    </tr>\n",
       "    <tr>\n",
       "      <th>12456</th>\n",
       "      <td>train_12459</td>\n",
       "      <td>#Person1#: 엄마, 다음 토요일에 이 삼촌네 가족을 방문하기 위해 비행기를 ...</td>\n",
       "      <td>#Person1#은 다음 토요일에 이 삼촌네를 방문할 때 가방을 어떻게 싸야 할지 ...</td>\n",
       "      <td>짐 싸기</td>\n",
       "    </tr>\n",
       "  </tbody>\n",
       "</table>\n",
       "</div>"
      ],
      "text/plain": [
       "             fname                                           dialogue  \\\n",
       "12452  train_12455  #Person1#: 실례합니다. 맨체스터 출신의 그린 씨이신가요?\\n#Person2...   \n",
       "12453  train_12456  #Person1#: 이윙 씨가 우리가 컨퍼런스 센터에 오후 4시에 도착해야 한다고 ...   \n",
       "12454  train_12457  #Person1#: 오늘 어떻게 도와드릴까요?\\n#Person2#: 차를 빌리고 싶...   \n",
       "12455  train_12458  #Person1#: 오늘 좀 행복해 보이지 않아. 무슨 일 있어?\\n#Person2...   \n",
       "12456  train_12459  #Person1#: 엄마, 다음 토요일에 이 삼촌네 가족을 방문하기 위해 비행기를 ...   \n",
       "\n",
       "                                                 summary     topic  \n",
       "12452  탄 링은 흰머리와 수염으로 쉽게 인식되는 그린 씨를 만나 호텔로 데려갈 예정입니다....  누군가를 태우다  \n",
       "12453  #Person1#과 #Person2#는 이윙 씨가 늦지 않도록 요청했기 때문에 컨퍼...   컨퍼런스 센터  \n",
       "12454       #Person2#는 #Person1#의 도움으로 5일 동안 소형 차를 빌립니다.      차 렌트  \n",
       "12455  #Person2#의 엄마가 일자리를 잃었다. #Person2#는 엄마가 우울해하지 ...        실직  \n",
       "12456  #Person1#은 다음 토요일에 이 삼촌네를 방문할 때 가방을 어떻게 싸야 할지 ...      짐 싸기  "
      ]
     },
     "execution_count": 4,
     "metadata": {},
     "output_type": "execute_result"
    }
   ],
   "source": [
    "# 데이터 경로를 지정해줍니다.\n",
    "BASE_PATH = '/data/ephemeral/home/NLP_JES'\n",
    "LLM_PATH = os.path.join(BASE_PATH, 'llm')\n",
    "ENV_PATH = os.path.join(LLM_PATH, '.env')\n",
    "DATA_PATH = '/data/ephemeral/home/baseline/data'\n",
    "RESULT_PATH = os.path.join(BASE_PATH, 'llm', 'result')\n",
    "\n",
    "# train data의 구조와 내용을 확인합니다.\n",
    "train_df = pd.read_csv(os.path.join(DATA_PATH,'train.csv'))\n",
    "train_df.tail()"
   ]
  },
  {
   "cell_type": "code",
   "execution_count": 5,
   "metadata": {
    "colab": {
     "base_uri": "https://localhost:8080/",
     "height": 258
    },
    "id": "FAGaYvNZ09Sq",
    "outputId": "bf8bf286-19e7-469d-ffae-41e6ad795ae6"
   },
   "outputs": [
    {
     "data": {
      "text/html": [
       "<div>\n",
       "<style scoped>\n",
       "    .dataframe tbody tr th:only-of-type {\n",
       "        vertical-align: middle;\n",
       "    }\n",
       "\n",
       "    .dataframe tbody tr th {\n",
       "        vertical-align: top;\n",
       "    }\n",
       "\n",
       "    .dataframe thead th {\n",
       "        text-align: right;\n",
       "    }\n",
       "</style>\n",
       "<table border=\"1\" class=\"dataframe\">\n",
       "  <thead>\n",
       "    <tr style=\"text-align: right;\">\n",
       "      <th></th>\n",
       "      <th>fname</th>\n",
       "      <th>dialogue</th>\n",
       "      <th>summary</th>\n",
       "      <th>topic</th>\n",
       "    </tr>\n",
       "  </thead>\n",
       "  <tbody>\n",
       "    <tr>\n",
       "      <th>494</th>\n",
       "      <td>dev_495</td>\n",
       "      <td>#Person1#: 이제 새해가 되어서 새로운 시작을 하려고 결심했어. \\r\\n#P...</td>\n",
       "      <td>#Person1#은 새해에 금연을 하고 커밍아웃하기로 결정했습니다. #Person2...</td>\n",
       "      <td>새해</td>\n",
       "    </tr>\n",
       "    <tr>\n",
       "      <th>495</th>\n",
       "      <td>dev_496</td>\n",
       "      <td>#Person1#: 너, 조랑 결혼했지? \\r\\n#Person2#: 조? 무슨 말인...</td>\n",
       "      <td>#Person1#은 #Person2#가 조와 결혼했다고 생각했다. #Person2#...</td>\n",
       "      <td>사랑에 빠지다</td>\n",
       "    </tr>\n",
       "    <tr>\n",
       "      <th>496</th>\n",
       "      <td>dev_497</td>\n",
       "      <td>#Person1#: 무엇을 도와드릴까요, 부인?\\r\\n#Person2#: 몇 주 동...</td>\n",
       "      <td>#Person2#의 차에서 이상한 소리가 납니다. #Person1#는 브레이크를 교...</td>\n",
       "      <td>소음</td>\n",
       "    </tr>\n",
       "    <tr>\n",
       "      <th>497</th>\n",
       "      <td>dev_498</td>\n",
       "      <td>#Person1#: 안녕하세요, 아마존 고객 서비스입니다. 무엇을 도와드릴까요?\\n...</td>\n",
       "      <td>#Person2#님이 아마존 고객 서비스에 전화하여 아마존에서 받은 책에 한 페이지...</td>\n",
       "      <td>빠진 페이지</td>\n",
       "    </tr>\n",
       "    <tr>\n",
       "      <th>498</th>\n",
       "      <td>dev_499</td>\n",
       "      <td>#Person1#: 여름이 다 되어간다는 게 믿기지 않아.\\r\\n#Person2#:...</td>\n",
       "      <td>#Person2#는 #Person1#에게 여름 휴가 동안 파티를 도와주는 회사에서 ...</td>\n",
       "      <td>여름 휴가</td>\n",
       "    </tr>\n",
       "  </tbody>\n",
       "</table>\n",
       "</div>"
      ],
      "text/plain": [
       "       fname                                           dialogue  \\\n",
       "494  dev_495  #Person1#: 이제 새해가 되어서 새로운 시작을 하려고 결심했어. \\r\\n#P...   \n",
       "495  dev_496  #Person1#: 너, 조랑 결혼했지? \\r\\n#Person2#: 조? 무슨 말인...   \n",
       "496  dev_497  #Person1#: 무엇을 도와드릴까요, 부인?\\r\\n#Person2#: 몇 주 동...   \n",
       "497  dev_498  #Person1#: 안녕하세요, 아마존 고객 서비스입니다. 무엇을 도와드릴까요?\\n...   \n",
       "498  dev_499  #Person1#: 여름이 다 되어간다는 게 믿기지 않아.\\r\\n#Person2#:...   \n",
       "\n",
       "                                               summary    topic  \n",
       "494  #Person1#은 새해에 금연을 하고 커밍아웃하기로 결정했습니다. #Person2...       새해  \n",
       "495  #Person1#은 #Person2#가 조와 결혼했다고 생각했다. #Person2#...  사랑에 빠지다  \n",
       "496  #Person2#의 차에서 이상한 소리가 납니다. #Person1#는 브레이크를 교...       소음  \n",
       "497  #Person2#님이 아마존 고객 서비스에 전화하여 아마존에서 받은 책에 한 페이지...   빠진 페이지  \n",
       "498  #Person2#는 #Person1#에게 여름 휴가 동안 파티를 도와주는 회사에서 ...    여름 휴가  "
      ]
     },
     "execution_count": 5,
     "metadata": {},
     "output_type": "execute_result"
    }
   ],
   "source": [
    "# validation data의 구조와 내용을 확인합니다.\n",
    "val_df = pd.read_csv(os.path.join(DATA_PATH,'dev.csv'))\n",
    "val_df.tail()"
   ]
  },
  {
   "cell_type": "code",
   "execution_count": 72,
   "metadata": {},
   "outputs": [
    {
     "data": {
      "text/html": [
       "<div>\n",
       "<style scoped>\n",
       "    .dataframe tbody tr th:only-of-type {\n",
       "        vertical-align: middle;\n",
       "    }\n",
       "\n",
       "    .dataframe tbody tr th {\n",
       "        vertical-align: top;\n",
       "    }\n",
       "\n",
       "    .dataframe thead th {\n",
       "        text-align: right;\n",
       "    }\n",
       "</style>\n",
       "<table border=\"1\" class=\"dataframe\">\n",
       "  <thead>\n",
       "    <tr style=\"text-align: right;\">\n",
       "      <th></th>\n",
       "      <th>fname</th>\n",
       "      <th>summary</th>\n",
       "    </tr>\n",
       "  </thead>\n",
       "  <tbody>\n",
       "    <tr>\n",
       "      <th>0</th>\n",
       "      <td>test_0</td>\n",
       "      <td>#Person1#은 모든 사무실 통신을 이메일과 공식 메모로 제한하고, 근무 시간 ...</td>\n",
       "    </tr>\n",
       "    <tr>\n",
       "      <th>1</th>\n",
       "      <td>test_1</td>\n",
       "      <td>#Person2#는 교통 체증으로 인해 집에 늦게 도착했습니다. #Person1#은...</td>\n",
       "    </tr>\n",
       "    <tr>\n",
       "      <th>2</th>\n",
       "      <td>test_2</td>\n",
       "      <td>#Person1#은 마샤와 히어로가 이혼하려고 한다고 #Person2#에게 알렸습니...</td>\n",
       "    </tr>\n",
       "    <tr>\n",
       "      <th>3</th>\n",
       "      <td>test_3</td>\n",
       "      <td>브라이언의 생일 파티가 열리고 있습니다. #Person1#은 브라이언에게 목걸이를 ...</td>\n",
       "    </tr>\n",
       "    <tr>\n",
       "      <th>4</th>\n",
       "      <td>test_4</td>\n",
       "      <td>#Person1#은 #Person2#에게 올림픽 공원의 크기에 대해 언급합니다. #...</td>\n",
       "    </tr>\n",
       "  </tbody>\n",
       "</table>\n",
       "</div>"
      ],
      "text/plain": [
       "    fname                                            summary\n",
       "0  test_0  #Person1#은 모든 사무실 통신을 이메일과 공식 메모로 제한하고, 근무 시간 ...\n",
       "1  test_1  #Person2#는 교통 체증으로 인해 집에 늦게 도착했습니다. #Person1#은...\n",
       "2  test_2  #Person1#은 마샤와 히어로가 이혼하려고 한다고 #Person2#에게 알렸습니...\n",
       "3  test_3  브라이언의 생일 파티가 열리고 있습니다. #Person1#은 브라이언에게 목걸이를 ...\n",
       "4  test_4  #Person1#은 #Person2#에게 올림픽 공원의 크기에 대해 언급합니다. #..."
      ]
     },
     "metadata": {},
     "output_type": "display_data"
    }
   ],
   "source": [
    "test_df = pd.read_csv(os.path.join(DATA_PATH,'test.csv'))\n",
    "# display(test_df.tail())\n",
    "result_df = pd.read_csv(os.path.join(RESULT_PATH, 'solar_test_output.csv'))\n",
    "display(result_df.head())"
   ]
  },
  {
   "cell_type": "markdown",
   "metadata": {
    "id": "_IIaIrpH4kWo"
   },
   "source": [
    "## 1. Solar Chat API 요약 성능 확인하기\n",
    "- Solar Chat API을 이용하여 train 및 validation dataset에 포함된 dialogue 샘플을 요약해 봅니다."
   ]
  },
  {
   "cell_type": "code",
   "execution_count": 73,
   "metadata": {},
   "outputs": [],
   "source": [
    "# 모델 성능에 대한 평가 지표를 정의합니다. 본 대회에서는 ROUGE 점수를 통해 모델의 성능을 평가합니다.\n",
    "rouge = Rouge()\n",
    "def compute_metrics(pred, gold):\n",
    "    results = rouge.get_scores(pred, gold, avg=True)\n",
    "    result = {key: value[\"f\"] for key, value in results.items()}\n",
    "    return result"
   ]
  },
  {
   "cell_type": "code",
   "execution_count": 21,
   "metadata": {
    "id": "oWPawUUflwHa"
   },
   "outputs": [],
   "source": [
    "# Dialogue를 입력으로 받아, Solar Chat API에 보낼 Prompt를 생성하는 함수를 정의합니다.\n",
    "def build_prompt(dialogue):\n",
    "    system_prompt = \"You are an expert in the field of dialogue summarization. Please summarize the following dialogue.\"\n",
    "\n",
    "    user_prompt = f\"Dialogue:\\n{dialogue}\\n\\nSummary:\\n\"\n",
    "    \n",
    "    return [\n",
    "        {\n",
    "            \"role\": \"system\",\n",
    "            \"content\": system_prompt\n",
    "        },\n",
    "        {\n",
    "            \"role\": \"user\",\n",
    "            \"content\": user_prompt\n",
    "        }\n",
    "    ]"
   ]
  },
  {
   "cell_type": "code",
   "execution_count": 22,
   "metadata": {},
   "outputs": [],
   "source": [
    "# Solar Chat API를 활용해 Summarization을 수행하는 함수를 정의합니다.\n",
    "def summarization(dialogue):\n",
    "    summary = client.chat.completions.create(\n",
    "        model=\"solar-1-mini-chat\",\n",
    "        messages=build_prompt(dialogue),\n",
    "    )\n",
    "\n",
    "    return summary.choices[0].message.content"
   ]
  },
  {
   "cell_type": "markdown",
   "metadata": {},
   "source": [
    "### (선택) parameter 변경하기\n",
    "- Solar Chat API를 사용할 때, parameter를 변경하여, 다양한 결과를 얻을 수 있습니다.\n",
    "- Parameter에 대한 자세한 설명은 [여기](https://developers.upstage.ai/docs/apis/chat#request-body)를 참고해주세요."
   ]
  },
  {
   "cell_type": "code",
   "execution_count": 76,
   "metadata": {},
   "outputs": [],
   "source": [
    "def summarization(dialogue):\n",
    "    summary = client.chat.completions.create(\n",
    "        model=\"solar-1-mini-chat\",\n",
    "        messages=build_prompt(dialogue),\n",
    "        temperature=0.2,\n",
    "        top_p=0.3,\n",
    "    )\n",
    "\n",
    "    return summary.choices[0].message.content"
   ]
  },
  {
   "cell_type": "markdown",
   "metadata": {},
   "source": [
    "Train Dataset을 이용하여 요약이 잘 되는지 확인해 봅니다."
   ]
  },
  {
   "cell_type": "code",
   "execution_count": 24,
   "metadata": {
    "id": "6GDvodoF8sED"
   },
   "outputs": [],
   "source": [
    "# Train data 중 처음 3개의 대화를 요약합니다.\n",
    "def test_on_train_data(num_samples=3):\n",
    "    for idx, row in train_df[:num_samples].iterrows():\n",
    "        dialogue = row['dialogue']\n",
    "        summary = summarization(dialogue)\n",
    "        print(f\"Dialogue:\\n{dialogue}\\n\")\n",
    "        print(f\"Pred Summary: {summary}\\n\")\n",
    "        print(f\"Gold Summary: {row['summary']}\\n\")\n",
    "        print(\"==\"*50)"
   ]
  },
  {
   "cell_type": "code",
   "execution_count": null,
   "metadata": {},
   "outputs": [],
   "source": [
    "if __name__ == \"__main__\":\n",
    "    test_on_train_data()"
   ]
  },
  {
   "cell_type": "markdown",
   "metadata": {},
   "source": [
    "Validation Dataset을 이용하여 요약을 진행하고, 성능을 평가해 봅니다."
   ]
  },
  {
   "cell_type": "code",
   "execution_count": 77,
   "metadata": {},
   "outputs": [],
   "source": [
    "# Validation data의 대화를 요약하고, 점수를 측정합니다.\n",
    "def validate(num_samples=-1):\n",
    "    val_samples = val_df[:num_samples] if num_samples > 0 else val_df\n",
    "    \n",
    "    scores = []\n",
    "    results_list = []\n",
    "    for idx, row in tqdm(val_samples.iterrows(), total=len(val_samples)):\n",
    "        dialogue = row['dialogue']\n",
    "        gold_summary = row['summary']\n",
    "        topic = row['topic']\n",
    "        summary = summarization(dialogue)\n",
    "        results = compute_metrics(summary, row['summary'])\n",
    "        combined_rouge = (results['rouge-1'] + results['rouge-2'] + results['rouge-l'])/3 * 100\n",
    "        avg_score = sum(results.values()) / len(results)\n",
    "        scores.append(avg_score)\n",
    "        \n",
    "        result_dict = {\n",
    "            # \"dialogue\": dialogue,\n",
    "            # \"topic\": topic,\n",
    "            \"pred_summary\": summary,\n",
    "            \"gold_summary\": gold_summary,\n",
    "            'metrics': {\n",
    "                \"rouge-1\": float(results['rouge-1']),\n",
    "                \"rouge-2\": float(results['rouge-2']),\n",
    "                \"rouge-l\": float(results['rouge-l']),\n",
    "                \"combined_rouge\": float(combined_rouge)\n",
    "            }\n",
    "        }\n",
    "        results_list.append(result_dict)\n",
    "        # print(f\"Dialogue:\\n{dialogue}\\n\")\n",
    "        # print(f\"Topic: {topic}\\n\")\n",
    "        print(f\"=={idx}==\")\n",
    "        print(f\"Pred Summary: {summary}\\n\")\n",
    "        print(f\"Gold Summary: {gold_summary}\\n\")\n",
    "        print(f\"ROUGE-1 Score: {results['rouge-1']}\")\n",
    "        print(f\"ROUGE-2 Score: {results['rouge-2']}\")\n",
    "        print(f\"ROUGE-L Score: {results['rouge-l']}\")\n",
    "        print(f\"Combined ROUGE Score: {combined_rouge}\\n\")\n",
    "        print(\"==\"*50)\n",
    "    combined_rouges = [result['metrics']['combined_rouge'] for result in results_list]\n",
    "\n",
    "    print(f\"Validation Average Score: {sum(combined_rouges) / len(combined_rouges)}\")"
   ]
  },
  {
   "cell_type": "code",
   "execution_count": null,
   "metadata": {},
   "outputs": [],
   "source": [
    "if __name__ == \"__main__\":\n",
    "    validate() # 100개의 validation sample에 대한 요약을 수행합니다.\n",
    "    \n",
    "    # 전체 validation data에 대한 요약을 수행하고 싶은 경우 아래와 같이 실행합니다.\n",
    "    # validate() "
   ]
  },
  {
   "cell_type": "markdown",
   "metadata": {},
   "source": [
    "## 2. Solar Chat API로 요약하기\n",
    "- Solar Chat API을 이용하여 test dataset에 포함된 dialogue를 요약하고 제출용 파일을 생성합니다."
   ]
  },
  {
   "cell_type": "code",
   "execution_count": null,
   "metadata": {},
   "outputs": [],
   "source": [
    "def inference():\n",
    "    test_df = pd.read_csv(os.path.join(DATA_PATH, 'test.csv'))\n",
    "\n",
    "    summary = []\n",
    "    start_time = time.time()\n",
    "    for idx, row in tqdm(test_df.iterrows(), total=len(test_df)):\n",
    "        dialogue = row['dialogue']\n",
    "        summary.append(summarization(dialogue))\n",
    "        \n",
    "        # Rate limit 방지를 위해 1분 동안 최대 100개의 요청을 보내도록 합니다.\n",
    "        if (idx + 1) % 100 == 0:\n",
    "            end_time = time.time()\n",
    "            elapsed_time = end_time - start_time\n",
    "            \n",
    "            if elapsed_time < 60:\n",
    "                wait_time = 60 - elapsed_time + 5\n",
    "                print(f\"Elapsed time: {elapsed_time:.2f} sec\")\n",
    "                print(f\"Waiting for {wait_time} sec\")\n",
    "                time.sleep(wait_time)\n",
    "            \n",
    "            start_time = time.time()\n",
    "    \n",
    "    output = pd.DataFrame(\n",
    "        {\n",
    "            \"fname\": test_df['fname'],\n",
    "            \"summary\" : summary,\n",
    "        }\n",
    "    )\n",
    "    \n",
    "    if not os.path.exists(RESULT_PATH):\n",
    "        os.makedirs(RESULT_PATH)\n",
    "    output.to_csv(os.path.join(RESULT_PATH, \"output_solar.csv\"), index=False)\n",
    "\n",
    "    return output"
   ]
  },
  {
   "cell_type": "code",
   "execution_count": null,
   "metadata": {
    "id": "-pJ1ZXf-5V50"
   },
   "outputs": [],
   "source": [
    "if __name__ == \"__main__\":\n",
    "    output = inference()"
   ]
  },
  {
   "cell_type": "code",
   "execution_count": null,
   "metadata": {
    "id": "OsPmLfhbzZqS"
   },
   "outputs": [],
   "source": [
    "output  # 각 대화문에 대한 요약문이 출력됨을 확인할 수 있습니다."
   ]
  },
  {
   "cell_type": "markdown",
   "metadata": {},
   "source": [
    "## 3. Prompt Engineering\n",
    "- Prompt engineering을 통해 요약 성능 향상을 시도합니다."
   ]
  },
  {
   "cell_type": "code",
   "execution_count": 78,
   "metadata": {},
   "outputs": [
    {
     "name": "stdout",
     "output_type": "stream",
     "text": [
      "Sample Dialogue1:\n",
      "#Person1#: 정부에서 이달 말에 민속 행사를 주최할 예정입니다. 그리고 우리 커뮤니티에서 공연을 하기로 했어요.\n",
      "#Person2#: 어떤 공연인가요? 사자춤?\n",
      "#Person1#: 그런 거요, 근데 사자춤은 너무 어렵고 위험할 것 같아요.\n",
      "#Person2#: 네, 사자와 함께 춤을 추게 되죠. 어떻게 생각하세요? 그럼 전에 했던 레인지 댄스는 어때요?\n",
      "#Person1#: 좋은 생각이에요. 커뮤니티에 있는 모든 사람들을 모을까요?\n",
      "#Person2#: 아닐 수도 있죠. 은퇴한 분들 위주로 하는 게 좋을 것 같아요.\n",
      "#Person1#: 이미 레인지댄스팀이 있는 걸로 알고 있는데, 우리가 필요한 건 리허설만 좀 하면 돼요.\n",
      "#Person2#: 의상은 어때요?\n",
      "#Person1#: 커뮤니티에서 모금을 하면 되죠. 한 가정당 10위안 정도면 되겠네요.\n",
      "#Person2#: 새로운 것을 시도해 보세요. 지원 기관을 찾을 수 있어요.\n",
      "#Person1#: 좋은 생각이에요. 근처에 우리 후원자가 되고 싶어하는 여행사가 있어요. 소수민족 관광을 홍보할 수 있는 완벽한 기회가 될 거예요.\n",
      "\n",
      "Sample Summary1: #Person1#과 #Person2#는 민속 행사를 위해 레인지 댄스를 하기로 결정했다. 그들은 은퇴한 사람들에게 집중하고 여행사에게 후원을 요청할 것이다.\n",
      "\n"
     ]
    }
   ],
   "source": [
    "# Few-shot prompt를 생성하기 위해, train data의 일부를 사용합니다.\n",
    "few_shot_samples = train_df.sample(1)\n",
    "\n",
    "sample_dialogue1 = few_shot_samples.iloc[0]['dialogue']\n",
    "sample_summary1 = few_shot_samples.iloc[0]['summary']\n",
    "\n",
    "print(f\"Sample Dialogue1:\\n{sample_dialogue1}\\n\")\n",
    "print(f\"Sample Summary1: {sample_summary1}\\n\")"
   ]
  },
  {
   "cell_type": "code",
   "execution_count": 35,
   "metadata": {},
   "outputs": [],
   "source": [
    "# Prompt를 생성하는 함수를 수정합니다.\n",
    "def build_prompt(dialogue):\n",
    "    system_prompt = \"You are a expert in the field of dialogue summarization, summarize the given dialogue in a concise manner. Follow the user's instruction carefully and provide a summary that is relevant to the dialogue.\"\n",
    "\n",
    "    user_prompt = (\n",
    "        \"Following the instructions below, summarize the given document.\\n\"\n",
    "        \"Instructions:\\n\"\n",
    "        \"1. Read the provided sample dialogue and corresponding summary.\\n\"\n",
    "        \"2. Read the dialogue carefully.\\n\"\n",
    "        \"3. Following the sample's style of summary, provide a concise summary of the given dialogue.\\n\\n\"\n",
    "        \"Sample Dialogue:\\n\"\n",
    "        f\"{sample_dialogue1}\\n\\n\"\n",
    "        \"Sample Summary:\\n\"\n",
    "        f\"{sample_summary1}\\n\\n\"\n",
    "        \"Dialogue:\\n\"\n",
    "        f\"{dialogue}\\n\\n\"\n",
    "        \"Summary:\\n\"\n",
    "    )\n",
    "    \n",
    "    return [\n",
    "        {\n",
    "            \"role\": \"system\",\n",
    "            \"content\": system_prompt\n",
    "        },\n",
    "        {\n",
    "            \"role\": \"user\",\n",
    "            \"content\": user_prompt\n",
    "        }\n",
    "    ]"
   ]
  },
  {
   "cell_type": "code",
   "execution_count": null,
   "metadata": {},
   "outputs": [],
   "source": [
    "# 변경된 prompt를 사용하여, train data 중 처음 3개의 대화를 요약하고, 결과를 확인합니다.\n",
    "if __name__ == \"__main__\":\n",
    "    test_on_train_data()"
   ]
  },
  {
   "cell_type": "code",
   "execution_count": null,
   "metadata": {},
   "outputs": [],
   "source": [
    "# 변경된 prompt를 사용하여, validation data의 대화를 요약하고, 점수를 측정합니다.\n",
    "if __name__ == \"__main__\":\n",
    "    validate()"
   ]
  },
  {
   "cell_type": "markdown",
   "metadata": {},
   "source": [
    "다른 방식으로 Few-shot sample을 제공하여 Prompt를 구성해 봅니다."
   ]
  },
  {
   "cell_type": "code",
   "execution_count": 79,
   "metadata": {},
   "outputs": [],
   "source": [
    "# Few-shot sample을 다른 방식으로 사용하여 prompt를 생성합니다.\n",
    "def build_prompt(dialogue):\n",
    "    system_prompt = \"You are a expert in the field of dialogue summarization, summarize the given dialogue in a concise manner. Follow the user's instruction carefully and provide a summary that is relevant to the dialogue.\"\n",
    "\n",
    "    few_shot_user_prompt_1 = (\n",
    "        \"Following the instructions below, summarize the given document.\\n\"\n",
    "        \"Instructions:\\n\"\n",
    "        \"1. Read the provided sample dialogue and corresponding summary.\\n\"\n",
    "        \"2. Read the dialogue carefully.\\n\"\n",
    "        \"3. Following the sample's style of summary, provide a concise summary of the given dialogue. Be sure that the summary is simple but captures the essence of the dialogue.\\n\\n\"\n",
    "        \"Dialogue:\\n\"\n",
    "        f\"{sample_dialogue1}\\n\\n\"\n",
    "        \"Summary:\\n\"\n",
    "    )\n",
    "    few_shot_assistant_prompt_1 = sample_summary1\n",
    "    \n",
    "    user_prompt = (\n",
    "        \"Dialogue:\\n\"\n",
    "        f\"{dialogue}\\n\\n\"\n",
    "        \"Summary:\\n\"\n",
    "    )\n",
    "    \n",
    "    return [\n",
    "        {\"role\": \"system\", \"content\": system_prompt},\n",
    "        {\"role\": \"user\", \"content\": few_shot_user_prompt_1},\n",
    "        {\"role\": \"assistant\", \"content\": few_shot_assistant_prompt_1},\n",
    "        {\"role\": \"user\", \"content\": user_prompt},\n",
    "    ]"
   ]
  },
  {
   "cell_type": "code",
   "execution_count": null,
   "metadata": {},
   "outputs": [],
   "source": [
    "# 변경된 prompt를 사용하여, train data 중 처음 3개의 대화를 요약하고, 결과를 확인합니다.\n",
    "if __name__ == \"__main__\":\n",
    "    test_on_train_data()"
   ]
  },
  {
   "cell_type": "code",
   "execution_count": 80,
   "metadata": {},
   "outputs": [
    {
     "name": "stderr",
     "output_type": "stream",
     "text": [
      "  0%|          | 1/499 [00:01<10:38,  1.28s/it]"
     ]
    },
    {
     "name": "stdout",
     "output_type": "stream",
     "text": [
      "==0==\n",
      "Pred Summary: #Person2#는 숨쉬기에 어려움을 겪고 있으며, 특히 운동할 때 증상이 심해진다. #Person1#은 #Person2#를 폐 전문의에게 보내 천식 검사를 받도록 할 것이다.\n",
      "\n",
      "Gold Summary: #Person2#는 숨쉬기에 어려움을 겪는다. 의사는 #Person1#에게 이에 대해 묻고, #Person2#를 폐 전문의에게 보낼 예정이다. \n",
      "\n",
      "ROUGE-1 Score: 0.3428571379591837\n",
      "ROUGE-2 Score: 0.24242423753902673\n",
      "ROUGE-L Score: 0.3428571379591837\n",
      "Combined ROUGE Score: 30.937950448579805\n",
      "\n",
      "====================================================================================================\n"
     ]
    },
    {
     "name": "stderr",
     "output_type": "stream",
     "text": [
      "  0%|          | 2/499 [00:01<07:34,  1.09it/s]"
     ]
    },
    {
     "name": "stdout",
     "output_type": "stream",
     "text": [
      "==1==\n",
      "Pred Summary: #Person1#과 #Person2#는 운동 계획을 변경하여 오늘은 팔과 배를 운동하고 금요일에 다리를 운동하기로 합의했다.\n",
      "\n",
      "Gold Summary: #Person1#은 지미에게 운동하러 가자고 제안하고 팔과 배를 운동하도록 설득한다.\n",
      "\n",
      "ROUGE-1 Score: 0.18181817698347122\n",
      "ROUGE-2 Score: 0.09999999520000023\n",
      "ROUGE-L Score: 0.18181817698347122\n",
      "Combined ROUGE Score: 15.454544972231421\n",
      "\n",
      "====================================================================================================\n"
     ]
    },
    {
     "name": "stderr",
     "output_type": "stream",
     "text": [
      "  1%|          | 3/499 [00:02<07:24,  1.12it/s]"
     ]
    },
    {
     "name": "stdout",
     "output_type": "stream",
     "text": [
      "==2==\n",
      "Pred Summary: #Person1#과 #Person2#는 건강에 해로운 음식을 먹는 것을 그만두고, 주로 과일, 채소, 그리고 구운 닭고기를 먹기 시작했다.\n",
      "\n",
      "Gold Summary: #Person1#은 건강에 해로운 음식을 먹는 것을 멈추려는 계획을 세우고, #Person2#는 자신의 건강한 레시피를 #Person1#와 공유한다.\n",
      "\n",
      "ROUGE-1 Score: 0.3870967691987514\n",
      "ROUGE-2 Score: 0.27586206397146257\n",
      "ROUGE-L Score: 0.3225806401664933\n",
      "Combined ROUGE Score: 32.85131577789024\n",
      "\n",
      "====================================================================================================\n"
     ]
    },
    {
     "name": "stderr",
     "output_type": "stream",
     "text": [
      "  1%|          | 4/499 [00:03<08:08,  1.01it/s]"
     ]
    },
    {
     "name": "stdout",
     "output_type": "stream",
     "text": [
      "==3==\n",
      "Pred Summary: #Person1#과 #Person2#는 UFO와 외계인에 대해 이야기한다. #Person2#는 꿈에서 UFO를 보고 외계인들과 대화한다고 주장한다. 외계인들은 로봇처럼 생겼지만 영어로 말할 수 있으며, 그들의 임무는 인간과 친구가 되는 것이다.\n",
      "\n",
      "Gold Summary: #Person2#는 UFO를 믿고 꿈에서 그들을 볼 수 있다고 말한다. #Person1#는 #Person2#에게 UFO와 꿈 속의 외계인에 대해 묻고, #Person2#의 꿈을 멋지다고 느낀다.\n",
      "\n",
      "ROUGE-1 Score: 0.3043478211247638\n",
      "ROUGE-2 Score: 0.04444443950617339\n",
      "ROUGE-L Score: 0.26086956025519853\n",
      "Combined ROUGE Score: 20.322060696204524\n",
      "\n",
      "====================================================================================================\n"
     ]
    },
    {
     "name": "stderr",
     "output_type": "stream",
     "text": [
      "  1%|          | 5/499 [00:04<06:57,  1.18it/s]"
     ]
    },
    {
     "name": "stdout",
     "output_type": "stream",
     "text": [
      "==4==\n",
      "Pred Summary: #Person1#은 학교에 가고 싶지 않았고, #Person2#는 이번 주말에 영화를 보러 가고 싶어한다.\n",
      "\n",
      "Gold Summary: #Person1#은 오늘 학교에 가지 않았다. #Person2#는 내일 수업을 빼먹고 영화 보러 가려고 한다.\n",
      "\n",
      "ROUGE-1 Score: 0.3333333283680556\n",
      "ROUGE-2 Score: 0.0\n",
      "ROUGE-L Score: 0.3333333283680556\n",
      "Combined ROUGE Score: 22.22222189120371\n",
      "\n",
      "====================================================================================================\n"
     ]
    },
    {
     "name": "stderr",
     "output_type": "stream",
     "text": [
      "  1%|          | 6/499 [00:05<07:42,  1.07it/s]"
     ]
    },
    {
     "name": "stdout",
     "output_type": "stream",
     "text": [
      "==5==\n",
      "Pred Summary: #Person1#은 #Person2#에게 건강을 위해 담배를 끊으라고 권유한다. #Person2#는 담배를 끊는 것이 어렵다고 인정하지만, 결국 #Person1#의 요청에 동의한다.\n",
      "\n",
      "Gold Summary: #Person1#은 건강을 위해 #Person2#에게 담배를 끊으라고 권유한다. #Person2#는 그것이 어렵다고 생각하지만 동의한다.\n",
      "\n",
      "ROUGE-1 Score: 0.7142857093877552\n",
      "ROUGE-2 Score: 0.2962962914677641\n",
      "ROUGE-L Score: 0.6428571379591838\n",
      "Combined ROUGE Score: 55.1146379604901\n",
      "\n",
      "====================================================================================================\n"
     ]
    },
    {
     "name": "stderr",
     "output_type": "stream",
     "text": [
      "  1%|▏         | 7/499 [00:06<07:05,  1.16it/s]"
     ]
    },
    {
     "name": "stdout",
     "output_type": "stream",
     "text": [
      "==6==\n",
      "Pred Summary: #Person1#은 #Person2#에게 서명을 요청하고, #Person2#는 서명하고 #Person1#에게 알리지 않은 것에 대해 사과한다.\n",
      "\n",
      "Gold Summary: 셰리는 화이트 씨에게 서명하라고 상기시킨다. \n",
      "\n",
      "ROUGE-1 Score: 0.0\n",
      "ROUGE-2 Score: 0.0\n",
      "ROUGE-L Score: 0.0\n",
      "Combined ROUGE Score: 0.0\n",
      "\n",
      "====================================================================================================\n"
     ]
    },
    {
     "name": "stderr",
     "output_type": "stream",
     "text": [
      "  2%|▏         | 8/499 [00:07<08:26,  1.03s/it]"
     ]
    },
    {
     "name": "stdout",
     "output_type": "stream",
     "text": [
      "==7==\n",
      "Pred Summary: #Person1#은 #Person2#가 햇볕을 쬐었다는 것을 알아차리고, #Person2#는 주말에 해변에서 보냈다고 설명한다. 그들은 조깅, 배구, 수영에 대해 이야기하며, #Person1#은 #Person2#의 해변 경험을 부러워한다.\n",
      "\n",
      "Gold Summary: #Person1#은 카렌에게 어디에서 묵었는지, 해변에서 주말을 어떻게 보냈는지 물어본다. #Person1#은 그것이 편안해 보인다고 생각하고 거기에 가고 싶어한다.\n",
      "\n",
      "ROUGE-1 Score: 0.10810810319941586\n",
      "ROUGE-2 Score: 0.0\n",
      "ROUGE-L Score: 0.10810810319941586\n",
      "Combined ROUGE Score: 7.207206879961057\n",
      "\n",
      "====================================================================================================\n"
     ]
    },
    {
     "name": "stderr",
     "output_type": "stream",
     "text": [
      "  2%|▏         | 9/499 [00:08<07:16,  1.12it/s]"
     ]
    },
    {
     "name": "stdout",
     "output_type": "stream",
     "text": [
      "==8==\n",
      "Pred Summary: #Person2#는 야외에서 사진을 찍고 직접 현상하고 인화하는 것을 즐깁니다. 그들은 간단한 사진 스튜디오를 가지고 있습니다.\n",
      "\n",
      "Gold Summary: #Person1#은 #Person2#의 취미에 대해 묻는다. #Person2#는 사진 촬영을 좋아하고 사진 스튜디오를 가지고 있다.\n",
      "\n",
      "ROUGE-1 Score: 0.2962962913580247\n",
      "ROUGE-2 Score: 0.1538461488757398\n",
      "ROUGE-L Score: 0.2962962913580247\n",
      "Combined ROUGE Score: 24.88129105305964\n",
      "\n",
      "====================================================================================================\n"
     ]
    },
    {
     "name": "stderr",
     "output_type": "stream",
     "text": [
      "  2%|▏         | 10/499 [00:09<06:49,  1.19it/s]"
     ]
    },
    {
     "name": "stdout",
     "output_type": "stream",
     "text": [
      "==9==\n",
      "Pred Summary: #Person1#은 영국의 한 조용한 마을에 있는 개성이 있는 오래된 오두막에서 살고 싶어한다. 그들은 현대적인 방식으로 꾸미지 않고 원래 상태로 복원하려고 한다.\n",
      "\n",
      "Gold Summary: #Person1#과 #Person2#는 빌 게이츠의 집에 대해 이야기한다. #Person1#은 그 집이 환상적이라고 생각하지만 거기에서 살고 싶지는 않다. #Person2#는 #Person1#의 꿈의 집에 대해 묻는다. #Person1#은 그것의 개성 때문에 작고 오래된 오두막에서 살고 싶어한다.\n",
      "\n",
      "ROUGE-1 Score: 0.21739129943289237\n",
      "ROUGE-2 Score: 0.12244897476051664\n",
      "ROUGE-L Score: 0.21739129943289237\n",
      "Combined ROUGE Score: 18.574385787543378\n",
      "\n",
      "====================================================================================================\n"
     ]
    },
    {
     "name": "stderr",
     "output_type": "stream",
     "text": [
      "  2%|▏         | 11/499 [00:10<08:08,  1.00s/it]"
     ]
    },
    {
     "name": "stdout",
     "output_type": "stream",
     "text": [
      "==10==\n",
      "Pred Summary: #Person1#은 어머니의 과도한 보호에 지쳐 독립을 원하고, #Person2#는 #Person1#의 감정을 이해하고 지지한다.\n",
      "\n",
      "Gold Summary: #Person1#은 #Person1#의 어머니의 과도한 보호 때문에 피곤함을 느낀다.\n",
      "\n",
      "ROUGE-1 Score: 0.39999999520000007\n",
      "ROUGE-2 Score: 0.11111110635802489\n",
      "ROUGE-L Score: 0.29999999520000004\n",
      "Combined ROUGE Score: 27.037036558600835\n",
      "\n",
      "====================================================================================================\n"
     ]
    },
    {
     "name": "stderr",
     "output_type": "stream",
     "text": [
      "  2%|▏         | 12/499 [00:11<08:44,  1.08s/it]"
     ]
    },
    {
     "name": "stdout",
     "output_type": "stream",
     "text": [
      "==11==\n",
      "Pred Summary: #Person1#과 #Person2#는 광고에 대해 이야기하고 있다. #Person2#는 광고가 도시를 활기차게 만든다고 생각하지만, #Person1#은 광고가 너무 많고 침입적이라고 생각한다. 그들은 광고 대행사들이 유머를 사용하는 것을 좋아하지만, 광고가 특정 제품을 사지 않으면 멋지지 않다고 말하는 방식을 싫어한다.\n",
      "\n",
      "Gold Summary: #Person1#과 #Person2#는 홍콩의 광고에 대해 이야기한다. #Person2#는 빌보드를 좋아하는 반면, #Person1#은 광고가 너무 많다고 생각한다. 그들 모두는 전단지와 방송을 싫어하지만, 광고 대행사들이 캠페인에서 유머를 사용하는 방식은 좋아한다.\n",
      "\n",
      "ROUGE-1 Score: 0.4137930985017836\n",
      "ROUGE-2 Score: 0.19999999508888905\n",
      "ROUGE-L Score: 0.4137930985017836\n",
      "Combined ROUGE Score: 34.25287306974853\n",
      "\n",
      "====================================================================================================\n"
     ]
    },
    {
     "name": "stderr",
     "output_type": "stream",
     "text": [
      "  3%|▎         | 13/499 [00:12<08:47,  1.08s/it]"
     ]
    },
    {
     "name": "stdout",
     "output_type": "stream",
     "text": [
      "==12==\n",
      "Pred Summary: #Person1#과 #Person2#는 데이트에 대해 이야기하고 있다. #Person2#는 거절당하는 것에 좌절감을 느끼고, #Person1#은 미국 여성들이 체형이 좋은 남성을 좋아한다고 제안한다. #Person1#은 #Person2#에게 운동을 시작하라고 권유하며, 그것이 도움이 될 수 있다고 말한다.\n",
      "\n",
      "Gold Summary: 장 씨는 또 거절당했고 #Person1#에게 기술을 가르쳐 달라고 요청한다. #Person1#은 미국 여성들이 체형이 좋은 남성을 좋아한다고 생각하고 장 씨에게 운동을 시도해 보라고 제안한다.\n",
      "\n",
      "ROUGE-1 Score: 0.3599999950720001\n",
      "ROUGE-2 Score: 0.23529411274125347\n",
      "ROUGE-L Score: 0.3599999950720001\n",
      "Combined ROUGE Score: 31.84313676284179\n",
      "\n",
      "====================================================================================================\n"
     ]
    },
    {
     "name": "stderr",
     "output_type": "stream",
     "text": [
      "  3%|▎         | 14/499 [00:13<08:52,  1.10s/it]"
     ]
    },
    {
     "name": "stdout",
     "output_type": "stream",
     "text": [
      "==13==\n",
      "Pred Summary: #Person1#과 #Person2#는 여성들이 스포츠에서 뛰어나다는 것에 동의하지만, 어떤 스포츠에서 뛰어난지에 대해서는 의견이 다릅니다. #Person2#는 여성과 남성을 비교하는 것은 불가능하다고 생각합니다. #Person1#은 여성들이 일반적으로 어떤 스포츠를 좋아하는지 묻고, #Person2#는 여성들이 다양한 스포츠를 좋아한다고 대답합니다.\n",
      "\n",
      "Gold Summary: #Person1#은 #Person2#에게 여성들이 어떤 스포츠에서 뛰어나고 남성보다 더 잘하는지 묻는다. #Person2#는 남성과 여성은 비교할 수 없다고 생각한다.\n",
      "\n",
      "ROUGE-1 Score: 0.23255813475392115\n",
      "ROUGE-2 Score: 0.0425531869986424\n",
      "ROUGE-L Score: 0.23255813475392115\n",
      "Combined ROUGE Score: 16.922315216882822\n",
      "\n",
      "====================================================================================================\n"
     ]
    },
    {
     "name": "stderr",
     "output_type": "stream",
     "text": [
      "  3%|▎         | 15/499 [00:14<08:13,  1.02s/it]"
     ]
    },
    {
     "name": "stdout",
     "output_type": "stream",
     "text": [
      "==14==\n",
      "Pred Summary: #Person1#과 #Person2#는 따뜻한 도시, 더운 도시, 비가 많이 오는 도시, 추운 도시에 대해 이야기한다. 그들은 일부 사람들이 극한 기후에 적응하지만, 다른 사람들은 불평한다는 것을 언급한다.\n",
      "\n",
      "Gold Summary: #Person1#은 항상 따뜻하거나, 덥거나, 비가 많이 오거나, 추운 도시에 대해 알고 싶어하고, #Person2#는 이에 따라 이러한 도시들을 #Person1#에게 알려준다.\n",
      "\n",
      "ROUGE-1 Score: 0.2857142807596373\n",
      "ROUGE-2 Score: 0.14285713795918387\n",
      "ROUGE-L Score: 0.23809523314058967\n",
      "Combined ROUGE Score: 22.22222172864703\n",
      "\n",
      "====================================================================================================\n"
     ]
    },
    {
     "name": "stderr",
     "output_type": "stream",
     "text": [
      "  3%|▎         | 16/499 [00:15<07:35,  1.06it/s]"
     ]
    },
    {
     "name": "stdout",
     "output_type": "stream",
     "text": [
      "==15==\n",
      "Pred Summary: 조지 씨는 줄리아의 성과를 고려하여 다음 달부터 월급을 2,000 위안 인상하기로 결정했다. 줄리아는 이 인상과 회사의 신뢰에 감사하며 최선을 다할 것을 약속했다.\n",
      "\n",
      "Gold Summary: 조지 씨는 줄리아의 성과에 따라 월급 인상을 결정하고, 줄리아는 만족해한다.\n",
      "\n",
      "ROUGE-1 Score: 0.2499999957031251\n",
      "ROUGE-2 Score: 0.13333332913333346\n",
      "ROUGE-L Score: 0.2499999957031251\n",
      "Combined ROUGE Score: 21.11111068465279\n",
      "\n",
      "====================================================================================================\n"
     ]
    },
    {
     "name": "stderr",
     "output_type": "stream",
     "text": [
      "  3%|▎         | 17/499 [00:16<07:10,  1.12it/s]"
     ]
    },
    {
     "name": "stdout",
     "output_type": "stream",
     "text": [
      "==16==\n",
      "Pred Summary: #Person1#은 #Person2#에게 승진에 실패했다고 알렸다. #Person2#는 실망하고 동료들을 마주하는 것을 걱정하지만, #Person1#은 다른 기회를 얻을 수 있다고 안심시킨다.\n",
      "\n",
      "Gold Summary: #Person1#은 #Person2#에게 #Person2#가 그 자리를 얻지 못했다고 말한다. #Person2#는 실망하고 #Person1#은 #Person2#에게 계속 열심히 일하라고 격려한다.\n",
      "\n",
      "ROUGE-1 Score: 0.2580645111758586\n",
      "ROUGE-2 Score: 0.12903225311134256\n",
      "ROUGE-L Score: 0.2580645111758586\n",
      "Combined ROUGE Score: 21.505375848768658\n",
      "\n",
      "====================================================================================================\n"
     ]
    },
    {
     "name": "stderr",
     "output_type": "stream",
     "text": [
      "  4%|▎         | 18/499 [00:17<07:13,  1.11it/s]"
     ]
    },
    {
     "name": "stdout",
     "output_type": "stream",
     "text": [
      "==17==\n",
      "Pred Summary: #Person1#은 #Person2#에게 여행 준비를 도와주며, 신분증, 지도, 약, 반창고 등을 챙기라고 조언한다. #Person2#는 투어 가이드가 있고 가볍게 여행하고 싶다고 말하며, 비옷과 우산을 잊어버리고 떠난다.\n",
      "\n",
      "Gold Summary: #Person1#은 여행을 위해 가져가야 할 여러 가지 물건들을 사라에게 상기시킨다. 사라는 가볍게 여행하고 싶어서 신분증 외에는 가져가지 않기로 결정한다.\n",
      "\n",
      "ROUGE-1 Score: 0.13953487878853452\n",
      "ROUGE-2 Score: 0.04878048287923905\n",
      "ROUGE-L Score: 0.13953487878853452\n",
      "Combined ROUGE Score: 10.928341348543603\n",
      "\n",
      "====================================================================================================\n"
     ]
    },
    {
     "name": "stderr",
     "output_type": "stream",
     "text": [
      "  4%|▍         | 19/499 [00:17<06:44,  1.19it/s]"
     ]
    },
    {
     "name": "stdout",
     "output_type": "stream",
     "text": [
      "==18==\n",
      "Pred Summary: #Person1#은 #Person2#에게 오후 6시까지 가방을 보관해 주기로 동의했다.\n",
      "\n",
      "Gold Summary: #Person2#는 #Person1#에게 오후 6시까지 가방을 보관해달라고 요청한다. \n",
      "\n",
      "ROUGE-1 Score: 0.37499999500000003\n",
      "ROUGE-2 Score: 0.2857142807142858\n",
      "ROUGE-L Score: 0.37499999500000003\n",
      "Combined ROUGE Score: 34.523809023809534\n",
      "\n",
      "====================================================================================================\n"
     ]
    },
    {
     "name": "stderr",
     "output_type": "stream",
     "text": [
      "  4%|▍         | 20/499 [00:18<06:22,  1.25it/s]"
     ]
    },
    {
     "name": "stdout",
     "output_type": "stream",
     "text": [
      "==19==\n",
      "Pred Summary: 머피씨는 브래드에게 작업이 정리되지 않아 이사회에 제출할 수 없다고 알렸다. 브래드는 사과하고 오후에 다시 작업한 결과를 돌려주기로 했다.\n",
      "\n",
      "Gold Summary: 머피씨가 브래드에게 정리가 잘 되지 않은 작업을 다시 하라고 요청한다.\n",
      "\n",
      "ROUGE-1 Score: 0.14285713826530627\n",
      "ROUGE-2 Score: 0.0\n",
      "ROUGE-L Score: 0.14285713826530627\n",
      "Combined ROUGE Score: 9.523809217687084\n",
      "\n",
      "====================================================================================================\n"
     ]
    },
    {
     "name": "stderr",
     "output_type": "stream",
     "text": [
      "  4%|▍         | 21/499 [00:19<06:15,  1.27it/s]"
     ]
    },
    {
     "name": "stdout",
     "output_type": "stream",
     "text": [
      "==20==\n",
      "Pred Summary: #Person1#은 맥주를 마신 후에 노래를 더 잘 부를 수 있다고 믿는다. #Person2#는 맥주를 마신 후에 외국어를 더 잘 할 수 있다고 들었다.\n",
      "\n",
      "Gold Summary: #Person1#은 맥주를 마시면 노래를 더 잘 부를 수 있다고 말했지만, #Person2#은 외국어를 더 잘 할 수 있다고 들었다.\n",
      "\n",
      "ROUGE-1 Score: 0.7586206846611178\n",
      "ROUGE-2 Score: 0.6249999950195313\n",
      "ROUGE-L Score: 0.7586206846611178\n",
      "Combined ROUGE Score: 71.4080454780589\n",
      "\n",
      "====================================================================================================\n"
     ]
    },
    {
     "name": "stderr",
     "output_type": "stream",
     "text": [
      "  4%|▍         | 22/499 [00:20<06:13,  1.28it/s]"
     ]
    },
    {
     "name": "stdout",
     "output_type": "stream",
     "text": [
      "==21==\n",
      "Pred Summary: #Person1#은 #Person2#를 병원에서 방문하고 선물을 주며 빠른 회복을 기원했다. #Person2#는 감사함을 표현하고 #Person1#은 나중에 다시 방문할 것을 약속했다.\n",
      "\n",
      "Gold Summary: #Person1#은 병원에 입원한 치 양을 방문하고, 그녀가 지루함을 느끼지 않도록 잡지를 가져왔다.\n",
      "\n",
      "ROUGE-1 Score: 0.06896551239001224\n",
      "ROUGE-2 Score: 0.0\n",
      "ROUGE-L Score: 0.06896551239001224\n",
      "Combined ROUGE Score: 4.597700826000816\n",
      "\n",
      "====================================================================================================\n"
     ]
    },
    {
     "name": "stderr",
     "output_type": "stream",
     "text": [
      "  5%|▍         | 23/499 [00:21<06:45,  1.17it/s]"
     ]
    },
    {
     "name": "stdout",
     "output_type": "stream",
     "text": [
      "==22==\n",
      "Pred Summary: #Person1#은 #Person2#가 해외 여행 중 현지 기후에 적응하지 못해 기분이 좋지 않다는 것을 알게 되었다. #Person1#은 약을 가져다주고 휴식을 취하라고 조언했다.\n",
      "\n",
      "Gold Summary: 에이미는 기분이 엄청 안 좋다. #Person1#은 그녀가 현지 기후에 적응하지 못하는 것 같다고 생각하고 약을 구해줄 것이다.\n",
      "\n",
      "ROUGE-1 Score: 0.3243243193571951\n",
      "ROUGE-2 Score: 0.11111110617283973\n",
      "ROUGE-L Score: 0.3243243193571951\n",
      "Combined ROUGE Score: 25.32532482957433\n",
      "\n",
      "====================================================================================================\n"
     ]
    },
    {
     "name": "stderr",
     "output_type": "stream",
     "text": [
      "  5%|▍         | 24/499 [00:21<06:34,  1.20it/s]"
     ]
    },
    {
     "name": "stdout",
     "output_type": "stream",
     "text": [
      "==23==\n",
      "Pred Summary: #Person2#는 웰던 스테이크, 베이크드 포테이토, 크림 양파 수프를 주문하고 아이스티에 레몬을 곁들였습니다. 디저트는 건너뛰기로 했습니다.\n",
      "\n",
      "Gold Summary: #Person1#은 #Person2#의 웰던 스테이크, 버섯, 베이크드 포테이토, 아이스티, 그리고 수프 주문을 도와준다.\n",
      "\n",
      "ROUGE-1 Score: 0.2962962913580247\n",
      "ROUGE-2 Score: 0.15999999507200013\n",
      "ROUGE-L Score: 0.2962962913580247\n",
      "Combined ROUGE Score: 25.08641925960165\n",
      "\n",
      "====================================================================================================\n"
     ]
    },
    {
     "name": "stderr",
     "output_type": "stream",
     "text": [
      "  5%|▌         | 25/499 [00:22<06:24,  1.23it/s]"
     ]
    },
    {
     "name": "stdout",
     "output_type": "stream",
     "text": [
      "==24==\n",
      "Pred Summary: #Person1#은 열심히 일한 후 휴식을 기대하고 있으며, 이번 달 말에 휴가를 갈 예정이다. #Person2#는 부러워하며, 그들은 12월까지 휴가를 가지지 못한다.\n",
      "\n",
      "Gold Summary: #Person1#은 연간 휴가를 가지지만, #Person2#은 12월까지 휴가를 가질 수 없다.\n",
      "\n",
      "ROUGE-1 Score: 0.2142857099234695\n",
      "ROUGE-2 Score: 0.0714285670663268\n",
      "ROUGE-L Score: 0.2142857099234695\n",
      "Combined ROUGE Score: 16.666666230442193\n",
      "\n",
      "====================================================================================================\n"
     ]
    },
    {
     "name": "stderr",
     "output_type": "stream",
     "text": [
      "  5%|▌         | 26/499 [00:23<06:32,  1.20it/s]"
     ]
    },
    {
     "name": "stdout",
     "output_type": "stream",
     "text": [
      "==25==\n",
      "Pred Summary: #Person1#은 와인을 쏟았고, #Person2#가 도움을 주었다. 그들은 걸레와 종이 냅킨을 사용했고, 앞으로 더 조심해야 한다는 것을 언급했다.\n",
      "\n",
      "Gold Summary: #Person1#이 와인을 흘리고 걸레를 #Person2#에게 요청한다.\n",
      "\n",
      "ROUGE-1 Score: 0.08695651788279792\n",
      "ROUGE-2 Score: 0.0\n",
      "ROUGE-L Score: 0.08695651788279792\n",
      "Combined ROUGE Score: 5.797101192186528\n",
      "\n",
      "====================================================================================================\n"
     ]
    },
    {
     "name": "stderr",
     "output_type": "stream",
     "text": [
      "  5%|▌         | 27/499 [00:24<07:10,  1.10it/s]"
     ]
    },
    {
     "name": "stdout",
     "output_type": "stream",
     "text": [
      "==26==\n",
      "Pred Summary: #Person1#과 #Person2#는 이메일로 문서를 보내는 것에 대해 이야기하고 있다. #Person2#는 워드 2003으로 편집하는 것에 익숙하며, 책에는 많은 사진들이 있다. 그들은 이메일의 용량 제한에 대해 논의하고, 여러 문서로 나눠서 보내거나 소프트웨어를 다운로드하는 등의 해결책을 고려하고 있다.\n",
      "\n",
      "Gold Summary: #Person2#는 이메일로 설명서를 보내는 데 실패했다. #Person1#는 #Person2#에게 어떻게 해야 하는지 도와주고 가르쳤다.\n",
      "\n",
      "ROUGE-1 Score: 0.13953487950243387\n",
      "ROUGE-2 Score: 0.043478257013232866\n",
      "ROUGE-L Score: 0.13953487950243387\n",
      "Combined ROUGE Score: 10.751600533936688\n",
      "\n",
      "====================================================================================================\n"
     ]
    },
    {
     "name": "stderr",
     "output_type": "stream",
     "text": [
      "  6%|▌         | 28/499 [00:25<07:12,  1.09it/s]"
     ]
    },
    {
     "name": "stdout",
     "output_type": "stream",
     "text": [
      "==27==\n",
      "Pred Summary: #Person1#은 #Person2#에게 새로운 파일 캐비닛과 사무실에서 필요한 작은 물건들을 사기 위해 시내로 함께 가자고 제안한다. 그들은 정오에 만나기로 계획하고, #Person1#은 이미 사야 할 문구류의 목록을 가지고 있다.\n",
      "\n",
      "Gold Summary: #Person1#은 빌에게 수잔이 #Person1#에게 목록을 준 사무용품을 사러 가자고 제안한다.\n",
      "\n",
      "ROUGE-1 Score: 0.2222222182098766\n",
      "ROUGE-2 Score: 0.05714285332244924\n",
      "ROUGE-L Score: 0.2222222182098766\n",
      "Combined ROUGE Score: 16.719576324740082\n",
      "\n",
      "====================================================================================================\n"
     ]
    },
    {
     "name": "stderr",
     "output_type": "stream",
     "text": [
      "  6%|▌         | 29/499 [00:26<06:24,  1.22it/s]"
     ]
    },
    {
     "name": "stdout",
     "output_type": "stream",
     "text": [
      "==28==\n",
      "Pred Summary: #Person2#는 건강을 유지하기 위해 아침에 일어나자마자 따뜻하고 신선한 물을 마시고 매일 요구르트를 마시는 것을 제안합니다.\n",
      "\n",
      "Gold Summary: #Person1#은 #Person2#에게 건강식품과 구체적인 예에 대해 묻는다. #Person2#는 따뜻하고 신선한 물과 요구르트를 나열하고 그 이유를 설명한다.\n",
      "\n",
      "ROUGE-1 Score: 0.2580645111342353\n",
      "ROUGE-2 Score: 0.06896551224732497\n",
      "ROUGE-L Score: 0.2580645111342353\n",
      "Combined ROUGE Score: 19.50315115052652\n",
      "\n",
      "====================================================================================================\n"
     ]
    },
    {
     "name": "stderr",
     "output_type": "stream",
     "text": [
      "  6%|▌         | 30/499 [00:27<06:30,  1.20it/s]"
     ]
    },
    {
     "name": "stdout",
     "output_type": "stream",
     "text": [
      "==29==\n",
      "Pred Summary: #Person1#과 #Person2#는 결혼식에 참석하며, #Person1#은 신부의 아름다움과 해리스와 앤의 관계에 감동하여 울게 된다. 그들은 또한 자신들만의 약혼식 준비에 대해 이야기한다.\n",
      "\n",
      "Gold Summary: #Person1#와 #Person2#는 결혼식에 감동받고, #Person1#는 자신과 톰이 약혼식 준비를 하고 있다고 말한다. \n",
      "\n",
      "ROUGE-1 Score: 0.181818177043159\n",
      "ROUGE-2 Score: 0.06451612428720119\n",
      "ROUGE-L Score: 0.181818177043159\n",
      "Combined ROUGE Score: 14.271749279117307\n",
      "\n",
      "====================================================================================================\n"
     ]
    },
    {
     "name": "stderr",
     "output_type": "stream",
     "text": [
      "  6%|▌         | 31/499 [00:28<06:49,  1.14it/s]"
     ]
    },
    {
     "name": "stdout",
     "output_type": "stream",
     "text": [
      "==30==\n",
      "Pred Summary: #Person1#과 #Person2#는 역사 시험을 위해 벼락치기 공부를 하고 있다. #Person2#는 휴식을 취하면서 클래식 음악을 듣고 싶어하지만, #Person1#은 1960년대 이전의 음악은 좋아하지 않는다. 그들은 결국 공부를 계속하기로 결정한다.\n",
      "\n",
      "Gold Summary: #Person1#과 #Person2#는 역사 시험을 준비하고 있다. #Person1#은 음악을 들으면서 잠시 휴식을 취하는 것을 제안하지만, 그들은 음악 취향이 다르다. 그 후, 그들은 다시 책으로 돌아간다.\n",
      "\n",
      "ROUGE-1 Score: 0.3749999950086806\n",
      "ROUGE-2 Score: 0.12244897461057913\n",
      "ROUGE-L Score: 0.2916666616753473\n",
      "Combined ROUGE Score: 26.303854376486903\n",
      "\n",
      "====================================================================================================\n"
     ]
    },
    {
     "name": "stderr",
     "output_type": "stream",
     "text": [
      "  6%|▋         | 32/499 [00:28<06:20,  1.23it/s]"
     ]
    },
    {
     "name": "stdout",
     "output_type": "stream",
     "text": [
      "==31==\n",
      "Pred Summary: #Person1#은 유전 공학에 관한 책을 찾고 있지만, 현재 재고가 없습니다. #Person2#는 다음 주에 다시 방문하라고 제안합니다.\n",
      "\n",
      "Gold Summary: #Person1#은 유전 공학에 관한 책을 원한다. #Person2#는 모두 팔렸다고 말하고 다음 주에 다시 오라고 #Person1#에게 요청한다.\n",
      "\n",
      "ROUGE-1 Score: 0.562499995\n",
      "ROUGE-2 Score: 0.3999999950000001\n",
      "ROUGE-L Score: 0.562499995\n",
      "Combined ROUGE Score: 50.833332833333344\n",
      "\n",
      "====================================================================================================\n"
     ]
    },
    {
     "name": "stderr",
     "output_type": "stream",
     "text": [
      "  7%|▋         | 33/499 [00:29<06:14,  1.24it/s]"
     ]
    },
    {
     "name": "stdout",
     "output_type": "stream",
     "text": [
      "==32==\n",
      "Pred Summary: #Person1#은 중국 국립 도서관으로 가는 버스를 탔으며, 약 15분 정도 소요될 것으로 예상됩니다. #Person2#는 도착 시 알려줄 것입니다.\n",
      "\n",
      "Gold Summary: #Person1#은 #Person2#에게 정류장에 도착하면 알려달라고 요청한다.\n",
      "\n",
      "ROUGE-1 Score: 0.0833333295833335\n",
      "ROUGE-2 Score: 0.0\n",
      "ROUGE-L Score: 0.0833333295833335\n",
      "Combined ROUGE Score: 5.5555553055555675\n",
      "\n",
      "====================================================================================================\n"
     ]
    },
    {
     "name": "stderr",
     "output_type": "stream",
     "text": [
      "  7%|▋         | 34/499 [00:30<06:41,  1.16it/s]"
     ]
    },
    {
     "name": "stdout",
     "output_type": "stream",
     "text": [
      "==33==\n",
      "Pred Summary: #Person1#은 직장을 잃었고, #Person2#는 학생들이 기말고사로 인해 긴장하고 있다고 언급합니다. #Person1#은 대학 1학년 때 #Person2#가 내주신 어려운 기말고사를 회상하며, 그 경험에서 많은 것을 배웠다고 말합니다.\n",
      "\n",
      "Gold Summary: #Person1#은 일자리를 잃었지만 브랜든 부인으로부터 많은 것을 배웠다는 것에 감사함을 표현했다.\n",
      "\n",
      "ROUGE-1 Score: 0.17142856711836746\n",
      "ROUGE-2 Score: 0.05882352525951587\n",
      "ROUGE-L Score: 0.17142856711836746\n",
      "Combined ROUGE Score: 13.389355316541693\n",
      "\n",
      "====================================================================================================\n"
     ]
    },
    {
     "name": "stderr",
     "output_type": "stream",
     "text": [
      "  7%|▋         | 35/499 [00:31<07:01,  1.10it/s]"
     ]
    },
    {
     "name": "stdout",
     "output_type": "stream",
     "text": [
      "==34==\n",
      "Pred Summary: 존 키트는 멕시코에서 온 컨벤션 참가자로, 귀에 이상한 소리가 들리고 귀가 아프다. 그는 안더슨 박사를 만나기 위해 전화했고, 내일 아침 열 시에 예약을 잡았다. 그는 여권만 가져오면 되고, 귀를 누르지 말고 샤워할 때 물이 들어가지 않게 주의해야 한다.\n",
      "\n",
      "Gold Summary: 존 키트는 안더슨 박사의 사무실에 와서 #Person1#에게 귀 통증을 설명한다. 존 키트는 박사를 만나고 싶지만, #Person1#은 박사가 저녁까지 바쁠 것이라고 말한다. #Person1#은 존에게 내일 아침 열 시에 여권을 가지고 오라고 말한다.\n",
      "\n",
      "ROUGE-1 Score: 0.24999999512207038\n",
      "ROUGE-2 Score: 0.12121211628558332\n",
      "ROUGE-L Score: 0.24999999512207038\n",
      "Combined ROUGE Score: 20.707070217657467\n",
      "\n",
      "====================================================================================================\n"
     ]
    },
    {
     "name": "stderr",
     "output_type": "stream",
     "text": [
      "  7%|▋         | 36/499 [00:32<07:44,  1.00s/it]"
     ]
    },
    {
     "name": "stdout",
     "output_type": "stream",
     "text": [
      "==35==\n",
      "Pred Summary: #Person1#과 #Person2#는 2시간 동안의 하이킹을 계획하고 있다. #Person2#는 요가 수업 후 준비가 되어있고, #Person1#은 경치를 즐기고 특정 식물과 곤충을 가리키고 싶어한다. #Person2#는 뱀에 대해 농담을 하지만, #Person1#은 자연을 함께 즐기는 것을 강조한다.\n",
      "\n",
      "Gold Summary: #Person1#와 #Person2#는 등산을 계획하고 있다. #Person2#는 #Person1#와 경주하고 싶어하지만, #Person1#는 길가의 풍경을 즐기는 것이 좋다고 생각한다.\n",
      "\n",
      "ROUGE-1 Score: 0.18604650723634408\n",
      "ROUGE-2 Score: 0.0869565173440456\n",
      "ROUGE-L Score: 0.18604650723634408\n",
      "Combined ROUGE Score: 15.301651060557791\n",
      "\n",
      "====================================================================================================\n"
     ]
    },
    {
     "name": "stderr",
     "output_type": "stream",
     "text": [
      "  7%|▋         | 37/499 [00:33<07:04,  1.09it/s]"
     ]
    },
    {
     "name": "stdout",
     "output_type": "stream",
     "text": [
      "==36==\n",
      "Pred Summary: 게리는 캐롤라인과의 첫 데이트에 만족하고 사랑에 빠져있다. 앤은 그에게 두 번째 데이트를 신청하고 청혼하기 전에 서로를 더 잘 알아가라고 조언한다.\n",
      "\n",
      "Gold Summary: 게리는 앤에게 캐롤라인을 소개해줘서 감사하다고 말하고, 앤은 두 번째 데이트를 제안한다.\n",
      "\n",
      "ROUGE-1 Score: 0.32258064058272634\n",
      "ROUGE-2 Score: 0.13793102996432832\n",
      "ROUGE-L Score: 0.32258064058272634\n",
      "Combined ROUGE Score: 26.103077037659368\n",
      "\n",
      "====================================================================================================\n"
     ]
    },
    {
     "name": "stderr",
     "output_type": "stream",
     "text": [
      "  8%|▊         | 38/499 [00:34<06:21,  1.21it/s]"
     ]
    },
    {
     "name": "stdout",
     "output_type": "stream",
     "text": [
      "==37==\n",
      "Pred Summary: #Person2#는 가구가 적은 침실 3개짜리 아파트에 관심이 있지만, 방이 너무 많을 수도 있다고 생각한다.\n",
      "\n",
      "Gold Summary: #Person1#은 세 개 방이 있는 아파트를 제안한다. #Person2#는 방이 더 적은 것을 원한다.\n",
      "\n",
      "ROUGE-1 Score: 0.23076922579881665\n",
      "ROUGE-2 Score: 0.0\n",
      "ROUGE-L Score: 0.23076922579881665\n",
      "Combined ROUGE Score: 15.384615053254445\n",
      "\n",
      "====================================================================================================\n"
     ]
    },
    {
     "name": "stderr",
     "output_type": "stream",
     "text": [
      "  8%|▊         | 39/499 [00:34<06:23,  1.20it/s]"
     ]
    },
    {
     "name": "stdout",
     "output_type": "stream",
     "text": [
      "==38==\n",
      "Pred Summary: #Person1#은 #Person2#의 비디오 레코더 문제에 대해 사과하고, 법률 고문인 슈로더 부인과 연락하도록 도와주었습니다. #Person2#는 분실된 테이프에 대한 보상을 요구했습니다.\n",
      "\n",
      "Gold Summary: 존 크루즈는 비디오 레코더에 대한 불만을 등록하기 위해 이브에게 전화를 걸고 문제가 무엇인지 설명한다. 이브는 법률 컨설턴트에게 그를 다시 전화하도록 요청할 것이라고 약속한다.\n",
      "\n",
      "ROUGE-1 Score: 0.14285713790249452\n",
      "ROUGE-2 Score: 0.0\n",
      "ROUGE-L Score: 0.14285713790249452\n",
      "Combined ROUGE Score: 9.523809193499634\n",
      "\n",
      "====================================================================================================\n"
     ]
    },
    {
     "name": "stderr",
     "output_type": "stream",
     "text": [
      "  8%|▊         | 40/499 [00:35<06:26,  1.19it/s]"
     ]
    },
    {
     "name": "stdout",
     "output_type": "stream",
     "text": [
      "==39==\n",
      "Pred Summary: #Person1#은 레인보우 레스토랑으로 가는 방법을 묻고, #Person2#는 두 블록을 운전하고 좌회전, 히스 스트리트에서 우회전, 그리고 두 번째 정지 신호등에서 좌회전하라고 안내한다.\n",
      "\n",
      "Gold Summary: #Person1#이 #Person2#에게 레인보우 레스토랑으로 가는 길을 물어본다.\n",
      "\n",
      "ROUGE-1 Score: 0.22222221838134434\n",
      "ROUGE-2 Score: 0.15384615029585808\n",
      "ROUGE-L Score: 0.22222221838134434\n",
      "Combined ROUGE Score: 19.943019568618226\n",
      "\n",
      "====================================================================================================\n"
     ]
    },
    {
     "name": "stderr",
     "output_type": "stream",
     "text": [
      "  8%|▊         | 41/499 [00:36<06:16,  1.22it/s]"
     ]
    },
    {
     "name": "stdout",
     "output_type": "stream",
     "text": [
      "==40==\n",
      "Pred Summary: #Person1#은 #Person2#에게 학교 구경을 부탁한다. #Person2#는 도서관과 고등학교의 새 교실 건물을 가리키며, 학교에는 여름에만 이용할 수 있는 큰 수영장이 있다고 말한다.\n",
      "\n",
      "Gold Summary: #Person1#은 아담에게 학교를 둘러보게 해달라고 요청한다. #Person1#은 아담을 부러워하며 언젠가 아담의 학교에 들어가고 싶어한다.\n",
      "\n",
      "ROUGE-1 Score: 0.058823524688581694\n",
      "ROUGE-2 Score: 0.0\n",
      "ROUGE-L Score: 0.058823524688581694\n",
      "Combined ROUGE Score: 3.921568312572113\n",
      "\n",
      "====================================================================================================\n"
     ]
    },
    {
     "name": "stderr",
     "output_type": "stream",
     "text": [
      "  8%|▊         | 42/499 [00:37<06:14,  1.22it/s]"
     ]
    },
    {
     "name": "stdout",
     "output_type": "stream",
     "text": [
      "==41==\n",
      "Pred Summary: #Person1#은 길을 잃고 중앙부서 매점과 국립 은행으로 가는 길을 #Person2#에게 물었다. #Person2#는 길을 안내해주었고, #Person1#은 감사의 말을 전했다.\n",
      "\n",
      "Gold Summary: #Person1#은 길을 잃고 중앙 백화점과 국립은행으로 가는 길을 #Person2#에게 물었다.\n",
      "\n",
      "ROUGE-1 Score: 0.49999999531250006\n",
      "ROUGE-2 Score: 0.3846153800887574\n",
      "ROUGE-L Score: 0.49999999531250006\n",
      "Combined ROUGE Score: 46.15384569045859\n",
      "\n",
      "====================================================================================================\n"
     ]
    },
    {
     "name": "stderr",
     "output_type": "stream",
     "text": [
      "  9%|▊         | 43/499 [00:38<05:55,  1.28it/s]"
     ]
    },
    {
     "name": "stdout",
     "output_type": "stream",
     "text": [
      "==42==\n",
      "Pred Summary: #Person1#은 한 여성에게 속아 돈을 주었지만, 나중에 그녀가 거짓말을 했다는 것을 알게 되었습니다. #Person2#는 #Person1#이 더 경계해야 한다고 생각합니다.\n",
      "\n",
      "Gold Summary: #Person1#와 #Person2#는 사람들이 다른 사람의 환대와 관대함을 이용하는 것에 대해 이야기한다. #Person1#는 자신의 경험을 공유한다.\n",
      "\n",
      "ROUGE-1 Score: 0.058823524480969266\n",
      "ROUGE-2 Score: 0.0\n",
      "ROUGE-L Score: 0.058823524480969266\n",
      "Combined ROUGE Score: 3.9215682987312843\n",
      "\n",
      "====================================================================================================\n"
     ]
    },
    {
     "name": "stderr",
     "output_type": "stream",
     "text": [
      "  9%|▉         | 44/499 [00:39<06:47,  1.12it/s]"
     ]
    },
    {
     "name": "stdout",
     "output_type": "stream",
     "text": [
      "==43==\n",
      "Pred Summary: #Person1#은 주방에서 사용할 큰 프라이팬을 찾고 있습니다. #Person2#는 알루미늄 팬을 제안하지만, #Person1#은 손잡이를 좋아하지 않습니다. 그들은 내열 손잡이가 있는 비슷한 팬을 찾아내고, #Person1#은 그것이 완벽하다고 생각합니다. #Person1#은 현금으로 결제하고 팬의 뚜껑도 받습니다.\n",
      "\n",
      "Gold Summary: #Person1#은 프라이팬을 원하고, #Person2#은 내열 손잡이와 뚜껑이 있는 큰 알루미늄 프라이팬을 추천한다. #사람1#은 현금으로 결제한다.\n",
      "\n",
      "ROUGE-1 Score: 0.33333332888888895\n",
      "ROUGE-2 Score: 0.0\n",
      "ROUGE-L Score: 0.33333332888888895\n",
      "Combined ROUGE Score: 22.22222192592593\n",
      "\n",
      "====================================================================================================\n"
     ]
    },
    {
     "name": "stderr",
     "output_type": "stream",
     "text": [
      "  9%|▉         | 45/499 [00:40<07:53,  1.04s/it]"
     ]
    },
    {
     "name": "stdout",
     "output_type": "stream",
     "text": [
      "==44==\n",
      "Pred Summary: #Person1#과 #Person2#는 영화 시작 시간에 대해 오해가 있었다. 그들은 만나기로 했지만, #Person1#은 #Person2#가 아파트에서 만나기로 한 줄 알았다. #Person2#는 영화가 7시에 시작되기 때문에 극장에서 만나기로 한 것이라고 설명했다. 그들은 사과하고, #Person2#는 의도를 더 명확하게 표현하는 것이 좋을 것이라고 제안했다. 결국, 그들은 영화를 보지 않기로 결정했다.\n",
      "\n",
      "Gold Summary: #Person2#와 게리는 서로를 잘못 이해해서 영화 시작을 놓쳤다. 게리는 사과하지만, #Person2#는 더 이상 영화를 보고 싶어하지 않는다.\n",
      "\n",
      "ROUGE-1 Score: 0.1509433920113921\n",
      "ROUGE-2 Score: 0.0\n",
      "ROUGE-L Score: 0.1509433920113921\n",
      "Combined ROUGE Score: 10.062892800759473\n",
      "\n",
      "====================================================================================================\n"
     ]
    },
    {
     "name": "stderr",
     "output_type": "stream",
     "text": [
      "  9%|▉         | 46/499 [00:41<07:59,  1.06s/it]"
     ]
    },
    {
     "name": "stdout",
     "output_type": "stream",
     "text": [
      "==45==\n",
      "Pred Summary: 다니엘은 LUX, LIPTON, WALLS와 같은 유명 브랜드를 통해 회사에 대해 알게 된 후 매니저 직책에 지원했습니다. 그는 직무에 대한 열정을 표현하고, 큰 참나무는 깊은 뿌리가 필요하다는 속담을 인용하여 직무에 대한 헌신을 강조했습니다. 회사는 이번 주 안에 그에게 직무에 대한 결정을 알려줄 것입니다.\n",
      "\n",
      "Gold Summary: 다니엘은 관리자 직책에 지원하고, #Person2#는 다니엘을 면접한다. 다니엘은 회사를 알게 된 방법과 여기서 일하고 싶은 이유에 대해 이야기한다.\n",
      "\n",
      "ROUGE-1 Score: 0.1818181775471075\n",
      "ROUGE-2 Score: 0.03571428148596988\n",
      "ROUGE-L Score: 0.1454545411834712\n",
      "Combined ROUGE Score: 12.099566673884954\n",
      "\n",
      "====================================================================================================\n"
     ]
    },
    {
     "name": "stderr",
     "output_type": "stream",
     "text": [
      "  9%|▉         | 47/499 [00:42<07:39,  1.02s/it]"
     ]
    },
    {
     "name": "stdout",
     "output_type": "stream",
     "text": [
      "==46==\n",
      "Pred Summary: #Person2#의 개 러스티가 길을 잃었다. #Person1#은 #Person2#와 함께 동네를 돌아다니며 러스티를 찾았다. 결국 러스티를 발견하고 안전하게 집으로 돌려보냈다.\n",
      "\n",
      "Gold Summary: 루시의 강아지 러스티가 사라졌다. 글렌은 루시에게 러스티의 식별 정보에 대해 묻고, 동네를 돌아다니면서 루시가 러스티를 찾는 데 도움을 준다.\n",
      "\n",
      "ROUGE-1 Score: 0.16666666168209893\n",
      "ROUGE-2 Score: 0.0\n",
      "ROUGE-L Score: 0.16666666168209893\n",
      "Combined ROUGE Score: 11.111110778806594\n",
      "\n",
      "====================================================================================================\n"
     ]
    },
    {
     "name": "stderr",
     "output_type": "stream",
     "text": [
      " 10%|▉         | 48/499 [00:43<07:12,  1.04it/s]"
     ]
    },
    {
     "name": "stdout",
     "output_type": "stream",
     "text": [
      "==47==\n",
      "Pred Summary: #Person1#은 새로운 휴대폰을 작동시키는 데 도움이 필요했다. #Person2#는 휴대폰을 켜고 전화를 거는 방법을 안내했다. #Person1#은 전화를 걸어 파트너에게 늦을 것이라고 알렸다.\n",
      "\n",
      "Gold Summary: #Person1#이 패트릭에게 전화를 걸도록 도움을 청하고, 패트릭이 #Person1#에게 휴대폰 사용법을 알려주고 성공적으로 통화를 걸도록 도와준다.\n",
      "\n",
      "ROUGE-1 Score: 0.06249999507812539\n",
      "ROUGE-2 Score: 0.0\n",
      "ROUGE-L Score: 0.06249999507812539\n",
      "Combined ROUGE Score: 4.166666338541693\n",
      "\n",
      "====================================================================================================\n"
     ]
    },
    {
     "name": "stderr",
     "output_type": "stream",
     "text": [
      " 10%|▉         | 49/499 [00:44<07:55,  1.06s/it]"
     ]
    },
    {
     "name": "stdout",
     "output_type": "stream",
     "text": [
      "==48==\n",
      "Pred Summary: #Person2#는 다음 주 일요일 전에 출발하는 캐나다 캘거리행 이코노미 클래스 편도 항공편 3석을 예약하고 싶어합니다. 그들은 밴쿠버에서 환승하는 것을 신경 쓰지 않습니다. #Person1#은 다음 주 금요일 오전 10시에 베이징에서 출발하는 캐나다항공 30편을 제안하며, 좌석이 3개 있고 가격은 한 장당 580달러입니다.\n",
      "\n",
      "Gold Summary: #Person1#은 Basil에게 다음 일요일에 캘거리, 캐나다로 가는 이코노미 클래스 3석을 예약해주었다.\n",
      "\n",
      "ROUGE-1 Score: 0.20833332980034727\n",
      "ROUGE-2 Score: 0.041666663368055815\n",
      "ROUGE-L Score: 0.20833332980034727\n",
      "Combined ROUGE Score: 15.27777743229168\n",
      "\n",
      "====================================================================================================\n"
     ]
    },
    {
     "name": "stderr",
     "output_type": "stream",
     "text": [
      " 10%|█         | 50/499 [00:45<07:08,  1.05it/s]"
     ]
    },
    {
     "name": "stdout",
     "output_type": "stream",
     "text": [
      "==49==\n",
      "Pred Summary: #Person1#은 #Person2#에게 영어 억양에 대한 유튜브 동영상을 시청하고, 그에 대한 에세이를 작성하며, 학급에서 발표하는 프로젝트를 제안한다.\n",
      "\n",
      "Gold Summary: 홍씨는 영어 학습이 지루하다고 생각하고 더 흥미로운 것을 원한다. 그래서 윈터스 선생님은 홍씨에게 수업에 더 관심을 가지게 하기 위한 특별 프로젝트를 제안한다.\n",
      "\n",
      "ROUGE-1 Score: 0.1666666618055557\n",
      "ROUGE-2 Score: 0.055555550694444865\n",
      "ROUGE-L Score: 0.1666666618055557\n",
      "Combined ROUGE Score: 12.962962476851878\n",
      "\n",
      "====================================================================================================\n"
     ]
    },
    {
     "name": "stderr",
     "output_type": "stream",
     "text": [
      " 10%|█         | 51/499 [00:46<06:47,  1.10it/s]"
     ]
    },
    {
     "name": "stdout",
     "output_type": "stream",
     "text": [
      "==50==\n",
      "Pred Summary: #Person1#과 #Person2#는 남부 록키 산맥에서 3일간의 등산을 계획하고 있다. #Person1#은 이전에 곰과 퓨마를 본 적이 있는 등산을 즐긴다.\n",
      "\n",
      "Gold Summary: #Person1#은 톰에게 주말 계획에 대해 묻고, 동행이 필요한지 묻는다. 톰은 등산을 가려고 하며, #Person1#과 #Person1#의 친구를 같이 가자고 초대한다.\n",
      "\n",
      "ROUGE-1 Score: 0.16666666168209893\n",
      "ROUGE-2 Score: 0.0\n",
      "ROUGE-L Score: 0.16666666168209893\n",
      "Combined ROUGE Score: 11.111110778806594\n",
      "\n",
      "====================================================================================================\n"
     ]
    },
    {
     "name": "stderr",
     "output_type": "stream",
     "text": [
      " 10%|█         | 52/499 [00:47<07:03,  1.06it/s]"
     ]
    },
    {
     "name": "stdout",
     "output_type": "stream",
     "text": [
      "==51==\n",
      "Pred Summary: #Person1#은 게임에 내기를 추가하여 더 재미있게 만들자고 제안했다. #Person2#는 스트립 트리비아를 제안했지만, #Person1#은 진지하게 내기를 하자고 말했다. #Person2#는 친선 게임을 제안했지만, #Person1#은 진다면 모두에게 영화를 대접하는 내기를 제안했다.\n",
      "\n",
      "Gold Summary: #Person2#는 친절한 게임을 하고 싶어하지만, #Person1#은 내기를 하고 싶어한다.\n",
      "\n",
      "ROUGE-1 Score: 0.2758620649702735\n",
      "ROUGE-2 Score: 0.0\n",
      "ROUGE-L Score: 0.2758620649702735\n",
      "Combined ROUGE Score: 18.390804331351564\n",
      "\n",
      "====================================================================================================\n"
     ]
    },
    {
     "name": "stderr",
     "output_type": "stream",
     "text": [
      " 11%|█         | 53/499 [00:48<06:50,  1.09it/s]"
     ]
    },
    {
     "name": "stdout",
     "output_type": "stream",
     "text": [
      "==52==\n",
      "Pred Summary: #Person1#은 #Person2#에게 땅콩을 넣은 매콤한 치킨을 제공했다. #Person2#는 요리를 즐기고, #Person1#은 사천 음식 요리사가 요리하는 방법에 대해 설명했다.\n",
      "\n",
      "Gold Summary: #Person2#는 그의 깐풍기를 매우 좋아한다. #Person1#은 그에게 어떻게 요리하는지 알려준다.\n",
      "\n",
      "ROUGE-1 Score: 0.14814814348422511\n",
      "ROUGE-2 Score: 0.0\n",
      "ROUGE-L Score: 0.14814814348422511\n",
      "Combined ROUGE Score: 9.876542898948342\n",
      "\n",
      "====================================================================================================\n"
     ]
    },
    {
     "name": "stderr",
     "output_type": "stream",
     "text": [
      " 11%|█         | 54/499 [00:49<06:45,  1.10it/s]"
     ]
    },
    {
     "name": "stdout",
     "output_type": "stream",
     "text": [
      "==53==\n",
      "Pred Summary: #Person1#은 배수구가 머리카락으로 막혀서 물이 내려가지 않는 것을 발견했다. 그들은 산을 사용하여 머리카락을 녹이고, 앞으로 욕조를 사용할 때마다 청소해야 한다는 것을 깨달았다.\n",
      "\n",
      "Gold Summary: #Person1#은 #Person2#가 배수구를 막은 머리카락을 녹이는 데 도움을 주고, 욕조를 청소하라고 말한다.\n",
      "\n",
      "ROUGE-1 Score: 0.18181817719008275\n",
      "ROUGE-2 Score: 0.0\n",
      "ROUGE-L Score: 0.18181817719008275\n",
      "Combined ROUGE Score: 12.121211812672183\n",
      "\n",
      "====================================================================================================\n"
     ]
    },
    {
     "name": "stderr",
     "output_type": "stream",
     "text": [
      " 11%|█         | 55/499 [00:49<06:39,  1.11it/s]"
     ]
    },
    {
     "name": "stdout",
     "output_type": "stream",
     "text": [
      "==54==\n",
      "Pred Summary: #Person1#은 9월 중 배송을 요청했지만, #Person2#는 불가능하다고 말했다. #Person2#는 제조업체와 협상하여 9월 20일까지 배송을 앞당길 수 있도록 노력할 것이다.\n",
      "\n",
      "Gold Summary: #Person1#은 계절을 맞추기 위해 더 빠른 배송을 요청한다. #Person2#는 결국 9월 20일에 관리할 수 있음에 동의한다.\n",
      "\n",
      "ROUGE-1 Score: 0.31249999500000003\n",
      "ROUGE-2 Score: 0.0\n",
      "ROUGE-L Score: 0.31249999500000003\n",
      "Combined ROUGE Score: 20.833333\n",
      "\n",
      "====================================================================================================\n"
     ]
    },
    {
     "name": "stderr",
     "output_type": "stream",
     "text": [
      " 11%|█         | 56/499 [00:50<06:18,  1.17it/s]"
     ]
    },
    {
     "name": "stdout",
     "output_type": "stream",
     "text": [
      "==55==\n",
      "Pred Summary: #Person1#은 #Person2#의 아이들이 소란을 피워서 논문에 집중할 수 없다고 불평한다. #Person2#는 사과하고 아이들을 조용히 시키려고 노력한다.\n",
      "\n",
      "Gold Summary: 블랙 씨가 브라운 씨에게 아이들의 소음에 대해 불평한다.\n",
      "\n",
      "ROUGE-1 Score: 0.08333332888888913\n",
      "ROUGE-2 Score: 0.0\n",
      "ROUGE-L Score: 0.08333332888888913\n",
      "Combined ROUGE Score: 5.555555259259275\n",
      "\n",
      "====================================================================================================\n"
     ]
    },
    {
     "name": "stderr",
     "output_type": "stream",
     "text": [
      " 11%|█▏        | 57/499 [00:52<08:14,  1.12s/it]"
     ]
    },
    {
     "name": "stdout",
     "output_type": "stream",
     "text": [
      "==56==\n",
      "Pred Summary: #Person1#과 #Person2#는 딸이 따라주지 않는다고 불평하는 부모들에 대해 이야기하고 있습니다. #Person2#는 리나의 어머니가 이웃집 딸이 캐나다인과 결혼한 이후로 리나에게 불평을 하고 있다고 언급합니다. #Person1#은 리나가 어머니에게 그런 짓을 했는지 물어봤을 것이라고 말합니다. #Person2#는 리나가 온순하고 누구에게도 거스르지 않는다고 설명합니다.\n",
      "\n",
      "Gold Summary: #Person1#과 #Person2#는 결혼을 위해 어머니에게 압박받는 리나에 대해 이야기한다.\n",
      "\n",
      "ROUGE-1 Score: 0.18604650831800976\n",
      "ROUGE-2 Score: 0.043478257996219474\n",
      "ROUGE-L Score: 0.18604650831800976\n",
      "Combined ROUGE Score: 13.852375821074633\n",
      "\n",
      "====================================================================================================\n"
     ]
    },
    {
     "name": "stderr",
     "output_type": "stream",
     "text": [
      " 12%|█▏        | 58/499 [00:53<07:19,  1.00it/s]"
     ]
    },
    {
     "name": "stdout",
     "output_type": "stream",
     "text": [
      "==57==\n",
      "Pred Summary: #Person1#과 #Person2#는 식사를 함께했다. #Person2#는 음식이 맛있다고 생각했지만, 다이어트 중이라 디저트로 아이스크림만 먹었다.\n",
      "\n",
      "Gold Summary: #Person2#는 저녁 식사를 즐겼고 디저트로 #Person1#에게 아이스크림을 요청했다.\n",
      "\n",
      "ROUGE-1 Score: 0.29999999520000004\n",
      "ROUGE-2 Score: 0.0\n",
      "ROUGE-L Score: 0.29999999520000004\n",
      "Combined ROUGE Score: 19.999999680000002\n",
      "\n",
      "====================================================================================================\n"
     ]
    },
    {
     "name": "stderr",
     "output_type": "stream",
     "text": [
      " 12%|█▏        | 59/499 [00:53<07:02,  1.04it/s]"
     ]
    },
    {
     "name": "stdout",
     "output_type": "stream",
     "text": [
      "==58==\n",
      "Pred Summary: #Person1#과 #Person2#는 아침메뉴에 대해 이야기하고, #Person2#는 윈드서핑을 시도하고 싶어한다. #Person1#은 윈드서핑이 어렵고 비용이 많이 들 수 있다고 경고한다.\n",
      "\n",
      "Gold Summary: #Person2#는 윈드서핑을 해보고 싶지만 #Person1#이 힘들고 비용이 많이 든다고 말렸다.\n",
      "\n",
      "ROUGE-1 Score: 0.2962962916323732\n",
      "ROUGE-2 Score: 0.15384614931952675\n",
      "ROUGE-L Score: 0.2962962916323732\n",
      "Combined ROUGE Score: 24.88129108614244\n",
      "\n",
      "====================================================================================================\n"
     ]
    },
    {
     "name": "stderr",
     "output_type": "stream",
     "text": [
      " 12%|█▏        | 60/499 [00:54<06:57,  1.05it/s]"
     ]
    },
    {
     "name": "stdout",
     "output_type": "stream",
     "text": [
      "==59==\n",
      "Pred Summary: #Person1#은 #Person2#에게 대학원에서의 미래에 대해 생각해봤는지 물어보고, #Person2#는 아직 생각하지 않았다고 대답한다. #Person1#은 #Person2#에게 자신의 노력에 대한 의미를 상기시키며, 미래에 대해 생각해야 한다고 말한다.\n",
      "\n",
      "Gold Summary: #Person1#은 벤에게 젊은 사람이 휴식 후에는 자신과 그의 상황에 대해 적극적으로 준비해야 한다고 말한다.\n",
      "\n",
      "ROUGE-1 Score: 0.23529411280276827\n",
      "ROUGE-2 Score: 0.058823524688581694\n",
      "ROUGE-L Score: 0.23529411280276827\n",
      "Combined ROUGE Score: 17.647058343137275\n",
      "\n",
      "====================================================================================================\n"
     ]
    },
    {
     "name": "stderr",
     "output_type": "stream",
     "text": [
      " 12%|█▏        | 61/499 [00:55<06:03,  1.20it/s]"
     ]
    },
    {
     "name": "stdout",
     "output_type": "stream",
     "text": [
      "==60==\n",
      "Pred Summary: 계모는 소년의 행복을 파괴하기 위해 노력했고, 그 결과로 소년은 모든 것을 잃게 되었습니다.\n",
      "\n",
      "Gold Summary: #Person1#과 #Person2#는 사악한 계모에 대해 이야기한다.\n",
      "\n",
      "ROUGE-1 Score: 0.0\n",
      "ROUGE-2 Score: 0.0\n",
      "ROUGE-L Score: 0.0\n",
      "Combined ROUGE Score: 0.0\n",
      "\n",
      "====================================================================================================\n"
     ]
    },
    {
     "name": "stderr",
     "output_type": "stream",
     "text": [
      " 12%|█▏        | 62/499 [00:56<06:56,  1.05it/s]"
     ]
    },
    {
     "name": "stdout",
     "output_type": "stream",
     "text": [
      "==61==\n",
      "Pred Summary: #Person1#과 #Person2#는 수질 오염의 원인과 예방에 대해 이야기합니다. 그들은 수질 오염이 직접적인 오염과 간접적인 오염으로 인해 발생한다는 것을 논의하며, 이를 예방하기 위해 모두의 참여가 필요하다고 강조합니다.\n",
      "\n",
      "Gold Summary: #Person1#와 #Person2#는 물 오염과 그것의 직접적, 간접적 원인에 대해 이야기한다. 그들은 이를 예방하는데 적극적으로 참여해야 한다는 것에 동의한다.\n",
      "\n",
      "ROUGE-1 Score: 0.2325581346673879\n",
      "ROUGE-2 Score: 0.0\n",
      "ROUGE-L Score: 0.2325581346673879\n",
      "Combined ROUGE Score: 15.503875644492526\n",
      "\n",
      "====================================================================================================\n"
     ]
    },
    {
     "name": "stderr",
     "output_type": "stream",
     "text": [
      " 13%|█▎        | 63/499 [00:57<06:38,  1.09it/s]"
     ]
    },
    {
     "name": "stdout",
     "output_type": "stream",
     "text": [
      "==62==\n",
      "Pred Summary: #Person1#과 #Person2#는 잘못된 정류장에서 내렸다는 것을 깨달았다. 그들은 걸어가거나 다음 버스를 기다리기로 결정했다.\n",
      "\n",
      "Gold Summary: #Person1#와 #Person2#는 #Person2#의 실수로 인해 버스에서 너무 일찍 내렸다.\n",
      "\n",
      "ROUGE-1 Score: 0.09090908607438043\n",
      "ROUGE-2 Score: 0.0\n",
      "ROUGE-L Score: 0.09090908607438043\n",
      "Combined ROUGE Score: 6.060605738292029\n",
      "\n",
      "====================================================================================================\n"
     ]
    },
    {
     "name": "stderr",
     "output_type": "stream",
     "text": [
      " 13%|█▎        | 64/499 [00:58<07:09,  1.01it/s]"
     ]
    },
    {
     "name": "stdout",
     "output_type": "stream",
     "text": [
      "==63==\n",
      "Pred Summary: #Person1#과 #Person2#는 계약 저축과 B형 계좌에 대해 이야기하고 있습니다. 계약 저축은 100,000위안의 예치금이 필요하며 결제 계좌로 사용할 수 있습니다. B형 계좌는 직접 거래가 불가능하며 외부 출금 서비스도 이용할 수 없습니다.\n",
      "\n",
      "Gold Summary: #Person1#은 #Person2#에게 입금액과 인출 방법에 대해 설명한다.\n",
      "\n",
      "ROUGE-1 Score: 0.060606057263544726\n",
      "ROUGE-2 Score: 0.0\n",
      "ROUGE-L Score: 0.060606057263544726\n",
      "Combined ROUGE Score: 4.040403817569648\n",
      "\n",
      "====================================================================================================\n"
     ]
    },
    {
     "name": "stderr",
     "output_type": "stream",
     "text": [
      " 13%|█▎        | 65/499 [00:59<07:05,  1.02it/s]"
     ]
    },
    {
     "name": "stdout",
     "output_type": "stream",
     "text": [
      "==64==\n",
      "Pred Summary: #Person1#은 뉴욕행 101편 환승 항공편을 타기 위해 18번 탑승구로 가야 한다. #Person2#는 셔틀을 타는 것을 제안하고, #Person1#이 늦을 경우 승무원에게 전화할 것을 약속한다.\n",
      "\n",
      "Gold Summary: #Person2#는 #Person1#에게 비행기를 잡기 위해 셔틀을 이용하라고 권하고 게이트의 승무원에게 전화할 것이라고 말했다.\n",
      "\n",
      "ROUGE-1 Score: 0.285714281044898\n",
      "ROUGE-2 Score: 0.05882352484429102\n",
      "ROUGE-L Score: 0.285714281044898\n",
      "Combined ROUGE Score: 21.008402897802902\n",
      "\n",
      "====================================================================================================\n"
     ]
    },
    {
     "name": "stderr",
     "output_type": "stream",
     "text": [
      " 13%|█▎        | 66/499 [01:00<06:17,  1.15it/s]"
     ]
    },
    {
     "name": "stdout",
     "output_type": "stream",
     "text": [
      "==65==\n",
      "Pred Summary: #Person1#과 #Person2#는 바지가 편안하고 널널하다는 것에 동의하며, 함께 나가서 편하게 누워 있기로 결정했다.\n",
      "\n",
      "Gold Summary: #Person1#와 #Person2#는 그들의 바지가 편하게 누워 있기에 적합하다고 생각한다.\n",
      "\n",
      "ROUGE-1 Score: 0.36363635880165296\n",
      "ROUGE-2 Score: 0.09999999520000023\n",
      "ROUGE-L Score: 0.36363635880165296\n",
      "Combined ROUGE Score: 27.57575709344354\n",
      "\n",
      "====================================================================================================\n"
     ]
    },
    {
     "name": "stderr",
     "output_type": "stream",
     "text": [
      " 13%|█▎        | 67/499 [01:00<05:47,  1.24it/s]"
     ]
    },
    {
     "name": "stdout",
     "output_type": "stream",
     "text": [
      "==66==\n",
      "Pred Summary: #Person1#은 #Person2#에게 테이블에 함께 앉아도 되는지 물어보고, 둘 다 사람들이 많다는 것에 동의합니다.\n",
      "\n",
      "Gold Summary: #Person1#은 자리를 같이 쓰고 싶어합니다. #Person2#는 동의합니다.\n",
      "\n",
      "ROUGE-1 Score: 0.19999999545000013\n",
      "ROUGE-2 Score: 0.0\n",
      "ROUGE-L Score: 0.19999999545000013\n",
      "Combined ROUGE Score: 13.333333030000007\n",
      "\n",
      "====================================================================================================\n"
     ]
    },
    {
     "name": "stderr",
     "output_type": "stream",
     "text": [
      " 14%|█▎        | 68/499 [01:01<05:46,  1.24it/s]"
     ]
    },
    {
     "name": "stdout",
     "output_type": "stream",
     "text": [
      "==67==\n",
      "Pred Summary: #Person1#은 #Person2#에게 다음 주말에 예약 가능한 방이 있다고 알렸다. #Person2#는 더블룸을 요청했고, 예약은 모니카 셀러의 이름으로 완료되었다.\n",
      "\n",
      "Gold Summary: 모니카가 다음 토요일과 일요일 밤에 방을 예약하기 위해 리셉션에 전화를 걸고, #Person1#이 그녀를 도와줍니다.\n",
      "\n",
      "ROUGE-1 Score: 0.06451612407908468\n",
      "ROUGE-2 Score: 0.0\n",
      "ROUGE-L Score: 0.06451612407908468\n",
      "Combined ROUGE Score: 4.3010749386056455\n",
      "\n",
      "====================================================================================================\n"
     ]
    },
    {
     "name": "stderr",
     "output_type": "stream",
     "text": [
      " 14%|█▍        | 69/499 [01:03<07:34,  1.06s/it]"
     ]
    },
    {
     "name": "stdout",
     "output_type": "stream",
     "text": [
      "==68==\n",
      "Pred Summary: #Person1#은 처음에 5%의 할인을 제안했지만, #Person2#는 가격이 너무 높다고 거절했다. #Person1#은 8%의 할인을 제안했지만, #Person2#는 여전히 너무 높다고 생각했다. #Person2#는 15%의 할인을 요청했지만, #Person1#은 이를 거부했다. 결국, 양측은 10%의 할인에 합의했다.\n",
      "\n",
      "Gold Summary: #Person1#은 할인을 제안하지만 #Person2#는 만족하지 않습니다. 협상 후, 그들은 10%의 할인에 동의합니다.\n",
      "\n",
      "ROUGE-1 Score: 0.29411764249134953\n",
      "ROUGE-2 Score: 0.05263157483379533\n",
      "ROUGE-L Score: 0.29411764249134953\n",
      "Combined ROUGE Score: 21.36222866054981\n",
      "\n",
      "====================================================================================================\n"
     ]
    },
    {
     "name": "stderr",
     "output_type": "stream",
     "text": [
      " 14%|█▍        | 70/499 [01:04<06:50,  1.05it/s]"
     ]
    },
    {
     "name": "stdout",
     "output_type": "stream",
     "text": [
      "==69==\n",
      "Pred Summary: #Person1#은 #Person2#에게 상표 등록 과정에 대해 알려줍니다. 상표에는 유효 기간이 있으며, 이미 사용 중인 상표와 유사할 수 없습니다. 등록에는 관련 문서와 수수료가 필요합니다.\n",
      "\n",
      "Gold Summary: #Person2#는 상표 등록 과정을 모르기 때문에 화가 났습니다. #Person1#는 #Person2#에게 몇 가지 팁을 주고 이 문제에 대해 더 알아보라고 제안합니다.\n",
      "\n",
      "ROUGE-1 Score: 0.1860465066522446\n",
      "ROUGE-2 Score: 0.04878048283164834\n",
      "ROUGE-L Score: 0.1860465066522446\n",
      "Combined ROUGE Score: 14.029116537871253\n",
      "\n",
      "====================================================================================================\n"
     ]
    },
    {
     "name": "stderr",
     "output_type": "stream",
     "text": [
      " 14%|█▍        | 71/499 [01:05<07:02,  1.01it/s]"
     ]
    },
    {
     "name": "stdout",
     "output_type": "stream",
     "text": [
      "==70==\n",
      "Pred Summary: #Person1#은 #Person2#의 MP3를 칭찬하고, #Person2#는 온라인 쇼핑을 통해 구매했다고 말한다. #Person2#는 온라인 쇼핑의 편리함, 24시간 이용 가능성, 다양한 선택지를 설명하며, #Person1#은 전자 상거래를 시도해 보기로 결심한다.\n",
      "\n",
      "Gold Summary: #Person2#는 온라인에서 MP3를 구매했지만 #Person1#은 전자 상거래를 해본 적이 없다. #Person2#는 #Person1#에게 온라인 쇼핑의 장점에 대해 설명한다. #Person1#는 #Person1#도 한번 해봐야겠다고 생각한다.\n",
      "\n",
      "ROUGE-1 Score: 0.3181818131921489\n",
      "ROUGE-2 Score: 0.13333332835555575\n",
      "ROUGE-L Score: 0.27272726773760336\n",
      "Combined ROUGE Score: 24.141413642843602\n",
      "\n",
      "====================================================================================================\n"
     ]
    },
    {
     "name": "stderr",
     "output_type": "stream",
     "text": [
      " 14%|█▍        | 72/499 [01:06<08:17,  1.16s/it]"
     ]
    },
    {
     "name": "stdout",
     "output_type": "stream",
     "text": [
      "==71==\n",
      "Pred Summary: #Person1#은 왕 씨와 그의 팀에게 환대와 멋진 나라에 대한 감사의 말씀을 전하며, 중국인에 대한 생각을 바꾸게 되었다고 말했습니다. #Person1#은 이번 여행이 생산적이었고 거래를 성사시키기 위해 최선을 다할 것이라고 말했습니다. #Person2#는 #Person1#에게 다시 방문할 것을 초대하고 사업 관계를 맺게 되어 기쁘다고 말했습니다. #Person1#은 앞으로 서로 만날 기회가 있을 것이라고 말하며 #Person2#에게 도움을 주셔서 감사하다고 말했습니다.\n",
      "\n",
      "Gold Summary: 왕 씨가 #Person1#를 공항에서 배웅하며, 그들은 서로의 사업 관계에 대한 좋은 기대를 나눕니다.\n",
      "\n",
      "ROUGE-1 Score: 0.09999999660555567\n",
      "ROUGE-2 Score: 0.0\n",
      "ROUGE-L Score: 0.09999999660555567\n",
      "Combined ROUGE Score: 6.666666440370378\n",
      "\n",
      "====================================================================================================\n"
     ]
    },
    {
     "name": "stderr",
     "output_type": "stream",
     "text": [
      " 15%|█▍        | 73/499 [01:08<08:46,  1.23s/it]"
     ]
    },
    {
     "name": "stdout",
     "output_type": "stream",
     "text": [
      "==72==\n",
      "Pred Summary: #Person1#은 저축 계좌를 개설하고자 하며, #Person2#는 입출금 계좌와 정기 예금 계좌의 차이점을 설명한다. #Person1#은 입출금 계좌를 선택하고, #Person2#는 필요한 신분증을 가지고 계좌를 개설하는 데 도움을 준다.\n",
      "\n",
      "Gold Summary: #Person2#는 #Person1#에게 저축 계좌 개설을 도와주고 입출금 계좌와 정기 예금 계좌의 차이점을 설명해줍니다.\n",
      "\n",
      "ROUGE-1 Score: 0.4705882305709343\n",
      "ROUGE-2 Score: 0.2702702658875092\n",
      "ROUGE-L Score: 0.4117647011591695\n",
      "Combined ROUGE Score: 38.42077325392044\n",
      "\n",
      "====================================================================================================\n"
     ]
    },
    {
     "name": "stderr",
     "output_type": "stream",
     "text": [
      " 15%|█▍        | 74/499 [01:09<08:22,  1.18s/it]"
     ]
    },
    {
     "name": "stdout",
     "output_type": "stream",
     "text": [
      "==73==\n",
      "Pred Summary: #Person1#과 #Person2#는 서비스 중단 시간을 줄이기 위해 정기적인 유지보수 절차를 수립해야 한다는 데 동의합니다.\n",
      "\n",
      "Gold Summary: #Person1#은 서비스 중단 시간 동안의 생산량 손실을 줄이기 위해 유지보수 절차를 구축하자고 제안합니다.\n",
      "\n",
      "ROUGE-1 Score: 0.4444444394513032\n",
      "ROUGE-2 Score: 0.23999999500800012\n",
      "ROUGE-L Score: 0.4444444394513032\n",
      "Combined ROUGE Score: 37.62962913035355\n",
      "\n",
      "====================================================================================================\n"
     ]
    },
    {
     "name": "stderr",
     "output_type": "stream",
     "text": [
      " 15%|█▌        | 75/499 [01:09<07:18,  1.03s/it]"
     ]
    },
    {
     "name": "stdout",
     "output_type": "stream",
     "text": [
      "==74==\n",
      "Pred Summary: #Person1#은 #Person2#에게 잘못된 주차 공간에 주차했다고 알렸다. #Person2#는 실수를 인정하고 사과하며 차를 옮기겠다고 말했다.\n",
      "\n",
      "Gold Summary: #Person1#은 자신의 주차 공간에 주차한 #Person2#에게 차를 옮기라고 요청합니다.\n",
      "\n",
      "ROUGE-1 Score: 0.4347826039319471\n",
      "ROUGE-2 Score: 0.0952380905215422\n",
      "ROUGE-L Score: 0.3478260821928167\n",
      "Combined ROUGE Score: 29.261559221543536\n",
      "\n",
      "====================================================================================================\n"
     ]
    },
    {
     "name": "stderr",
     "output_type": "stream",
     "text": [
      " 15%|█▌        | 76/499 [01:10<06:52,  1.03it/s]"
     ]
    },
    {
     "name": "stdout",
     "output_type": "stream",
     "text": [
      "==75==\n",
      "Pred Summary: #Person1#과 #Person2#는 교통사고 후 책임과 응급 처치 조치를 놓고 논쟁한다. #Person2#는 경찰을 기다리기를 고집하고, #Person1#은 즉각적인 의료 조치를 원한다.\n",
      "\n",
      "Gold Summary: 자동차 사고가 발생했는데, 이는 #Person1#이 #Person2#의 차 앞에 갑자기 나타나서 발생했습니다. #Person1#의 팔과 휴대폰이 부서져서, #Person2#는 경찰에게 전화해서 이 사고의 책임이 누구에게 있는지 결정해야 합니다.\n",
      "\n",
      "ROUGE-1 Score: 0.047619042800454016\n",
      "ROUGE-2 Score: 0.0\n",
      "ROUGE-L Score: 0.047619042800454016\n",
      "Combined ROUGE Score: 3.1746028533636013\n",
      "\n",
      "====================================================================================================\n"
     ]
    },
    {
     "name": "stderr",
     "output_type": "stream",
     "text": [
      " 15%|█▌        | 77/499 [01:11<06:59,  1.00it/s]"
     ]
    },
    {
     "name": "stdout",
     "output_type": "stream",
     "text": [
      "==76==\n",
      "Pred Summary: #Person1#과 #Person2#는 개를 키우는 것이 법으로 금지된 도시에 대해 이야기하고 있다. 그들은 개 공원이 좋은 아이디어인지, 아니면 사람들이 거리에서 개를 산책시킬 수 있게 해야 하는지에 대해 논의하고 있다.\n",
      "\n",
      "Gold Summary: #Person1#과 #Person2#는 개 공원의 장단점에 대해 이야기한다.\n",
      "\n",
      "ROUGE-1 Score: 0.2499999965820313\n",
      "ROUGE-2 Score: 0.060606057630854145\n",
      "ROUGE-L Score: 0.2499999965820313\n",
      "Combined ROUGE Score: 18.68686835983056\n",
      "\n",
      "====================================================================================================\n"
     ]
    },
    {
     "name": "stderr",
     "output_type": "stream",
     "text": [
      " 16%|█▌        | 78/499 [01:12<06:18,  1.11it/s]"
     ]
    },
    {
     "name": "stdout",
     "output_type": "stream",
     "text": [
      "==77==\n",
      "Pred Summary: 로라와 케빈은 서로의 소식을 나눈다. 로라는 직장에서 승진을 했고, 케빈은 최근에 만난 안드레아와 결혼하려고 한다.\n",
      "\n",
      "Gold Summary: 로라와 케빈은 오랜만에 만나 서로의 최근 소식을 공유한다. 로라는 직장 승진과 월급 인상을 받았고, 케빈은 안드레아와 2주 동안 데이트한 후 결혼했다.\n",
      "\n",
      "ROUGE-1 Score: 0.3529411716262976\n",
      "ROUGE-2 Score: 0.05882352456747445\n",
      "ROUGE-L Score: 0.3529411716262976\n",
      "Combined ROUGE Score: 25.490195594002323\n",
      "\n",
      "====================================================================================================\n"
     ]
    },
    {
     "name": "stderr",
     "output_type": "stream",
     "text": [
      " 16%|█▌        | 79/499 [01:13<06:09,  1.14it/s]"
     ]
    },
    {
     "name": "stdout",
     "output_type": "stream",
     "text": [
      "==78==\n",
      "Pred Summary: #Person2#는 아프기 때문에 시험을 놓쳤다. 그들은 교수님과 이야기하고 보충 시험을 볼 수 있는 허가를 받았다. #Person2#는 약국에 들러 약을 산 후 집으로 돌아갈 것이다.\n",
      "\n",
      "Gold Summary: 아파서 #Person2#는 시험을 보지 않았지만 보충 시험을 볼 수 있게 되었습니다. #Person2#는 교수님과의 대화를 마치고 집으로 가고 있습니다.\n",
      "\n",
      "ROUGE-1 Score: 0.3157894688088643\n",
      "ROUGE-2 Score: 0.14999999511250017\n",
      "ROUGE-L Score: 0.3157894688088643\n",
      "Combined ROUGE Score: 26.052631091007626\n",
      "\n",
      "====================================================================================================\n"
     ]
    },
    {
     "name": "stderr",
     "output_type": "stream",
     "text": [
      " 16%|█▌        | 80/499 [01:14<05:53,  1.18it/s]"
     ]
    },
    {
     "name": "stdout",
     "output_type": "stream",
     "text": [
      "==79==\n",
      "Pred Summary: #Person1#과 #Person2#는 이번 주말에 해변에 가기로 계획하고, 사라를 초대할 것이다. 그들은 음식, 음료, 해변 수건, 그리고 선크림을 가져갈 것이다.\n",
      "\n",
      "Gold Summary: #Person1#은 어머니가 아픈 사라가 가지 못하기 때문에 #Person2#를 주말에 해변에 초대한다. 그들은 가져갈 음식, 음료, 그리고 다른 소지품들을 나열한다.\n",
      "\n",
      "ROUGE-1 Score: 0.37837837338203073\n",
      "ROUGE-2 Score: 0.11111110611111134\n",
      "ROUGE-L Score: 0.3243243193279767\n",
      "Combined ROUGE Score: 27.12712662737062\n",
      "\n",
      "====================================================================================================\n"
     ]
    },
    {
     "name": "stderr",
     "output_type": "stream",
     "text": [
      " 16%|█▌        | 81/499 [01:15<06:17,  1.11it/s]"
     ]
    },
    {
     "name": "stdout",
     "output_type": "stream",
     "text": [
      "==80==\n",
      "Pred Summary: #Person1#은 공원에서 왼쪽 신발을 도난당했습니다. 범인은 여자처럼 옷을 입은 남자로, '수염 단 여자'로 알려져 있습니다. 이 범인은 피해자의 왼쪽 신발을 빼앗아 가지만, 보통 며칠 후에 신발을 돌려놓습니다.\n",
      "\n",
      "Gold Summary: #Person1#이 경찰에게 도둑질을 신고합니다. #Person1#은 도둑의 모습을 묘사하고 경찰은 피해자의 왼쪽 신발을 빼앗아 가고 며칠 후에 돌려주는 수염 단 여자를 인식합니다.\n",
      "\n",
      "ROUGE-1 Score: 0.36363635864669425\n",
      "ROUGE-2 Score: 0.17777777283950633\n",
      "ROUGE-L Score: 0.36363635864669425\n",
      "Combined ROUGE Score: 30.168349671096493\n",
      "\n",
      "====================================================================================================\n"
     ]
    },
    {
     "name": "stderr",
     "output_type": "stream",
     "text": [
      " 16%|█▋        | 82/499 [01:15<05:53,  1.18it/s]"
     ]
    },
    {
     "name": "stdout",
     "output_type": "stream",
     "text": [
      "==81==\n",
      "Pred Summary: #Person1#은 짐이 불평할 것이 무엇인지 이해하지 못하고, #Person2#는 보스가 #Person2#가 뒤처질 때 이해심이 깊다고 언급합니다.\n",
      "\n",
      "Gold Summary: #Person1#은 짐이 왜 불평하는지 이해하지 못한다. #Person2#는 그가 #Person1#만큼 에너지가 없다고 생각하며, 보스는 그에게 이해심이 없다고 생각한다. #Person1#은 왜 그렇게 하는지 궁금해한다.\n",
      "\n",
      "ROUGE-1 Score: 0.2941176421280277\n",
      "ROUGE-2 Score: 0.05714285234285754\n",
      "ROUGE-L Score: 0.2941176421280277\n",
      "Combined ROUGE Score: 21.5126045532971\n",
      "\n",
      "====================================================================================================\n"
     ]
    },
    {
     "name": "stderr",
     "output_type": "stream",
     "text": [
      " 17%|█▋        | 83/499 [01:16<05:25,  1.28it/s]"
     ]
    },
    {
     "name": "stdout",
     "output_type": "stream",
     "text": [
      "==82==\n",
      "Pred Summary: #Person1#은 일자리를 찾고 싶어하며, #Person2#는 컴퓨터 센터에서 일하는 것을 포함한 여러 가지 파트타임 직업을 제안한다.\n",
      "\n",
      "Gold Summary: #Person1#은 컴퓨터 센터에서 일자리를 찾고 싶어합니다.\n",
      "\n",
      "ROUGE-1 Score: 0.4761904721088436\n",
      "ROUGE-2 Score: 0.21052631191135737\n",
      "ROUGE-L Score: 0.2857142816326531\n",
      "Combined ROUGE Score: 32.41436885509514\n",
      "\n",
      "====================================================================================================\n"
     ]
    },
    {
     "name": "stderr",
     "output_type": "stream",
     "text": [
      " 17%|█▋        | 84/499 [01:17<05:37,  1.23it/s]"
     ]
    },
    {
     "name": "stdout",
     "output_type": "stream",
     "text": [
      "==83==\n",
      "Pred Summary: #Person2#는 상사로부터 일에서 더 노력하라는 말을 들었고, #Person1#은 #Person2#가 불행해 보인다는 것을 알아차렸지만, #Person2#는 아무 말도 하지 않고 기분이 좋지 않다고 말했습니다.\n",
      "\n",
      "Gold Summary: 불행해 보이는 #Person2#에게 상사가 일에서 더 힘을 내라고 요청했습니다.\n",
      "\n",
      "ROUGE-1 Score: 0.19999999580000008\n",
      "ROUGE-2 Score: 0.06896551324613578\n",
      "ROUGE-L Score: 0.13333332913333346\n",
      "Combined ROUGE Score: 13.409961272648976\n",
      "\n",
      "====================================================================================================\n"
     ]
    },
    {
     "name": "stderr",
     "output_type": "stream",
     "text": [
      " 17%|█▋        | 85/499 [01:18<05:57,  1.16it/s]"
     ]
    },
    {
     "name": "stdout",
     "output_type": "stream",
     "text": [
      "==84==\n",
      "Pred Summary: #Person1#은 대학 시절을 자랑스러운 추억으로 기억하며, 졸업식에서 졸업모를 찾지 못했지만 결국에는 모든 것이 잘 해결되었다고 회상합니다. #Person2#는 졸업 후 상실감을 느끼며, 대학원에 진학하고 싶었지만 두려움 때문에 결정을 내리지 못했습니다.\n",
      "\n",
      "Gold Summary: #Person1#과 #Person2#는 졸업식 날의 감정과 졸업 후의 다른 계획에 대해 공유한다. #Person1#은 #Person2#에게 결정에 대한 더 많은 힘을 가지도록 격려한다.\n",
      "\n",
      "ROUGE-1 Score: 0.12244897476051664\n",
      "ROUGE-2 Score: 0.0\n",
      "ROUGE-L Score: 0.12244897476051664\n",
      "Combined ROUGE Score: 8.163264984034441\n",
      "\n",
      "====================================================================================================\n"
     ]
    },
    {
     "name": "stderr",
     "output_type": "stream",
     "text": [
      " 17%|█▋        | 86/499 [01:19<06:04,  1.13it/s]"
     ]
    },
    {
     "name": "stdout",
     "output_type": "stream",
     "text": [
      "==85==\n",
      "Pred Summary: #Person1#은 집세 때문에 200달러를 빌리기를 요청하고, #Person2#는 20달러를 빌려줄 수 있다고 말합니다. #Person1#은 월요일에 돈을 갚을 것을 약속하고, #Person2#는 저녁 식사에 초대합니다.\n",
      "\n",
      "Gold Summary: #Person1#은 집주인에게 200달러를 빚지고 있고, 돈을 좀 빌리려고 제이든에게 부탁했지만 제이든도 돈이 부족하다. 제이든은 #Person1#에게 20달러만 빌려주고, #Person1#은 6시에 제이든을 집으로 초대한다.\n",
      "\n",
      "ROUGE-1 Score: 0.14634145841760873\n",
      "ROUGE-2 Score: 0.0\n",
      "ROUGE-L Score: 0.14634145841760873\n",
      "Combined ROUGE Score: 9.756097227840582\n",
      "\n",
      "====================================================================================================\n"
     ]
    },
    {
     "name": "stderr",
     "output_type": "stream",
     "text": [
      " 17%|█▋        | 87/499 [01:20<06:32,  1.05it/s]"
     ]
    },
    {
     "name": "stdout",
     "output_type": "stream",
     "text": [
      "==86==\n",
      "Pred Summary: #Person1#과 #Person2#는 나이에 대해 이야기하고, 각자의 생일에 대해 이야기합니다. #Person2#는 5월 1일에 열 살이 되고, #Person1#은 4월 14일에 열 살이 됩니다. #Person1#은 생일 파티를 할 수도 있다고 언급합니다.\n",
      "\n",
      "Gold Summary: #Person1#과 #Person2#는 그들의 생일에 대해 이야기한다.\n",
      "\n",
      "ROUGE-1 Score: 0.27586206568370986\n",
      "ROUGE-2 Score: 0.1290322553590011\n",
      "ROUGE-L Score: 0.27586206568370986\n",
      "Combined ROUGE Score: 22.69187955754736\n",
      "\n",
      "====================================================================================================\n"
     ]
    },
    {
     "name": "stderr",
     "output_type": "stream",
     "text": [
      " 18%|█▊        | 88/499 [01:21<06:37,  1.03it/s]"
     ]
    },
    {
     "name": "stdout",
     "output_type": "stream",
     "text": [
      "==87==\n",
      "Pred Summary: #Person1#과 #Person2#는 파티에 참석하며, #Person2#는 빨간 드레스를 입은 금발에게 관심을 보이지만, 여자들과 대화하는 것에 대한 긴장으로 인해 망설이고 있다.\n",
      "\n",
      "Gold Summary: #Person1#과 #Person2#는 금발 여자를 보지만, #Person2#는 여자들과 얘기하는 것이 떨려서 곤란해한다. #Person1#의 격려와 맥주 한 잔 더 마신 후, #Person2#는 그 금발 여자에게 말을 걸기로 결정한다.\n",
      "\n",
      "ROUGE-1 Score: 0.14634145848899482\n",
      "ROUGE-2 Score: 0.04651162303948131\n",
      "ROUGE-L Score: 0.14634145848899482\n",
      "Combined ROUGE Score: 11.306484667249032\n",
      "\n",
      "====================================================================================================\n"
     ]
    },
    {
     "name": "stderr",
     "output_type": "stream",
     "text": [
      " 18%|█▊        | 89/499 [01:21<05:59,  1.14it/s]"
     ]
    },
    {
     "name": "stdout",
     "output_type": "stream",
     "text": [
      "==88==\n",
      "Pred Summary: #Person1#은 #Person2#가 경매에서 구리 부처상을 얻었는지 궁금해하지만, #Person2#는 처음에는 대답을 거부합니다.\n",
      "\n",
      "Gold Summary: #Person1#은 매너 없게 메리에게 경매 결과를 물어보아 메리가 대답하고 싶지 않다.\n",
      "\n",
      "ROUGE-1 Score: 0.09090908590909119\n",
      "ROUGE-2 Score: 0.0\n",
      "ROUGE-L Score: 0.09090908590909119\n",
      "Combined ROUGE Score: 6.060605727272747\n",
      "\n",
      "====================================================================================================\n"
     ]
    },
    {
     "name": "stderr",
     "output_type": "stream",
     "text": [
      " 18%|█▊        | 90/499 [01:22<06:11,  1.10it/s]"
     ]
    },
    {
     "name": "stdout",
     "output_type": "stream",
     "text": [
      "==89==\n",
      "Pred Summary: #Person1#은 어제 밤에 잘 잤지만, 교통 체증과 수업 부담에 대한 걱정이 있다. #Person2#는 깊게 숨을 쉬어 스트레스를 관리하고, 할 수 있는 것보다 더 많은 일을 맡지 말라고 조언한다.\n",
      "\n",
      "Gold Summary: 개이브는 어제 밤 잘 잤지만 교통 체증과 가르칠 수업에 대해 걱정하고 있습니다. #Person2#는 개이브의 주말 계획을 묻고, 개이브가 화가 날 때 조언을 해줍니다.\n",
      "\n",
      "ROUGE-1 Score: 0.19607842642060758\n",
      "ROUGE-2 Score: 0.04081632158267449\n",
      "ROUGE-L Score: 0.19607842642060758\n",
      "Combined ROUGE Score: 14.432439147462986\n",
      "\n",
      "====================================================================================================\n"
     ]
    },
    {
     "name": "stderr",
     "output_type": "stream",
     "text": [
      " 18%|█▊        | 91/499 [01:23<06:19,  1.08it/s]"
     ]
    },
    {
     "name": "stdout",
     "output_type": "stream",
     "text": [
      "==90==\n",
      "Pred Summary: #Person1#과 #Person2#는 선생님이 마이라를 부정행위하는 것을 전체 반 앞에서 비난한 것에 대해 의견이 다릅니다. #Person1#은 선생님이 개인적으로 말했어야 한다고 생각하고, #Person2#는 선생님이 농담으로 말한 것이라고 생각합니다.\n",
      "\n",
      "Gold Summary: #Person1#과 #Person2# 모두 선생님이 마이라를 부정행위하는 것을 봤다면, 그것을 마이라에게 개인적으로 말했어야 했다고 생각합니다.\n",
      "\n",
      "ROUGE-1 Score: 0.43243242772826884\n",
      "ROUGE-2 Score: 0.21621621165814472\n",
      "ROUGE-L Score: 0.43243242772826884\n",
      "Combined ROUGE Score: 36.03603557048942\n",
      "\n",
      "====================================================================================================\n"
     ]
    },
    {
     "name": "stderr",
     "output_type": "stream",
     "text": [
      " 18%|█▊        | 92/499 [01:24<06:00,  1.13it/s]"
     ]
    },
    {
     "name": "stdout",
     "output_type": "stream",
     "text": [
      "==91==\n",
      "Pred Summary: #Person1#은 LA로 떠나기 전에 수지를 돌볼 신뢰할 수 있는 베이비시터를 찾고 있습니다. #Person2#는 사라 랄스턴을 추천하고, 그녀의 번호를 찾아보기로 합니다.\n",
      "\n",
      "Gold Summary: #Person1#은 카렌에게 도움을 청해 2~3일 동안 돌봐줄 성숙한 베이비시터를 찾는다. #Person1#은 병원에 입원한 시어머니를 보러 LA로 가야 하고, 감기에 걸린 수지를 집에 두어야 하기 때문이다. 카렌은 성숙하고 책임감 있는 사라를 추천하고, 그녀에게 연락할 것이다.\n",
      "\n",
      "ROUGE-1 Score: 0.22641508964044152\n",
      "ROUGE-2 Score: 0.0\n",
      "ROUGE-L Score: 0.22641508964044152\n",
      "Combined ROUGE Score: 15.094339309362766\n",
      "\n",
      "====================================================================================================\n"
     ]
    },
    {
     "name": "stderr",
     "output_type": "stream",
     "text": [
      " 19%|█▊        | 93/499 [01:25<05:51,  1.15it/s]"
     ]
    },
    {
     "name": "stdout",
     "output_type": "stream",
     "text": [
      "==92==\n",
      "Pred Summary: 사브리아의 여동생은 아프리카에서 자원 봉사 교사로 일하고 있으며, 2주 동안 연락이 없습니다. 제이슨은 우편이 느릴 수 있다고 안심시키며, 문제가 있다면 누군가가 사브리아에게 연락했을 것이라고 말합니다.\n",
      "\n",
      "Gold Summary: Sabrina는 2주 동안 여동생으로부터 연락이 없어서 걱정하고 있습니다. #Person1#은 그녀를 위로합니다.\n",
      "\n",
      "ROUGE-1 Score: 0.16666666242283962\n",
      "ROUGE-2 Score: 0.05882352525951587\n",
      "ROUGE-L Score: 0.16666666242283962\n",
      "Combined ROUGE Score: 13.071895003506503\n",
      "\n",
      "====================================================================================================\n"
     ]
    },
    {
     "name": "stderr",
     "output_type": "stream",
     "text": [
      " 19%|█▉        | 94/499 [01:26<05:43,  1.18it/s]"
     ]
    },
    {
     "name": "stdout",
     "output_type": "stream",
     "text": [
      "==93==\n",
      "Pred Summary: #Person1#은 아픈 증상을 겪고 있으며, 일을 빠질 수 없어 강한 약을 찾고 있다. #Person2#는 휴식을 취하고 3일 후에도 증상이 계속되면 의사를 찾아가라고 조언한다.\n",
      "\n",
      "Gold Summary: #Person1#은 중요한 날들을 버틸 수 있게 해줄 강한 약을 #Person2#에게 요청합니다. #Person2#는 동의하지만 여전히 #Person1#에게 의사에게 가 보라고 제안합니다.\n",
      "\n",
      "ROUGE-1 Score: 0.23809523314058967\n",
      "ROUGE-2 Score: 0.04999999505000049\n",
      "ROUGE-L Score: 0.23809523314058967\n",
      "Combined ROUGE Score: 17.53968204437266\n",
      "\n",
      "====================================================================================================\n"
     ]
    },
    {
     "name": "stderr",
     "output_type": "stream",
     "text": [
      " 19%|█▉        | 95/499 [01:27<05:27,  1.23it/s]"
     ]
    },
    {
     "name": "stdout",
     "output_type": "stream",
     "text": [
      "==94==\n",
      "Pred Summary: #Person1#은 웨스트민스터 시에서 오전 9시에 친구를 만나기로 했고, #Person2#는 #Person1#을 공원으로 데려다주기로 했다.\n",
      "\n",
      "Gold Summary: #Person2#가 #Person1#을 친구를 만나러 가는 길에 태워줄 것입니다.\n",
      "\n",
      "ROUGE-1 Score: 0.19047618575963732\n",
      "ROUGE-2 Score: 0.0\n",
      "ROUGE-L Score: 0.0952380905215422\n",
      "Combined ROUGE Score: 9.52380920937265\n",
      "\n",
      "====================================================================================================\n"
     ]
    },
    {
     "name": "stderr",
     "output_type": "stream",
     "text": [
      " 19%|█▉        | 96/499 [01:27<05:05,  1.32it/s]"
     ]
    },
    {
     "name": "stdout",
     "output_type": "stream",
     "text": [
      "==95==\n",
      "Pred Summary: #Person2#는 인도에서 영어를 사용하여 의사소통을 했지만, 빵집에서 돈과 빵의 단어가 비슷해서 어색한 상황이 있었습니다.\n",
      "\n",
      "Gold Summary: #Person2#가 #Person1#에게 인도 여행 중 언어 혼동에 대한 재미있는 경험을 이야기한다.\n",
      "\n",
      "ROUGE-1 Score: 0.0\n",
      "ROUGE-2 Score: 0.0\n",
      "ROUGE-L Score: 0.0\n",
      "Combined ROUGE Score: 0.0\n",
      "\n",
      "====================================================================================================\n"
     ]
    },
    {
     "name": "stderr",
     "output_type": "stream",
     "text": [
      " 19%|█▉        | 97/499 [01:28<04:44,  1.41it/s]"
     ]
    },
    {
     "name": "stdout",
     "output_type": "stream",
     "text": [
      "==96==\n",
      "Pred Summary: #Person2#는 수요일에 매니저와 인터뷰가 있으며, #Person1#과 가까운 건물에서 진행될 예정입니다.\n",
      "\n",
      "Gold Summary: #Person2#는 수요일에 인터뷰 일정이 있고, 그것에 대해 #Person1#에게 커피를 마시면서 이야기할 예정입니다.\n",
      "\n",
      "ROUGE-1 Score: 0.27272726776859507\n",
      "ROUGE-2 Score: 0.09999999505000023\n",
      "ROUGE-L Score: 0.27272726776859507\n",
      "Combined ROUGE Score: 21.51515101957301\n",
      "\n",
      "====================================================================================================\n"
     ]
    },
    {
     "name": "stderr",
     "output_type": "stream",
     "text": [
      " 20%|█▉        | 98/499 [01:29<05:25,  1.23it/s]"
     ]
    },
    {
     "name": "stdout",
     "output_type": "stream",
     "text": [
      "==97==\n",
      "Pred Summary: #Person1#은 마라톤을 뛰고 싶어하며 #Person2#에게 조언을 구한다. #Person2#는 천천히 시작하고, 1마일을 달릴 수 있는지 확인한 다음 거리를 늘리라고 제안한다. 또한, 밖에서 달리거나 체육관에서 러닝머신으로 달리는 것 중 선호하는 방법을 선택하라고 말한다.\n",
      "\n",
      "Gold Summary: #Person1#은 마라톤을 시작하고 싶어하고, #Person2#는 #Person1#에게 몇 가지 제안을 해준다.\n",
      "\n",
      "ROUGE-1 Score: 0.14634145972635346\n",
      "ROUGE-2 Score: 0.051282047731755674\n",
      "ROUGE-L Score: 0.14634145972635346\n",
      "Combined ROUGE Score: 11.465498906148753\n",
      "\n",
      "====================================================================================================\n"
     ]
    },
    {
     "name": "stderr",
     "output_type": "stream",
     "text": [
      " 20%|█▉        | 99/499 [01:30<05:23,  1.24it/s]"
     ]
    },
    {
     "name": "stdout",
     "output_type": "stream",
     "text": [
      "==98==\n",
      "Pred Summary: #Person1#은 기독교 교회에 대해 문의하고, #Person2#는 근처에 있는 교회를 알려주며, #Person1#의 연구에 도움을 주기 위해 사촌인 목사와의 만남을 주선한다.\n",
      "\n",
      "Gold Summary: #Person1#은 기독교에 대해 연구하고 싶어하고, 이제크는 목사와의 만남을 주선해줍니다.\n",
      "\n",
      "ROUGE-1 Score: 0.28571428135204086\n",
      "ROUGE-2 Score: 0.07692307266272212\n",
      "ROUGE-L Score: 0.28571428135204086\n",
      "Combined ROUGE Score: 21.61172117889346\n",
      "\n",
      "====================================================================================================\n"
     ]
    },
    {
     "name": "stderr",
     "output_type": "stream",
     "text": [
      " 20%|██        | 100/499 [01:31<07:12,  1.08s/it]"
     ]
    },
    {
     "name": "stdout",
     "output_type": "stream",
     "text": [
      "==99==\n",
      "Pred Summary: #Person1#과 #Person2#는 방에 대한 규칙에 대해 이야기하고 있다. #Person2#는 고양이가 계단을 올라가지 못하게 하고, 침실에서 담배를 피우지 않으며, 벽에 사진을 붙이지 않기를 원한다. #Person1#은 이러한 규칙에 동의하며, 작은 못을 사용할 수 있는지 묻는다. #Person2#는 또한 창문을 닫고 주전자를 바닥에 놓을 것을 요청한다.\n",
      "\n",
      "Gold Summary: #Person2#는 #Person1#이 방에서 생활할 때 주의해야 할 몇 가지 사항을 알려줍니다.\n",
      "\n",
      "ROUGE-1 Score: 0.039999996568000296\n",
      "ROUGE-2 Score: 0.0\n",
      "ROUGE-L Score: 0.039999996568000296\n",
      "Combined ROUGE Score: 2.6666664378666867\n",
      "\n",
      "====================================================================================================\n"
     ]
    },
    {
     "name": "stderr",
     "output_type": "stream",
     "text": [
      " 20%|██        | 101/499 [01:33<07:19,  1.10s/it]"
     ]
    },
    {
     "name": "stdout",
     "output_type": "stream",
     "text": [
      "==100==\n",
      "Pred Summary: #Person1#은 #Person2#에게 보도에 주차한 것에 대해 티켓을 발부한다. #Person2#는 표지판을 보지 못했다고 주장하지만, #Person1#은 거리 모퉁이에 표지판이 있었다고 말한다. #Person2#는 14일 이내에 법원에 항소할 수 있으며, 잘못이 없음을 증명하면 벌금을 내지 않아도 된다.\n",
      "\n",
      "Gold Summary: #Person2#는 표지판을 보지 못하고 주차 금지 구역에 주차했으므로, #Person1#는 #Person2#에게 티켓을 발급했습니다.\n",
      "\n",
      "ROUGE-1 Score: 0.2325581355110871\n",
      "ROUGE-2 Score: 0.09302325200649016\n",
      "ROUGE-L Score: 0.2325581355110871\n",
      "Combined ROUGE Score: 18.604650767622143\n",
      "\n",
      "====================================================================================================\n"
     ]
    },
    {
     "name": "stderr",
     "output_type": "stream",
     "text": [
      " 20%|██        | 102/499 [01:34<07:38,  1.15s/it]"
     ]
    },
    {
     "name": "stdout",
     "output_type": "stream",
     "text": [
      "==101==\n",
      "Pred Summary: #Person1#은 #Person2#에게 당나라 스타일의 중국 드레스를 입어보고 싶다고 요청한다. #Person2#는 피팅룸을 안내하고, #Person1#은 허리 부분이 꽉 끼는 것을 발견한다. #Person2#는 녹색 드레스를 제안하고, #Person1#은 동의한다. 녹색 드레스의 가격은 486 위안이다.\n",
      "\n",
      "Gold Summary: #Person1#은 상점에서 조금 꽉 느껴지는 중국 드레스를 입어보고 #Person2#의 도움으로 하나를 구입합니다.\n",
      "\n",
      "ROUGE-1 Score: 0.2702702658875092\n",
      "ROUGE-2 Score: 0.09999999601250016\n",
      "ROUGE-L Score: 0.2702702658875092\n",
      "Combined ROUGE Score: 21.351350926250614\n",
      "\n",
      "====================================================================================================\n"
     ]
    },
    {
     "name": "stderr",
     "output_type": "stream",
     "text": [
      " 21%|██        | 103/499 [01:35<06:52,  1.04s/it]"
     ]
    },
    {
     "name": "stdout",
     "output_type": "stream",
     "text": [
      "==102==\n",
      "Pred Summary: #Person1#은 노트북을 가지고 인터넷에 접속하려고 합니다. #Person2#는 객실에서 인터넷 사용이 불가능하지만, 호텔의 12층에 위치한 웹 바를 이용할 수 있다고 알려줍니다.\n",
      "\n",
      "Gold Summary: #Person2#가 #Person1#에게 인터넷을 사용할 수 있는 장소를 알려줍니다.\n",
      "\n",
      "ROUGE-1 Score: 0.14285713877551035\n",
      "ROUGE-2 Score: 0.0\n",
      "ROUGE-L Score: 0.14285713877551035\n",
      "Combined ROUGE Score: 9.523809251700689\n",
      "\n",
      "====================================================================================================\n"
     ]
    },
    {
     "name": "stderr",
     "output_type": "stream",
     "text": [
      " 21%|██        | 104/499 [01:35<05:57,  1.11it/s]"
     ]
    },
    {
     "name": "stdout",
     "output_type": "stream",
     "text": [
      "==103==\n",
      "Pred Summary: #Person1#은 #Person2#로부터 1500위안에 디지털 카메라를 구매하기로 결정했다.\n",
      "\n",
      "Gold Summary: #Person1#은 #Person2#의 도움으로 카메라를 구입했습니다.\n",
      "\n",
      "ROUGE-1 Score: 0.33333332847222225\n",
      "ROUGE-2 Score: 0.0\n",
      "ROUGE-L Score: 0.33333332847222225\n",
      "Combined ROUGE Score: 22.22222189814815\n",
      "\n",
      "====================================================================================================\n"
     ]
    },
    {
     "name": "stderr",
     "output_type": "stream",
     "text": [
      " 21%|██        | 105/499 [01:36<05:34,  1.18it/s]"
     ]
    },
    {
     "name": "stdout",
     "output_type": "stream",
     "text": [
      "==104==\n",
      "Pred Summary: #Person1#과 #Person2#는 식당에서 운 좋게 2인석을 얻었다. 그들은 삼모사, 달, 양고기 케밥을 주문하고 맥주를 마시기로 결정했다.\n",
      "\n",
      "Gold Summary: #Person1#과 #Person2#는 인기있는 레스토랑에서 무엇을 먹을지 논의하고 있으며, 점원이 다시 돌아올 때까지 주문하기로 결정했습니다.\n",
      "\n",
      "ROUGE-1 Score: 0.13333332835555575\n",
      "ROUGE-2 Score: 0.071428566454082\n",
      "ROUGE-L Score: 0.13333332835555575\n",
      "Combined ROUGE Score: 11.269840772173117\n",
      "\n",
      "====================================================================================================\n"
     ]
    },
    {
     "name": "stderr",
     "output_type": "stream",
     "text": [
      " 21%|██        | 106/499 [01:37<05:23,  1.22it/s]"
     ]
    },
    {
     "name": "stdout",
     "output_type": "stream",
     "text": [
      "==105==\n",
      "Pred Summary: #Person2#는 린다와의 데이트에 나갔지만, 린다에게 바람맞았다. #Person1#은 #Person2#에게 린다에게 다시 연락해보라고 조언했다.\n",
      "\n",
      "Gold Summary: #Person1#은 린다에게 바람맞은 #Person2#에게 다시 데이트를 신청하라고 조언한다.\n",
      "\n",
      "ROUGE-1 Score: 0.42105262670360116\n",
      "ROUGE-2 Score: 0.0\n",
      "ROUGE-L Score: 0.42105262670360116\n",
      "Combined ROUGE Score: 28.07017511357341\n",
      "\n",
      "====================================================================================================\n"
     ]
    },
    {
     "name": "stderr",
     "output_type": "stream",
     "text": [
      " 21%|██▏       | 107/499 [01:37<05:00,  1.30it/s]"
     ]
    },
    {
     "name": "stdout",
     "output_type": "stream",
     "text": [
      "==106==\n",
      "Pred Summary: #Person1#은 치킨이 이상하다고 생각하고, #Person2#는 그것을 치우고 스테이크를 미디엄으로 주문한다.\n",
      "\n",
      "Gold Summary: #Person1#은 주문한 치킨에 대해 #Person2#에게 불평하고 스테이크로 바꾸고 싶어합니다.\n",
      "\n",
      "ROUGE-1 Score: 0.1052631529085875\n",
      "ROUGE-2 Score: 0.0\n",
      "ROUGE-L Score: 0.1052631529085875\n",
      "Combined ROUGE Score: 7.017543527239166\n",
      "\n",
      "====================================================================================================\n"
     ]
    },
    {
     "name": "stderr",
     "output_type": "stream",
     "text": [
      " 22%|██▏       | 108/499 [01:38<05:02,  1.29it/s]"
     ]
    },
    {
     "name": "stdout",
     "output_type": "stream",
     "text": [
      "==107==\n",
      "Pred Summary: #Person1#과 #Person2#는 17번가에 새로 생긴 바에 가기로 결정했다. 그들은 9시에 만나서 예약을 할 것이다. 입장료는 없고, 복장 규정은 캐주얼하다.\n",
      "\n",
      "Gold Summary: #Person1#은 #Person2#를 바에 초대합니다. #Person2#는 자리, 입장료, 복장 규정에 대해 걱정합니다. #Person1#은 #Person2#에게 설명합니다.\n",
      "\n",
      "ROUGE-1 Score: 0.18749999517578136\n",
      "ROUGE-2 Score: 0.0\n",
      "ROUGE-L Score: 0.18749999517578136\n",
      "Combined ROUGE Score: 12.499999678385425\n",
      "\n",
      "====================================================================================================\n"
     ]
    },
    {
     "name": "stderr",
     "output_type": "stream",
     "text": [
      " 22%|██▏       | 109/499 [01:39<06:07,  1.06it/s]"
     ]
    },
    {
     "name": "stdout",
     "output_type": "stream",
     "text": [
      "==108==\n",
      "Pred Summary: #Person1#은 #Person2#에게 ABC 렌트카에서 다양한 차량을 제공하며, 요금은 폭스바겐, 핀토, 닷선이 하루에 20달러이고 플리머스는 27달러입니다. 마일리지는 별도로 청구되지 않지만, 가스는 포함되지 않으므로 가득 채워서 반납해야 합니다. #Person2#는 핀토를 1주일 동안 렌트하기로 결정하고 운전 면허증을 제시합니다.\n",
      "\n",
      "Gold Summary: #Person2#는 #Person1#에게 차량 렌트에 대한 정보를 묻고, 그 후에 차량을 렌트합니다.\n",
      "\n",
      "ROUGE-1 Score: 0.08695651810018919\n",
      "ROUGE-2 Score: 0.0\n",
      "ROUGE-L Score: 0.08695651810018919\n",
      "Combined ROUGE Score: 5.797101206679279\n",
      "\n",
      "====================================================================================================\n"
     ]
    },
    {
     "name": "stderr",
     "output_type": "stream",
     "text": [
      " 22%|██▏       | 110/499 [01:40<05:36,  1.16it/s]"
     ]
    },
    {
     "name": "stdout",
     "output_type": "stream",
     "text": [
      "==109==\n",
      "Pred Summary: #Person1#과 #Person2#는 로마인들이 일상 생활에서 어떻게 행동하는지에 대해 이야기하고 있습니다. 그들은 로마인들이 삶을 사랑하고 좋은 식사를 좋아한다는 것에 동의합니다.\n",
      "\n",
      "Gold Summary: #Person1#과 #Person2#는 로마인의 생활 스타일과 맛있는 음식에 대해 이야기합니다.\n",
      "\n",
      "ROUGE-1 Score: 0.22222221777777784\n",
      "ROUGE-2 Score: 0.07692307266272212\n",
      "ROUGE-L Score: 0.22222221777777784\n",
      "Combined ROUGE Score: 17.37891694060926\n",
      "\n",
      "====================================================================================================\n"
     ]
    },
    {
     "name": "stderr",
     "output_type": "stream",
     "text": [
      " 22%|██▏       | 111/499 [01:41<05:19,  1.22it/s]"
     ]
    },
    {
     "name": "stdout",
     "output_type": "stream",
     "text": [
      "==110==\n",
      "Pred Summary: #Person1#은 #Person2#가 힘들어 보여서 걱정하고 있다. #Person2#는 시험에 대해 준비가 안 됐다고 말하며 학교를 그만두려고 생각 중이라고 한다.\n",
      "\n",
      "Gold Summary: 제니는 시험에서 잘 못했고 학교를 그만두려고 생각하고 있다. 샐리는 제니를 위로한다.\n",
      "\n",
      "ROUGE-1 Score: 0.2068965470154579\n",
      "ROUGE-2 Score: 0.0740740694101512\n",
      "ROUGE-L Score: 0.2068965470154579\n",
      "Combined ROUGE Score: 16.2622387813689\n",
      "\n",
      "====================================================================================================\n"
     ]
    },
    {
     "name": "stderr",
     "output_type": "stream",
     "text": [
      " 22%|██▏       | 112/499 [01:42<05:35,  1.15it/s]"
     ]
    },
    {
     "name": "stdout",
     "output_type": "stream",
     "text": [
      "==111==\n",
      "Pred Summary: #Person1#과 #Person2#는 세상이 매년 나아지고 있는지에 대해 의견이 분분하다. #Person2#는 과학, 산업, 의학이 우리를 더 부유하고 건강하며 현명하게 만들고 있다고 주장하지만, #Person1#은 우리 모두가 이전보다 더 불행하다고 생각한다.\n",
      "\n",
      "Gold Summary: #Person2#는 사람들이 지금 더 건강하고, 부유하며, 현명하다고 믿는 반면, #Person1#는 그렇지 않다고 생각합니다.\n",
      "\n",
      "ROUGE-1 Score: 0.10256409811965832\n",
      "ROUGE-2 Score: 0.0\n",
      "ROUGE-L Score: 0.10256409811965832\n",
      "Combined ROUGE Score: 6.837606541310555\n",
      "\n",
      "====================================================================================================\n"
     ]
    },
    {
     "name": "stderr",
     "output_type": "stream",
     "text": [
      " 23%|██▎       | 113/499 [01:43<06:04,  1.06it/s]"
     ]
    },
    {
     "name": "stdout",
     "output_type": "stream",
     "text": [
      "==112==\n",
      "Pred Summary: #Person1#은 수강 신청을 놓쳐서 걱정하고 있다. #Person2#는 큰 수업이나 사회학 수업을 추천한다. #Person2#는 또한 #Person1#이 철학 수업에 대해 교수님을 찾아가서 추가될 수 있는 가능성을 언급한다.\n",
      "\n",
      "Gold Summary: #Person1#은 수업 등록을 잊어버렸으므로, #Person1#은 마이크에게 조언을 구한다. 마이크는 #Person1#에게 심리학, 사회학, 철학 수업을 듣는 것을 추천한다. #Person1#은 마이크에게 고마워 한다.\n",
      "\n",
      "ROUGE-1 Score: 0.19047618557823143\n",
      "ROUGE-2 Score: 0.0\n",
      "ROUGE-L Score: 0.19047618557823143\n",
      "Combined ROUGE Score: 12.698412371882096\n",
      "\n",
      "====================================================================================================\n"
     ]
    },
    {
     "name": "stderr",
     "output_type": "stream",
     "text": [
      " 23%|██▎       | 114/499 [01:44<06:31,  1.02s/it]"
     ]
    },
    {
     "name": "stdout",
     "output_type": "stream",
     "text": [
      "==113==\n",
      "Pred Summary: #Person1#과 #Person2#는 #Person2#가 앤과 싸웠던 일에 대해 이야기했다. #Person2#는 앤이 남자친구와의 계획을 우선시하여 해변 여행 계획을 취소한 것에 화가 났다. #Person1#은 #Person2#에게 상황을 이해하고 친구사이를 망치지 않도록 조언했다. #Person2#는 나중에 앤에게 사과할 계획이다.\n",
      "\n",
      "Gold Summary: 메리는 앤과의 약속을 남자친구 때문에 지키지 않은 앤과 싸웠다. #Person1#은 메리를 위로한다. 메리는 앤에게 전화해서 화해하기로 결정했다.\n",
      "\n",
      "ROUGE-1 Score: 0.13043477807183385\n",
      "ROUGE-2 Score: 0.0\n",
      "ROUGE-L Score: 0.13043477807183385\n",
      "Combined ROUGE Score: 8.69565187145559\n",
      "\n",
      "====================================================================================================\n"
     ]
    },
    {
     "name": "stderr",
     "output_type": "stream",
     "text": [
      " 23%|██▎       | 115/499 [01:45<06:45,  1.06s/it]"
     ]
    },
    {
     "name": "stdout",
     "output_type": "stream",
     "text": [
      "==114==\n",
      "Pred Summary: #Person1#과 #Person2#는 오랜만에 만나서 서로의 안부를 물었다. #Person2#는 싱가포르에서 자연어 처리를 공부하고 돌아왔다고 말했다. #Person1#은 시험공부를 하고 있다고 언급했다. 그들은 서로의 부모님의 안부를 물었고, #Person2#는 논문과 세미나에 참석하러 가고, #Person1#은 지도교수님 만나러 가야 했다.\n",
      "\n",
      "Gold Summary: 닐과 #Person1#은 오랜만에 만났다. 닐은 해외에서 공부를 하였고 #Person1#은 시험공부를 하였다. 닐은 공부하러 가고 #Person1#은 지도교수님을 만나러 가려고 한다.\n",
      "\n",
      "ROUGE-1 Score: 0.17777777319506186\n",
      "ROUGE-2 Score: 0.039215681707036286\n",
      "ROUGE-L Score: 0.17777777319506186\n",
      "Combined ROUGE Score: 13.159040936572\n",
      "\n",
      "====================================================================================================\n"
     ]
    },
    {
     "name": "stderr",
     "output_type": "stream",
     "text": [
      " 23%|██▎       | 116/499 [01:46<06:07,  1.04it/s]"
     ]
    },
    {
     "name": "stdout",
     "output_type": "stream",
     "text": [
      "==115==\n",
      "Pred Summary: #Person1#은 아내가 출산을 위해 병원에 가야 해서 휴가를 요청하고, #Person2#는 매니저와 이야기하고 고객의 회의가 끝난 후에 휴가를 전달하겠다고 제안합니다.\n",
      "\n",
      "Gold Summary: #Person1#은 아내가 병원에 있기 때문에 휴가를 청구해야 합니다. 수잔은 #Person1#의 휴가를 매니저에게 전달할 것입니다.\n",
      "\n",
      "ROUGE-1 Score: 0.2580645112591052\n",
      "ROUGE-2 Score: 0.06451612416233128\n",
      "ROUGE-L Score: 0.2580645112591052\n",
      "Combined ROUGE Score: 19.35483822268472\n",
      "\n",
      "====================================================================================================\n"
     ]
    },
    {
     "name": "stderr",
     "output_type": "stream",
     "text": [
      " 23%|██▎       | 117/499 [01:47<06:10,  1.03it/s]"
     ]
    },
    {
     "name": "stdout",
     "output_type": "stream",
     "text": [
      "==116==\n",
      "Pred Summary: #Person1#은 부엌에서 사용할 큰 팬을 찾고 있다. #Person2#는 여러 가지 옵션을 제안하고, 결국 #Person1#은 알루미늄 팬과 내열 핸들을 선택한다. #Person1#은 현금으로 결제하고 팬에 맞는 뚜껑을 요청한다.\n",
      "\n",
      "Gold Summary: #Person1#은 팬을 사고 싶어하고, #Person2#의 도움으로 만족스러운 팬을 선택했습니다.\n",
      "\n",
      "ROUGE-1 Score: 0.12499999625000012\n",
      "ROUGE-2 Score: 0.0\n",
      "ROUGE-L Score: 0.12499999625000012\n",
      "Combined ROUGE Score: 8.333333083333342\n",
      "\n",
      "====================================================================================================\n"
     ]
    },
    {
     "name": "stderr",
     "output_type": "stream",
     "text": [
      " 24%|██▎       | 118/499 [01:48<06:08,  1.04it/s]"
     ]
    },
    {
     "name": "stdout",
     "output_type": "stream",
     "text": [
      "==117==\n",
      "Pred Summary: 모니카는 ABC 회사의 회계사 자리에 관심이 있으며, 루시는 그 자리가 아직 비어있고 영어 능력이 필수적이라고 확인했다. 모니카는 영어에 능숙하고 해외 출장에 만족하며, 이번 주 안에 이력서를 보내기로 했다.\n",
      "\n",
      "Gold Summary: 모니카는 ABC 회사에 전화하여 회계사 자리의 유효성을 확인합니다. 루시는 직무의 요구사항을 소개하고, 모니카는 이력서를 보낼 것입니다.\n",
      "\n",
      "ROUGE-1 Score: 0.23809523350340142\n",
      "ROUGE-2 Score: 0.04761904302721133\n",
      "ROUGE-L Score: 0.19047618588435386\n",
      "Combined ROUGE Score: 15.873015413832222\n",
      "\n",
      "====================================================================================================\n"
     ]
    },
    {
     "name": "stderr",
     "output_type": "stream",
     "text": [
      " 24%|██▍       | 119/499 [01:49<05:36,  1.13it/s]"
     ]
    },
    {
     "name": "stdout",
     "output_type": "stream",
     "text": [
      "==118==\n",
      "Pred Summary: #Person2#는 남편이 심장마비를 앓고 있다고 911에 신고했다. #Person1#은 주소를 확인하고 구급차를 보냈다.\n",
      "\n",
      "Gold Summary: #Person2#가 #Person1#에게 심장마비를 앓고 있는 남편 때문에 구급차를 보내달라고 전화했습니다.\n",
      "\n",
      "ROUGE-1 Score: 0.27272726776859507\n",
      "ROUGE-2 Score: 0.09999999505000023\n",
      "ROUGE-L Score: 0.27272726776859507\n",
      "Combined ROUGE Score: 21.51515101957301\n",
      "\n",
      "====================================================================================================\n"
     ]
    },
    {
     "name": "stderr",
     "output_type": "stream",
     "text": [
      " 24%|██▍       | 120/499 [01:50<05:42,  1.11it/s]"
     ]
    },
    {
     "name": "stdout",
     "output_type": "stream",
     "text": [
      "==119==\n",
      "Pred Summary: #Person2#는 일요일을 제외하고 매일 오전 열시 삼십분, 오후 열두시 이십분 그리고 오후 세시 십분에 뉴욕행 기차를 탈 수 있습니다. 그들은 6달러에 딱딱한 좌석을 선택하고 8번 플랫폼에서 탑승할 것입니다.\n",
      "\n",
      "Gold Summary: #Person2#는 #Person1#의 도움으로 뉴욕행 편도 딱딱한 좌석 기차 표를 구매하였습니다.\n",
      "\n",
      "ROUGE-1 Score: 0.16216215821767724\n",
      "ROUGE-2 Score: 0.0\n",
      "ROUGE-L Score: 0.16216215821767724\n",
      "Combined ROUGE Score: 10.810810547845149\n",
      "\n",
      "====================================================================================================\n"
     ]
    },
    {
     "name": "stderr",
     "output_type": "stream",
     "text": [
      " 24%|██▍       | 121/499 [01:50<05:27,  1.15it/s]"
     ]
    },
    {
     "name": "stdout",
     "output_type": "stream",
     "text": [
      "==120==\n",
      "Pred Summary: #Person1#과 #Person2#는 오바마가 미국의 새로운 대통령으로 당선된 것에 대해 흥분하고 있다. 그들은 모두 그를 위해 투표했으며, 그가 긍정적인 변화를 가져올 것이라고 믿는다.\n",
      "\n",
      "Gold Summary: #Person1#과 #Person2# 모두 오바마를 위해 투표하였으며 그가 미국을 변화시킬 것이라고 믿습니다.\n",
      "\n",
      "ROUGE-1 Score: 0.3030302985858586\n",
      "ROUGE-2 Score: 0.0\n",
      "ROUGE-L Score: 0.3030302985858586\n",
      "Combined ROUGE Score: 20.20201990572391\n",
      "\n",
      "====================================================================================================\n"
     ]
    },
    {
     "name": "stderr",
     "output_type": "stream",
     "text": [
      " 24%|██▍       | 122/499 [01:52<06:28,  1.03s/it]"
     ]
    },
    {
     "name": "stdout",
     "output_type": "stream",
     "text": [
      "==121==\n",
      "Pred Summary: #Person1#은 해고당해 실업급여를 받을 수 있는지 알고 싶어한다. #Person2#는 일반적으로 해고당하거나 근무 시간이 줄어들면 실업급여를 받을 수 있다고 설명한다. 그러나 모든 직업이 실업급여를 받을 수 있는 것은 아니며, #Person1#은 실업급여 사무소에 전화해서 자신의 직업이 해당되는지 확인해야 한다. 실업급여를 받을 경우, 얼마나 벌었는지에 따라 금액이 결정되며, 서류를 제출하면 알려줄 것이다.\n",
      "\n",
      "Gold Summary: #Person1#은 실업급여에 대해 #Person2#에게 상담합니다. #Person2#는 실업급여 사무소에 전화하여 공식을 확인하라고 제안합니다.\n",
      "\n",
      "ROUGE-1 Score: 0.15686274149942336\n",
      "ROUGE-2 Score: 0.03703703379286723\n",
      "ROUGE-L Score: 0.15686274149942336\n",
      "Combined ROUGE Score: 11.69208389305713\n",
      "\n",
      "====================================================================================================\n"
     ]
    },
    {
     "name": "stderr",
     "output_type": "stream",
     "text": [
      " 25%|██▍       | 123/499 [01:53<06:11,  1.01it/s]"
     ]
    },
    {
     "name": "stdout",
     "output_type": "stream",
     "text": [
      "==122==\n",
      "Pred Summary: #Person1#과 #Person2#는 오프라 윈프리가 자선에 많은 돈을 기부하고, 아프리카에 빈곤한 여학생들을 위한 학교를 개설하려는 것에 대해 이야기하고 있다. 그들은 오프라처럼 사람들을 돕는 더 많은 연예인들이 있었으면 좋겠다고 생각한다.\n",
      "\n",
      "Gold Summary: #Person1#이 #Person2#와 함께 오프라 윈프리에 대해 이야기하며, 그들은 오프라 윈프리가 상징보다는 자선에 더 관심이 있기 때문에 그녀를 높이 평가한다.\n",
      "\n",
      "ROUGE-1 Score: 0.2666666618666667\n",
      "ROUGE-2 Score: 0.044444439644444965\n",
      "ROUGE-L Score: 0.22222221742222234\n",
      "Combined ROUGE Score: 17.7777772977778\n",
      "\n",
      "====================================================================================================\n"
     ]
    },
    {
     "name": "stderr",
     "output_type": "stream",
     "text": [
      " 25%|██▍       | 124/499 [01:54<05:57,  1.05it/s]"
     ]
    },
    {
     "name": "stdout",
     "output_type": "stream",
     "text": [
      "==123==\n",
      "Pred Summary: #Person1#은 #Person2#에게 기회를 주고, 다음 지원자를 부르며, 최종 결정에 대해 전화로 연락할 것을 약속했다. #Person2#는 감사 인사를 전하고 전화번호를 알려주었다.\n",
      "\n",
      "Gold Summary: #Person2#는 면접을 마치고 결과를 알려주기 위해 #Person1#에게 #Person2#의 전화번호를 알려줍니다.\n",
      "\n",
      "ROUGE-1 Score: 0.13333332888888905\n",
      "ROUGE-2 Score: 0.0\n",
      "ROUGE-L Score: 0.13333332888888905\n",
      "Combined ROUGE Score: 8.888888592592604\n",
      "\n",
      "====================================================================================================\n"
     ]
    },
    {
     "name": "stderr",
     "output_type": "stream",
     "text": [
      " 25%|██▌       | 125/499 [01:54<05:29,  1.13it/s]"
     ]
    },
    {
     "name": "stdout",
     "output_type": "stream",
     "text": [
      "==124==\n",
      "Pred Summary: #Person1#은 치과이며, #Person2#는 데이비드 존슨이라는 이름으로 충치가 있는 것 같아서 오후에 네 시 반에 검진을 예약했다.\n",
      "\n",
      "Gold Summary: #Person2#님이 #Person1#에게 검진 예약을 하기 위해 전화를 합니다.\n",
      "\n",
      "ROUGE-1 Score: 0.0\n",
      "ROUGE-2 Score: 0.0\n",
      "ROUGE-L Score: 0.0\n",
      "Combined ROUGE Score: 0.0\n",
      "\n",
      "====================================================================================================\n"
     ]
    },
    {
     "name": "stderr",
     "output_type": "stream",
     "text": [
      " 25%|██▌       | 126/499 [01:55<05:44,  1.08it/s]"
     ]
    },
    {
     "name": "stdout",
     "output_type": "stream",
     "text": [
      "==125==\n",
      "Pred Summary: #Person1#과 #Person2#는 #Person2#의 새 집에 대해 이야기하고 있다. 그 집은 200년 된 집이며, 큰 마당, 햇볕이 잘 드는 창문, 그리고 공원의 멋진 전망이 있다. 그러나 인테리어에는 많은 비용이 들 것이다.\n",
      "\n",
      "Gold Summary: #Person1#과 #Person2#는 #Person2#의 새 집에 대해 이야기합니다. 이 집은 오랜 역사, 큰 마당, 그리고 많은 방이 있습니다. #Person2#는 손님 방이 준비되면 #Person1#에게 놀러 오라고 초대합니다. #Person1#는 가고 싶어합니다.\n",
      "\n",
      "ROUGE-1 Score: 0.3999999950148761\n",
      "ROUGE-2 Score: 0.21428570929209198\n",
      "ROUGE-L Score: 0.3999999950148761\n",
      "Combined ROUGE Score: 33.80952331072813\n",
      "\n",
      "====================================================================================================\n"
     ]
    },
    {
     "name": "stderr",
     "output_type": "stream",
     "text": [
      " 25%|██▌       | 127/499 [01:57<06:17,  1.02s/it]"
     ]
    },
    {
     "name": "stdout",
     "output_type": "stream",
     "text": [
      "==126==\n",
      "Pred Summary: #Person1#은 #Person2#에게 하이난에 보낼 편지를 등기우편으로 보내달라고 요청한다. 편지는 무게가 초과되어 추가 요금이 발생한다. #Person2#는 우표와 영수증을 주고, #Person1#은 편지가 배달될 때까지 영수증을 보관해야 한다.\n",
      "\n",
      "Gold Summary: #Person2#는 #Person1#이 등기우편으로 하이난에 중요한 편지를 보낼 수 있도록 도와줍니다. #Person2#는 #Person1#에게 편지가 배달될 때까지 영수증을 보관하라고 요청합니다.\n",
      "\n",
      "ROUGE-1 Score: 0.4499999951125\n",
      "ROUGE-2 Score: 0.1463414585603809\n",
      "ROUGE-L Score: 0.3499999951125\n",
      "Combined ROUGE Score: 31.544714959512692\n",
      "\n",
      "====================================================================================================\n"
     ]
    },
    {
     "name": "stderr",
     "output_type": "stream",
     "text": [
      " 26%|██▌       | 128/499 [01:58<06:15,  1.01s/it]"
     ]
    },
    {
     "name": "stdout",
     "output_type": "stream",
     "text": [
      "==127==\n",
      "Pred Summary: #Person1#은 9월 배송을 요청했지만, #Person2#는 10월 중순이 가장 빠른 배송 가능 시기라고 알렸다. #Person1#은 10월 배송이 너무 늦다고 주장하며, 배송 시간을 앞당기기 위해 #Person2#에게 특별히 노력해 달라고 요청했다.\n",
      "\n",
      "Gold Summary: #Person1#은 #Person2#가 제공할 수 있는 가장 빠른 배송이 너무 늦다고 생각하고 배송 시간을 앞당기라고 요청합니다. #Person2#는 여러 구체적인 이유로 거절하지만, 결국 #Person2#는 생산자에게 연락하여 도움을 청하도록 설득됩니다.\n",
      "\n",
      "ROUGE-1 Score: 0.35294117147251064\n",
      "ROUGE-2 Score: 0.15094339122819525\n",
      "ROUGE-L Score: 0.35294117147251064\n",
      "Combined ROUGE Score: 28.560857805773885\n",
      "\n",
      "====================================================================================================\n"
     ]
    },
    {
     "name": "stderr",
     "output_type": "stream",
     "text": [
      " 26%|██▌       | 129/499 [01:58<05:59,  1.03it/s]"
     ]
    },
    {
     "name": "stdout",
     "output_type": "stream",
     "text": [
      "==128==\n",
      "Pred Summary: #Person1#과 #Person2#는 집에 대해 긍정적인 인상을 가지고 있다. 그들은 페인트 작업, 창문 처리, 그리고 부엌의 와인 보관 공간을 좋아한다. 그들은 또한 침실과 연결된 욕실을 좋아하며, 사진을 찍어 기억하기로 결정했다.\n",
      "\n",
      "Gold Summary: #Person1#와 #Person2#가 집을 보러 왔고, 둘 다 이 집에 대해 좋은 인상을 가지고 있습니다.\n",
      "\n",
      "ROUGE-1 Score: 0.19047618603174613\n",
      "ROUGE-2 Score: 0.09756097127900079\n",
      "ROUGE-L Score: 0.19047618603174613\n",
      "Combined ROUGE Score: 15.950444778083103\n",
      "\n",
      "====================================================================================================\n"
     ]
    },
    {
     "name": "stderr",
     "output_type": "stream",
     "text": [
      " 26%|██▌       | 130/499 [01:59<05:23,  1.14it/s]"
     ]
    },
    {
     "name": "stdout",
     "output_type": "stream",
     "text": [
      "==129==\n",
      "Pred Summary: #Person2#는 다양한 종류의 음악을 즐기며, 특히 록과 R&B를 좋아합니다. 그들은 다양한 악기를 사용하는 것이 이러한 장르를 좋아하는 이유 중 하나입니다.\n",
      "\n",
      "Gold Summary: #Person1#은 #Person2#에게 가장 좋아하는 음악 장르와 그것을 사랑하는 이유를 물어봅니다.\n",
      "\n",
      "ROUGE-1 Score: 0.06896551272294917\n",
      "ROUGE-2 Score: 0.0\n",
      "ROUGE-L Score: 0.06896551272294917\n",
      "Combined ROUGE Score: 4.597700848196611\n",
      "\n",
      "====================================================================================================\n"
     ]
    },
    {
     "name": "stderr",
     "output_type": "stream",
     "text": [
      " 26%|██▋       | 131/499 [02:01<07:14,  1.18s/it]"
     ]
    },
    {
     "name": "stdout",
     "output_type": "stream",
     "text": [
      "==130==\n",
      "Pred Summary: #Person2#는 금목걸이가 도난당했다고 신고했다. #Person1#은 하우스메이드가 가져갔을 수도 있다고 생각하지만, 호텔의 안전 상자에 보관해야 했다는 점을 상기시킨다. #Person2#는 총괄 관리자와 이야기하길 원하지만, 총괄 관리자는 도시 밖에 있다.\n",
      "\n",
      "Gold Summary: #Person2#는 그녀의 목걸이가 도난당했다고 주장합니다. #Person1#는 #Person2#에게 몇 가지 세부 사항을 묻습니다. #Person1#는 하우스메이드 한 명을 보내서 다시 한번 꼼꼼히 찾아보는 것을 제안합니다. 그녀가 찾지 못한다면, 그들은 사건을 경찰에 넘길 것이지만, 호텔은 #Person2#의 손실에 대해 책임지지 않을 것입니다. #Person2#는 답변에 만족하지 않고 총괄 관리자와 이야기하고 싶어합니다. #Person1#는 거절합니다.\n",
      "\n",
      "ROUGE-1 Score: 0.11428570969387775\n",
      "ROUGE-2 Score: 0.02739725568774706\n",
      "ROUGE-L Score: 0.11428570969387775\n",
      "Combined ROUGE Score: 8.53228916918342\n",
      "\n",
      "====================================================================================================\n"
     ]
    },
    {
     "name": "stderr",
     "output_type": "stream",
     "text": [
      " 26%|██▋       | 132/499 [02:02<06:19,  1.03s/it]"
     ]
    },
    {
     "name": "stdout",
     "output_type": "stream",
     "text": [
      "==131==\n",
      "Pred Summary: #Person2#는 심한 치통을 겪고 있으며, 사랑니를 뽑아야 할 수도 있다. 또한 앞니에 작은 충치가 있어 충전이 필요하다.\n",
      "\n",
      "Gold Summary: #Person2#는 심한 치통을 겪고 있습니다. #Person1#은 #Person2#의 이를 확인하고 사랑니를 뽑는 것을 제안합니다.\n",
      "\n",
      "ROUGE-1 Score: 0.3333333284222223\n",
      "ROUGE-2 Score: 0.2142857093877552\n",
      "ROUGE-L Score: 0.3333333284222223\n",
      "Combined ROUGE Score: 29.36507887440666\n",
      "\n",
      "====================================================================================================\n"
     ]
    },
    {
     "name": "stderr",
     "output_type": "stream",
     "text": [
      " 27%|██▋       | 133/499 [02:02<05:54,  1.03it/s]"
     ]
    },
    {
     "name": "stdout",
     "output_type": "stream",
     "text": [
      "==132==\n",
      "Pred Summary: 피터 윌슨은 그린피스에서 일하는 행동 조직자로서, 핵 반대 캠페인에 참여하고 있습니다. 그들은 핵 폐기물 드럼통을 바다에 버리는 배를 괴롭히며, 비폭력적인 방법으로 변화를 시도합니다.\n",
      "\n",
      "Gold Summary: #Person1#은 그린피스 조직의 행동 조직자인 피터 윌슨을 인터뷰합니다. #Person1#은 피터에게 그린피스가 무엇인지 그리고 그들이 어떤 일을 하는지 청중에게 소개해 달라고 요청합니다. 피터는 또한 핵 반대 캠페인에 대한 자세한 내용도 소개합니다.\n",
      "\n",
      "ROUGE-1 Score: 0.1960784264667437\n",
      "ROUGE-2 Score: 0.07843136764321446\n",
      "ROUGE-L Score: 0.1568627401922339\n",
      "Combined ROUGE Score: 14.379084476739735\n",
      "\n",
      "====================================================================================================\n"
     ]
    },
    {
     "name": "stderr",
     "output_type": "stream",
     "text": [
      " 27%|██▋       | 134/499 [02:03<05:29,  1.11it/s]"
     ]
    },
    {
     "name": "stdout",
     "output_type": "stream",
     "text": [
      "==133==\n",
      "Pred Summary: #Person1#은 얼음 위에서 넘어진 후로 손이 아프다. #Person2#는 멍이나 파랗게 변한 게 없으므로 몇 일 동안 쉬어야 할지도 모른다고 제안한다.\n",
      "\n",
      "Gold Summary: #Person1#의 손이 아프고, #Person2#는 #Person1#에게 휴식을 권장합니다.\n",
      "\n",
      "ROUGE-1 Score: 0.14814814430727036\n",
      "ROUGE-2 Score: 0.0\n",
      "ROUGE-L Score: 0.14814814430727036\n",
      "Combined ROUGE Score: 9.876542953818024\n",
      "\n",
      "====================================================================================================\n"
     ]
    },
    {
     "name": "stderr",
     "output_type": "stream",
     "text": [
      " 27%|██▋       | 135/499 [02:04<04:56,  1.23it/s]"
     ]
    },
    {
     "name": "stdout",
     "output_type": "stream",
     "text": [
      "==134==\n",
      "Pred Summary: #Person2#는 소형 차를 하루 동안 빌리고 보험을 추가하기로 결정했다. 그들은 국제 운전 면허증을 제공하고 양식을 작성할 것이다.\n",
      "\n",
      "Gold Summary: #Person2#는 전액 보상보험을 포함한 소형 차를 렌트합니다. #Person1#는 #Person2#에게 운전 면허증을 보여달라고 요청합니다.\n",
      "\n",
      "ROUGE-1 Score: 0.3333333284222223\n",
      "ROUGE-2 Score: 0.14285713795918387\n",
      "ROUGE-L Score: 0.3333333284222223\n",
      "Combined ROUGE Score: 26.98412649345428\n",
      "\n",
      "====================================================================================================\n"
     ]
    },
    {
     "name": "stderr",
     "output_type": "stream",
     "text": [
      " 27%|██▋       | 136/499 [02:05<05:21,  1.13it/s]"
     ]
    },
    {
     "name": "stdout",
     "output_type": "stream",
     "text": [
      "==135==\n",
      "Pred Summary: #Person2#는 영국 사람들이 스페인 사람들보다 더 진지하고, 영국인들이 매우 예의바르다는 평판은 과장되었다고 생각합니다.\n",
      "\n",
      "Gold Summary: #Person2#는 #Person1#에게 영국인들이 예상보다 더 진지하고 덜 예의바른 것이 놀랍다고 말합니다.\n",
      "\n",
      "ROUGE-1 Score: 0.24999999503472223\n",
      "ROUGE-2 Score: 0.0\n",
      "ROUGE-L Score: 0.16666666170138905\n",
      "Combined ROUGE Score: 13.888888557870374\n",
      "\n",
      "====================================================================================================\n"
     ]
    },
    {
     "name": "stderr",
     "output_type": "stream",
     "text": [
      " 27%|██▋       | 137/499 [02:06<05:41,  1.06it/s]"
     ]
    },
    {
     "name": "stdout",
     "output_type": "stream",
     "text": [
      "==136==\n",
      "Pred Summary: #Person1#과 #Person2#는 서로의 안부를 묻고, 가족들의 소식을 나눈다. #Person2#는 데이비드가 연봉 인상을 받았고, 조지가 독감에 걸렸으며, 다이앤은 댄스 수업을 계속 받고 있다고 말한다. #Person1#은 조지의 생일을 축하하며 선물을 보내줄 것을 약속한다.\n",
      "\n",
      "Gold Summary: 메리가 아빠에게 전화를 걸어 집에서의 모든 일이 다 괜찮은지 확인한다. 메리는 또한 아빠에게 그녀의 가족 구성원들이 어떻게 지내고 있는지 알려준다.\n",
      "\n",
      "ROUGE-1 Score: 0.0\n",
      "ROUGE-2 Score: 0.0\n",
      "ROUGE-L Score: 0.0\n",
      "Combined ROUGE Score: 0.0\n",
      "\n",
      "====================================================================================================\n"
     ]
    },
    {
     "name": "stderr",
     "output_type": "stream",
     "text": [
      " 28%|██▊       | 138/499 [02:07<06:23,  1.06s/it]"
     ]
    },
    {
     "name": "stdout",
     "output_type": "stream",
     "text": [
      "==137==\n",
      "Pred Summary: #Person1#과 #Person2#는 번개에 대한 경험을 공유하고 번개 안전 팁에 대해 이야기합니다. 그들은 번개가 치는 동안 몸을 지면에 가까이 유지하고 물을 피하며, 실내에서는 전기로 작동하는 물건을 사용하지 않는 것이 가장 좋은 행동이라는 것에 동의합니다.\n",
      "\n",
      "Gold Summary: #Person1#과 #Person2#는 뇌우에 맞닥뜨리게 될 경우 그들이 무엇을 하고 무엇을 하지 않을 것인지에 대해 이야기하고 있습니다.\n",
      "\n",
      "ROUGE-1 Score: 0.12499999570312517\n",
      "ROUGE-2 Score: 0.04255318714350429\n",
      "ROUGE-L Score: 0.12499999570312517\n",
      "Combined ROUGE Score: 9.751772618325154\n",
      "\n",
      "====================================================================================================\n"
     ]
    },
    {
     "name": "stderr",
     "output_type": "stream",
     "text": [
      " 28%|██▊       | 139/499 [02:08<05:26,  1.10it/s]"
     ]
    },
    {
     "name": "stdout",
     "output_type": "stream",
     "text": [
      "==138==\n",
      "Pred Summary: 루시는 공과대학에 입학하기 위해 #Person1#과 상담하고, 추천서를 요청했습니다.\n",
      "\n",
      "Gold Summary: 루시는 공과대학에 지원할 계획입니다. 그녀는 #Person1#에게 공부 기록을 보여주고 추천서를 써달라고 요청합니다. #Person1#은 동의합니다.\n",
      "\n",
      "ROUGE-1 Score: 0.2727272680991736\n",
      "ROUGE-2 Score: 0.09999999545000023\n",
      "ROUGE-L Score: 0.2727272680991736\n",
      "Combined ROUGE Score: 21.515151054944912\n",
      "\n",
      "====================================================================================================\n"
     ]
    },
    {
     "name": "stderr",
     "output_type": "stream",
     "text": [
      " 28%|██▊       | 140/499 [02:09<05:42,  1.05it/s]"
     ]
    },
    {
     "name": "stdout",
     "output_type": "stream",
     "text": [
      "==139==\n",
      "Pred Summary: #Person1#과 #Person2#는 비행기에서 옆자리에 앉게 되었다. 둘 다 런던으로 향하며, #Person1#은 LSE에서 국제 관계를 공부하고, #Person2#는 부모님의 바람에 따라 미들섹스 대학교에서 비즈니스 공부를 하지만, 실제로는 철학을 공부하고 싶어한다.\n",
      "\n",
      "Gold Summary: #Person1#은 비행기에서 #Person2# 옆자리에 앉습니다. 그들은 왜 런던에 가는지에 대해 이야기합니다.\n",
      "\n",
      "ROUGE-1 Score: 0.15789473272853197\n",
      "ROUGE-2 Score: 0.0\n",
      "ROUGE-L Score: 0.15789473272853197\n",
      "Combined ROUGE Score: 10.526315515235463\n",
      "\n",
      "====================================================================================================\n"
     ]
    },
    {
     "name": "stderr",
     "output_type": "stream",
     "text": [
      " 28%|██▊       | 141/499 [02:10<05:36,  1.06it/s]"
     ]
    },
    {
     "name": "stdout",
     "output_type": "stream",
     "text": [
      "==140==\n",
      "Pred Summary: #Person1#과 #Person2#는 도착했을 때 비가 오고 모든 곳이 문을 닫을 것으로 예상하지만, 일부 장소는 열려 있을 것으로 예상한다. 그들은 은행이 문을 닫을 것이기 때문에 돈을 찾을 수 없을 것이라고 언급하지만, 외투는 필요하지 않을 것이라고 생각한다.\n",
      "\n",
      "Gold Summary: #Person1#은 #Person2#와 함께 영국에 도착했을 때 상황에 대해 이야기합니다.\n",
      "\n",
      "ROUGE-1 Score: 0.09999999651250012\n",
      "ROUGE-2 Score: 0.04878048466389075\n",
      "ROUGE-L Score: 0.09999999651250012\n",
      "Combined ROUGE Score: 8.2926825896297\n",
      "\n",
      "====================================================================================================\n"
     ]
    },
    {
     "name": "stderr",
     "output_type": "stream",
     "text": [
      " 28%|██▊       | 142/499 [02:11<06:26,  1.08s/it]"
     ]
    },
    {
     "name": "stdout",
     "output_type": "stream",
     "text": [
      "==141==\n",
      "Pred Summary: #Person1#과 #Person2#는 예술에 대한 공통된 관심사를 가지고 있습니다. #Person1#은 추상 예술을 좋아하고, #Person2#는 조각, 특히 고대 로마와 그리스의 조각을 선호합니다. 그들은 내일 국립 갤러리에서 열리는 그리스와 로마 조각 전시회에 함께 가기로 계획합니다. 그들은 12시 반에 버스 정류장에서 만나 51번 버스를 타고 전시회에 갈 예정입니다. 전시품을 모두 보는 데 약 세 시간에서 네 시간이 걸릴 것으로 예상합니다.\n",
      "\n",
      "Gold Summary: #Person1#은 예술 애호가입니다. #Person2#는 그림을 그다지 즐기지 않지만 조각을 좋아합니다. 그들은 함께 그리스와 로마 조각의 전시회를 보러 가기로 결정했습니다.\n",
      "\n",
      "ROUGE-1 Score: 0.2222222183371914\n",
      "ROUGE-2 Score: 0.02739725655845425\n",
      "ROUGE-L Score: 0.19444444055941362\n",
      "Combined ROUGE Score: 14.802130515168644\n",
      "\n",
      "====================================================================================================\n"
     ]
    },
    {
     "name": "stderr",
     "output_type": "stream",
     "text": [
      " 29%|██▊       | 143/499 [02:12<05:41,  1.04it/s]"
     ]
    },
    {
     "name": "stdout",
     "output_type": "stream",
     "text": [
      "==142==\n",
      "Pred Summary: #Person1#과 #Person2#는 일찍 퇴근하기로 결정했지만, 저녁 출퇴근 시간이 교통 체증이 심하다는 것을 인정합니다.\n",
      "\n",
      "Gold Summary: #Person1#와 #Person2# 모두 저녁 출퇴근 시간을 싫어한다.\n",
      "\n",
      "ROUGE-1 Score: 0.19999999545000013\n",
      "ROUGE-2 Score: 0.11111110666666683\n",
      "ROUGE-L Score: 0.19999999545000013\n",
      "Combined ROUGE Score: 17.03703658555557\n",
      "\n",
      "====================================================================================================\n"
     ]
    },
    {
     "name": "stderr",
     "output_type": "stream",
     "text": [
      " 29%|██▉       | 144/499 [02:13<05:44,  1.03it/s]"
     ]
    },
    {
     "name": "stdout",
     "output_type": "stream",
     "text": [
      "==143==\n",
      "Pred Summary: #Person1#은 중국 음식을 만들기 위한 재료를 찾고 있다. #Person2#는 켄싱턴 하이 스트리트에 있는 슈퍼마켓을 안내하고, 과일과 채소는 한쪽에, 고기는 다른 한쪽에 있다고 알려준다.\n",
      "\n",
      "Gold Summary: #Person2#는 #Person1#이 중국 음식을 만들기 위한 재료를 찾을 수 있게 도움을 줍니다.\n",
      "\n",
      "ROUGE-1 Score: 0.34285713835102044\n",
      "ROUGE-2 Score: 0.24242423797979806\n",
      "ROUGE-L Score: 0.34285713835102044\n",
      "Combined ROUGE Score: 30.937950489394627\n",
      "\n",
      "====================================================================================================\n"
     ]
    },
    {
     "name": "stderr",
     "output_type": "stream",
     "text": [
      " 29%|██▉       | 145/499 [02:14<05:42,  1.03it/s]"
     ]
    },
    {
     "name": "stdout",
     "output_type": "stream",
     "text": [
      "==144==\n",
      "Pred Summary: #Person1#은 11시 30분 기차를 타려고 한다. #Person2#는 교통 체증을 피하기 위해 더 긴 경로를 제안하지만, 더 많은 비용이 든다. #Person1#은 추가 비용을 지불하고 기차를 놓치지 않기로 결정한다.\n",
      "\n",
      "Gold Summary: #Person1#은 기차를 잡기 위해 교통이 덜 막힌 경로를 선택하고 추가로 5유로를 지불하는 #Person2#의 제안에 동의합니다.\n",
      "\n",
      "ROUGE-1 Score: 0.2051282003944774\n",
      "ROUGE-2 Score: 0.0\n",
      "ROUGE-L Score: 0.2051282003944774\n",
      "Combined ROUGE Score: 13.675213359631828\n",
      "\n",
      "====================================================================================================\n"
     ]
    },
    {
     "name": "stderr",
     "output_type": "stream",
     "text": [
      " 29%|██▉       | 146/499 [02:14<05:01,  1.17it/s]"
     ]
    },
    {
     "name": "stdout",
     "output_type": "stream",
     "text": [
      "==145==\n",
      "Pred Summary: 마이크는 아내와 함께 베이징, 상하이, 난징, 구이린을 방문했다. 그들은 모든 도시에서 깊은 인상을 받았다.\n",
      "\n",
      "Gold Summary: 마이크가 #Person1#과 함께 그의 즐거운 중국 여행에 대해 이야기합니다.\n",
      "\n",
      "ROUGE-1 Score: 0.0869565169754256\n",
      "ROUGE-2 Score: 0.0\n",
      "ROUGE-L Score: 0.0869565169754256\n",
      "Combined ROUGE Score: 5.79710113169504\n",
      "\n",
      "====================================================================================================\n"
     ]
    },
    {
     "name": "stderr",
     "output_type": "stream",
     "text": [
      " 29%|██▉       | 147/499 [02:15<05:13,  1.12it/s]"
     ]
    },
    {
     "name": "stdout",
     "output_type": "stream",
     "text": [
      "==146==\n",
      "Pred Summary: 제리 라이언은 멕시코가 프랑스를 7대 6으로 이기고, 캐나다와 아르헨티나의 경기는 3대 3으로 비겼다고 보도했습니다. 이탈리아는 아이티를 2대 1로 앞서고 있으며, 경기 종료까지 남은 시간은 30분입니다.\n",
      "\n",
      "Gold Summary: #Person1#은 #Person2#에게 세계 축구 이벤트에 대해 관객에게 알려달라고 요청합니다.\n",
      "\n",
      "ROUGE-1 Score: 0.0\n",
      "ROUGE-2 Score: 0.0\n",
      "ROUGE-L Score: 0.0\n",
      "Combined ROUGE Score: 0.0\n",
      "\n",
      "====================================================================================================\n"
     ]
    },
    {
     "name": "stderr",
     "output_type": "stream",
     "text": [
      " 30%|██▉       | 148/499 [02:16<05:29,  1.07it/s]"
     ]
    },
    {
     "name": "stdout",
     "output_type": "stream",
     "text": [
      "==147==\n",
      "Pred Summary: #Person1#은 서니 투어 홀리데이스에서 일하며, #Person2#에게 휴가에 대한 설문조사를 진행한다. #Person2#는 비행기가 지연되어 피곤한 경험을 했지만, 차량 대여 플랫폼을 통해 차를 예약하고 호텔에 도착했다. 그들은 휴가를 중요하게 생각하며, 매년 적어도 한 번은 휴가를 가려고 한다.\n",
      "\n",
      "Gold Summary: #Person1#은 #Person2#에게 여행 준비, 호텔, 그리고 휴가에 대한 태도에 대해 인터뷰합니다.\n",
      "\n",
      "ROUGE-1 Score: 0.17777777408395068\n",
      "ROUGE-2 Score: 0.04545454194214903\n",
      "ROUGE-L Score: 0.17777777408395068\n",
      "Combined ROUGE Score: 13.367003003668346\n",
      "\n",
      "====================================================================================================\n"
     ]
    },
    {
     "name": "stderr",
     "output_type": "stream",
     "text": [
      " 30%|██▉       | 149/499 [02:17<05:27,  1.07it/s]"
     ]
    },
    {
     "name": "stdout",
     "output_type": "stream",
     "text": [
      "==148==\n",
      "Pred Summary: #Person2#는 뉘른베르크 산에서 길을 잃고 4일 동안 영하 20도의 날씨에서 생존한 후 다리를 잃었습니다. 그는 현대 기술을 이용하여 새로운 다리를 만들었고, 새로운 다리로 인해 이전보다 더 강력하게 산을 오를 수 있게 되었습니다.\n",
      "\n",
      "Gold Summary: 빌은 #Person1#에게 산에서 끔찍한 사고로 다리를 잃었지만, 새로운 다리를 만들어 다시 산을 오를 수 있게 되었다고 말한다.\n",
      "\n",
      "ROUGE-1 Score: 0.30434782155009454\n",
      "ROUGE-2 Score: 0.17021276146672715\n",
      "ROUGE-L Score: 0.30434782155009454\n",
      "Combined ROUGE Score: 25.963613485563876\n",
      "\n",
      "====================================================================================================\n"
     ]
    },
    {
     "name": "stderr",
     "output_type": "stream",
     "text": [
      " 30%|███       | 150/499 [02:18<05:36,  1.04it/s]"
     ]
    },
    {
     "name": "stdout",
     "output_type": "stream",
     "text": [
      "==149==\n",
      "Pred Summary: #Person1#은 #Person2#에게 창가 쪽 테이블을 안내하고, 후난식, 쓰촨식, 저장식 등 다양한 스타일의 중국 음식을 제공한다고 설명한다. #Person2#는 약간 달달한 맛의 음식을 선호하며, #Person1#은 저장식을 추천한다.\n",
      "\n",
      "Gold Summary: #Person2#는 중국 레스토랑에 갑니다. #Person2#의 취향에 따라 #Person1#은 저장식을 추천합니다.\n",
      "\n",
      "ROUGE-1 Score: 0.2424242382001837\n",
      "ROUGE-2 Score: 0.06060605663911872\n",
      "ROUGE-L Score: 0.2424242382001837\n",
      "Combined ROUGE Score: 18.18181776798287\n",
      "\n",
      "====================================================================================================\n"
     ]
    },
    {
     "name": "stderr",
     "output_type": "stream",
     "text": [
      " 30%|███       | 151/499 [02:19<05:32,  1.05it/s]"
     ]
    },
    {
     "name": "stdout",
     "output_type": "stream",
     "text": [
      "==150==\n",
      "Pred Summary: #Person1#은 사무실, 직원, 그리고 #Person2#에 대한 불편함을 표현하며 전출을 요청한다. #Person2#는 #Person1#의 요청을 존중하고 전출을 허락한다.\n",
      "\n",
      "Gold Summary: 양 씨는 전출 신청을 원하며 그 이유를 설명합니다. 선 씨는 동의합니다.\n",
      "\n",
      "ROUGE-1 Score: 0.0\n",
      "ROUGE-2 Score: 0.0\n",
      "ROUGE-L Score: 0.0\n",
      "Combined ROUGE Score: 0.0\n",
      "\n",
      "====================================================================================================\n"
     ]
    },
    {
     "name": "stderr",
     "output_type": "stream",
     "text": [
      " 30%|███       | 152/499 [02:20<05:42,  1.01it/s]"
     ]
    },
    {
     "name": "stdout",
     "output_type": "stream",
     "text": [
      "==151==\n",
      "Pred Summary: #Person1#은 4월 14일부터 4월 17일까지 뉴욕의 호텔 객실을 예약하고, 금연 퀸 사이즈 침대를 요청했습니다. 객실 요금은 1박에 $308이며, 예약은 성공적으로 완료되었습니다.\n",
      "\n",
      "Gold Summary: 미셸은 존 샌들스가 4월 14일부터 4월 17일까지의 퀸 사이즈 침대가 있는 금연 객실을 예약할 수 있게 도와줍니다.\n",
      "\n",
      "ROUGE-1 Score: 0.33333332839506175\n",
      "ROUGE-2 Score: 0.16666666172839517\n",
      "ROUGE-L Score: 0.22222221728395072\n",
      "Combined ROUGE Score: 24.07407358024692\n",
      "\n",
      "====================================================================================================\n"
     ]
    },
    {
     "name": "stderr",
     "output_type": "stream",
     "text": [
      " 31%|███       | 153/499 [02:22<06:31,  1.13s/it]"
     ]
    },
    {
     "name": "stdout",
     "output_type": "stream",
     "text": [
      "==152==\n",
      "Pred Summary: #Person1#은 #Person2#에게 배당금 입금과 배당금 참여 입금의 차이점을 설명하며, 입금 시 이자가 고정되고 배당금은 매년 말에 자동으로 이해되며, 기간이 길수록 받을 수 있는 배당금이 높아진다고 언급합니다. #Person2#는 이러한 입금을 회사에서 구매할 수 있는지 묻고, #Person1#은 그렇다고 확인하며, 회사 계좌가 있는 경우 보험료를 해당 계좌를 통해 납부할 수 있다고 언급합니다.\n",
      "\n",
      "Gold Summary: #Person1#은 배당금 입금과 배당금 참여 입금의 정확한 차이점과 구매 과정을 #Person2#에게 설명합니다.\n",
      "\n",
      "ROUGE-1 Score: 0.22222221897805214\n",
      "ROUGE-2 Score: 0.1355932173053721\n",
      "ROUGE-L Score: 0.1851851819410151\n",
      "Combined ROUGE Score: 18.100020607481312\n",
      "\n",
      "====================================================================================================\n"
     ]
    },
    {
     "name": "stderr",
     "output_type": "stream",
     "text": [
      " 31%|███       | 154/499 [02:23<06:59,  1.21s/it]"
     ]
    },
    {
     "name": "stdout",
     "output_type": "stream",
     "text": [
      "==153==\n",
      "Pred Summary: #Person1#은 아파트를 빌리고 싶어하지만, #Person2#가 요구하는 $1050의 임대료가 너무 비싸다고 생각합니다. #Person1#은 $850로 가격을 낮추기를 제안하지만, #Person2#는 그것이 충분하지 않다고 거절합니다. #Person2#는 $850가 최종 제안이라고 말하며, #Person1#은 이를 받아들이거나 거절해야 합니다.\n",
      "\n",
      "Gold Summary: #Person1#은 #Person2#에게서 아파트를 빌리려고 합니다. 그들은 임대료에 대해 협상하지만 합의에 이르지 못합니다.\n",
      "\n",
      "ROUGE-1 Score: 0.14999999580000012\n",
      "ROUGE-2 Score: 0.0\n",
      "ROUGE-L Score: 0.14999999580000012\n",
      "Combined ROUGE Score: 9.999999720000009\n",
      "\n",
      "====================================================================================================\n"
     ]
    },
    {
     "name": "stderr",
     "output_type": "stream",
     "text": [
      " 31%|███       | 155/499 [02:24<06:08,  1.07s/it]"
     ]
    },
    {
     "name": "stdout",
     "output_type": "stream",
     "text": [
      "==154==\n",
      "Pred Summary: #Person1#과 #Person2#는 SARS 유행으로 인해 홍콩 여행을 취소했다. 그들은 운동 계획을 세우고 더 많은 운동을 시작하기로 결정했다.\n",
      "\n",
      "Gold Summary: #Person2#의 홍콩 여행이 SARS 유행 때문에 취소되었습니다. #Person2#는 대신 운동을 하기로 결정했습니다. #Person1#는 그것이 좋은 생각이라고 생각합니다.\n",
      "\n",
      "ROUGE-1 Score: 0.23529411264705893\n",
      "ROUGE-2 Score: 0.0\n",
      "ROUGE-L Score: 0.17647058323529427\n",
      "Combined ROUGE Score: 13.725489862745107\n",
      "\n",
      "====================================================================================================\n"
     ]
    },
    {
     "name": "stderr",
     "output_type": "stream",
     "text": [
      " 31%|███▏      | 156/499 [02:25<05:26,  1.05it/s]"
     ]
    },
    {
     "name": "stdout",
     "output_type": "stream",
     "text": [
      "==155==\n",
      "Pred Summary: #Person1#과 #Person2#는 버스가 늦어서 짜증이 났고, 대중교통에 대한 불만을 공유하며 차를 사는 것이 더 편리할 것이라고 동의했다.\n",
      "\n",
      "Gold Summary: #Person1#와 #Person2#는 오랫동안 버스를 기다리고 있었습니다. 그들은 차를 사야 한다는 것에 동의했습니다.\n",
      "\n",
      "ROUGE-1 Score: 0.13793102963139137\n",
      "ROUGE-2 Score: 0.0\n",
      "ROUGE-L Score: 0.13793102963139137\n",
      "Combined ROUGE Score: 9.195401975426092\n",
      "\n",
      "====================================================================================================\n"
     ]
    },
    {
     "name": "stderr",
     "output_type": "stream",
     "text": [
      " 31%|███▏      | 157/499 [02:26<05:41,  1.00it/s]"
     ]
    },
    {
     "name": "stdout",
     "output_type": "stream",
     "text": [
      "==156==\n",
      "Pred Summary: #Person1#과 #Person2#는 중국어와 중국인들의 흥정 문화에 대해 이야기합니다. #Person2#는 중국어 대화의 속도가 처음에는 격렬한 말다툼처럼 느껴졌지만, #Person1#은 그것이 중국인들에게는 정상적인 대화 방식이라고 설명합니다.\n",
      "\n",
      "Gold Summary: #Person2#는 여자친구가 중국어로 판매원과 흥정하는 것이 말싸움처럼 들렸다. #Person1#는 그가 과장하고 있다고 생각한다.\n",
      "\n",
      "ROUGE-1 Score: 0.05714285247346978\n",
      "ROUGE-2 Score: 0.0\n",
      "ROUGE-L Score: 0.05714285247346978\n",
      "Combined ROUGE Score: 3.809523498231319\n",
      "\n",
      "====================================================================================================\n"
     ]
    },
    {
     "name": "stderr",
     "output_type": "stream",
     "text": [
      " 32%|███▏      | 158/499 [02:27<05:17,  1.07it/s]"
     ]
    },
    {
     "name": "stdout",
     "output_type": "stream",
     "text": [
      "==157==\n",
      "Pred Summary: #Person1#은 옷장에도 불구하고 입을 옷을 고민한다. #Person2#는 #Person1#이 쇼핑 중독이라고 생각한다. #Person1#은 신발을 교환하려고 한다.\n",
      "\n",
      "Gold Summary: #Person2#는 #Person1#이 매일 무엇을 입을지 고민하는 상황에 체념했다. #Person1#은 신발이 너무 작아서 나시로 가서 신발을 바꿀 것이다. #Person2#는 #Person1#에게 영수증을 가져가는 것을 상기시킨다.\n",
      "\n",
      "ROUGE-1 Score: 0.2222222174691359\n",
      "ROUGE-2 Score: 0.055555550802469544\n",
      "ROUGE-L Score: 0.2222222174691359\n",
      "Combined ROUGE Score: 16.666666191358047\n",
      "\n",
      "====================================================================================================\n"
     ]
    },
    {
     "name": "stderr",
     "output_type": "stream",
     "text": [
      " 32%|███▏      | 159/499 [02:27<04:48,  1.18it/s]"
     ]
    },
    {
     "name": "stdout",
     "output_type": "stream",
     "text": [
      "==158==\n",
      "Pred Summary: #Person2#는 #Person1#에게 지난 주에 도움을 준 것에 대해 감사하며, #Person1#의 상사에게 칭찬을 전하고 싶어합니다.\n",
      "\n",
      "Gold Summary: 알란 파커가 필리스 시모어에게 감사의 전화를 건다.\n",
      "\n",
      "ROUGE-1 Score: 0.0\n",
      "ROUGE-2 Score: 0.0\n",
      "ROUGE-L Score: 0.0\n",
      "Combined ROUGE Score: 0.0\n",
      "\n",
      "====================================================================================================\n"
     ]
    },
    {
     "name": "stderr",
     "output_type": "stream",
     "text": [
      " 32%|███▏      | 160/499 [02:28<04:48,  1.17it/s]"
     ]
    },
    {
     "name": "stdout",
     "output_type": "stream",
     "text": [
      "==159==\n",
      "Pred Summary: #Person2#는 나노미터를 미터의 10억분의 1로 정의하며, 인간의 머리카락 지름보다 1000배 작다고 설명합니다.\n",
      "\n",
      "Gold Summary: 마이크가 #Person1#에게 나노미터의 개념을 설명합니다. #Person1#은 이를 이해합니다.\n",
      "\n",
      "ROUGE-1 Score: 0.09999999520000023\n",
      "ROUGE-2 Score: 0.0\n",
      "ROUGE-L Score: 0.09999999520000023\n",
      "Combined ROUGE Score: 6.666666346666681\n",
      "\n",
      "====================================================================================================\n"
     ]
    },
    {
     "name": "stderr",
     "output_type": "stream",
     "text": [
      " 32%|███▏      | 161/499 [02:29<05:24,  1.04it/s]"
     ]
    },
    {
     "name": "stdout",
     "output_type": "stream",
     "text": [
      "==160==\n",
      "Pred Summary: #Person1#과 #Person2#는 벤의 로큰롤 밴드에 대해 이야기한다. #Person2#는 드럼을 칠 수 있지만, 자신이 없다고 말한다. #Person1#은 음악을 좋아하지만 악기를 연주할 수 없다. #Person2#는 DJ가 되는 것을 제안하고, 컴퓨터 프로그램을 사용하여 도움을 받을 수 있다고 말한다. #Person1#은 인터넷에서 정보를 찾아보기로 한다.\n",
      "\n",
      "Gold Summary: #Person2#는 드럼을 칠 수 있지만 오랫동안 연주하지 않았다. #Person1#는 음악을 사랑하지만 악기 연주를 못 한다. #Person2#는 #Person1#에게 DJ가 되어 댄스 음악을 믹싱하고, 그것을 위해 #Person1#의 컴퓨터를 사용하는 것을 제안한다.\n",
      "\n",
      "ROUGE-1 Score: 0.26229507703305566\n",
      "ROUGE-2 Score: 0.09090908602387539\n",
      "ROUGE-L Score: 0.26229507703305566\n",
      "Combined ROUGE Score: 20.51664133633289\n",
      "\n",
      "====================================================================================================\n"
     ]
    },
    {
     "name": "stderr",
     "output_type": "stream",
     "text": [
      " 32%|███▏      | 162/499 [02:30<05:42,  1.02s/it]"
     ]
    },
    {
     "name": "stdout",
     "output_type": "stream",
     "text": [
      "==161==\n",
      "Pred Summary: #Person1#은 교재를 사야하지만 서점이 어디 있는지 모른다. #Person2#는 서점이 체육관 왼쪽 첫 번째 문에 있다고 알려주고, 사용한 교재를 돈으로 돌려받을 수 있다는 사실을 알려준다. #Person2#는 #Person1#에게 1시에 만나서 책 사는 걸 도와줄 수 있다고 제안하지만, #Person1#은 거절한다.\n",
      "\n",
      "Gold Summary: #Person2#는 #Person1#에게 교재를 어디서 사야 하는지, 그리고 #Person1#의 기존 교재를 어떻게 돈으로 돌려받을 수 있는지 알려줍니다.\n",
      "\n",
      "ROUGE-1 Score: 0.30434782169187147\n",
      "ROUGE-2 Score: 0.11764705467128042\n",
      "ROUGE-L Score: 0.30434782169187147\n",
      "Combined ROUGE Score: 24.211423268500777\n",
      "\n",
      "====================================================================================================\n"
     ]
    },
    {
     "name": "stderr",
     "output_type": "stream",
     "text": [
      " 33%|███▎      | 163/499 [02:31<05:04,  1.10it/s]"
     ]
    },
    {
     "name": "stdout",
     "output_type": "stream",
     "text": [
      "==162==\n",
      "Pred Summary: #Person1#은 이번 주말에 스카이다이빙을 할 계획이지만, #Person2#는 위험하다고 경고합니다.\n",
      "\n",
      "Gold Summary: #Person1#은 이번 주말에 스카이다이빙을 해볼 계획이다. #Person2#은 #Person1#에게 그것이 위험하다고 경고한다.\n",
      "\n",
      "ROUGE-1 Score: 0.4999999950500001\n",
      "ROUGE-2 Score: 0.33333332839506175\n",
      "ROUGE-L Score: 0.4999999950500001\n",
      "Combined ROUGE Score: 44.4444439498354\n",
      "\n",
      "====================================================================================================\n"
     ]
    },
    {
     "name": "stderr",
     "output_type": "stream",
     "text": [
      " 33%|███▎      | 164/499 [02:32<05:11,  1.07it/s]"
     ]
    },
    {
     "name": "stdout",
     "output_type": "stream",
     "text": [
      "==163==\n",
      "Pred Summary: #Person2#는 매니저와의 갈등으로 인해 어려움을 겪고 있다. 매니저는 실수를 #Person2#의 탓으로 돌리고, #Person2#는 이에 대해 대처할 수 없다. #Person2#는 승진을 받을 때까지 이를 참아내려고 한다.\n",
      "\n",
      "Gold Summary: 에밀리는 #Person1#에게 그녀의 매니저가 그의 실수를 그녀에게 돌린 탓에 나쁜 하루를 보냈다고 말한다. 에밀리는 그녀의 매니저가 모든 사람, 특히 그녀를 나쁘게 대하지만, 그녀는 승진을 받을 때까지만 잠시 그것을 참아내려고 한다고 말한다. #Person1#은 에밀리가 현명하다고 생각한다.\n",
      "\n",
      "ROUGE-1 Score: 0.1481481432578877\n",
      "ROUGE-2 Score: 0.03508771442290003\n",
      "ROUGE-L Score: 0.1481481432578877\n",
      "Combined ROUGE Score: 11.046133364622515\n",
      "\n",
      "====================================================================================================\n"
     ]
    },
    {
     "name": "stderr",
     "output_type": "stream",
     "text": [
      " 33%|███▎      | 165/499 [02:33<04:51,  1.15it/s]"
     ]
    },
    {
     "name": "stdout",
     "output_type": "stream",
     "text": [
      "==164==\n",
      "Pred Summary: #Person1#은 백혈구 수치를 확인하기 위해 혈액 검사를 받으러 왔다. #Person2#는 팔에 터니켓을 묶고 혈액을 채취하여 의사에게 결과를 제공할 것이다.\n",
      "\n",
      "Gold Summary: 의사가 #Person1#의 백혈구 수치를 알고 싶어하기 때문에 #Person2#는 #Person1#의 피를 뽑고 있습니다.\n",
      "\n",
      "ROUGE-1 Score: 0.19999999535555565\n",
      "ROUGE-2 Score: 0.06896551253269949\n",
      "ROUGE-L Score: 0.19999999535555565\n",
      "Combined ROUGE Score: 15.63218344146036\n",
      "\n",
      "====================================================================================================\n"
     ]
    },
    {
     "name": "stderr",
     "output_type": "stream",
     "text": [
      " 33%|███▎      | 166/499 [02:34<04:46,  1.16it/s]"
     ]
    },
    {
     "name": "stdout",
     "output_type": "stream",
     "text": [
      "==165==\n",
      "Pred Summary: #Person1#은 가슴 주머니가 하나만 달린 디자인을 찾고 있지만, #Person2#는 같은 색으로 사용할 수 있는 디자인이 없다고 알려줍니다. #Person1#은 다른 옵션을 찾기로 결정합니다.\n",
      "\n",
      "Gold Summary: #Person1#은 가슴 부분에 주머니가 하나 달린 특정 디자인을 사고 싶어하지만 #Person2#은 그런 물건이 없습니다.\n",
      "\n",
      "ROUGE-1 Score: 0.28571428091428575\n",
      "ROUGE-2 Score: 0.058823524688581694\n",
      "ROUGE-L Score: 0.28571428091428575\n",
      "Combined ROUGE Score: 21.00840288390511\n",
      "\n",
      "====================================================================================================\n"
     ]
    },
    {
     "name": "stderr",
     "output_type": "stream",
     "text": [
      " 33%|███▎      | 167/499 [02:34<04:19,  1.28it/s]"
     ]
    },
    {
     "name": "stdout",
     "output_type": "stream",
     "text": [
      "==166==\n",
      "Pred Summary: #Person2#는 스웨터를 구매하려고 하며, #Person1#에게 다양한 스타일의 풀오버를 보여달라고 요청합니다.\n",
      "\n",
      "Gold Summary: #Person2#는 #Person1#에게 모든 스타일의 풀오버를 보여달라고 요청합니다.\n",
      "\n",
      "ROUGE-1 Score: 0.7058823480968859\n",
      "ROUGE-2 Score: 0.39999999520000007\n",
      "ROUGE-L Score: 0.7058823480968859\n",
      "Combined ROUGE Score: 60.3921563797924\n",
      "\n",
      "====================================================================================================\n"
     ]
    },
    {
     "name": "stderr",
     "output_type": "stream",
     "text": [
      " 34%|███▎      | 168/499 [02:35<04:41,  1.18it/s]"
     ]
    },
    {
     "name": "stdout",
     "output_type": "stream",
     "text": [
      "==167==\n",
      "Pred Summary: #Person2#는 월 5,000 위안의 급여로 취업 제안을 수락했으며, 3개월 수습 기간 후 성과에 따라 인상될 수 있습니다. #Person2#는 부서 총괄 관리자의 지휘 아래에서 일하며, 휴일 수당을 받을 수 있습니다. 회사는 해외 출장 기회를 제공합니다.\n",
      "\n",
      "Gold Summary: #Person2#는 #Person1#이 제안한 월급에 만족하고 업무에 대해 몇 가지 질문을 합니다.\n",
      "\n",
      "ROUGE-1 Score: 0.04761904375283478\n",
      "ROUGE-2 Score: 0.0\n",
      "ROUGE-L Score: 0.04761904375283478\n",
      "Combined ROUGE Score: 3.174602916855652\n",
      "\n",
      "====================================================================================================\n"
     ]
    },
    {
     "name": "stderr",
     "output_type": "stream",
     "text": [
      " 34%|███▍      | 169/499 [02:36<04:31,  1.21it/s]"
     ]
    },
    {
     "name": "stdout",
     "output_type": "stream",
     "text": [
      "==168==\n",
      "Pred Summary: #Person1#과 #Person2#는 올해 크리스마스에 무의미한 선물의 함정에서 벗어나고, 가족에게 의미 있는 선물을 주고 싶어한다.\n",
      "\n",
      "Gold Summary: #Person1#과 #Person2#는 올해 크리스마스에 가족을 위해 정말 멋진 일을 계획하고 있다.\n",
      "\n",
      "ROUGE-1 Score: 0.31999999507200005\n",
      "ROUGE-2 Score: 0.26086956030245756\n",
      "ROUGE-L Score: 0.31999999507200005\n",
      "Combined ROUGE Score: 30.028985014881922\n",
      "\n",
      "====================================================================================================\n"
     ]
    },
    {
     "name": "stderr",
     "output_type": "stream",
     "text": [
      " 34%|███▍      | 170/499 [02:37<04:15,  1.29it/s]"
     ]
    },
    {
     "name": "stdout",
     "output_type": "stream",
     "text": [
      "==169==\n",
      "Pred Summary: #Person1#과 #Person2#는 버스를 타고 있다. #Person1#은 보통 차를 운전하지만, 기름값이 내릴 때까지 기다리고 있다.\n",
      "\n",
      "Gold Summary: #Person1#은 요즘 기름 값이 너무 비싸서 버스를 이용한다.\n",
      "\n",
      "ROUGE-1 Score: 0.19047618575963732\n",
      "ROUGE-2 Score: 0.0\n",
      "ROUGE-L Score: 0.19047618575963732\n",
      "Combined ROUGE Score: 12.698412383975821\n",
      "\n",
      "====================================================================================================\n"
     ]
    },
    {
     "name": "stderr",
     "output_type": "stream",
     "text": [
      " 34%|███▍      | 171/499 [02:37<04:15,  1.28it/s]"
     ]
    },
    {
     "name": "stdout",
     "output_type": "stream",
     "text": [
      "==170==\n",
      "Pred Summary: #Person1#은 목요일에 데이튼 스트리트 사무실에서 웹사이트를 통한 판매 증진에 대한 발표를 할 예정이다. #Person2#는 디스플레이 모니터와 화이트보드 설치를 도와줄 것이다.\n",
      "\n",
      "Gold Summary: #Person1#이 리즈에게 목요일 오전, 데이튼 스트리트 사무실에서 열리는 #Person1#의 발표 준비를 도와달라고 요청한다. 리즈는 그러겠다고 하고 #Person1#에게 필요한 것이 무엇인지 묻는다.\n",
      "\n",
      "ROUGE-1 Score: 0.14634145841760873\n",
      "ROUGE-2 Score: 0.10256409756739011\n",
      "ROUGE-L Score: 0.14634145841760873\n",
      "Combined ROUGE Score: 13.174900480086919\n",
      "\n",
      "====================================================================================================\n"
     ]
    },
    {
     "name": "stderr",
     "output_type": "stream",
     "text": [
      " 34%|███▍      | 172/499 [02:38<04:17,  1.27it/s]"
     ]
    },
    {
     "name": "stdout",
     "output_type": "stream",
     "text": [
      "==171==\n",
      "Pred Summary: #Person2#는 아파트 리모델링을 위해 소액 소비자 금융 대출을 신청하고, #Person1#은 필요한 서류와 최대 대출 금액인 20,000 RMB에 대해 안내합니다.\n",
      "\n",
      "Gold Summary: #Person2#는 아파트 리노베이션을 위해 소액 소비자 금융 대출을 받으러 갑니다. #Person1#은 #Person2#에게 빌려줄 수 있는 최대 금액이 20,000 RMB라고 말하고 #Person2#는 대출을 받기로 합니다.\n",
      "\n",
      "ROUGE-1 Score: 0.48780487307555026\n",
      "ROUGE-2 Score: 0.24390243409875084\n",
      "ROUGE-L Score: 0.48780487307555026\n",
      "Combined ROUGE Score: 40.65040600832838\n",
      "\n",
      "====================================================================================================\n"
     ]
    },
    {
     "name": "stderr",
     "output_type": "stream",
     "text": [
      " 35%|███▍      | 173/499 [02:39<04:16,  1.27it/s]"
     ]
    },
    {
     "name": "stdout",
     "output_type": "stream",
     "text": [
      "==172==\n",
      "Pred Summary: #Person2#는 여행을 좋아하고 사람들과 일하는 것을 즐기는 승무원 지원자입니다. 그들은 영어를 잘하고, 간호 경험이 있으며, 친절하고 따뜻한 성격을 가지고 있습니다. 그러나 싫은 말을 잘 하지 못하는 경향이 있습니다.\n",
      "\n",
      "Gold Summary: #Person1#은 승무원으로 취직하고 싶어하는 #Person2#를 면접하고 있습니다. #Person1#은 #Person2#에게 #Person2#의 동기, 영어 능력, 건강 상태, 간호 경험, 키, 시력, 강점, 약점 등에 대해 묻습니다.\n",
      "\n",
      "ROUGE-1 Score: 0.07999999503200031\n",
      "ROUGE-2 Score: 0.0\n",
      "ROUGE-L Score: 0.07999999503200031\n",
      "Combined ROUGE Score: 5.333333002133354\n",
      "\n",
      "====================================================================================================\n"
     ]
    },
    {
     "name": "stderr",
     "output_type": "stream",
     "text": [
      " 35%|███▍      | 174/499 [02:40<04:29,  1.21it/s]"
     ]
    },
    {
     "name": "stdout",
     "output_type": "stream",
     "text": [
      "==173==\n",
      "Pred Summary: #Person1#은 #Person2#에게 IBM에서의 경험과 업무에 도움이 되는 강점에 대해 물었다. #Person2#는 2년 동안 비서로 일했으며 사람들과 잘 지내는 것을 즐긴다고 말했다. #Person1#은 협업에 능한 팀 플레이어를 칭찬했다.\n",
      "\n",
      "Gold Summary: 비키가 #Person1#에게 IBM에서 2년 동안 비서로 일했으며 많은 것을 배운 느낌이라고 말합니다. 비키는 협업을 좋아합니다.\n",
      "\n",
      "ROUGE-1 Score: 0.2439024343842951\n",
      "ROUGE-2 Score: 0.14999999545000015\n",
      "ROUGE-L Score: 0.2439024343842951\n",
      "Combined ROUGE Score: 21.260162140619677\n",
      "\n",
      "====================================================================================================\n"
     ]
    },
    {
     "name": "stderr",
     "output_type": "stream",
     "text": [
      " 35%|███▌      | 175/499 [02:41<04:30,  1.20it/s]"
     ]
    },
    {
     "name": "stdout",
     "output_type": "stream",
     "text": [
      "==174==\n",
      "Pred Summary: #Person2#는 외향적이고 열정적인 사람으로, 좋은 친구를 갖는 것이 행복의 핵심이라고 생각합니다. 그들은 정직하고 헌신적인 사람들과 함께 일하고 싶어하며, 게으르고 업무 방침을 위반하는 사람들과는 일하기 어렵다고 생각합니다.\n",
      "\n",
      "Gold Summary: #Person2#는 자신이 활동적이고 에너지 넘치고 외향적이라고 생각합니다. #Person2#는 친구 관계를 매우 중요하게 생각하며, #Person1#에게 친한 친구들에 대해 이야기합니다. #Person2#는 정직하고 헌신적이고 청렴한 사람들과 일하는 것을 좋아하며 게으르고 업무 방침을 위반하는 사람들과는 일하기 어렵다고 생각합니다.\n",
      "\n",
      "ROUGE-1 Score: 0.3928571379145408\n",
      "ROUGE-2 Score: 0.24137930543995254\n",
      "ROUGE-L Score: 0.3928571379145408\n",
      "Combined ROUGE Score: 34.2364527089678\n",
      "\n",
      "====================================================================================================\n"
     ]
    },
    {
     "name": "stderr",
     "output_type": "stream",
     "text": [
      " 35%|███▌      | 176/499 [02:42<04:22,  1.23it/s]"
     ]
    },
    {
     "name": "stdout",
     "output_type": "stream",
     "text": [
      "==175==\n",
      "Pred Summary: 관리자는 직원의 업무가 불만족스러울 때 일대일 대화를 통해 문제를 해결해야 합니다. 엘리베이터와 같은 공공장소에서 직원을 꾸짖는 것은 적절하지 않습니다.\n",
      "\n",
      "Gold Summary: #Person1#과 #Person2#가 관리자는 직원의 불만족스러운 업무에 대해 일대일로 만나 긍정적인 방식으로 이야기를 나눠야 한다는 데 동의합니다.\n",
      "\n",
      "ROUGE-1 Score: 0.11428570932244919\n",
      "ROUGE-2 Score: 0.060606055647383326\n",
      "ROUGE-L Score: 0.11428570932244919\n",
      "Combined ROUGE Score: 9.639249143076057\n",
      "\n",
      "====================================================================================================\n"
     ]
    },
    {
     "name": "stderr",
     "output_type": "stream",
     "text": [
      " 35%|███▌      | 177/499 [02:42<04:03,  1.32it/s]"
     ]
    },
    {
     "name": "stdout",
     "output_type": "stream",
     "text": [
      "==176==\n",
      "Pred Summary: #Person1#은 방을 빌리는 방법을 묻고, #Person2#는 신문을 읽고 집주인에게 전화하는 것을 제안합니다.\n",
      "\n",
      "Gold Summary: #Person2#는 #Person1#에게 임대차 정보를 얻으려면 신문을 읽으라고 권합니다.\n",
      "\n",
      "ROUGE-1 Score: 0.1999999952000001\n",
      "ROUGE-2 Score: 0.0\n",
      "ROUGE-L Score: 0.1999999952000001\n",
      "Combined ROUGE Score: 13.33333301333334\n",
      "\n",
      "====================================================================================================\n"
     ]
    },
    {
     "name": "stderr",
     "output_type": "stream",
     "text": [
      " 36%|███▌      | 178/499 [02:43<04:14,  1.26it/s]"
     ]
    },
    {
     "name": "stdout",
     "output_type": "stream",
     "text": [
      "==177==\n",
      "Pred Summary: #Person1#은 금요일에 다크 앤 스토미 나잇을 보고 싶어했지만 매진되어서 토요일이나 일요일에 보기로 했다. 그들은 앞줄에 함께 앉을 수 있는 자리를 선택했고, 총 25달러를 지불했다.\n",
      "\n",
      "Gold Summary: #Person2#는 #Person1#에게 토요일에 다크 앤 스토미 나잇을 보기 위한 두 장의 티켓을 예약해 주었습니다. 자리는 서로 옆에 있고 앞줄에 있습니다.\n",
      "\n",
      "ROUGE-1 Score: 0.22727272231404969\n",
      "ROUGE-2 Score: 0.14285713790249452\n",
      "ROUGE-L Score: 0.22727272231404969\n",
      "Combined ROUGE Score: 19.913419417686463\n",
      "\n",
      "====================================================================================================\n"
     ]
    },
    {
     "name": "stderr",
     "output_type": "stream",
     "text": [
      " 36%|███▌      | 179/499 [02:44<04:46,  1.12it/s]"
     ]
    },
    {
     "name": "stdout",
     "output_type": "stream",
     "text": [
      "==178==\n",
      "Pred Summary: #Person1#은 자전거 판매와 수리를 모두 제공한다고 설명했다. #Person2#는 로드 자전거를 교환하고 싶어했는데, #Person1#은 더 작은 바퀴를 달지 말고 몸에 맞는 크기의 자전거를 사는 것이 좋다고 제안했다. #Person1#은 중고 자전거 매매를 하기 때문에 교환에 대해서도 공정한 가격을 제시할 수 있다고 말했다.\n",
      "\n",
      "Gold Summary: #Person1#은 사촌에게 받은 자전거에 작은 바퀴를 달고 싶어하는 #Person2#를 도와줄 수 있지만, #Person1#은 #Person2#에게 그 자전거를 팔고 적합한 크기의 자전거를 사라고 권합니다.\n",
      "\n",
      "ROUGE-1 Score: 0.21428570969387764\n",
      "ROUGE-2 Score: 0.06666666211666698\n",
      "ROUGE-L Score: 0.21428570969387764\n",
      "Combined ROUGE Score: 16.50793605014741\n",
      "\n",
      "====================================================================================================\n"
     ]
    },
    {
     "name": "stderr",
     "output_type": "stream",
     "text": [
      " 36%|███▌      | 180/499 [02:45<04:39,  1.14it/s]"
     ]
    },
    {
     "name": "stdout",
     "output_type": "stream",
     "text": [
      "==179==\n",
      "Pred Summary: #Person1#과 #Person2#는 호텔 방을 예약하려고 한다. #Person2#는 1층에 있는 방을 원하지 않는다. 펜트하우스 방은 1박에 400이다.\n",
      "\n",
      "Gold Summary: #Person1#은 호텔 객실 예약에 대해 #Person2#의 조언이 필요합니다. #Person2#는 비싼 가격에 놀랍니다. #Person2#는 가격이 합리적인 상층의 방을 원합니다.\n",
      "\n",
      "ROUGE-1 Score: 0.19354838214360054\n",
      "ROUGE-2 Score: 0.0\n",
      "ROUGE-L Score: 0.19354838214360054\n",
      "Combined ROUGE Score: 12.903225476240035\n",
      "\n",
      "====================================================================================================\n"
     ]
    },
    {
     "name": "stderr",
     "output_type": "stream",
     "text": [
      " 36%|███▋      | 181/499 [02:46<04:45,  1.12it/s]"
     ]
    },
    {
     "name": "stdout",
     "output_type": "stream",
     "text": [
      "==180==\n",
      "Pred Summary: #Person2#는 23일에 베를린행 비행기를 예약하고 싶어한다. #Person1#은 하루 일찍 출발하는 것이 더 저렴하다고 알려준다. #Person2#는 그 비행기를 예약하고, #Person1#은 항공편과 일정을 확인한다.\n",
      "\n",
      "Gold Summary: #Person1#은 #Person2#가 이번 달 22일에 솔트레이크시티에서 베를린으로 가는 비행편과 29일에 돌아오는 비행편을 예약하도록 도와줍니다.\n",
      "\n",
      "ROUGE-1 Score: 0.06060605572084521\n",
      "ROUGE-2 Score: 0.0\n",
      "ROUGE-L Score: 0.06060605572084521\n",
      "Combined ROUGE Score: 4.0404037147230145\n",
      "\n",
      "====================================================================================================\n"
     ]
    },
    {
     "name": "stderr",
     "output_type": "stream",
     "text": [
      " 36%|███▋      | 182/499 [02:47<04:57,  1.07it/s]"
     ]
    },
    {
     "name": "stdout",
     "output_type": "stream",
     "text": [
      "==181==\n",
      "Pred Summary: #Person1#은 뉴욕 현대미술관에서 조지아 오'키프의 '레이크 조지 윈도우'라는 그림을 복제한 복제화로 방 벽을 장식했다. 그들은 미술사학과에서 보스턴 '파인드 아웃 뮤지엄'으로 다음 박물관 투어를 계획하고 있으며, 돌아올 때 더 많은 복제화를 얻을 수도 있다.\n",
      "\n",
      "Gold Summary: #Person1#은 #Person2#의 방 벽을 박물관 투어에서 구입한 복제화로 덮었습니다. #Person1#은 다음 번 박물관 투어를 신청할 계획입니다.\n",
      "\n",
      "ROUGE-1 Score: 0.29787233624264375\n",
      "ROUGE-2 Score: 0.08510637863286577\n",
      "ROUGE-L Score: 0.2553191447532821\n",
      "Combined ROUGE Score: 21.27659532095972\n",
      "\n",
      "====================================================================================================\n"
     ]
    },
    {
     "name": "stderr",
     "output_type": "stream",
     "text": [
      " 37%|███▋      | 183/499 [02:48<05:16,  1.00s/it]"
     ]
    },
    {
     "name": "stdout",
     "output_type": "stream",
     "text": [
      "==182==\n",
      "Pred Summary: #Person1#과 #Person2#는 #Person2#의 자유와 부모님의 허락에 대해 이야기한다. #Person2#는 부모님이 용돈을 주고, 어느 정도 외출을 허락하지만, 이번 여름에 남자친구와 휴가를 가는 것은 허락하지 않는다. #Person2#는 이것이 불공평하다고 생각하지만, 부모님의 결정을 이해한다.\n",
      "\n",
      "Gold Summary: #Person2#의 부모님은 #Person2#가 저녁마다 외출하도록 허락하고 일주일에 한 번씩 용돈을 주지만, #Person2#가 17살이 되기 전에 남자친구와 여행 가는 것은 허락하지 않습니다.\n",
      "\n",
      "ROUGE-1 Score: 0.24999999513888896\n",
      "ROUGE-2 Score: 0.07999999520000028\n",
      "ROUGE-L Score: 0.24999999513888896\n",
      "Combined ROUGE Score: 19.333332849259275\n",
      "\n",
      "====================================================================================================\n"
     ]
    },
    {
     "name": "stderr",
     "output_type": "stream",
     "text": [
      " 37%|███▋      | 184/499 [02:49<04:52,  1.08it/s]"
     ]
    },
    {
     "name": "stdout",
     "output_type": "stream",
     "text": [
      "==183==\n",
      "Pred Summary: #Person2#는 자정까지 기사를 쓰고 있었고, 그 기사는 아마존 계곡의 변화에 대한 것이었다. 그들은 지금까지 열 두 편의 기사를 팔았으며, 뉴스 서비스에 팔기를 희망하고 있다.\n",
      "\n",
      "Gold Summary: #Person1#은 #Person2#가 지난 달에 다녀온 아마존 여행에 대한 기사를 타이핑하고 있는 #Person2#에게 밤이 늦었음을 상기시킨다. #Person2#는 그 기사를 뉴스 서비스에 팔고 싶어 한다. 그래서 #Person2#가 정기적으로 다른 기사를 작성할 수 있게 되기를 바란다.\n",
      "\n",
      "ROUGE-1 Score: 0.2641509384834461\n",
      "ROUGE-2 Score: 0.036363631497521316\n",
      "ROUGE-L Score: 0.2264150894268424\n",
      "Combined ROUGE Score: 17.56432198026033\n",
      "\n",
      "====================================================================================================\n"
     ]
    },
    {
     "name": "stderr",
     "output_type": "stream",
     "text": [
      " 37%|███▋      | 185/499 [02:50<05:27,  1.04s/it]"
     ]
    },
    {
     "name": "stdout",
     "output_type": "stream",
     "text": [
      "==184==\n",
      "Pred Summary: #Person1#은 릭이 일하는 법률사무소 사장이 릭에게 브라질에서 한 달 동안 일하라고 요청했다는 소식을 공유했다. 릭은 이 기회를 고대하며, 항공 여행, 식사, 호텔 등 모든 비용을 지원받을 예정이다. 이는 릭의 첫 해외 여행이며, 그는 여동생에게 선물 사다 주기로 약속했다. #Person1#은 릭이 일주일 안에 출발할 것으로 예상하며, 그는 혼자 갈 것이라고 언급했다.\n",
      "\n",
      "Gold Summary: #Person1#은 #Person2#에게 릭이 일주일 뒤 브라질로 가서 한 달 동안 일할 예정이라고 말한다. 릭은 혼자 갈 예정이고 모든 비용을 지원받는다.\n",
      "\n",
      "ROUGE-1 Score: 0.3283582047672088\n",
      "ROUGE-2 Score: 0.14925372728001793\n",
      "ROUGE-L Score: 0.3283582047672088\n",
      "Combined ROUGE Score: 26.865671227147853\n",
      "\n",
      "====================================================================================================\n"
     ]
    },
    {
     "name": "stderr",
     "output_type": "stream",
     "text": [
      " 37%|███▋      | 186/499 [02:51<05:15,  1.01s/it]"
     ]
    },
    {
     "name": "stdout",
     "output_type": "stream",
     "text": [
      "==185==\n",
      "Pred Summary: #Person2#는 아버지의 날 선물을 찾고 있지만 예산은 10달러뿐이다. #Person1#은 처음에는 더 비싼 지갑을 제안하지만, #Person2#가 돈이 부족하다는 것을 알게 되자 더 저렴한 넥타이를 제안하고 가격을 할인해준다.\n",
      "\n",
      "Gold Summary: #Person2#가 아버지의 날 선물을 찾고 있습니다. 그녀는 지난주 내내 집안일을 도우면서 돈을 벌었지만, 수중에 10달러 정도밖에 없습니다. #Person1#이 13.99달러짜리 넥타이를 그녀에게 5달러에 판매합니다.\n",
      "\n",
      "ROUGE-1 Score: 0.24489795418575602\n",
      "ROUGE-2 Score: 0.12499999500868073\n",
      "ROUGE-L Score: 0.24489795418575602\n",
      "Combined ROUGE Score: 20.49319677933976\n",
      "\n",
      "====================================================================================================\n"
     ]
    },
    {
     "name": "stderr",
     "output_type": "stream",
     "text": [
      " 37%|███▋      | 187/499 [02:52<04:34,  1.13it/s]"
     ]
    },
    {
     "name": "stdout",
     "output_type": "stream",
     "text": [
      "==186==\n",
      "Pred Summary: #Person1#과 #Person2#는 황허로에 있는 대학으로 가기 위해 택시를 함께 타기로 결정했다.\n",
      "\n",
      "Gold Summary: #Person1#은 택시 비용을 절약하고 싶고 #Person2#의 중국어 실력이 더 좋기 때문에 #Person2#와 택시를 같이 타고 가고 싶어합니다. #Person2#는 그러자고 합니다.\n",
      "\n",
      "ROUGE-1 Score: 0.1290322534859523\n",
      "ROUGE-2 Score: 0.0\n",
      "ROUGE-L Score: 0.1290322534859523\n",
      "Combined ROUGE Score: 8.60215023239682\n",
      "\n",
      "====================================================================================================\n"
     ]
    },
    {
     "name": "stderr",
     "output_type": "stream",
     "text": [
      " 38%|███▊      | 188/499 [02:53<05:34,  1.07s/it]"
     ]
    },
    {
     "name": "stdout",
     "output_type": "stream",
     "text": [
      "==187==\n",
      "Pred Summary: #Person1#은 식기를 찾고, #Person2#는 손으로 먹으라고 제안한다. #Person3#은 요리에 대해 설명하고, #Person1#은 그것을 즐긴다. #Person2#는 국제법과 비즈니스에 대한 공부와 가족 회사를 공유하며, #Person3#은 #Person2#가 첫 번째 흑인 대통령이 되고 싶어한다고 밝힌다.\n",
      "\n",
      "Gold Summary: #Person1#과 클라이드, #Person3#이 함께 식사를 하는데 클라이드가 첫 번째 흑인 대통령이 되고 싶다고 말합니다.\n",
      "\n",
      "ROUGE-1 Score: 0.23809523365079371\n",
      "ROUGE-2 Score: 0.1860465074094106\n",
      "ROUGE-L Score: 0.23809523365079371\n",
      "Combined ROUGE Score: 22.07456582369993\n",
      "\n",
      "====================================================================================================\n"
     ]
    },
    {
     "name": "stderr",
     "output_type": "stream",
     "text": [
      " 38%|███▊      | 189/499 [02:54<05:08,  1.00it/s]"
     ]
    },
    {
     "name": "stdout",
     "output_type": "stream",
     "text": [
      "==188==\n",
      "Pred Summary: #Person1#은 주문 제작 치마를 맞추고 싶어하며, 허리는 조금 타이트하게 원한다. 제작에는 일주일이 걸리며, 재단 비용은 치마 한 벌에 20위안이다.\n",
      "\n",
      "Gold Summary: #Person1#이 #Person2#에게 주문 제작 스커트를 맞추고 싶어합니다.\n",
      "\n",
      "ROUGE-1 Score: 0.23076922683431958\n",
      "ROUGE-2 Score: 0.0833333295833335\n",
      "ROUGE-L Score: 0.23076922683431958\n",
      "Combined ROUGE Score: 18.162392775065754\n",
      "\n",
      "====================================================================================================\n"
     ]
    },
    {
     "name": "stderr",
     "output_type": "stream",
     "text": [
      " 38%|███▊      | 190/499 [02:55<04:34,  1.13it/s]"
     ]
    },
    {
     "name": "stdout",
     "output_type": "stream",
     "text": [
      "==189==\n",
      "Pred Summary: #Person1#은 재즈 학생들을 가르치고 싶어하지만, #Person2#는 그들이 도시에서 학생들을 찾는 것이 비현실적이라고 생각합니다.\n",
      "\n",
      "Gold Summary: 이자벨은 #Person1#이 몽상가라고 생각한다. #Person1#이 현실적인 일을 하지 않기 때문이다.\n",
      "\n",
      "ROUGE-1 Score: 0.0\n",
      "ROUGE-2 Score: 0.0\n",
      "ROUGE-L Score: 0.0\n",
      "Combined ROUGE Score: 0.0\n",
      "\n",
      "====================================================================================================\n"
     ]
    },
    {
     "name": "stderr",
     "output_type": "stream",
     "text": [
      " 38%|███▊      | 191/499 [02:55<04:12,  1.22it/s]"
     ]
    },
    {
     "name": "stdout",
     "output_type": "stream",
     "text": [
      "==190==\n",
      "Pred Summary: #Person2#는 동아시아어학과 학생으로 일본어를 전공하고 있습니다. 그들은 문학 수업이 매우 도움이 되며, 훌륭한 문학 작품을 많이 읽었다고 생각합니다.\n",
      "\n",
      "Gold Summary: #Person2#는 일본어 전공이며 문학 수업이 도움이 된다고 생각합니다.\n",
      "\n",
      "ROUGE-1 Score: 0.39999999564800004\n",
      "ROUGE-2 Score: 0.08333332920138908\n",
      "ROUGE-L Score: 0.39999999564800004\n",
      "Combined ROUGE Score: 29.44444401657964\n",
      "\n",
      "====================================================================================================\n"
     ]
    },
    {
     "name": "stderr",
     "output_type": "stream",
     "text": [
      " 38%|███▊      | 192/499 [02:56<04:11,  1.22it/s]"
     ]
    },
    {
     "name": "stdout",
     "output_type": "stream",
     "text": [
      "==191==\n",
      "Pred Summary: #Person1#은 백혈구 수치 검사를 위해 채혈을 받으러 왔습니다. #Person2#는 바늘로 찌를 때 잠깐 따끔할 것이라고 설명하며, 튜브에 들어간 피 정도면 충분하다고 말했습니다.\n",
      "\n",
      "Gold Summary: 의사가 #Person1#의 백혈구 수치를 알고 싶어해서 #Person2#가 #Person1#의 피를 뽑고 있습니다.\n",
      "\n",
      "ROUGE-1 Score: 0.06249999570312531\n",
      "ROUGE-2 Score: 0.0\n",
      "ROUGE-L Score: 0.06249999570312531\n",
      "Combined ROUGE Score: 4.166666380208354\n",
      "\n",
      "====================================================================================================\n"
     ]
    },
    {
     "name": "stderr",
     "output_type": "stream",
     "text": [
      " 39%|███▊      | 193/499 [02:57<04:19,  1.18it/s]"
     ]
    },
    {
     "name": "stdout",
     "output_type": "stream",
     "text": [
      "==192==\n",
      "Pred Summary: #Person1#과 #Person2#는 켄터키에서 매년 5월 첫 번째 토요일에 열리는 모자 퍼레이드에 대해 이야기하고 있습니다. 이 퍼레이드는 모자에 관한 모든 것으로, 미국 남부의 패션 전통이며 행운을 가져다주는 것으로 알려져 있습니다.\n",
      "\n",
      "Gold Summary: #Person1#이 켄터키에서 가장 특별한 행사인 모자 퍼레이드를 #Person2#에게 소개합니다.\n",
      "\n",
      "ROUGE-1 Score: 0.10810810442658889\n",
      "ROUGE-2 Score: 0.0\n",
      "ROUGE-L Score: 0.10810810442658889\n",
      "Combined ROUGE Score: 7.2072069617725925\n",
      "\n",
      "====================================================================================================\n"
     ]
    },
    {
     "name": "stderr",
     "output_type": "stream",
     "text": [
      " 39%|███▉      | 194/499 [02:58<04:48,  1.06it/s]"
     ]
    },
    {
     "name": "stdout",
     "output_type": "stream",
     "text": [
      "==193==\n",
      "Pred Summary: #Person1#은 #Person2#에게 늦은 밤 현관문을 열 때 나는 소음에 대해 불평하고, #Person2#는 이번 주말에 문을 고치기로 약속한다.\n",
      "\n",
      "Gold Summary: 존은 에임스 양에게 문에서 소리가 나니 문에 기름을 칠해달라고 하고 에임스 양은 그러겠다고 합니다.\n",
      "\n",
      "ROUGE-1 Score: 0.0\n",
      "ROUGE-2 Score: 0.0\n",
      "ROUGE-L Score: 0.0\n",
      "Combined ROUGE Score: 0.0\n",
      "\n",
      "====================================================================================================\n"
     ]
    },
    {
     "name": "stderr",
     "output_type": "stream",
     "text": [
      " 39%|███▉      | 195/499 [02:59<04:49,  1.05it/s]"
     ]
    },
    {
     "name": "stdout",
     "output_type": "stream",
     "text": [
      "==194==\n",
      "Pred Summary: #Person1#과 #Person2#는 #Person2#의 어린 시절과 첫 해외 여행에 대해 이야기합니다. #Person2#는 어릴 적에는 책에 빠져 있었고, 14살 때 리버풀로 첫 해외 여행을 다녀왔다고 말합니다.\n",
      "\n",
      "Gold Summary: 마크는 몬트리올에서 태어나 캘거리에서 자랐습니다. 그는 어릴 때 책을 많이 읽었습니다. 그의 첫 해외 여행은 14살 때 리버풀 여행이었습니다.\n",
      "\n",
      "ROUGE-1 Score: 0.2564102514398423\n",
      "ROUGE-2 Score: 0.09999999505000023\n",
      "ROUGE-L Score: 0.2564102514398423\n",
      "Combined ROUGE Score: 20.427349930989493\n",
      "\n",
      "====================================================================================================\n"
     ]
    },
    {
     "name": "stderr",
     "output_type": "stream",
     "text": [
      " 39%|███▉      | 196/499 [03:00<04:26,  1.14it/s]"
     ]
    },
    {
     "name": "stdout",
     "output_type": "stream",
     "text": [
      "==195==\n",
      "Pred Summary: #Person2#는 스케이트보드에서 떨어져 수영장에 빠지면서 하루가 끔찍해졌다. 버스를 타려 했지만 기사가 태워주지 않아 집까지 걸어가야 했다.\n",
      "\n",
      "Gold Summary: 데이비드가 #Person1#에게 끔찍한 하루에 대해 이야기한다. 데이비드는 오늘 아침에 스케이트보드에서 떨어져 수영장에 빠졌고 집까지 걸어왔다.\n",
      "\n",
      "ROUGE-1 Score: 0.2580645111342353\n",
      "ROUGE-2 Score: 0.1379310294887041\n",
      "ROUGE-L Score: 0.2580645111342353\n",
      "Combined ROUGE Score: 21.802001725239155\n",
      "\n",
      "====================================================================================================\n"
     ]
    },
    {
     "name": "stderr",
     "output_type": "stream",
     "text": [
      " 39%|███▉      | 197/499 [03:01<04:43,  1.06it/s]"
     ]
    },
    {
     "name": "stdout",
     "output_type": "stream",
     "text": [
      "==196==\n",
      "Pred Summary: #Person2#는 가게 밖에서 문자를 보내던 중 휴대폰을 도난당했습니다. 그들은 도둑의 얼굴을 보지 못했지만, 감시 카메라가 도둑의 얼굴을 찍었을 수도 있습니다. #Person1#은 보험사에 문의하여 보상 가능성을 확인하고, #Person2#는 근처 경찰관에게 신고할 계획입니다.\n",
      "\n",
      "Gold Summary: 토미가 엄마의 휴대폰을 사용하던 중에 도난당했다. 그의 엄마는 그에게 당장 경찰에게 신고하라고 했다.\n",
      "\n",
      "ROUGE-1 Score: 0.048780483474122935\n",
      "ROUGE-2 Score: 0.0\n",
      "ROUGE-L Score: 0.048780483474122935\n",
      "Combined ROUGE Score: 3.2520322316081955\n",
      "\n",
      "====================================================================================================\n"
     ]
    },
    {
     "name": "stderr",
     "output_type": "stream",
     "text": [
      " 40%|███▉      | 198/499 [03:02<04:37,  1.08it/s]"
     ]
    },
    {
     "name": "stdout",
     "output_type": "stream",
     "text": [
      "==197==\n",
      "Pred Summary: #Person1#과 #Person2#는 #Person2#의 새 집에 어울리는 테이블을 찾고 있다. #Person2#는 밝은 색과 해변에 어울리는 느낌을 원하며, #Person1#은 그들의 요구에 맞는 테이블을 찾기 어려워한다.\n",
      "\n",
      "Gold Summary: #Person1#과 #Person2#가 #Person2#의 새 집에 놓을 테이블을 찾고 있습니다. #Person1#은 #Person2#가 까다롭다고 생각합니다.\n",
      "\n",
      "ROUGE-1 Score: 0.4374999953125\n",
      "ROUGE-2 Score: 0.17647058366782017\n",
      "ROUGE-L Score: 0.4374999953125\n",
      "Combined ROUGE Score: 35.049019143094\n",
      "\n",
      "====================================================================================================\n"
     ]
    },
    {
     "name": "stderr",
     "output_type": "stream",
     "text": [
      " 40%|███▉      | 199/499 [03:03<04:38,  1.08it/s]"
     ]
    },
    {
     "name": "stdout",
     "output_type": "stream",
     "text": [
      "==198==\n",
      "Pred Summary: #Person1#은 #Person2#에게 1월에 영업 회의를 위해 200명 정도 수용할 수 있는 공간을 추천한다. #Person2#는 19호실과 26로실을 선택하며, 끝자리가 9인 것을 선호한다.\n",
      "\n",
      "Gold Summary: #Person1#은 조지 데이먼이 회사 미팅을 위해 의자, 무대, 프로젝션 스크린이 있는 방을 예약해 줍니다.\n",
      "\n",
      "ROUGE-1 Score: 0.17142856662857156\n",
      "ROUGE-2 Score: 0.0\n",
      "ROUGE-L Score: 0.17142856662857156\n",
      "Combined ROUGE Score: 11.428571108571438\n",
      "\n",
      "====================================================================================================\n"
     ]
    },
    {
     "name": "stderr",
     "output_type": "stream",
     "text": [
      " 40%|████      | 200/499 [03:04<04:17,  1.16it/s]"
     ]
    },
    {
     "name": "stdout",
     "output_type": "stream",
     "text": [
      "==199==\n",
      "Pred Summary: #Person1#과 #Person2#는 자전거의 성공에 대해 이야기하며, 저렴한 비용, 간단한 디자인, 안전성, 그리고 현대적인 디자인의 좋은 예라는 점을 강조한다.\n",
      "\n",
      "Gold Summary: #Person1#과 #Person2#는 성공적인 발명품인 자전거의 주요 장점에 대해 이야기한다.\n",
      "\n",
      "ROUGE-1 Score: 0.2962962918518519\n",
      "ROUGE-2 Score: 0.07999999564800023\n",
      "ROUGE-L Score: 0.2962962918518519\n",
      "Combined ROUGE Score: 22.4197526450568\n",
      "\n",
      "====================================================================================================\n"
     ]
    },
    {
     "name": "stderr",
     "output_type": "stream",
     "text": [
      " 40%|████      | 201/499 [03:05<04:27,  1.11it/s]"
     ]
    },
    {
     "name": "stdout",
     "output_type": "stream",
     "text": [
      "==200==\n",
      "Pred Summary: #Person1#은 애완동물을 사고 싶어하며, #Person2#는 레이첼의 애완동물 가게를 추천한다. 그러나 #Person2#는 이국적인 애완동물의 잠재적인 건강 위험에 대해 경고하고, #Person1#은 강아지를 고려하기로 결정한다.\n",
      "\n",
      "Gold Summary: 마리아는 애완동물을 사고 싶어하고, 샘은 레이첼의 애완동물 가게를 추천한다. 마리아는 뱀을 키우고 싶어하지만, 샘은 건강 문제로 비전통적인 애완동물을 키우지 않는 것이 좋다고 설득한다.\n",
      "\n",
      "ROUGE-1 Score: 0.349999995\n",
      "ROUGE-2 Score: 0.18604650663061129\n",
      "ROUGE-L Score: 0.349999995\n",
      "Combined ROUGE Score: 29.534883221020376\n",
      "\n",
      "====================================================================================================\n"
     ]
    },
    {
     "name": "stderr",
     "output_type": "stream",
     "text": [
      " 40%|████      | 202/499 [03:06<04:39,  1.06it/s]"
     ]
    },
    {
     "name": "stdout",
     "output_type": "stream",
     "text": [
      "==201==\n",
      "Pred Summary: #Person2#는 중국에서 약 5년간 사업을 해왔으며, 중국 파트너들과의 문제는 없었다고 언급했습니다. 그들은 중국 정부의 법률을 완벽하게 만들기 위한 노력을 인정하며, 외국 기업에 법적 보호를 제공합니다. 그러나 #Person2#는 중미 관계의 딜레마와 그것이 미래에 중국에서의 사업에 영향을 미칠 수 있다는 우려를 표명했습니다.\n",
      "\n",
      "Gold Summary: #Person1#은 #Person2#에게 중국과의 사업에 대한 여러 질문을 한다. #Person2#는 법률에 의해 보호받는 #Person2#의 사업과 중미 관계가현재로서는 사업에 영향을 미치지 않았다고 말한다.\n",
      "\n",
      "ROUGE-1 Score: 0.13793102996432832\n",
      "ROUGE-2 Score: 0.03389830060327551\n",
      "ROUGE-L Score: 0.13793102996432832\n",
      "Combined ROUGE Score: 10.325345351064403\n",
      "\n",
      "====================================================================================================\n"
     ]
    },
    {
     "name": "stderr",
     "output_type": "stream",
     "text": [
      " 41%|████      | 203/499 [03:07<04:47,  1.03it/s]"
     ]
    },
    {
     "name": "stdout",
     "output_type": "stream",
     "text": [
      "==202==\n",
      "Pred Summary: #Person1#은 광고가 많고 흥미로운 프로그램이 없어서 채널을 바꾸고 싶어한다. #Person2#는 동의하고, #Person1#은 12번 채널로 바꾼다. 그들은 이전에 본 적이 없는 토크쇼를 발견하고, #Person2#는 그것이 재미있다고 생각한다.\n",
      "\n",
      "Gold Summary: #Person1#은 케이트에게 채널 변경을 요청하고, 케이트는 #Person1#에게 토크쇼를 추천한다.\n",
      "\n",
      "ROUGE-1 Score: 0.1212121172451792\n",
      "ROUGE-2 Score: 0.0\n",
      "ROUGE-L Score: 0.1212121172451792\n",
      "Combined ROUGE Score: 8.08080781634528\n",
      "\n",
      "====================================================================================================\n"
     ]
    },
    {
     "name": "stderr",
     "output_type": "stream",
     "text": [
      " 41%|████      | 204/499 [03:07<04:13,  1.16it/s]"
     ]
    },
    {
     "name": "stdout",
     "output_type": "stream",
     "text": [
      "==203==\n",
      "Pred Summary: #Person1#은 계산서에서 실수를 발견했고, #Person2#는 이를 확인하고 수정하기 위해 확인 중이다.\n",
      "\n",
      "Gold Summary: #Person1#은 계산서에 오류를 발견하고, #Person2#는 그것을 확인할 것이다.\n",
      "\n",
      "ROUGE-1 Score: 0.21052631091412755\n",
      "ROUGE-2 Score: 0.0\n",
      "ROUGE-L Score: 0.21052631091412755\n",
      "Combined ROUGE Score: 14.03508739427517\n",
      "\n",
      "====================================================================================================\n"
     ]
    },
    {
     "name": "stderr",
     "output_type": "stream",
     "text": [
      " 41%|████      | 205/499 [03:08<04:17,  1.14it/s]"
     ]
    },
    {
     "name": "stdout",
     "output_type": "stream",
     "text": [
      "==204==\n",
      "Pred Summary: #Person1#과 #Person2#는 일요일에 해변에 가기로 계획한다. #Person2#는 해변 수건을 가져오고, #Person1#은 서핑하는 법을 가르쳐 줄 것이다. 그들은 음식과 기름값에 약 10불을 가져와야 한다.\n",
      "\n",
      "Gold Summary: 크리스토퍼는 일에 지쳐 휴식을 원하고, #Person1#은 그를 일요일에 해변에 가자고 초대한다. 크리스토퍼는 해변 수건을 가져올 것이고, #Person1#은 크리스토퍼에게 서핑하는 법을 가르칠 것이다. 크리스토퍼는 서핑을 한 번도 해본 적이 없다.\n",
      "\n",
      "ROUGE-1 Score: 0.3333333283680556\n",
      "ROUGE-2 Score: 0.1199999950720002\n",
      "ROUGE-L Score: 0.3333333283680556\n",
      "Combined ROUGE Score: 26.22222172693705\n",
      "\n",
      "====================================================================================================\n"
     ]
    },
    {
     "name": "stderr",
     "output_type": "stream",
     "text": [
      " 41%|████▏     | 206/499 [03:09<04:09,  1.18it/s]"
     ]
    },
    {
     "name": "stdout",
     "output_type": "stream",
     "text": [
      "==205==\n",
      "Pred Summary: #Person1#은 #Person2#에게 헬렌 몰에서 열리는 세일에 함께 가자고 제안했지만, #Person2#는 돈이 없어서 거절했다. #Person1#은 혼자 가기로 결정했다.\n",
      "\n",
      "Gold Summary: #Person1#은 도리스에게 세일에 초대하지만, 도리스는 거절한다.\n",
      "\n",
      "ROUGE-1 Score: 0.18181817785123974\n",
      "ROUGE-2 Score: 0.0\n",
      "ROUGE-L Score: 0.18181817785123974\n",
      "Combined ROUGE Score: 12.121211856749316\n",
      "\n",
      "====================================================================================================\n"
     ]
    },
    {
     "name": "stderr",
     "output_type": "stream",
     "text": [
      " 41%|████▏     | 207/499 [03:10<04:05,  1.19it/s]"
     ]
    },
    {
     "name": "stdout",
     "output_type": "stream",
     "text": [
      "==206==\n",
      "Pred Summary: #Person1#과 #Person2#는 사무실 파티를 계획하고 있다. 그들은 공식적인 행사로 만들고, 미국 음식을 제공하며, 좋은 DJ를 고용하기로 결정했다. 그들은 금요일에 다시 만나서 계획을 논의할 것이다.\n",
      "\n",
      "Gold Summary: #Person2#는 #Person1#가 파티를 준비하는 데 도움을 준다. 그들은 스타일, 음식, 음악을 결정하고 금요일에 자세히 계획할 예정이다.\n",
      "\n",
      "ROUGE-1 Score: 0.20512820028928347\n",
      "ROUGE-2 Score: 0.0\n",
      "ROUGE-L Score: 0.20512820028928347\n",
      "Combined ROUGE Score: 13.675213352618897\n",
      "\n",
      "====================================================================================================\n"
     ]
    },
    {
     "name": "stderr",
     "output_type": "stream",
     "text": [
      " 42%|████▏     | 208/499 [03:11<04:32,  1.07it/s]"
     ]
    },
    {
     "name": "stdout",
     "output_type": "stream",
     "text": [
      "==207==\n",
      "Pred Summary: #Person1#은 처방전을 받으러 왔고, 20분 후에 준비될 것이라고 알려졌습니다. #Person2#는 인터넷을 통해 처방전을 갱신하고 집으로 배달받을 수 있다고 제안했습니다. 이 약은 하루에 두 번 복용해야 하며, 약을 복용할 때는 알코올을 피해야 합니다. 가끔 어지럼증이 발생할 수 있지만, 그것은 흔한 일은 아닙니다.\n",
      "\n",
      "Gold Summary: #Person1#은 처방전을 받기 위해 #Person2#에게 찾아간다. #Person1#은 또한 #Person2#에게 약을 어떻게 복용해야 하는지 물어본다.\n",
      "\n",
      "ROUGE-1 Score: 0.15686274149942336\n",
      "ROUGE-2 Score: 0.03773584535421895\n",
      "ROUGE-L Score: 0.11764705522491362\n",
      "Combined ROUGE Score: 10.408188069285197\n",
      "\n",
      "====================================================================================================\n"
     ]
    },
    {
     "name": "stderr",
     "output_type": "stream",
     "text": [
      " 42%|████▏     | 209/499 [03:12<04:06,  1.18it/s]"
     ]
    },
    {
     "name": "stdout",
     "output_type": "stream",
     "text": [
      "==208==\n",
      "Pred Summary: #Person1#은 TV를 보고 싶어하지만, #Person2#는 거절하고 대신 독서를 권장한다.\n",
      "\n",
      "Gold Summary: 엄마는 #Person1#에게 독서를 하도록 요청하고, 그녀가 TV를 끌 것이다.\n",
      "\n",
      "ROUGE-1 Score: 0.22222221722222232\n",
      "ROUGE-2 Score: 0.0\n",
      "ROUGE-L Score: 0.11111110611111134\n",
      "Combined ROUGE Score: 11.111110777777789\n",
      "\n",
      "====================================================================================================\n"
     ]
    },
    {
     "name": "stderr",
     "output_type": "stream",
     "text": [
      " 42%|████▏     | 210/499 [03:12<04:08,  1.16it/s]"
     ]
    },
    {
     "name": "stdout",
     "output_type": "stream",
     "text": [
      "==209==\n",
      "Pred Summary: #Person1#은 빨간 불을 무시하고 운전한 것으로 인해 경찰관 #Person2#에게 세움을 당했습니다. #Person1#은 자신의 행동에 대해 사과하고, #Person2#는 벌금 티켓을 발행했습니다.\n",
      "\n",
      "Gold Summary: #Person2#는 빨간 불을 무시하고 운전한 #Person1#에게 벌금 티켓을 발행했다.\n",
      "\n",
      "ROUGE-1 Score: 0.49999999563775516\n",
      "ROUGE-2 Score: 0.2962962921262003\n",
      "ROUGE-L Score: 0.49999999563775516\n",
      "Combined ROUGE Score: 43.20987611339036\n",
      "\n",
      "====================================================================================================\n"
     ]
    },
    {
     "name": "stderr",
     "output_type": "stream",
     "text": [
      " 42%|████▏     | 211/499 [03:13<03:36,  1.33it/s]"
     ]
    },
    {
     "name": "stdout",
     "output_type": "stream",
     "text": [
      "==210==\n",
      "Pred Summary: 앨런은 여동생이 차 사고로 혼수 상태에 빠져서 행사에 참석하지 못했다.\n",
      "\n",
      "Gold Summary: 앨런의 여동생이 지난 주에 차 사고를 당했다. #Person1#과 #Person2#는 앨런을 걱정하고 있다.\n",
      "\n",
      "ROUGE-1 Score: 0.18181817685950424\n",
      "ROUGE-2 Score: 0.0\n",
      "ROUGE-L Score: 0.18181817685950424\n",
      "Combined ROUGE Score: 12.121211790633616\n",
      "\n",
      "====================================================================================================\n"
     ]
    },
    {
     "name": "stderr",
     "output_type": "stream",
     "text": [
      " 42%|████▏     | 212/499 [03:14<03:34,  1.34it/s]"
     ]
    },
    {
     "name": "stdout",
     "output_type": "stream",
     "text": [
      "==211==\n",
      "Pred Summary: #Person1#과 #Person2#는 오랜만에 만나서 서로의 안부를 물었다. #Person1#은 시험공부를 하고 있었고, #Person2#는 쇼핑을 가려고 했다.\n",
      "\n",
      "Gold Summary: #Person1#이 존과 그의 부모님에게 인사를 하고, 그 후 존이 #Person1#을 쇼핑에 초대하지만, #Person1#은 누군가를 만나야 한다.\n",
      "\n",
      "ROUGE-1 Score: 0.06666666168888927\n",
      "ROUGE-2 Score: 0.0\n",
      "ROUGE-L Score: 0.06666666168888927\n",
      "Combined ROUGE Score: 4.444444112592618\n",
      "\n",
      "====================================================================================================\n"
     ]
    },
    {
     "name": "stderr",
     "output_type": "stream",
     "text": [
      " 43%|████▎     | 213/499 [03:15<03:38,  1.31it/s]"
     ]
    },
    {
     "name": "stdout",
     "output_type": "stream",
     "text": [
      "==212==\n",
      "Pred Summary: 지나와 빈스는 프로그래머 중 한 명이 웹트레커를 위해 그들을 감시하고 있다고 의심하고 있다. 지나는 테이프 레코더를 빌리고, 그들이 돌아올 때까지 아무에게도 말하지 말라고 요청한다.\n",
      "\n",
      "Gold Summary: 지나는 빈스의 프로그래머 중 한 명이 스파이라고 의심한다. 빈스는 그것을 믿을 수 없다.\n",
      "\n",
      "ROUGE-1 Score: 0.3243243197662528\n",
      "ROUGE-2 Score: 0.1714285669224491\n",
      "ROUGE-L Score: 0.3243243197662528\n",
      "Combined ROUGE Score: 27.33590688183182\n",
      "\n",
      "====================================================================================================\n"
     ]
    },
    {
     "name": "stderr",
     "output_type": "stream",
     "text": [
      " 43%|████▎     | 214/499 [03:15<03:44,  1.27it/s]"
     ]
    },
    {
     "name": "stdout",
     "output_type": "stream",
     "text": [
      "==213==\n",
      "Pred Summary: #Person1#과 #Person2#는 영화 취향에 차이가 있지만, #Person2#는 #Person1#을 공포 영화에 초대하여 손을 잡아주기로 제안한다. #Person1#은 이 아이디어에 동의한다.\n",
      "\n",
      "Gold Summary: #Person2#는 두 번째 데이트에서 공포 영화를 보는 것을 제안하고, #Person1#는 동의한다.\n",
      "\n",
      "ROUGE-1 Score: 0.2142857095153062\n",
      "ROUGE-2 Score: 0.0\n",
      "ROUGE-L Score: 0.2142857095153062\n",
      "Combined ROUGE Score: 14.28571396768708\n",
      "\n",
      "====================================================================================================\n"
     ]
    },
    {
     "name": "stderr",
     "output_type": "stream",
     "text": [
      " 43%|████▎     | 215/499 [03:16<04:02,  1.17it/s]"
     ]
    },
    {
     "name": "stdout",
     "output_type": "stream",
     "text": [
      "==214==\n",
      "Pred Summary: #Person1#은 생활비 부담으로 인해 급여 인상을 요청하고, #Person2#는 추가 책임을 맡는 대신 인상을 제안한다. #Person1#은 스케줄을 담당하고, 초과근무 수당을 받으며, #Person2#는 내일 일찍 와서 스케줄링하는 방법을 가르쳐주기로 한다.\n",
      "\n",
      "Gold Summary: #Person1#은 #Person2#에게 급여 인상을 요청하고 5%의 인상을 제안한다. #Person2#는 #Person1#이 스케줄링에 대한 추가 책임을 맡는다면 인상이 합리적일 것이라고 생각한다.\n",
      "\n",
      "ROUGE-1 Score: 0.3255813904813413\n",
      "ROUGE-2 Score: 0.1333333285333335\n",
      "ROUGE-L Score: 0.3255813904813413\n",
      "Combined ROUGE Score: 26.149870316533868\n",
      "\n",
      "====================================================================================================\n"
     ]
    },
    {
     "name": "stderr",
     "output_type": "stream",
     "text": [
      " 43%|████▎     | 216/499 [03:17<04:19,  1.09it/s]"
     ]
    },
    {
     "name": "stdout",
     "output_type": "stream",
     "text": [
      "==215==\n",
      "Pred Summary: #Person1#과 #Person2#는 #Person2#의 친구인 사이먼에 대해 이야기하고 있다. 사이먼은 #Person2#와의 영화 약속에 나타나지 않았고, 자동차가 고장났다는 변명을 했다. #Person2#는 사이먼의 변명이 거짓말이라고 생각하고, 이제 그를 끊을 시간이라고 생각한다.\n",
      "\n",
      "Gold Summary: 케롤은 레베카에게 사이먼의 거짓말에 대해 이야기하고, 레베카는 도와주려하지만 케롤은 스스로 그를 정리하기로 결정한다.\n",
      "\n",
      "ROUGE-1 Score: 0.15384614958579892\n",
      "ROUGE-2 Score: 0.0\n",
      "ROUGE-L Score: 0.15384614958579892\n",
      "Combined ROUGE Score: 10.256409972386594\n",
      "\n",
      "====================================================================================================\n"
     ]
    },
    {
     "name": "stderr",
     "output_type": "stream",
     "text": [
      " 43%|████▎     | 217/499 [03:18<03:57,  1.18it/s]"
     ]
    },
    {
     "name": "stdout",
     "output_type": "stream",
     "text": [
      "==216==\n",
      "Pred Summary: #Person1#은 #Person2#에게 흡연 금지 구역에서 흡연을 하고 있다고 알렸다. #Person2#는 안내문을 보지 못했고 근시라고 사과했다.\n",
      "\n",
      "Gold Summary: #Person1#이 #Person2#에게 여기서는 흡연하면 안된다고 말한다.\n",
      "\n",
      "ROUGE-1 Score: 0.09523809115646274\n",
      "ROUGE-2 Score: 0.0\n",
      "ROUGE-L Score: 0.09523809115646274\n",
      "Combined ROUGE Score: 6.3492060770975165\n",
      "\n",
      "====================================================================================================\n"
     ]
    },
    {
     "name": "stderr",
     "output_type": "stream",
     "text": [
      " 44%|████▎     | 218/499 [03:19<04:00,  1.17it/s]"
     ]
    },
    {
     "name": "stdout",
     "output_type": "stream",
     "text": [
      "==217==\n",
      "Pred Summary: #Person1#과 #Person2#는 만두를 먹으러 가기로 결정했다. 그들은 결국 몽골 핫팟을 시도하기로 결정했고, 매운 맛을 피하기 위해 연양 팟을 선택했다. 그들은 또한 맛있는 국수를 기대하고 있다.\n",
      "\n",
      "Gold Summary: 에이미는 만두를 원하지만, 릭는 핫팟을 원한다. 그들은 결국 연양 팟을 시도하고 국수도 먹기로 결정한다.\n",
      "\n",
      "ROUGE-1 Score: 0.31578946903047095\n",
      "ROUGE-2 Score: 0.10810810355003672\n",
      "ROUGE-L Score: 0.31578946903047095\n",
      "Combined ROUGE Score: 24.656234720365955\n",
      "\n",
      "====================================================================================================\n"
     ]
    },
    {
     "name": "stderr",
     "output_type": "stream",
     "text": [
      " 44%|████▍     | 219/499 [03:20<04:16,  1.09it/s]"
     ]
    },
    {
     "name": "stdout",
     "output_type": "stream",
     "text": [
      "==218==\n",
      "Pred Summary: #Person1#은 엄마를 도와 설거지를 하고, 양파를 까고 씻은 다음 썰기로 했다. 그 후에 양배추를 씻기로 했다. 아빠는 소파에서 신문을 읽고 있고, 다니엘은 울트라맨과 함께 있다. 엄마는 #Person1#에게 껍질깎을 때 조심하라고 당부했다.\n",
      "\n",
      "Gold Summary: #Person1#이 엄마와 함께 식사 준비를 돕고 있습니다. 엄마는 #Person1#에게 아빠와 다니엘이 무엇을 하고 있는지 물어봅니다.\n",
      "\n",
      "ROUGE-1 Score: 0.13333332888888905\n",
      "ROUGE-2 Score: 0.0454545411157029\n",
      "ROUGE-L Score: 0.13333332888888905\n",
      "Combined ROUGE Score: 10.404039963116034\n",
      "\n",
      "====================================================================================================\n"
     ]
    },
    {
     "name": "stderr",
     "output_type": "stream",
     "text": [
      " 44%|████▍     | 220/499 [03:21<04:12,  1.11it/s]"
     ]
    },
    {
     "name": "stdout",
     "output_type": "stream",
     "text": [
      "==219==\n",
      "Pred Summary: #Person1#은 우주 여행의 위험성에 대해 걱정하고, #Person2#는 우주 여행이 기차 여행만큼 안전하다고 주장한다. #Person2#는 우주에서 인간이 직면하는 가장 큰 위험은 방사선이라고 말한다.\n",
      "\n",
      "Gold Summary: 랄프는 #Person1#보다 우주 여행에 대해 더 낙관적이다. 랄프는 실제 위험은 방사선과 반 알렌 벨트라고 생각한다.\n",
      "\n",
      "ROUGE-1 Score: 0.17647058339100358\n",
      "ROUGE-2 Score: 0.0\n",
      "ROUGE-L Score: 0.17647058339100358\n",
      "Combined ROUGE Score: 11.76470555940024\n",
      "\n",
      "====================================================================================================\n"
     ]
    },
    {
     "name": "stderr",
     "output_type": "stream",
     "text": [
      " 44%|████▍     | 221/499 [03:22<03:47,  1.22it/s]"
     ]
    },
    {
     "name": "stdout",
     "output_type": "stream",
     "text": [
      "==220==\n",
      "Pred Summary: #Person1#과 #Person2#는 커피 테이블을 찾고 있다. 그들은 방과 어울리는 스타일과 청소하기 쉬운 것을 원한다.\n",
      "\n",
      "Gold Summary: #Person1#와 #Person2#는 방에 어울리는 커피 테이블을 고르고 있다.\n",
      "\n",
      "ROUGE-1 Score: 0.4545454499173554\n",
      "ROUGE-2 Score: 0.09999999545000023\n",
      "ROUGE-L Score: 0.4545454499173554\n",
      "Combined ROUGE Score: 33.63636317615703\n",
      "\n",
      "====================================================================================================\n"
     ]
    },
    {
     "name": "stderr",
     "output_type": "stream",
     "text": [
      " 44%|████▍     | 222/499 [03:22<03:43,  1.24it/s]"
     ]
    },
    {
     "name": "stdout",
     "output_type": "stream",
     "text": [
      "==221==\n",
      "Pred Summary: #Person2#는 보라색 아이섀도우를 주로 사용하지만, 오늘은 밝은 색상을 찾고 있다. #Person1#은 다양한 옵션을 제안하고, #Person2#는 결국 원하는 색상을 찾는다.\n",
      "\n",
      "Gold Summary: #Person2#는 밝은 색상의 아이섀도우를 원하고, #Person1#는 #Person2#가 만족할 수 있는 제품을 선택하는 데 도움을 준다.\n",
      "\n",
      "ROUGE-1 Score: 0.18749999501953143\n",
      "ROUGE-2 Score: 0.0\n",
      "ROUGE-L Score: 0.12499999501953145\n",
      "Combined ROUGE Score: 10.416666334635428\n",
      "\n",
      "====================================================================================================\n"
     ]
    },
    {
     "name": "stderr",
     "output_type": "stream",
     "text": [
      " 45%|████▍     | 223/499 [03:23<04:06,  1.12it/s]"
     ]
    },
    {
     "name": "stdout",
     "output_type": "stream",
     "text": [
      "==222==\n",
      "Pred Summary: #Person1#은 #Person2#의 상 수상을 축하하고, #Person2#는 놀람과 감사의 마음을 표현합니다. #Person1#은 #Person2#의 오랜 노력과 희생을 인정하며, #Person2#는 #Person1#의 업적을 칭찬하며 후보에 오를 것을 기대합니다.\n",
      "\n",
      "Gold Summary: #Person1#은 #Person2#의 상 수상을 축하하고, #Person2#은 #Person1#을 격려한다.\n",
      "\n",
      "ROUGE-1 Score: 0.3448275822116528\n",
      "ROUGE-2 Score: 0.27586206530321045\n",
      "ROUGE-L Score: 0.3448275822116528\n",
      "Combined ROUGE Score: 32.18390765755054\n",
      "\n",
      "====================================================================================================\n"
     ]
    },
    {
     "name": "stderr",
     "output_type": "stream",
     "text": [
      " 45%|████▍     | 224/499 [03:24<04:15,  1.08it/s]"
     ]
    },
    {
     "name": "stdout",
     "output_type": "stream",
     "text": [
      "==223==\n",
      "Pred Summary: #Person1#은 마스터 카드 청구서를 받지 못했고, #Person2#는 청구서가 몇 주 전에 우편으로 발송되었다고 말했습니다. #Person1#이 청구서를 받지 못한 경우, 우체국에 문의해야 합니다. 우체국의 실수로 판명되면, 청구서 연장을 받을 수 있습니다.\n",
      "\n",
      "Gold Summary: #Person1#은 신용카드 청구서를 받지 못했고, #Person2#는 #Person1#이 우체국에 문의해야 한다고 제안했다.\n",
      "\n",
      "ROUGE-1 Score: 0.4102564062064431\n",
      "ROUGE-2 Score: 0.21052631191135737\n",
      "ROUGE-L Score: 0.3589743549243919\n",
      "Combined ROUGE Score: 32.658569101406414\n",
      "\n",
      "====================================================================================================\n"
     ]
    },
    {
     "name": "stderr",
     "output_type": "stream",
     "text": [
      " 45%|████▌     | 225/499 [03:25<04:14,  1.08it/s]"
     ]
    },
    {
     "name": "stdout",
     "output_type": "stream",
     "text": [
      "==224==\n",
      "Pred Summary: #Person1#은 의사의 진료비와 3일분의 약비로 백 위안을 지불했다. #Person2#는 #Person1#이 개인 의료 보험을 가지고 있다는 것을 알게 되자, 보험금 청구를 위한 증명서를 제공했다.\n",
      "\n",
      "Gold Summary: #Person1#은 #Person2#의 도움으로 계산을 한다. #Person2#는 보험 청구를 위해 영수증을 보관하라고 #Person1#에게 경고한다.\n",
      "\n",
      "ROUGE-1 Score: 0.16666666205246927\n",
      "ROUGE-2 Score: 0.0\n",
      "ROUGE-L Score: 0.16666666205246927\n",
      "Combined ROUGE Score: 11.111110803497953\n",
      "\n",
      "====================================================================================================\n"
     ]
    },
    {
     "name": "stderr",
     "output_type": "stream",
     "text": [
      " 45%|████▌     | 226/499 [03:26<03:40,  1.24it/s]"
     ]
    },
    {
     "name": "stdout",
     "output_type": "stream",
     "text": [
      "==225==\n",
      "Pred Summary: #Person1#은 신문의 아파트 광고에서 저렴한 가격에 아름다운 아파트를 찾았다.\n",
      "\n",
      "Gold Summary: #Person1#이 #Person2#에게 신문에서 아름답고 저렴한 아파트를 찾았다고 말한다.\n",
      "\n",
      "ROUGE-1 Score: 0.23529411266435996\n",
      "ROUGE-2 Score: 0.0\n",
      "ROUGE-L Score: 0.23529411266435996\n",
      "Combined ROUGE Score: 15.686274177623996\n",
      "\n",
      "====================================================================================================\n"
     ]
    },
    {
     "name": "stderr",
     "output_type": "stream",
     "text": [
      " 45%|████▌     | 227/499 [03:27<03:33,  1.28it/s]"
     ]
    },
    {
     "name": "stdout",
     "output_type": "stream",
     "text": [
      "==226==\n",
      "Pred Summary: #Person2#는 창춘으로 꽃병을 항공우편으로 보내려고 한다. 그들은 강한 상자가 필요하며, 세관 신고서와 발송 노트를 작성해야 한다.\n",
      "\n",
      "Gold Summary: #Person2#는 꽃병이 든 소포를 항공우편으로 창춘으로 보내려고 계획하고 있다. #Person1#은 #Person2#에게 깨지기 쉬운 물건을 제대로된 강한 상자에 포장하라고 제안한다.\n",
      "\n",
      "ROUGE-1 Score: 0.2941176421280277\n",
      "ROUGE-2 Score: 0.0\n",
      "ROUGE-L Score: 0.23529411271626308\n",
      "Combined ROUGE Score: 17.647058494809695\n",
      "\n",
      "====================================================================================================\n"
     ]
    },
    {
     "name": "stderr",
     "output_type": "stream",
     "text": [
      " 46%|████▌     | 228/499 [03:27<03:10,  1.42it/s]"
     ]
    },
    {
     "name": "stdout",
     "output_type": "stream",
     "text": [
      "==227==\n",
      "Pred Summary: #Person1#은 유연한 근무 시간을 선호하며, 근무 조건 변경에 문제가 없다고 밝혔습니다.\n",
      "\n",
      "Gold Summary: #Person1#은 #Person2#에게 그 포지션의 근무 시간을 묻는다.\n",
      "\n",
      "ROUGE-1 Score: 0.3529411716262976\n",
      "ROUGE-2 Score: 0.12499999531250018\n",
      "ROUGE-L Score: 0.3529411716262976\n",
      "Combined ROUGE Score: 27.696077952169844\n",
      "\n",
      "====================================================================================================\n"
     ]
    },
    {
     "name": "stderr",
     "output_type": "stream",
     "text": [
      " 46%|████▌     | 229/499 [03:28<03:06,  1.44it/s]"
     ]
    },
    {
     "name": "stdout",
     "output_type": "stream",
     "text": [
      "==228==\n",
      "Pred Summary: #Person1#과 #Person2#는 피카소 전시회에 가고 싶어하지만, 버스 운전사들의 파업으로 인해 지하철을 이용해야 한다. 그들은 차가 없어서 아쉽다.\n",
      "\n",
      "Gold Summary: #Person1#은 #Person2#를 전시회에 초대한다. #Person2#는 지하철로 그곳에 갈 것이다.\n",
      "\n",
      "ROUGE-1 Score: 0.15384614931952675\n",
      "ROUGE-2 Score: 0.0\n",
      "ROUGE-L Score: 0.15384614931952675\n",
      "Combined ROUGE Score: 10.256409954635117\n",
      "\n",
      "====================================================================================================\n"
     ]
    },
    {
     "name": "stderr",
     "output_type": "stream",
     "text": [
      " 46%|████▌     | 230/499 [03:29<03:25,  1.31it/s]"
     ]
    },
    {
     "name": "stdout",
     "output_type": "stream",
     "text": [
      "==229==\n",
      "Pred Summary: #Person1#은 서른이 된 날, 온라인에서 만난 익명의 사람과 책, 음악, 뉴욕에 대한 공통의 관심사로 인해 대화를 시작했습니다. 그들은 개인적인 정보를 공유하지 않는 규칙을 가지고 있으며, #Person1#은 언제든지 쉽게 연락을 끊을 수 있다고 생각합니다.\n",
      "\n",
      "Gold Summary: #Person1#이 #Person2#에게 서른이 된 날 온라인에서 남자와 채팅했지만 개인적인 것은 아무것도 없었다고 말한다.\n",
      "\n",
      "ROUGE-1 Score: 0.1777777736691359\n",
      "ROUGE-2 Score: 0.04545454148760365\n",
      "ROUGE-L Score: 0.1777777736691359\n",
      "Combined ROUGE Score: 13.367002960862518\n",
      "\n",
      "====================================================================================================\n"
     ]
    },
    {
     "name": "stderr",
     "output_type": "stream",
     "text": [
      " 46%|████▋     | 231/499 [03:30<03:38,  1.22it/s]"
     ]
    },
    {
     "name": "stdout",
     "output_type": "stream",
     "text": [
      "==230==\n",
      "Pred Summary: #Person1#은 예약 실수로 인해 더 이상 자리가 없다고 사과하고, #Person2#는 중요한 비즈니스 파트너를 잃을 수도 있다는 걱정을 합니다. #Person1#은 다른 레스토랑을 제안하고, #Person2#는 복도에 앉을 수 있는 테이블을 제안합니다.\n",
      "\n",
      "Gold Summary: #Person1#은 예약 실수에 대해 #Person2#에게 사과한다. #Person2#는 화가 나지만 결국 복도에서 식사하는 것에 동의한다.\n",
      "\n",
      "ROUGE-1 Score: 0.1463414589173113\n",
      "ROUGE-2 Score: 0.048780483474122935\n",
      "ROUGE-L Score: 0.1463414589173113\n",
      "Combined ROUGE Score: 11.382113376958184\n",
      "\n",
      "====================================================================================================\n"
     ]
    },
    {
     "name": "stderr",
     "output_type": "stream",
     "text": [
      " 46%|████▋     | 232/499 [03:30<03:40,  1.21it/s]"
     ]
    },
    {
     "name": "stdout",
     "output_type": "stream",
     "text": [
      "==231==\n",
      "Pred Summary: #Person2#는 밤중에 오른쪽 발에 갑작스러운 통증을 느꼈다. 통증이 지속되고 발이 붉고 부어있어서, #Person1#은 #Person2#에게 혈액 검사를 받도록 지시했다.\n",
      "\n",
      "Gold Summary: 바비는 카르다노 박사에게 오른발에 심한 통증이 있다고 말한다.\n",
      "오른발을 본 후, 카르다노 박사는 바비를 3층의 실험실로 보내서 혈액 검사를 받게 결정한다.\n",
      "\n",
      "ROUGE-1 Score: 0.15789473185595584\n",
      "ROUGE-2 Score: 0.05405404908692522\n",
      "ROUGE-L Score: 0.15789473185595584\n",
      "Combined ROUGE Score: 12.328117093294562\n",
      "\n",
      "====================================================================================================\n"
     ]
    },
    {
     "name": "stderr",
     "output_type": "stream",
     "text": [
      " 47%|████▋     | 233/499 [03:31<03:33,  1.25it/s]"
     ]
    },
    {
     "name": "stdout",
     "output_type": "stream",
     "text": [
      "==232==\n",
      "Pred Summary: 톰과 샐리는 자신의 직업에 대해 이야기합니다. 톰은 마당 일을 하고 샐리는 슈퍼마켓에서 일합니다. 둘 다 학비를 벌기 위해 일하고 있습니다.\n",
      "\n",
      "Gold Summary: 샐리와 톰은 각자의 일에 대해 이야기한다. 샐리는 슈퍼마켓에서 파트타임으로 일하고, 톰은 사람들을 위해 마당 일을 한다. 그들은 모든일에는 단점이 있지만 학비를 벌기 위해 일해야 한다는 점에 동의한다.\n",
      "\n",
      "ROUGE-1 Score: 0.4090909041838843\n",
      "ROUGE-2 Score: 0.17777777289876556\n",
      "ROUGE-L Score: 0.36363635872933886\n",
      "Combined ROUGE Score: 31.683501193732962\n",
      "\n",
      "====================================================================================================\n"
     ]
    },
    {
     "name": "stderr",
     "output_type": "stream",
     "text": [
      " 47%|████▋     | 234/499 [03:32<03:47,  1.16it/s]"
     ]
    },
    {
     "name": "stdout",
     "output_type": "stream",
     "text": [
      "==233==\n",
      "Pred Summary: #Person1#과 #Person2#는 고대 중국에서 못생겼지만 큰 덕목을 가진 여성들에 대해 이야기하고 있습니다. #Person1#은 모 무, 중 리춘, 멍 광, 륜 누를 예로 들며, #Person2#는 내면의 아름다움이 중요하다는 것을 언급합니다.\n",
      "\n",
      "Gold Summary: #Person1#은 고대 중국에서 큰 덕목을 가진 가장 못생긴 여성 넷을 수잔에게 소개했다.\n",
      "\n",
      "ROUGE-1 Score: 0.29999999580000003\n",
      "ROUGE-2 Score: 0.1538461497961868\n",
      "ROUGE-L Score: 0.29999999580000003\n",
      "Combined ROUGE Score: 25.12820471320623\n",
      "\n",
      "====================================================================================================\n"
     ]
    },
    {
     "name": "stderr",
     "output_type": "stream",
     "text": [
      " 47%|████▋     | 235/499 [03:33<04:17,  1.03it/s]"
     ]
    },
    {
     "name": "stdout",
     "output_type": "stream",
     "text": [
      "==234==\n",
      "Pred Summary: #Person1#은 지속적인 재채기와 눈물로 인해 불편함을 겪고 있다. #Person2#는 #Person1#이 알레르기가 있을 수 있다고 제안하고, #Person1#은 땅콩과 먼지에 대한 알레르기가 없다는 것을 확인한다. #Person3#이 고양이를 사무실에 데려오면서 #Person1#이 고양이 알레르기가 있다는 것이 밝혀진다.\n",
      "\n",
      "Gold Summary: #Person1#이 매우 힘들어하고, #Person2#는 #Person1#이 알레르기를 가지고 있을 수 있다고 생각한다. #Person2#는 그 원인을 찾아보려고 하고, 결과적으로 #Person1#이 #Person2#의 고양이에 알레르기 반응을 보이는 것으로 밝혀진다.\n",
      "\n",
      "ROUGE-1 Score: 0.23529411274125347\n",
      "ROUGE-2 Score: 0.10714285224489818\n",
      "ROUGE-L Score: 0.23529411274125347\n",
      "Combined ROUGE Score: 19.257702590913507\n",
      "\n",
      "====================================================================================================\n"
     ]
    },
    {
     "name": "stderr",
     "output_type": "stream",
     "text": [
      " 47%|████▋     | 236/499 [03:35<04:42,  1.07s/it]"
     ]
    },
    {
     "name": "stdout",
     "output_type": "stream",
     "text": [
      "==235==\n",
      "Pred Summary: #Person1#과 #Person2#는 유령 영화를 보기 위해 서두르고 있습니다. #Person2#는 #Person1#이 점점 더 성급해지고 있다고 느끼며, 집안일과 조언에 대한 불만이 쌓이고 있습니다. #Person1#은 #Person2#를 사랑하고 그녀만을 생각한다고 주장합니다. #Person2#는 그들의 사랑 이야기를 언급하며, #Person1#은 그녀를 영화 보러 가자고 재촉합니다.\n",
      "\n",
      "Gold Summary: #Person2#는 #Person1#이 성급하고 더 이상 #Person2#를 사랑하지 않을 수도 있다고 생각하지만, #Person1#은 #Person2#를 안심시키고 함께 영화를 볼 것이다.\n",
      "\n",
      "ROUGE-1 Score: 0.27450979947712423\n",
      "ROUGE-2 Score: 0.07407406975994539\n",
      "ROUGE-L Score: 0.27450979947712423\n",
      "Combined ROUGE Score: 20.7697889571398\n",
      "\n",
      "====================================================================================================\n"
     ]
    },
    {
     "name": "stderr",
     "output_type": "stream",
     "text": [
      " 47%|████▋     | 237/499 [03:36<04:19,  1.01it/s]"
     ]
    },
    {
     "name": "stdout",
     "output_type": "stream",
     "text": [
      "==236==\n",
      "Pred Summary: #Person1#은 큰 팬을 찾고 있지만 너무 무거워서 알루미늄 팬을 선택합니다. 그들은 손잡이가 대나무로 된 팬을 선택하고 현금으로 결제합니다. 팬에는 뚜껑도 포함되어 있습니다.\n",
      "\n",
      "Gold Summary: #Person2#는 #Person1#에게 열에 강한 대나무 손잡이가 달린 큰 알루미늄 팬과 뚜껑을 선택하는 데 도움을 준다.\n",
      "\n",
      "ROUGE-1 Score: 0.1714285665306124\n",
      "ROUGE-2 Score: 0.0\n",
      "ROUGE-L Score: 0.1714285665306124\n",
      "Combined ROUGE Score: 11.428571102040825\n",
      "\n",
      "====================================================================================================\n"
     ]
    },
    {
     "name": "stderr",
     "output_type": "stream",
     "text": [
      " 48%|████▊     | 238/499 [03:37<04:20,  1.00it/s]"
     ]
    },
    {
     "name": "stdout",
     "output_type": "stream",
     "text": [
      "==237==\n",
      "Pred Summary: #Person1#은 #Person2#가 리지 스미스의 가족 구성원들을 알고 있는지 묻는다. #Person2#는 리지의 어머니, 아버지, 형제와 자매들을 알고 있다고 확인한다. #Person1#은 #Person2#의 지식에 감탄하며 언젠가 그 가족을 방문하고 싶다고 말한다.\n",
      "\n",
      "Gold Summary: #Person1#은 릴리에게 리지의 가족에 대해 묻는다. 왜냐하면 #Person1#은 그들을 방문하고 싶어하기 때문이다.\n",
      "\n",
      "ROUGE-1 Score: 0.216216212037984\n",
      "ROUGE-2 Score: 0.0\n",
      "ROUGE-L Score: 0.216216212037984\n",
      "Combined ROUGE Score: 14.4144141358656\n",
      "\n",
      "====================================================================================================\n"
     ]
    },
    {
     "name": "stderr",
     "output_type": "stream",
     "text": [
      " 48%|████▊     | 239/499 [03:37<04:09,  1.04it/s]"
     ]
    },
    {
     "name": "stdout",
     "output_type": "stream",
     "text": [
      "==238==\n",
      "Pred Summary: #Person1#은 #Person2#에게 작년 5월에 버뮤다에서 만난 존슨 가족이 돌아오고, 그들을 점심 식사에 초대했다고 상기시킨다. 그러나 #Person2#는 그들을 기억하지 못하고 망각증에 대해 농담을 한다.\n",
      "\n",
      "Gold Summary: #Person1#은 #Person2#에게 존슨 가족을 기억하도록 도와주지만 실패한다.\n",
      "\n",
      "ROUGE-1 Score: 0.2068965480618312\n",
      "ROUGE-2 Score: 0.07142856806122466\n",
      "ROUGE-L Score: 0.2068965480618312\n",
      "Combined ROUGE Score: 16.174055472829572\n",
      "\n",
      "====================================================================================================\n"
     ]
    },
    {
     "name": "stderr",
     "output_type": "stream",
     "text": [
      " 48%|████▊     | 240/499 [03:38<03:47,  1.14it/s]"
     ]
    },
    {
     "name": "stdout",
     "output_type": "stream",
     "text": [
      "==239==\n",
      "Pred Summary: #Person1#은 캐피탈 호텔에서 #Person2#의 예약을 확인한다. #Person2#는 안개로 인해 2시간 지연될 예정이다.\n",
      "\n",
      "Gold Summary: #Person1#은 링컨의 예약을 유지해주었다.\n",
      "\n",
      "ROUGE-1 Score: 0.24999999625000005\n",
      "ROUGE-2 Score: 0.0\n",
      "ROUGE-L Score: 0.24999999625000005\n",
      "Combined ROUGE Score: 16.66666641666667\n",
      "\n",
      "====================================================================================================\n"
     ]
    },
    {
     "name": "stderr",
     "output_type": "stream",
     "text": [
      " 48%|████▊     | 241/499 [03:39<03:34,  1.20it/s]"
     ]
    },
    {
     "name": "stdout",
     "output_type": "stream",
     "text": [
      "==240==\n",
      "Pred Summary: #Person2#는 셰프의 샐러드로 시작하고, 미디엄으로 조리된 스테이크와 완두콩, 당근, 삶은 감자를 주문했습니다.\n",
      "\n",
      "Gold Summary: #Person1#은 #Person2#의 애피타이저와 메인 코스 주문을 도와준다.\n",
      "\n",
      "ROUGE-1 Score: 0.0\n",
      "ROUGE-2 Score: 0.0\n",
      "ROUGE-L Score: 0.0\n",
      "Combined ROUGE Score: 0.0\n",
      "\n",
      "====================================================================================================\n"
     ]
    },
    {
     "name": "stderr",
     "output_type": "stream",
     "text": [
      " 48%|████▊     | 242/499 [03:40<03:31,  1.21it/s]"
     ]
    },
    {
     "name": "stdout",
     "output_type": "stream",
     "text": [
      "==241==\n",
      "Pred Summary: #Person1#과 #Person2#는 비행기를 타기 위해 서두르고 있다. #Person2#는 지갑과 열쇠를 찾는 데 어려움을 겪고 있다. 그들은 공항까지 택시를 타기로 결정했다.\n",
      "\n",
      "Gold Summary: #Person1#은 #Person2#에게 서둘러 달라고 하지만 #Person2#는 지갑을 찾지 못한다. #Person1#은 불평하지만 #Person2#는 자신의 잘못이라고 생각하지 않는다. 택시를 타려고 할 때, #Person2#는 열쇠를 찾지 못한다.\n",
      "\n",
      "ROUGE-1 Score: 0.1621621571658146\n",
      "ROUGE-2 Score: 0.0\n",
      "ROUGE-L Score: 0.1621621571658146\n",
      "Combined ROUGE Score: 10.810810477720974\n",
      "\n",
      "====================================================================================================\n"
     ]
    },
    {
     "name": "stderr",
     "output_type": "stream",
     "text": [
      " 49%|████▊     | 243/499 [03:41<04:02,  1.06it/s]"
     ]
    },
    {
     "name": "stdout",
     "output_type": "stream",
     "text": [
      "==242==\n",
      "Pred Summary: #Person1#과 #Person2#는 유로 2012 축구 토너먼트에 대해 이야기하고 있다. #Person1#은 축구를 좋아하고, #Person2#는 미국에서는 축구보다는 미식 축구를 더 많이 본다고 말한다. #Person2#는 축구가 지루하다고 생각하지만, #Person1#은 축구의 전략과 다양한 스타일을 즐긴다고 말한다.\n",
      "\n",
      "Gold Summary: #Person1#과 #Person2#는 미국식 축구와 축구의 차이점에 대해 이야기한다. #Person2#는 축구가 지루하다고 생각하지만, #Person1#은 동의하지 않는다.\n",
      "\n",
      "ROUGE-1 Score: 0.3902438979417014\n",
      "ROUGE-2 Score: 0.22222221793580252\n",
      "ROUGE-L Score: 0.3902438979417014\n",
      "Combined ROUGE Score: 33.42366712730684\n",
      "\n",
      "====================================================================================================\n"
     ]
    },
    {
     "name": "stderr",
     "output_type": "stream",
     "text": [
      " 49%|████▉     | 244/499 [03:42<04:15,  1.00s/it]"
     ]
    },
    {
     "name": "stdout",
     "output_type": "stream",
     "text": [
      "==243==\n",
      "Pred Summary: #Person1#은 로스앤젤레스 공항에서 파크 호텔에 전화를 걸어 욕조가 있는 싱글룸을 예약하고, 예약 데스크에서 1박당 45부터 시작하는 비용을 알려주었다. #Person1#은 토니 찬이라는 이름으로 예약하고, 곧 도착할 예정이라고 알렸다. 호텔은 9시까지 방을 확보해 줄 것이다.\n",
      "\n",
      "Gold Summary: 토니는 공항에서 #Person2#에게 전화하여 싱글룸을 예약한다. #Person2#는 그에게 가격을 알려주고 9시까지 방을 확보해 줄 것이다.\n",
      "\n",
      "ROUGE-1 Score: 0.30434782169187147\n",
      "ROUGE-2 Score: 0.17391303924385643\n",
      "ROUGE-L Score: 0.30434782169187147\n",
      "Combined ROUGE Score: 26.086956087586643\n",
      "\n",
      "====================================================================================================\n"
     ]
    },
    {
     "name": "stderr",
     "output_type": "stream",
     "text": [
      " 49%|████▉     | 245/499 [03:43<04:01,  1.05it/s]"
     ]
    },
    {
     "name": "stdout",
     "output_type": "stream",
     "text": [
      "==244==\n",
      "Pred Summary: 필 테일러씨는 감자튀김을 만들다가 불을 냈다. 이웃들이 소방서에 전화를 걸었고, 소방관들이 빠르게 불을 껐다. 피해는 요리기구, 2개의 부엌 유닛, 그리고 벽 하나이다.\n",
      "\n",
      "Gold Summary: #Person1#은 필 테일러에게 화재에 대해 묻는다. 테일러는 팬에 감자튀김을 잊어버려 화재가 발생했다고 말한다. 그는 빠르게 대처하였고 소방서가 불을 끄는 데 성공했다.\n",
      "\n",
      "ROUGE-1 Score: 0.19047618547619058\n",
      "ROUGE-2 Score: 0.0\n",
      "ROUGE-L Score: 0.19047618547619058\n",
      "Combined ROUGE Score: 12.698412365079372\n",
      "\n",
      "====================================================================================================\n"
     ]
    },
    {
     "name": "stderr",
     "output_type": "stream",
     "text": [
      " 49%|████▉     | 246/499 [03:44<04:19,  1.03s/it]"
     ]
    },
    {
     "name": "stdout",
     "output_type": "stream",
     "text": [
      "==245==\n",
      "Pred Summary: #Person2#는 1월 29일부터 2월 1일까지의 호텔 예약을 취소했다. 호텔은 3월에 2일 동안 방을 예약하면 세 번째 날이 무료인 특별 행사를 제공했지만, #Person2#는 새로운 직장 때문에 적어도 6개월 동안은 휴가를 가질 수 없다고 거절했다. 호텔은 280달러를 비자 카드에 다시 입금할 것이다.\n",
      "\n",
      "Gold Summary: #Person2#는 #Person1#에게 새로운 일자리를 찾았으며 호텔 예약을 취소하고 싶다고 말한다. #Person1#은 돈을 돌려줄 것이다.\n",
      "\n",
      "ROUGE-1 Score: 0.19230768837278112\n",
      "ROUGE-2 Score: 0.03846153471153883\n",
      "ROUGE-L Score: 0.19230768837278112\n",
      "Combined ROUGE Score: 14.102563715236702\n",
      "\n",
      "====================================================================================================\n"
     ]
    },
    {
     "name": "stderr",
     "output_type": "stream",
     "text": [
      " 49%|████▉     | 247/499 [03:45<04:10,  1.01it/s]"
     ]
    },
    {
     "name": "stdout",
     "output_type": "stream",
     "text": [
      "==246==\n",
      "Pred Summary: #Person2#는 음악 선생님으로 일하다가 라디오 방송국에서 일하고 싶어하는 지원자입니다. 그들은 전화와 이메일 업무에 자신감이 있으며, 일찍 일어나는 것에 대해 문제가 없습니다. 그들은 이전 직장 동료와 교수님을 참조인으로 제공할 수 있습니다.\n",
      "\n",
      "Gold Summary: #Person2#는 라디오 방송국에서 일자리를 찾는다. #Person1#는 #Person2#에게 #Person2#의 경력, 능력, 참조인에 대해 면접한다. #Person2#가 이 질문에 답한 후, #Person1#는 결과를 기다리라고 말한다.\n",
      "\n",
      "ROUGE-1 Score: 0.15999999512800014\n",
      "ROUGE-2 Score: 0.03999999512800059\n",
      "ROUGE-L Score: 0.15999999512800014\n",
      "Combined ROUGE Score: 11.99999951280003\n",
      "\n",
      "====================================================================================================\n"
     ]
    },
    {
     "name": "stderr",
     "output_type": "stream",
     "text": [
      " 50%|████▉     | 248/499 [03:46<04:14,  1.01s/it]"
     ]
    },
    {
     "name": "stdout",
     "output_type": "stream",
     "text": [
      "==247==\n",
      "Pred Summary: #Person1#과 #Person2#는 애완동물을 키우는 것에 대해 이야기합니다. 그들은 개를 키우는 것이 많은 노력이 필요하다는 것을 깨닫고, 새나 물고기를 키우는 것에 대해서도 확신이 없습니다. 그들은 애완동물을 키울 준비가 되어 있지 않다고 결정하고, 대신 커피를 마시러 가기로 합니다.\n",
      "\n",
      "Gold Summary: #Person1#은 고양이를 좋아하지만, #Person2#는 개를 좋아한다. 그들은 아직 애완동물을 키울 준비가 되어 있지 않다.\n",
      "\n",
      "ROUGE-1 Score: 0.35555555126913585\n",
      "ROUGE-2 Score: 0.17021276195563612\n",
      "ROUGE-L Score: 0.35555555126913585\n",
      "Combined ROUGE Score: 29.377462149796923\n",
      "\n",
      "====================================================================================================\n"
     ]
    },
    {
     "name": "stderr",
     "output_type": "stream",
     "text": [
      " 50%|████▉     | 249/499 [03:47<03:52,  1.08it/s]"
     ]
    },
    {
     "name": "stdout",
     "output_type": "stream",
     "text": [
      "==248==\n",
      "Pred Summary: #Person1#과 #Person2#는 TV가 고장나서 영화관에 가기로 결정했다. 그들은 '아빠 셋 엄마 하나'라는 코미디 영화를 보기로 결정했다.\n",
      "\n",
      "Gold Summary: #Person1#과 #Person2#는 TV나 인터넷을 사용할 수 없어서 영화를 보기로 결정했다. 토론 끝에 그들은 '아빠 셋 엄마 하나'를 보기로 했다.\n",
      "\n",
      "ROUGE-1 Score: 0.5454545404958678\n",
      "ROUGE-2 Score: 0.36363635867768596\n",
      "ROUGE-L Score: 0.5454545404958678\n",
      "Combined ROUGE Score: 48.484847988980725\n",
      "\n",
      "====================================================================================================\n"
     ]
    },
    {
     "name": "stderr",
     "output_type": "stream",
     "text": [
      " 50%|█████     | 250/499 [03:48<03:56,  1.05it/s]"
     ]
    },
    {
     "name": "stdout",
     "output_type": "stream",
     "text": [
      "==249==\n",
      "Pred Summary: #Person2#는 유명한 카메라맨의 전기를 읽은 후 카메라맨이 되기로 결심했다. 그들은 한 번의 상을 받았고, 할리우드에서 일하는 것보다 학생들과 영화 아카데미와 함께 일하는 것에 더 관심이 있다. 그들은 흥미로운 장소에서 일하고 흥미로운 사람들을 만나는 것을 즐긴다.\n",
      "\n",
      "Gold Summary: #Person1#은 #Person2#에게 #Person2#의 카메라맨으로서의 경력에 대해 묻는다. #Person2#는 #Person1#에게 이 직업을 선택한 이유, #Person2#의 상, 미래 계획, 그리고 일에서 가장 좋아하는 부분에 대해 이야기한다.\n",
      "\n",
      "ROUGE-1 Score: 0.03703703220850543\n",
      "ROUGE-2 Score: 0.0\n",
      "ROUGE-L Score: 0.03703703220850543\n",
      "Combined ROUGE Score: 2.469135480567029\n",
      "\n",
      "====================================================================================================\n"
     ]
    },
    {
     "name": "stderr",
     "output_type": "stream",
     "text": [
      " 50%|█████     | 251/499 [03:49<04:28,  1.08s/it]"
     ]
    },
    {
     "name": "stdout",
     "output_type": "stream",
     "text": [
      "==250==\n",
      "Pred Summary: #Person1#과 #Person2#는 가격 차이에 대해 논의하고 있다. #Person1#은 5퍼센트 인하를 제안했지만, #Person2#는 여전히 차이가 너무 크다고 생각한다. #Person1#은 더 큰 인하를 할 수 없다고 거절하고, #Person2#는 다른 곳에서 필요한 것을 구해야 할 수도 있다고 말한다. #Person1#은 본사의 답변을 받기 위해 하루 이틀 기다려 달라고 요청하고, 그들은 금요일 아침에 다시 만나기로 합의한다.\n",
      "\n",
      "Gold Summary: 왕 여사는 브라운 씨가 제안한 가격이 너무 높다고 생각한다. 브라운 씨는 5%의 인하를 제안하지만 왕 여사는 추가 인하를 요구한다. 브라운 씨는 본사로부터 답변을 기다려야 한다. 그는 왕 여사와 다시 만나기를 요청한다.\n",
      "\n",
      "ROUGE-1 Score: 0.1449275316950222\n",
      "ROUGE-2 Score: 0.0\n",
      "ROUGE-L Score: 0.1449275316950222\n",
      "Combined ROUGE Score: 9.661835446334814\n",
      "\n",
      "====================================================================================================\n"
     ]
    },
    {
     "name": "stderr",
     "output_type": "stream",
     "text": [
      " 51%|█████     | 252/499 [03:50<04:14,  1.03s/it]"
     ]
    },
    {
     "name": "stdout",
     "output_type": "stream",
     "text": [
      "==251==\n",
      "Pred Summary: #Person1#은 #Person2#에게 전통 예술품을 추천하며, 종이접기가 외국 친구들에게 좋은 선물이 될 수 있다고 제안한다. #Person1#은 민속 예술에 대한 개인적인 관심과 연구를 통해 다양한 종류의 종이접기를 수집했다고 말한다.\n",
      "\n",
      "Gold Summary: #Person2#는 외국 친구들에게 선물을 사기 위해 가게에 왔다. #Person1#은 종이접기를 추천하고, #Person2#는 그것이 좋다고 생각한다. #Person1#은 종이접기를 직접 수집했다고 말하고, #Person2#는 #Person1#을 전문가라고 칭찬한다.\n",
      "\n",
      "ROUGE-1 Score: 0.21739129943289237\n",
      "ROUGE-2 Score: 0.04166666170138949\n",
      "ROUGE-L Score: 0.21739129943289237\n",
      "Combined ROUGE Score: 15.88164201890581\n",
      "\n",
      "====================================================================================================\n"
     ]
    },
    {
     "name": "stderr",
     "output_type": "stream",
     "text": [
      " 51%|█████     | 253/499 [03:51<03:48,  1.08it/s]"
     ]
    },
    {
     "name": "stdout",
     "output_type": "stream",
     "text": [
      "==252==\n",
      "Pred Summary: #Person1#은 세무사를 만나기 전에 #Person2#와 장부를 검토해야 한다. 그들은 점심 회의 후인 1시 30분에 만나기로 합의했다.\n",
      "\n",
      "Gold Summary: #Person2#는 매우 바쁘지만 제인은 #Person2#와 장부를 검토해야 한다. #Person2#는 오후 1시 30분에 만나는 것을 제안한다.\n",
      "\n",
      "ROUGE-1 Score: 0.3999999950222222\n",
      "ROUGE-2 Score: 0.27586206397146257\n",
      "ROUGE-L Score: 0.3999999950222222\n",
      "Combined ROUGE Score: 35.8620684671969\n",
      "\n",
      "====================================================================================================\n"
     ]
    },
    {
     "name": "stderr",
     "output_type": "stream",
     "text": [
      " 51%|█████     | 254/499 [03:52<03:49,  1.07it/s]"
     ]
    },
    {
     "name": "stdout",
     "output_type": "stream",
     "text": [
      "==253==\n",
      "Pred Summary: #Person1#은 #Person2#에게 켄모어 냉장고를 추천하며, 이 냉장고는 가격이 저렴하고 제빙기, 물 디스펜서, 그리고 내부에 넉넉한 공간이 있는 가전 제품이 함께 제공된다고 설명합니다. #Person2#는 냉장고에 만족하고 구매를 결정합니다.\n",
      "\n",
      "Gold Summary: #Person2#는 켄모어 냉장고를 선택한다. #Person1#는 이 냉장고를 강력히 추천하고 소개한다. #Person2#는 보고 나서 마음에 들어한다.\n",
      "\n",
      "ROUGE-1 Score: 0.1999999956125001\n",
      "ROUGE-2 Score: 0.049999995450000424\n",
      "ROUGE-L Score: 0.14999999561250013\n",
      "Combined ROUGE Score: 13.333332889166687\n",
      "\n",
      "====================================================================================================\n"
     ]
    },
    {
     "name": "stderr",
     "output_type": "stream",
     "text": [
      " 51%|█████     | 255/499 [03:52<03:34,  1.14it/s]"
     ]
    },
    {
     "name": "stdout",
     "output_type": "stream",
     "text": [
      "==254==\n",
      "Pred Summary: #Person1#은 컴퓨터가 아이들에게 논리적인 사고와 상상력을 촉진한다고 믿는 반면, #Person2#는 컴퓨터가 아이들의 기본적인 기술을 약화시키고 생각하는 능력을 감소시킨다고 주장한다.\n",
      "\n",
      "Gold Summary: #Person1#은 컴퓨터가 아이들에게 유익하다고 생각하지만 짐은 그 반대라고 생각한다.\n",
      "\n",
      "ROUGE-1 Score: 0.22222221777777784\n",
      "ROUGE-2 Score: 0.15384614958579892\n",
      "ROUGE-L Score: 0.22222221777777784\n",
      "Combined ROUGE Score: 19.94301950471182\n",
      "\n",
      "====================================================================================================\n"
     ]
    },
    {
     "name": "stderr",
     "output_type": "stream",
     "text": [
      " 51%|█████▏    | 256/499 [03:53<03:26,  1.18it/s]"
     ]
    },
    {
     "name": "stdout",
     "output_type": "stream",
     "text": [
      "==255==\n",
      "Pred Summary: #Person1#과 #Person2#는 만리장성을 방문하고 케이블카 대신 산을 오르기로 결정했다. 그들은 만리장성이 약 2500년 전에 처음 지어졌다는 것을 알게 되었다.\n",
      "\n",
      "Gold Summary: 조지는 케이블카를 타는 대신 만리장성을 직접 오르는 것을 제안한다. 그들은 정상에 도달하고 만리장성의 오랜 역사에 감탄한다.\n",
      "\n",
      "ROUGE-1 Score: 0.22857142360816338\n",
      "ROUGE-2 Score: 0.0\n",
      "ROUGE-L Score: 0.17142856646530627\n",
      "Combined ROUGE Score: 13.333333002448988\n",
      "\n",
      "====================================================================================================\n"
     ]
    },
    {
     "name": "stderr",
     "output_type": "stream",
     "text": [
      " 52%|█████▏    | 257/499 [03:54<03:10,  1.27it/s]"
     ]
    },
    {
     "name": "stdout",
     "output_type": "stream",
     "text": [
      "==256==\n",
      "Pred Summary: #Person1#은 브레드 앤 치즈 델리에서 샌드위치와 음료수를 주문하려고 합니다. 배달은 15달러 이상 주문 시 가능합니다.\n",
      "\n",
      "Gold Summary: #Person1#이 브레드 앤 치즈 델리에서 샌드위치와 음료수를 배달 주문했다.\n",
      "\n",
      "ROUGE-1 Score: 0.49999999531250006\n",
      "ROUGE-2 Score: 0.4545454499173554\n",
      "ROUGE-L Score: 0.49999999531250006\n",
      "Combined ROUGE Score: 48.484848018078516\n",
      "\n",
      "====================================================================================================\n"
     ]
    },
    {
     "name": "stderr",
     "output_type": "stream",
     "text": [
      " 52%|█████▏    | 258/499 [03:55<03:47,  1.06it/s]"
     ]
    },
    {
     "name": "stdout",
     "output_type": "stream",
     "text": [
      "==257==\n",
      "Pred Summary: #Person1#은 런던행 기차 시간표를 문의하고, 7시 59분 기차를 선택했다. 돌아오는 기차는 7시 10분 또는 7시 40분이다. 일반 왕복 티켓은 16파운드이다.\n",
      "\n",
      "Gold Summary: #Person1#은 #Person2#에게 런던행 기차와 돌아오는 기차의 시간에 대해 묻고, 그 후 #Person1#은 일반 왕복 티켓을 구매한다.\n",
      "\n",
      "ROUGE-1 Score: 0.30303029807162535\n",
      "ROUGE-2 Score: 0.058823524480969266\n",
      "ROUGE-L Score: 0.30303029807162535\n",
      "Combined ROUGE Score: 22.162804020807332\n",
      "\n",
      "====================================================================================================\n"
     ]
    },
    {
     "name": "stderr",
     "output_type": "stream",
     "text": [
      " 52%|█████▏    | 259/499 [03:57<04:31,  1.13s/it]"
     ]
    },
    {
     "name": "stdout",
     "output_type": "stream",
     "text": [
      "==258==\n",
      "Pred Summary: #Person2#는 법률사무소에서 일하며 경험을 쌓고 싶어한다. 그들은 대학 시절 여름에 변호사 사무소에서 인턴으로 일한 경험이 있다. 그들은 만근을 장려하는 사무실에서 아침 9시부터 오후 5시 30분까지 근무하며, 시작할 때는 대략 3000의 월급을 받을 예정이다. 6개월 후에는 업무 성과를 검토하고 인상을 고려할 것이다. #Person1#은 하루 또는 이틀 내로 #Person2#에게 전화하여 결과를 알려줄 것이며, #Person2#는 오후 7시 이후에 전화주기를 요청했다.\n",
      "\n",
      "Gold Summary: #Person2#는 #Person1#에게 자신의 미래 계획, 과거의 업무 경험에 대해 이야기하고 근무 시간과 급여에 대해 문의한다. #Person1#은 전화로 하루 또는 이틀 내에 결과를 알려줄 것이다.\n",
      "\n",
      "ROUGE-1 Score: 0.23376622957665713\n",
      "ROUGE-2 Score: 0.07594936296106415\n",
      "ROUGE-L Score: 0.23376622957665713\n",
      "Combined ROUGE Score: 18.116060737145947\n",
      "\n",
      "====================================================================================================\n"
     ]
    },
    {
     "name": "stderr",
     "output_type": "stream",
     "text": [
      " 52%|█████▏    | 260/499 [03:58<04:03,  1.02s/it]"
     ]
    },
    {
     "name": "stdout",
     "output_type": "stream",
     "text": [
      "==259==\n",
      "Pred Summary: #Person2#는 웹트래커의 영업 대표가 #Person1#의 것과 똑같은 녹색 노트패드를 가지고 있어서 #Person1#이 웹트래커에서 일하고 있다는 것을 알게 되었다.\n",
      "\n",
      "Gold Summary: Dave는 #Person2#가 그가 웹트래커에서 일하고 있다는 것을 추론할 수 있다는 사실에 놀란다.\n",
      "\n",
      "ROUGE-1 Score: 0.2758620642568371\n",
      "ROUGE-2 Score: 0.2142857095153062\n",
      "ROUGE-L Score: 0.2758620642568371\n",
      "Combined ROUGE Score: 25.533661267632684\n",
      "\n",
      "====================================================================================================\n"
     ]
    },
    {
     "name": "stderr",
     "output_type": "stream",
     "text": [
      " 52%|█████▏    | 261/499 [03:58<03:52,  1.02it/s]"
     ]
    },
    {
     "name": "stdout",
     "output_type": "stream",
     "text": [
      "==260==\n",
      "Pred Summary: #Person1#은 지난 주말에 비디오 게임을 하며 혼자 집에 있었다. 그들은 대부분의 친구들이 인터넷에 있다고 언급하며, 집에서 편안하게 시간을 보내는 것을 선호한다.\n",
      "\n",
      "Gold Summary: #Person1#은 지난 주말에 집에서 비디오 게임을 즐겼다. #Person2#는 자신의 집에서 무언가를 하는 것이 좋다고 생각한다.\n",
      "\n",
      "ROUGE-1 Score: 0.3428571380571429\n",
      "ROUGE-2 Score: 0.17647058339100358\n",
      "ROUGE-L Score: 0.3428571380571429\n",
      "Combined ROUGE Score: 28.739495316842977\n",
      "\n",
      "====================================================================================================\n"
     ]
    },
    {
     "name": "stderr",
     "output_type": "stream",
     "text": [
      " 53%|█████▎    | 262/499 [03:59<03:36,  1.09it/s]"
     ]
    },
    {
     "name": "stdout",
     "output_type": "stream",
     "text": [
      "==261==\n",
      "Pred Summary: #Person1#과 #Person2#는 휴가를 즐기고 있으며, 함부르크 대신 브레멘에서 머물기로 결정했다. 그들은 호수 주변을 산책하고 숲으로 들어가 야생 동물을 관찰할 계획이다.\n",
      "\n",
      "Gold Summary: #Person1#와 #Person2#는 호수를 즐기고 있다. #Person1#와 #Person2#는 오늘 밤 함부르크에 머물 계획이었지만, 서두르지 않아서 브레멘에서 머무르기로 결정했다.\n",
      "\n",
      "ROUGE-1 Score: 0.2285714236734695\n",
      "ROUGE-2 Score: 0.0\n",
      "ROUGE-L Score: 0.2285714236734695\n",
      "Combined ROUGE Score: 15.238094911564634\n",
      "\n",
      "====================================================================================================\n"
     ]
    },
    {
     "name": "stderr",
     "output_type": "stream",
     "text": [
      " 53%|█████▎    | 263/499 [04:00<03:44,  1.05it/s]"
     ]
    },
    {
     "name": "stdout",
     "output_type": "stream",
     "text": [
      "==262==\n",
      "Pred Summary: #Person1#과 #Person2#는 베이징에 대한 이야기를 나눈다. #Person1#은 출장으로, #Person2#는 휴가로 베이징에 간다. #Person1#은 지하철이 붐비는 것을 제외하고는 베이징을 즐겼다. #Person2#는 버스를 타거나 차를 빌리기로 결정한다.\n",
      "\n",
      "Gold Summary: #Person1#과 #Person2#는 베이징으로 가는 기차에서 만난다. #Person1#은 출장 중이고, #Person2#는 휴가 중이다. #Person1#은 베이징에 가 본 경험을 #Person2#와 공유한다.\n",
      "\n",
      "ROUGE-1 Score: 0.21052631084487544\n",
      "ROUGE-2 Score: 0.047619042721088946\n",
      "ROUGE-L Score: 0.21052631084487544\n",
      "Combined ROUGE Score: 15.622388813694663\n",
      "\n",
      "====================================================================================================\n"
     ]
    },
    {
     "name": "stderr",
     "output_type": "stream",
     "text": [
      " 53%|█████▎    | 264/499 [04:01<03:24,  1.15it/s]"
     ]
    },
    {
     "name": "stdout",
     "output_type": "stream",
     "text": [
      "==263==\n",
      "Pred Summary: #Person2#는 큰 프로젝트를 맡아 야근을 하고 있으며, 이로 인해 피곤함을 느끼고 있다. 그러나 열심히 일하면 승진의 기회가 있을 수 있다는 것을 알고 있다.\n",
      "\n",
      "Gold Summary: #Person2#는 승진을 희망하여 최근에 야근을 많이 하고 있어 피곤해 보인다.\n",
      "\n",
      "ROUGE-1 Score: 0.1874999957031251\n",
      "ROUGE-2 Score: 0.0\n",
      "ROUGE-L Score: 0.1874999957031251\n",
      "Combined ROUGE Score: 12.499999713541673\n",
      "\n",
      "====================================================================================================\n"
     ]
    },
    {
     "name": "stderr",
     "output_type": "stream",
     "text": [
      " 53%|█████▎    | 265/499 [04:02<03:20,  1.17it/s]"
     ]
    },
    {
     "name": "stdout",
     "output_type": "stream",
     "text": [
      "==264==\n",
      "Pred Summary: #Person1#과 #Person2#는 다양한 취미를 가지고 있다. #Person2#는 춤, 체스, 우표 수집, 여행, 사진 찍기를 좋아하고, #Person1#은 원예를 좋아한다.\n",
      "\n",
      "Gold Summary: #Person1#과 #Person2#는 그들의 취미에 대해 이야기한다. #Person2#는 춤, 체스, 우표 수집을 좋아한다. #Person1#은 원예를 즐긴다.\n",
      "\n",
      "ROUGE-1 Score: 0.5161290273048909\n",
      "ROUGE-2 Score: 0.3225806402081166\n",
      "ROUGE-L Score: 0.5161290273048909\n",
      "Combined ROUGE Score: 45.16128982726328\n",
      "\n",
      "====================================================================================================\n"
     ]
    },
    {
     "name": "stderr",
     "output_type": "stream",
     "text": [
      " 53%|█████▎    | 266/499 [04:03<03:13,  1.20it/s]"
     ]
    },
    {
     "name": "stdout",
     "output_type": "stream",
     "text": [
      "==265==\n",
      "Pred Summary: #Person1#과 #Person2#는 주말 계획을 논의하고, #Person2#는 비용이 많이 드는 활동을 할 수 없다는 것을 언급합니다. #Person1#은 아직 자신의 계획을 결정하지 못했다고 말합니다.\n",
      "\n",
      "Gold Summary: #Person1#과 #Person2#는 아직 주말 계획이 없다.\n",
      "\n",
      "ROUGE-1 Score: 0.3076923041420118\n",
      "ROUGE-2 Score: 0.07692307381656818\n",
      "ROUGE-L Score: 0.3076923041420118\n",
      "Combined ROUGE Score: 23.07692273668639\n",
      "\n",
      "====================================================================================================\n"
     ]
    },
    {
     "name": "stderr",
     "output_type": "stream",
     "text": [
      " 54%|█████▎    | 267/499 [04:03<03:17,  1.17it/s]"
     ]
    },
    {
     "name": "stdout",
     "output_type": "stream",
     "text": [
      "==266==\n",
      "Pred Summary: #Person1#은 부엌에서 사용하기 위해 저렴한 라디오를 구매하려고 한다. #Person2#는 더 저렴한 옵션이 좋은 선택이라고 제안하며, 그 제품이 많이 팔리고 고객들에게 인기가 있다고 말한다. #Person1#은 수표로 결제할 수 있다는 것을 알게 된다.\n",
      "\n",
      "Gold Summary: 상점 직원이 #Person1#에게 두 제품을 비교해주고, #Person1#은 수표로 더 저렴한 제품을 구매하기로 결정했다.\n",
      "\n",
      "ROUGE-1 Score: 0.19512194707911967\n",
      "ROUGE-2 Score: 0.09523809115646274\n",
      "ROUGE-L Score: 0.19512194707911967\n",
      "Combined ROUGE Score: 16.182732843823402\n",
      "\n",
      "====================================================================================================\n"
     ]
    },
    {
     "name": "stderr",
     "output_type": "stream",
     "text": [
      " 54%|█████▎    | 268/499 [04:04<03:29,  1.10it/s]"
     ]
    },
    {
     "name": "stdout",
     "output_type": "stream",
     "text": [
      "==267==\n",
      "Pred Summary: #Person1#과 #Person2#는 식물원에서 키가 큰 장뇌나무, 주목나무, 모란꽃을 감상하며 자연의 소리와 아름다움을 즐깁니다. #Person2#는 모란꽃을 좋아하며 사진을 찍기로 결정하고, #Person1#은 도움을 주기로 합니다.\n",
      "\n",
      "Gold Summary: 류씨와 #Person2#는 식물원을 방문하고 있다. #Person2#는 그것을 즐기고 있고 류씨는 #Person2#가 사진을 찍는 것을 돕는 걸 제안한다.\n",
      "\n",
      "ROUGE-1 Score: 0.10810810319941586\n",
      "ROUGE-2 Score: 0.0\n",
      "ROUGE-L Score: 0.10810810319941586\n",
      "Combined ROUGE Score: 7.207206879961057\n",
      "\n",
      "====================================================================================================\n"
     ]
    },
    {
     "name": "stderr",
     "output_type": "stream",
     "text": [
      " 54%|█████▍    | 269/499 [04:05<03:38,  1.05it/s]"
     ]
    },
    {
     "name": "stdout",
     "output_type": "stream",
     "text": [
      "==268==\n",
      "Pred Summary: 면접이 끝나고, #Person2#는 #Person1#에게 시간을 내주셔서 감사하다고 말했다. #Person1#은 다음 주 내로 연락을 주겠다고 말했고, #Person2#는 2차 면접에 대해 물었다.\n",
      "\n",
      "Gold Summary: 면접이 끝납니다. #Person1#은 최종 결정을 알리기 위해 #Person2#의 전화번호를 요청합니다.\n",
      "\n",
      "ROUGE-1 Score: 0.13793102996432832\n",
      "ROUGE-2 Score: 0.0\n",
      "ROUGE-L Score: 0.13793102996432832\n",
      "Combined ROUGE Score: 9.195401997621888\n",
      "\n",
      "====================================================================================================\n"
     ]
    },
    {
     "name": "stderr",
     "output_type": "stream",
     "text": [
      " 54%|█████▍    | 270/499 [04:07<03:54,  1.02s/it]"
     ]
    },
    {
     "name": "stdout",
     "output_type": "stream",
     "text": [
      "==269==\n",
      "Pred Summary: #Person1#은 #Person2#에게 다음 주 회의에 고객들을 초대하도록 지시한다. 그들은 샹그릴라 호텔에서 숙박하고, #Person1#은 회의 일정을 출력해 달라고 요청한다.\n",
      "\n",
      "Gold Summary: #Person1#은 존에게 다음 주 회의에 모든 고객들을 초대하고 회의 일정을 출력하도록 지시한다.\n",
      "\n",
      "ROUGE-1 Score: 0.5517241330796672\n",
      "ROUGE-2 Score: 0.2142857095153062\n",
      "ROUGE-L Score: 0.5517241330796672\n",
      "Combined ROUGE Score: 43.92446585582135\n",
      "\n",
      "====================================================================================================\n"
     ]
    },
    {
     "name": "stderr",
     "output_type": "stream",
     "text": [
      " 54%|█████▍    | 271/499 [04:08<03:39,  1.04it/s]"
     ]
    },
    {
     "name": "stdout",
     "output_type": "stream",
     "text": [
      "==270==\n",
      "Pred Summary: #Person1#은 운전 시험에 대해 물어보고, #Person2#는 #Person1#이 훌륭하게 잘 했지만 병렬 주차에서 어려움을 겪었다고 말합니다. #Person1#은 면허증을 받을 수 있는지 궁금해합니다.\n",
      "\n",
      "Gold Summary: #Person2#는 #Person1#에게 운전 시험에 합격했다고 알리고, 병렬 주차에서의 #Person1#의 부족한 점을 지적했다.\n",
      "\n",
      "ROUGE-1 Score: 0.24999999531250006\n",
      "ROUGE-2 Score: 0.0645161244536944\n",
      "ROUGE-L Score: 0.1874999953125001\n",
      "Combined ROUGE Score: 16.73387050262315\n",
      "\n",
      "====================================================================================================\n"
     ]
    },
    {
     "name": "stderr",
     "output_type": "stream",
     "text": [
      " 55%|█████▍    | 272/499 [04:08<03:20,  1.13it/s]"
     ]
    },
    {
     "name": "stdout",
     "output_type": "stream",
     "text": [
      "==271==\n",
      "Pred Summary: #Person1#은 학생 입장료가 $10이며 50% 할인이 적용된다는 것을 알게 되었다. 그들은 박물관 안내서를 받았고, 안내서는 무료라는 것을 알게 되었다.\n",
      "\n",
      "Gold Summary: #Person1#은 학생 티켓을 구매하고 #Person2#의 도움으로 박물관 안내서를 받습니다.\n",
      "\n",
      "ROUGE-1 Score: 0.319999995392\n",
      "ROUGE-2 Score: 0.16666666222222234\n",
      "ROUGE-L Score: 0.319999995392\n",
      "Combined ROUGE Score: 26.888888433540743\n",
      "\n",
      "====================================================================================================\n"
     ]
    },
    {
     "name": "stderr",
     "output_type": "stream",
     "text": [
      " 55%|█████▍    | 273/499 [04:10<03:51,  1.03s/it]"
     ]
    },
    {
     "name": "stdout",
     "output_type": "stream",
     "text": [
      "==272==\n",
      "Pred Summary: #Person1#은 기차역으로 가는 버스를 찾고 있다. #Person2#는 16번 버스를 추천하지만, #Person1#은 기다리기 싫어서 2번 버스를 타기로 결정한다. #Person2#는 버스 정류장이 어디 있는지 알려준다.\n",
      "\n",
      "Gold Summary: #Person2#는 #Person1#에게 기차역으로 가는 버스는 16번이라고 알려주지만, 그 배차 간격이 너무 길어 #Person1#는 기다릴 수 없으므로 #Person2#는 2번 버스를 제안한다.\n",
      "\n",
      "ROUGE-1 Score: 0.2631578897368422\n",
      "ROUGE-2 Score: 0.09756097063652613\n",
      "ROUGE-L Score: 0.2631578897368422\n",
      "Combined ROUGE Score: 20.79589167034035\n",
      "\n",
      "====================================================================================================\n"
     ]
    },
    {
     "name": "stderr",
     "output_type": "stream",
     "text": [
      " 55%|█████▍    | 274/499 [04:10<03:23,  1.11it/s]"
     ]
    },
    {
     "name": "stdout",
     "output_type": "stream",
     "text": [
      "==273==\n",
      "Pred Summary: #Person1#과 #Person2#는 잘못된 정류장에서 버스를 내렸습니다. 그들은 다음 버스를 기다리거나 걸어가야 합니다.\n",
      "\n",
      "Gold Summary: #Person2#가 #Person1#과 #Person2#에게 버스를 너무 일찍 내리게 했습니다. #Person1#은 #Person2#를 탓하고 #Person2#는 사과합니다.\n",
      "\n",
      "ROUGE-1 Score: 0.24999999503472223\n",
      "ROUGE-2 Score: 0.0\n",
      "ROUGE-L Score: 0.24999999503472223\n",
      "Combined ROUGE Score: 16.66666633564815\n",
      "\n",
      "====================================================================================================\n"
     ]
    },
    {
     "name": "stderr",
     "output_type": "stream",
     "text": [
      " 55%|█████▌    | 275/499 [04:11<03:25,  1.09it/s]"
     ]
    },
    {
     "name": "stdout",
     "output_type": "stream",
     "text": [
      "==274==\n",
      "Pred Summary: #Person1#은 뉴욕 타임즈에서 38번 동쪽 거리에 있는 가구가 구비된 방 두 개짜리 아파트를 보고 관심을 가졌다. 월세는 840달러이며, 편의시설 비용은 포함되어 있지 않다. 임대 계약은 조정 가능하며, 환불 가능한 보증금이 필요하다.\n",
      "\n",
      "Gold Summary: #Person1#은 광고에 나온 방 두개짜리 아파트에 대해 #Person2#에게 문의합니다. #Person2#와 #Person1#은 위치, 가구, 그리고 결제에 대해 논의합니다.\n",
      "\n",
      "ROUGE-1 Score: 0.0869565173440456\n",
      "ROUGE-2 Score: 0.0\n",
      "ROUGE-L Score: 0.0869565173440456\n",
      "Combined ROUGE Score: 5.797101156269706\n",
      "\n",
      "====================================================================================================\n"
     ]
    },
    {
     "name": "stderr",
     "output_type": "stream",
     "text": [
      " 55%|█████▌    | 276/499 [04:12<03:22,  1.10it/s]"
     ]
    },
    {
     "name": "stdout",
     "output_type": "stream",
     "text": [
      "==275==\n",
      "Pred Summary: #Person1#은 처음 비행기를 타는 사람이다. #Person2#는 체크인 절차를 안내한다. #Person1#은 핸드백만 가지고 있기 때문에 짐을 체크인할 필요가 없다. 그들은 보안 검사를 통과한 후에 출발 대기장에서 기다리면 된다.\n",
      "\n",
      "Gold Summary: #Person1#이 처음으로 비행기를 타는 상황입니다. #Person2#가 #Person1#에게 어떻게 체크인하는지 알려줍니다.\n",
      "\n",
      "ROUGE-1 Score: 0.11111110709876558\n",
      "ROUGE-2 Score: 0.05714285332244924\n",
      "ROUGE-L Score: 0.11111110709876558\n",
      "Combined ROUGE Score: 9.31216891733268\n",
      "\n",
      "====================================================================================================\n"
     ]
    },
    {
     "name": "stderr",
     "output_type": "stream",
     "text": [
      " 56%|█████▌    | 277/499 [04:13<03:14,  1.14it/s]"
     ]
    },
    {
     "name": "stdout",
     "output_type": "stream",
     "text": [
      "==276==\n",
      "Pred Summary: #Person1#은 #Person2#에게 바쁜 업무 일과와 긴 근무 시간을 가진 중개업체에서의 비서 역할을 제안한다. #Person2#는 이 역할에 관심을 보이며, 비슷한 경험을 가지고 있다고 언급한다.\n",
      "\n",
      "Gold Summary: 리 양이 #Person1#에게 그녀의 경력 목표에 대해 이야기합니다. #Person1#은 #Person1#의 회사를 소개하고 리 양에게 #Person1#의 회사에서의 업무 일과에 대해 알려줍니다.\n",
      "\n",
      "ROUGE-1 Score: 0.09999999511250024\n",
      "ROUGE-2 Score: 0.0\n",
      "ROUGE-L Score: 0.09999999511250024\n",
      "Combined ROUGE Score: 6.666666340833349\n",
      "\n",
      "====================================================================================================\n"
     ]
    },
    {
     "name": "stderr",
     "output_type": "stream",
     "text": [
      " 56%|█████▌    | 278/499 [04:13<02:57,  1.25it/s]"
     ]
    },
    {
     "name": "stdout",
     "output_type": "stream",
     "text": [
      "==277==\n",
      "Pred Summary: #Person1#은 초고속 인터넷 설치를 원하고, #Person2#는 이번 주 토요일 오전 11시에 설치를 예약했다.\n",
      "\n",
      "Gold Summary: #Person1#은 초고속 인터넷 설치를 원하고 토요일 11시에 #Person2#와 예약을 합니다.\n",
      "\n",
      "ROUGE-1 Score: 0.5454545404958678\n",
      "ROUGE-2 Score: 0.2857142808163266\n",
      "ROUGE-L Score: 0.5454545404958678\n",
      "Combined ROUGE Score: 45.88744539360207\n",
      "\n",
      "====================================================================================================\n"
     ]
    },
    {
     "name": "stderr",
     "output_type": "stream",
     "text": [
      " 56%|█████▌    | 279/499 [04:14<03:08,  1.17it/s]"
     ]
    },
    {
     "name": "stdout",
     "output_type": "stream",
     "text": [
      "==278==\n",
      "Pred Summary: #Person1#은 #Person2#가 늦게 들어와서 화가 났고, #Person2#는 변명으로 사과했다. #Person1#은 #Person2#가 늦게 들어올 때 전화하지 않은 것을 비난하고, #Person2#가 다시 늦게 들어오면 쫓아낼 것이라고 협박했다.\n",
      "\n",
      "Gold Summary: #Person1#은 #Person2#가 늦게 들어오고 전화도 하지 않아 화가 나 있다. #Person1#은 #Person2#가 다시 늦게 들어오면 #Person2#를 쫓아내겠다고 위협한다. #Person2#는 #Person1#에게 불만이 생긴다.\n",
      "\n",
      "ROUGE-1 Score: 0.3589743539776463\n",
      "ROUGE-2 Score: 0.23809523310657604\n",
      "ROUGE-L Score: 0.3589743539776463\n",
      "Combined ROUGE Score: 31.868131368728957\n",
      "\n",
      "====================================================================================================\n"
     ]
    },
    {
     "name": "stderr",
     "output_type": "stream",
     "text": [
      " 56%|█████▌    | 280/499 [04:15<03:02,  1.20it/s]"
     ]
    },
    {
     "name": "stdout",
     "output_type": "stream",
     "text": [
      "==279==\n",
      "Pred Summary: #Person1#은 수프의 맛을 싫어하지만, #Person2#는 그들이 수프를 다 먹길 원한다.\n",
      "\n",
      "Gold Summary: #Person1#은 #Person2#의 짠 수프를 싫어하지만 #Person2#은 #Person1#에게 마시도록 강요한다.\n",
      "\n",
      "ROUGE-1 Score: 0.21052631080332423\n",
      "ROUGE-2 Score: 0.0\n",
      "ROUGE-L Score: 0.21052631080332423\n",
      "Combined ROUGE Score: 14.035087386888282\n",
      "\n",
      "====================================================================================================\n"
     ]
    },
    {
     "name": "stderr",
     "output_type": "stream",
     "text": [
      " 56%|█████▋    | 281/499 [04:16<03:19,  1.10it/s]"
     ]
    },
    {
     "name": "stdout",
     "output_type": "stream",
     "text": [
      "==280==\n",
      "Pred Summary: #Person1#과 #Person2#는 체스와 중국장기 중 어떤 게임을 선호하는지 논의한다. #Person1#은 체스의 합리성, 폰의 승진, 왕의 유능함을 강조하며 체스를 선호한다. #Person2#는 중국장기의 문화적 의미와 체스와의 차이점을 언급하며 중국장기를 선호한다.\n",
      "\n",
      "Gold Summary: #Person1#과 #Person2#는 체스와 중국장기 사이의 차이점에 대해 논의합니다. 둘 다 체스가 특정 규칙에서 중국장기보다 더 합리적이라고 생각하지만, #Person1#은 중국장기가 더 큰 공간에서 움직일 수 있다고 생각합니다.\n",
      "\n",
      "ROUGE-1 Score: 0.19607842637447148\n",
      "ROUGE-2 Score: 0.11538461039201205\n",
      "ROUGE-L Score: 0.19607842637447148\n",
      "Combined ROUGE Score: 16.918048771365164\n",
      "\n",
      "====================================================================================================\n"
     ]
    },
    {
     "name": "stderr",
     "output_type": "stream",
     "text": [
      " 57%|█████▋    | 282/499 [04:17<02:56,  1.23it/s]"
     ]
    },
    {
     "name": "stdout",
     "output_type": "stream",
     "text": [
      "==281==\n",
      "Pred Summary: #Person1#과 #Person2#는 토요일 아침 9시에 식료품 쇼핑을 하는 것을 선호한다.\n",
      "\n",
      "Gold Summary: #Person1#와 #Person2#가 다시 한번 식료품점에서 만났다.\n",
      "\n",
      "ROUGE-1 Score: 0.0\n",
      "ROUGE-2 Score: 0.0\n",
      "ROUGE-L Score: 0.0\n",
      "Combined ROUGE Score: 0.0\n",
      "\n",
      "====================================================================================================\n"
     ]
    },
    {
     "name": "stderr",
     "output_type": "stream",
     "text": [
      " 57%|█████▋    | 283/499 [04:18<03:08,  1.14it/s]"
     ]
    },
    {
     "name": "stdout",
     "output_type": "stream",
     "text": [
      "==282==\n",
      "Pred Summary: 제인과 존은 제인의 결혼식을 위해 멀버리 핸드백을 빌리기로 결정했다. 그들은 핸드백 대여라는 새로운 사업을 알게 되었고, 한 개의 핸드백 가격으로 20주 동안 매주 다른 가방을 사용할 수 있다는 것을 알게 되었다. 제인은 온라인으로 가방을 주문하고, 2일 내에 받을 수 있다는 것을 알게 되었다.\n",
      "\n",
      "Gold Summary: 제인은 메리의 결혼식에 들고 갈 멀버리 핸드백을 사고 싶지만, 존은 핸드백 대여에서 하나를 빌리는 것을 제안하고 서비스에 대해 자세히 설명한다. 제인은 한번 해보고 싶어합니다.\n",
      "\n",
      "ROUGE-1 Score: 0.20689654693816897\n",
      "ROUGE-2 Score: 0.032786880548240395\n",
      "ROUGE-L Score: 0.1724137883174793\n",
      "Combined ROUGE Score: 13.736573860129623\n",
      "\n",
      "====================================================================================================\n"
     ]
    },
    {
     "name": "stderr",
     "output_type": "stream",
     "text": [
      " 57%|█████▋    | 284/499 [04:19<03:00,  1.19it/s]"
     ]
    },
    {
     "name": "stdout",
     "output_type": "stream",
     "text": [
      "==283==\n",
      "Pred Summary: #Person1#과 #Person2#는 비행기에서 자리를 바꾼다. #Person1#은 담배 연기를 피하기 위해 자리를 바꾼다. 그들은 서로 인사를 나누고 출신지를 공유한다.\n",
      "\n",
      "Gold Summary: 엘사 토빈은 자리를 바꿔서 창가에 앉아 있는 마이크 제라드 호건 옆에 앉게 되었습니다.\n",
      "\n",
      "ROUGE-1 Score: 0.0689655122948874\n",
      "ROUGE-2 Score: 0.0\n",
      "ROUGE-L Score: 0.0689655122948874\n",
      "Combined ROUGE Score: 4.59770081965916\n",
      "\n",
      "====================================================================================================\n"
     ]
    },
    {
     "name": "stderr",
     "output_type": "stream",
     "text": [
      " 57%|█████▋    | 285/499 [04:20<03:23,  1.05it/s]"
     ]
    },
    {
     "name": "stdout",
     "output_type": "stream",
     "text": [
      "==284==\n",
      "Pred Summary: 제니퍼 벤제스는 이혼이 아이들에게 미치는 영향에 대해 이야기합니다. 그녀는 이혼이 가볍게 생각하는 것이 아니며, 대부분의 사람들에게는 고통스러운 경험이라고 강조합니다. 그러나 그녀는 부모님의 지속적인 다툼이 아이들에게 더 큰 해를 끼칠 수 있다고 믿습니다. 제니퍼는 사회가 이혼한 사람들을 저주하는 대신 이해하고, 그들이 더 나은 미래를 건설할 수 있도록 도와야 한다고 제안합니다.\n",
      "\n",
      "Gold Summary: 제니퍼 벤제스는 이혼과 그것이 그녀의 아이들에게 미친 영향에 대해 관객과 공유하고 있습니다. 그녀는 결혼을 조정하는 것이 아이들에게 더 좋지 않다고 생각하며, 대부분의 사람들이 그 반대를 생각하더라도, 그녀는 사회가 그들을 저주하는 대신 이해해주기를 원합니다.\n",
      "\n",
      "ROUGE-1 Score: 0.31999999515022226\n",
      "ROUGE-2 Score: 0.09999999520000023\n",
      "ROUGE-L Score: 0.31999999515022226\n",
      "Combined ROUGE Score: 24.66666618334816\n",
      "\n",
      "====================================================================================================\n"
     ]
    },
    {
     "name": "stderr",
     "output_type": "stream",
     "text": [
      " 57%|█████▋    | 286/499 [04:21<03:08,  1.13it/s]"
     ]
    },
    {
     "name": "stdout",
     "output_type": "stream",
     "text": [
      "==285==\n",
      "Pred Summary: #Person1#과 #Person2#는 이번 주 금요일에 밴드 공연을 준비한다. #Person2#는 기타를 고쳤지만, 바쁜 일정 때문에 더 일찍 고치지 못했다.\n",
      "\n",
      "Gold Summary: 티나는 지난 주에 기타가 고장나서 밴드 연습에 오지 않았다. #Person1#은 그녀가 기타를 더 일찍 고치지 않은 것에 대해 비난하지만, 티나는 이번 달에 너무 바빴다.\n",
      "\n",
      "ROUGE-1 Score: 0.29999999511250003\n",
      "ROUGE-2 Score: 0.09999999511250024\n",
      "ROUGE-L Score: 0.29999999511250003\n",
      "Combined ROUGE Score: 23.333332844583342\n",
      "\n",
      "====================================================================================================\n"
     ]
    },
    {
     "name": "stderr",
     "output_type": "stream",
     "text": [
      " 58%|█████▊    | 287/499 [04:21<03:05,  1.14it/s]"
     ]
    },
    {
     "name": "stdout",
     "output_type": "stream",
     "text": [
      "==286==\n",
      "Pred Summary: #Person2#는 유전학 박사학위를 받았으며, 과학적 연구를 통해 의학적인 돌파구를 만들고 싶어한다. 그들은 민간기업이나 대학에서 일자리를 찾을 수 있으며, 유전학 분야에서의 다음 발견이 어디에서 이루어질지 예측하기 어렵다.\n",
      "\n",
      "Gold Summary: #Person2#는 유전학 박사학위를 받았고 유전학 연구를 진행하는 일자리를 찾고 싶어합니다. #Person1#는 민간기업과 대학에서 일하는 것을 제안합니다.\n",
      "\n",
      "ROUGE-1 Score: 0.29999999531250005\n",
      "ROUGE-2 Score: 0.09999999531250023\n",
      "ROUGE-L Score: 0.29999999531250005\n",
      "Combined ROUGE Score: 23.333332864583344\n",
      "\n",
      "====================================================================================================\n"
     ]
    },
    {
     "name": "stderr",
     "output_type": "stream",
     "text": [
      " 58%|█████▊    | 288/499 [04:22<02:57,  1.19it/s]"
     ]
    },
    {
     "name": "stdout",
     "output_type": "stream",
     "text": [
      "==287==\n",
      "Pred Summary: #Person1#과 #Person2#는 저녁 식사 전에 음료를 주문하기로 결정했다. #Person2#는 하우스 스페셜인 쿠에르보 골드 마가리타를 얼음 넣어 소금 없이 주문했다.\n",
      "\n",
      "Gold Summary: #Person2#는 #Person1#의 추천에 따라 쿠에르보 골드 마가리타를 주문하고, 얼음을 넣어 달라고 요청하며 소금은 빼달라고 합니다.\n",
      "\n",
      "ROUGE-1 Score: 0.30303029807162535\n",
      "ROUGE-2 Score: 0.12499999507812519\n",
      "ROUGE-L Score: 0.30303029807162535\n",
      "Combined ROUGE Score: 24.368686374045865\n",
      "\n",
      "====================================================================================================\n"
     ]
    },
    {
     "name": "stderr",
     "output_type": "stream",
     "text": [
      " 58%|█████▊    | 289/499 [04:23<03:01,  1.16it/s]"
     ]
    },
    {
     "name": "stdout",
     "output_type": "stream",
     "text": [
      "==288==\n",
      "Pred Summary: #Person1#은 78세의 친구가 학교에 다니지 않았고, 영어를 읽지 못한다는 이유로 도움을 요청합니다. #Person2#는 친구를 가르치기로 동의하고, 저녁 식사에 초대하며, #Person1#이 요리를 해야 한다고 말합니다.\n",
      "\n",
      "Gold Summary: #Person1#은 읽을 줄 모르는 78세의 이민자에게 읽는 법을 가르치도록 #Person2#를 자원했습니다. #Person2#는 이것이 도전적이라고 생각하지만 #Person1#이 저녁식사을 만드는 조건하에 동의합니다.\n",
      "\n",
      "ROUGE-1 Score: 0.18181817685950424\n",
      "ROUGE-2 Score: 0.0\n",
      "ROUGE-L Score: 0.18181817685950424\n",
      "Combined ROUGE Score: 12.121211790633616\n",
      "\n",
      "====================================================================================================\n"
     ]
    },
    {
     "name": "stderr",
     "output_type": "stream",
     "text": [
      " 58%|█████▊    | 290/499 [04:24<02:45,  1.26it/s]"
     ]
    },
    {
     "name": "stdout",
     "output_type": "stream",
     "text": [
      "==289==\n",
      "Pred Summary: 스티븐은 베로니카에게 결혼을 제안하지만, 그녀는 그의 거짓말과 속임수에 실망하여 거절한다.\n",
      "\n",
      "Gold Summary: 스티븐은 그의 임무 때문에 베로니카에게 거짓말을 했습니다. 베로니카는 너무 속아서 더 이상 스티븐을 믿지 않습니다. 스티븐은 베로니카에게 인도로 같이 가서 결혼하자고 제안하지만 베로니카는 거절합니다. 마지막으로, 스티븐이 로스앤젤레스에서 하이데라바드로 가는 비행기에 탑승할 때 베로니카는 공항에 나타나지 않습니다.\n",
      "\n",
      "ROUGE-1 Score: 0.14634145972635346\n",
      "ROUGE-2 Score: 0.04545454220041345\n",
      "ROUGE-L Score: 0.09756097192147545\n",
      "Combined ROUGE Score: 9.645232461608078\n",
      "\n",
      "====================================================================================================\n"
     ]
    },
    {
     "name": "stderr",
     "output_type": "stream",
     "text": [
      " 58%|█████▊    | 291/499 [04:25<02:54,  1.19it/s]"
     ]
    },
    {
     "name": "stdout",
     "output_type": "stream",
     "text": [
      "==290==\n",
      "Pred Summary: #Person2#는 #Person1#에게 흉부 엑스레이 촬영을 위해 옷을 벗고 가운을 입으라고 안내합니다. #Person1#은 판에 붙어 서고, 팔을 들어올리고, 숨을 들이마시고 참았다가 내쉬어야 합니다.\n",
      "\n",
      "Gold Summary: #Person1#은 #Person2#의 지시에 따라 흉부 엑스레이 사진을 단계별로 받습니다.\n",
      "\n",
      "ROUGE-1 Score: 0.19354838297606666\n",
      "ROUGE-2 Score: 0.06896551324613578\n",
      "ROUGE-L Score: 0.19354838297606666\n",
      "Combined ROUGE Score: 15.202075973275639\n",
      "\n",
      "====================================================================================================\n"
     ]
    },
    {
     "name": "stderr",
     "output_type": "stream",
     "text": [
      " 59%|█████▊    | 292/499 [04:25<02:41,  1.28it/s]"
     ]
    },
    {
     "name": "stdout",
     "output_type": "stream",
     "text": [
      "==291==\n",
      "Pred Summary: #Person1#과 #Person2#는 폭염에 대해 이야기하며, 실내에 머무르고 술을 마시며 더위를 피하는 것을 제안합니다.\n",
      "\n",
      "Gold Summary: 마크는 폭염에 대해 불평합니다. #Person2#는 술을 많이 먹는 걸 제안하고, 그들은 맥주를 마실 것입니다.\n",
      "\n",
      "ROUGE-1 Score: 0.2962962913031551\n",
      "ROUGE-2 Score: 0.07999999500800031\n",
      "ROUGE-L Score: 0.2962962913031551\n",
      "Combined ROUGE Score: 22.419752587143684\n",
      "\n",
      "====================================================================================================\n"
     ]
    },
    {
     "name": "stderr",
     "output_type": "stream",
     "text": [
      " 59%|█████▊    | 293/499 [04:26<02:58,  1.15it/s]"
     ]
    },
    {
     "name": "stdout",
     "output_type": "stream",
     "text": [
      "==292==\n",
      "Pred Summary: #Person1#은 셔츠가 자신의 몸에 끔찍하게 어울린다고 생각하고, #Person2#는 그 셔츠가 나쁘지 않다고 생각한다. #Person1#은 80년대 스타일을 좋아하지만 나쁜 80년대 스타일은 좋아하지 않으며, 다른 가게에서 더 모던한 옷을 찾고 싶어한다.\n",
      "\n",
      "Gold Summary: #Person1#은 셔츠가 자신에게 잘 어울리지 않는다고 생각합니다. #Person2#는 #Person1#이 80년대 스타일을 좋아한다고 생각했지만, #Person1#은 멋진 80년대 스타일만 좋아합니다. #Person1#은 더 모던한 가게를 찾기로 결정합니다.\n",
      "\n",
      "ROUGE-1 Score: 0.2978723354821186\n",
      "ROUGE-2 Score: 0.11764705387158807\n",
      "ROUGE-L Score: 0.255319143992757\n",
      "Combined ROUGE Score: 22.361284444882124\n",
      "\n",
      "====================================================================================================\n"
     ]
    },
    {
     "name": "stderr",
     "output_type": "stream",
     "text": [
      " 59%|█████▉    | 294/499 [04:27<02:44,  1.24it/s]"
     ]
    },
    {
     "name": "stdout",
     "output_type": "stream",
     "text": [
      "==293==\n",
      "Pred Summary: #Person2#의 아들이 수영장에서 수영을 하다가 물에 빠졌습니다. #Person1#의 친구인 헨리가 상황을 발견하고 도움을 주었습니다.\n",
      "\n",
      "Gold Summary: #Person2#는 #Person1#에게 지난 주말에 일어난 끔찍한 사고에 대해 이야기합니다. #Person2#는 헨리 씨와 함께 수영하러 갔습니다. 수영을 못하는 #Person2#의 아들이 수영장에서 물에 빠지다 헨리 씨에게 구조되었습니다.\n",
      "\n",
      "ROUGE-1 Score: 0.27027026556610667\n",
      "ROUGE-2 Score: 0.10810810355003672\n",
      "ROUGE-L Score: 0.2162162115120527\n",
      "Combined ROUGE Score: 19.819819354273204\n",
      "\n",
      "====================================================================================================\n"
     ]
    },
    {
     "name": "stderr",
     "output_type": "stream",
     "text": [
      " 59%|█████▉    | 295/499 [04:28<02:53,  1.18it/s]"
     ]
    },
    {
     "name": "stdout",
     "output_type": "stream",
     "text": [
      "==294==\n",
      "Pred Summary: #Person2#의 어머니는 건강이 좋아지고 있으며, 곧 집으로 돌아올 예정입니다. #Person2#는 어머니를 돌보고 청소를 하기 위해 일주일 동안 휴가를 내고 싶어합니다. #Person1#은 도움을 제안하지만, #Person2#는 직접 일을 처리하는 것을 선호합니다.\n",
      "\n",
      "Gold Summary: #Person1#은 #Person2#의 어머니에 대해 묻고 그녀를 돌보기 위해 누군가를 고용하는 것을 제안하지만, #Person2#는 직접 하겠다고 고집합니다.\n",
      "\n",
      "ROUGE-1 Score: 0.31818181355371905\n",
      "ROUGE-2 Score: 0.0930232512709575\n",
      "ROUGE-L Score: 0.2272727226446282\n",
      "Combined ROUGE Score: 21.28259291564349\n",
      "\n",
      "====================================================================================================\n"
     ]
    },
    {
     "name": "stderr",
     "output_type": "stream",
     "text": [
      " 59%|█████▉    | 296/499 [04:29<02:49,  1.20it/s]"
     ]
    },
    {
     "name": "stdout",
     "output_type": "stream",
     "text": [
      "==295==\n",
      "Pred Summary: #Person1#은 아침에 차가 시동이 걸리지 않아 자주 늦는다. #Person2#는 20년의 경험을 가진 지미의 정비소를 추천하며, 그들은 특히 오래된 차를 수리하는 데 뛰어나다고 말한다.\n",
      "\n",
      "Gold Summary: 지나의 차는 아침에 항상 시동이 걸리지 않습니다. #Person2#는 지나에게 차를 지미의 정비소에 수리하러 가라고 제안합니다.\n",
      "\n",
      "ROUGE-1 Score: 0.31578946890581727\n",
      "ROUGE-2 Score: 0.055555550802469544\n",
      "ROUGE-L Score: 0.2631578899584488\n",
      "Combined ROUGE Score: 21.150096988891185\n",
      "\n",
      "====================================================================================================\n"
     ]
    },
    {
     "name": "stderr",
     "output_type": "stream",
     "text": [
      " 60%|█████▉    | 297/499 [04:30<02:54,  1.16it/s]"
     ]
    },
    {
     "name": "stdout",
     "output_type": "stream",
     "text": [
      "==296==\n",
      "Pred Summary: #Person1#은 #Person2#에게 케임브리지를 방문하자고 제안했지만, #Person2#는 이미 방문했다고 거절했다. 대신 #Person2#는 현대 미술 작품을 보고 싶다고 했고, #Person1#은 테이트 모던을 추천했다.\n",
      "\n",
      "Gold Summary: #Person1#은 케임브리지 방문을 제안하지만, #Person2#는 어제 그곳을 방문했다. #Person2#는 현대 미술 작품을 보고 싶어하므로 #Person1#은 테이트 모던을 추천한다.\n",
      "\n",
      "ROUGE-1 Score: 0.45714285217959183\n",
      "ROUGE-2 Score: 0.3243243193571951\n",
      "ROUGE-L Score: 0.45714285217959183\n",
      "Combined ROUGE Score: 41.28700079054595\n",
      "\n",
      "====================================================================================================\n"
     ]
    },
    {
     "name": "stderr",
     "output_type": "stream",
     "text": [
      " 60%|█████▉    | 298/499 [04:31<02:59,  1.12it/s]"
     ]
    },
    {
     "name": "stdout",
     "output_type": "stream",
     "text": [
      "==297==\n",
      "Pred Summary: #Person1#은 일자리를 잃었고, #Person2#는 기말고사를 준비하는 긴장한 학생들을 가지고 있다. #Person1#은 #Person2#가 대학 1학년 때 어려운 기말고사를 내주었던 것을 감사하게 생각하며, 그것이 영어 실력에 도움이 되었다고 말한다.\n",
      "\n",
      "Gold Summary: #Person1#은 브랜든 부인에게 오늘 일자리를 잃었다고 말했다. #Person1#은 과거 브랜든 부인이 내준 기말고사를 떠올렸다.\n",
      "\n",
      "ROUGE-1 Score: 0.16216215777940113\n",
      "ROUGE-2 Score: 0.0\n",
      "ROUGE-L Score: 0.16216215777940113\n",
      "Combined ROUGE Score: 10.810810518626742\n",
      "\n",
      "====================================================================================================\n"
     ]
    },
    {
     "name": "stderr",
     "output_type": "stream",
     "text": [
      " 60%|█████▉    | 299/499 [04:32<03:05,  1.08it/s]"
     ]
    },
    {
     "name": "stdout",
     "output_type": "stream",
     "text": [
      "==298==\n",
      "Pred Summary: #Person1#은 #Person2#가 늦게 일어난 것을 걱정하며, #Person2#는 컴퓨터 게임에 중독되어 있다고 인정한다. #Person1#은 #Person2#에게 다른 중요한 일에 집중하라고 제안하고, #Person2#는 다음 날부터 그렇게 해보기로 결심한다.\n",
      "\n",
      "Gold Summary: #Person2#는 컴퓨터 게임에 중독되어 늦게 잠들고 늦게 일어났습니다. #Person1#는 #Person2#에게 다른 일을 찾아보라고 제안했습니다.\n",
      "\n",
      "ROUGE-1 Score: 0.38888888427469137\n",
      "ROUGE-2 Score: 0.21621621165814472\n",
      "ROUGE-L Score: 0.33333332871913585\n",
      "Combined ROUGE Score: 31.2812808217324\n",
      "\n",
      "====================================================================================================\n"
     ]
    },
    {
     "name": "stderr",
     "output_type": "stream",
     "text": [
      " 60%|██████    | 300/499 [04:33<03:26,  1.04s/it]"
     ]
    },
    {
     "name": "stdout",
     "output_type": "stream",
     "text": [
      "==299==\n",
      "Pred Summary: #Person1#은 #Person2#에게 케이크를 먹으라고 권유하지만, #Person2#는 다이어트 중이라고 거절한다. #Person1#은 #Person2#가 이미 멋져 보인다고 말하며, #Person2#는 의사의 권유로 특정 음식을 피하고 있다고 설명한다. #Person1#은 #Person2#가 먹을 수 있는 뜨거운 수프를 가져오기로 한다.\n",
      "\n",
      "Gold Summary: 슈는 특정 음식을 피함으로써 알레르기를 피하려고 하기 때문에 빌의 케이크를 먹지 않습니다. 슈는 파티에서 샐러드만 먹을 수 있고, 뜨거운 수프를 원합니다. 빌은 파티 후에 식당에 가서 수프를 가져오는 것을 제안합니다.\n",
      "\n",
      "ROUGE-1 Score: 0.24999999500000009\n",
      "ROUGE-2 Score: 0.1016949102556739\n",
      "ROUGE-L Score: 0.24999999500000009\n",
      "Combined ROUGE Score: 20.056496675189138\n",
      "\n",
      "====================================================================================================\n"
     ]
    },
    {
     "name": "stderr",
     "output_type": "stream",
     "text": [
      " 60%|██████    | 301/499 [04:34<03:20,  1.01s/it]"
     ]
    },
    {
     "name": "stdout",
     "output_type": "stream",
     "text": [
      "==300==\n",
      "Pred Summary: #Person1#과 #Person2#는 밴쿠버에서 시작하여 윈니펙, 토론토, 퀘벡을 거쳐 자전거로 횡단하는 계획을 세우고 있다. 이 여행은 길고 긴 여정이지만, 그들은 평생에 한 번뿐인 경험을 기대하고 있다.\n",
      "\n",
      "Gold Summary: #Person1#와 #Person2#는 밴쿠버에서 윈니펙까지의 자전거 여행 계획을 살펴봅니다.\n",
      "\n",
      "ROUGE-1 Score: 0.18749999625000005\n",
      "ROUGE-2 Score: 0.0645161255359003\n",
      "ROUGE-L Score: 0.18749999625000005\n",
      "Combined ROUGE Score: 14.650537267863347\n",
      "\n",
      "====================================================================================================\n"
     ]
    },
    {
     "name": "stderr",
     "output_type": "stream",
     "text": [
      " 61%|██████    | 302/499 [04:35<03:21,  1.02s/it]"
     ]
    },
    {
     "name": "stdout",
     "output_type": "stream",
     "text": [
      "==301==\n",
      "Pred Summary: #Person1#은 자신을 솔직하고 근면하며 끈기있고 창의적이며 책임감이 강한 사람으로 설명한다. 그녀는 심리적 회복력이 있으며 압박 상황에서도 잘 일할 수 있다고 믿는다. 그녀는 다른 사람들에게 진심으로 친절하게 대하며 인간의 선함을 믿는다. 그녀의 약점은 때로는 세부 사항에 너무 신경을 쓰고 완벽을 추구한다는 것이다.\n",
      "\n",
      "Gold Summary: #Person2#는 #Person1#에게 인터뷰를 합니다. #Person1#는 자신의 성격, 심리적 회복력, 그리고 약점에 대한 자기 평가를 #Person2#에게 말해줍니다.\n",
      "\n",
      "ROUGE-1 Score: 0.036363632238017\n",
      "ROUGE-2 Score: 0.0\n",
      "ROUGE-L Score: 0.036363632238017\n",
      "Combined ROUGE Score: 2.4242421492011337\n",
      "\n",
      "====================================================================================================\n"
     ]
    },
    {
     "name": "stderr",
     "output_type": "stream",
     "text": [
      " 61%|██████    | 303/499 [04:36<03:01,  1.08it/s]"
     ]
    },
    {
     "name": "stdout",
     "output_type": "stream",
     "text": [
      "==302==\n",
      "Pred Summary: #Person1#과 #Person2#는 교통 체증과 비용에도 불구하고 버스를 타기로 결정했다. 그들은 기차에서 식사를 하기 위해 점심을 가져갈 것이다.\n",
      "\n",
      "Gold Summary: #Person1#과 #Person2#는 버스로 여행할지 기차로 여행할지에 대해 이야기합니다. 그들은 결국 더 편리하고 시간에 맞춰 도착하는 기차를 선택하게 되지만, 비용이 더 드는 것을 선택합니다.\n",
      "\n",
      "ROUGE-1 Score: 0.15384614892833676\n",
      "ROUGE-2 Score: 0.05263157407202262\n",
      "ROUGE-L Score: 0.15384614892833676\n",
      "Combined ROUGE Score: 12.010795730956538\n",
      "\n",
      "====================================================================================================\n"
     ]
    },
    {
     "name": "stderr",
     "output_type": "stream",
     "text": [
      " 61%|██████    | 304/499 [04:37<02:57,  1.10it/s]"
     ]
    },
    {
     "name": "stdout",
     "output_type": "stream",
     "text": [
      "==303==\n",
      "Pred Summary: #Person1#은 봄에 알레르기가 있어 재채기, 콧물, 가려움증 등의 증상이 있다. #Person2#는 술에 대한 심각한 알레르기 반응이 있지만, 그것이 술을 마시는 것을 멈추게 하지는 않는다.\n",
      "\n",
      "Gold Summary: #Person1#은 #Person2#에게 계절 알레르기가 있다고 말하고 재채기, 코 흐름, 목 가려움, 눈 물짐 등의 증상을 설명한다. #Person2#는 술에 대한 심각한 알레르기 반응이 있다고 말한다.\n",
      "\n",
      "ROUGE-1 Score: 0.4255319098958805\n",
      "ROUGE-2 Score: 0.21739129934782622\n",
      "ROUGE-L Score: 0.4255319098958805\n",
      "Combined ROUGE Score: 35.615170637986246\n",
      "\n",
      "====================================================================================================\n"
     ]
    },
    {
     "name": "stderr",
     "output_type": "stream",
     "text": [
      " 61%|██████    | 305/499 [04:37<02:54,  1.11it/s]"
     ]
    },
    {
     "name": "stdout",
     "output_type": "stream",
     "text": [
      "==304==\n",
      "Pred Summary: #Person1#과 #Person2#는 우커송 정거장으로 가는 기차를 타기 위해 준비하고 있다. 그들은 빈 좌석을 찾아 앉을 계획이다.\n",
      "\n",
      "Gold Summary: #Person1#와 #Person2#는 우커송 정거장으로 가는 기차를 타고 있습니다. 지금은 기차가 복잡하지 않아서 그들은 두 개의 좌석을 차지하게 됩니다.\n",
      "\n",
      "ROUGE-1 Score: 0.41176470089965406\n",
      "ROUGE-2 Score: 0.24999999501953132\n",
      "ROUGE-L Score: 0.41176470089965406\n",
      "Combined ROUGE Score: 35.78431322729465\n",
      "\n",
      "====================================================================================================\n"
     ]
    },
    {
     "name": "stderr",
     "output_type": "stream",
     "text": [
      " 61%|██████▏   | 306/499 [04:38<02:43,  1.18it/s]"
     ]
    },
    {
     "name": "stdout",
     "output_type": "stream",
     "text": [
      "==305==\n",
      "Pred Summary: #Person1#과 #Person2#는 한 선수가 스테로이드 사용으로 실격된 것에 대해 이야기하고 있다. 그들은 정기적인 약물 검사가 모든 선수들에게 시행되어야 한다고 생각한다.\n",
      "\n",
      "Gold Summary: #Person2#는 재능 있는 선수가 약물 문제로 인해 이기지 못했다고 #Person1#에게 말합니다. #Person2#와 #Person1#은 선수가 경기 후에 실격되었던 이유와 약물을 복용한 이유에 대해 논의합니다.\n",
      "\n",
      "ROUGE-1 Score: 0.1904761854875285\n",
      "ROUGE-2 Score: 0.0\n",
      "ROUGE-L Score: 0.1904761854875285\n",
      "Combined ROUGE Score: 12.698412365835235\n",
      "\n",
      "====================================================================================================\n"
     ]
    },
    {
     "name": "stderr",
     "output_type": "stream",
     "text": [
      " 62%|██████▏   | 307/499 [04:39<02:33,  1.25it/s]"
     ]
    },
    {
     "name": "stdout",
     "output_type": "stream",
     "text": [
      "==306==\n",
      "Pred Summary: #Person1#과 #Person2#는 무엇을 볼지 논의하고 있다. 그들은 서부극, 축구 경기, 시트콤, 그리고 퀴즈쇼를 고려하고 있다.\n",
      "\n",
      "Gold Summary: #Person1#와 #Person2#는 다른 채널을 보고 싶어하지만 결국에는 퀴즈쇼를 같이 보기로 결정한다.\n",
      "\n",
      "ROUGE-1 Score: 0.15999999507200013\n",
      "ROUGE-2 Score: 0.0\n",
      "ROUGE-L Score: 0.15999999507200013\n",
      "Combined ROUGE Score: 10.666666338133341\n",
      "\n",
      "====================================================================================================\n"
     ]
    },
    {
     "name": "stderr",
     "output_type": "stream",
     "text": [
      " 62%|██████▏   | 308/499 [04:40<02:25,  1.32it/s]"
     ]
    },
    {
     "name": "stdout",
     "output_type": "stream",
     "text": [
      "==307==\n",
      "Pred Summary: #Person2#는 뉴욕에 3일 동안 머무를 예정이며, 짐을 런던으로 보낼 수 없습니다. 그들은 공항 보관소에 짐을 두기로 결정했습니다.\n",
      "\n",
      "Gold Summary: #Person2#는 #Person1#에게 짐을 여기에 둘 수 없다고 말합니다. #Person2#는 짐을 공항 보관소에 둘 예정입니다.\n",
      "\n",
      "ROUGE-1 Score: 0.3703703655418381\n",
      "ROUGE-2 Score: 0.0689655122948874\n",
      "ROUGE-L Score: 0.3703703655418381\n",
      "Combined ROUGE Score: 26.990208112618784\n",
      "\n",
      "====================================================================================================\n"
     ]
    },
    {
     "name": "stderr",
     "output_type": "stream",
     "text": [
      " 62%|██████▏   | 309/499 [04:40<02:20,  1.36it/s]"
     ]
    },
    {
     "name": "stdout",
     "output_type": "stream",
     "text": [
      "==308==\n",
      "Pred Summary: #Person1#과 #Person2#는 AC 밀란 대 레알 마드리드 축구 경기를 시청할 예정이다. 그들은 간식을 사러 가기로 결정했다.\n",
      "\n",
      "Gold Summary: #Person1#은(는) #Person2#에게 오늘 밤 축구 경기를 같이 보자고 제안했습니다.\n",
      "\n",
      "ROUGE-1 Score: 0.15999999539200013\n",
      "ROUGE-2 Score: 0.08695651720226867\n",
      "ROUGE-L Score: 0.15999999539200013\n",
      "Combined ROUGE Score: 13.565216932875632\n",
      "\n",
      "====================================================================================================\n"
     ]
    },
    {
     "name": "stderr",
     "output_type": "stream",
     "text": [
      " 62%|██████▏   | 310/499 [04:41<02:34,  1.23it/s]"
     ]
    },
    {
     "name": "stdout",
     "output_type": "stream",
     "text": [
      "==309==\n",
      "Pred Summary: #Person1#은 아파트를 빌리고 싶어하며, #Person2#는 월 $1050에 임대하고 있다. #Person1#은 $850를 제안하지만 #Person2#는 $1050 이하로는 내려가지 않을 것이라고 거절한다.\n",
      "\n",
      "Gold Summary: #Person1#은 월 $850에 #Person2#의 아파트를 빌리고 싶어합니다. #Person2#는 가격을 $1050 이하로 내릴 수 없다고 말합니다.\n",
      "\n",
      "ROUGE-1 Score: 0.37499999501953135\n",
      "ROUGE-2 Score: 0.06249999507812539\n",
      "ROUGE-L Score: 0.3124999950195313\n",
      "Combined ROUGE Score: 24.999999503906267\n",
      "\n",
      "====================================================================================================\n"
     ]
    },
    {
     "name": "stderr",
     "output_type": "stream",
     "text": [
      " 62%|██████▏   | 311/499 [04:42<02:37,  1.19it/s]"
     ]
    },
    {
     "name": "stdout",
     "output_type": "stream",
     "text": [
      "==310==\n",
      "Pred Summary: #Person1#과 #Person2#는 음악 취향에 대해 이야기합니다. #Person1#은 팝 음악을 선호하고, #Person2#는 클래식 음악을 좋아합니다. #Person2#는 어렸을 때 피아노를 치기 시작하면서 클래식 음악에 관심을 가지게 되었습니다.\n",
      "\n",
      "Gold Summary: #Person1#은 베토벤의 음악이 사람들을 더 똑똑하게 만든다고 말하지만, #Person2#는 그것이 사람들이 편안해지는 데 도움이 된다고 생각합니다. 그 후 #Person1#과 #Person2#는 음악 유형의 선호도를 교환하고, #Person1#은 #Person2#가 어떻게 팝 음악에 관심을 가지게 되었는지 묻습니다.\n",
      "\n",
      "ROUGE-1 Score: 0.30769230287721894\n",
      "ROUGE-2 Score: 0.14285713795918387\n",
      "ROUGE-L Score: 0.30769230287721894\n",
      "Combined ROUGE Score: 25.274724790454055\n",
      "\n",
      "====================================================================================================\n"
     ]
    },
    {
     "name": "stderr",
     "output_type": "stream",
     "text": [
      " 63%|██████▎   | 312/499 [04:43<02:56,  1.06it/s]"
     ]
    },
    {
     "name": "stdout",
     "output_type": "stream",
     "text": [
      "==311==\n",
      "Pred Summary: #Person1#은 Perfect Getaway Tours를 대표하여 #Person2#에게 시골에서의 로맨틱한 여행을 제안한다. 이 여행에는 왕복 항공편, VIP 리무진 픽업, 복원된 시골 빌라에서의 숙박, 그리고 로맨틱한 말 타기와 낚시 등의 야외 활동이 포함되어 있다. #Person2#는 이 여행을 예약하고 비용에 대해 걱정하지 않는다.\n",
      "\n",
      "Gold Summary: #Person2#는 아내와 함께 놀라운 여행을 계획하고 싶어합니다. #Person1#은 여러 옵션을 제안하고 #Person2#는 시골로 가기로 선택합니다. 그런 다음 #Person1#은 호텔과 야외 활동을 소개합니다.\n",
      "\n",
      "ROUGE-1 Score: 0.14285713826530627\n",
      "ROUGE-2 Score: 0.0\n",
      "ROUGE-L Score: 0.14285713826530627\n",
      "Combined ROUGE Score: 9.523809217687084\n",
      "\n",
      "====================================================================================================\n"
     ]
    },
    {
     "name": "stderr",
     "output_type": "stream",
     "text": [
      " 63%|██████▎   | 313/499 [04:44<02:39,  1.17it/s]"
     ]
    },
    {
     "name": "stdout",
     "output_type": "stream",
     "text": [
      "==312==\n",
      "Pred Summary: #Person1#은 새 드레스를 샀고, #Person2#는 그 드레스를 좋아해서 함께 가게에 가기로 했다.\n",
      "\n",
      "Gold Summary: #Person1#이 왕 메이에게 새 드레스를 보여줍니다. 왕 메이는 그것이 아름답다고 생각하고 하나 사고 싶어합니다.\n",
      "\n",
      "ROUGE-1 Score: 0.16666666170138905\n",
      "ROUGE-2 Score: 0.08333332836805586\n",
      "ROUGE-L Score: 0.16666666170138905\n",
      "Combined ROUGE Score: 13.888888392361132\n",
      "\n",
      "====================================================================================================\n"
     ]
    },
    {
     "name": "stderr",
     "output_type": "stream",
     "text": [
      " 63%|██████▎   | 314/499 [04:45<02:26,  1.27it/s]"
     ]
    },
    {
     "name": "stdout",
     "output_type": "stream",
     "text": [
      "==313==\n",
      "Pred Summary: #Person1#은 #Person2#에게 머리를 손질받았다. #Person1#은 결과에 만족하고 $55를 지불했다.\n",
      "\n",
      "Gold Summary: #Person2#가 #Person1#의 머리를 다 했습니다. #Person1#은 그것에 만족합니다.\n",
      "\n",
      "ROUGE-1 Score: 0.24999999500000009\n",
      "ROUGE-2 Score: 0.0\n",
      "ROUGE-L Score: 0.24999999500000009\n",
      "Combined ROUGE Score: 16.66666633333334\n",
      "\n",
      "====================================================================================================\n"
     ]
    },
    {
     "name": "stderr",
     "output_type": "stream",
     "text": [
      " 63%|██████▎   | 315/499 [04:45<02:26,  1.25it/s]"
     ]
    },
    {
     "name": "stdout",
     "output_type": "stream",
     "text": [
      "==314==\n",
      "Pred Summary: #Person1#과 #Person2#는 공원에서 산책을 하며, 태극권, 검술, 중국 무술을 연습하는 사람들을 관찰하며 건강을 유지하려는 열기가 중국을 휩쓸고 있다고 언급합니다.\n",
      "\n",
      "Gold Summary: #Person1#와 #Person2#는 공원에서 산책하며 사람들이 다양한 운동을 하는 것에 대해 이야기하고 있습니다.\n",
      "\n",
      "ROUGE-1 Score: 0.12903225331945908\n",
      "ROUGE-2 Score: 0.06896551253269949\n",
      "ROUGE-L Score: 0.12903225331945908\n",
      "Combined ROUGE Score: 10.901000639053922\n",
      "\n",
      "====================================================================================================\n"
     ]
    },
    {
     "name": "stderr",
     "output_type": "stream",
     "text": [
      " 63%|██████▎   | 316/499 [04:46<02:20,  1.31it/s]"
     ]
    },
    {
     "name": "stdout",
     "output_type": "stream",
     "text": [
      "==315==\n",
      "Pred Summary: #Person2#는 동아시아 언어학과에서 일본어를 전공하고 있으며, 문학 과정을 통해 많은 훌륭한 문학작품들을 읽고 새로운 문학의 세계에 대해 배우고 있습니다.\n",
      "\n",
      "Gold Summary: #Person1#은 #Person2#의 전공과 문학 과정에 대한 #Person2#의 생각을 물어봅니다.\n",
      "\n",
      "ROUGE-1 Score: 0.07407406990397829\n",
      "ROUGE-2 Score: 0.0\n",
      "ROUGE-L Score: 0.07407406990397829\n",
      "Combined ROUGE Score: 4.938271326931886\n",
      "\n",
      "====================================================================================================\n"
     ]
    },
    {
     "name": "stderr",
     "output_type": "stream",
     "text": [
      " 64%|██████▎   | 317/499 [04:47<02:23,  1.27it/s]"
     ]
    },
    {
     "name": "stdout",
     "output_type": "stream",
     "text": [
      "==316==\n",
      "Pred Summary: #Person1#과 #Person2#는 2주간의 휴가를 가지고 있다. #Person1#은 부모님과 함께 해변에서 시간을 보낼 계획이고, #Person2#에게 함께 가자고 제안한다.\n",
      "\n",
      "Gold Summary: #Person1#와 #Person2#는 휴가가 두 주 있습니다. #Person2#는 아마 집에 있을 수도 있습니다. #Person1#는 #Person2#를 플로리다로 가는 가족 여행에 초대합니다.\n",
      "\n",
      "ROUGE-1 Score: 0.06060605561065239\n",
      "ROUGE-2 Score: 0.0\n",
      "ROUGE-L Score: 0.06060605561065239\n",
      "Combined ROUGE Score: 4.040403707376826\n",
      "\n",
      "====================================================================================================\n"
     ]
    },
    {
     "name": "stderr",
     "output_type": "stream",
     "text": [
      " 64%|██████▎   | 318/499 [04:48<02:25,  1.25it/s]"
     ]
    },
    {
     "name": "stdout",
     "output_type": "stream",
     "text": [
      "==317==\n",
      "Pred Summary: #Person1#은 #Person2#를 환영하고 음료를 제공하며, #Person2#는 장소를 칭찬한다. 그들은 저녁 식사에 참석할 사람들에 대해 이야기하며, 마시아와 폴이 마지막 순간에 취소했다는 사실을 알게 된다.\n",
      "\n",
      "Gold Summary: #Person1#은 저녁 식사를 주최하고 #Person2#는 첫 번째로 도착했습니다. #Person1#은 #Person2#에게 레드 와인 한 잔을 제공하고 두 명의 친구가 취소했다고 말합니다. #Person2#는 아쉬워합니다.\n",
      "\n",
      "ROUGE-1 Score: 0.13953487874526788\n",
      "ROUGE-2 Score: 0.0\n",
      "ROUGE-L Score: 0.13953487874526788\n",
      "Combined ROUGE Score: 9.302325249684525\n",
      "\n",
      "====================================================================================================\n"
     ]
    },
    {
     "name": "stderr",
     "output_type": "stream",
     "text": [
      " 64%|██████▍   | 319/499 [04:49<02:21,  1.27it/s]"
     ]
    },
    {
     "name": "stdout",
     "output_type": "stream",
     "text": [
      "==318==\n",
      "Pred Summary: #Person1#과 #Person2#는 매운 사천 핫팟을 먹기로 결정했다. 그들은 창안 거리의 중국 세계 무역 타워 근처에 있는 핫팟 식당을 방문하기로 했다.\n",
      "\n",
      "Gold Summary: #Person1#와 #Person2#는 배가 고파서 뭔가 먹고 싶어한다. #Person1#는 사천 핫팟을 먹고 싶어하고 #Person2#도 마찬가지다. 그런 다음 그들은 창안 거리에 있는 그들이 좋아하는 맛있는 핫팟 식당으로 가기로 결정한다.\n",
      "\n",
      "ROUGE-1 Score: 0.3043478211720227\n",
      "ROUGE-2 Score: 0.08888888400987681\n",
      "ROUGE-L Score: 0.3043478211720227\n",
      "Combined ROUGE Score: 23.252817545130743\n",
      "\n",
      "====================================================================================================\n"
     ]
    },
    {
     "name": "stderr",
     "output_type": "stream",
     "text": [
      " 64%|██████▍   | 320/499 [04:50<02:39,  1.12it/s]"
     ]
    },
    {
     "name": "stdout",
     "output_type": "stream",
     "text": [
      "==319==\n",
      "Pred Summary: #Person2#는 Chesterton 대학에서 경영학을 전공하고 정보 관리를 전공하며 심리학을 부전공으로 졸업했다. 그들은 소비자 행동에 대한 석사 학위를 가지고 있으며, Oracle에서 고객 지원 매니저로 일한 경험이 있다. 그들은 고객 관리와 프로세스 관리 모두에 대한 광범위한 경험을 가지고 있으며, 회사의 전반적인 성공에 상당한 기여를 했다.\n",
      "\n",
      "Gold Summary: #Person1#은 #Person2#를 인터뷰합니다. #Person2#는 학부와 대학원의 교육 배경과 Oracle에서의 이전 업무 경험을 #Person1#에게 소개합니다. #Person2#는 또한 회사의 전반적인 성공에 상당한 기여를 할 수 있다고 #Person1#에게 말합니다.\n",
      "\n",
      "ROUGE-1 Score: 0.2258064468678461\n",
      "ROUGE-2 Score: 0.12121211650596897\n",
      "ROUGE-L Score: 0.2258064468678461\n",
      "Combined ROUGE Score: 19.094167008055372\n",
      "\n",
      "====================================================================================================\n"
     ]
    },
    {
     "name": "stderr",
     "output_type": "stream",
     "text": [
      " 64%|██████▍   | 321/499 [04:50<02:28,  1.20it/s]"
     ]
    },
    {
     "name": "stdout",
     "output_type": "stream",
     "text": [
      "==320==\n",
      "Pred Summary: #Person1#은 1425호실에서 룸 서비스를 요청했지만, #Person2#는 현재 바쁘기 때문에 추가로 15분이 더 걸릴 것이라고 알려주었다.\n",
      "\n",
      "Gold Summary: #Person1#님이 #Person2#에게 룸 서비스를 요청합니다. #Person2#는 불편함을 사과하고 서비스가 15분 후에 가능하다고 #Person1#에게 알립니다.\n",
      "\n",
      "ROUGE-1 Score: 0.20689654673008337\n",
      "ROUGE-2 Score: 0.07407406908093313\n",
      "ROUGE-L Score: 0.20689654673008337\n",
      "Combined ROUGE Score: 16.262238751369996\n",
      "\n",
      "====================================================================================================\n"
     ]
    },
    {
     "name": "stderr",
     "output_type": "stream",
     "text": [
      " 65%|██████▍   | 322/499 [04:51<02:17,  1.29it/s]"
     ]
    },
    {
     "name": "stdout",
     "output_type": "stream",
     "text": [
      "==321==\n",
      "Pred Summary: #Person1#은 #Person2#에게 빨간 불에 우회전 금지 표지판을 무시하고 운전한 것에 대해 벌금 티켓을 발행했다.\n",
      "\n",
      "Gold Summary: #Person2#는 빨간 불에 잘못된 방향으로 회전했습니다. #Person1#는 #Person2#의 운전 면허증과 보험 증서를 확인하고, #Person2#에게 벌금 티켓을 발행했습니다.\n",
      "\n",
      "ROUGE-1 Score: 0.3225806402081166\n",
      "ROUGE-2 Score: 0.13793102953626654\n",
      "ROUGE-L Score: 0.3225806402081166\n",
      "Combined ROUGE Score: 26.103076998416658\n",
      "\n",
      "====================================================================================================\n"
     ]
    },
    {
     "name": "stderr",
     "output_type": "stream",
     "text": [
      " 65%|██████▍   | 323/499 [04:52<02:19,  1.26it/s]"
     ]
    },
    {
     "name": "stdout",
     "output_type": "stream",
     "text": [
      "==322==\n",
      "Pred Summary: #Person1#은 #Person2#에게 버스에 타라고 재촉하며, 표는 버스 안에서 운전사에게 받고 짐은 직접 올려야 한다고 알려준다.\n",
      "\n",
      "Gold Summary: #Person1#은 #Person2#에게 빨리 버스에 타라고 촉구합니다.\n",
      "\n",
      "ROUGE-1 Score: 0.3809523768707483\n",
      "ROUGE-2 Score: 0.21052631191135737\n",
      "ROUGE-L Score: 0.3809523768707483\n",
      "Combined ROUGE Score: 32.41436885509513\n",
      "\n",
      "====================================================================================================\n"
     ]
    },
    {
     "name": "stderr",
     "output_type": "stream",
     "text": [
      " 65%|██████▍   | 324/499 [04:53<02:27,  1.19it/s]"
     ]
    },
    {
     "name": "stdout",
     "output_type": "stream",
     "text": [
      "==323==\n",
      "Pred Summary: #Person1#은 새로 이사 온 이웃으로, 식료품점, 세탁소, 이발소를 찾고 있다. #Person2#는 파인 스트리트에 식료품점이 있고, 쇼핑 센터 맞은편에 세탁소가 있으며, 쇼핑 센터 안에 이발소가 있다고 알려준다.\n",
      "\n",
      "Gold Summary: #Person2#는 #Person1#에게 식료품점, 세탁소, 그리고 이발소의 위치를 알려줍니다.\n",
      "\n",
      "ROUGE-1 Score: 0.18749999625000005\n",
      "ROUGE-2 Score: 0.0645161255359003\n",
      "ROUGE-L Score: 0.18749999625000005\n",
      "Combined ROUGE Score: 14.650537267863347\n",
      "\n",
      "====================================================================================================\n"
     ]
    },
    {
     "name": "stderr",
     "output_type": "stream",
     "text": [
      " 65%|██████▌   | 325/499 [04:54<02:38,  1.10it/s]"
     ]
    },
    {
     "name": "stdout",
     "output_type": "stream",
     "text": [
      "==324==\n",
      "Pred Summary: #Person2#는 항상 행복해 보이는 이유는 운동을 하기 때문이다. 그들은 운동을 통해 어려움을 극복하고, 살아있음을 느끼며, 좋은 기억력을 유지하는 데 도움이 된다고 믿는다. #Person1#은 운동을 해보기로 결심하고, #Person2#는 조깅, 에어로빅, 자전거 타기, 탁구 등 다양한 운동을 추천한다.\n",
      "\n",
      "Gold Summary: #Person1#은 #Person2#가 다른 선생님들과 다르게 항상 행복하고 에너지가 넘친다고 생각합니다. #Person2#는 운동이 사람들에게 좋은 기억력을 유지하고 몸을 강하게 만드는 데 도움이 된다고 #Person1#에게 말해줍니다.\n",
      "\n",
      "ROUGE-1 Score: 0.2857142808163266\n",
      "ROUGE-2 Score: 0.1034482710761001\n",
      "ROUGE-L Score: 0.2857142808163266\n",
      "Combined ROUGE Score: 22.49589442362511\n",
      "\n",
      "====================================================================================================\n"
     ]
    },
    {
     "name": "stderr",
     "output_type": "stream",
     "text": [
      " 65%|██████▌   | 326/499 [04:55<02:33,  1.12it/s]"
     ]
    },
    {
     "name": "stdout",
     "output_type": "stream",
     "text": [
      "==325==\n",
      "Pred Summary: #Person2#는 버스 투어 그룹에 가입했으며, 3시간 동안 15개의 관광지를 방문할 것이라고 약속받았지만, 실제로는 2시간 동안만 여행했습니다. #Person1#는 이 문제를 조사하고 해결하려고 합니다.\n",
      "\n",
      "Gold Summary: #Person1#은 약속을 지키지 못한 여행에 대해 사과하고 #Person2#의 문제를 조사할 것이라고 합니다.\n",
      "\n",
      "ROUGE-1 Score: 0.17647058366782017\n",
      "ROUGE-2 Score: 0.0\n",
      "ROUGE-L Score: 0.17647058366782017\n",
      "Combined ROUGE Score: 11.764705577854679\n",
      "\n",
      "====================================================================================================\n"
     ]
    },
    {
     "name": "stderr",
     "output_type": "stream",
     "text": [
      " 66%|██████▌   | 327/499 [04:56<02:31,  1.13it/s]"
     ]
    },
    {
     "name": "stdout",
     "output_type": "stream",
     "text": [
      "==326==\n",
      "Pred Summary: #Person1#은 #Person2#에게 스테레오에 대해 90일 반품 정책과 1년 제조사 보증이 있다고 설명한다. #Person2#는 스테레오를 구매하고 보증 청구를 위해 필요한 단계를 따른다.\n",
      "\n",
      "Gold Summary: #Person1#은 #Person2#에게 스테레오에 딸려오는 보증의 종류, 매장 정책의 조건, 그리고 제조사의 보증을 어떻게 받을 수 있는지 물어봅니다.\n",
      "\n",
      "ROUGE-1 Score: 0.1578947318975071\n",
      "ROUGE-2 Score: 0.11111110617283973\n",
      "ROUGE-L Score: 0.1578947318975071\n",
      "Combined ROUGE Score: 14.230018998928465\n",
      "\n",
      "====================================================================================================\n"
     ]
    },
    {
     "name": "stderr",
     "output_type": "stream",
     "text": [
      " 66%|██████▌   | 328/499 [04:56<02:30,  1.14it/s]"
     ]
    },
    {
     "name": "stdout",
     "output_type": "stream",
     "text": [
      "==327==\n",
      "Pred Summary: #Person1#은 새로운 침실 세트를 구매하려고 하지만 어디서 찾아야 할지 모릅니다. #Person2#는 이케아에서 자신의 가구를 샀다고 제안하며, 이케아의 가구는 비싸지 않지만 품질도 좋다고 말합니다.\n",
      "\n",
      "Gold Summary: #Person1#은 새로운 침실 세트를 사고 싶지만 어디서 사야 할지 모른다. #Person2#은 이케아를 추천한다.\n",
      "\n",
      "ROUGE-1 Score: 0.33333332871913585\n",
      "ROUGE-2 Score: 0.17647058366782017\n",
      "ROUGE-L Score: 0.33333332871913585\n",
      "Combined ROUGE Score: 28.104574703536393\n",
      "\n",
      "====================================================================================================\n"
     ]
    },
    {
     "name": "stderr",
     "output_type": "stream",
     "text": [
      " 66%|██████▌   | 329/499 [04:57<02:25,  1.17it/s]"
     ]
    },
    {
     "name": "stdout",
     "output_type": "stream",
     "text": [
      "==328==\n",
      "Pred Summary: #Person1#은 피로를 겪고 혈압이 높은데, 의사는 과로와 체중 증가를 원인으로 지적한다. 의사는 #Person1#에게 속도를 줄이고 체중을 감량하며 운동을 더 해야 한다고 조언한다.\n",
      "\n",
      "Gold Summary: #Person2#는 #Person1#이 피곤함이 고혈압 때문이라고 진단하고, #Person1#에게 속도를 줄이고 체중을 감량하라고 제안하고 있습니다.\n",
      "\n",
      "ROUGE-1 Score: 0.23529411292387553\n",
      "ROUGE-2 Score: 0.18181817719008275\n",
      "ROUGE-L Score: 0.23529411292387553\n",
      "Combined ROUGE Score: 21.746880101261127\n",
      "\n",
      "====================================================================================================\n"
     ]
    },
    {
     "name": "stderr",
     "output_type": "stream",
     "text": [
      " 66%|██████▌   | 330/499 [04:58<02:23,  1.18it/s]"
     ]
    },
    {
     "name": "stdout",
     "output_type": "stream",
     "text": [
      "==329==\n",
      "Pred Summary: #Person1#과 #Person2#는 첫 주문에 대한 시범 거래를 합의했다. 제품이 두 달 안에 팔리면 반복 주문을 할 것이며, 같은 품질로 할 것이지만, 반복 주문은 시범 주문과 같은 조건을 가지지 않을 것이다.\n",
      "\n",
      "Gold Summary: #Person2#는 제품이 매우 새로워 시범 주문을 하려고 #Person1#와 논의하고 있습니다. #Person1#은 처음에는 거부하지만 결국에는 동의합니다.\n",
      "\n",
      "ROUGE-1 Score: 0.19512194657941712\n",
      "ROUGE-2 Score: 0.0\n",
      "ROUGE-L Score: 0.19512194657941712\n",
      "Combined ROUGE Score: 13.00812977196114\n",
      "\n",
      "====================================================================================================\n"
     ]
    },
    {
     "name": "stderr",
     "output_type": "stream",
     "text": [
      " 66%|██████▋   | 331/499 [04:59<02:14,  1.25it/s]"
     ]
    },
    {
     "name": "stdout",
     "output_type": "stream",
     "text": [
      "==330==\n",
      "Pred Summary: #Person1#과 #Person2#는 시험 준비에 대해 이야기하고, 물리학 책을 공유하고, 이전 시험지를 검토하기로 계획합니다.\n",
      "\n",
      "Gold Summary: #Person1#은 마틴에게 전화를 걸어 다음 주 시험에 대해 이야기한다. 그리고 #Person1#은 자신의 물리학 책에 대해 물어보고, 마틴은 자신의 책을 빌려줄 수 있다고 말한다. 그들은 점심시간에 책과 예전 시험지를 교환하기 위해 만날 예정이다.\n",
      "\n",
      "ROUGE-1 Score: 0.19047618620181417\n",
      "ROUGE-2 Score: 0.0\n",
      "ROUGE-L Score: 0.14285713858276658\n",
      "Combined ROUGE Score: 11.111110826152693\n",
      "\n",
      "====================================================================================================\n"
     ]
    },
    {
     "name": "stderr",
     "output_type": "stream",
     "text": [
      " 67%|██████▋   | 332/499 [05:00<02:20,  1.19it/s]"
     ]
    },
    {
     "name": "stdout",
     "output_type": "stream",
     "text": [
      "==331==\n",
      "Pred Summary: 데이비드 파커는 Montreal Road에 위치한 가구가 구비된 원룸 아파트에 대해 문의했다. 임대료는 월 500달러이며, 유틸리티가 포함되어 있다. 주차비는 월 50달러이다. 데이비드는 오후 1시에 아파트를 방문하기로 했다.\n",
      "\n",
      "Gold Summary: David Paker는 #Person2#에게 광고된 아파트의 위치, 시설, 가격에 대해 묻습니다. David는 오후 1시에 그 아파트를 볼 예정입니다.\n",
      "\n",
      "ROUGE-1 Score: 0.19047618565759653\n",
      "ROUGE-2 Score: 0.04878048304580653\n",
      "ROUGE-L Score: 0.19047618565759653\n",
      "Combined ROUGE Score: 14.324428478699987\n",
      "\n",
      "====================================================================================================\n"
     ]
    },
    {
     "name": "stderr",
     "output_type": "stream",
     "text": [
      " 67%|██████▋   | 333/499 [05:01<02:36,  1.06it/s]"
     ]
    },
    {
     "name": "stdout",
     "output_type": "stream",
     "text": [
      "==332==\n",
      "Pred Summary: #Person1#은 #Person2#를 다시 만나서 반가워하며, #Person2#의 여행에 대해 물어본다. #Person2#는 밀라노가 예상보다 크고 시끄럽고 더러웠다고 말하며, 피렌체는 방문하지 않았다고 한다. #Person1#은 로마에 가고 싶다고 말하며, #Person2#의 짐이 무겁다고 언급한다.\n",
      "\n",
      "Gold Summary: #Person1#이 바바라에게 그녀의 여행에 대해 묻고, 바바라의 짐 안에 무엇이 있는지 물어보고 있습니다.\n",
      "\n",
      "ROUGE-1 Score: 0.10256409811965832\n",
      "ROUGE-2 Score: 0.049999995800000356\n",
      "ROUGE-L Score: 0.10256409811965832\n",
      "Combined ROUGE Score: 8.504273067977232\n",
      "\n",
      "====================================================================================================\n"
     ]
    },
    {
     "name": "stderr",
     "output_type": "stream",
     "text": [
      " 67%|██████▋   | 334/499 [05:02<02:43,  1.01it/s]"
     ]
    },
    {
     "name": "stdout",
     "output_type": "stream",
     "text": [
      "==333==\n",
      "Pred Summary: #Person1#은 부모님이 생일 선물로 가죽 자켓 대신 비옷을 사줘서 화가 났습니다. #Person2#는 #Person1#에게 50달러를 빌려주어 가죽 자켓을 구매할 수 있도록 도와주었습니다.\n",
      "\n",
      "Gold Summary: #Person1#은 생일 선물로 받은 비옷에 불만이지만 가죽 자켓을 원한다. #Person1#은 비옷을 반품하고 자켓을 사기로 하고, #Person2#는 #Person1#에게 추가로 50달러를 빌려줄 것이다.\n",
      "\n",
      "ROUGE-1 Score: 0.46153845654174885\n",
      "ROUGE-2 Score: 0.14999999500000016\n",
      "ROUGE-L Score: 0.46153845654174885\n",
      "Combined ROUGE Score: 35.76923026944993\n",
      "\n",
      "====================================================================================================\n"
     ]
    },
    {
     "name": "stderr",
     "output_type": "stream",
     "text": [
      " 67%|██████▋   | 335/499 [05:03<02:27,  1.11it/s]"
     ]
    },
    {
     "name": "stdout",
     "output_type": "stream",
     "text": [
      "==334==\n",
      "Pred Summary: #Person1#은 개를 입양하고, #Person2#의 반대에도 불구하고 개를 위해 식료품을 샀다.\n",
      "\n",
      "Gold Summary: #Person2#는 #Person1#의 쇼핑 영수증을 보고 개를 위한 물건이 많고 #Person2#를 위한 물건이 별로 없어서 화가 난다. #Person1#는 허버트라는 개를 집으로 데려오려 한다. 그리고 #Person2#는 스테이크가 허버트를 위한 것이라는 것을 알고 더 화가 난다.\n",
      "\n",
      "ROUGE-1 Score: 0.05714285332244924\n",
      "ROUGE-2 Score: 0.0\n",
      "ROUGE-L Score: 0.05714285332244924\n",
      "Combined ROUGE Score: 3.8095235548299495\n",
      "\n",
      "====================================================================================================\n"
     ]
    },
    {
     "name": "stderr",
     "output_type": "stream",
     "text": [
      " 67%|██████▋   | 336/499 [05:04<02:23,  1.14it/s]"
     ]
    },
    {
     "name": "stdout",
     "output_type": "stream",
     "text": [
      "==335==\n",
      "Pred Summary: #Person2#는 내일 오전에 회의, 점심에 접대, 오후와 저녁에 자유 시간이 있습니다. 모레는 제품 전시회, 경영 수업, 센추리 팰리스에서의 파티가 있습니다.\n",
      "\n",
      "Gold Summary: #Person2#는 #Person1#에게 다음 두 날의 업무 일정을 알려줍니다.\n",
      "\n",
      "ROUGE-1 Score: 0.07407406990397829\n",
      "ROUGE-2 Score: 0.0\n",
      "ROUGE-L Score: 0.07407406990397829\n",
      "Combined ROUGE Score: 4.938271326931886\n",
      "\n",
      "====================================================================================================\n"
     ]
    },
    {
     "name": "stderr",
     "output_type": "stream",
     "text": [
      " 68%|██████▊   | 337/499 [05:04<02:16,  1.19it/s]"
     ]
    },
    {
     "name": "stdout",
     "output_type": "stream",
     "text": [
      "==336==\n",
      "Pred Summary: #Person1#은 10시 30분에 알람을 설정하고, 11시에 호텔에서 약속이 있습니다. 그들은 시간을 30분 빠르게 맞춰 놓아 항상 시간을 지키도록 합니다.\n",
      "\n",
      "Gold Summary: #Person1#은 #Person2#에게 11시에 있는 약속을 위해 알람이 울리고 있다고 말했다.\n",
      "\n",
      "ROUGE-1 Score: 0.14285713826530627\n",
      "ROUGE-2 Score: 0.0\n",
      "ROUGE-L Score: 0.14285713826530627\n",
      "Combined ROUGE Score: 9.523809217687084\n",
      "\n",
      "====================================================================================================\n"
     ]
    },
    {
     "name": "stderr",
     "output_type": "stream",
     "text": [
      " 68%|██████▊   | 338/499 [05:05<02:10,  1.23it/s]"
     ]
    },
    {
     "name": "stdout",
     "output_type": "stream",
     "text": [
      "==337==\n",
      "Pred Summary: #Person1#은 원단으로 정장을 만들고 싶어하며, #Person2#는 체형 측정을 하고 2주 후에 357달러에 완성될 것이라고 알려준다.\n",
      "\n",
      "Gold Summary: #Person1#은 싱글 브레스트 정장을 만들고 싶어합니다. #Person2#는 #Person1#의 사이즈를 측정하고, 가격이 357달러라고 알려줍니다.\n",
      "\n",
      "ROUGE-1 Score: 0.285714280739796\n",
      "ROUGE-2 Score: 0.07692307195266304\n",
      "ROUGE-L Score: 0.285714280739796\n",
      "Combined ROUGE Score: 21.6117211144085\n",
      "\n",
      "====================================================================================================\n"
     ]
    },
    {
     "name": "stderr",
     "output_type": "stream",
     "text": [
      " 68%|██████▊   | 339/499 [05:06<02:08,  1.25it/s]"
     ]
    },
    {
     "name": "stdout",
     "output_type": "stream",
     "text": [
      "==338==\n",
      "Pred Summary: #Person1#은 네 개의 대학에 합격했고, #Person2#는 #Person1#이 장학금이나 경제적 지원을 신청하여 어느 대학에 갈지 결정하는 데 도움이 될 것이라고 제안합니다.\n",
      "\n",
      "Gold Summary: #Person2#는 #Person1#에게 네 개의 대학 합격을 축하하고 어느 대학을 선호하는지 묻습니다. #Person2#는 #Person1#에게 장학금 신청을 제안합니다.\n",
      "\n",
      "ROUGE-1 Score: 0.30303029814508725\n",
      "ROUGE-2 Score: 0.06060605572084521\n",
      "ROUGE-L Score: 0.30303029814508725\n",
      "Combined ROUGE Score: 22.222221733700657\n",
      "\n",
      "====================================================================================================\n"
     ]
    },
    {
     "name": "stderr",
     "output_type": "stream",
     "text": [
      " 68%|██████▊   | 340/499 [05:07<02:13,  1.19it/s]"
     ]
    },
    {
     "name": "stdout",
     "output_type": "stream",
     "text": [
      "==339==\n",
      "Pred Summary: #Person1#과 #Person2#는 회사에서 휴대폰 사용에 대한 새로운 규칙에 대해 이야기합니다. #Person1#은 회의에 휴대폰을 가져오지 말라는 규칙에 대해 우려를 표명하지만, #Person2#는 그것이 제안일 뿐이라고 설명합니다.\n",
      "\n",
      "Gold Summary: #Person1#과 #Person2#는 회사에서 휴대폰을 사용하는 새로운 규칙에 대해 이야기하고 있습니다.\n",
      "\n",
      "ROUGE-1 Score: 0.4516128988553591\n",
      "ROUGE-2 Score: 0.25806451200832464\n",
      "ROUGE-L Score: 0.4516128988553591\n",
      "Combined ROUGE Score: 38.70967699063476\n",
      "\n",
      "====================================================================================================\n"
     ]
    },
    {
     "name": "stderr",
     "output_type": "stream",
     "text": [
      " 68%|██████▊   | 341/499 [05:08<02:19,  1.13it/s]"
     ]
    },
    {
     "name": "stdout",
     "output_type": "stream",
     "text": [
      "==340==\n",
      "Pred Summary: #Person1#과 #Person2#는 카페에서 무선 인터넷 연결을 통해 노트북을 사용하는 것에 대해 이야기합니다. #Person2#는 노트북에 워드 프로세싱 및 사진 편집 프로그램을 가지고 있으며, 디지털 카메라에서 사진을 다운로드하고 이메일로 공유할 수 있다는 것을 언급합니다.\n",
      "\n",
      "Gold Summary: #Person2#가 #Person1#에게 새 노트북의 기능, 사진 프로그램, 그리고 카페에서 무선을 이용해 인터넷을 이용하는 방법에 대해 설명한다.\n",
      "\n",
      "ROUGE-1 Score: 0.12765956997736547\n",
      "ROUGE-2 Score: 0.0\n",
      "ROUGE-L Score: 0.12765956997736547\n",
      "Combined ROUGE Score: 8.510637998491031\n",
      "\n",
      "====================================================================================================\n"
     ]
    },
    {
     "name": "stderr",
     "output_type": "stream",
     "text": [
      " 69%|██████▊   | 342/499 [05:09<02:29,  1.05it/s]"
     ]
    },
    {
     "name": "stdout",
     "output_type": "stream",
     "text": [
      "==341==\n",
      "Pred Summary: 신문에는 호주에서 발생한 거대한 산불과 아프리카의 가뭄으로 인한 기아 등 자연 재해에 관한 이야기가 실려 있습니다. 유럽 연합은 구호 물품을 보내고, 여러 나라가 식량과 의료 물품을 배포하기 위해 군인들을 보냈습니다. 이란에서는 지진으로 인해 20명 미만이 사망했지만, 100명 이상이 병원에 입원해 있습니다.\n",
      "\n",
      "Gold Summary: #Person2#는 #Person1#에게 오늘 신문에 보도된 자연 재해 뉴스, 호주의 대규모 산불, 아프리카의 기아, 이란의 지진, 그리고 호주와 아프리카에 대한 국제 사회의 도움에 대해 이야기합니다.\n",
      "\n",
      "ROUGE-1 Score: 0.06349205877551055\n",
      "ROUGE-2 Score: 0.0\n",
      "ROUGE-L Score: 0.03174602702947916\n",
      "Combined ROUGE Score: 3.1746028601663236\n",
      "\n",
      "====================================================================================================\n"
     ]
    },
    {
     "name": "stderr",
     "output_type": "stream",
     "text": [
      " 69%|██████▊   | 343/499 [05:10<02:18,  1.13it/s]"
     ]
    },
    {
     "name": "stdout",
     "output_type": "stream",
     "text": [
      "==342==\n",
      "Pred Summary: #Person2#는 소고기 스튜, 카옌페퍼 스테이크, 가자미, 혼합 샐러드, 그리고 샤블리 99 한 병을 주문했다.\n",
      "\n",
      "Gold Summary: #Person1#은 레스토랑에서 #Person2#와 그의 아내를 모시고 있습니다. #Person2#는 #Person1#의 추천에 따라 몇 가지 요리와 음료를 주문합니다.\n",
      "\n",
      "ROUGE-1 Score: 0.06666666168888927\n",
      "ROUGE-2 Score: 0.0\n",
      "ROUGE-L Score: 0.06666666168888927\n",
      "Combined ROUGE Score: 4.444444112592618\n",
      "\n",
      "====================================================================================================\n"
     ]
    },
    {
     "name": "stderr",
     "output_type": "stream",
     "text": [
      " 69%|██████▉   | 344/499 [05:10<02:07,  1.22it/s]"
     ]
    },
    {
     "name": "stdout",
     "output_type": "stream",
     "text": [
      "==343==\n",
      "Pred Summary: #Person1#은 논문 작업을 위해 컴퓨터에서 광고를 제거하고 싶어한다. #Person2#는 한 번 지불하면 영구적으로 사용할 수 있는 앱을 제안한다.\n",
      "\n",
      "Gold Summary: 존은 컴퓨터 화면에 나타난 광고에 집중이 흐트러집니다. 해리엇은 광고를 막기 위해 합리적인 가격의 앱을 사는 것을 존에게 추천합니다.\n",
      "\n",
      "ROUGE-1 Score: 0.16666666166666683\n",
      "ROUGE-2 Score: 0.0\n",
      "ROUGE-L Score: 0.11111110611111134\n",
      "Combined ROUGE Score: 9.25925892592594\n",
      "\n",
      "====================================================================================================\n"
     ]
    },
    {
     "name": "stderr",
     "output_type": "stream",
     "text": [
      " 69%|██████▉   | 345/499 [05:11<02:07,  1.21it/s]"
     ]
    },
    {
     "name": "stdout",
     "output_type": "stream",
     "text": [
      "==344==\n",
      "Pred Summary: #Person1#은 #Person2#에게 차에 대해 물어보고, #Person2#는 차의 분류와 건강상의 이점에 대해 설명한다. #Person2#는 나중에 차 문화에 대해 더 이야기해 주기로 한다.\n",
      "\n",
      "Gold Summary: #Person2#는 #Person1#에게 다양한 차에 대한 지식을 공유하며, 가공 방법에 따른 분류와 그들의 건강 효과를 포함합니다.\n",
      "\n",
      "ROUGE-1 Score: 0.18181817685950424\n",
      "ROUGE-2 Score: 0.0\n",
      "ROUGE-L Score: 0.18181817685950424\n",
      "Combined ROUGE Score: 12.121211790633616\n",
      "\n",
      "====================================================================================================\n"
     ]
    },
    {
     "name": "stderr",
     "output_type": "stream",
     "text": [
      " 69%|██████▉   | 346/499 [05:12<02:12,  1.16it/s]"
     ]
    },
    {
     "name": "stdout",
     "output_type": "stream",
     "text": [
      "==345==\n",
      "Pred Summary: #Person1#과 #Person2#는 깜짝 파티에 늦을 걱정을 하고 있다. #Person2#는 시간이 충분하다고 안심시키지만, #Person1#은 교통 체증에 대해 걱정하고 있다. #Person2#는 식당에 전화해서 주차 안내를 요청한다.\n",
      "\n",
      "Gold Summary: #Person1#과 #Person2#는 파티에 가고 있지만 늦고 있다. #Person2#는 #Person1#의 길 안내에 대한 도움이 필요하다.\n",
      "\n",
      "ROUGE-1 Score: 0.23529411292387553\n",
      "ROUGE-2 Score: 0.11428570961632674\n",
      "ROUGE-L Score: 0.23529411292387553\n",
      "Combined ROUGE Score: 19.49579784880259\n",
      "\n",
      "====================================================================================================\n"
     ]
    },
    {
     "name": "stderr",
     "output_type": "stream",
     "text": [
      " 70%|██████▉   | 347/499 [05:13<02:21,  1.08it/s]"
     ]
    },
    {
     "name": "stdout",
     "output_type": "stream",
     "text": [
      "==346==\n",
      "Pred Summary: #Person1#은 시장에서 본 작은 주황색과 파란색 물고기를 다음 일요일에 사려고 한다. #Person2#는 물고기를 작은 둥근 병에 두는 것은 충분한 공기를 제공하지 못하므로 어항을 사는 것이 좋다고 제안한다. 그들은 함께 쇼핑을 가서 어항을 찾고, 큰 돌과 물속 식물도 사야 한다.\n",
      "\n",
      "Gold Summary: #Person2#는 물고기를 키우기 위해 준비해야 할 것들, 어항, 돌, 그리고 물속 식물 등을 #Person1#에게 알려줍니다.\n",
      "\n",
      "ROUGE-1 Score: 0.11999999580000016\n",
      "ROUGE-2 Score: 0.03846153452662762\n",
      "ROUGE-L Score: 0.11999999580000016\n",
      "Combined ROUGE Score: 9.282050870887598\n",
      "\n",
      "====================================================================================================\n"
     ]
    },
    {
     "name": "stderr",
     "output_type": "stream",
     "text": [
      " 70%|██████▉   | 348/499 [05:14<02:06,  1.19it/s]"
     ]
    },
    {
     "name": "stdout",
     "output_type": "stream",
     "text": [
      "==347==\n",
      "Pred Summary: 피터 파커는 메리에게 수학 과제 도움을 요청했지만, 그녀는 시간이 없었다. 그들은 다음 날 점심 후에 만나기로 합의했다.\n",
      "\n",
      "Gold Summary: 피터는 과제에 문제가 있어 메리에게 도움을 청한다. 그들은 내일 점심 후에 만날 예정이다.\n",
      "\n",
      "ROUGE-1 Score: 0.3333333284222223\n",
      "ROUGE-2 Score: 0.0714285665306126\n",
      "ROUGE-L Score: 0.3333333284222223\n",
      "Combined ROUGE Score: 24.603174112501904\n",
      "\n",
      "====================================================================================================\n"
     ]
    },
    {
     "name": "stderr",
     "output_type": "stream",
     "text": [
      " 70%|██████▉   | 349/499 [05:15<02:12,  1.13it/s]"
     ]
    },
    {
     "name": "stdout",
     "output_type": "stream",
     "text": [
      "==348==\n",
      "Pred Summary: #Person1#은 가족과 함께 토론토로 여행을 갈 예정이며, 가는 길에 이모 베티를 방문할 것이다. 그들은 2일 동안 머물고, #Person1#은 대학 친구들과 모임이 있다. #Person2#는 집에 있을 계획이며, 자동차 쇼에 갈 것이다.\n",
      "\n",
      "Gold Summary: 알렉시아와 조는 추수감사절 휴가 계획에 대해 이야기하고 있다. 조는 집에 머무를 예정이고 알렉시아는 가족과 함께 여행을 갈 예정이다.\n",
      "\n",
      "ROUGE-1 Score: 0.27272726798553726\n",
      "ROUGE-2 Score: 0.08695651707939533\n",
      "ROUGE-L Score: 0.27272726798553726\n",
      "Combined ROUGE Score: 21.08036843501566\n",
      "\n",
      "====================================================================================================\n"
     ]
    },
    {
     "name": "stderr",
     "output_type": "stream",
     "text": [
      " 70%|███████   | 350/499 [05:16<02:15,  1.10it/s]"
     ]
    },
    {
     "name": "stdout",
     "output_type": "stream",
     "text": [
      "==349==\n",
      "Pred Summary: #Person1#과 #Person2#는 출근 시간에 대해 이야기하고 있다. #Person2#는 날씨가 좋을 때는 차를 타지만, 날씨가 안 좋을 때는 기차를 탄다. #Person1#은 항상 기차를 타며, 그 시간을 활용하여 일을 한다.\n",
      "\n",
      "Gold Summary: 리사와 넷은안 좋은 날씨에 어떻게 출근하는지에 대해 이야기한다.\n",
      "\n",
      "ROUGE-1 Score: 0.06249999595703151\n",
      "ROUGE-2 Score: 0.0\n",
      "ROUGE-L Score: 0.06249999595703151\n",
      "Combined ROUGE Score: 4.166666397135434\n",
      "\n",
      "====================================================================================================\n"
     ]
    },
    {
     "name": "stderr",
     "output_type": "stream",
     "text": [
      " 70%|███████   | 351/499 [05:17<02:10,  1.13it/s]"
     ]
    },
    {
     "name": "stdout",
     "output_type": "stream",
     "text": [
      "==350==\n",
      "Pred Summary: #Person2#는 은행에서 10,000 RMB를 인출하고자 했습니다. #Person1#은 인출에 제한이 없다고 확인하고 돈을 전달했습니다. #Person2#는 만족하고 감사합니다.\n",
      "\n",
      "Gold Summary: #Person1#은 #Person2#가 #Person2#의 계좌에서 10,000 RMB를 인출하는 데 도움을 줍니다.\n",
      "\n",
      "ROUGE-1 Score: 0.23999999520000007\n",
      "ROUGE-2 Score: 0.08333332864583361\n",
      "ROUGE-L Score: 0.23999999520000007\n",
      "Combined ROUGE Score: 18.77777730152779\n",
      "\n",
      "====================================================================================================\n"
     ]
    },
    {
     "name": "stderr",
     "output_type": "stream",
     "text": [
      " 71%|███████   | 352/499 [05:18<02:19,  1.05it/s]"
     ]
    },
    {
     "name": "stdout",
     "output_type": "stream",
     "text": [
      "==351==\n",
      "Pred Summary: #Person1#은 문서의 글씨가 연해서 읽을 수 없다. 그들은 토너 카트리지를 교체했다고 생각했지만, 아마도 그렇지 않았거나 대량의 팩스가 수신되었을 것이다. #Person2#는 기계 관련 일을 잘하지 못하므로 IT 부서에 도움을 요청할 것이다.\n",
      "\n",
      "Gold Summary: 토너 카트리지가 다 떨어진 것 같다. #Person1#은 #Person2#에게 IT 부서의 누군가에게 교체를 부탁하라고 제안한다.\n",
      "\n",
      "ROUGE-1 Score: 0.13953487932936734\n",
      "ROUGE-2 Score: 0.0\n",
      "ROUGE-L Score: 0.13953487932936734\n",
      "Combined ROUGE Score: 9.30232528862449\n",
      "\n",
      "====================================================================================================\n"
     ]
    },
    {
     "name": "stderr",
     "output_type": "stream",
     "text": [
      " 71%|███████   | 353/499 [05:19<02:30,  1.03s/it]"
     ]
    },
    {
     "name": "stdout",
     "output_type": "stream",
     "text": [
      "==352==\n",
      "Pred Summary: #Person1#과 #Person2#는 스미스 씨의 최근 제품 목록에 대해 논의하고, 올해 하반기에는 일부 최신 의류를 수입하기로 합의했습니다. 그들은 적시에 납품할 수 있도록 합의에 도달하고 계약에 서명할 계획입니다. #Person2#는 양측 모두 이전에 논의에 참여한 일부 고객들도 함께 참여하게 하는 제안을 했고, #Person1#은 이 제안에 동의했습니다.\n",
      "\n",
      "Gold Summary: 스미스 씨는 중국에 와서 #Person1#와 의류 주문을 하기 위해 왔습니다. 그들은 일부 고객들이 논의에 참여하도록 결정했습니다.\n",
      "\n",
      "ROUGE-1 Score: 0.140350873154817\n",
      "ROUGE-2 Score: 0.0\n",
      "ROUGE-L Score: 0.140350873154817\n",
      "Combined ROUGE Score: 9.3567248769878\n",
      "\n",
      "====================================================================================================\n"
     ]
    },
    {
     "name": "stderr",
     "output_type": "stream",
     "text": [
      " 71%|███████   | 354/499 [05:20<02:34,  1.07s/it]"
     ]
    },
    {
     "name": "stdout",
     "output_type": "stream",
     "text": [
      "==353==\n",
      "Pred Summary: #Person1#은 국제 여행사의 하오에게 북서항공 222편 비행기를 예약했다. 일등석 티켓 3장을 예약하고 좌석 번호는 8A, 8B, 8C이다. 티켓 비용은 각각 630달러로, 총 1890달러이다. 동행할 분들의 이름은 알렉스 스턴과 캐시 스턴이다.\n",
      "\n",
      "Gold Summary: 하오 보가 스턴 씨에게 전화를 걸어 비행기 예약 정보를 알리고 다른 여행자들의 이름을 물어봅니다.\n",
      "\n",
      "ROUGE-1 Score: 0.0\n",
      "ROUGE-2 Score: 0.0\n",
      "ROUGE-L Score: 0.0\n",
      "Combined ROUGE Score: 0.0\n",
      "\n",
      "====================================================================================================\n"
     ]
    },
    {
     "name": "stderr",
     "output_type": "stream",
     "text": [
      " 71%|███████   | 355/499 [05:21<02:19,  1.03it/s]"
     ]
    },
    {
     "name": "stdout",
     "output_type": "stream",
     "text": [
      "==354==\n",
      "Pred Summary: #Person1#과 #Person2#는 날씨에 대해 이야기하고, #Person2#는 근무 중이기 때문에 #Person1#과 함께 있을 수 없다는 것을 언급합니다.\n",
      "\n",
      "Gold Summary: 헨리가 #Person2#에게 담배를 제공하고 불을 붙여줍니다.\n",
      "\n",
      "ROUGE-1 Score: 0.0\n",
      "ROUGE-2 Score: 0.0\n",
      "ROUGE-L Score: 0.0\n",
      "Combined ROUGE Score: 0.0\n",
      "\n",
      "====================================================================================================\n"
     ]
    },
    {
     "name": "stderr",
     "output_type": "stream",
     "text": [
      " 71%|███████▏  | 356/499 [05:22<02:34,  1.08s/it]"
     ]
    },
    {
     "name": "stdout",
     "output_type": "stream",
     "text": [
      "==355==\n",
      "Pred Summary: #Person1#과 #Person2#는 스쿠터를 타고 번화가와 뒷골목에서 타는 것이 유행하고 있다고 이야기합니다. 스쿠터는 섬세하고 민첩하며, 작고 세련된 크기, 쉬운 조작, 접이식이며 휴대하기 쉽습니다. 스쿠터를 타려면 두 손으로 막대를 잡고 보드 위에 서서 다른 발로 뒤로 밀어내고 몸의 균형을 조절하면 됩니다.\n",
      "\n",
      "Gold Summary: #Person1#과 #Person2#는 전 세계적으로 유행하고 있는 스쿠터와 그 기원, 사용 방식, 장점에 대해 논의하고 있습니다.\n",
      "\n",
      "ROUGE-1 Score: 0.11320754311142771\n",
      "ROUGE-2 Score: 0.03846153452662762\n",
      "ROUGE-L Score: 0.11320754311142771\n",
      "Combined ROUGE Score: 8.829220691649436\n",
      "\n",
      "====================================================================================================\n"
     ]
    },
    {
     "name": "stderr",
     "output_type": "stream",
     "text": [
      " 72%|███████▏  | 357/499 [05:23<02:12,  1.07it/s]"
     ]
    },
    {
     "name": "stdout",
     "output_type": "stream",
     "text": [
      "==356==\n",
      "Pred Summary: #Person1#과 #Person2#는 가을의 아름다움과 겨울의 어려움, 그리고 여름의 많은 비에 대해 이야기합니다.\n",
      "\n",
      "Gold Summary: #Person2#는 자신의 지역 날씨에 대해 #Person1#에게 이야기합니다.\n",
      "\n",
      "ROUGE-1 Score: 0.31578946903047095\n",
      "ROUGE-2 Score: 0.0\n",
      "ROUGE-L Score: 0.31578946903047095\n",
      "Combined ROUGE Score: 21.052631268698065\n",
      "\n",
      "====================================================================================================\n"
     ]
    },
    {
     "name": "stderr",
     "output_type": "stream",
     "text": [
      " 72%|███████▏  | 358/499 [05:24<02:11,  1.08it/s]"
     ]
    },
    {
     "name": "stdout",
     "output_type": "stream",
     "text": [
      "==357==\n",
      "Pred Summary: #Person1#은 #Person2#와의 약속에 늦었다. 그들은 교통 체증과 버스를 놓치는 등 여러 가지 문제가 있었다. #Person1#은 사무실에서 예상치 못한 일을 처리하고 상사에게 편지를 써주느라 늦게 퇴근했다.\n",
      "\n",
      "Gold Summary: 엘리스는 아담과의 약속에 한 시간이나 늦게 도착했다. 그녀는 늦은 이유를 설명하고 사과했다.\n",
      "\n",
      "ROUGE-1 Score: 0.11111110666666683\n",
      "ROUGE-2 Score: 0.0\n",
      "ROUGE-L Score: 0.11111110666666683\n",
      "Combined ROUGE Score: 7.407407111111122\n",
      "\n",
      "====================================================================================================\n"
     ]
    },
    {
     "name": "stderr",
     "output_type": "stream",
     "text": [
      " 72%|███████▏  | 359/499 [05:24<01:58,  1.18it/s]"
     ]
    },
    {
     "name": "stdout",
     "output_type": "stream",
     "text": [
      "==358==\n",
      "Pred Summary: #Person1#과 #Person2#는 매트릭스 상영을 보기 위해 영화관에 도착했다. 그들은 티켓을 사기 위해 긴 줄을 서기로 결정했다.\n",
      "\n",
      "Gold Summary: #Person1#은 티켓 브로커로부터 영화 표를 사는 것을 제안하지만 #Person2#는 그 아이디어를 거절하고, 그들은 긴 줄에서 기다리다가 마침내 차례가 된다.\n",
      "\n",
      "ROUGE-1 Score: 0.1764705833044984\n",
      "ROUGE-2 Score: 0.0\n",
      "ROUGE-L Score: 0.1764705833044984\n",
      "Combined ROUGE Score: 11.764705553633227\n",
      "\n",
      "====================================================================================================\n"
     ]
    },
    {
     "name": "stderr",
     "output_type": "stream",
     "text": [
      " 72%|███████▏  | 360/499 [05:25<01:48,  1.28it/s]"
     ]
    },
    {
     "name": "stdout",
     "output_type": "stream",
     "text": [
      "==359==\n",
      "Pred Summary: #Person2#는 잡지를 대출하려고 하지만, 도서관은 잡지 대출을 허용하지 않습니다. 그들은 책이나 비디오를 대출할 수 있습니다.\n",
      "\n",
      "Gold Summary: #Person2#는 잡지를 대출하려 했지만 #Person1#는 그것이 허용되지 않다고 말합니다. #Person2#는 이것이 불합리하다고 생각합니다.\n",
      "\n",
      "ROUGE-1 Score: 0.1481481432098767\n",
      "ROUGE-2 Score: 0.07692307195266304\n",
      "ROUGE-L Score: 0.1481481432098767\n",
      "Combined ROUGE Score: 12.440645279080549\n",
      "\n",
      "====================================================================================================\n"
     ]
    },
    {
     "name": "stderr",
     "output_type": "stream",
     "text": [
      " 72%|███████▏  | 361/499 [05:26<01:48,  1.27it/s]"
     ]
    },
    {
     "name": "stdout",
     "output_type": "stream",
     "text": [
      "==360==\n",
      "Pred Summary: #Person1#과 #Person2#는 작별 인사를 나누며, #Person2#는 미국으로 돌아가기 전에 친구들에게 감사의 인사를 전합니다.\n",
      "\n",
      "Gold Summary: 메리가 미국으로 돌아가기 전에 #Person1#에게 작별 인사를 하러 왔다.\n",
      "\n",
      "ROUGE-1 Score: 0.4999999950500001\n",
      "ROUGE-2 Score: 0.29999999520000004\n",
      "ROUGE-L Score: 0.39999999505\n",
      "Combined ROUGE Score: 39.99999951\n",
      "\n",
      "====================================================================================================\n"
     ]
    },
    {
     "name": "stderr",
     "output_type": "stream",
     "text": [
      " 73%|███████▎  | 362/499 [05:28<02:42,  1.19s/it]"
     ]
    },
    {
     "name": "stdout",
     "output_type": "stream",
     "text": [
      "==361==\n",
      "Pred Summary: #Person1#은 #Person2#에게 청혼했고, 그녀는 수락했다. 그들은 6개월 후에 결혼식을 계획하고 있으며, 약 400명의 손님이 참석할 예정이다. #Person2#는 이미 대부분의 세부 사항을 계획했으며, 그녀의 부모님이 대부분의 비용을 지불할 것이다. 결혼식은 #Person1#의 부모님의 교회에서 열리며, 피로연은 노스우드 하이츠의 홀에서 열릴 것이다. 음악은 #Person2#의 이복 언니와 그녀의 현악 4중주가 맡을 것이며, 사진 촬영은 그녀의 사촌이 맡을 것이다. 결혼 선물로 작은 음료 꾸러미가 제공될 예정이며, 결혼 케이크는 #Person1#의 삼촌의 아내가 만들 것이다. 결혼식은 섬의 낙원을 테마로 하며, 주제색은 아쿠아마린이다.\n",
      "\n",
      "Gold Summary: 트리나는 제러드의 청혼을 받아들인다. 그런 다음, 제러드는 트리나가 이미 멜리사로부터 그가 반지를 사는 것을 보고 계획하고 있었다는 것을 알고 놀란다. 트리나는 날짜를 정하고 400명의 손님 명단을 작성했으며, 그녀는 그녀의 계획에 대해 황홀함으로 제러드에게 말한다. 제러드는 이것을 견디기 힘들어한다.\n",
      "\n",
      "ROUGE-1 Score: 0.09999999545000023\n",
      "ROUGE-2 Score: 0.0\n",
      "ROUGE-L Score: 0.09999999545000023\n",
      "Combined ROUGE Score: 6.6666663633333485\n",
      "\n",
      "====================================================================================================\n"
     ]
    },
    {
     "name": "stderr",
     "output_type": "stream",
     "text": [
      " 73%|███████▎  | 363/499 [05:29<02:24,  1.07s/it]"
     ]
    },
    {
     "name": "stdout",
     "output_type": "stream",
     "text": [
      "==362==\n",
      "Pred Summary: #Person2#는 두 번의 지각으로 인해 상사로부터 해고 위협을 받은 후, 더 이해심 있는 상사를 가진 새로운 일자리를 찾고 있다. #Person1#은 구직 활동을 도와주기로 했다.\n",
      "\n",
      "Gold Summary: 이단은 상사가 다시 늦게 출근하면 해고하겠다고 위협해서 기분이 좋지 않다. 이단은 좀 더 섬세하고 낙관적인 상사가 있는 다른 일자리를 찾을 것이다. 에이바는 그를 도와줄 것을 제안한다.\n",
      "\n",
      "ROUGE-1 Score: 0.1249999950000002\n",
      "ROUGE-2 Score: 0.0\n",
      "ROUGE-L Score: 0.1249999950000002\n",
      "Combined ROUGE Score: 8.333333000000014\n",
      "\n",
      "====================================================================================================\n"
     ]
    },
    {
     "name": "stderr",
     "output_type": "stream",
     "text": [
      " 73%|███████▎  | 364/499 [05:29<02:17,  1.02s/it]"
     ]
    },
    {
     "name": "stdout",
     "output_type": "stream",
     "text": [
      "==363==\n",
      "Pred Summary: 모니카와 #Person1#은 모래 폭풍으로 인해 쇼핑 계획을 취소했다. 그들은 모래 폭풍을 싫어하며, 최근 모래 폭풍이 더 자주 일어나는 것 같다고 생각한다. 모니카의 새로운 계획은 모래 폭풍이 끝나기를 기다리고 아파트를 청소하는 것이다.\n",
      "\n",
      "Gold Summary: Monica는 모래 폭풍 때문에 Lucy와의 쇼핑 계획을 포기해야 했다. #Person1#은 정부가 나무를 심는 등의 방법으로 모래 폭풍을 막으려고 노력하고 있다고 말했다.\n",
      "\n",
      "ROUGE-1 Score: 0.21276595255771855\n",
      "ROUGE-2 Score: 0.08163264822990449\n",
      "ROUGE-L Score: 0.21276595255771855\n",
      "Combined ROUGE Score: 16.905485111511386\n",
      "\n",
      "====================================================================================================\n"
     ]
    },
    {
     "name": "stderr",
     "output_type": "stream",
     "text": [
      " 73%|███████▎  | 365/499 [05:31<02:31,  1.13s/it]"
     ]
    },
    {
     "name": "stdout",
     "output_type": "stream",
     "text": [
      "==364==\n",
      "Pred Summary: #Person1#은 일레인이 #Person2#에게 관심이 있을 수도 있다고 생각하며, #Person2#에게 데이트 신청을 제안한다. 그러나 #Person2#는 일레인과의 관계가 좋지 않다고 말한다. #Person1#은 #Person2#가 일레인을 데이트에 초대하지 않는다면, 목요일 저녁에 로빈슨 가족을 저녁 식사에 초대할 것이라고 말한다.\n",
      "\n",
      "Gold Summary: #Person1#은 일레인 로빈슨을 데이트에 초대하라고 #Person2#에게 말하지만, #Person2#는 거절하므로 #Person1#은 로빈슨 가족을 저녁 식사에 초대하는 것으로 대처한다.\n",
      "\n",
      "ROUGE-1 Score: 0.34042552742417387\n",
      "ROUGE-2 Score: 0.12244897519366944\n",
      "ROUGE-L Score: 0.34042552742417387\n",
      "Combined ROUGE Score: 26.77666766806724\n",
      "\n",
      "====================================================================================================\n"
     ]
    },
    {
     "name": "stderr",
     "output_type": "stream",
     "text": [
      " 73%|███████▎  | 366/499 [05:31<02:07,  1.04it/s]"
     ]
    },
    {
     "name": "stdout",
     "output_type": "stream",
     "text": [
      "==365==\n",
      "Pred Summary: #Person2#는 시카고 대학교에서 경제학 석사 학위를 받기 위해 3년 동안 유학을 갈 예정이다.\n",
      "\n",
      "Gold Summary: 헬렌은 3년 동안 시카고 대학교에서 경제학을 공부하러 갑니다. #Person1#은 그녀에게 행운을 빕니다.\n",
      "\n",
      "ROUGE-1 Score: 0.3199999950080001\n",
      "ROUGE-2 Score: 0.1739130384877128\n",
      "ROUGE-L Score: 0.15999999500800016\n",
      "Combined ROUGE Score: 21.79710095012377\n",
      "\n",
      "====================================================================================================\n"
     ]
    },
    {
     "name": "stderr",
     "output_type": "stream",
     "text": [
      " 74%|███████▎  | 367/499 [05:33<02:16,  1.03s/it]"
     ]
    },
    {
     "name": "stdout",
     "output_type": "stream",
     "text": [
      "==366==\n",
      "Pred Summary: #Person1#은 아이티에서 아파트를 구했고, 토요일 밤 일곱 시에 집들이 파티를 열 예정이다. #Person2#는 참석하기로 했고, 접이식 의자를 가져올 것이다. #Person1#은 6시 반쯤 #Person2#를 데리러 갈 것이다.\n",
      "\n",
      "Gold Summary: #Person1#은 찰스를 #Person1#의 집들이 파티에 초대한다. 찰스는 #Person1#을 위해 접이식 의자를 몇 개 가져올 것이다.\n",
      "\n",
      "ROUGE-1 Score: 0.3076923029585799\n",
      "ROUGE-2 Score: 0.1025640979618674\n",
      "ROUGE-L Score: 0.3076923029585799\n",
      "Combined ROUGE Score: 23.931623462634242\n",
      "\n",
      "====================================================================================================\n"
     ]
    },
    {
     "name": "stderr",
     "output_type": "stream",
     "text": [
      " 74%|███████▎  | 368/499 [05:33<01:57,  1.12it/s]"
     ]
    },
    {
     "name": "stdout",
     "output_type": "stream",
     "text": [
      "==367==\n",
      "Pred Summary: #Person2#는 뉴델리로 은행 어음을 통해 송금을 하고 싶어하며, 급한 일은 아니라고 합니다.\n",
      "\n",
      "Gold Summary: #Person2#는 #Person1#의 도움으로 뉴델리로 은행 어음을 통해 송금을 합니다.\n",
      "\n",
      "ROUGE-1 Score: 0.6666666617687076\n",
      "ROUGE-2 Score: 0.42105262670360116\n",
      "ROUGE-L Score: 0.6666666617687076\n",
      "Combined ROUGE Score: 58.479531674700546\n",
      "\n",
      "====================================================================================================\n"
     ]
    },
    {
     "name": "stderr",
     "output_type": "stream",
     "text": [
      " 74%|███████▍  | 369/499 [05:34<02:00,  1.08it/s]"
     ]
    },
    {
     "name": "stdout",
     "output_type": "stream",
     "text": [
      "==368==\n",
      "Pred Summary: 가루는 뜨거운 물에 녹여 하루에 두 번, 20분 동안 손이나 발을 담그고, 안약은 하루에 4 - - 6번, 한 번에 1 - - 2방울씩 오른쪽 눈에 넣으며, 매일 밤 눈꺼풀에 연고를 조금 짜서 바르는 것이 권장된다.\n",
      "\n",
      "Gold Summary: #Person2#가 #Person1#에게 가루, 안약, 연고의 사용 방법을 알려줍니다.\n",
      "\n",
      "ROUGE-1 Score: 0.0\n",
      "ROUGE-2 Score: 0.0\n",
      "ROUGE-L Score: 0.0\n",
      "Combined ROUGE Score: 0.0\n",
      "\n",
      "====================================================================================================\n"
     ]
    },
    {
     "name": "stderr",
     "output_type": "stream",
     "text": [
      " 74%|███████▍  | 370/499 [05:35<02:12,  1.03s/it]"
     ]
    },
    {
     "name": "stdout",
     "output_type": "stream",
     "text": [
      "==369==\n",
      "Pred Summary: #Person1#은 차를 구매하고 자동차 클럽에 가입했다. 그들은 같은 차를 운전하는 다른 사람들을 만나고 부대용품을 구매할 수 있다. #Person1#은 또한 선루프가 있는 차를 언급하며, #Person2#는 사라의 차를 빌려서 여자들을 찾으러 다닐 것이라고 농담한다.\n",
      "\n",
      "Gold Summary: #Person1#이 #Person2#에게 차를 보여주고, 사라의 차를 빌려 쇼핑하러 갔다고 #Person2#에게 말한다.\n",
      "\n",
      "ROUGE-1 Score: 0.10810810442658889\n",
      "ROUGE-2 Score: 0.04878048411659754\n",
      "ROUGE-L Score: 0.10810810442658889\n",
      "Combined ROUGE Score: 8.83322309899251\n",
      "\n",
      "====================================================================================================\n"
     ]
    },
    {
     "name": "stderr",
     "output_type": "stream",
     "text": [
      " 74%|███████▍  | 371/499 [05:36<01:59,  1.07it/s]"
     ]
    },
    {
     "name": "stdout",
     "output_type": "stream",
     "text": [
      "==370==\n",
      "Pred Summary: #Person1#은 현지 특산물을 시도하고 싶어하며, #Person2#는 필레 스테이크를 추천하고 #Person1#은 두 개를 주문한다.\n",
      "\n",
      "Gold Summary: #Person1#은 현지 음식을 시도하고 싶어하고, #Person2#의 추천에 따라 필레 스테이크 두 개를 주문합니다.\n",
      "\n",
      "ROUGE-1 Score: 0.47999999500800006\n",
      "ROUGE-2 Score: 0.16666666166666683\n",
      "ROUGE-L Score: 0.47999999500800006\n",
      "Combined ROUGE Score: 37.5555550560889\n",
      "\n",
      "====================================================================================================\n"
     ]
    },
    {
     "name": "stderr",
     "output_type": "stream",
     "text": [
      " 75%|███████▍  | 372/499 [05:37<01:49,  1.16it/s]"
     ]
    },
    {
     "name": "stdout",
     "output_type": "stream",
     "text": [
      "==371==\n",
      "Pred Summary: #Person2#는 에어컨이 작동하지 않는 방을 바꾸고 싶어한다. 프론트 데스크는 유지보수 작업이 오래 걸릴 것이라고 알려주며, 다른 방을 제공한다.\n",
      "\n",
      "Gold Summary: #Person1#은 왕 선생님의 방 에어컨 유지보수가 오래 걸릴 것 같아 다른 방으로 이동하도록 도와줍니다.\n",
      "\n",
      "ROUGE-1 Score: 0.19354838214360054\n",
      "ROUGE-2 Score: 0.06666666175555591\n",
      "ROUGE-L Score: 0.19354838214360054\n",
      "Combined ROUGE Score: 15.125447534758566\n",
      "\n",
      "====================================================================================================\n"
     ]
    },
    {
     "name": "stderr",
     "output_type": "stream",
     "text": [
      " 75%|███████▍  | 373/499 [05:38<01:55,  1.09it/s]"
     ]
    },
    {
     "name": "stdout",
     "output_type": "stream",
     "text": [
      "==372==\n",
      "Pred Summary: #Person2#는 영어를 할 수 있으며, CET - 6을 통과했고, 영어 번역사로 일한 경험이 있으며, TOEFL에서 600점, GRE에서 2,300점을 받았습니다. 그들은 초등학교 때부터 영어를 배우기 시작했으며, 일반적인 사무 업무를 수행하는 데 충분한 영어 실력을 갖추고 있다고 생각합니다.\n",
      "\n",
      "Gold Summary: #Person2#는 영어 번역, 영어 회화, 그리고 영어 시험에 대한 능숙함을 보여줍니다. #Person2#는 자신의 영어 실력이 한국 기업에서 사무 업무를 수행하는 데 충분하다고 믿습니다.\n",
      "\n",
      "ROUGE-1 Score: 0.2307692261316569\n",
      "ROUGE-2 Score: 0.10526315315481707\n",
      "ROUGE-L Score: 0.2307692261316569\n",
      "Combined ROUGE Score: 18.893386847271028\n",
      "\n",
      "====================================================================================================\n"
     ]
    },
    {
     "name": "stderr",
     "output_type": "stream",
     "text": [
      " 75%|███████▍  | 374/499 [05:39<02:02,  1.02it/s]"
     ]
    },
    {
     "name": "stdout",
     "output_type": "stream",
     "text": [
      "==373==\n",
      "Pred Summary: #Person1#은 공장에서 100개 주문에 대한 예상 금액을 문의하고, #Person2#는 대략 $100의 단가를 제시한다. #Person1#은 가격이 너무 높다고 생각하고 단가를 $80으로 낮추기를 요청하지만, #Person2#는 500개 이상 주문해야만 가능한 가격이라고 말한다.\n",
      "\n",
      "Gold Summary: #Person1#은 100개 주문에 대한 예상 가격을 #Person2#에게 묻고, #Person1#은 그것이 조금 높다고 생각합니다. #Person2#는 #Person1#이 더 많은 단위를 주문하면 어떤 방안을 찾을 수 있을 것이라고 말합니다.\n",
      "\n",
      "ROUGE-1 Score: 0.27450979892349103\n",
      "ROUGE-2 Score: 0.11320754218583146\n",
      "ROUGE-L Score: 0.27450979892349103\n",
      "Combined ROUGE Score: 22.074238001093782\n",
      "\n",
      "====================================================================================================\n"
     ]
    },
    {
     "name": "stderr",
     "output_type": "stream",
     "text": [
      " 75%|███████▌  | 375/499 [05:40<01:55,  1.07it/s]"
     ]
    },
    {
     "name": "stdout",
     "output_type": "stream",
     "text": [
      "==374==\n",
      "Pred Summary: #Person1#은 방금 117호에 체크인했지만 방이 아직 청소되지 않았습니다. #Person2#는 하우스키퍼에게 방을 청소하도록 요청하고 #Person1#에게 방 번호와 이름을 요청했습니다.\n",
      "\n",
      "Gold Summary: 117호에 머무는 테리 첸이 방 청소를 위해 하우스키퍼에게 전화를 합니다.\n",
      "\n",
      "ROUGE-1 Score: 0.21428570969387764\n",
      "ROUGE-2 Score: 0.0\n",
      "ROUGE-L Score: 0.14285713826530627\n",
      "Combined ROUGE Score: 11.904761598639464\n",
      "\n",
      "====================================================================================================\n"
     ]
    },
    {
     "name": "stderr",
     "output_type": "stream",
     "text": [
      " 75%|███████▌  | 376/499 [05:41<01:50,  1.11it/s]"
     ]
    },
    {
     "name": "stdout",
     "output_type": "stream",
     "text": [
      "==375==\n",
      "Pred Summary: #Person1#은 중국행 저렴한 비행기 표를 찾고 있다. #Person2#는 Yahoo Travel을 이용해보라고 제안한다. #Person1#은 #Person2#를 위해 표를 찾아보기로 한다.\n",
      "\n",
      "Gold Summary: #Person2#가 엄마에게 인터넷에서 중국으로 가는 저렴한 비행기 표를 어떻게 찾는지 알려줍니다. 엄마는 #Person2#를 위한 표도 사려고 합니다.\n",
      "\n",
      "ROUGE-1 Score: 0.2424242374288339\n",
      "ROUGE-2 Score: 0.12121211621671278\n",
      "ROUGE-L Score: 0.2424242374288339\n",
      "Combined ROUGE Score: 20.202019702479355\n",
      "\n",
      "====================================================================================================\n"
     ]
    },
    {
     "name": "stderr",
     "output_type": "stream",
     "text": [
      " 76%|███████▌  | 377/499 [05:42<01:48,  1.13it/s]"
     ]
    },
    {
     "name": "stdout",
     "output_type": "stream",
     "text": [
      "==376==\n",
      "Pred Summary: #Person1#은 5사이즈의 검정색 신발을 찾고 있지만, 가게에는 없다. #Person2#는 그 신발이 유행하지 않고 불편하다고 말하지만, 여성들은 여전히 불편한 신발을 신는다고 말한다.\n",
      "\n",
      "Gold Summary: #Person1#가 사고 싶어하는 신발은 품절입니다. #Person2#는 유행하는 다른 신발을 추천하지만 그것은 불편합니다.\n",
      "\n",
      "ROUGE-1 Score: 0.12499999531250018\n",
      "ROUGE-2 Score: 0.0\n",
      "ROUGE-L Score: 0.12499999531250018\n",
      "Combined ROUGE Score: 8.333333020833345\n",
      "\n",
      "====================================================================================================\n"
     ]
    },
    {
     "name": "stderr",
     "output_type": "stream",
     "text": [
      " 76%|███████▌  | 378/499 [05:42<01:41,  1.19it/s]"
     ]
    },
    {
     "name": "stdout",
     "output_type": "stream",
     "text": [
      "==377==\n",
      "Pred Summary: #Person1#과 #Person2#는 딜버트 넥타이를 선물로 주기로 결정했다. 이 넥타이는 와이어가 들어있어 위로 굽힐 수 있다.\n",
      "\n",
      "Gold Summary: #Person1#은 #Person2#의 누군가에게 넥타이를 선물하는 아이디어를 싫어합니다. 그런 다음 #Person2#는 #Person1#에게 넥타이를 보여주고 #Person1#은 그것이 멋지다고 생각하기 시작합니다.\n",
      "\n",
      "ROUGE-1 Score: 0.12903225306971924\n",
      "ROUGE-2 Score: 0.0\n",
      "ROUGE-L Score: 0.12903225306971924\n",
      "Combined ROUGE Score: 8.60215020464795\n",
      "\n",
      "====================================================================================================\n"
     ]
    },
    {
     "name": "stderr",
     "output_type": "stream",
     "text": [
      " 76%|███████▌  | 379/499 [05:43<01:49,  1.10it/s]"
     ]
    },
    {
     "name": "stdout",
     "output_type": "stream",
     "text": [
      "==378==\n",
      "Pred Summary: #Person1#은 #Person2#에게 여권을 요청하고, #Person2#는 중국인이며 후지산 성 출신이라고 밝힌다. #Person2#는 학기 종료 후 휴가를 보내기 위해 호주에 왔으며, 약 반 달 동안 머무를 계획이다. #Person1#은 #Person2#에게 환영 인사를 전한다.\n",
      "\n",
      "Gold Summary: #Person1#은 #Person2#의 여권을 확인하고 호주 방문의 의도와 계획에 대해 묻습니다.\n",
      "\n",
      "ROUGE-1 Score: 0.10810810416362324\n",
      "ROUGE-2 Score: 0.0\n",
      "ROUGE-L Score: 0.10810810416362324\n",
      "Combined ROUGE Score: 7.207206944241549\n",
      "\n",
      "====================================================================================================\n"
     ]
    },
    {
     "name": "stderr",
     "output_type": "stream",
     "text": [
      " 76%|███████▌  | 380/499 [05:44<01:43,  1.15it/s]"
     ]
    },
    {
     "name": "stdout",
     "output_type": "stream",
     "text": [
      "==379==\n",
      "Pred Summary: #Person2#는 티셔츠를 찾고 있으며, 녹색을 선호하지만 너무 작아서 맞지 않습니다. 그들은 결국 핑크색 티셔츠를 선택하고 12.50달러를 지불합니다.\n",
      "\n",
      "Gold Summary: #Person2#는 #Person1#의 도움으로 12.5달러에 핑크색 티셔츠를 구매했습니다.\n",
      "\n",
      "ROUGE-1 Score: 0.319999995648\n",
      "ROUGE-2 Score: 0.08333332920138908\n",
      "ROUGE-L Score: 0.319999995648\n",
      "Combined ROUGE Score: 24.111110683246302\n",
      "\n",
      "====================================================================================================\n"
     ]
    },
    {
     "name": "stderr",
     "output_type": "stream",
     "text": [
      " 76%|███████▋  | 381/499 [05:45<01:46,  1.11it/s]"
     ]
    },
    {
     "name": "stdout",
     "output_type": "stream",
     "text": [
      "==380==\n",
      "Pred Summary: #Person2#는 낡은 신발을 대체하기 위해 비슷한 스타일의 신발을 구매하고 싶어한다. 그들은 연한 갈색 신발을 신어보지만 편안하지 않아 다른 쌍을 선택한다. 그들은 두 쌍을 구매하고, 낡은 신발만 상자에 넣어달라고 요청한다.\n",
      "\n",
      "Gold Summary: #Person2#는 #Person1#의 도움으로 #Person2#의 낡은 신발과 비슷한 스타일의 신발 두 켤레를 구입했다.\n",
      "\n",
      "ROUGE-1 Score: 0.2777777733333334\n",
      "ROUGE-2 Score: 0.05128204723208447\n",
      "ROUGE-L Score: 0.2777777733333334\n",
      "Combined ROUGE Score: 20.227919796625045\n",
      "\n",
      "====================================================================================================\n"
     ]
    },
    {
     "name": "stderr",
     "output_type": "stream",
     "text": [
      " 77%|███████▋  | 382/499 [05:46<01:39,  1.17it/s]"
     ]
    },
    {
     "name": "stdout",
     "output_type": "stream",
     "text": [
      "==381==\n",
      "Pred Summary: #Person1#은 #Person2#의 아들이 수업에 25분 늦게 도착한다고 알렸다. #Person2#는 이를 모르고 있었고, 이번에는 아들에게 벌을 주기로 결정했다.\n",
      "\n",
      "Gold Summary: #Person1#은 #Person2#에게 #Person2#의 아들이 때때로 수업에 늦는다고 말합니다. 그러자 #Person2#는 #Person2#의 아들이 거짓말을 하고 있다는 것을 깨닫고 그를 벌할 것이라고 말합니다.\n",
      "\n",
      "ROUGE-1 Score: 0.2857142807183674\n",
      "ROUGE-2 Score: 0.057142852179592266\n",
      "ROUGE-L Score: 0.2857142807183674\n",
      "Combined ROUGE Score: 20.95238045387757\n",
      "\n",
      "====================================================================================================\n"
     ]
    },
    {
     "name": "stderr",
     "output_type": "stream",
     "text": [
      " 77%|███████▋  | 383/499 [05:47<01:45,  1.10it/s]"
     ]
    },
    {
     "name": "stdout",
     "output_type": "stream",
     "text": [
      "==382==\n",
      "Pred Summary: #Person2#는 기침과 열이 3일째 지속되고 있다. 의사는 #Person2#가 에어컨이 있는 사무실에서 일하기 때문에 감기에 걸린 것으로 진단했다. 의사는 #Person2#에게 자주 사무실 밖으로 나가서 신선한 공기를 마시고, 테니스를 더 자주 치는 것을 추천했다.\n",
      "\n",
      "Gold Summary: 브라운 부인은 #Person2#에게 신체 검사를 하고 감기에 걸렸다고 진단합니다. 브라운 부인은 #Person2#에게 가능한 자주 주기적으로 에어컨이 있는 사무실 밖으로 나가고 운동을 더 많이 하는 것을 제안합니다.\n",
      "\n",
      "ROUGE-1 Score: 0.33962263659665365\n",
      "ROUGE-2 Score: 0.07407406918381376\n",
      "ROUGE-L Score: 0.33962263659665365\n",
      "Combined ROUGE Score: 25.110644745904036\n",
      "\n",
      "====================================================================================================\n"
     ]
    },
    {
     "name": "stderr",
     "output_type": "stream",
     "text": [
      " 77%|███████▋  | 384/499 [05:48<01:36,  1.19it/s]"
     ]
    },
    {
     "name": "stdout",
     "output_type": "stream",
     "text": [
      "==383==\n",
      "Pred Summary: #Person1#은 댄서로서 성공하고 정상에 오르면 댄스 학교를 열고 싶어한다. #Person2#는 그것이 좋은 생각이라고 동의한다.\n",
      "\n",
      "Gold Summary: 데이비드는 무례한 상사 때문에 자리를 떠났다. 수잔은 성공적인 댄서가 되어 댄스 학교를 열 계획이다.\n",
      "\n",
      "ROUGE-1 Score: 0.14285713785714302\n",
      "ROUGE-2 Score: 0.07692307192307725\n",
      "ROUGE-L Score: 0.14285713785714302\n",
      "Combined ROUGE Score: 12.08791158791211\n",
      "\n",
      "====================================================================================================\n"
     ]
    },
    {
     "name": "stderr",
     "output_type": "stream",
     "text": [
      " 77%|███████▋  | 385/499 [05:48<01:38,  1.16it/s]"
     ]
    },
    {
     "name": "stdout",
     "output_type": "stream",
     "text": [
      "==384==\n",
      "Pred Summary: #Person1#과 #Person2#는 서로의 안부를 묻고, #Person2#는 최근에 PCC에 입학했다고 언급합니다. #Person2#는 지금까지 수업이 잘 진행되고 있다고 말하며, #Person1#은 행운을 빕니다.\n",
      "\n",
      "Gold Summary: #Person1#과 #Person2#는 인사를 나눕니다. #Person2#는 #Person1#에게 PCC에 다니고 있으며 그곳의 수업을 좋아한다고 말합니다.\n",
      "\n",
      "ROUGE-1 Score: 0.1999999952000001\n",
      "ROUGE-2 Score: 0.06451612428720119\n",
      "ROUGE-L Score: 0.1999999952000001\n",
      "Combined ROUGE Score: 15.48387048957338\n",
      "\n",
      "====================================================================================================\n"
     ]
    },
    {
     "name": "stderr",
     "output_type": "stream",
     "text": [
      " 77%|███████▋  | 386/499 [05:50<01:49,  1.03it/s]"
     ]
    },
    {
     "name": "stdout",
     "output_type": "stream",
     "text": [
      "==385==\n",
      "Pred Summary: #Person1#은 적합한 차를 찾고 있고, #Person2#는 안전 기능과 경제성을 갖춘 특정 모델을 추천한다. #Person1#은 이 모델의 안전 기능에 대해 더 알고 싶어하며, #Person2#는 ABS 브레이크, 에어백, 충돌 시 충격을 분산하는 디자인 등을 설명한다. #Person1#은 또한 이 모델의 연료 효율성에 대해 알게 되고, 시승을 하기로 결정한다.\n",
      "\n",
      "Gold Summary: #Person2#는 경차를 #Person1#에게 추천하고 그 특징을 소개합니다. #Person1#는 가격에 만족하고, 그 후 #Person2#는 #Person1#에게 시승을 제안하고 고민해보라고 합니다.\n",
      "\n",
      "ROUGE-1 Score: 0.075471694054824\n",
      "ROUGE-2 Score: 0.0\n",
      "ROUGE-L Score: 0.075471694054824\n",
      "Combined ROUGE Score: 5.0314462703216\n",
      "\n",
      "====================================================================================================\n"
     ]
    },
    {
     "name": "stderr",
     "output_type": "stream",
     "text": [
      " 78%|███████▊  | 387/499 [05:50<01:34,  1.18it/s]"
     ]
    },
    {
     "name": "stdout",
     "output_type": "stream",
     "text": [
      "==386==\n",
      "Pred Summary: #Person2#는 대학과 은행에서 감사 업무를 수행한 경험이 있으며, 3개월 안에 감사관이 되었습니다.\n",
      "\n",
      "Gold Summary: #Person2#는 #Person1#에게 #Person2#의 회계 감사 경험에 대해 이야기합니다.\n",
      "\n",
      "ROUGE-1 Score: 0.1999999952000001\n",
      "ROUGE-2 Score: 0.0\n",
      "ROUGE-L Score: 0.1999999952000001\n",
      "Combined ROUGE Score: 13.33333301333334\n",
      "\n",
      "====================================================================================================\n"
     ]
    },
    {
     "name": "stderr",
     "output_type": "stream",
     "text": [
      " 78%|███████▊  | 388/499 [05:51<01:34,  1.18it/s]"
     ]
    },
    {
     "name": "stdout",
     "output_type": "stream",
     "text": [
      "==387==\n",
      "Pred Summary: #Person1#은 자신의 외모에 대한 의견을 구하고, #Person2#는 다른 옷을 제안하지만, #Person1#은 그 옷에 편안함을 느끼지 못한다. #Person3#은 자신감을 갖고 편안한 스타일을 선택하라고 조언한다.\n",
      "\n",
      "Gold Summary: #Person1#이 자신의 옷차림에 대한 의견을 묻고 있습니다. #Person2#는 #Person1#이 너무 차려입었다고 생각하는 반면, 빅키는 #Person1#이 자신감을 가져야 한다고 생각합니다.\n",
      "\n",
      "ROUGE-1 Score: 0.2564102514924393\n",
      "ROUGE-2 Score: 0.04999999505000049\n",
      "ROUGE-L Score: 0.2564102514924393\n",
      "Combined ROUGE Score: 18.7606832678293\n",
      "\n",
      "====================================================================================================\n"
     ]
    },
    {
     "name": "stderr",
     "output_type": "stream",
     "text": [
      " 78%|███████▊  | 389/499 [05:52<01:29,  1.23it/s]"
     ]
    },
    {
     "name": "stdout",
     "output_type": "stream",
     "text": [
      "==388==\n",
      "Pred Summary: #Person1#은 #Person2#의 서예에 감명을 받고, #Person2#는 그에게 서예 작품을 선물한다. #Person2#는 행운은 스스로 만들어야 한다고 말한다.\n",
      "\n",
      "Gold Summary: #Person1#은 #Person2#의 아름다운 서예를 보기 위해 오랫동안 기다렸습니다. #Person2#는 오늘 중국 운문을 쓰고 있고 이를 #Person1#에게 줍니다. #Person1#은 매우 기뻐합니다.\n",
      "\n",
      "ROUGE-1 Score: 0.1764705833044984\n",
      "ROUGE-2 Score: 0.058823524480969266\n",
      "ROUGE-L Score: 0.1764705833044984\n",
      "Combined ROUGE Score: 13.72548970299887\n",
      "\n",
      "====================================================================================================\n"
     ]
    },
    {
     "name": "stderr",
     "output_type": "stream",
     "text": [
      " 78%|███████▊  | 390/499 [05:53<01:27,  1.24it/s]"
     ]
    },
    {
     "name": "stdout",
     "output_type": "stream",
     "text": [
      "==389==\n",
      "Pred Summary: #Person1#과 #Person2#는 이혼에 대해 이야기하며, 그들의 사랑이 모래 위에 지어졌고 바위 위에 떨어졌다고 언급합니다. 그들은 이것이 우리에게 좋은 교훈을 준다고 동의합니다.\n",
      "\n",
      "Gold Summary: #Person1#과 #Person2#는 누군가의 이혼으로 모래 위에 세워진 사랑이 곧 바위 위에 있을 것이라는 것을 알게 된다.\n",
      "\n",
      "ROUGE-1 Score: 0.3428571379591837\n",
      "ROUGE-2 Score: 0.1714285665306124\n",
      "ROUGE-L Score: 0.2857142808163266\n",
      "Combined ROUGE Score: 26.666666176870763\n",
      "\n",
      "====================================================================================================\n"
     ]
    },
    {
     "name": "stderr",
     "output_type": "stream",
     "text": [
      " 78%|███████▊  | 391/499 [05:54<01:33,  1.16it/s]"
     ]
    },
    {
     "name": "stdout",
     "output_type": "stream",
     "text": [
      "==390==\n",
      "Pred Summary: #Person2#는 프랑스어를 유창하게 구사하며, 읽고 쓰는 것이 능숙합니다. 스페인어는 어느 정도 구사할 수 있지만, 쓰기는 잘 못합니다. #Person1#은 #Person2#가 회사에 많은 스페인어 고객들이 있지만, 스페인어를 쓸 일은 없을 것이라고 언급합니다.\n",
      "\n",
      "Gold Summary: 엘리자베스는 프랑스어를 잘 할 수 있습니다. #Person1#에게 많은 스페인어 고객들이 있기 때문에, 엘리자베스는 그 자리에 적합하다고 생각합니다.\n",
      "\n",
      "ROUGE-1 Score: 0.2666666620839507\n",
      "ROUGE-2 Score: 0.08888888430617307\n",
      "ROUGE-L Score: 0.22222221763950628\n",
      "Combined ROUGE Score: 19.259258800987666\n",
      "\n",
      "====================================================================================================\n"
     ]
    },
    {
     "name": "stderr",
     "output_type": "stream",
     "text": [
      " 79%|███████▊  | 392/499 [05:54<01:29,  1.20it/s]"
     ]
    },
    {
     "name": "stdout",
     "output_type": "stream",
     "text": [
      "==391==\n",
      "Pred Summary: #Person1#은 과학박물관에 가는 방법을 찾고 있다. #Person2#는 티켓 구매와 기차 탑승 방법을 안내하며, 3정거장 떨어진 스테이트 스트리트 역에서 내리라고 알려준다.\n",
      "\n",
      "Gold Summary: #Person2#는 #Person1#에게 티켓 기계를 어떻게 사용하는지 그리고 과학박물관에 어떻게 가는지 알려줍니다.\n",
      "\n",
      "ROUGE-1 Score: 0.20689654720570758\n",
      "ROUGE-2 Score: 0.0\n",
      "ROUGE-L Score: 0.20689654720570758\n",
      "Combined ROUGE Score: 13.793103147047173\n",
      "\n",
      "====================================================================================================\n"
     ]
    },
    {
     "name": "stderr",
     "output_type": "stream",
     "text": [
      " 79%|███████▉  | 393/499 [05:55<01:23,  1.27it/s]"
     ]
    },
    {
     "name": "stdout",
     "output_type": "stream",
     "text": [
      "==392==\n",
      "Pred Summary: #Person1#과 #Person2#는 파티에 참석할 사람들의 명단을 가지고 있으며, 존과 안나의 결혼을 축하하기 위해 놀라움을 준비하고 있다.\n",
      "\n",
      "Gold Summary: #Person1#과 #Person2#는 결혼하는 존과 안나를 위한 비밀 파티를 준비하고 있습니다.\n",
      "\n",
      "ROUGE-1 Score: 0.3076923029585799\n",
      "ROUGE-2 Score: 0.08333332864583361\n",
      "ROUGE-L Score: 0.3076923029585799\n",
      "Combined ROUGE Score: 23.290597818766447\n",
      "\n",
      "====================================================================================================\n"
     ]
    },
    {
     "name": "stderr",
     "output_type": "stream",
     "text": [
      " 79%|███████▉  | 394/499 [05:56<01:22,  1.27it/s]"
     ]
    },
    {
     "name": "stdout",
     "output_type": "stream",
     "text": [
      "==393==\n",
      "Pred Summary: #Person1#은 우체국 위치를 묻고, #Person2#는 길을 안내해줍니다. #Person1#은 걸어서 가는 시간이 너무 오래 걸려서 택시를 타기로 결정합니다.\n",
      "\n",
      "Gold Summary: #Person2#는 #Person1#에게 가장 가까운 우체국으로 가는 방법을 알려줍니다. #Person1#가 걸어서 가면 30분이 걸릴 것이기 때문에, #Person1#는 택시를 이용하기로 결정합니다.\n",
      "\n",
      "ROUGE-1 Score: 0.28571428075102046\n",
      "ROUGE-2 Score: 0.0\n",
      "ROUGE-L Score: 0.28571428075102046\n",
      "Combined ROUGE Score: 19.047618716734696\n",
      "\n",
      "====================================================================================================\n"
     ]
    },
    {
     "name": "stderr",
     "output_type": "stream",
     "text": [
      " 79%|███████▉  | 395/499 [05:57<01:29,  1.16it/s]"
     ]
    },
    {
     "name": "stdout",
     "output_type": "stream",
     "text": [
      "==394==\n",
      "Pred Summary: #Person1#은 휴가를 위해 캐나다를 방문할 예정이다. 밴쿠버, 록키 산맥, 토론토, 나이아가라 폭포, 노바스코샤를 방문할 계획이다.\n",
      "\n",
      "Gold Summary: #Person1#이 캐나다로의 휴가 계획에 대해 #Person2#에게 이야기합니다.\n",
      "\n",
      "ROUGE-1 Score: 0.0\n",
      "ROUGE-2 Score: 0.0\n",
      "ROUGE-L Score: 0.0\n",
      "Combined ROUGE Score: 0.0\n",
      "\n",
      "====================================================================================================\n"
     ]
    },
    {
     "name": "stderr",
     "output_type": "stream",
     "text": [
      " 79%|███████▉  | 396/499 [05:58<01:27,  1.18it/s]"
     ]
    },
    {
     "name": "stdout",
     "output_type": "stream",
     "text": [
      "==395==\n",
      "Pred Summary: #Person2#는 부모님의 강요와 감정 무시로 인해 불행하다. #Person1#은 부모와 자식 사이의 세대 차이를 언급하며, #Person2#는 부모를 이해하려는 노력을 거의 하지 않았다고 인정한다.\n",
      "\n",
      "Gold Summary: #Person2#는 부모님이 항상 자신의 감정을 무시하고 그들이 원하는 대로 행동하도록 강요하기 때문에 행복하지 않습니다. #Person1#는 이것이 세대 차이 때문이라고 생각합니다.\n",
      "\n",
      "ROUGE-1 Score: 0.09756097061273078\n",
      "ROUGE-2 Score: 0.0\n",
      "ROUGE-L Score: 0.09756097061273078\n",
      "Combined ROUGE Score: 6.504064707515385\n",
      "\n",
      "====================================================================================================\n"
     ]
    },
    {
     "name": "stderr",
     "output_type": "stream",
     "text": [
      " 80%|███████▉  | 397/499 [05:58<01:22,  1.24it/s]"
     ]
    },
    {
     "name": "stdout",
     "output_type": "stream",
     "text": [
      "==396==\n",
      "Pred Summary: #Person2#는 삼촌과 이모와 함께 호반집에 갔고, 긴 차 여행에도 불구하고 편안한 침실이 충분했지만, 현지 상점에서 멀리 떨어져 있어서 불편했다.\n",
      "\n",
      "Gold Summary: 조가 #Person1#에게 그와 동생이 호반집으로의 여행을 이야기 한다.\n",
      "\n",
      "ROUGE-1 Score: 0.0\n",
      "ROUGE-2 Score: 0.0\n",
      "ROUGE-L Score: 0.0\n",
      "Combined ROUGE Score: 0.0\n",
      "\n",
      "====================================================================================================\n"
     ]
    },
    {
     "name": "stderr",
     "output_type": "stream",
     "text": [
      " 80%|███████▉  | 398/499 [05:59<01:21,  1.25it/s]"
     ]
    },
    {
     "name": "stdout",
     "output_type": "stream",
     "text": [
      "==397==\n",
      "Pred Summary: #Person2#는 12월 23일에 4일 동안 스탠다드룸을 예약하고, 예약 확인 번호는 NB 13579입니다.\n",
      "\n",
      "Gold Summary: #Person1#은 낸시가 스탠다드룸을 예약하는 것을 도와주고 그녀의 개인 정보를 요청합니다.\n",
      "\n",
      "ROUGE-1 Score: 0.09090908595041348\n",
      "ROUGE-2 Score: 0.0\n",
      "ROUGE-L Score: 0.09090908595041348\n",
      "Combined ROUGE Score: 6.060605730027565\n",
      "\n",
      "====================================================================================================\n"
     ]
    },
    {
     "name": "stderr",
     "output_type": "stream",
     "text": [
      " 80%|███████▉  | 399/499 [06:00<01:21,  1.22it/s]"
     ]
    },
    {
     "name": "stdout",
     "output_type": "stream",
     "text": [
      "==398==\n",
      "Pred Summary: #Person1#은 선물로 받은 장갑이 작아서 반품하려고 한다. #Person2#는 현금 환불은 불가능하지만 교환은 가능하다고 말한다. #Person1#은 더 비싼 장갑으로 교환하기로 결정한다.\n",
      "\n",
      "Gold Summary: #Person1#은 장갑을 반품하려고 하지만 #Person2#은 교환만 가능하다고 말합니다. #Person1#은 더 비싼 장갑을 선택하고 추가 비용을 지불하기로 합니다.\n",
      "\n",
      "ROUGE-1 Score: 0.2941176421280277\n",
      "ROUGE-2 Score: 0.11428570932244919\n",
      "ROUGE-L Score: 0.2941176421280277\n",
      "Combined ROUGE Score: 23.417366452616818\n",
      "\n",
      "====================================================================================================\n"
     ]
    },
    {
     "name": "stderr",
     "output_type": "stream",
     "text": [
      " 80%|████████  | 400/499 [06:01<01:28,  1.12it/s]"
     ]
    },
    {
     "name": "stdout",
     "output_type": "stream",
     "text": [
      "==399==\n",
      "Pred Summary: #Person1#은 자동차 수리 과정을 가르치며, 16세부터 성인까지 참여 가능하다. 이 프로그램은 고등학교 캠퍼스에 위치하며, 직업 교육으로 특정 기술을 가르친다. #Person2#는 이 수업이 실제 세상과 더 비슷하다고 생각하며, #Person1#은 학생들이 자신의 차를 수리할 수 있을 것이라고 믿는다.\n",
      "\n",
      "Gold Summary: #Person1#은 자동차 수리 과정에 대해 #Person2#에게 소개하고 작업 날에 무엇을 하는지 알려줍니다. #Person2#는 관심이 있어 이 과정에 등록할 것입니다.\n",
      "\n",
      "ROUGE-1 Score: 0.1923076877810652\n",
      "ROUGE-2 Score: 0.07547169362762575\n",
      "ROUGE-L Score: 0.1923076877810652\n",
      "Combined ROUGE Score: 15.336235639658538\n",
      "\n",
      "====================================================================================================\n"
     ]
    },
    {
     "name": "stderr",
     "output_type": "stream",
     "text": [
      " 80%|████████  | 401/499 [06:02<01:21,  1.20it/s]"
     ]
    },
    {
     "name": "stdout",
     "output_type": "stream",
     "text": [
      "==400==\n",
      "Pred Summary: #Person1#은 회계 시스템을 업그레이드하기 위해 12시간 동안 오프라인으로 전환할 예정입니다. #Person2#는 48시간을 여유롭게 잡아두었습니다.\n",
      "\n",
      "Gold Summary: #Person1#은 업그레이드를 위해 회계 시스템을 오프라인으로 전환해야 한다고 #Person2#에게 알립니다. #Person2#는 오프라인 시간을 묻고 동의합니다.\n",
      "\n",
      "ROUGE-1 Score: 0.41379309845422124\n",
      "ROUGE-2 Score: 0.07407406908093313\n",
      "ROUGE-L Score: 0.3448275812128419\n",
      "Combined ROUGE Score: 27.75649162493321\n",
      "\n",
      "====================================================================================================\n"
     ]
    },
    {
     "name": "stderr",
     "output_type": "stream",
     "text": [
      " 81%|████████  | 402/499 [06:03<01:25,  1.13it/s]"
     ]
    },
    {
     "name": "stdout",
     "output_type": "stream",
     "text": [
      "==401==\n",
      "Pred Summary: #Person1#은 만료된 처방전으로 약을 재처방해 달라고 요청하지만, #Person2#는 법적인 제약으로 인해 거절한다. #Person1#은 긴급한 상황이라고 주장하지만, #Person2#는 적절한 처방전이 있어야만 약을 판매할 수 있다고 설명한다.\n",
      "\n",
      "Gold Summary: #Person1#은 처방전을 재처방 받고자 #Person2#에게 요청하지만, 이미 두 번 재처방 받았기 때문에 #Person2#는 거절합니다. #Person1#은 긴급 상황이라고 주장합니다. #Person2#는 유효한 처방전 없이 약을 판매하는 것은 불법이라며 #Person1#에게 다른 의사를 찾아보라고 제안합니다. #Person1#은 새로운 의사를 찾는 것이 비용이 많이 들 것이라며 이것이 말도 안 된다고 생각하며, 대만에서는 약을 얻는 것이 훨씬 쉽다고 말합니다.\n",
      "\n",
      "ROUGE-1 Score: 0.1492537269325018\n",
      "ROUGE-2 Score: 0.0\n",
      "ROUGE-L Score: 0.1492537269325018\n",
      "Combined ROUGE Score: 9.950248462166787\n",
      "\n",
      "====================================================================================================\n"
     ]
    },
    {
     "name": "stderr",
     "output_type": "stream",
     "text": [
      " 81%|████████  | 403/499 [06:04<01:18,  1.22it/s]"
     ]
    },
    {
     "name": "stdout",
     "output_type": "stream",
     "text": [
      "==402==\n",
      "Pred Summary: #Person2#는 좋은 엄마이자 성공적인 커리어 우먼입니다. 그녀는 자신에게 친절하고, 남편의 이해와 지원을 받아 두 가지를 균형 있게 유지합니다.\n",
      "\n",
      "Gold Summary: #Person2#는 #Person2#에게 어떻게 좋은 엄마이자 성공적인 커리어 우먼이 될 수 있는지 공유합니다.\n",
      "\n",
      "ROUGE-1 Score: 0.3333333285333334\n",
      "ROUGE-2 Score: 0.2142857095153062\n",
      "ROUGE-L Score: 0.3333333285333334\n",
      "Combined ROUGE Score: 29.36507888606577\n",
      "\n",
      "====================================================================================================\n"
     ]
    },
    {
     "name": "stderr",
     "output_type": "stream",
     "text": [
      " 81%|████████  | 404/499 [06:04<01:19,  1.19it/s]"
     ]
    },
    {
     "name": "stdout",
     "output_type": "stream",
     "text": [
      "==403==\n",
      "Pred Summary: #Person2#는 기계공학과에서 공부하고 CAB 회사에서 4년 동안 일한 경력이 있는 고급 기계 설계 엔지니어입니다. 그들은 원본 자격증을 가지고 있으며, 리무진의 속도를 향상시키는 가솔린 엔진을 설계했습니다.\n",
      "\n",
      "Gold Summary: #Person1#이 #Person2#를 인터뷰하고, 자격, 기술적 직위, 원본 자격증, 그리고 #Person2#의 설계 중 하나에 대해 제공받았습니다.\n",
      "\n",
      "ROUGE-1 Score: 0.09999999531250023\n",
      "ROUGE-2 Score: 0.0\n",
      "ROUGE-L Score: 0.09999999531250023\n",
      "Combined ROUGE Score: 6.666666354166682\n",
      "\n",
      "====================================================================================================\n"
     ]
    },
    {
     "name": "stderr",
     "output_type": "stream",
     "text": [
      " 81%|████████  | 405/499 [06:05<01:22,  1.14it/s]"
     ]
    },
    {
     "name": "stdout",
     "output_type": "stream",
     "text": [
      "==404==\n",
      "Pred Summary: #Person1#은 택시를 멈추고 기차역으로 가달라고 요청한다. #Person2#는 약 20분 정도 걸릴 것이라고 말하지만, 출퇴근 시간이라 길이 막힐 수 있다고 경고한다. #Person1#은 서두르지 않으므로 천천히 조심해서 운전해 달라고 요청한다.\n",
      "\n",
      "Gold Summary: #Person1#은 #Person2#의 택시를 타고 기차역으로 갑니다. #Person1#은 서두르지 않으므로, #Person2#는 천천히 조심해서 운전할 것입니다.\n",
      "\n",
      "ROUGE-1 Score: 0.35897435452991455\n",
      "ROUGE-2 Score: 0.0999999956125002\n",
      "ROUGE-L Score: 0.35897435452991455\n",
      "Combined ROUGE Score: 27.264956822410973\n",
      "\n",
      "====================================================================================================\n"
     ]
    },
    {
     "name": "stderr",
     "output_type": "stream",
     "text": [
      " 81%|████████▏ | 406/499 [06:07<01:29,  1.04it/s]"
     ]
    },
    {
     "name": "stdout",
     "output_type": "stream",
     "text": [
      "==405==\n",
      "Pred Summary: #Person1#은 빨간 블라우스를 사고 싶어하고 이미 파란색 블라우스를 가지고 있다. #Person2#는 여자들이 다양한 색깔의 블라우스를 필요로 하는 것을 이해하지 못한다.\n",
      "\n",
      "Gold Summary: #Person1#은 파란색 블라우스가 있음에도 불구하고 빨간 블라우스를 사고 싶어한다.\n",
      "\n",
      "ROUGE-1 Score: 0.370370365925926\n",
      "ROUGE-2 Score: 0.14814814397805223\n",
      "ROUGE-L Score: 0.2962962918518519\n",
      "Combined ROUGE Score: 27.160493391861003\n",
      "\n",
      "====================================================================================================\n"
     ]
    },
    {
     "name": "stderr",
     "output_type": "stream",
     "text": [
      " 82%|████████▏ | 407/499 [06:07<01:23,  1.11it/s]"
     ]
    },
    {
     "name": "stdout",
     "output_type": "stream",
     "text": [
      "==406==\n",
      "Pred Summary: #Person1#과 #Person2#는 취미를 공유합니다. #Person2#는 책 읽기, 골프, 배드민턴, 농담을 좋아하고, #Person1#은 자는 것을 좋아합니다.\n",
      "\n",
      "Gold Summary: #Person1#과 #Person2#는 그들의 취미와 여가 시간의 오락에 대해 이야기합니다.\n",
      "\n",
      "ROUGE-1 Score: 0.1739130387145559\n",
      "ROUGE-2 Score: 0.09090908628099197\n",
      "ROUGE-L Score: 0.1739130387145559\n",
      "Combined ROUGE Score: 14.624505457003458\n",
      "\n",
      "====================================================================================================\n"
     ]
    },
    {
     "name": "stderr",
     "output_type": "stream",
     "text": [
      " 82%|████████▏ | 408/499 [06:09<01:36,  1.06s/it]"
     ]
    },
    {
     "name": "stdout",
     "output_type": "stream",
     "text": [
      "==407==\n",
      "Pred Summary: #Person1#과 #Person2#는 베이징에 가는 것에 대해 이야기합니다. #Person1#은 출장으로 가고, #Person2#는 휴가로 갑니다. #Person1#은 지하철을 제외하고 베이징을 즐겼다고 말합니다. #Person2#는 버스를 타거나 차를 빌리는 것을 제안합니다.\n",
      "\n",
      "Gold Summary: #Person1#과 #Person2#는 베이징에 가고 있습니다. #Person1#은 지난 베이징 여행을 회상하며, 전통 문화와 베이징의 활력을 즐겼지만 지하철은 그렇지 않았다고 말합니다.\n",
      "\n",
      "ROUGE-1 Score: 0.23809523314058967\n",
      "ROUGE-2 Score: 0.0930232509464578\n",
      "ROUGE-L Score: 0.23809523314058967\n",
      "Combined ROUGE Score: 18.973790574254572\n",
      "\n",
      "====================================================================================================\n"
     ]
    },
    {
     "name": "stderr",
     "output_type": "stream",
     "text": [
      " 82%|████████▏ | 409/499 [06:10<01:43,  1.15s/it]"
     ]
    },
    {
     "name": "stdout",
     "output_type": "stream",
     "text": [
      "==408==\n",
      "Pred Summary: #Person1#과 #Person2#는 #Person2#의 최근 데이트에 대해 이야기하고 있다. #Person2#는 그 남자를 잘생기고 키가 크며, 30대 초반이고, 아름다운 짙은 갈색 눈을 가지고 있다고 설명한다. #Person2#는 그 남자의 이름이 데이비드이고, Fortune Bank에서 주니어 투자 은행원으로 일하고 있다고 밝힌다. #Person1#은 그 남자가 자신의 형제라는 것을 알게 된다.\n",
      "\n",
      "Gold Summary: 아이린이 #Person1#에게 그녀의 데이트 파트너 데이비드의 외모, 키, 몸무게, 나이, 직업에 대해 이야기한다. #Person1#은 데이비드가 #Person1#의 형임을 알게 된다.\n",
      "\n",
      "ROUGE-1 Score: 0.1379310300772891\n",
      "ROUGE-2 Score: 0.03333332913333387\n",
      "ROUGE-L Score: 0.1379310300772891\n",
      "Combined ROUGE Score: 10.306512976263736\n",
      "\n",
      "====================================================================================================\n"
     ]
    },
    {
     "name": "stderr",
     "output_type": "stream",
     "text": [
      " 82%|████████▏ | 410/499 [06:11<01:35,  1.07s/it]"
     ]
    },
    {
     "name": "stdout",
     "output_type": "stream",
     "text": [
      "==409==\n",
      "Pred Summary: #Person1#과 #Person2#는 쇼 비즈니스 스타들의 삶에 대해 의견이 다르다. #Person1#은 그들이 쉬운 삶을 살고 있다고 생각하지만, #Person2#는 그들이 사생활에 대한 압박을 받는 힘든 삶을 살고 있다고 생각한다.\n",
      "\n",
      "Gold Summary: #Person1#과 #Person2#는 쇼 비즈니스 스타들에 대한 서로 다른 견해를 가지고 있습니다. #Person1#은 그들이 쉬운 삶을 살고 있고, 그들이 더 많은 영화와 사회 활동을 얻기 위해 홍보를 사랑하며, 그들이 과대평가되고, 과도한 야망을 가지고 있고, 과도하게 사랑받고 있다고 생각합니다. 하지만 #Person2#는 쇼 비즈니스 스타들에게 동정심을 보이며 #Person1#이 그들에게 약간의 인정을 해주어야 한다고 생각합니다.\n",
      "\n",
      "ROUGE-1 Score: 0.338461533983432\n",
      "ROUGE-2 Score: 0.19444444000000013\n",
      "ROUGE-L Score: 0.338461533983432\n",
      "Combined ROUGE Score: 29.04558359889547\n",
      "\n",
      "====================================================================================================\n"
     ]
    },
    {
     "name": "stderr",
     "output_type": "stream",
     "text": [
      " 82%|████████▏ | 411/499 [06:12<01:35,  1.08s/it]"
     ]
    },
    {
     "name": "stdout",
     "output_type": "stream",
     "text": [
      "==410==\n",
      "Pred Summary: #Person1#과 #Person2#는 금요일 밤에 파티에 가기로 결정했다. 그들은 라틴 클럽에 가서 브라질 밴드의 음악을 듣고 라틴 댄스를 배우기로 했다.\n",
      "\n",
      "Gold Summary: #Person1#과 #Person2#는 금요일 밤에 어디로 갈지에 대해 논의한다. #Person1#는 춤추는 것과 새로운 바를 좋아하지만 #Person2#는 라틴 클럽에 가고 싶어한다. 그들은 모두 메리사의 컨트리 록을 싫어하고 라틴 클럽에 가기로 합의한다. #Person1#는 #Person2#에게 삼바, 탱고, 그리고 스페인어를 가르치길 원한다.\n",
      "\n",
      "ROUGE-1 Score: 0.3137254856286044\n",
      "ROUGE-2 Score: 0.15094339174083315\n",
      "ROUGE-L Score: 0.3137254856286044\n",
      "Combined ROUGE Score: 25.9464787666014\n",
      "\n",
      "====================================================================================================\n"
     ]
    },
    {
     "name": "stderr",
     "output_type": "stream",
     "text": [
      " 83%|████████▎ | 412/499 [06:13<01:23,  1.04it/s]"
     ]
    },
    {
     "name": "stdout",
     "output_type": "stream",
     "text": [
      "==411==\n",
      "Pred Summary: #Person1#은 부모님과 두 주 전에 이야기했으며, 휴일이 끝나면 집에 가려고 합니다. 그들은 엄마와 아빠의 특성을 모두 가지고 있습니다.\n",
      "\n",
      "Gold Summary: #Person1#은 #Person2#에게 #Person1#의 부모님의 특성에 대해 이야기합니다. #Person2#는 #Person1#이 언제 부모님을 만날 것인지 물었고, #Person1#은 그 시간이 #Person1#의 형의 일정에 따라 달라질 것이라고 생각합니다. #Person1#은 #Person2#에게 #Person1#이 엄마를 더 닮았다고 말합니다.\n",
      "\n",
      "ROUGE-1 Score: 0.04545454061983523\n",
      "ROUGE-2 Score: 0.0\n",
      "ROUGE-L Score: 0.04545454061983523\n",
      "Combined ROUGE Score: 3.0303027079890157\n",
      "\n",
      "====================================================================================================\n"
     ]
    },
    {
     "name": "stderr",
     "output_type": "stream",
     "text": [
      " 83%|████████▎ | 413/499 [06:14<01:27,  1.02s/it]"
     ]
    },
    {
     "name": "stdout",
     "output_type": "stream",
     "text": [
      "==412==\n",
      "Pred Summary: #Person1#과 #Person2#는 농구 경기를 관람하며, 불스가 이기고 있다고 이야기한다. 그들은 심판의 판정에 대해 논쟁하며, #Person1#은 심판이 파울을 놓쳤다고 주장하고, #Person2#는 심판을 옹호한다. #Person1#은 첫 번째 쿼터가 끝난 후 맥주를 사러 가기로 결정한다.\n",
      "\n",
      "Gold Summary: #Person1#와 #Person2#는 경기를 보고 있고 심판에 대해 불만을 가지고 있습니다.\n",
      "\n",
      "ROUGE-1 Score: 0.14999999625000007\n",
      "ROUGE-2 Score: 0.0\n",
      "ROUGE-L Score: 0.14999999625000007\n",
      "Combined ROUGE Score: 9.999999750000004\n",
      "\n",
      "====================================================================================================\n"
     ]
    },
    {
     "name": "stderr",
     "output_type": "stream",
     "text": [
      " 83%|████████▎ | 414/499 [06:15<01:22,  1.02it/s]"
     ]
    },
    {
     "name": "stdout",
     "output_type": "stream",
     "text": [
      "==413==\n",
      "Pred Summary: #Person1#은 #Person2#에게 ATM 카드 사용법을 배우고, PIN 번호를 입력하고 원하는 서비스를 선택하는 방법을 배웠다. #Person1#은 은행 직원과 거래하는 것보다 ATM을 사용하는 것이 더 빠르다고 생각했다.\n",
      "\n",
      "Gold Summary: 빌리가 할아버지에게 ATM 카드 사용법을 가르칩니다. 할아버지는 이 기계들을 사용하는 것이 어렵지 않다고 생각하며, 은행 직원과 거래하는 것보다 더 빠르다고 생각합니다.\n",
      "\n",
      "ROUGE-1 Score: 0.4888888839111111\n",
      "ROUGE-2 Score: 0.3181818132231406\n",
      "ROUGE-L Score: 0.3999999950222222\n",
      "Combined ROUGE Score: 40.235689738549134\n",
      "\n",
      "====================================================================================================\n"
     ]
    },
    {
     "name": "stderr",
     "output_type": "stream",
     "text": [
      " 83%|████████▎ | 415/499 [06:15<01:11,  1.18it/s]"
     ]
    },
    {
     "name": "stdout",
     "output_type": "stream",
     "text": [
      "==414==\n",
      "Pred Summary: #Person1#은 버스를 타고 있으며, 대통령 교체와 기름값 하락을 기다리고 있다.\n",
      "\n",
      "Gold Summary: #Person1#와 #Person2#는 버스에서 대화를 나누고 있습니다. #Person1#는 대통령과 기름값 때문에 자신의 차를 운전하지 않습니다.\n",
      "\n",
      "ROUGE-1 Score: 0.08333332847222251\n",
      "ROUGE-2 Score: 0.0\n",
      "ROUGE-L Score: 0.08333332847222251\n",
      "Combined ROUGE Score: 5.555555231481501\n",
      "\n",
      "====================================================================================================\n"
     ]
    },
    {
     "name": "stderr",
     "output_type": "stream",
     "text": [
      " 83%|████████▎ | 416/499 [06:16<01:02,  1.33it/s]"
     ]
    },
    {
     "name": "stdout",
     "output_type": "stream",
     "text": [
      "==415==\n",
      "Pred Summary: #Person2#는 토마토 소스에 구운 생선과 두 개의 애플 파이를 주문했다.\n",
      "\n",
      "Gold Summary: #Person1#은(는) #Person2#가 토마토 소스에 구운 생선과 두 개의 애플 파이를 주문하는 것을 도와줍니다.\n",
      "\n",
      "ROUGE-1 Score: 0.6956521689981097\n",
      "ROUGE-2 Score: 0.6666666617687076\n",
      "ROUGE-L Score: 0.6956521689981097\n",
      "Combined ROUGE Score: 68.59903332549756\n",
      "\n",
      "====================================================================================================\n"
     ]
    },
    {
     "name": "stderr",
     "output_type": "stream",
     "text": [
      " 84%|████████▎ | 417/499 [06:17<01:00,  1.36it/s]"
     ]
    },
    {
     "name": "stdout",
     "output_type": "stream",
     "text": [
      "==416==\n",
      "Pred Summary: #Person1#은 #Person2#에게 Sharp DS102 DVD 플레이어가 이미 다 팔렸지만, 약 2주 후에 다시 입고될 것이라고 알렸다.\n",
      "\n",
      "Gold Summary: #Person2#는 DVD 플레이어를 찾고 있지만, #Person1#은 약 두 주 동안 재고가 없다고 말합니다.\n",
      "\n",
      "ROUGE-1 Score: 0.20689654677764577\n",
      "ROUGE-2 Score: 0.0\n",
      "ROUGE-L Score: 0.13793102953626654\n",
      "Combined ROUGE Score: 11.494252543797078\n",
      "\n",
      "====================================================================================================\n"
     ]
    },
    {
     "name": "stderr",
     "output_type": "stream",
     "text": [
      " 84%|████████▍ | 418/499 [06:17<01:02,  1.29it/s]"
     ]
    },
    {
     "name": "stdout",
     "output_type": "stream",
     "text": [
      "==417==\n",
      "Pred Summary: #Person1#은 총액이 $36.78이라고 알렸다. #Person2#는 VISA 카드로 결제하려고 했지만 카드가 거절되었다. 현금도 없어서 #Person2#는 다음 날 다시 방문하기로 결정했다.\n",
      "\n",
      "Gold Summary: #Person2#님이 VISA로 결제하려 했지만 #Person2#님의 카드가 거절되었습니다. #Person1#님은 내일 다시 올 예정입니다.\n",
      "\n",
      "ROUGE-1 Score: 0.19354838235171706\n",
      "ROUGE-2 Score: 0.0\n",
      "ROUGE-L Score: 0.19354838235171706\n",
      "Combined ROUGE Score: 12.90322549011447\n",
      "\n",
      "====================================================================================================\n"
     ]
    },
    {
     "name": "stderr",
     "output_type": "stream",
     "text": [
      " 84%|████████▍ | 419/499 [06:18<01:08,  1.17it/s]"
     ]
    },
    {
     "name": "stdout",
     "output_type": "stream",
     "text": [
      "==418==\n",
      "Pred Summary: #Person1#은 #Person2#에게 다양한 정기구독을 판매하려고 시도한다. #Person2#는 처음에는 관심이 없지만, #Person1#이 요리 잡지에 대해 언급하자 관심을 갖게 된다. #Person2#는 두 가지 요리 잡지와 애완동물 소유자를 위한 주간 뉴스레터를 구독하기로 결정한다.\n",
      "\n",
      "Gold Summary: #Person2#는 처음에는 바쁘고 관심이 없어서 마이크의 잡지 구독을 거절하지만, 마이크의 추천 후에 두 가지 요리 잡지와 애완동물에 대한 잡지를 구독하기로 합니다.\n",
      "\n",
      "ROUGE-1 Score: 0.33333332847222225\n",
      "ROUGE-2 Score: 0.16326530129112884\n",
      "ROUGE-L Score: 0.33333332847222225\n",
      "Combined ROUGE Score: 27.66439860785244\n",
      "\n",
      "====================================================================================================\n"
     ]
    },
    {
     "name": "stderr",
     "output_type": "stream",
     "text": [
      " 84%|████████▍ | 420/499 [06:20<01:12,  1.09it/s]"
     ]
    },
    {
     "name": "stdout",
     "output_type": "stream",
     "text": [
      "==419==\n",
      "Pred Summary: #Person1#은 중국에서 미국으로 왔을 때 쇼핑몰의 크기에 놀랐고, 그 후 벼룩시장에서 싸게 물건을 사기 시작했다. #Person2#는 미국인들이 이사할 때 '야드 세일'을 열어 불필요한 물건을 판다고 설명하며, #Person1#은 새 아파트에 필요한 많은 물건들을 얻었을 것이라고 말한다.\n",
      "\n",
      "Gold Summary: #Person1#은 #Person2#에게 중국과 미국의 쇼핑몰 사이의 차이점을 표현합니다. #Person2#는 미국인들이 이사할 때 아직 새롭고 유용한 물건들을 팔는 습관이 있다고 말하고, 이것이 중국의 야드 세일과 비슷하다고 생각합니다.\n",
      "\n",
      "ROUGE-1 Score: 0.20689654677764577\n",
      "ROUGE-2 Score: 0.1016949103705834\n",
      "ROUGE-L Score: 0.20689654677764577\n",
      "Combined ROUGE Score: 17.18293346419583\n",
      "\n",
      "====================================================================================================\n"
     ]
    },
    {
     "name": "stderr",
     "output_type": "stream",
     "text": [
      " 84%|████████▍ | 421/499 [06:21<01:21,  1.04s/it]"
     ]
    },
    {
     "name": "stdout",
     "output_type": "stream",
     "text": [
      "==420==\n",
      "Pred Summary: #Person1#과 #Person2#는 룸메이트들이 밤에 한국 드라마를 보는 것에 대해 이야기합니다. #Person2#는 잠을 잘 못 자고, 룸메이트들의 감정을 상하게 하지 않고 그만하라고 말하는 방법을 모릅니다. #Person1#은 #Person2#에게 자신의 의견을 말하거나 조용한 시간에 대한 합의를 만들라고 조언합니다. 그들은 개인적인 공간과 대인 관계 기술의 중요성에 대해 이야기합니다.\n",
      "\n",
      "Gold Summary: #Person2#는 밤 늦게 룸메이트들에게 방해받고 있고, 그들에게 공손하게 그만두라고 어떻게 말해야 할지 모른다. #Person1#은 #Person2#에게 그들에게 말하거나 조용히 지내기 위한 합의를 만들 것을 조언한다. 그들은 개인 방을 가지고 방을 공유하는 것이 각각 다른 장점이 있다고 생각한다.\n",
      "\n",
      "ROUGE-1 Score: 0.15999999504355572\n",
      "ROUGE-2 Score: 0.025974021015349236\n",
      "ROUGE-L Score: 0.15999999504355572\n",
      "Combined ROUGE Score: 11.53246703674869\n",
      "\n",
      "====================================================================================================\n"
     ]
    },
    {
     "name": "stderr",
     "output_type": "stream",
     "text": [
      " 85%|████████▍ | 422/499 [06:22<01:18,  1.02s/it]"
     ]
    },
    {
     "name": "stdout",
     "output_type": "stream",
     "text": [
      "==421==\n",
      "Pred Summary: #Person1#과 #Person2#는 다가오는 선거에 대해 이야기하고 있다. #Person2#는 가장 똑똑하고 모든 정책에 동의하는 후보에게 투표할 계획이다.\n",
      "\n",
      "Gold Summary: #Person2#는 #Person1#에게 자신이 후보의 지능과 정책 때문에 투표하고 싶다고 말합니다.\n",
      "\n",
      "ROUGE-1 Score: 0.07999999520000028\n",
      "ROUGE-2 Score: 0.0\n",
      "ROUGE-L Score: 0.07999999520000028\n",
      "Combined ROUGE Score: 5.333333013333352\n",
      "\n",
      "====================================================================================================\n"
     ]
    },
    {
     "name": "stderr",
     "output_type": "stream",
     "text": [
      " 85%|████████▍ | 423/499 [06:23<01:16,  1.01s/it]"
     ]
    },
    {
     "name": "stdout",
     "output_type": "stream",
     "text": [
      "==422==\n",
      "Pred Summary: #Person1#은 딸을 위해 맥북 프로를 구매하고, #Person2#는 15인치 프로를 $2,100에 추천한다. #Person1#은 VISA로 결제하고, 추가 액세서리가 필요한 경우 다시 방문할 것을 제안한다.\n",
      "\n",
      "Gold Summary: #Person1#은 #Person2#에게 #Person2#의 딸을 위해 맥을 사는 것을 추천합니다. #Person2#은 VISA로 맥을 구매합니다. #Person2#의 딸이 액세서리가 필요하면 다시 오라고 #Person1#이 #Person2#에게 말합니다.\n",
      "\n",
      "ROUGE-1 Score: 0.3589743539776463\n",
      "ROUGE-2 Score: 0.04761904261904814\n",
      "ROUGE-L Score: 0.3589743539776463\n",
      "Combined ROUGE Score: 25.518925019144696\n",
      "\n",
      "====================================================================================================\n"
     ]
    },
    {
     "name": "stderr",
     "output_type": "stream",
     "text": [
      " 85%|████████▍ | 424/499 [06:24<01:13,  1.02it/s]"
     ]
    },
    {
     "name": "stdout",
     "output_type": "stream",
     "text": [
      "==423==\n",
      "Pred Summary: #Person1#과 #Person2#는 냅킨을 다루는 적절한 방법에 대해 이야기합니다. 일반적으로 냅킨은 자리에 앉자마자 무릎 위에 올려놓지만, 공식적인 저녁 식사에서는 주인장이 먼저 냅킨을 무릎 위에 올려놓을 때까지 기다립니다.\n",
      "\n",
      "Gold Summary: #Person1#은 #Person2#에게 다양한 저녁 식사에서 냅킨을 어떻게 다루는지 물어봅니다.\n",
      "\n",
      "ROUGE-1 Score: 0.12499999595703139\n",
      "ROUGE-2 Score: 0.0\n",
      "ROUGE-L Score: 0.12499999595703139\n",
      "Combined ROUGE Score: 8.333333063802092\n",
      "\n",
      "====================================================================================================\n"
     ]
    },
    {
     "name": "stderr",
     "output_type": "stream",
     "text": [
      " 85%|████████▌ | 425/499 [06:24<01:05,  1.14it/s]"
     ]
    },
    {
     "name": "stdout",
     "output_type": "stream",
     "text": [
      "==424==\n",
      "Pred Summary: #Person1#은 스키와 부츠를 빌리고 스키 강사를 요청합니다. #Person2#는 강사를 찾아주기로 합니다.\n",
      "\n",
      "Gold Summary: #Person2#는 #Person1#이 스키와 부츠를 빌리고 강사를 찾는 것을 도와주고 있습니다.\n",
      "\n",
      "ROUGE-1 Score: 0.4999999950000001\n",
      "ROUGE-2 Score: 0.21052631080332423\n",
      "ROUGE-L Score: 0.4999999950000001\n",
      "Combined ROUGE Score: 40.35087669344415\n",
      "\n",
      "====================================================================================================\n"
     ]
    },
    {
     "name": "stderr",
     "output_type": "stream",
     "text": [
      " 85%|████████▌ | 426/499 [06:25<00:58,  1.25it/s]"
     ]
    },
    {
     "name": "stdout",
     "output_type": "stream",
     "text": [
      "==425==\n",
      "Pred Summary: #Person1#과 #Person2#는 쇼핑 지구에 있으며, 백화점, 남성복 매장, 극장, 호텔, 그리고 우체국이 있다.\n",
      "\n",
      "Gold Summary: #Person2#는 백화점, 은행 건물 옆의 옷가게, 새로운 연극이 있는 극장, 호텔, 그리고 우체국을 소개합니다.\n",
      "\n",
      "ROUGE-1 Score: 0.3703703653772291\n",
      "ROUGE-2 Score: 0.15999999500800016\n",
      "ROUGE-L Score: 0.3703703653772291\n",
      "Combined ROUGE Score: 30.02469085874861\n",
      "\n",
      "====================================================================================================\n"
     ]
    },
    {
     "name": "stderr",
     "output_type": "stream",
     "text": [
      " 86%|████████▌ | 427/499 [06:26<01:02,  1.16it/s]"
     ]
    },
    {
     "name": "stdout",
     "output_type": "stream",
     "text": [
      "==426==\n",
      "Pred Summary: #Person1#과 #Person2#는 서비스가 느려서 수업에 늦을 걱정을 하고 있다. 그들은 여름학교에 대해 이야기하며, 수업이 작았으면 좋겠다는 바람을 가지고 있지만, 선생님들이 친절하고 차분하다는 것에 동의한다. 그들은 웨이터가 주문을 받기를 기다리고 있다.\n",
      "\n",
      "Gold Summary: #Person1#과 #Person2#는 주문을 기다리고 있습니다. 그들은 여름학교의 학생으로 서로를 소개하고, 그들이 어디서 왔는지, 그리고 여름학교에서의 경험에 대해 이야기합니다.\n",
      "\n",
      "ROUGE-1 Score: 0.26086956045368626\n",
      "ROUGE-2 Score: 0.04347825620983037\n",
      "ROUGE-L Score: 0.26086956045368626\n",
      "Combined ROUGE Score: 18.840579237240096\n",
      "\n",
      "====================================================================================================\n"
     ]
    },
    {
     "name": "stderr",
     "output_type": "stream",
     "text": [
      " 86%|████████▌ | 428/499 [06:27<00:59,  1.18it/s]"
     ]
    },
    {
     "name": "stdout",
     "output_type": "stream",
     "text": [
      "==427==\n",
      "Pred Summary: #Person2#는 새로운 직장에서 급여 인상, 짧은 통근 시간, 그리고 업무 기술을 향상시키는 교육 프로그램을 좋아합니다. 교육 프로그램은 근무 시간에 진행되며, 일상적인 업무를 더 빠르고 효과적으로 수행할 수 있도록 도와줍니다.\n",
      "\n",
      "Gold Summary: #Person2#는 새로운 직장에서 가장 좋은 부분이 교육 프로그램이라고 #Person1#에게 말했습니다. #Person1#는 #Person1#의 회사도 그렇게 했으면 좋겠다고 희망했습니다. #Person2#는 장기적으로 보면 좋은 일이라고 생각합니다.\n",
      "\n",
      "ROUGE-1 Score: 0.16326530122448993\n",
      "ROUGE-2 Score: 0.0799999950720003\n",
      "ROUGE-L Score: 0.16326530122448993\n",
      "Combined ROUGE Score: 13.551019917366006\n",
      "\n",
      "====================================================================================================\n"
     ]
    },
    {
     "name": "stderr",
     "output_type": "stream",
     "text": [
      " 86%|████████▌ | 429/499 [06:28<01:00,  1.16it/s]"
     ]
    },
    {
     "name": "stdout",
     "output_type": "stream",
     "text": [
      "==428==\n",
      "Pred Summary: #Person1#과 #Person2#는 시내 광장을 놀이공원으로 바꾸는 것에 대해 의견이 다르다. #Person1#은 광장을 좋아하고 조용한 장소를 잃고 싶지 않지만, #Person2#는 놀이공원이 가져올 고용 기회를 중요시한다.\n",
      "\n",
      "Gold Summary: 쟈니는 웬디에게 시내 광장이 놀이공원으로 바뀔 것이라고 말한다. 쟈니는 도시의 상징과 조용한 산책로를 잃게 될 것이라고 생각하지만, 웬디는 공원이 더 많은 수입과 일자리를 만들어낼 것이라고 생각한다.\n",
      "\n",
      "ROUGE-1 Score: 0.13333332833580264\n",
      "ROUGE-2 Score: 0.0\n",
      "ROUGE-L Score: 0.13333332833580264\n",
      "Combined ROUGE Score: 8.888888555720175\n",
      "\n",
      "====================================================================================================\n"
     ]
    },
    {
     "name": "stderr",
     "output_type": "stream",
     "text": [
      " 86%|████████▌ | 430/499 [06:29<00:59,  1.16it/s]"
     ]
    },
    {
     "name": "stdout",
     "output_type": "stream",
     "text": [
      "==429==\n",
      "Pred Summary: #Person1#은 간식을 원하지만, #Person2#는 저녁 시간이 다가오고 있기 때문에 기다리라고 제안한다. #Person1#은 시금치 샌드위치를 제안하고, #Person2#는 동의한다.\n",
      "\n",
      "Gold Summary: 미키는 저녁 전에 간식으로 사탕을 달라고 아빠에게 부탁하지만, 아빠는 거절한다. 결국 작은 샌드위치를 먹기로 합의한다.\n",
      "\n",
      "ROUGE-1 Score: 0.13333332833333353\n",
      "ROUGE-2 Score: 0.0\n",
      "ROUGE-L Score: 0.13333332833333353\n",
      "Combined ROUGE Score: 8.88888855555557\n",
      "\n",
      "====================================================================================================\n"
     ]
    },
    {
     "name": "stderr",
     "output_type": "stream",
     "text": [
      " 86%|████████▋ | 431/499 [06:29<00:53,  1.26it/s]"
     ]
    },
    {
     "name": "stdout",
     "output_type": "stream",
     "text": [
      "==430==\n",
      "Pred Summary: #Person1#과 #Person2#는 6시간 지연된 비행기를 기다리기 위해 터미널에서 좌석을 찾아 낮잠을 자기로 결정했다.\n",
      "\n",
      "Gold Summary: #Person1#은 #Person2#에게 비행기가 지연되었다고 알리고 낮잠을 자는 것을 제안한다.\n",
      "\n",
      "ROUGE-1 Score: 0.09090908607438043\n",
      "ROUGE-2 Score: 0.0\n",
      "ROUGE-L Score: 0.09090908607438043\n",
      "Combined ROUGE Score: 6.060605738292029\n",
      "\n",
      "====================================================================================================\n"
     ]
    },
    {
     "name": "stderr",
     "output_type": "stream",
     "text": [
      " 87%|████████▋ | 432/499 [06:30<00:52,  1.27it/s]"
     ]
    },
    {
     "name": "stdout",
     "output_type": "stream",
     "text": [
      "==431==\n",
      "Pred Summary: #Person2#는 가게에서 #Person1#의 도움을 받아 32 사이즈의 초록색 드레스를 구매했다. 드레스는 세일 중이었고 가격은 $20이었다.\n",
      "\n",
      "Gold Summary: #Person1#은 #Person2#에게 드레스를 추천합니다. #Person2#는 그것을 입어보고 구매합니다.\n",
      "\n",
      "ROUGE-1 Score: 0.173913038941399\n",
      "ROUGE-2 Score: 0.0\n",
      "ROUGE-L Score: 0.173913038941399\n",
      "Combined ROUGE Score: 11.594202596093266\n",
      "\n",
      "====================================================================================================\n"
     ]
    },
    {
     "name": "stderr",
     "output_type": "stream",
     "text": [
      " 87%|████████▋ | 433/499 [06:31<00:50,  1.31it/s]"
     ]
    },
    {
     "name": "stdout",
     "output_type": "stream",
     "text": [
      "==432==\n",
      "Pred Summary: #Person1#은 #Person2#가 찾고 있던 '바람과 함께 사라지다'라는 책을 찾아주었고, #Person2#는 하드커버를 구매하기로 결정했다.\n",
      "\n",
      "Gold Summary: #Person2#는 #Person1#의 도움으로 '바람과 함께 사라지다'의 하드커버를 25달러에 구입했습니다.\n",
      "\n",
      "ROUGE-1 Score: 0.36363635880165296\n",
      "ROUGE-2 Score: 0.09999999520000023\n",
      "ROUGE-L Score: 0.2727272678925621\n",
      "Combined ROUGE Score: 24.54545406314051\n",
      "\n",
      "====================================================================================================\n"
     ]
    },
    {
     "name": "stderr",
     "output_type": "stream",
     "text": [
      " 87%|████████▋ | 434/499 [06:32<00:54,  1.20it/s]"
     ]
    },
    {
     "name": "stdout",
     "output_type": "stream",
     "text": [
      "==433==\n",
      "Pred Summary: #Person1#은 #Person2#에게 시간을 물어보고, #Person2#는 시간을 알려주고 비가 많이 온다고 언급합니다. #Person1#은 급해서 우산을 잊고 왔다고 말하고, #Person2#는 우산을 공유하겠다고 제안합니다. 그들은 함께 가든 호텔로 가기로 합니다.\n",
      "\n",
      "Gold Summary: 비가 많이 오는 날, #Person2#가 #Person1#와 함께 우산을 함께 쓰며 가든 호텔로 가게 됩니다.\n",
      "\n",
      "ROUGE-1 Score: 0.33333332871913585\n",
      "ROUGE-2 Score: 0.10256409811965832\n",
      "ROUGE-L Score: 0.33333332871913585\n",
      "Combined ROUGE Score: 25.641025185264336\n",
      "\n",
      "====================================================================================================\n"
     ]
    },
    {
     "name": "stderr",
     "output_type": "stream",
     "text": [
      " 87%|████████▋ | 435/499 [06:32<00:48,  1.32it/s]"
     ]
    },
    {
     "name": "stdout",
     "output_type": "stream",
     "text": [
      "==434==\n",
      "Pred Summary: #Person1#과 #Person2#는 집을 떠나기 전에 보안 조치를 취하고 이웃에게 집을 지켜달라고 부탁했습니다.\n",
      "\n",
      "Gold Summary: #Person2#는 이웃에게 집을 잘 살펴달라고 말했습니다.\n",
      "\n",
      "ROUGE-1 Score: 0.3529411719031142\n",
      "ROUGE-2 Score: 0.12499999570312517\n",
      "ROUGE-L Score: 0.3529411719031142\n",
      "Combined ROUGE Score: 27.69607798364512\n",
      "\n",
      "====================================================================================================\n"
     ]
    },
    {
     "name": "stderr",
     "output_type": "stream",
     "text": [
      " 87%|████████▋ | 436/499 [06:33<00:44,  1.42it/s]"
     ]
    },
    {
     "name": "stdout",
     "output_type": "stream",
     "text": [
      "==435==\n",
      "Pred Summary: #Person1#과 #Person2#는 #Person2#가 앤과 싸운 후 화해하려고 한다.\n",
      "\n",
      "Gold Summary: 메리는 어제 앤과 싸웠는데, 그 이유는 앤이 그들의 여행을 취소하고 남자친구의 계획에 따르기로 했기 때문이었다. #Person1#은 메리에게 더 이해심을 가져야 한다고 말했다. 메리는 나중에 전화해서 화해할 것이다.\n",
      "\n",
      "ROUGE-1 Score: 0.058823525813149015\n",
      "ROUGE-2 Score: 0.0\n",
      "ROUGE-L Score: 0.058823525813149015\n",
      "Combined ROUGE Score: 3.921568387543268\n",
      "\n",
      "====================================================================================================\n"
     ]
    },
    {
     "name": "stderr",
     "output_type": "stream",
     "text": [
      " 88%|████████▊ | 437/499 [06:33<00:42,  1.45it/s]"
     ]
    },
    {
     "name": "stdout",
     "output_type": "stream",
     "text": [
      "==436==\n",
      "Pred Summary: #Person1#은 #Person2#에게 바람을 피우고 있다는 혐의를 부인하며, #Person2#가 믿어주길 부탁한다.\n",
      "\n",
      "Gold Summary: 제니는 #Person1#이 바람을 피우고 있다고 생각한다. #Person1#은 제니에게 사랑을 고백한다.\n",
      "\n",
      "ROUGE-1 Score: 0.2999999950000001\n",
      "ROUGE-2 Score: 0.11111110611111134\n",
      "ROUGE-L Score: 0.2999999950000001\n",
      "Combined ROUGE Score: 23.703703203703718\n",
      "\n",
      "====================================================================================================\n"
     ]
    },
    {
     "name": "stderr",
     "output_type": "stream",
     "text": [
      " 88%|████████▊ | 438/499 [06:34<00:44,  1.36it/s]"
     ]
    },
    {
     "name": "stdout",
     "output_type": "stream",
     "text": [
      "==437==\n",
      "Pred Summary: #Person1#과 #Person2#는 #Person2#의 새로 입양한 고양이에 대해 이야기하고 있다. 고양이는 3개월 된 작은 크기이며, #Person1#은 그녀가 귀엽다고 생각한다.\n",
      "\n",
      "Gold Summary: 리브는 작은 고양이를 키우고 있고 그녀의 사진을 #Person2#에게 보여준다.\n",
      "\n",
      "ROUGE-1 Score: 0.0740740696296299\n",
      "ROUGE-2 Score: 0.0\n",
      "ROUGE-L Score: 0.0740740696296299\n",
      "Combined ROUGE Score: 4.938271308641993\n",
      "\n",
      "====================================================================================================\n"
     ]
    },
    {
     "name": "stderr",
     "output_type": "stream",
     "text": [
      " 88%|████████▊ | 439/499 [06:35<00:47,  1.27it/s]"
     ]
    },
    {
     "name": "stdout",
     "output_type": "stream",
     "text": [
      "==438==\n",
      "Pred Summary: #Person1#은 재치있게 시계판이 오른쪽으로 기울어진 이유를 설명하며, 오른손잡이인 자신에게 편리하다고 말합니다. #Person2#는 왼손잡이인 자신을 위해 그 시계를 사지 않으려는 #Person1#의 의도를 알아차립니다.\n",
      "\n",
      "Gold Summary: #Person1#은 왼손잡이인 #Person2#가 빌리지 않도록 오른손잡이에게 편리한 시계를 구입한다.\n",
      "\n",
      "ROUGE-1 Score: 0.19354838297606666\n",
      "ROUGE-2 Score: 0.0\n",
      "ROUGE-L Score: 0.19354838297606666\n",
      "Combined ROUGE Score: 12.903225531737778\n",
      "\n",
      "====================================================================================================\n"
     ]
    },
    {
     "name": "stderr",
     "output_type": "stream",
     "text": [
      " 88%|████████▊ | 440/499 [06:36<00:45,  1.29it/s]"
     ]
    },
    {
     "name": "stdout",
     "output_type": "stream",
     "text": [
      "==439==\n",
      "Pred Summary: #Person1#과 #Person2#는 로즈가 남자 아이를 임신하길 바라고 있다. 로즈는 연속으로 세 명의 여자 아이를 낳은 후 시부모님으로부터 압박을 받고 있다.\n",
      "\n",
      "Gold Summary: #Person1#과 #Person2#는 로즈의 임신과 로즈가 구식인 어르신들로부터 받는 압박에 대해 이야기하고 있다.\n",
      "\n",
      "ROUGE-1 Score: 0.2666666618666667\n",
      "ROUGE-2 Score: 0.06666666202222254\n",
      "ROUGE-L Score: 0.2666666618666667\n",
      "Combined ROUGE Score: 19.9999995251852\n",
      "\n",
      "====================================================================================================\n"
     ]
    },
    {
     "name": "stderr",
     "output_type": "stream",
     "text": [
      " 88%|████████▊ | 441/499 [06:37<00:46,  1.24it/s]"
     ]
    },
    {
     "name": "stdout",
     "output_type": "stream",
     "text": [
      "==440==\n",
      "Pred Summary: #Person1#의 친구가 남자친구를 차고, 올바른 남자를 만날 때까지 절제하겠다고 맹세했다. 그녀는 자신감을 되찾고 자존감이 향상되었다. #Person1#은 #Person2#를 다음 주 일요일 저녁에 친구의 저녁 식사에 초대했다.\n",
      "\n",
      "Gold Summary: #Person1#은 #Person2#에게 #Person1#의 친구가 드디어 남자친구를 차버렸다고 말합니다. 그들 둘 다 그녀를 지지하고, 그녀는 그들에게 도움을 준 것에 대한 감사의 표시로 저녁 식사에 초대합니다.\n",
      "\n",
      "ROUGE-1 Score: 0.28571428071636823\n",
      "ROUGE-2 Score: 0.08510637798098716\n",
      "ROUGE-L Score: 0.28571428071636823\n",
      "Combined ROUGE Score: 21.884497980457454\n",
      "\n",
      "====================================================================================================\n"
     ]
    },
    {
     "name": "stderr",
     "output_type": "stream",
     "text": [
      " 89%|████████▊ | 442/499 [06:38<00:53,  1.06it/s]"
     ]
    },
    {
     "name": "stdout",
     "output_type": "stream",
     "text": [
      "==441==\n",
      "Pred Summary: #Person1#은 #Person2#에게 수잔이 위암에 걸렸다고 알렸다. #Person2#는 충격을 받았고, #Person1#은 병원에서 수잔을 만났을 때의 놀라움을 공유했다. #Person3#은 무슨 일이 있었는지 물었고, #Person2#는 방사성 내복약과 다른 약들의 부작용으로 인해 수잔이 머리카락이 다 빠졌다고 설명했다.\n",
      "\n",
      "Gold Summary: #Person1#은 #Person2#에게 수잔이 위암에 걸렸고 그녀의 모든 머리카락이 빠졌다고 말했습니다.\n",
      "\n",
      "ROUGE-1 Score: 0.29999999625\n",
      "ROUGE-2 Score: 0.1463414599881024\n",
      "ROUGE-L Score: 0.29999999625\n",
      "Combined ROUGE Score: 24.878048416270083\n",
      "\n",
      "====================================================================================================\n"
     ]
    },
    {
     "name": "stderr",
     "output_type": "stream",
     "text": [
      " 89%|████████▉ | 443/499 [06:40<01:02,  1.12s/it]"
     ]
    },
    {
     "name": "stdout",
     "output_type": "stream",
     "text": [
      "==442==\n",
      "Pred Summary: #Person1#과 #Person2#는 캠핑 여행 중이다. #Person2#는 팔이 아프지만, #Person1#은 오늘이 쉬울 것이라고 안심시킨다. #Person2#는 오늘이 엄마 생일이라는 것을 기억하고, #Person1#은 그에게 엄마에게 전화하라고 제안한다. 그들은 서로의 생일에 대해 이야기하고, #Person1#은 10시쯤 수영을 제안한다. #Person2#는 #Person1#에게 감사하며, #Person1#은 독립기념일 축하를 전한다.\n",
      "\n",
      "Gold Summary: #Person1#은 #Person2#에게 노 젓기를 하자고 제안하지만 #Person2#는 오늘이 #Person2#의 어머니의 생일이라는 것을 기억합니다. #Person1#은 #Person2#에게 그녀에게 전화를 걸어 생일을 축하하고 #Person2#가 밖에 있다고 말하라고 제안합니다. 그 후에 그들은 각자의 생일에 대해 이야기하고 나중의 일정을 계획합니다.\n",
      "\n",
      "ROUGE-1 Score: 0.2461538411550297\n",
      "ROUGE-2 Score: 0.08333332836805586\n",
      "ROUGE-L Score: 0.2461538411550297\n",
      "Combined ROUGE Score: 19.188033689270508\n",
      "\n",
      "====================================================================================================\n"
     ]
    },
    {
     "name": "stderr",
     "output_type": "stream",
     "text": [
      " 89%|████████▉ | 444/499 [06:40<00:53,  1.02it/s]"
     ]
    },
    {
     "name": "stdout",
     "output_type": "stream",
     "text": [
      "==443==\n",
      "Pred Summary: #Person1#은 계산서를 요청하고 실수를 발견했습니다. #Person2#는 오류를 확인하고 수정하여 총액을 18달러로 정정했습니다.\n",
      "\n",
      "Gold Summary: #Person1#은 #Person1#의 계산서에 오류가 있다고 지적했습니다.\n",
      "\n",
      "ROUGE-1 Score: 0.11111110666666683\n",
      "ROUGE-2 Score: 0.0\n",
      "ROUGE-L Score: 0.11111110666666683\n",
      "Combined ROUGE Score: 7.407407111111122\n",
      "\n",
      "====================================================================================================\n"
     ]
    },
    {
     "name": "stderr",
     "output_type": "stream",
     "text": [
      " 89%|████████▉ | 445/499 [06:41<00:48,  1.12it/s]"
     ]
    },
    {
     "name": "stdout",
     "output_type": "stream",
     "text": [
      "==444==\n",
      "Pred Summary: #Person2#는 감기에 걸려 몸이 아프다. #Person1#은 약을 먹고 쉬라고 조언하며, #Person2#는 병원에 가볼 생각이다.\n",
      "\n",
      "Gold Summary: 메리가 감기에 걸렸다. #Person1#은 메리가 빨리 나아지길 바란다.\n",
      "\n",
      "ROUGE-1 Score: 0.19999999545000013\n",
      "ROUGE-2 Score: 0.0\n",
      "ROUGE-L Score: 0.19999999545000013\n",
      "Combined ROUGE Score: 13.333333030000007\n",
      "\n",
      "====================================================================================================\n"
     ]
    },
    {
     "name": "stderr",
     "output_type": "stream",
     "text": [
      " 89%|████████▉ | 446/499 [06:42<00:48,  1.10it/s]"
     ]
    },
    {
     "name": "stdout",
     "output_type": "stream",
     "text": [
      "==445==\n",
      "Pred Summary: #Person1#은 #Person2#에게 영국인, 스코틀랜드인, 아일랜드인이 사막을 가로지르는 농담을 들려준다. 영국인은 물을 가져왔고, 스코틀랜드인은 지도를 가져왔으며, 아일랜드인은 차 문을 가져왔다.\n",
      "\n",
      "Gold Summary: #Person1#은 #Person2#에게 영국인, 스코틀랜드인, 아일랜드인이 물, 지도, 차 문을 가지고 사막을 가로질러 여행을 가는 재미없는 농담을 들려줍니다.\n",
      "\n",
      "ROUGE-1 Score: 0.4999999950154322\n",
      "ROUGE-2 Score: 0.2941176420761246\n",
      "ROUGE-L Score: 0.4999999950154322\n",
      "Combined ROUGE Score: 43.1372544035663\n",
      "\n",
      "====================================================================================================\n"
     ]
    },
    {
     "name": "stderr",
     "output_type": "stream",
     "text": [
      " 90%|████████▉ | 447/499 [06:43<00:45,  1.13it/s]"
     ]
    },
    {
     "name": "stdout",
     "output_type": "stream",
     "text": [
      "==446==\n",
      "Pred Summary: #Person1#은 오후 3시에 데일 씨를 만나러 공항에 갔으며, 오후 5시 30분쯤 돌아올 예정이다. #Person1#은 다시 전화하여 도착 시간을 확인할 것이다.\n",
      "\n",
      "Gold Summary: #Person1#은 자신에게 전화가 오면 #Person2#에게 메시지를 받아달라고 요청했습니다.\n",
      "\n",
      "ROUGE-1 Score: 0.07692307266272212\n",
      "ROUGE-2 Score: 0.0\n",
      "ROUGE-L Score: 0.07692307266272212\n",
      "Combined ROUGE Score: 5.128204844181475\n",
      "\n",
      "====================================================================================================\n"
     ]
    },
    {
     "name": "stderr",
     "output_type": "stream",
     "text": [
      " 90%|████████▉ | 448/499 [06:44<00:43,  1.17it/s]"
     ]
    },
    {
     "name": "stdout",
     "output_type": "stream",
     "text": [
      "==447==\n",
      "Pred Summary: 앨리스는 교통 체증과 업무로 인해 아담과의 약속에 늦었다. 그들은 영화에 늦었지만 함께 저녁을 먹을 수 있었다. 앨리스는 다음에는 늦지 않을 것을 약속했다.\n",
      "\n",
      "Gold Summary: 앨리스는 버스를 놓치고 교통 체증에 걸려 영화에 늦었다고 아담에게 설명한다. 아담은 그들이 여전히 함께 저녁을 먹을 수 있다고 생각한다.\n",
      "\n",
      "ROUGE-1 Score: 0.34999999501250006\n",
      "ROUGE-2 Score: 0.1538461488757398\n",
      "ROUGE-L Score: 0.34999999501250006\n",
      "Combined ROUGE Score: 28.461537963357998\n",
      "\n",
      "====================================================================================================\n"
     ]
    },
    {
     "name": "stderr",
     "output_type": "stream",
     "text": [
      " 90%|████████▉ | 449/499 [06:44<00:41,  1.22it/s]"
     ]
    },
    {
     "name": "stdout",
     "output_type": "stream",
     "text": [
      "==448==\n",
      "Pred Summary: #Person1#은 #Person2#에게 필기 대신 다른 사람의 노트를 사용하거나 녹음기를 가져와 강의를 녹음하는 것을 제안하여 손의 부담을 덜어주었습니다.\n",
      "\n",
      "Gold Summary: #Person2#는 손이 아파서 필기를 하는데 어려움을 겪고 있다. #Person1#은 #Person2#에게 다른 사람의 노트를 복사하거나 수업을 녹음하는 것을 제안한다.\n",
      "\n",
      "ROUGE-1 Score: 0.3999999950040816\n",
      "ROUGE-2 Score: 0.2424242374288339\n",
      "ROUGE-L Score: 0.3999999950040816\n",
      "Combined ROUGE Score: 34.7474742478999\n",
      "\n",
      "====================================================================================================\n"
     ]
    },
    {
     "name": "stderr",
     "output_type": "stream",
     "text": [
      " 90%|█████████ | 450/499 [06:45<00:40,  1.22it/s]"
     ]
    },
    {
     "name": "stdout",
     "output_type": "stream",
     "text": [
      "==449==\n",
      "Pred Summary: #Person1#은 학교 소풍에 늦을 것 같아 걱정하고 있다. #Person2#는 도움을 줄 수 없어서 #Person1#에게 앤더슨 부인이 아들 빌리를 학교에 데려다 주는데 함께 가도록 제안한다.\n",
      "\n",
      "Gold Summary: #Person1#의 시계가 알람이 울리지 않아 학교 소풍에 늦을 위기에 처했다. #Person2#는 #Person1#에게 앤더슨 부인의 차를 타는 것을 제안한다.\n",
      "\n",
      "ROUGE-1 Score: 0.3333333284353742\n",
      "ROUGE-2 Score: 0.14999999511250017\n",
      "ROUGE-L Score: 0.3333333284353742\n",
      "Combined ROUGE Score: 27.222221732774955\n",
      "\n",
      "====================================================================================================\n"
     ]
    },
    {
     "name": "stderr",
     "output_type": "stream",
     "text": [
      " 90%|█████████ | 451/499 [06:46<00:42,  1.12it/s]"
     ]
    },
    {
     "name": "stdout",
     "output_type": "stream",
     "text": [
      "==450==\n",
      "Pred Summary: #Person1#은 호텔 내에서 즐길 수 있는 장소를 찾고 있다. #Person2#는 정원을 산책하거나 1층에서 탁구나 볼링을 즐길 수 있다고 제안한다. #Person1#은 편안한 장소를 원한다고 말하자, #Person2#는 음악 다방에서 클래식 음악과 현대 음악을 즐길 수 있다고 알려준다.\n",
      "\n",
      "Gold Summary: #Person1#은 #Person2#에게 즐길 수 있는 장소를 물어봅니다. #Person2#는 산책을 위한 정원, 운동을 즐길 수 있는 레크리에이션 센터, 음악과 음료를 즐길 수 있는 음악 다방을 추천합니다.\n",
      "\n",
      "ROUGE-1 Score: 0.3478260821077505\n",
      "ROUGE-2 Score: 0.11764705405613245\n",
      "ROUGE-L Score: 0.3043478212381853\n",
      "Combined ROUGE Score: 25.660698580068942\n",
      "\n",
      "====================================================================================================\n"
     ]
    },
    {
     "name": "stderr",
     "output_type": "stream",
     "text": [
      " 91%|█████████ | 452/499 [06:47<00:43,  1.08it/s]"
     ]
    },
    {
     "name": "stdout",
     "output_type": "stream",
     "text": [
      "==451==\n",
      "Pred Summary: #Person1#은 #Person2#의 의류 제품의 단독 대리점이 되고 싶어하며, 연간 최소 5만 벌을 판매할 것을 보장한다. #Person2#는 이를 상사에게 제안할 것이며, 대리점은 다른 원산지의 상품을 취급하거나 지역 외로 재수출하지 않을 것을 요구한다.\n",
      "\n",
      "Gold Summary: 3년간의 협력 후, #Person1#는 데이비드의 회사 제품의 지역 시장에서의 단독 대리점을 신청합니다. #Person1#는 데이비드에게 #Person1#의 회사의 장점과 그들이 보장할 수 있는 최소 연간 판매량에 대해 이야기하고 단독 대리점의 원칙을 따르겠다고 약속합니다.\n",
      "\n",
      "ROUGE-1 Score: 0.16949152042516535\n",
      "ROUGE-2 Score: 0.0\n",
      "ROUGE-L Score: 0.1016949102556739\n",
      "Combined ROUGE Score: 9.039547689361308\n",
      "\n",
      "====================================================================================================\n"
     ]
    },
    {
     "name": "stderr",
     "output_type": "stream",
     "text": [
      " 91%|█████████ | 453/499 [06:48<00:41,  1.12it/s]"
     ]
    },
    {
     "name": "stdout",
     "output_type": "stream",
     "text": [
      "==452==\n",
      "Pred Summary: #Person1#은 가장 가까운 영화관에 가는 방법을 물었다. #Person2#는 두 번째 신호등에서 왼쪽으로 가면 영화관을 찾을 수 있다고 안내했다. 여행 시간은 오래 걸리지 않는다고 한다.\n",
      "\n",
      "Gold Summary: #Person2#는 #Person1#에게 가장 가까운 영화관으로 가는 길을 알려줍니다.\n",
      "\n",
      "ROUGE-1 Score: 0.24999999625000005\n",
      "ROUGE-2 Score: 0.06666666308888908\n",
      "ROUGE-L Score: 0.24999999625000005\n",
      "Combined ROUGE Score: 18.88888851962964\n",
      "\n",
      "====================================================================================================\n"
     ]
    },
    {
     "name": "stderr",
     "output_type": "stream",
     "text": [
      " 91%|█████████ | 454/499 [06:49<00:43,  1.04it/s]"
     ]
    },
    {
     "name": "stdout",
     "output_type": "stream",
     "text": [
      "==453==\n",
      "Pred Summary: 지나와 빌은 메리 크리스마스를 축하하고, 빌은 컴퓨터에서 받은 전자 카드를 공유한다. 지나는 헤이븐으로부터 카드를 받았는지 묻고, 빌은 그녀의 번호를 가지고 있지 않지만 이메일을 보내줄 수 있다고 말한다. 지나는 감사하게 받아들이고, 빌은 헤이븐을 그리워하며 다시 그녀와 이야기하고 싶다고 말한다.\n",
      "\n",
      "Gold Summary: 빌은 친구들로부터 크리스마스 전자 카드를 받았다. 지나는 헤이븐의 번호를 물어봤다. 빌은 대신 헤이븐의 이메일을 제공했다.\n",
      "\n",
      "ROUGE-1 Score: 0.26666666255802474\n",
      "ROUGE-2 Score: 0.03921568229142678\n",
      "ROUGE-L Score: 0.26666666255802474\n",
      "Combined ROUGE Score: 19.084966913582544\n",
      "\n",
      "====================================================================================================\n"
     ]
    },
    {
     "name": "stderr",
     "output_type": "stream",
     "text": [
      " 91%|█████████ | 455/499 [06:50<00:39,  1.13it/s]"
     ]
    },
    {
     "name": "stdout",
     "output_type": "stream",
     "text": [
      "==454==\n",
      "Pred Summary: #Person1#과 #Person2#는 영화 등급에 대해 이야기하며, 어릴 때 등급이 엄격하게 시행되었던 것을 기억합니다. 그들은 이제 영화 선택은 개인적인 문제라고 언급합니다.\n",
      "\n",
      "Gold Summary: #Person1#과 #Person2#는 이제 극장에서는 영화 등급을 신경 쓰지 않는다는 것에 동의합니다. 이제 비디오 대여는 모두 개인의 문제가 되었습니다.\n",
      "\n",
      "ROUGE-1 Score: 0.22222221723765442\n",
      "ROUGE-2 Score: 0.0555555505709881\n",
      "ROUGE-L Score: 0.22222221723765442\n",
      "Combined ROUGE Score: 16.666666168209897\n",
      "\n",
      "====================================================================================================\n"
     ]
    },
    {
     "name": "stderr",
     "output_type": "stream",
     "text": [
      " 91%|█████████▏| 456/499 [06:51<00:38,  1.12it/s]"
     ]
    },
    {
     "name": "stdout",
     "output_type": "stream",
     "text": [
      "==455==\n",
      "Pred Summary: #Person1#은 욕조가 있는 싱글 룸을 찾고, #Person2#는 505호를 제안한다. #Person1#은 4일 동안 머무르기로 하고, 하루 비용은 150 위안이며, 보증금이 필요하다.\n",
      "\n",
      "Gold Summary: #Person2#는 #Person1#에게 예약 없이 조용한 싱글 룸을 얻고 보증금을 납부하도록 도와줍니다.\n",
      "\n",
      "ROUGE-1 Score: 0.19999999535555565\n",
      "ROUGE-2 Score: 0.06896551272294917\n",
      "ROUGE-L Score: 0.13333332868888906\n",
      "Combined ROUGE Score: 13.409961225579794\n",
      "\n",
      "====================================================================================================\n"
     ]
    },
    {
     "name": "stderr",
     "output_type": "stream",
     "text": [
      " 92%|█████████▏| 457/499 [06:51<00:33,  1.25it/s]"
     ]
    },
    {
     "name": "stdout",
     "output_type": "stream",
     "text": [
      "==456==\n",
      "Pred Summary: #Person2#는 갑작스러운 심한 복통을 겪고 있으며, #Person1#은 즉시 응급실로 보내야 한다고 제안합니다.\n",
      "\n",
      "Gold Summary: #Person1#은 배가 아팠던 적이 없는 #Person2#가 급성 위통을 겪고 있어 응급실로 보내기로 결정했습니다.\n",
      "\n",
      "ROUGE-1 Score: 0.23999999500800012\n",
      "ROUGE-2 Score: 0.0\n",
      "ROUGE-L Score: 0.15999999500800016\n",
      "Combined ROUGE Score: 13.333333000533344\n",
      "\n",
      "====================================================================================================\n"
     ]
    },
    {
     "name": "stderr",
     "output_type": "stream",
     "text": [
      " 92%|█████████▏| 458/499 [06:52<00:34,  1.19it/s]"
     ]
    },
    {
     "name": "stdout",
     "output_type": "stream",
     "text": [
      "==457==\n",
      "Pred Summary: #Person1#은 남부 캘리포니아 출신으로, 대만의 첫 겨울을 경험하고 있습니다. #Person2#는 추운 날씨에 익숙하지 않은 #Person1#에게 따뜻한 옷을 더 준비하라고 조언하며, 오늘의 기온은 섭씨 5도 정도라고 알려줍니다.\n",
      "\n",
      "Gold Summary: 캘리포니아 출신인 #Person1#은 대만의 겨울이 춥다고 생각합니다. #Person2#는 #Person1#에게 따뜻한 옷을 좀 더 준비하라고 제안합니다.\n",
      "\n",
      "ROUGE-1 Score: 0.43902438560380724\n",
      "ROUGE-2 Score: 0.1538461492439186\n",
      "ROUGE-L Score: 0.39024389779892926\n",
      "Combined ROUGE Score: 32.77048108822184\n",
      "\n",
      "====================================================================================================\n"
     ]
    },
    {
     "name": "stderr",
     "output_type": "stream",
     "text": [
      " 92%|█████████▏| 459/499 [06:53<00:31,  1.25it/s]"
     ]
    },
    {
     "name": "stdout",
     "output_type": "stream",
     "text": [
      "==458==\n",
      "Pred Summary: #Person1#은 #Person2#에게 메뉴를 제공하고, 마늘이 들어간 새우를 추천한다. #Person2#는 해산물과 야채를 주문한다.\n",
      "\n",
      "Gold Summary: #Person1#은 #Person2#이 해산물과 야채를 주문하는 데 도움을 줍니다.\n",
      "\n",
      "ROUGE-1 Score: 0.29999999520000004\n",
      "ROUGE-2 Score: 0.11111110635802489\n",
      "ROUGE-L Score: 0.29999999520000004\n",
      "Combined ROUGE Score: 23.7037032252675\n",
      "\n",
      "====================================================================================================\n"
     ]
    },
    {
     "name": "stderr",
     "output_type": "stream",
     "text": [
      " 92%|█████████▏| 460/499 [06:54<00:34,  1.12it/s]"
     ]
    },
    {
     "name": "stdout",
     "output_type": "stream",
     "text": [
      "==459==\n",
      "Pred Summary: #Person1#과 #Person2#는 #Person2#가 보스턴 대학교에서 영어를 전공하고 있다는 이야기를 나눴다. #Person1#은 #Person2#가 영어를 잘한다고 칭찬하며, #Person2#는 말하기 연습이 필요하다고 인정했다. #Person1#은 #Person2#를 자신의 아파트에서 열리는 파티에 초대했다.\n",
      "\n",
      "Gold Summary: 크레이그는 수년간의 영어 학습 경험이 있지만, 연습의 부족으로 인해 영어를 잘 말하지 못한다. #Person1#은 오늘 밤 파티에 크레이그를 초대한다.\n",
      "\n",
      "ROUGE-1 Score: 0.14285713790249452\n",
      "ROUGE-2 Score: 0.0\n",
      "ROUGE-L Score: 0.14285713790249452\n",
      "Combined ROUGE Score: 9.523809193499634\n",
      "\n",
      "====================================================================================================\n"
     ]
    },
    {
     "name": "stderr",
     "output_type": "stream",
     "text": [
      " 92%|█████████▏| 461/499 [06:55<00:32,  1.17it/s]"
     ]
    },
    {
     "name": "stdout",
     "output_type": "stream",
     "text": [
      "==460==\n",
      "Pred Summary: #Person1#과 #Person2#는 휴식 시간에 취미를 공유한다. #Person2#는 스포츠에 관한 일요일 신문을 읽고, #Person1#은 특별한 맛의 와인을 마신다.\n",
      "\n",
      "Gold Summary: B는 스포츠 정보를 읽음으로써 압박을 해결하고, 프레드는 피곤할 때 바에 가서 와인을 마십니다.\n",
      "\n",
      "ROUGE-1 Score: 0.0689655122948874\n",
      "ROUGE-2 Score: 0.0\n",
      "ROUGE-L Score: 0.0689655122948874\n",
      "Combined ROUGE Score: 4.59770081965916\n",
      "\n",
      "====================================================================================================\n"
     ]
    },
    {
     "name": "stderr",
     "output_type": "stream",
     "text": [
      " 93%|█████████▎| 462/499 [06:56<00:31,  1.19it/s]"
     ]
    },
    {
     "name": "stdout",
     "output_type": "stream",
     "text": [
      "==461==\n",
      "Pred Summary: #Person1#은 #Person2#에게 그 사람을 공격하지 말라고 조언하며, 그와의 관계는 쉽지 않을 것이라고 경고한다. #Person2#는 그에게서 멀리 떨어져 있는 것이 더 좋다고 동의한다.\n",
      "\n",
      "Gold Summary: #Person1#은 #Person2#에게 나쁜 남자로부터 멀리 떨어져 있도록 요청한다. #Person2#는 동의한다.\n",
      "\n",
      "ROUGE-1 Score: 0.374999995703125\n",
      "ROUGE-2 Score: 0.13333332913333346\n",
      "ROUGE-L Score: 0.374999995703125\n",
      "Combined ROUGE Score: 29.444444017986115\n",
      "\n",
      "====================================================================================================\n"
     ]
    },
    {
     "name": "stderr",
     "output_type": "stream",
     "text": [
      " 93%|█████████▎| 463/499 [06:57<00:31,  1.13it/s]"
     ]
    },
    {
     "name": "stdout",
     "output_type": "stream",
     "text": [
      "==462==\n",
      "Pred Summary: #Person1#은 선물을 거절하지만, #Person2#는 그것이 묵주이며 할머니의 선물이라고 주장한다. #Person1#은 돼지를 키우는 것에 대한 언급을 이해하며, #Person2#는 그것이 빈정거리는 말이지만 할머니가 가족들을 사랑한다는 것을 설명한다.\n",
      "\n",
      "Gold Summary: #Person1#은 #Person2#의 사촌이 빈정거리지만 재미있는 여자라고 생각합니다.\n",
      "\n",
      "ROUGE-1 Score: 0.06896551357907273\n",
      "ROUGE-2 Score: 0.0\n",
      "ROUGE-L Score: 0.06896551357907273\n",
      "Combined ROUGE Score: 4.597700905271515\n",
      "\n",
      "====================================================================================================\n"
     ]
    },
    {
     "name": "stderr",
     "output_type": "stream",
     "text": [
      " 93%|█████████▎| 464/499 [06:57<00:30,  1.16it/s]"
     ]
    },
    {
     "name": "stdout",
     "output_type": "stream",
     "text": [
      "==463==\n",
      "Pred Summary: #Person1#은 #Person2#에게 에스프레소를 제공하여 도움을 주고, #Person2#는 에스프레소의 이름 유래를 설명하며, #Person1#은 이탈리아어 기원이라고 생각했던 것을 알게 된다.\n",
      "\n",
      "Gold Summary: #Person1#과 #Person2#는 에스프레소가 그 이름을 어떻게 얻었는지에 대해 다른 생각을 가지고 있다.\n",
      "\n",
      "ROUGE-1 Score: 0.06896551239001224\n",
      "ROUGE-2 Score: 0.0\n",
      "ROUGE-L Score: 0.06896551239001224\n",
      "Combined ROUGE Score: 4.597700826000816\n",
      "\n",
      "====================================================================================================\n"
     ]
    },
    {
     "name": "stderr",
     "output_type": "stream",
     "text": [
      " 93%|█████████▎| 465/499 [06:58<00:28,  1.19it/s]"
     ]
    },
    {
     "name": "stdout",
     "output_type": "stream",
     "text": [
      "==464==\n",
      "Pred Summary: #Person1#과 #Person2#는 바쁜 업무와 제한된 여행 기회에 대해 이야기합니다. #Person1#은 매년 두 번의 여행을 즐기고, #Person2#는 단 한 번의 기회를 언급합니다.\n",
      "\n",
      "Gold Summary: #Person1#과 #Person2#는 바쁜 일과 여행 복지에 대해 이야기한다.\n",
      "\n",
      "ROUGE-1 Score: 0.37037036620027436\n",
      "ROUGE-2 Score: 0.14814814430727036\n",
      "ROUGE-L Score: 0.37037036620027436\n",
      "Combined ROUGE Score: 29.629629223593973\n",
      "\n",
      "====================================================================================================\n"
     ]
    },
    {
     "name": "stderr",
     "output_type": "stream",
     "text": [
      " 93%|█████████▎| 466/499 [06:59<00:27,  1.19it/s]"
     ]
    },
    {
     "name": "stdout",
     "output_type": "stream",
     "text": [
      "==465==\n",
      "Pred Summary: #Person1#은 캠퍼스 내 주택을 찾고 있지만, 모든 곳이 다 찼다는 것을 알게 되었습니다. 그들은 대기 목록에 등록하고, A 주택 사무소에서 이 지역에 있는 아파트를 볼 수 있는 카탈로그를 받았습니다.\n",
      "\n",
      "Gold Summary: #Person1#은 캠퍼스에 거주하길 원합니다. #Person2#는 #Person1#을 대기 목록에 올리고 캠퍼스 요건을 충족하는 위치들이 있는 카탈로그를 #Person1#에게 제공합니다.\n",
      "\n",
      "ROUGE-1 Score: 0.26666666196543215\n",
      "ROUGE-2 Score: 0.09090908628099197\n",
      "ROUGE-L Score: 0.26666666196543215\n",
      "Combined ROUGE Score: 20.808080340395207\n",
      "\n",
      "====================================================================================================\n"
     ]
    },
    {
     "name": "stderr",
     "output_type": "stream",
     "text": [
      " 94%|█████████▎| 467/499 [07:00<00:26,  1.23it/s]"
     ]
    },
    {
     "name": "stdout",
     "output_type": "stream",
     "text": [
      "==466==\n",
      "Pred Summary: #Person1#은 케이트로부터 전화로 방해받았고, #Person2#는 케이트가 다른 사람들을 신경 쓰지 않는다고 언급했습니다.\n",
      "\n",
      "Gold Summary: #Person1#과 #Person2# 모두 새로운 남자친구에 대해 이야기하는 케이트에게 방해받았습니다.\n",
      "\n",
      "ROUGE-1 Score: 0.0\n",
      "ROUGE-2 Score: 0.0\n",
      "ROUGE-L Score: 0.0\n",
      "Combined ROUGE Score: 0.0\n",
      "\n",
      "====================================================================================================\n"
     ]
    },
    {
     "name": "stderr",
     "output_type": "stream",
     "text": [
      " 94%|█████████▍| 468/499 [07:01<00:26,  1.16it/s]"
     ]
    },
    {
     "name": "stdout",
     "output_type": "stream",
     "text": [
      "==467==\n",
      "Pred Summary: 은하들은 주변 공간에서 대체로 수동적으로 자리잡고 있지만, 은하 사이의 공간이 확장함에 따라 은하들은 더 멀리 이동하게 됩니다. 은하들이 서로 멀어지고 있지만, 한 은하 또는 은하 그룹의 중력이 가까운 이웃들의 움직임을 방해하여 충돌할 수 있습니다.\n",
      "\n",
      "Gold Summary: #Person2#는 #Person1#의 질문인 우주의 은하들이 우주를 이동하고 있는지, 그리고 은하들이 어떻게 충돌하는지에 대한 답변을 합니다. #Person1#는 #Person2#가 정보를 잘 알고 있다고 생각합니다.\n",
      "\n",
      "ROUGE-1 Score: 0.039215681430219744\n",
      "ROUGE-2 Score: 0.0\n",
      "ROUGE-L Score: 0.039215681430219744\n",
      "Combined ROUGE Score: 2.6143787620146495\n",
      "\n",
      "====================================================================================================\n"
     ]
    },
    {
     "name": "stderr",
     "output_type": "stream",
     "text": [
      " 94%|█████████▍| 469/499 [07:02<00:24,  1.22it/s]"
     ]
    },
    {
     "name": "stdout",
     "output_type": "stream",
     "text": [
      "==468==\n",
      "Pred Summary: #Person2#는 외국인과 결혼한 후 첫 해에 문화적 차이로 인해 어려움을 겪었지만, 지금은 2살짜리 아들을 둔 상태이며, 아들은 주로 중국어를 사용한다.\n",
      "\n",
      "Gold Summary: #Person2#는 #Person1#에게 외국인과의 결혼 첫 해가 어려웠던 것에 대해 이야기하고, 그녀의 아들에 대해서도 이야기합니다.\n",
      "\n",
      "ROUGE-1 Score: 0.11764705397923896\n",
      "ROUGE-2 Score: 0.0\n",
      "ROUGE-L Score: 0.11764705397923896\n",
      "Combined ROUGE Score: 7.843136931949264\n",
      "\n",
      "====================================================================================================\n"
     ]
    },
    {
     "name": "stderr",
     "output_type": "stream",
     "text": [
      " 94%|█████████▍| 470/499 [07:02<00:23,  1.24it/s]"
     ]
    },
    {
     "name": "stdout",
     "output_type": "stream",
     "text": [
      "==469==\n",
      "Pred Summary: #Person1#은 #Person2#의 생년월일과 영화 시작 시간에 대해 물었다. #Person1#은 시간에 맞춰 갈 수 없을 것 같아서 #Person2#는 내일 영화를 보라고 제안했다.\n",
      "\n",
      "Gold Summary: #Person1#은 #Person2#에게 #Person2#의 생일과 영화 시작 시간에 대해 묻습니다.\n",
      "\n",
      "ROUGE-1 Score: 0.4285714242091837\n",
      "ROUGE-2 Score: 0.21428571020408166\n",
      "ROUGE-L Score: 0.4285714242091837\n",
      "Combined ROUGE Score: 35.714285287414974\n",
      "\n",
      "====================================================================================================\n"
     ]
    },
    {
     "name": "stderr",
     "output_type": "stream",
     "text": [
      " 94%|█████████▍| 471/499 [07:03<00:22,  1.23it/s]"
     ]
    },
    {
     "name": "stdout",
     "output_type": "stream",
     "text": [
      "==470==\n",
      "Pred Summary: #Person1#은 #Person2#에게 오페라를 좋아하는지 묻는다. #Person2#는 비싸고 다른 언어로 노래를 부르는 것이 신경이 쓰인다고 말하며 좋아하지 않는다고 말한다.\n",
      "\n",
      "Gold Summary: 해리가 #Person1#에게 왜 오페라를 좋아하지 않는지 설명한다.\n",
      "\n",
      "ROUGE-1 Score: 0.1599999959680001\n",
      "ROUGE-2 Score: 0.0\n",
      "ROUGE-L Score: 0.1599999959680001\n",
      "Combined ROUGE Score: 10.666666397866674\n",
      "\n",
      "====================================================================================================\n"
     ]
    },
    {
     "name": "stderr",
     "output_type": "stream",
     "text": [
      " 95%|█████████▍| 472/499 [07:04<00:21,  1.24it/s]"
     ]
    },
    {
     "name": "stdout",
     "output_type": "stream",
     "text": [
      "==471==\n",
      "Pred Summary: #Person1#은 #Person2#에게 골프를 가르치며, 티를 사용하는 방법과 공을 최대한 세게 치는 방법을 설명합니다. 목표는 공을 적게 쳐서 구멍에 넣는 것입니다.\n",
      "\n",
      "Gold Summary: #Person1#이 #Person2#에게 골프를 가르칩니다.\n",
      "\n",
      "ROUGE-1 Score: 0.17391304060491497\n",
      "ROUGE-2 Score: 0.09090908855371907\n",
      "ROUGE-L Score: 0.17391304060491497\n",
      "Combined ROUGE Score: 14.624505658784967\n",
      "\n",
      "====================================================================================================\n"
     ]
    },
    {
     "name": "stderr",
     "output_type": "stream",
     "text": [
      " 95%|█████████▍| 473/499 [07:05<00:20,  1.26it/s]"
     ]
    },
    {
     "name": "stdout",
     "output_type": "stream",
     "text": [
      "==472==\n",
      "Pred Summary: #Person1#과 #Person2#는 처음 만났던 날을 회상하며, #Person1#이 #Person2#에게 옆에 앉아도 되는지 물어봤던 일을 기억하고 있다.\n",
      "\n",
      "Gold Summary: 메리와 #Person1#은 처음 만났던 날을 회상한다.\n",
      "\n",
      "ROUGE-1 Score: 0.2857142816326531\n",
      "ROUGE-2 Score: 0.21052631191135737\n",
      "ROUGE-L Score: 0.2857142816326531\n",
      "Combined ROUGE Score: 26.06516250588879\n",
      "\n",
      "====================================================================================================\n"
     ]
    },
    {
     "name": "stderr",
     "output_type": "stream",
     "text": [
      " 95%|█████████▍| 474/499 [07:06<00:24,  1.02it/s]"
     ]
    },
    {
     "name": "stdout",
     "output_type": "stream",
     "text": [
      "==473==\n",
      "Pred Summary: #Person1#과 #Person2#는 하이랜드 호텔에서 즐거운 시간을 보냈습니다. 방은 작지만 잘 꾸며져 있으며, 레스토랑은 훌륭하고 가격도 적당합니다. 서비스는 매우 좋으며, 주말에는 호텔에서 할인을 해줍니다. 유일한 문제는 인터넷 접속이었지만, 그들은 그것을 관리자에게 불평하지 않았습니다. 호텔은 미니바가 없지만, 1층에 바가 있고 레스토랑에서 음료를 구입할 수 있습니다. 호텔은 팁을 위한 특별한 정책을 가지고 있으며, 손님들은 리셉션에 있는 상자에 돈을 넣을 수 있습니다.\n",
      "\n",
      "Gold Summary: #Person2#는 하이랜드 호텔에서 주말을 보내면서 훌륭하고 합리적인 가격의 레스토랑과 좋은 서비스를 즐겼습니다. #Person2#는 호텔의 시설, 주말 할인, 그리고 흥미로운 팁 정책을 소개하고 #Person1#에게 미리 예약을 하라고 제안합니다.\n",
      "\n",
      "ROUGE-1 Score: 0.12658227406505385\n",
      "ROUGE-2 Score: 0.048780483474122935\n",
      "ROUGE-L Score: 0.12658227406505385\n",
      "Combined ROUGE Score: 10.064834386807687\n",
      "\n",
      "====================================================================================================\n"
     ]
    },
    {
     "name": "stderr",
     "output_type": "stream",
     "text": [
      " 95%|█████████▌| 475/499 [07:07<00:25,  1.06s/it]"
     ]
    },
    {
     "name": "stdout",
     "output_type": "stream",
     "text": [
      "==474==\n",
      "Pred Summary: #Person1#은 #Person2#의 노트북을 살펴보고, 그 기능에 대해 설명합니다. 이 노트북은 $2,699.00에 판매되고 있습니다.\n",
      "\n",
      "Gold Summary: #Person2#가 노트북을 #Person1#에게 소개합니다. #Person1#는 감탄하고 세일 가격에 대해 #Person2#에게 묻습니다.\n",
      "\n",
      "ROUGE-1 Score: 0.15999999507200013\n",
      "ROUGE-2 Score: 0.0\n",
      "ROUGE-L Score: 0.15999999507200013\n",
      "Combined ROUGE Score: 10.666666338133341\n",
      "\n",
      "====================================================================================================\n"
     ]
    },
    {
     "name": "stderr",
     "output_type": "stream",
     "text": [
      " 95%|█████████▌| 476/499 [07:08<00:22,  1.01it/s]"
     ]
    },
    {
     "name": "stdout",
     "output_type": "stream",
     "text": [
      "==475==\n",
      "Pred Summary: #Person1#은 #Person2#에게 타임시트를 작성하는 방법을 도와달라고 요청한다. #Person2#는 타임시트를 찾는 방법, 군용 시간 기록 방법, 그리고 감독관에게 제출하는 방법을 설명한다.\n",
      "\n",
      "Gold Summary: #Person2#는 #Person1#에게 타임시트를 찾는 방법을 알려주고, 시간을 합산하고, 서명하고, 감독관에게 제출하는 방법을 가르칩니다.\n",
      "\n",
      "ROUGE-1 Score: 0.41379309859690844\n",
      "ROUGE-2 Score: 0.19354838235171706\n",
      "ROUGE-L Score: 0.41379309859690844\n",
      "Combined ROUGE Score: 34.03781931818447\n",
      "\n",
      "====================================================================================================\n"
     ]
    },
    {
     "name": "stderr",
     "output_type": "stream",
     "text": [
      " 96%|█████████▌| 477/499 [07:09<00:19,  1.12it/s]"
     ]
    },
    {
     "name": "stdout",
     "output_type": "stream",
     "text": [
      "==476==\n",
      "Pred Summary: #Person1#은 #Person2#가 피프스 애비뉴에서 내려야 했지만, 다음 정류장에서 내려서 걸어가면 된다고 알려줍니다.\n",
      "\n",
      "Gold Summary: #Person1#은 #Person2#에게 #Person2#가 #Person2#의 정류장을 놓쳤지만, 걸어서 돌아가기에는 멀지 않다고 말한다.\n",
      "\n",
      "ROUGE-1 Score: 0.1739130384877128\n",
      "ROUGE-2 Score: 0.0\n",
      "ROUGE-L Score: 0.1739130384877128\n",
      "Combined ROUGE Score: 11.594202565847521\n",
      "\n",
      "====================================================================================================\n"
     ]
    },
    {
     "name": "stderr",
     "output_type": "stream",
     "text": [
      " 96%|█████████▌| 478/499 [07:10<00:18,  1.16it/s]"
     ]
    },
    {
     "name": "stdout",
     "output_type": "stream",
     "text": [
      "==477==\n",
      "Pred Summary: #Person1#과 #Person2#는 건강에 신경을 쓰고 있다. #Person2#는 당근 주스를 제공하고 요가를 한다. #Person1#은 감사의 말을 전하고 서둘러 수업에 간다.\n",
      "\n",
      "Gold Summary: #Person1#은 슈미트 부인이 건강에 매우 신경 쓴다고 생각합니다. 그들은 각자 머리를 아래로 하는 방법을 공유합니다.\n",
      "\n",
      "ROUGE-1 Score: 0.12121211625344373\n",
      "ROUGE-2 Score: 0.0\n",
      "ROUGE-L Score: 0.12121211625344373\n",
      "Combined ROUGE Score: 8.080807750229582\n",
      "\n",
      "====================================================================================================\n"
     ]
    },
    {
     "name": "stderr",
     "output_type": "stream",
     "text": [
      " 96%|█████████▌| 479/499 [07:11<00:19,  1.01it/s]"
     ]
    },
    {
     "name": "stdout",
     "output_type": "stream",
     "text": [
      "==478==\n",
      "Pred Summary: #Person1#과 #Person2#는 식사를 즐기고 디저트로 매콤한 럼주 사과 크리스프와 초콜릿 무스 케이크를 선택했다. 그들은 디저트 포크 네 개와 차 네 잔을 요청했다.\n",
      "\n",
      "Gold Summary: #Person1#은 #Person2#에게 디저트를 주문하도록 권합니다. #Person2#는 사과 크리스프, 초콜릿 무스 케이크 한 조각, 그리고 뜨거운 차를 주문합니다.\n",
      "\n",
      "ROUGE-1 Score: 0.21052631084487544\n",
      "ROUGE-2 Score: 0.05405404914536203\n",
      "ROUGE-L Score: 0.21052631084487544\n",
      "Combined ROUGE Score: 15.836889027837097\n",
      "\n",
      "====================================================================================================\n"
     ]
    },
    {
     "name": "stderr",
     "output_type": "stream",
     "text": [
      " 96%|█████████▌| 480/499 [07:12<00:19,  1.01s/it]"
     ]
    },
    {
     "name": "stdout",
     "output_type": "stream",
     "text": [
      "==479==\n",
      "Pred Summary: #Person1#은 #Person2#에게 체력 상태와 요구에 따라 맞춤형 운동 계획을 제공하는 서비스를 소개한다. 개인 트레이너가 체력을 평가하고 운동 계획을 세우며, 모든 운동 장비를 찾아주고 사용 기술을 가르쳐준다. 비용은 상황에 따라 다르며, 1개월 멤버십은 400위안이다.\n",
      "\n",
      "Gold Summary: #Person2#는 건강을 유지하고 싶어합니다. #Person1#은 그녀에게 맞춤형 운동 서비스를 소개합니다. 여성은 시도해보기 위해 1개월 멤버십을 최종적으로 선택합니다.\n",
      "\n",
      "ROUGE-1 Score: 0.21739129968809084\n",
      "ROUGE-2 Score: 0.0425531869986424\n",
      "ROUGE-L Score: 0.21739129968809084\n",
      "Combined ROUGE Score: 15.911192879160804\n",
      "\n",
      "====================================================================================================\n"
     ]
    },
    {
     "name": "stderr",
     "output_type": "stream",
     "text": [
      " 96%|█████████▋| 481/499 [07:13<00:18,  1.00s/it]"
     ]
    },
    {
     "name": "stdout",
     "output_type": "stream",
     "text": [
      "==480==\n",
      "Pred Summary: #Person1#은 #Person2#에게 연락할 수 있는 명함과 휴대폰 번호를 주며, 다음 주 초에 결정을 내릴 것이라고 알렸다. #Person2#는 #Person1#에게 이야기해 줘서 감사하다고 말하며, 연락을 받기를 바란다고 말했다.\n",
      "\n",
      "Gold Summary: 파슨스 씨는 인터뷰 후 레베카에게 자신의 명함을 주고, 결정은 다음 주 초에 내려질 것이며 차일즈 양이 레베카에게 연락할 것이라고 말한다.\n",
      "\n",
      "ROUGE-1 Score: 0.22222221734320996\n",
      "ROUGE-2 Score: 0.09090908600206637\n",
      "ROUGE-L Score: 0.17777777289876556\n",
      "Combined ROUGE Score: 16.363635874801396\n",
      "\n",
      "====================================================================================================\n"
     ]
    },
    {
     "name": "stderr",
     "output_type": "stream",
     "text": [
      " 97%|█████████▋| 482/499 [07:14<00:17,  1.02s/it]"
     ]
    },
    {
     "name": "stdout",
     "output_type": "stream",
     "text": [
      "==481==\n",
      "Pred Summary: #Person1#은 #Person2#가 체육관에서 가장 어린 고객임을 알아차리고, #Person2#는 브루스 리처럼 되고 싶어한다. #Person1#은 #Person2#에게 성장하고 운동할 것을 제안하지만, #Person2#는 청바지를 입을 수 없다는 말을 듣고 떠나기로 결정한다.\n",
      "\n",
      "Gold Summary: 젊은 고객인 #Person2#은 브루스 리처럼 되고 싶어합니다. #Person1#은 런닝머신이나 줄넘기를 시도해 보라고 제안하지만, #Person1#이 #Person2#에게 옷을 갈아입으라고 요청하자 #Person2#은 떠나버립니다.\n",
      "\n",
      "ROUGE-1 Score: 0.272727267820248\n",
      "ROUGE-2 Score: 0.08888888400987681\n",
      "ROUGE-L Score: 0.2272727223657026\n",
      "Combined ROUGE Score: 19.629629139860914\n",
      "\n",
      "====================================================================================================\n"
     ]
    },
    {
     "name": "stderr",
     "output_type": "stream",
     "text": [
      " 97%|█████████▋| 483/499 [07:15<00:15,  1.03it/s]"
     ]
    },
    {
     "name": "stdout",
     "output_type": "stream",
     "text": [
      "==482==\n",
      "Pred Summary: #Person1#은 브라운 씨에게 그의 아들 테드가 수학여행을 놓쳤다고 알렸다. 브라운 씨는 테드가 늦게 일어났다고 설명했다. 그들은 테드의 수면 습관을 바꾸고, 그가 제때 일어날 수 있도록 도와야 한다는 데 동의했다.\n",
      "\n",
      "Gold Summary: 수잔이 브라운 씨에게 전화를 걸어 테드가 왜 수학여행을 놓쳤는지 묻습니다. 그녀는 브라운 씨에게 테드의 수면 습관을 바꾸는 것을 제안합니다.\n",
      "\n",
      "ROUGE-1 Score: 0.31818181344008273\n",
      "ROUGE-2 Score: 0.13333332863209893\n",
      "ROUGE-L Score: 0.31818181344008273\n",
      "Combined ROUGE Score: 25.656565183742146\n",
      "\n",
      "====================================================================================================\n"
     ]
    },
    {
     "name": "stderr",
     "output_type": "stream",
     "text": [
      " 97%|█████████▋| 484/499 [07:16<00:13,  1.13it/s]"
     ]
    },
    {
     "name": "stdout",
     "output_type": "stream",
     "text": [
      "==483==\n",
      "Pred Summary: #Person2#는 졸업 후 정보 기술 분야에서 일하는 것을 고려하고 있지만, 의학에 관심이 있으며 의사가 되고 싶어한다. 그들은 수학을 가장 잘하고 과학도 잘한다.\n",
      "\n",
      "Gold Summary: 존은 졸업 후 의사가 되고 싶어하지만, 그의 아버지는 그가 정보 기술 분야에서 일하길 원한다.\n",
      "\n",
      "ROUGE-1 Score: 0.3888888841358025\n",
      "ROUGE-2 Score: 0.23529411292387553\n",
      "ROUGE-L Score: 0.2777777730246914\n",
      "Combined ROUGE Score: 30.065359002812315\n",
      "\n",
      "====================================================================================================\n"
     ]
    },
    {
     "name": "stderr",
     "output_type": "stream",
     "text": [
      " 97%|█████████▋| 485/499 [07:16<00:12,  1.16it/s]"
     ]
    },
    {
     "name": "stdout",
     "output_type": "stream",
     "text": [
      "==484==\n",
      "Pred Summary: #Person1#은 #Person2#의 예약을 확인하고, 서류를 작성하고, 키 카드를 제공하며, 방 번호와 요금을 알려주었습니다. #Person2#는 방으로 안내를 받을 것입니다.\n",
      "\n",
      "Gold Summary: #Person1#은 브래들리 씨에게 체크인 양식을 작성하는 데 도움을 주었습니다. #Person1#은 브래들리 씨에게 방 번호를 알려주고, 다기능 키 카드를 항상 가지고 다니라고 상기시킨 후, 벨보이를 불러 브래들리 씨를 방까지 안내하도록 했습니다.\n",
      "\n",
      "ROUGE-1 Score: 0.18181817698347122\n",
      "ROUGE-2 Score: 0.04545454071281041\n",
      "ROUGE-L Score: 0.1363636315289258\n",
      "Combined ROUGE Score: 12.121211640840247\n",
      "\n",
      "====================================================================================================\n"
     ]
    },
    {
     "name": "stderr",
     "output_type": "stream",
     "text": [
      " 97%|█████████▋| 486/499 [07:18<00:12,  1.04it/s]"
     ]
    },
    {
     "name": "stdout",
     "output_type": "stream",
     "text": [
      "==485==\n",
      "Pred Summary: #Person1#은 우체국을 찾고 있고, #Person2#는 그들에게 길을 안내해줍니다. 우체국은 약 1마일 떨어져 있으며, 메인 스트리트에서 오른쪽으로 돌아서 약 4블록 정도 걸어가면 도착할 수 있습니다. 우체국 입구는 다른 사무실들이 있는 건물 단지 안에 있으며, 미국 국기와 '미국 우체국'이라는 표지판이 있습니다.\n",
      "\n",
      "Gold Summary: #Person1#은 #Person2#에게 우체국 위치를 묻습니다. #Person2#는 #Person1#에게 가장 가까운 우체국 위치와 그곳으로 가는 방법을 알려줍니다.\n",
      "\n",
      "ROUGE-1 Score: 0.11999999596800014\n",
      "ROUGE-2 Score: 0.0\n",
      "ROUGE-L Score: 0.11999999596800014\n",
      "Combined ROUGE Score: 7.99999973120001\n",
      "\n",
      "====================================================================================================\n"
     ]
    },
    {
     "name": "stderr",
     "output_type": "stream",
     "text": [
      " 98%|█████████▊| 487/499 [07:18<00:11,  1.09it/s]"
     ]
    },
    {
     "name": "stdout",
     "output_type": "stream",
     "text": [
      "==486==\n",
      "Pred Summary: 리사 린치는 일자리 시장이 회복되고 있으며, 다양한 산업에서 고용이 이루어지고 있다고 믿는다. 제조업은 아직 회복되지 않았지만, 레스토랑, 호텔, 의료, 비즈니스 서비스 등 다른 부문에서는 일자리가 증가하고 있다.\n",
      "\n",
      "Gold Summary: #Person1#은 리사 린치에게 지난달에 창출된 새로운 일자리에 대한 큰 도약에 대한 그녀의 의견을 묻습니다. 리사는 보고서가 긍정적이라고 말하며, 이는 3년간의 침체기 후 일자리 시장의 개선을 보여주기 때문입니다. 음식 서비스, 건강 관리, 서비스 등 모든 산업이 긍정적인 성장을 경험하고 있지만, 일자리 손실도 없고 증가도 없는 제조업을 제외하고 있습니다.\n",
      "\n",
      "ROUGE-1 Score: 0.1111111064236113\n",
      "ROUGE-2 Score: 0.027777773163581012\n",
      "ROUGE-L Score: 0.1111111064236113\n",
      "Combined ROUGE Score: 8.333332867026787\n",
      "\n",
      "====================================================================================================\n"
     ]
    },
    {
     "name": "stderr",
     "output_type": "stream",
     "text": [
      " 98%|█████████▊| 488/499 [07:19<00:10,  1.08it/s]"
     ]
    },
    {
     "name": "stdout",
     "output_type": "stream",
     "text": [
      "==487==\n",
      "Pred Summary: #Person1#은 새 집에 중국 전통 요소를 추가하고 싶어하며, #Person2#는 빨간색과 격자무늬를 사용하는 것을 제안한다. 그들은 중국 풍경화를 걸고 벽을 다시 칠하며, #Person1#은 소파를 사고 싶어한다.\n",
      "\n",
      "Gold Summary: #Person1#은 새 집의 인테리어에 중국 전통 요소를 추가하고 싶어합니다. #Person2#는 #Person1#에게 몇 가지 제안을 해줍니다. #Person1#은 아직 벽의 색상과 소파에 대해 결정하지 못했습니다.\n",
      "\n",
      "ROUGE-1 Score: 0.31111110611358034\n",
      "ROUGE-2 Score: 0.1739130384877128\n",
      "ROUGE-L Score: 0.31111110611358034\n",
      "Combined ROUGE Score: 26.537841690495785\n",
      "\n",
      "====================================================================================================\n"
     ]
    },
    {
     "name": "stderr",
     "output_type": "stream",
     "text": [
      " 98%|█████████▊| 489/499 [07:20<00:09,  1.06it/s]"
     ]
    },
    {
     "name": "stdout",
     "output_type": "stream",
     "text": [
      "==488==\n",
      "Pred Summary: #Person2#는 #Person1#에게 찰리와의 룸메이트 문제에 대해 이야기하며, 찰리가 지저분하고 시끄럽다고 불평한다. #Person1#은 찰리와 이야기해 보라고 제안하지만, #Person2#는 이미 시도해 봤지만 효과가 없었다고 말한다.\n",
      "\n",
      "Gold Summary: #Person2#는 #Person1#에게 룸메이트인 찰리에 대해 불평하고 #Person1#에게 찰리와 이야기하도록 요청한다.\n",
      "\n",
      "ROUGE-1 Score: 0.25806451200832464\n",
      "ROUGE-2 Score: 0.06451612491155072\n",
      "ROUGE-L Score: 0.25806451200832464\n",
      "Combined ROUGE Score: 19.35483829760667\n",
      "\n",
      "====================================================================================================\n"
     ]
    },
    {
     "name": "stderr",
     "output_type": "stream",
     "text": [
      " 98%|█████████▊| 490/499 [07:21<00:09,  1.01s/it]"
     ]
    },
    {
     "name": "stdout",
     "output_type": "stream",
     "text": [
      "==489==\n",
      "Pred Summary: #Person1#은 #Person2#에게 지난달에 줄리아와 결혼했다고 알렸다. #Person2#는 놀랐지만 축하를 전하며 서두르게 결혼하는 것에 대한 속담을 언급했다. #Person1#은 결혼은 운명에 의해 결정된다고 믿으며, 줄리아와 함께 행복하다고 말했다. #Person2#는 그들이 잘 어울리는 커플이라고 생각했다.\n",
      "\n",
      "Gold Summary: #Person1#은 톰에게 그와 줄리아가 서둘러 결혼했지만 행복하다고 말한다.\n",
      "\n",
      "ROUGE-1 Score: 0.10810810471877293\n",
      "ROUGE-2 Score: 0.0\n",
      "ROUGE-L Score: 0.10810810471877293\n",
      "Combined ROUGE Score: 7.207206981251528\n",
      "\n",
      "====================================================================================================\n"
     ]
    },
    {
     "name": "stderr",
     "output_type": "stream",
     "text": [
      " 98%|█████████▊| 491/499 [07:22<00:07,  1.04it/s]"
     ]
    },
    {
     "name": "stdout",
     "output_type": "stream",
     "text": [
      "==490==\n",
      "Pred Summary: #Person1#은 빌 게이츠의 집을 인상적으로 생각하지만, 그 집에서 살고 싶지는 않다. 그들은 영국의 조용한 마을에 있는 개성이 있는 오래된 오두막집을 꿈꾸며, 그것을 원래 상태로 복원하고 싶어한다.\n",
      "\n",
      "Gold Summary: #Person1#은 #Person2#에게 빌 게이츠의 집이 어떤지 설명합니다. 그 집에는 도서관, 극장, 수영장, 그리고 게스트 하우스가 있습니다. #Person1#은 그곳에서 살고 싶지 않다고 말하며, 이유는 너무 커서 한 사람이 돌볼 수 없기 때문입니다. #Person1#은 개성이 있는 영국의 조용한 마을에 있는 오래된 코티지를 선호합니다.\n",
      "\n",
      "ROUGE-1 Score: 0.34920634441924925\n",
      "ROUGE-2 Score: 0.1846153798816569\n",
      "ROUGE-L Score: 0.31746031267321745\n",
      "Combined ROUGE Score: 28.376067899137453\n",
      "\n",
      "====================================================================================================\n"
     ]
    },
    {
     "name": "stderr",
     "output_type": "stream",
     "text": [
      " 99%|█████████▊| 492/499 [07:23<00:06,  1.04it/s]"
     ]
    },
    {
     "name": "stdout",
     "output_type": "stream",
     "text": [
      "==491==\n",
      "Pred Summary: #Person2#는 토마토 주스, 크림 오브 위트, 베이컨과 계란, 버터 토스트를 주문했으며, 베이컨은 바삭하게, 계란은 프라이로 요리해 달라고 요청했다.\n",
      "\n",
      "Gold Summary: #Person2#는 토마토 주스, 크림 오브 위트 한 접시, 바삭한 베이컨, 프라이드 계란을 주문했습니다.\n",
      "\n",
      "ROUGE-1 Score: 0.3225806402913632\n",
      "ROUGE-2 Score: 0.2758620641141499\n",
      "ROUGE-L Score: 0.3225806402913632\n",
      "Combined ROUGE Score: 30.700778156562542\n",
      "\n",
      "====================================================================================================\n"
     ]
    },
    {
     "name": "stderr",
     "output_type": "stream",
     "text": [
      " 99%|█████████▉| 493/499 [07:24<00:05,  1.09it/s]"
     ]
    },
    {
     "name": "stdout",
     "output_type": "stream",
     "text": [
      "==492==\n",
      "Pred Summary: #Person1#은 8인용 테이블을 요청했지만, 예약이 모두 차서 사용할 수 없었습니다. 그들은 네모난 작은 테이블 두 개를 붙일 수 있는지 물었고, #Person2#는 도움을 제공했습니다.\n",
      "\n",
      "Gold Summary: #Person2#는 #Person1#이 8인용으로 만들기 위해 두 개의 테이블을 합치는 데 도움을 줍니다.\n",
      "\n",
      "ROUGE-1 Score: 0.23529411307958487\n",
      "ROUGE-2 Score: 0.0\n",
      "ROUGE-L Score: 0.17647058366782017\n",
      "Combined ROUGE Score: 13.725489891580168\n",
      "\n",
      "====================================================================================================\n"
     ]
    },
    {
     "name": "stderr",
     "output_type": "stream",
     "text": [
      " 99%|█████████▉| 494/499 [07:25<00:04,  1.13it/s]"
     ]
    },
    {
     "name": "stdout",
     "output_type": "stream",
     "text": [
      "==493==\n",
      "Pred Summary: #Person1#은 상사의 성차별적인 발언과 태도에 진절머리를 치고, #Person2#는 상사의 행동을 경시하며, #Person1#은 상사의 행동이 존중의 문제라고 주장한다.\n",
      "\n",
      "Gold Summary: #Person1#은 상사의 성차별적인 발언에 대해 #Person2#에게 불평한다. #Person1#은 그를 성희롱으로 신고할 계획이다. #Person2#는 #Person1#이 과장하고 있다고 생각하며, 그녀가 상사를 바꿀 수 없다고 생각한다.\n",
      "\n",
      "ROUGE-1 Score: 0.2222222174691359\n",
      "ROUGE-2 Score: 0.10810810328707107\n",
      "ROUGE-L Score: 0.2222222174691359\n",
      "Combined ROUGE Score: 18.418417940844765\n",
      "\n",
      "====================================================================================================\n"
     ]
    },
    {
     "name": "stderr",
     "output_type": "stream",
     "text": [
      " 99%|█████████▉| 495/499 [07:25<00:03,  1.29it/s]"
     ]
    },
    {
     "name": "stdout",
     "output_type": "stream",
     "text": [
      "==494==\n",
      "Pred Summary: #Person1#은 새해에 금연을 하고 커밍아웃을 하기로 결심했다.\n",
      "\n",
      "Gold Summary: #Person1#은 새해에 금연을 하고 커밍아웃하기로 결정했습니다. #Person2#는 #Person1#를 지지합니다.\n",
      "\n",
      "ROUGE-1 Score: 0.4999999950781251\n",
      "ROUGE-2 Score: 0.4285714236734694\n",
      "ROUGE-L Score: 0.4999999950781251\n",
      "Combined ROUGE Score: 47.619047127657325\n",
      "\n",
      "====================================================================================================\n"
     ]
    },
    {
     "name": "stderr",
     "output_type": "stream",
     "text": [
      " 99%|█████████▉| 496/499 [07:26<00:02,  1.17it/s]"
     ]
    },
    {
     "name": "stdout",
     "output_type": "stream",
     "text": [
      "==495==\n",
      "Pred Summary: #Person1#은 #Person2#가 조랑 결혼했는지 묻지만, #Person2#는 혼란스러워하며 조가 누구인지 모른다고 말한다. #Person1#은 #Person2#가 조를 사랑한다고 주장하지만, #Person2#는 처음 만났을 때 호감을 가졌지만 마음이 갈팡질팡한다고 말한다.\n",
      "\n",
      "Gold Summary: #Person1#은 #Person2#가 조와 결혼했다고 생각했다. #Person2#는 부인했다.\n",
      "\n",
      "ROUGE-1 Score: 0.21428571053571432\n",
      "ROUGE-2 Score: 0.0689655139595721\n",
      "ROUGE-L Score: 0.21428571053571432\n",
      "Combined ROUGE Score: 16.58456450103336\n",
      "\n",
      "====================================================================================================\n"
     ]
    },
    {
     "name": "stderr",
     "output_type": "stream",
     "text": [
      "100%|█████████▉| 497/499 [07:27<00:01,  1.14it/s]"
     ]
    },
    {
     "name": "stdout",
     "output_type": "stream",
     "text": [
      "==496==\n",
      "Pred Summary: #Person1#은 #Person2#의 차에서 이상한 소리가 나는 것을 브레이크 교체가 필요한 것으로 진단했다. #Person2#는 오늘 차를 돌려받을 수 없다는 사실에 실망했지만, #Person1#은 안전을 위해 차를 운전하지 말고 버스를 타는 것을 제안했다.\n",
      "\n",
      "Gold Summary: #Person2#의 차에서 이상한 소리가 납니다. #Person1#는 브레이크를 교체해야 할 것으로 생각하지만, #Person1#는 내일까지 그것을 고칠 수 없습니다. #Person2#는 오늘 밤에 공연을 보러 가고 싶어합니다; #Person1#는 #Person2#에게 버스를 이용할 것을 제안합니다.\n",
      "\n",
      "ROUGE-1 Score: 0.3636363586380166\n",
      "ROUGE-2 Score: 0.1379310294827588\n",
      "ROUGE-L Score: 0.3636363586380166\n",
      "Combined ROUGE Score: 28.840124891959736\n",
      "\n",
      "====================================================================================================\n"
     ]
    },
    {
     "name": "stderr",
     "output_type": "stream",
     "text": [
      "100%|█████████▉| 498/499 [07:28<00:00,  1.15it/s]"
     ]
    },
    {
     "name": "stdout",
     "output_type": "stream",
     "text": [
      "==497==\n",
      "Pred Summary: 고객은 아마존에서 구매한 책에서 53페이지가 빠져있음을 알렸다. 아마존은 고객이 빠진 부분을 사진으로 찍어 업로드하면 2일 내로 새 책을 보내주겠다고 안내했다. 고객은 이전 책을 가지고 있어도 된다.\n",
      "\n",
      "Gold Summary: #Person2#님이 아마존 고객 서비스에 전화하여 아마존에서 받은 책에 한 페이지가 빠져 있다고 합니다. #Person1#은 문제가 확인되면 새 책을 보내드릴 것이라고 말합니다.\n",
      "\n",
      "ROUGE-1 Score: 0.13333332835555575\n",
      "ROUGE-2 Score: 0.04444443950617339\n",
      "ROUGE-L Score: 0.13333332835555575\n",
      "Combined ROUGE Score: 10.370369873909496\n",
      "\n",
      "====================================================================================================\n"
     ]
    },
    {
     "name": "stderr",
     "output_type": "stream",
     "text": [
      "100%|██████████| 499/499 [07:29<00:00,  1.11it/s]"
     ]
    },
    {
     "name": "stdout",
     "output_type": "stream",
     "text": [
      "==498==\n",
      "Pred Summary: #Person1#과 #Person2#는 여름이 빠르게 지나가는 것에 대해 이야기합니다. #Person2#는 여름 휴가 동안 파티를 도와주는 회사에서 일할 것이라고 말합니다. 그들은 음식 준비, 서빙, 청소 등을 도와줍니다. #Person1#은 #Person2#의 직업이 꽤 멋져 보인다고 생각합니다.\n",
      "\n",
      "Gold Summary: #Person2#는 #Person1#에게 여름 휴가 동안 파티를 도와주는 회사에서 일할 것이라고 말한다. #Person1#는 그것이 멋진 직업이라고 생각한다.\n",
      "\n",
      "ROUGE-1 Score: 0.38297871891353563\n",
      "ROUGE-2 Score: 0.30434782169187147\n",
      "ROUGE-L Score: 0.38297871891353563\n",
      "Combined ROUGE Score: 35.67684198396475\n",
      "\n",
      "====================================================================================================\n",
      "Validation Average Score: 17.67771527868936\n"
     ]
    },
    {
     "name": "stderr",
     "output_type": "stream",
     "text": [
      "\n"
     ]
    }
   ],
   "source": [
    "# 변경된 prompt를 사용하여, validation data의 대화를 요약하고, 점수를 측정합니다.\n",
    "if __name__ == \"__main__\":\n",
    "    validate()"
   ]
  },
  {
   "cell_type": "markdown",
   "metadata": {},
   "source": [
    "### (선택) 변경된 Prompt로 test dataset에 대한 요약을 진행합니다.\n",
    "- 변경된 prompt를 통해 점수가 개선되었다면, test dataset에 대한 요약을 진행하고 제출합니다."
   ]
  },
  {
   "cell_type": "code",
   "execution_count": null,
   "metadata": {},
   "outputs": [],
   "source": [
    "# 변경된 prompt를 사용하여, test data의 대화를 요약하고, 결과를 확인합니다.\n",
    "if __name__ == \"__main__\":\n",
    "    output = inference()"
   ]
  },
  {
   "cell_type": "code",
   "execution_count": null,
   "metadata": {},
   "outputs": [],
   "source": [
    "output"
   ]
  }
 ],
 "metadata": {
  "accelerator": "GPU",
  "colab": {
   "gpuType": "T4",
   "machine_shape": "hm",
   "provenance": [],
   "toc_visible": true
  },
  "kernelspec": {
   "display_name": "Python 3 (ipykernel)",
   "language": "python",
   "name": "python3"
  },
  "language_info": {
   "codemirror_mode": {
    "name": "ipython",
    "version": 3
   },
   "file_extension": ".py",
   "mimetype": "text/x-python",
   "name": "python",
   "nbconvert_exporter": "python",
   "pygments_lexer": "ipython3",
   "version": "3.10.13"
  },
  "vscode": {
   "interpreter": {
    "hash": "d4d1e4263499bec80672ea0156c357c1ee493ec2b1c70f0acce89fc37c4a6abe"
   }
  },
  "widgets": {
   "application/vnd.jupyter.widget-state+json": {
    "083ea69907bb48d4a8fff919bac51aad": {
     "model_module": "@jupyter-widgets/base",
     "model_module_version": "1.2.0",
     "model_name": "LayoutModel",
     "state": {
      "_model_module": "@jupyter-widgets/base",
      "_model_module_version": "1.2.0",
      "_model_name": "LayoutModel",
      "_view_count": null,
      "_view_module": "@jupyter-widgets/base",
      "_view_module_version": "1.2.0",
      "_view_name": "LayoutView",
      "align_content": null,
      "align_items": null,
      "align_self": null,
      "border": null,
      "bottom": null,
      "display": null,
      "flex": null,
      "flex_flow": null,
      "grid_area": null,
      "grid_auto_columns": null,
      "grid_auto_flow": null,
      "grid_auto_rows": null,
      "grid_column": null,
      "grid_gap": null,
      "grid_row": null,
      "grid_template_areas": null,
      "grid_template_columns": null,
      "grid_template_rows": null,
      "height": null,
      "justify_content": null,
      "justify_items": null,
      "left": null,
      "margin": null,
      "max_height": null,
      "max_width": null,
      "min_height": null,
      "min_width": null,
      "object_fit": null,
      "object_position": null,
      "order": null,
      "overflow": null,
      "overflow_x": null,
      "overflow_y": null,
      "padding": null,
      "right": null,
      "top": null,
      "visibility": null,
      "width": null
     }
    },
    "08d05bc20a96432badd459e1ffaf868e": {
     "model_module": "@jupyter-widgets/controls",
     "model_module_version": "1.5.0",
     "model_name": "DescriptionStyleModel",
     "state": {
      "_model_module": "@jupyter-widgets/controls",
      "_model_module_version": "1.5.0",
      "_model_name": "DescriptionStyleModel",
      "_view_count": null,
      "_view_module": "@jupyter-widgets/base",
      "_view_module_version": "1.2.0",
      "_view_name": "StyleView",
      "description_width": ""
     }
    },
    "13651c09564a4337b8274c1cb436faa5": {
     "model_module": "@jupyter-widgets/controls",
     "model_module_version": "1.5.0",
     "model_name": "DescriptionStyleModel",
     "state": {
      "_model_module": "@jupyter-widgets/controls",
      "_model_module_version": "1.5.0",
      "_model_name": "DescriptionStyleModel",
      "_view_count": null,
      "_view_module": "@jupyter-widgets/base",
      "_view_module_version": "1.2.0",
      "_view_name": "StyleView",
      "description_width": ""
     }
    },
    "14f6c91d6c634379b498586c51e606e0": {
     "model_module": "@jupyter-widgets/base",
     "model_module_version": "1.2.0",
     "model_name": "LayoutModel",
     "state": {
      "_model_module": "@jupyter-widgets/base",
      "_model_module_version": "1.2.0",
      "_model_name": "LayoutModel",
      "_view_count": null,
      "_view_module": "@jupyter-widgets/base",
      "_view_module_version": "1.2.0",
      "_view_name": "LayoutView",
      "align_content": null,
      "align_items": null,
      "align_self": null,
      "border": null,
      "bottom": null,
      "display": null,
      "flex": null,
      "flex_flow": null,
      "grid_area": null,
      "grid_auto_columns": null,
      "grid_auto_flow": null,
      "grid_auto_rows": null,
      "grid_column": null,
      "grid_gap": null,
      "grid_row": null,
      "grid_template_areas": null,
      "grid_template_columns": null,
      "grid_template_rows": null,
      "height": null,
      "justify_content": null,
      "justify_items": null,
      "left": null,
      "margin": null,
      "max_height": null,
      "max_width": null,
      "min_height": null,
      "min_width": null,
      "object_fit": null,
      "object_position": null,
      "order": null,
      "overflow": null,
      "overflow_x": null,
      "overflow_y": null,
      "padding": null,
      "right": null,
      "top": null,
      "visibility": null,
      "width": null
     }
    },
    "21d2e54b5a0a4f79973a512105da43eb": {
     "model_module": "@jupyter-widgets/base",
     "model_module_version": "1.2.0",
     "model_name": "LayoutModel",
     "state": {
      "_model_module": "@jupyter-widgets/base",
      "_model_module_version": "1.2.0",
      "_model_name": "LayoutModel",
      "_view_count": null,
      "_view_module": "@jupyter-widgets/base",
      "_view_module_version": "1.2.0",
      "_view_name": "LayoutView",
      "align_content": null,
      "align_items": null,
      "align_self": null,
      "border": null,
      "bottom": null,
      "display": null,
      "flex": null,
      "flex_flow": null,
      "grid_area": null,
      "grid_auto_columns": null,
      "grid_auto_flow": null,
      "grid_auto_rows": null,
      "grid_column": null,
      "grid_gap": null,
      "grid_row": null,
      "grid_template_areas": null,
      "grid_template_columns": null,
      "grid_template_rows": null,
      "height": null,
      "justify_content": null,
      "justify_items": null,
      "left": null,
      "margin": null,
      "max_height": null,
      "max_width": null,
      "min_height": null,
      "min_width": null,
      "object_fit": null,
      "object_position": null,
      "order": null,
      "overflow": null,
      "overflow_x": null,
      "overflow_y": null,
      "padding": null,
      "right": null,
      "top": null,
      "visibility": null,
      "width": null
     }
    },
    "2307c6dcbe0141acb5e61baae19cade7": {
     "model_module": "@jupyter-widgets/base",
     "model_module_version": "1.2.0",
     "model_name": "LayoutModel",
     "state": {
      "_model_module": "@jupyter-widgets/base",
      "_model_module_version": "1.2.0",
      "_model_name": "LayoutModel",
      "_view_count": null,
      "_view_module": "@jupyter-widgets/base",
      "_view_module_version": "1.2.0",
      "_view_name": "LayoutView",
      "align_content": null,
      "align_items": null,
      "align_self": null,
      "border": null,
      "bottom": null,
      "display": null,
      "flex": null,
      "flex_flow": null,
      "grid_area": null,
      "grid_auto_columns": null,
      "grid_auto_flow": null,
      "grid_auto_rows": null,
      "grid_column": null,
      "grid_gap": null,
      "grid_row": null,
      "grid_template_areas": null,
      "grid_template_columns": null,
      "grid_template_rows": null,
      "height": null,
      "justify_content": null,
      "justify_items": null,
      "left": null,
      "margin": null,
      "max_height": null,
      "max_width": null,
      "min_height": null,
      "min_width": null,
      "object_fit": null,
      "object_position": null,
      "order": null,
      "overflow": null,
      "overflow_x": null,
      "overflow_y": null,
      "padding": null,
      "right": null,
      "top": null,
      "visibility": null,
      "width": null
     }
    },
    "285007b45236478ca147c6df752c8da4": {
     "model_module": "@jupyter-widgets/controls",
     "model_module_version": "1.5.0",
     "model_name": "DescriptionStyleModel",
     "state": {
      "_model_module": "@jupyter-widgets/controls",
      "_model_module_version": "1.5.0",
      "_model_name": "DescriptionStyleModel",
      "_view_count": null,
      "_view_module": "@jupyter-widgets/base",
      "_view_module_version": "1.2.0",
      "_view_name": "StyleView",
      "description_width": ""
     }
    },
    "2a190bda0b72407e9a953cd2104dd3b2": {
     "model_module": "@jupyter-widgets/controls",
     "model_module_version": "1.5.0",
     "model_name": "DescriptionStyleModel",
     "state": {
      "_model_module": "@jupyter-widgets/controls",
      "_model_module_version": "1.5.0",
      "_model_name": "DescriptionStyleModel",
      "_view_count": null,
      "_view_module": "@jupyter-widgets/base",
      "_view_module_version": "1.2.0",
      "_view_name": "StyleView",
      "description_width": ""
     }
    },
    "2fd3d7bbcd6948d8904d33001f95ea03": {
     "model_module": "@jupyter-widgets/controls",
     "model_module_version": "1.5.0",
     "model_name": "ProgressStyleModel",
     "state": {
      "_model_module": "@jupyter-widgets/controls",
      "_model_module_version": "1.5.0",
      "_model_name": "ProgressStyleModel",
      "_view_count": null,
      "_view_module": "@jupyter-widgets/base",
      "_view_module_version": "1.2.0",
      "_view_name": "StyleView",
      "bar_color": null,
      "description_width": ""
     }
    },
    "3645438ace1f4596a8dbc157b48c1521": {
     "model_module": "@jupyter-widgets/controls",
     "model_module_version": "1.5.0",
     "model_name": "HTMLModel",
     "state": {
      "_dom_classes": [],
      "_model_module": "@jupyter-widgets/controls",
      "_model_module_version": "1.5.0",
      "_model_name": "HTMLModel",
      "_view_count": null,
      "_view_module": "@jupyter-widgets/controls",
      "_view_module_version": "1.5.0",
      "_view_name": "HTMLView",
      "description": "",
      "description_tooltip": null,
      "layout": "IPY_MODEL_14f6c91d6c634379b498586c51e606e0",
      "placeholder": "​",
      "style": "IPY_MODEL_08d05bc20a96432badd459e1ffaf868e",
      "value": " 295/295 [00:00&lt;00:00, 21.3kB/s]"
     }
    },
    "3a04e871b74b45d7bf02fd33bb103577": {
     "model_module": "@jupyter-widgets/controls",
     "model_module_version": "1.5.0",
     "model_name": "ProgressStyleModel",
     "state": {
      "_model_module": "@jupyter-widgets/controls",
      "_model_module_version": "1.5.0",
      "_model_name": "ProgressStyleModel",
      "_view_count": null,
      "_view_module": "@jupyter-widgets/base",
      "_view_module_version": "1.2.0",
      "_view_name": "StyleView",
      "bar_color": null,
      "description_width": ""
     }
    },
    "3bcd6b6b956347b29e1efa20a1d00542": {
     "model_module": "@jupyter-widgets/base",
     "model_module_version": "1.2.0",
     "model_name": "LayoutModel",
     "state": {
      "_model_module": "@jupyter-widgets/base",
      "_model_module_version": "1.2.0",
      "_model_name": "LayoutModel",
      "_view_count": null,
      "_view_module": "@jupyter-widgets/base",
      "_view_module_version": "1.2.0",
      "_view_name": "LayoutView",
      "align_content": null,
      "align_items": null,
      "align_self": null,
      "border": null,
      "bottom": null,
      "display": null,
      "flex": null,
      "flex_flow": null,
      "grid_area": null,
      "grid_auto_columns": null,
      "grid_auto_flow": null,
      "grid_auto_rows": null,
      "grid_column": null,
      "grid_gap": null,
      "grid_row": null,
      "grid_template_areas": null,
      "grid_template_columns": null,
      "grid_template_rows": null,
      "height": null,
      "justify_content": null,
      "justify_items": null,
      "left": null,
      "margin": null,
      "max_height": null,
      "max_width": null,
      "min_height": null,
      "min_width": null,
      "object_fit": null,
      "object_position": null,
      "order": null,
      "overflow": null,
      "overflow_x": null,
      "overflow_y": null,
      "padding": null,
      "right": null,
      "top": null,
      "visibility": null,
      "width": null
     }
    },
    "3c284a826f6843f6aa47eacad478ac30": {
     "model_module": "@jupyter-widgets/controls",
     "model_module_version": "1.5.0",
     "model_name": "HTMLModel",
     "state": {
      "_dom_classes": [],
      "_model_module": "@jupyter-widgets/controls",
      "_model_module_version": "1.5.0",
      "_model_name": "HTMLModel",
      "_view_count": null,
      "_view_module": "@jupyter-widgets/controls",
      "_view_module_version": "1.5.0",
      "_view_name": "HTMLView",
      "description": "",
      "description_tooltip": null,
      "layout": "IPY_MODEL_affff1d8a89e4c14955d1b2aa39ff1ab",
      "placeholder": "​",
      "style": "IPY_MODEL_13651c09564a4337b8274c1cb436faa5",
      "value": "tokenizer.json: 100%"
     }
    },
    "45187decb58b4ad39ad532259c6277e5": {
     "model_module": "@jupyter-widgets/controls",
     "model_module_version": "1.5.0",
     "model_name": "DescriptionStyleModel",
     "state": {
      "_model_module": "@jupyter-widgets/controls",
      "_model_module_version": "1.5.0",
      "_model_name": "DescriptionStyleModel",
      "_view_count": null,
      "_view_module": "@jupyter-widgets/base",
      "_view_module_version": "1.2.0",
      "_view_name": "StyleView",
      "description_width": ""
     }
    },
    "4747b668e2fa4ab58a449446f80030f5": {
     "model_module": "@jupyter-widgets/controls",
     "model_module_version": "1.5.0",
     "model_name": "ProgressStyleModel",
     "state": {
      "_model_module": "@jupyter-widgets/controls",
      "_model_module_version": "1.5.0",
      "_model_name": "ProgressStyleModel",
      "_view_count": null,
      "_view_module": "@jupyter-widgets/base",
      "_view_module_version": "1.2.0",
      "_view_name": "StyleView",
      "bar_color": null,
      "description_width": ""
     }
    },
    "52095cc7087243ac916055e569fd22f3": {
     "model_module": "@jupyter-widgets/controls",
     "model_module_version": "1.5.0",
     "model_name": "FloatProgressModel",
     "state": {
      "_dom_classes": [],
      "_model_module": "@jupyter-widgets/controls",
      "_model_module_version": "1.5.0",
      "_model_name": "FloatProgressModel",
      "_view_count": null,
      "_view_module": "@jupyter-widgets/controls",
      "_view_module_version": "1.5.0",
      "_view_name": "ProgressView",
      "bar_style": "success",
      "description": "",
      "description_tooltip": null,
      "layout": "IPY_MODEL_c18f0e3bc35e44d9915c3f84cd282a26",
      "max": 109,
      "min": 0,
      "orientation": "horizontal",
      "style": "IPY_MODEL_3a04e871b74b45d7bf02fd33bb103577",
      "value": 109
     }
    },
    "58001a60eacc44d5b38a68648adccde4": {
     "model_module": "@jupyter-widgets/base",
     "model_module_version": "1.2.0",
     "model_name": "LayoutModel",
     "state": {
      "_model_module": "@jupyter-widgets/base",
      "_model_module_version": "1.2.0",
      "_model_name": "LayoutModel",
      "_view_count": null,
      "_view_module": "@jupyter-widgets/base",
      "_view_module_version": "1.2.0",
      "_view_name": "LayoutView",
      "align_content": null,
      "align_items": null,
      "align_self": null,
      "border": null,
      "bottom": null,
      "display": null,
      "flex": null,
      "flex_flow": null,
      "grid_area": null,
      "grid_auto_columns": null,
      "grid_auto_flow": null,
      "grid_auto_rows": null,
      "grid_column": null,
      "grid_gap": null,
      "grid_row": null,
      "grid_template_areas": null,
      "grid_template_columns": null,
      "grid_template_rows": null,
      "height": null,
      "justify_content": null,
      "justify_items": null,
      "left": null,
      "margin": null,
      "max_height": null,
      "max_width": null,
      "min_height": null,
      "min_width": null,
      "object_fit": null,
      "object_position": null,
      "order": null,
      "overflow": null,
      "overflow_x": null,
      "overflow_y": null,
      "padding": null,
      "right": null,
      "top": null,
      "visibility": null,
      "width": null
     }
    },
    "58c794fb7ce543a39fdf66d757f6eeab": {
     "model_module": "@jupyter-widgets/controls",
     "model_module_version": "1.5.0",
     "model_name": "HTMLModel",
     "state": {
      "_dom_classes": [],
      "_model_module": "@jupyter-widgets/controls",
      "_model_module_version": "1.5.0",
      "_model_name": "HTMLModel",
      "_view_count": null,
      "_view_module": "@jupyter-widgets/controls",
      "_view_module_version": "1.5.0",
      "_view_name": "HTMLView",
      "description": "",
      "description_tooltip": null,
      "layout": "IPY_MODEL_6f5fde5b0ac840a18bd5cc380e564ff6",
      "placeholder": "​",
      "style": "IPY_MODEL_45187decb58b4ad39ad532259c6277e5",
      "value": "tokenizer_config.json: 100%"
     }
    },
    "5dfcf310ca9e4e2794076098a5d69cea": {
     "model_module": "@jupyter-widgets/controls",
     "model_module_version": "1.5.0",
     "model_name": "HBoxModel",
     "state": {
      "_dom_classes": [],
      "_model_module": "@jupyter-widgets/controls",
      "_model_module_version": "1.5.0",
      "_model_name": "HBoxModel",
      "_view_count": null,
      "_view_module": "@jupyter-widgets/controls",
      "_view_module_version": "1.5.0",
      "_view_name": "HBoxView",
      "box_style": "",
      "children": [
       "IPY_MODEL_3c284a826f6843f6aa47eacad478ac30",
       "IPY_MODEL_6caedd60c6b747469c82930be1f95d6d",
       "IPY_MODEL_64f2218f899d446393cfea44f206f0a6"
      ],
      "layout": "IPY_MODEL_d068f541df3f438dbd5138863e64b2f2"
     }
    },
    "64f2218f899d446393cfea44f206f0a6": {
     "model_module": "@jupyter-widgets/controls",
     "model_module_version": "1.5.0",
     "model_name": "HTMLModel",
     "state": {
      "_dom_classes": [],
      "_model_module": "@jupyter-widgets/controls",
      "_model_module_version": "1.5.0",
      "_model_name": "HTMLModel",
      "_view_count": null,
      "_view_module": "@jupyter-widgets/controls",
      "_view_module_version": "1.5.0",
      "_view_name": "HTMLView",
      "description": "",
      "description_tooltip": null,
      "layout": "IPY_MODEL_d22fbc2c5dbf422399e496c9b500025a",
      "placeholder": "​",
      "style": "IPY_MODEL_775d8bbeceac4e2da4f21ab6235c89ed",
      "value": " 682k/682k [00:00&lt;00:00, 5.40MB/s]"
     }
    },
    "6caedd60c6b747469c82930be1f95d6d": {
     "model_module": "@jupyter-widgets/controls",
     "model_module_version": "1.5.0",
     "model_name": "FloatProgressModel",
     "state": {
      "_dom_classes": [],
      "_model_module": "@jupyter-widgets/controls",
      "_model_module_version": "1.5.0",
      "_model_name": "FloatProgressModel",
      "_view_count": null,
      "_view_module": "@jupyter-widgets/controls",
      "_view_module_version": "1.5.0",
      "_view_name": "ProgressView",
      "bar_style": "success",
      "description": "",
      "description_tooltip": null,
      "layout": "IPY_MODEL_3bcd6b6b956347b29e1efa20a1d00542",
      "max": 682133,
      "min": 0,
      "orientation": "horizontal",
      "style": "IPY_MODEL_2fd3d7bbcd6948d8904d33001f95ea03",
      "value": 682133
     }
    },
    "6f5fde5b0ac840a18bd5cc380e564ff6": {
     "model_module": "@jupyter-widgets/base",
     "model_module_version": "1.2.0",
     "model_name": "LayoutModel",
     "state": {
      "_model_module": "@jupyter-widgets/base",
      "_model_module_version": "1.2.0",
      "_model_name": "LayoutModel",
      "_view_count": null,
      "_view_module": "@jupyter-widgets/base",
      "_view_module_version": "1.2.0",
      "_view_name": "LayoutView",
      "align_content": null,
      "align_items": null,
      "align_self": null,
      "border": null,
      "bottom": null,
      "display": null,
      "flex": null,
      "flex_flow": null,
      "grid_area": null,
      "grid_auto_columns": null,
      "grid_auto_flow": null,
      "grid_auto_rows": null,
      "grid_column": null,
      "grid_gap": null,
      "grid_row": null,
      "grid_template_areas": null,
      "grid_template_columns": null,
      "grid_template_rows": null,
      "height": null,
      "justify_content": null,
      "justify_items": null,
      "left": null,
      "margin": null,
      "max_height": null,
      "max_width": null,
      "min_height": null,
      "min_width": null,
      "object_fit": null,
      "object_position": null,
      "order": null,
      "overflow": null,
      "overflow_x": null,
      "overflow_y": null,
      "padding": null,
      "right": null,
      "top": null,
      "visibility": null,
      "width": null
     }
    },
    "775d8bbeceac4e2da4f21ab6235c89ed": {
     "model_module": "@jupyter-widgets/controls",
     "model_module_version": "1.5.0",
     "model_name": "DescriptionStyleModel",
     "state": {
      "_model_module": "@jupyter-widgets/controls",
      "_model_module_version": "1.5.0",
      "_model_name": "DescriptionStyleModel",
      "_view_count": null,
      "_view_module": "@jupyter-widgets/base",
      "_view_module_version": "1.2.0",
      "_view_name": "StyleView",
      "description_width": ""
     }
    },
    "8a6464a355f7464c989033965d418a8a": {
     "model_module": "@jupyter-widgets/controls",
     "model_module_version": "1.5.0",
     "model_name": "FloatProgressModel",
     "state": {
      "_dom_classes": [],
      "_model_module": "@jupyter-widgets/controls",
      "_model_module_version": "1.5.0",
      "_model_name": "FloatProgressModel",
      "_view_count": null,
      "_view_module": "@jupyter-widgets/controls",
      "_view_module_version": "1.5.0",
      "_view_name": "ProgressView",
      "bar_style": "success",
      "description": "",
      "description_tooltip": null,
      "layout": "IPY_MODEL_2307c6dcbe0141acb5e61baae19cade7",
      "max": 295,
      "min": 0,
      "orientation": "horizontal",
      "style": "IPY_MODEL_4747b668e2fa4ab58a449446f80030f5",
      "value": 295
     }
    },
    "a15af9e8158f4903b9189f3d322a5ef3": {
     "model_module": "@jupyter-widgets/controls",
     "model_module_version": "1.5.0",
     "model_name": "HTMLModel",
     "state": {
      "_dom_classes": [],
      "_model_module": "@jupyter-widgets/controls",
      "_model_module_version": "1.5.0",
      "_model_name": "HTMLModel",
      "_view_count": null,
      "_view_module": "@jupyter-widgets/controls",
      "_view_module_version": "1.5.0",
      "_view_name": "HTMLView",
      "description": "",
      "description_tooltip": null,
      "layout": "IPY_MODEL_ac00d6c2cf974b33a628acb3f1471316",
      "placeholder": "​",
      "style": "IPY_MODEL_285007b45236478ca147c6df752c8da4",
      "value": " 109/109 [00:00&lt;00:00, 9.44kB/s]"
     }
    },
    "ac00d6c2cf974b33a628acb3f1471316": {
     "model_module": "@jupyter-widgets/base",
     "model_module_version": "1.2.0",
     "model_name": "LayoutModel",
     "state": {
      "_model_module": "@jupyter-widgets/base",
      "_model_module_version": "1.2.0",
      "_model_name": "LayoutModel",
      "_view_count": null,
      "_view_module": "@jupyter-widgets/base",
      "_view_module_version": "1.2.0",
      "_view_name": "LayoutView",
      "align_content": null,
      "align_items": null,
      "align_self": null,
      "border": null,
      "bottom": null,
      "display": null,
      "flex": null,
      "flex_flow": null,
      "grid_area": null,
      "grid_auto_columns": null,
      "grid_auto_flow": null,
      "grid_auto_rows": null,
      "grid_column": null,
      "grid_gap": null,
      "grid_row": null,
      "grid_template_areas": null,
      "grid_template_columns": null,
      "grid_template_rows": null,
      "height": null,
      "justify_content": null,
      "justify_items": null,
      "left": null,
      "margin": null,
      "max_height": null,
      "max_width": null,
      "min_height": null,
      "min_width": null,
      "object_fit": null,
      "object_position": null,
      "order": null,
      "overflow": null,
      "overflow_x": null,
      "overflow_y": null,
      "padding": null,
      "right": null,
      "top": null,
      "visibility": null,
      "width": null
     }
    },
    "affff1d8a89e4c14955d1b2aa39ff1ab": {
     "model_module": "@jupyter-widgets/base",
     "model_module_version": "1.2.0",
     "model_name": "LayoutModel",
     "state": {
      "_model_module": "@jupyter-widgets/base",
      "_model_module_version": "1.2.0",
      "_model_name": "LayoutModel",
      "_view_count": null,
      "_view_module": "@jupyter-widgets/base",
      "_view_module_version": "1.2.0",
      "_view_name": "LayoutView",
      "align_content": null,
      "align_items": null,
      "align_self": null,
      "border": null,
      "bottom": null,
      "display": null,
      "flex": null,
      "flex_flow": null,
      "grid_area": null,
      "grid_auto_columns": null,
      "grid_auto_flow": null,
      "grid_auto_rows": null,
      "grid_column": null,
      "grid_gap": null,
      "grid_row": null,
      "grid_template_areas": null,
      "grid_template_columns": null,
      "grid_template_rows": null,
      "height": null,
      "justify_content": null,
      "justify_items": null,
      "left": null,
      "margin": null,
      "max_height": null,
      "max_width": null,
      "min_height": null,
      "min_width": null,
      "object_fit": null,
      "object_position": null,
      "order": null,
      "overflow": null,
      "overflow_x": null,
      "overflow_y": null,
      "padding": null,
      "right": null,
      "top": null,
      "visibility": null,
      "width": null
     }
    },
    "c18f0e3bc35e44d9915c3f84cd282a26": {
     "model_module": "@jupyter-widgets/base",
     "model_module_version": "1.2.0",
     "model_name": "LayoutModel",
     "state": {
      "_model_module": "@jupyter-widgets/base",
      "_model_module_version": "1.2.0",
      "_model_name": "LayoutModel",
      "_view_count": null,
      "_view_module": "@jupyter-widgets/base",
      "_view_module_version": "1.2.0",
      "_view_name": "LayoutView",
      "align_content": null,
      "align_items": null,
      "align_self": null,
      "border": null,
      "bottom": null,
      "display": null,
      "flex": null,
      "flex_flow": null,
      "grid_area": null,
      "grid_auto_columns": null,
      "grid_auto_flow": null,
      "grid_auto_rows": null,
      "grid_column": null,
      "grid_gap": null,
      "grid_row": null,
      "grid_template_areas": null,
      "grid_template_columns": null,
      "grid_template_rows": null,
      "height": null,
      "justify_content": null,
      "justify_items": null,
      "left": null,
      "margin": null,
      "max_height": null,
      "max_width": null,
      "min_height": null,
      "min_width": null,
      "object_fit": null,
      "object_position": null,
      "order": null,
      "overflow": null,
      "overflow_x": null,
      "overflow_y": null,
      "padding": null,
      "right": null,
      "top": null,
      "visibility": null,
      "width": null
     }
    },
    "d068f541df3f438dbd5138863e64b2f2": {
     "model_module": "@jupyter-widgets/base",
     "model_module_version": "1.2.0",
     "model_name": "LayoutModel",
     "state": {
      "_model_module": "@jupyter-widgets/base",
      "_model_module_version": "1.2.0",
      "_model_name": "LayoutModel",
      "_view_count": null,
      "_view_module": "@jupyter-widgets/base",
      "_view_module_version": "1.2.0",
      "_view_name": "LayoutView",
      "align_content": null,
      "align_items": null,
      "align_self": null,
      "border": null,
      "bottom": null,
      "display": null,
      "flex": null,
      "flex_flow": null,
      "grid_area": null,
      "grid_auto_columns": null,
      "grid_auto_flow": null,
      "grid_auto_rows": null,
      "grid_column": null,
      "grid_gap": null,
      "grid_row": null,
      "grid_template_areas": null,
      "grid_template_columns": null,
      "grid_template_rows": null,
      "height": null,
      "justify_content": null,
      "justify_items": null,
      "left": null,
      "margin": null,
      "max_height": null,
      "max_width": null,
      "min_height": null,
      "min_width": null,
      "object_fit": null,
      "object_position": null,
      "order": null,
      "overflow": null,
      "overflow_x": null,
      "overflow_y": null,
      "padding": null,
      "right": null,
      "top": null,
      "visibility": null,
      "width": null
     }
    },
    "d22fbc2c5dbf422399e496c9b500025a": {
     "model_module": "@jupyter-widgets/base",
     "model_module_version": "1.2.0",
     "model_name": "LayoutModel",
     "state": {
      "_model_module": "@jupyter-widgets/base",
      "_model_module_version": "1.2.0",
      "_model_name": "LayoutModel",
      "_view_count": null,
      "_view_module": "@jupyter-widgets/base",
      "_view_module_version": "1.2.0",
      "_view_name": "LayoutView",
      "align_content": null,
      "align_items": null,
      "align_self": null,
      "border": null,
      "bottom": null,
      "display": null,
      "flex": null,
      "flex_flow": null,
      "grid_area": null,
      "grid_auto_columns": null,
      "grid_auto_flow": null,
      "grid_auto_rows": null,
      "grid_column": null,
      "grid_gap": null,
      "grid_row": null,
      "grid_template_areas": null,
      "grid_template_columns": null,
      "grid_template_rows": null,
      "height": null,
      "justify_content": null,
      "justify_items": null,
      "left": null,
      "margin": null,
      "max_height": null,
      "max_width": null,
      "min_height": null,
      "min_width": null,
      "object_fit": null,
      "object_position": null,
      "order": null,
      "overflow": null,
      "overflow_x": null,
      "overflow_y": null,
      "padding": null,
      "right": null,
      "top": null,
      "visibility": null,
      "width": null
     }
    },
    "de1a3f7701c243839fe03b930a9b9e30": {
     "model_module": "@jupyter-widgets/controls",
     "model_module_version": "1.5.0",
     "model_name": "HBoxModel",
     "state": {
      "_dom_classes": [],
      "_model_module": "@jupyter-widgets/controls",
      "_model_module_version": "1.5.0",
      "_model_name": "HBoxModel",
      "_view_count": null,
      "_view_module": "@jupyter-widgets/controls",
      "_view_module_version": "1.5.0",
      "_view_name": "HBoxView",
      "box_style": "",
      "children": [
       "IPY_MODEL_ebc22683058a4f229c5588e52fc93536",
       "IPY_MODEL_52095cc7087243ac916055e569fd22f3",
       "IPY_MODEL_a15af9e8158f4903b9189f3d322a5ef3"
      ],
      "layout": "IPY_MODEL_21d2e54b5a0a4f79973a512105da43eb"
     }
    },
    "e920dbc173c045d1a32143349f1dff8e": {
     "model_module": "@jupyter-widgets/controls",
     "model_module_version": "1.5.0",
     "model_name": "HBoxModel",
     "state": {
      "_dom_classes": [],
      "_model_module": "@jupyter-widgets/controls",
      "_model_module_version": "1.5.0",
      "_model_name": "HBoxModel",
      "_view_count": null,
      "_view_module": "@jupyter-widgets/controls",
      "_view_module_version": "1.5.0",
      "_view_name": "HBoxView",
      "box_style": "",
      "children": [
       "IPY_MODEL_58c794fb7ce543a39fdf66d757f6eeab",
       "IPY_MODEL_8a6464a355f7464c989033965d418a8a",
       "IPY_MODEL_3645438ace1f4596a8dbc157b48c1521"
      ],
      "layout": "IPY_MODEL_58001a60eacc44d5b38a68648adccde4"
     }
    },
    "ebc22683058a4f229c5588e52fc93536": {
     "model_module": "@jupyter-widgets/controls",
     "model_module_version": "1.5.0",
     "model_name": "HTMLModel",
     "state": {
      "_dom_classes": [],
      "_model_module": "@jupyter-widgets/controls",
      "_model_module_version": "1.5.0",
      "_model_name": "HTMLModel",
      "_view_count": null,
      "_view_module": "@jupyter-widgets/controls",
      "_view_module_version": "1.5.0",
      "_view_name": "HTMLView",
      "description": "",
      "description_tooltip": null,
      "layout": "IPY_MODEL_083ea69907bb48d4a8fff919bac51aad",
      "placeholder": "​",
      "style": "IPY_MODEL_2a190bda0b72407e9a953cd2104dd3b2",
      "value": "special_tokens_map.json: 100%"
     }
    }
   }
  }
 },
 "nbformat": 4,
 "nbformat_minor": 4
}
